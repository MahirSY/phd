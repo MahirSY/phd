{
 "cells": [
  {
   "cell_type": "code",
   "execution_count": 1,
   "metadata": {},
   "outputs": [],
   "source": [
    "%matplotlib inline\n",
    "import matplotlib.pyplot as plt\n",
    "import seaborn as sns; sns.set()  # for plot styling\n",
    "import numpy as np\n",
    "from scipy.spatial.distance import cdist\n",
    "from sklearn.datasets import load_digits\n",
    "from numpy.random import choice\n",
    "from sklearn.metrics import pairwise_distances_argmin, pairwise_distances, accuracy_score\n",
    "import random\n",
    "from sklearn.metrics import adjusted_rand_score, silhouette_samples, roc_auc_score\n",
    "from scipy.stats import entropy\n",
    "import pandas as pd\n",
    "from scipy.stats import mode\n",
    "from tqdm import tqdm"
   ]
  },
  {
   "cell_type": "code",
   "execution_count": 2,
   "metadata": {},
   "outputs": [],
   "source": [
    "def add_dist(n_clusters, clust_labels, target_labels):\n",
    "    true_list = []\n",
    "    false_list = []\n",
    "    entropy_true_res = []\n",
    "    entropy_false_res = []\n",
    "    for it in range(n_clusters):\n",
    "        true_list = list(\n",
    "            target_labels[clust_labels == it] == it\n",
    "        ) + [True]\n",
    "        false_list = list(\n",
    "            target_labels[clust_labels == it] == it\n",
    "        ) + [False]\n",
    "        entropy_true_res.append(entropy(true_list))\n",
    "        entropy_false = entropy(false_list)\n",
    "        if str(entropy_false) == \"nan\":\n",
    "            entropy_false_res.append(0)\n",
    "        else:\n",
    "            entropy_false_res.append(entropy_false)\n",
    "    return entropy_true_res, entropy_false_res"
   ]
  },
  {
   "cell_type": "markdown",
   "metadata": {},
   "source": [
    "## Базовая реализация k-means"
   ]
  },
  {
   "cell_type": "code",
   "execution_count": 3,
   "metadata": {},
   "outputs": [],
   "source": [
    "def kmeans_find_clusters(X, n_clusters, iter_num=50):\n",
    "    # 1. Randomly choose clusters\n",
    "\n",
    "    ind = np.random.permutation(X.shape[0])[:n_clusters]\n",
    "    centers = X[ind]\n",
    "    \n",
    "    for _ in range(iter_num):\n",
    "        # 2a. Assign labels based on closest center\n",
    "        labels = pairwise_distances_argmin(X, centers)\n",
    "        \n",
    "        # 2b. Find new centers from means of points\n",
    "        new_centers = np.array([X[labels == i].mean(0) for i in range(n_clusters)])\n",
    "        \n",
    "        # 2c. Check for convergence\n",
    "        if np.all(centers == new_centers):\n",
    "            break\n",
    "        centers = new_centers\n",
    "    \n",
    "    return centers, labels"
   ]
  },
  {
   "cell_type": "code",
   "execution_count": 4,
   "metadata": {},
   "outputs": [
    {
     "data": {
      "text/plain": [
       "(1797, 64)"
      ]
     },
     "execution_count": 4,
     "metadata": {},
     "output_type": "execute_result"
    }
   ],
   "source": [
    "digits = load_digits()\n",
    "digits.data.shape"
   ]
  },
  {
   "cell_type": "code",
   "execution_count": 5,
   "metadata": {},
   "outputs": [
    {
     "data": {
      "text/plain": [
       "(10, 64)"
      ]
     },
     "execution_count": 5,
     "metadata": {},
     "output_type": "execute_result"
    }
   ],
   "source": [
    "centers, labels = kmeans_find_clusters(digits.data, n_clusters=10, iter_num=50)\n",
    "centers.shape"
   ]
  },
  {
   "cell_type": "code",
   "execution_count": 6,
   "metadata": {},
   "outputs": [
    {
     "data": {
      "image/png": "[encoded data removed]",
      "text/plain": [
       "<Figure size 576x216 with 10 Axes>"
      ]
     },
     "metadata": {},
     "output_type": "display_data"
    }
   ],
   "source": [
    "fig, ax = plt.subplots(2, 5, figsize=(8, 3))\n",
    "centers_img = centers.reshape(10, 8, 8)\n",
    "for axi, center in zip(ax.flat, centers_img):\n",
    "    axi.set(xticks=[], yticks=[])\n",
    "    axi.imshow(center, interpolation='nearest', cmap=plt.cm.binary)"
   ]
  },
  {
   "cell_type": "code",
   "execution_count": null,
   "metadata": {},
   "outputs": [],
   "source": []
  },
  {
   "cell_type": "markdown",
   "metadata": {},
   "source": [
    "## Точность кластеризации с помощью accuracy"
   ]
  },
  {
   "cell_type": "code",
   "execution_count": 7,
   "metadata": {},
   "outputs": [
    {
     "data": {
      "text/plain": [
       "0.7790762381747357"
      ]
     },
     "execution_count": 7,
     "metadata": {},
     "output_type": "execute_result"
    }
   ],
   "source": [
    "from scipy.stats import mode\n",
    "\n",
    "labels_dig = np.zeros_like(labels)\n",
    "for i in range(10):\n",
    "    mask = (labels == i)\n",
    "    labels_dig[mask] = mode(digits.target[mask])[0]\n",
    "    \n",
    "from sklearn.metrics import accuracy_score\n",
    "accuracy_score(digits.target, labels_dig)"
   ]
  },
  {
   "cell_type": "markdown",
   "metadata": {},
   "source": [
    "##  Adjusted Rand index"
   ]
  },
  {
   "cell_type": "code",
   "execution_count": 8,
   "metadata": {},
   "outputs": [
    {
     "data": {
      "text/plain": [
       "0.6442511116588939"
      ]
     },
     "execution_count": 8,
     "metadata": {},
     "output_type": "execute_result"
    }
   ],
   "source": [
    "adjusted_rand_score(digits.target, labels_dig)"
   ]
  },
  {
   "cell_type": "markdown",
   "metadata": {},
   "source": [
    "## Silhouette Coefficient"
   ]
  },
  {
   "cell_type": "code",
   "execution_count": 9,
   "metadata": {},
   "outputs": [
    {
     "data": {
      "text/plain": [
       "0.17756477757478153"
      ]
     },
     "execution_count": 9,
     "metadata": {},
     "output_type": "execute_result"
    }
   ],
   "source": [
    "np.mean(silhouette_samples(digits.data, labels))"
   ]
  },
  {
   "cell_type": "markdown",
   "metadata": {},
   "source": [
    "## K++ means"
   ]
  },
  {
   "cell_type": "code",
   "execution_count": 10,
   "metadata": {},
   "outputs": [],
   "source": [
    "def get_centers(X, n_clusters, iter_num=50, ind_rand = True):\n",
    "    # 1. Randomly choose 1 center\n",
    "    if ind_rand:\n",
    "        ind = random.randint(0, len(X) - 1)\n",
    "    else:\n",
    "        ind = 0\n",
    "    # 1. Randomly choose 1 center\n",
    "    centers = [X[ind]]\n",
    "    distance = np.array(cdist(X, centers)).T #distances between centers and points\n",
    "    min_distance_1 = distance[0] #distances to the closest centers\n",
    "    \n",
    "    for i in range(1, n_clusters):\n",
    "        distance = np.array(cdist(X, centers)).T\n",
    "        min_distance = distance[0]\n",
    "        for j in range(len(distance)):\n",
    "            for k in range(len(min_distance)):\n",
    "                min_distance[k] = min(min_distance[k], distance[j][k])\n",
    "        min_distance = np.array(min_distance)**2\n",
    "        indexes = np.arange(0, len(X))\n",
    "        tmp = choice(indexes, p=min_distance/np.sum(min_distance)) #choose with prob=distance^2\n",
    "        centers.append(X[tmp]) # add new center\n",
    "    return centers\n",
    "# lst_centers = get_centers(X, n_clusters, iter_num=50, ind_rand = True)"
   ]
  },
  {
   "cell_type": "code",
   "execution_count": 11,
   "metadata": {},
   "outputs": [],
   "source": [
    "def k_plusplus_means_find_clusters(X, n_clusters, lst_centers, iter_num=50, ind_rand = True):\n",
    "    # 1. Randomly choose 1 center\n",
    "    if ind_rand:\n",
    "        ind = random.randint(0, len(X) - 1)\n",
    "    else:\n",
    "        ind = 0\n",
    "    # 1. Randomly choose 1 center\n",
    "    centers = [X[ind]]\n",
    "    distance = np.array(cdist(X, centers)).T #distances between centers and points\n",
    "    min_distance_1 = distance[0] #distances to the closest centers\n",
    "    \n",
    "    for i in range(1, n_clusters):\n",
    "        distance = np.array(cdist(X, centers)).T\n",
    "        min_distance = distance[0]\n",
    "        for j in range(len(distance)):\n",
    "            for k in range(len(min_distance)):\n",
    "                min_distance[k] = min(min_distance[k], distance[j][k])\n",
    "        min_distance = np.array(min_distance)**2\n",
    "        indexes = np.arange(0, len(X))\n",
    "        tmp = choice(indexes, p=min_distance/np.sum(min_distance)) #choose with prob=distance^2\n",
    "        centers.append(X[tmp]) # add new center\n",
    "#     centers = lst_centers\n",
    "\n",
    "    \n",
    "    for _ in range(iter_num):\n",
    "        # 2a. Assign labels based on closest center\n",
    "#         labels = pairwise_distances_argmin(X, centers)\n",
    "        label = np.argmin(pairwise_distances(X, centers))\n",
    "        \n",
    "        # 2b. Find new centers from means of points\n",
    "        new_centers = np.array([X[labels == i].mean(0) for i in range(n_clusters)])\n",
    "        \n",
    "        # 2c. Check for convergence\n",
    "        if np.all(centers == new_centers):\n",
    "            break\n",
    "        centers = new_centers \n",
    "    \n",
    "    return centers, labels"
   ]
  },
  {
   "cell_type": "code",
   "execution_count": 12,
   "metadata": {},
   "outputs": [],
   "source": [
    "def k_plusplus_means_find_clusters(X, n_clusters, lst_centers, iter_num=50):\n",
    "#     # 1. Randomly choose 1 center\n",
    "#     ind = random.randint(0, len(X) - 1)\n",
    "#     centers = [X[ind]]\n",
    "#     distance = np.array(cdist(X, centers)).T #distances between centers and points\n",
    "#     min_distance_1 = distance[0] #distances to the closest centers\n",
    "    \n",
    "#     for i in range(1, n_clusters):\n",
    "#         distance = np.array(cdist(X, centers)).T\n",
    "#         min_distance = distance[0]\n",
    "#         for j in range(len(distance)):\n",
    "#             for k in range(len(min_distance)):\n",
    "#                 min_distance[k] = min(min_distance[k], distance[j][k])\n",
    "#         min_distance = np.array(min_distance)**2\n",
    "#         indexes = np.arange(0, len(X))\n",
    "#         tmp = choice(indexes, p=min_distance/np.sum(min_distance)) #choose with prob=distance^2\n",
    "#         centers.append(X[tmp]) # add new center\n",
    "    centers = lst_centers\n",
    "\n",
    "    \n",
    "    for _ in range(iter_num):\n",
    "        # 2a. Assign labels based on closest center\n",
    "        labels = pairwise_distances_argmin(X, centers)\n",
    "        \n",
    "        # 2b. Find new centers from means of points\n",
    "        new_centers = np.array([X[labels == i].mean(0) for i in range(n_clusters)])\n",
    "        \n",
    "        # 2c. Check for convergence\n",
    "        if np.all(centers == new_centers):\n",
    "            break\n",
    "        centers = new_centers\n",
    "    \n",
    "    return centers, labels"
   ]
  },
  {
   "cell_type": "code",
   "execution_count": 13,
   "metadata": {},
   "outputs": [],
   "source": [
    "def k_plusplus_means_find_clusters_wuth_entropy(X, n_clusters, target_labels, lst_centers, iter_num=50, alpha = 0):\n",
    "#     # 1. Randomly choose 1 center\n",
    "#     if ind_rand:\n",
    "#         ind = random.randint(0, len(X) - 1)\n",
    "#     else:\n",
    "#         ind = 0\n",
    "#     # 1. Randomly choose 1 center\n",
    "#     centers = [X[ind]]\n",
    "#     distance = np.array(cdist(X, centers)).T #distances between centers and points\n",
    "#     min_distance_1 = distance[0] #distances to the closest centers\n",
    "    \n",
    "#     for i in range(1, n_clusters):\n",
    "#         distance = np.array(cdist(X, centers)).T\n",
    "#         min_distance = distance[0]\n",
    "#         for j in range(len(distance)):\n",
    "#             for k in range(len(min_distance)):\n",
    "#                 min_distance[k] = min(min_distance[k], distance[j][k])\n",
    "#         min_distance = np.array(min_distance)**2\n",
    "#         indexes = np.arange(0, len(X))\n",
    "#         tmp = choice(indexes, p=min_distance/np.sum(min_distance)) #choose with prob=distance^2\n",
    "#         centers.append(X[tmp]) # add new center\n",
    "    centers = lst_centers\n",
    "\n",
    "    \n",
    "    for _ in range(iter_num):\n",
    "\n",
    "        if _ == 0:\n",
    "            # 2a. Assign labels based on closest center\n",
    "            labels = pairwise_distances_argmin(X, centers)\n",
    "\n",
    "            # 2b. Find new centers from means of points\n",
    "            new_centers = np.array([X[labels == i].mean(0) for i in range(n_clusters)])\n",
    "\n",
    "            # 2c. Check for convergence\n",
    "            if np.all(centers == new_centers):\n",
    "                break\n",
    "            centers = new_centers\n",
    "            old_labels = labels\n",
    "        else:\n",
    "\n",
    "            # 2a. Assign labels based on closest center\n",
    "            entropy_true_res, entropy_false_res = \\\n",
    "                add_dist(n_clusters, old_labels, target_labels)\n",
    "            \n",
    "            entropy_df = pd.DataFrame([], columns=range(n_clusters))\n",
    "            \n",
    "            for it in range(n_clusters):\n",
    "                entropy_df[it] = ((target_labels == it)*entropy_true_res[it]\\\n",
    "                + (target_labels != it)*entropy_false_res[it])\n",
    "                \n",
    "            dist_to_centers = pd.DataFrame(pairwise_distances(X, centers))\\\n",
    "                + alpha * entropy_df\n",
    "\n",
    "    #         labels = pairwise_distances_argmin(X, centers)\n",
    "            labels = np.argmin(np.array(dist_to_centers), axis = 1)\n",
    "\n",
    "            # 2b. Find new centers from means of points\n",
    "            new_centers = np.array([X[labels == i].mean(0) for i in range(n_clusters)])\n",
    "\n",
    "            # 2c. Check for convergence\n",
    "            if np.all(centers == new_centers):\n",
    "                break\n",
    "            centers = new_centers\n",
    "            old_labels = labels\n",
    "    \n",
    "    return centers, labels"
   ]
  },
  {
   "cell_type": "markdown",
   "metadata": {},
   "source": [
    "## Датасет MNIST"
   ]
  },
  {
   "cell_type": "code",
   "execution_count": 14,
   "metadata": {},
   "outputs": [
    {
     "data": {
      "text/plain": [
       "(1797, 64)"
      ]
     },
     "execution_count": 14,
     "metadata": {},
     "output_type": "execute_result"
    }
   ],
   "source": [
    "digits = load_digits()\n",
    "digits.data.shape"
   ]
  },
  {
   "cell_type": "code",
   "execution_count": 15,
   "metadata": {},
   "outputs": [],
   "source": [
    "initial_centers = get_centers(digits.data, n_clusters=10, iter_num=50, ind_rand = True)"
   ]
  },
  {
   "cell_type": "code",
   "execution_count": 16,
   "metadata": {},
   "outputs": [
    {
     "data": {
      "text/plain": [
       "(10, 64)"
      ]
     },
     "execution_count": 16,
     "metadata": {},
     "output_type": "execute_result"
    }
   ],
   "source": [
    "centers, labels = k_plusplus_means_find_clusters(digits.data, lst_centers = initial_centers, n_clusters=10, iter_num=50)\n",
    "centers.shape"
   ]
  },
  {
   "cell_type": "code",
   "execution_count": 17,
   "metadata": {},
   "outputs": [
    {
     "name": "stdout",
     "output_type": "stream",
     "text": [
      "0.7390094602114635\n"
     ]
    }
   ],
   "source": [
    "labels_dig = np.zeros_like(labels)\n",
    "for i in range(10):\n",
    "    mask = (labels == i)\n",
    "    labels_dig[mask] = mode(digits.target[mask])[0]\n",
    "\n",
    "print(accuracy_score(digits.target, labels_dig))"
   ]
  },
  {
   "cell_type": "code",
   "execution_count": 18,
   "metadata": {},
   "outputs": [
    {
     "data": {
      "image/png": "[encoded data removed]",
      "text/plain": [
       "<Figure size 576x216 with 10 Axes>"
      ]
     },
     "metadata": {},
     "output_type": "display_data"
    }
   ],
   "source": [
    "fig, ax = plt.subplots(2, 5, figsize=(8, 3))\n",
    "centers_img = centers.reshape(10, 8, 8)\n",
    "for axi, center in zip(ax.flat, centers_img):\n",
    "    axi.set(xticks=[], yticks=[])\n",
    "    axi.imshow(center, interpolation='nearest', cmap=plt.cm.binary)"
   ]
  },
  {
   "cell_type": "code",
   "execution_count": 19,
   "metadata": {},
   "outputs": [
    {
     "data": {
      "text/plain": [
       "array([0, 4, 1, 3, 4, 9, 6, 7, 9, 9])"
      ]
     },
     "execution_count": 19,
     "metadata": {},
     "output_type": "execute_result"
    }
   ],
   "source": [
    "lst_tmp1 = np.array([random.randint(0, 1) for x in range(10)])\n",
    "lst_tmp2 = np.array([random.randint(0, 1) for x in range(10)])\n",
    "lst_tmp3 = np.array([random.randint(0, 1) for x in range(10)])\n",
    "\n",
    "lst_tmp1\n",
    "\n",
    "lst_tmp2\n",
    "\n",
    "lst_tmp3\n",
    "\n",
    "lst_tmp_all = []\n",
    "lst_tmp_all.append(lst_tmp2)\n",
    "lst_tmp_all.append(lst_tmp1)\n",
    "# lst_tmp_all.append(lst_tmp3)\n",
    "\n",
    "np.max(np.array(lst_tmp_all), axis = 0)\n",
    "\n",
    "u, indices = np.unique(np.array(lst_tmp_all), return_inverse=True)\n",
    "axis = 0\n",
    "u[np.argmax(np.apply_along_axis(np.bincount, axis, indices.reshape(np.array(lst_tmp_all).shape),\n",
    "                                None, np.max(indices) + 1), axis=axis)]\n",
    "\n",
    "u, indices = np.unique(np.array(lst_tmp_all), return_inverse=True)\n",
    "axis = 0\n",
    "u[np.argmax(np.apply_along_axis(np.bincount, axis, indices.reshape(np.array(lst_tmp_all).shape),\n",
    "                                None, np.max(indices) + 1), axis=axis)]\n",
    "\n",
    "labels_dig[:10]"
   ]
  },
  {
   "cell_type": "code",
   "execution_count": 20,
   "metadata": {},
   "outputs": [],
   "source": [
    "def bootstrap_data(data_array, is_bootsrp = True):\n",
    "    data_res = []\n",
    "    n = len(data_array)\n",
    "    inds = []\n",
    "    if is_bootsrp:\n",
    "        for i in range(n):\n",
    "            j = random.randint(0, n - 1)\n",
    "            inds.append(j)\n",
    "            data_res.append(data_array[j])\n",
    "    else:\n",
    "        new_n = int(np.round((1 - 1/np.exp(1))*n))\n",
    "\n",
    "        inds = random.sample(range(n), new_n)\n",
    "        data_res = data_array[inds]\n",
    "            \n",
    "    return inds, np.array(data_res)"
   ]
  },
  {
   "cell_type": "code",
   "execution_count": 21,
   "metadata": {},
   "outputs": [
    {
     "data": {
      "text/plain": [
       "1136"
      ]
     },
     "execution_count": 21,
     "metadata": {},
     "output_type": "execute_result"
    }
   ],
   "source": [
    "int(np.round((1 - 1/np.exp(1))*len(digits.data)))"
   ]
  },
  {
   "cell_type": "code",
   "execution_count": 23,
   "metadata": {},
   "outputs": [],
   "source": [
    "rand_sample = random.sample(range(10), 5)"
   ]
  },
  {
   "cell_type": "code",
   "execution_count": 24,
   "metadata": {},
   "outputs": [],
   "source": [
    "def moda_func(data_array, axis = 0):\n",
    "    u, indices = np.unique(data_array, return_inverse=True)\n",
    "    res = u[np.argmax(np.apply_along_axis(np.bincount, axis, indices.reshape(data_array.shape),\n",
    "                                    None, np.max(indices) + 1), axis=axis)]\n",
    "    return res"
   ]
  },
  {
   "cell_type": "code",
   "execution_count": 25,
   "metadata": {},
   "outputs": [
    {
     "ename": "KeyError",
     "evalue": "'inds'",
     "output_type": "error",
     "traceback": [
      "\u001b[0;31m---------------------------------------------------------------------------\u001b[0m",
      "\u001b[0;31mKeyError\u001b[0m                                  Traceback (most recent call last)",
      "\u001b[0;32m<ipython-input-25-2fe8aa6cd994>\u001b[0m in \u001b[0;36m<module>\u001b[0;34m\u001b[0m\n\u001b[1;32m     41\u001b[0m                 \u001b[0;34m'labels'\u001b[0m \u001b[0;34m:\u001b[0m \u001b[0;34m[\u001b[0m\u001b[0;32mlambda\u001b[0m \u001b[0mx\u001b[0m\u001b[0;34m:\u001b[0m\u001b[0mx\u001b[0m\u001b[0;34m.\u001b[0m\u001b[0mvalue_counts\u001b[0m\u001b[0;34m(\u001b[0m\u001b[0;34m)\u001b[0m\u001b[0;34m.\u001b[0m\u001b[0mindex\u001b[0m\u001b[0;34m[\u001b[0m\u001b[0;36m0\u001b[0m\u001b[0;34m]\u001b[0m\u001b[0;34m]\u001b[0m\u001b[0;34m\u001b[0m\u001b[0;34m\u001b[0m\u001b[0m\n\u001b[1;32m     42\u001b[0m             }).reset_index()\n\u001b[0;32m---> 43\u001b[0;31m         df_bootstrap_res = df_bootstrap_res.merge(\n\u001b[0m\u001b[1;32m     44\u001b[0m             \u001b[0mdf_bootstr_value_counts\u001b[0m\u001b[0;34m,\u001b[0m \u001b[0mon\u001b[0m \u001b[0;34m=\u001b[0m \u001b[0;34m\"inds\"\u001b[0m\u001b[0;34m,\u001b[0m \u001b[0mhow\u001b[0m \u001b[0;34m=\u001b[0m \u001b[0;34m\"left\"\u001b[0m\u001b[0;34m\u001b[0m\u001b[0;34m\u001b[0m\u001b[0m\n\u001b[1;32m     45\u001b[0m         )\n",
      "\u001b[0;32m~/anaconda3/lib/python3.8/site-packages/pandas/core/frame.py\u001b[0m in \u001b[0;36mmerge\u001b[0;34m(self, right, how, on, left_on, right_on, left_index, right_index, sort, suffixes, copy, indicator, validate)\u001b[0m\n\u001b[1;32m   7944\u001b[0m         \u001b[0;32mfrom\u001b[0m \u001b[0mpandas\u001b[0m\u001b[0;34m.\u001b[0m\u001b[0mcore\u001b[0m\u001b[0;34m.\u001b[0m\u001b[0mreshape\u001b[0m\u001b[0;34m.\u001b[0m\u001b[0mmerge\u001b[0m \u001b[0;32mimport\u001b[0m \u001b[0mmerge\u001b[0m\u001b[0;34m\u001b[0m\u001b[0;34m\u001b[0m\u001b[0m\n\u001b[1;32m   7945\u001b[0m \u001b[0;34m\u001b[0m\u001b[0m\n\u001b[0;32m-> 7946\u001b[0;31m         return merge(\n\u001b[0m\u001b[1;32m   7947\u001b[0m             \u001b[0mself\u001b[0m\u001b[0;34m,\u001b[0m\u001b[0;34m\u001b[0m\u001b[0;34m\u001b[0m\u001b[0m\n\u001b[1;32m   7948\u001b[0m             \u001b[0mright\u001b[0m\u001b[0;34m,\u001b[0m\u001b[0;34m\u001b[0m\u001b[0;34m\u001b[0m\u001b[0m\n",
      "\u001b[0;32m~/anaconda3/lib/python3.8/site-packages/pandas/core/reshape/merge.py\u001b[0m in \u001b[0;36mmerge\u001b[0;34m(left, right, how, on, left_on, right_on, left_index, right_index, sort, suffixes, copy, indicator, validate)\u001b[0m\n\u001b[1;32m     72\u001b[0m     \u001b[0mvalidate\u001b[0m\u001b[0;34m=\u001b[0m\u001b[0;32mNone\u001b[0m\u001b[0;34m,\u001b[0m\u001b[0;34m\u001b[0m\u001b[0;34m\u001b[0m\u001b[0m\n\u001b[1;32m     73\u001b[0m ) -> \"DataFrame\":\n\u001b[0;32m---> 74\u001b[0;31m     op = _MergeOperation(\n\u001b[0m\u001b[1;32m     75\u001b[0m         \u001b[0mleft\u001b[0m\u001b[0;34m,\u001b[0m\u001b[0;34m\u001b[0m\u001b[0;34m\u001b[0m\u001b[0m\n\u001b[1;32m     76\u001b[0m         \u001b[0mright\u001b[0m\u001b[0;34m,\u001b[0m\u001b[0;34m\u001b[0m\u001b[0;34m\u001b[0m\u001b[0m\n",
      "\u001b[0;32m~/anaconda3/lib/python3.8/site-packages/pandas/core/reshape/merge.py\u001b[0m in \u001b[0;36m__init__\u001b[0;34m(self, left, right, how, on, left_on, right_on, axis, left_index, right_index, sort, suffixes, copy, indicator, validate)\u001b[0m\n\u001b[1;32m    650\u001b[0m             \u001b[0mself\u001b[0m\u001b[0;34m.\u001b[0m\u001b[0mright_join_keys\u001b[0m\u001b[0;34m,\u001b[0m\u001b[0;34m\u001b[0m\u001b[0;34m\u001b[0m\u001b[0m\n\u001b[1;32m    651\u001b[0m             \u001b[0mself\u001b[0m\u001b[0;34m.\u001b[0m\u001b[0mjoin_names\u001b[0m\u001b[0;34m,\u001b[0m\u001b[0;34m\u001b[0m\u001b[0;34m\u001b[0m\u001b[0m\n\u001b[0;32m--> 652\u001b[0;31m         ) = self._get_merge_keys()\n\u001b[0m\u001b[1;32m    653\u001b[0m \u001b[0;34m\u001b[0m\u001b[0m\n\u001b[1;32m    654\u001b[0m         \u001b[0;31m# validate the merge keys dtypes. We may need to coerce\u001b[0m\u001b[0;34m\u001b[0m\u001b[0;34m\u001b[0m\u001b[0;34m\u001b[0m\u001b[0m\n",
      "\u001b[0;32m~/anaconda3/lib/python3.8/site-packages/pandas/core/reshape/merge.py\u001b[0m in \u001b[0;36m_get_merge_keys\u001b[0;34m(self)\u001b[0m\n\u001b[1;32m   1016\u001b[0m                         \u001b[0mright_keys\u001b[0m\u001b[0;34m.\u001b[0m\u001b[0mappend\u001b[0m\u001b[0;34m(\u001b[0m\u001b[0mrk\u001b[0m\u001b[0;34m)\u001b[0m\u001b[0;34m\u001b[0m\u001b[0;34m\u001b[0m\u001b[0m\n\u001b[1;32m   1017\u001b[0m                     \u001b[0;32mif\u001b[0m \u001b[0mlk\u001b[0m \u001b[0;32mis\u001b[0m \u001b[0;32mnot\u001b[0m \u001b[0;32mNone\u001b[0m\u001b[0;34m:\u001b[0m\u001b[0;34m\u001b[0m\u001b[0;34m\u001b[0m\u001b[0m\n\u001b[0;32m-> 1018\u001b[0;31m                         \u001b[0mleft_keys\u001b[0m\u001b[0;34m.\u001b[0m\u001b[0mappend\u001b[0m\u001b[0;34m(\u001b[0m\u001b[0mleft\u001b[0m\u001b[0;34m.\u001b[0m\u001b[0m_get_label_or_level_values\u001b[0m\u001b[0;34m(\u001b[0m\u001b[0mlk\u001b[0m\u001b[0;34m)\u001b[0m\u001b[0;34m)\u001b[0m\u001b[0;34m\u001b[0m\u001b[0;34m\u001b[0m\u001b[0m\n\u001b[0m\u001b[1;32m   1019\u001b[0m                         \u001b[0mjoin_names\u001b[0m\u001b[0;34m.\u001b[0m\u001b[0mappend\u001b[0m\u001b[0;34m(\u001b[0m\u001b[0mlk\u001b[0m\u001b[0;34m)\u001b[0m\u001b[0;34m\u001b[0m\u001b[0;34m\u001b[0m\u001b[0m\n\u001b[1;32m   1020\u001b[0m                     \u001b[0;32melse\u001b[0m\u001b[0;34m:\u001b[0m\u001b[0;34m\u001b[0m\u001b[0;34m\u001b[0m\u001b[0m\n",
      "\u001b[0;32m~/anaconda3/lib/python3.8/site-packages/pandas/core/generic.py\u001b[0m in \u001b[0;36m_get_label_or_level_values\u001b[0;34m(self, key, axis)\u001b[0m\n\u001b[1;32m   1561\u001b[0m             \u001b[0mvalues\u001b[0m \u001b[0;34m=\u001b[0m \u001b[0mself\u001b[0m\u001b[0;34m.\u001b[0m\u001b[0maxes\u001b[0m\u001b[0;34m[\u001b[0m\u001b[0maxis\u001b[0m\u001b[0;34m]\u001b[0m\u001b[0;34m.\u001b[0m\u001b[0mget_level_values\u001b[0m\u001b[0;34m(\u001b[0m\u001b[0mkey\u001b[0m\u001b[0;34m)\u001b[0m\u001b[0;34m.\u001b[0m\u001b[0m_values\u001b[0m\u001b[0;34m\u001b[0m\u001b[0;34m\u001b[0m\u001b[0m\n\u001b[1;32m   1562\u001b[0m         \u001b[0;32melse\u001b[0m\u001b[0;34m:\u001b[0m\u001b[0;34m\u001b[0m\u001b[0;34m\u001b[0m\u001b[0m\n\u001b[0;32m-> 1563\u001b[0;31m             \u001b[0;32mraise\u001b[0m \u001b[0mKeyError\u001b[0m\u001b[0;34m(\u001b[0m\u001b[0mkey\u001b[0m\u001b[0;34m)\u001b[0m\u001b[0;34m\u001b[0m\u001b[0;34m\u001b[0m\u001b[0m\n\u001b[0m\u001b[1;32m   1564\u001b[0m \u001b[0;34m\u001b[0m\u001b[0m\n\u001b[1;32m   1565\u001b[0m         \u001b[0;31m# Check for duplicates\u001b[0m\u001b[0;34m\u001b[0m\u001b[0;34m\u001b[0m\u001b[0;34m\u001b[0m\u001b[0m\n",
      "\u001b[0;31mKeyError\u001b[0m: 'inds'"
     ]
    }
   ],
   "source": [
    "%%capture --no-stdout --no-display\n",
    "target_labels = digits.target\n",
    "alpha_lst = [0, 0.01, 0.1, 1, 5, 10, 100]\n",
    "df_res = pd.DataFrame(alpha_lst, columns = [\"alpha\"])\n",
    "bootstrap_const = 10 \n",
    "lst_res = []\n",
    "df_bootstrap_res = pd.DataFrame(range(len(digits.data)), columns = [\"res\"])\n",
    "\n",
    "for it in range(bootstrap_const):\n",
    "    inds, data_bootstr = bootstrap_data(digits.data)\n",
    "    data_bootstr = digits.data\n",
    "    initial_centers = get_centers(data_bootstr, n_clusters=10, iter_num=50, ind_rand = True)\n",
    "    lst_acc = []\n",
    "    lst_labels = []\n",
    "    \n",
    "    for alpha in alpha_lst:\n",
    "#         print(alpha)\n",
    "        try:\n",
    "            centers, labels = k_plusplus_means_find_clusters_wuth_entropy(\n",
    "                data_bootstr, n_clusters=10, lst_centers = initial_centers, target_labels = target_labels, iter_num=50, alpha = alpha\n",
    "            )\n",
    "\n",
    "\n",
    "            labels_dig = np.zeros_like(labels)\n",
    "            for i in range(10):\n",
    "                mask = (labels == i)\n",
    "                labels_dig[mask] = mode(digits.target[mask])[0]\n",
    "            \n",
    "            acc_score = accuracy_score(digits.target, labels_dig)\n",
    "            lst_acc.append(np.round(acc_score, 4))\n",
    "#             print(acc_score)\n",
    "        except:\n",
    "#             print(\"ERROR\")\n",
    "            lst_acc.append(\"ERROR\")\n",
    "        lst_labels.append(labels_dig)\n",
    "        \n",
    "        df_bootstr_it = pd.DataFrame([inds, labels_dig]).T\n",
    "        df_bootstr_it.columns = [\"inds\", \"labels\"]\n",
    "        df_bootstr_value_counts = df_bootstr_it\\\n",
    "            .groupby(['inds'])\\\n",
    "            .agg({\n",
    "                'labels' : [lambda x:x.value_counts().index[0]]\n",
    "            }).reset_index()\n",
    "        df_bootstrap_res = df_bootstrap_res.merge(\n",
    "            df_bootstr_value_counts, on = \"inds\", how = \"left\"\n",
    "        )\n",
    "    lst_res.append(lst_labels)\n",
    "    df_res[it] = lst_acc\n",
    "\n",
    "bagging_label = moda_func(np.array(lst_labels))\n",
    "bagging_score = accuracy_score(digits.target, bagging_label)\n",
    "df_res[\"bagging\"] = bagging_score\n",
    "display(df_res)\n",
    "# НАДО ДОПИСИТЬ"
   ]
  },
  {
   "cell_type": "code",
   "execution_count": 37,
   "metadata": {},
   "outputs": [],
   "source": [
    "def cluster_union(clusters, targets):\n",
    "    unique_clusters = sorted(pd.Series(clusters).unique())\n",
    "    df = pd.DataFrame([list(clusters), list(targets)]).T\n",
    "    df.columns = [\"clusters\", \"targets\"]\n",
    "    dct_res = {}\n",
    "    for i in unique_clusters:\n",
    "        dct_res[i] = df[df.clusters == i]\\\n",
    "            .groupby(\"clusters\")\\\n",
    "            .agg({\n",
    "                'targets' : lambda x:x.value_counts().index[0]\n",
    "            })\\\n",
    "            .rename({\"targets\" : \"cnt\"}, axis = 1)\\\n",
    "            .reset_index()\\\n",
    "            .loc[0, \"cnt\"]\n",
    "\n",
    "\n",
    "    return dct_res"
   ]
  },
  {
   "cell_type": "code",
   "execution_count": null,
   "metadata": {},
   "outputs": [],
   "source": [
    "def kmeans_bootstrap():\n",
    "    #         print(alpha)\n",
    "\n",
    "    #        inds, data_bootstr = bootstrap_data(digits.data, False)\n",
    "            inds = range(len(digits.data))\n",
    "            data_bootstr = digits.data\n",
    "\n",
    "            initial_centers = get_centers(data_bootstr, n_clusters=num_clusters, iter_num=num_iter, ind_rand = True)\n",
    "    #         lst_acc = []\n",
    "    #         lst_labels = []\n",
    "\n",
    "            try:\n",
    "                centers, labels = k_plusplus_means_find_clusters_wuth_entropy(\n",
    "                    data_bootstr, n_clusters=num_clusters, lst_centers = initial_centers, target_labels = target_labels, iter_num=num_iter, alpha = alpha\n",
    "                )\n",
    "\n",
    "                dct_clusters_target = cluster_union(labels, digits.target)\n",
    "\n",
    "                labels = np.array(pd.Series(labels).map(dct_clusters_target))\n",
    "\n",
    "                labels_dig = np.zeros_like(labels)\n",
    "                for i in range(num_clusters):\n",
    "                    mask = (labels == i)\n",
    "                    labels_dig[mask] = mode(digits.target[mask])[0]\n",
    "\n",
    "    #             acc_score = accuracy_score(digits.target, labels_dig)\n",
    "    #             lst_acc.append(np.round(acc_score, 4))\n",
    "    #             print(acc_score)\n",
    "            except:\n",
    "    #             print(\"ERROR\")\n",
    "    #             lst_acc.append(\"ERROR\")\n",
    "                pass\n",
    "            lst_labels.append(labels_dig)\n",
    "\n",
    "            df_bootstr_it = pd.DataFrame([inds, labels_dig]).T\n",
    "            df_bootstr_it.columns = [\"inds\", \"labels\"]\n",
    "\n",
    "            df_bootstr_value_counts = df_bootstr_it\\\n",
    "                .groupby(['inds'])\\\n",
    "                .agg({\n",
    "                    'labels' : lambda x:x.value_counts().index[0]\n",
    "                }).reset_index()\n",
    "\n",
    "            df_bootstrap_res = df_bootstrap_res.merge(\n",
    "                df_bootstr_value_counts.rename({\"labels\" : \"labels_\" + str(it)}, axis = 1)\n",
    "                , on = \"inds\"\n",
    "                , how = \"left\"\n",
    "            )"
   ]
  },
  {
   "cell_type": "code",
   "execution_count": null,
   "metadata": {},
   "outputs": [],
   "source": []
  },
  {
   "cell_type": "code",
   "execution_count": null,
   "metadata": {},
   "outputs": [],
   "source": []
  },
  {
   "cell_type": "code",
   "execution_count": null,
   "metadata": {},
   "outputs": [],
   "source": []
  },
  {
   "cell_type": "markdown",
   "metadata": {},
   "source": [
    "На всей выборке"
   ]
  },
  {
   "cell_type": "code",
   "execution_count": 114,
   "metadata": {},
   "outputs": [
    {
     "name": "stdout",
     "output_type": "stream",
     "text": [
      "CPU times: user 20min 40s, sys: 5.77 s, total: 20min 46s\n",
      "Wall time: 19min 35s\n"
     ]
    }
   ],
   "source": [
    "%%time\n",
    "%%capture --no-stdout --no-display\n",
    "target_labels = digits.target\n",
    "alpha_lst = [0, 0.1, 1, 10]\n",
    "# alpha_lst = [0, 100]\n",
    "df_res = pd.DataFrame(alpha_lst, columns = [\"alpha\"])\n",
    "bootstrap_const = 25\n",
    "lst_res = []\n",
    "num_clusters_lst = [10, 25, 50]\n",
    "# num_clusters = 20\n",
    "num_iter = 50\n",
    "\n",
    "df_bootstrap_res = pd.DataFrame(range(len(digits.data)), columns = [\"inds\"])\n",
    "\n",
    "for num_clusters in num_clusters_lst:\n",
    "    lst_acc = []\n",
    "    for alpha in alpha_lst:\n",
    "        lst_labels = []\n",
    "        for it in tqdm(range(bootstrap_const)):\n",
    "    #         print(alpha)\n",
    "\n",
    "    #        inds, data_bootstr = bootstrap_data(digits.data, False)\n",
    "            inds = range(len(digits.data))\n",
    "            data_bootstr = digits.data\n",
    "\n",
    "            initial_centers = get_centers(data_bootstr, n_clusters=num_clusters, iter_num=num_iter, ind_rand = True)\n",
    "    #         lst_acc = []\n",
    "    #         lst_labels = []\n",
    "\n",
    "            try:\n",
    "                centers, labels = k_plusplus_means_find_clusters_wuth_entropy(\n",
    "                    data_bootstr, n_clusters=num_clusters, lst_centers = initial_centers, target_labels = target_labels, iter_num=num_iter, alpha = alpha\n",
    "                )\n",
    "\n",
    "                dct_clusters_target = cluster_union(labels, digits.target)\n",
    "\n",
    "                labels = np.array(pd.Series(labels).map(dct_clusters_target))\n",
    "\n",
    "                labels_dig = np.zeros_like(labels)\n",
    "                for i in range(num_clusters):\n",
    "                    mask = (labels == i)\n",
    "                    labels_dig[mask] = mode(digits.target[mask])[0]\n",
    "\n",
    "    #             acc_score = accuracy_score(digits.target, labels_dig)\n",
    "    #             lst_acc.append(np.round(acc_score, 4))\n",
    "    #             print(acc_score)\n",
    "            except:\n",
    "    #             print(\"ERROR\")\n",
    "    #             lst_acc.append(\"ERROR\")\n",
    "                pass\n",
    "#             lst_labels.append(labels_dig)\n",
    "\n",
    "            df_bootstr_it = pd.DataFrame([inds, labels_dig]).T\n",
    "            df_bootstr_it.columns = [\"inds\", \"labels\"]\n",
    "\n",
    "            df_bootstr_value_counts = df_bootstr_it\\\n",
    "                .groupby(['inds'])\\\n",
    "                .agg({\n",
    "                    'labels' : lambda x:x.value_counts().index[0]\n",
    "                }).reset_index()\n",
    "\n",
    "            df_bootstrap_res = df_bootstrap_res.merge(\n",
    "                df_bootstr_value_counts.rename({\"labels\" : \"labels_\" + str(it)}, axis = 1)\n",
    "                , on = \"inds\"\n",
    "                , how = \"left\"\n",
    "            )\n",
    "\n",
    "        df_bootstrap_res[\"total_labels\"] = df_bootstrap_res.drop(\"inds\", axis = 1).mode(axis = 1)[0]\n",
    "        df_bootstrap_res[\"target\"] = digits.target\n",
    "\n",
    "        acc_score = accuracy_score(digits.target, df_bootstrap_res[\"total_labels\"])\n",
    "        lst_acc.append(np.round(acc_score, 4))\n",
    "\n",
    "    #     lst_res.append(lst_labels)\n",
    "    df_res[\"clusters_\" + str(num_clusters)] = lst_acc\n",
    "\n",
    "    # bagging_label = moda_func(np.array(lst_labels))\n",
    "    # bagging_score = accuracy_score(digits.target, bagging_label)\n",
    "    # df_res[\"bagging\"] = bagging_score\n",
    "    # display(df_res)\n",
    "    # НАДО ДОПИСИТЬ"
   ]
  },
  {
   "cell_type": "code",
   "execution_count": 115,
   "metadata": {},
   "outputs": [
    {
     "data": {
      "text/html": [
       "<div>\n",
       "<style scoped>\n",
       "    .dataframe tbody tr th:only-of-type {\n",
       "        vertical-align: middle;\n",
       "    }\n",
       "\n",
       "    .dataframe tbody tr th {\n",
       "        vertical-align: top;\n",
       "    }\n",
       "\n",
       "    .dataframe thead th {\n",
       "        text-align: right;\n",
       "    }\n",
       "</style>\n",
       "<table border=\"1\" class=\"dataframe\">\n",
       "  <thead>\n",
       "    <tr style=\"text-align: right;\">\n",
       "      <th></th>\n",
       "      <th>alpha</th>\n",
       "      <th>clusters_10</th>\n",
       "      <th>clusters_25</th>\n",
       "      <th>clusters_50</th>\n",
       "    </tr>\n",
       "  </thead>\n",
       "  <tbody>\n",
       "    <tr>\n",
       "      <th>0</th>\n",
       "      <td>0.0</td>\n",
       "      <td>0.7284</td>\n",
       "      <td>0.8431</td>\n",
       "      <td>0.9188</td>\n",
       "    </tr>\n",
       "    <tr>\n",
       "      <th>1</th>\n",
       "      <td>0.1</td>\n",
       "      <td>0.7785</td>\n",
       "      <td>0.8926</td>\n",
       "      <td>0.9338</td>\n",
       "    </tr>\n",
       "    <tr>\n",
       "      <th>2</th>\n",
       "      <td>1.0</td>\n",
       "      <td>0.7668</td>\n",
       "      <td>0.9026</td>\n",
       "      <td>0.9410</td>\n",
       "    </tr>\n",
       "    <tr>\n",
       "      <th>3</th>\n",
       "      <td>10.0</td>\n",
       "      <td>0.8136</td>\n",
       "      <td>0.9104</td>\n",
       "      <td>0.9444</td>\n",
       "    </tr>\n",
       "  </tbody>\n",
       "</table>\n",
       "</div>"
      ],
      "text/plain": [
       "   alpha  clusters_10  clusters_25  clusters_50\n",
       "0    0.0       0.7284       0.8431       0.9188\n",
       "1    0.1       0.7785       0.8926       0.9338\n",
       "2    1.0       0.7668       0.9026       0.9410\n",
       "3   10.0       0.8136       0.9104       0.9444"
      ]
     },
     "execution_count": 115,
     "metadata": {},
     "output_type": "execute_result"
    }
   ],
   "source": [
    "df_res"
   ]
  },
  {
   "cell_type": "code",
   "execution_count": 116,
   "metadata": {},
   "outputs": [],
   "source": [
    "df_res.to_csv(\"All_sample.csv\")"
   ]
  },
  {
   "cell_type": "code",
   "execution_count": 117,
   "metadata": {},
   "outputs": [],
   "source": [
    "df_res_all = df_res.copy()"
   ]
  },
  {
   "cell_type": "markdown",
   "metadata": {},
   "source": [
    " "
   ]
  },
  {
   "cell_type": "markdown",
   "metadata": {},
   "source": [
    "Bagging"
   ]
  },
  {
   "cell_type": "code",
   "execution_count": 118,
   "metadata": {},
   "outputs": [
    {
     "name": "stdout",
     "output_type": "stream",
     "text": [
      "CPU times: user 16min 16s, sys: 3.81 s, total: 16min 20s\n",
      "Wall time: 15min 29s\n"
     ]
    }
   ],
   "source": [
    "%%time\n",
    "%%capture --no-stdout --no-display\n",
    "target_labels = digits.target\n",
    "alpha_lst = [0, 0.1, 1, 10]\n",
    "# alpha_lst = [0, 100]\n",
    "df_res = pd.DataFrame(alpha_lst, columns = [\"alpha\"])\n",
    "bootstrap_const = 25\n",
    "lst_res = []\n",
    "num_clusters_lst = [10, 25, 50]\n",
    "# num_clusters = 20\n",
    "num_iter = 50\n",
    "\n",
    "df_bootstrap_res = pd.DataFrame(range(len(digits.data)), columns = [\"inds\"])\n",
    "\n",
    "for num_clusters in num_clusters_lst:\n",
    "    lst_acc = []\n",
    "    for alpha in alpha_lst:\n",
    "        lst_labels = []\n",
    "        for it in tqdm(range(bootstrap_const)):\n",
    "    #         print(alpha)\n",
    "\n",
    "            inds, data_bootstr = bootstrap_data(digits.data, True)\n",
    "#             inds = range(len(digits.data))\n",
    "#             data_bootstr = digits.data\n",
    "\n",
    "            initial_centers = get_centers(data_bootstr, n_clusters=num_clusters, iter_num=num_iter, ind_rand = True)\n",
    "    #         lst_acc = []\n",
    "    #         lst_labels = []\n",
    "\n",
    "            try:\n",
    "                centers, labels = k_plusplus_means_find_clusters_wuth_entropy(\n",
    "                    data_bootstr, n_clusters=num_clusters, lst_centers = initial_centers, target_labels = target_labels, iter_num=num_iter, alpha = alpha\n",
    "                )\n",
    "\n",
    "                dct_clusters_target = cluster_union(labels, digits.target)\n",
    "\n",
    "                labels = np.array(pd.Series(labels).map(dct_clusters_target))\n",
    "\n",
    "                labels_dig = np.zeros_like(labels)\n",
    "                for i in range(num_clusters):\n",
    "                    mask = (labels == i)\n",
    "                    labels_dig[mask] = mode(digits.target[mask])[0]\n",
    "\n",
    "    #             acc_score = accuracy_score(digits.target, labels_dig)\n",
    "    #             lst_acc.append(np.round(acc_score, 4))\n",
    "    #             print(acc_score)\n",
    "            except:\n",
    "    #             print(\"ERROR\")\n",
    "    #             lst_acc.append(\"ERROR\")\n",
    "                pass\n",
    "#             lst_labels.append(labels_dig)\n",
    "\n",
    "            df_bootstr_it = pd.DataFrame([inds, labels_dig]).T\n",
    "            df_bootstr_it.columns = [\"inds\", \"labels\"]\n",
    "\n",
    "            df_bootstr_value_counts = df_bootstr_it\\\n",
    "                .groupby(['inds'])\\\n",
    "                .agg({\n",
    "                    'labels' : lambda x:x.value_counts().index[0]\n",
    "                }).reset_index()\n",
    "\n",
    "            df_bootstrap_res = df_bootstrap_res.merge(\n",
    "                df_bootstr_value_counts.rename({\"labels\" : \"labels_\" + str(it)}, axis = 1)\n",
    "                , on = \"inds\"\n",
    "                , how = \"left\"\n",
    "            )\n",
    "\n",
    "        df_bootstrap_res[\"total_labels\"] = df_bootstrap_res.drop(\"inds\", axis = 1).mode(axis = 1)[0]\n",
    "        df_bootstrap_res[\"target\"] = digits.target\n",
    "\n",
    "        acc_score = accuracy_score(digits.target, df_bootstrap_res[\"total_labels\"])\n",
    "        lst_acc.append(np.round(acc_score, 4))\n",
    "\n",
    "    #     lst_res.append(lst_labels)\n",
    "    df_res[\"clusters_\" + str(num_clusters)] = lst_acc\n",
    "\n",
    "    # bagging_label = moda_func(np.array(lst_labels))\n",
    "    # bagging_score = accuracy_score(digits.target, bagging_label)\n",
    "    # df_res[\"bagging\"] = bagging_score\n",
    "    # display(df_res)\n",
    "    # НАДО ДОПИСИТЬ"
   ]
  },
  {
   "cell_type": "code",
   "execution_count": 119,
   "metadata": {},
   "outputs": [],
   "source": [
    "df_res.to_csv(\"Bagging_sample.csv\")"
   ]
  },
  {
   "cell_type": "code",
   "execution_count": 120,
   "metadata": {},
   "outputs": [],
   "source": [
    "df_res_bagging = df_res.copy()"
   ]
  },
  {
   "cell_type": "code",
   "execution_count": 121,
   "metadata": {},
   "outputs": [
    {
     "data": {
      "text/html": [
       "<div>\n",
       "<style scoped>\n",
       "    .dataframe tbody tr th:only-of-type {\n",
       "        vertical-align: middle;\n",
       "    }\n",
       "\n",
       "    .dataframe tbody tr th {\n",
       "        vertical-align: top;\n",
       "    }\n",
       "\n",
       "    .dataframe thead th {\n",
       "        text-align: right;\n",
       "    }\n",
       "</style>\n",
       "<table border=\"1\" class=\"dataframe\">\n",
       "  <thead>\n",
       "    <tr style=\"text-align: right;\">\n",
       "      <th></th>\n",
       "      <th>alpha</th>\n",
       "      <th>clusters_10</th>\n",
       "      <th>clusters_25</th>\n",
       "      <th>clusters_50</th>\n",
       "    </tr>\n",
       "  </thead>\n",
       "  <tbody>\n",
       "    <tr>\n",
       "      <th>0</th>\n",
       "      <td>0.0</td>\n",
       "      <td>0.1052</td>\n",
       "      <td>0.1853</td>\n",
       "      <td>0.1046</td>\n",
       "    </tr>\n",
       "    <tr>\n",
       "      <th>1</th>\n",
       "      <td>0.1</td>\n",
       "      <td>0.2042</td>\n",
       "      <td>0.1541</td>\n",
       "      <td>0.0979</td>\n",
       "    </tr>\n",
       "    <tr>\n",
       "      <th>2</th>\n",
       "      <td>1.0</td>\n",
       "      <td>0.2081</td>\n",
       "      <td>0.1241</td>\n",
       "      <td>0.0940</td>\n",
       "    </tr>\n",
       "    <tr>\n",
       "      <th>3</th>\n",
       "      <td>10.0</td>\n",
       "      <td>0.1959</td>\n",
       "      <td>0.1024</td>\n",
       "      <td>0.0957</td>\n",
       "    </tr>\n",
       "  </tbody>\n",
       "</table>\n",
       "</div>"
      ],
      "text/plain": [
       "   alpha  clusters_10  clusters_25  clusters_50\n",
       "0    0.0       0.1052       0.1853       0.1046\n",
       "1    0.1       0.2042       0.1541       0.0979\n",
       "2    1.0       0.2081       0.1241       0.0940\n",
       "3   10.0       0.1959       0.1024       0.0957"
      ]
     },
     "execution_count": 121,
     "metadata": {},
     "output_type": "execute_result"
    }
   ],
   "source": [
    "df_res"
   ]
  },
  {
   "cell_type": "markdown",
   "metadata": {},
   "source": [
    " "
   ]
  },
  {
   "cell_type": "markdown",
   "metadata": {},
   "source": [
    "Bagging without duplicates"
   ]
  },
  {
   "cell_type": "code",
   "execution_count": 122,
   "metadata": {},
   "outputs": [
    {
     "name": "stdout",
     "output_type": "stream",
     "text": [
      "CPU times: user 10min 1s, sys: 2.85 s, total: 10min 4s\n",
      "Wall time: 9min 56s\n"
     ]
    }
   ],
   "source": [
    "%%time\n",
    "%%capture --no-stdout --no-display\n",
    "target_labels = digits.target\n",
    "alpha_lst = [0, 0.1, 1, 10]\n",
    "# alpha_lst = [0, 100]\n",
    "df_res = pd.DataFrame(alpha_lst, columns = [\"alpha\"])\n",
    "bootstrap_const = 25\n",
    "lst_res = []\n",
    "num_clusters_lst = [10, 25, 50]\n",
    "# num_clusters = 20\n",
    "num_iter = 50\n",
    "\n",
    "df_bootstrap_res = pd.DataFrame(range(len(digits.data)), columns = [\"inds\"])\n",
    "\n",
    "for num_clusters in num_clusters_lst:\n",
    "    lst_acc = []\n",
    "    for alpha in alpha_lst:\n",
    "        lst_labels = []\n",
    "        for it in tqdm(range(bootstrap_const)):\n",
    "    #         print(alpha)\n",
    "\n",
    "            inds, data_bootstr = bootstrap_data(digits.data, False)\n",
    "#             inds = range(len(digits.data))\n",
    "#             data_bootstr = digits.data\n",
    "\n",
    "            initial_centers = get_centers(data_bootstr, n_clusters=num_clusters, iter_num=num_iter, ind_rand = True)\n",
    "    #         lst_acc = []\n",
    "    #         lst_labels = []\n",
    "\n",
    "            try:\n",
    "                centers, labels = k_plusplus_means_find_clusters_wuth_entropy(\n",
    "                    data_bootstr, n_clusters=num_clusters, lst_centers = initial_centers, target_labels = target_labels, iter_num=num_iter, alpha = alpha\n",
    "                )\n",
    "\n",
    "                dct_clusters_target = cluster_union(labels, digits.target)\n",
    "\n",
    "                labels = np.array(pd.Series(labels).map(dct_clusters_target))\n",
    "\n",
    "                labels_dig = np.zeros_like(labels)\n",
    "                for i in range(num_clusters):\n",
    "                    mask = (labels == i)\n",
    "                    labels_dig[mask] = mode(digits.target[mask])[0]\n",
    "\n",
    "    #             acc_score = accuracy_score(digits.target, labels_dig)\n",
    "    #             lst_acc.append(np.round(acc_score, 4))\n",
    "    #             print(acc_score)\n",
    "            except:\n",
    "    #             print(\"ERROR\")\n",
    "    #             lst_acc.append(\"ERROR\")\n",
    "                pass\n",
    "#             lst_labels.append(labels_dig)\n",
    "\n",
    "            df_bootstr_it = pd.DataFrame([inds, labels_dig]).T\n",
    "            df_bootstr_it.columns = [\"inds\", \"labels\"]\n",
    "\n",
    "            df_bootstr_value_counts = df_bootstr_it\\\n",
    "                .groupby(['inds'])\\\n",
    "                .agg({\n",
    "                    'labels' : lambda x:x.value_counts().index[0]\n",
    "                }).reset_index()\n",
    "\n",
    "            df_bootstrap_res = df_bootstrap_res.merge(\n",
    "                df_bootstr_value_counts.rename({\"labels\" : \"labels_\" + str(it)}, axis = 1)\n",
    "                , on = \"inds\"\n",
    "                , how = \"left\"\n",
    "            )\n",
    "\n",
    "        df_bootstrap_res[\"total_labels\"] = df_bootstrap_res.drop(\"inds\", axis = 1).mode(axis = 1)[0]\n",
    "        df_bootstrap_res[\"target\"] = digits.target\n",
    "\n",
    "        acc_score = accuracy_score(digits.target, df_bootstrap_res[\"total_labels\"])\n",
    "        lst_acc.append(np.round(acc_score, 4))\n",
    "\n",
    "    #     lst_res.append(lst_labels)\n",
    "    df_res[\"clusters_\" + str(num_clusters)] = lst_acc\n",
    "\n",
    "    # bagging_label = moda_func(np.array(lst_labels))\n",
    "    # bagging_score = accuracy_score(digits.target, bagging_label)\n",
    "    # df_res[\"bagging\"] = bagging_score\n",
    "    # display(df_res)\n",
    "    # НАДО ДОПИСИТЬ"
   ]
  },
  {
   "cell_type": "code",
   "execution_count": 123,
   "metadata": {},
   "outputs": [
    {
     "data": {
      "text/html": [
       "<div>\n",
       "<style scoped>\n",
       "    .dataframe tbody tr th:only-of-type {\n",
       "        vertical-align: middle;\n",
       "    }\n",
       "\n",
       "    .dataframe tbody tr th {\n",
       "        vertical-align: top;\n",
       "    }\n",
       "\n",
       "    .dataframe thead th {\n",
       "        text-align: right;\n",
       "    }\n",
       "</style>\n",
       "<table border=\"1\" class=\"dataframe\">\n",
       "  <thead>\n",
       "    <tr style=\"text-align: right;\">\n",
       "      <th></th>\n",
       "      <th>alpha</th>\n",
       "      <th>clusters_10</th>\n",
       "      <th>clusters_25</th>\n",
       "      <th>clusters_50</th>\n",
       "    </tr>\n",
       "  </thead>\n",
       "  <tbody>\n",
       "    <tr>\n",
       "      <th>0</th>\n",
       "      <td>0.0</td>\n",
       "      <td>0.0946</td>\n",
       "      <td>0.1436</td>\n",
       "      <td>0.1441</td>\n",
       "    </tr>\n",
       "    <tr>\n",
       "      <th>1</th>\n",
       "      <td>0.1</td>\n",
       "      <td>0.1603</td>\n",
       "      <td>0.1447</td>\n",
       "      <td>0.1386</td>\n",
       "    </tr>\n",
       "    <tr>\n",
       "      <th>2</th>\n",
       "      <td>1.0</td>\n",
       "      <td>0.1558</td>\n",
       "      <td>0.1436</td>\n",
       "      <td>0.1347</td>\n",
       "    </tr>\n",
       "    <tr>\n",
       "      <th>3</th>\n",
       "      <td>10.0</td>\n",
       "      <td>0.1452</td>\n",
       "      <td>0.1441</td>\n",
       "      <td>0.1319</td>\n",
       "    </tr>\n",
       "  </tbody>\n",
       "</table>\n",
       "</div>"
      ],
      "text/plain": [
       "   alpha  clusters_10  clusters_25  clusters_50\n",
       "0    0.0       0.0946       0.1436       0.1441\n",
       "1    0.1       0.1603       0.1447       0.1386\n",
       "2    1.0       0.1558       0.1436       0.1347\n",
       "3   10.0       0.1452       0.1441       0.1319"
      ]
     },
     "execution_count": 123,
     "metadata": {},
     "output_type": "execute_result"
    }
   ],
   "source": [
    "df_res"
   ]
  },
  {
   "cell_type": "code",
   "execution_count": 124,
   "metadata": {},
   "outputs": [],
   "source": [
    "df_res.to_csv(\"Bagging_without_duplicates_sample.csv\")"
   ]
  },
  {
   "cell_type": "code",
   "execution_count": 125,
   "metadata": {},
   "outputs": [],
   "source": [
    "df_res_bagging_without_duplicates = df_res.copy()"
   ]
  },
  {
   "cell_type": "markdown",
   "metadata": {},
   "source": [
    " "
   ]
  },
  {
   "cell_type": "markdown",
   "metadata": {},
   "source": [
    "Ансамбль по семплам без одного класса"
   ]
  },
  {
   "cell_type": "code",
   "execution_count": 126,
   "metadata": {},
   "outputs": [
    {
     "name": "stdout",
     "output_type": "stream",
     "text": [
      "CPU times: user 11min, sys: 3.21 s, total: 11min 4s\n",
      "Wall time: 10min 40s\n"
     ]
    }
   ],
   "source": [
    "%%time\n",
    "%%capture --no-stdout --no-display\n",
    "target_labels = digits.target\n",
    "alpha_lst = [0, 0.1, 1, 10]\n",
    "# alpha_lst = [0, 100]\n",
    "df_res = pd.DataFrame(alpha_lst, columns = [\"alpha\"])\n",
    "bootstrap_const = 10\n",
    "lst_res = []\n",
    "num_clusters_lst = [10, 25, 50]\n",
    "# num_clusters = 20\n",
    "num_iter = 50\n",
    "df_target = pd.DataFrame([range(len(digits.data)), digits.target]).T\n",
    "df_target.columns = [\"inds\", \"target\"]\n",
    "\n",
    "df_bootstrap_res = pd.DataFrame(range(len(digits.data)), columns = [\"inds\"])\n",
    "\n",
    "for num_clusters in num_clusters_lst:\n",
    "    lst_acc = []\n",
    "    for alpha in alpha_lst:\n",
    "        lst_labels = []\n",
    "        for it in tqdm(range(bootstrap_const)):\n",
    "    #         print(alpha)\n",
    "            df_not_all_targets = df_target[df_target.target != it].copy()\n",
    "            inds = df_not_all_targets[\"inds\"]\n",
    "            data_bootstr = df_not_all_targets.copy()\n",
    "\n",
    "#             inds, data_bootstr = bootstrap_data(digits.data, False)\n",
    "#             inds = range(len(digits.data))\n",
    "#             data_bootstr = digits.data\n",
    "\n",
    "            data_bootstr = digits.data\n",
    "            initial_centers = get_centers(data_bootstr, n_clusters=num_clusters, iter_num=num_iter, ind_rand = True)\n",
    "    #         lst_acc = []\n",
    "    #         lst_labels = []\n",
    "\n",
    "            try:\n",
    "                centers, labels = k_plusplus_means_find_clusters_wuth_entropy(\n",
    "                    data_bootstr, n_clusters=num_clusters, lst_centers = initial_centers, target_labels = target_labels, iter_num=num_iter, alpha = alpha\n",
    "                )\n",
    "\n",
    "                dct_clusters_target = cluster_union(labels, digits.target)\n",
    "\n",
    "                labels = np.array(pd.Series(labels).map(dct_clusters_target))\n",
    "\n",
    "                labels_dig = np.zeros_like(labels)\n",
    "                for i in range(num_clusters):\n",
    "                    mask = (labels == i)\n",
    "                    labels_dig[mask] = mode(digits.target[mask])[0]\n",
    "\n",
    "    #             acc_score = accuracy_score(digits.target, labels_dig)\n",
    "    #             lst_acc.append(np.round(acc_score, 4))\n",
    "    #             print(acc_score)\n",
    "            except:\n",
    "    #             print(\"ERROR\")\n",
    "    #             lst_acc.append(\"ERROR\")\n",
    "                pass\n",
    "#             lst_labels.append(labels_dig)\n",
    "\n",
    "            df_bootstr_it = pd.DataFrame([inds, labels_dig]).T\n",
    "            df_bootstr_it.columns = [\"inds\", \"labels\"]\n",
    "\n",
    "            df_bootstr_value_counts = df_bootstr_it\\\n",
    "                .groupby(['inds'])\\\n",
    "                .agg({\n",
    "                    'labels' : lambda x:x.value_counts().index[0]\n",
    "                }).reset_index()\n",
    "\n",
    "            df_bootstrap_res = df_bootstrap_res.merge(\n",
    "                df_bootstr_value_counts.rename({\"labels\" : \"labels_\" + str(it)}, axis = 1)\n",
    "                , on = \"inds\"\n",
    "                , how = \"left\"\n",
    "            )\n",
    "\n",
    "        df_bootstrap_res[\"total_labels\"] = df_bootstrap_res.drop(\"inds\", axis = 1).mode(axis = 1)[0]\n",
    "        df_bootstrap_res[\"target\"] = digits.target\n",
    "\n",
    "        acc_score = accuracy_score(digits.target, df_bootstrap_res[\"total_labels\"])\n",
    "        lst_acc.append(np.round(acc_score, 4))\n",
    "\n",
    "    #     lst_res.append(lst_labels)\n",
    "    df_res[\"clusters_\" + str(num_clusters)] = lst_acc\n",
    "\n",
    "    # bagging_label = moda_func(np.array(lst_labels))\n",
    "    # bagging_score = accuracy_score(digits.target, bagging_label)\n",
    "    # df_res[\"bagging\"] = bagging_score\n",
    "    # display(df_res)\n",
    "    # НАДО ДОПИСИТЬ"
   ]
  },
  {
   "cell_type": "code",
   "execution_count": 127,
   "metadata": {},
   "outputs": [
    {
     "data": {
      "text/html": [
       "<div>\n",
       "<style scoped>\n",
       "    .dataframe tbody tr th:only-of-type {\n",
       "        vertical-align: middle;\n",
       "    }\n",
       "\n",
       "    .dataframe tbody tr th {\n",
       "        vertical-align: top;\n",
       "    }\n",
       "\n",
       "    .dataframe thead th {\n",
       "        text-align: right;\n",
       "    }\n",
       "</style>\n",
       "<table border=\"1\" class=\"dataframe\">\n",
       "  <thead>\n",
       "    <tr style=\"text-align: right;\">\n",
       "      <th></th>\n",
       "      <th>alpha</th>\n",
       "      <th>clusters_10</th>\n",
       "      <th>clusters_25</th>\n",
       "      <th>clusters_50</th>\n",
       "    </tr>\n",
       "  </thead>\n",
       "  <tbody>\n",
       "    <tr>\n",
       "      <th>0</th>\n",
       "      <td>0.0</td>\n",
       "      <td>0.7769</td>\n",
       "      <td>0.8692</td>\n",
       "      <td>0.9193</td>\n",
       "    </tr>\n",
       "    <tr>\n",
       "      <th>1</th>\n",
       "      <td>0.1</td>\n",
       "      <td>0.7841</td>\n",
       "      <td>0.9015</td>\n",
       "      <td>0.9271</td>\n",
       "    </tr>\n",
       "    <tr>\n",
       "      <th>2</th>\n",
       "      <td>1.0</td>\n",
       "      <td>0.7802</td>\n",
       "      <td>0.9093</td>\n",
       "      <td>0.9393</td>\n",
       "    </tr>\n",
       "    <tr>\n",
       "      <th>3</th>\n",
       "      <td>10.0</td>\n",
       "      <td>0.7346</td>\n",
       "      <td>0.9104</td>\n",
       "      <td>0.9421</td>\n",
       "    </tr>\n",
       "  </tbody>\n",
       "</table>\n",
       "</div>"
      ],
      "text/plain": [
       "   alpha  clusters_10  clusters_25  clusters_50\n",
       "0    0.0       0.7769       0.8692       0.9193\n",
       "1    0.1       0.7841       0.9015       0.9271\n",
       "2    1.0       0.7802       0.9093       0.9393\n",
       "3   10.0       0.7346       0.9104       0.9421"
      ]
     },
     "execution_count": 127,
     "metadata": {},
     "output_type": "execute_result"
    }
   ],
   "source": [
    "df_res"
   ]
  },
  {
   "cell_type": "code",
   "execution_count": 128,
   "metadata": {},
   "outputs": [],
   "source": [
    "df_res.to_csv(\"Ensemble_not_all_classes_sample.csv\")"
   ]
  },
  {
   "cell_type": "code",
   "execution_count": 129,
   "metadata": {},
   "outputs": [],
   "source": [
    "df_res_not_all_classes = df_res.copy()"
   ]
  },
  {
   "cell_type": "code",
   "execution_count": null,
   "metadata": {},
   "outputs": [],
   "source": []
  },
  {
   "cell_type": "code",
   "execution_count": null,
   "metadata": {},
   "outputs": [],
   "source": []
  },
  {
   "cell_type": "code",
   "execution_count": null,
   "metadata": {},
   "outputs": [],
   "source": []
  },
  {
   "cell_type": "code",
   "execution_count": 62,
   "metadata": {},
   "outputs": [
    {
     "data": {
      "text/plain": [
       "[0.892, 0.9037]"
      ]
     },
     "execution_count": 62,
     "metadata": {},
     "output_type": "execute_result"
    }
   ],
   "source": [
    "lst_acc"
   ]
  },
  {
   "cell_type": "code",
   "execution_count": 42,
   "metadata": {
    "collapsed": true,
    "jupyter": {
     "outputs_hidden": true
    }
   },
   "outputs": [
    {
     "name": "stderr",
     "output_type": "stream",
     "text": [
      "/home/mahir/anaconda3/lib/python3.8/site-packages/scipy/stats/_distn_infrastructure.py:2686: RuntimeWarning: invalid value encountered in true_divide\n",
      "  pk = 1.0*pk / np.sum(pk, axis=axis, keepdims=True)\n",
      "/home/mahir/anaconda3/lib/python3.8/site-packages/scipy/stats/_distn_infrastructure.py:2686: RuntimeWarning: invalid value encountered in true_divide\n",
      "  pk = 1.0*pk / np.sum(pk, axis=axis, keepdims=True)\n",
      "/home/mahir/anaconda3/lib/python3.8/site-packages/scipy/stats/_distn_infrastructure.py:2686: RuntimeWarning: invalid value encountered in true_divide\n",
      "  pk = 1.0*pk / np.sum(pk, axis=axis, keepdims=True)\n",
      "/home/mahir/anaconda3/lib/python3.8/site-packages/scipy/stats/_distn_infrastructure.py:2686: RuntimeWarning: invalid value encountered in true_divide\n",
      "  pk = 1.0*pk / np.sum(pk, axis=axis, keepdims=True)\n",
      "/home/mahir/anaconda3/lib/python3.8/site-packages/scipy/stats/_distn_infrastructure.py:2686: RuntimeWarning: invalid value encountered in true_divide\n",
      "  pk = 1.0*pk / np.sum(pk, axis=axis, keepdims=True)\n",
      "/home/mahir/anaconda3/lib/python3.8/site-packages/scipy/stats/_distn_infrastructure.py:2686: RuntimeWarning: invalid value encountered in true_divide\n",
      "  pk = 1.0*pk / np.sum(pk, axis=axis, keepdims=True)\n",
      "/home/mahir/anaconda3/lib/python3.8/site-packages/scipy/stats/_distn_infrastructure.py:2686: RuntimeWarning: invalid value encountered in true_divide\n",
      "  pk = 1.0*pk / np.sum(pk, axis=axis, keepdims=True)\n",
      "/home/mahir/anaconda3/lib/python3.8/site-packages/scipy/stats/_distn_infrastructure.py:2686: RuntimeWarning: invalid value encountered in true_divide\n",
      "  pk = 1.0*pk / np.sum(pk, axis=axis, keepdims=True)\n",
      "/home/mahir/anaconda3/lib/python3.8/site-packages/scipy/stats/_distn_infrastructure.py:2686: RuntimeWarning: invalid value encountered in true_divide\n",
      "  pk = 1.0*pk / np.sum(pk, axis=axis, keepdims=True)\n",
      "/home/mahir/anaconda3/lib/python3.8/site-packages/scipy/stats/_distn_infrastructure.py:2686: RuntimeWarning: invalid value encountered in true_divide\n",
      "  pk = 1.0*pk / np.sum(pk, axis=axis, keepdims=True)\n",
      "/home/mahir/anaconda3/lib/python3.8/site-packages/scipy/stats/_distn_infrastructure.py:2686: RuntimeWarning: invalid value encountered in true_divide\n",
      "  pk = 1.0*pk / np.sum(pk, axis=axis, keepdims=True)\n",
      "/home/mahir/anaconda3/lib/python3.8/site-packages/scipy/stats/_distn_infrastructure.py:2686: RuntimeWarning: invalid value encountered in true_divide\n",
      "  pk = 1.0*pk / np.sum(pk, axis=axis, keepdims=True)\n",
      "/home/mahir/anaconda3/lib/python3.8/site-packages/scipy/stats/_distn_infrastructure.py:2686: RuntimeWarning: invalid value encountered in true_divide\n",
      "  pk = 1.0*pk / np.sum(pk, axis=axis, keepdims=True)\n"
     ]
    }
   ],
   "source": [
    "centers, labels = k_plusplus_means_find_clusters_wuth_entropy(\n",
    "                data_bootstr, n_clusters=num_clusters, lst_centers = initial_centers, target_labels = target_labels, iter_num=num_iter, alpha = alpha\n",
    "            )"
   ]
  },
  {
   "cell_type": "code",
   "execution_count": 44,
   "metadata": {},
   "outputs": [],
   "source": [
    "clusters = labels\n",
    "targets = digits.target\n",
    "unique_clusters = sorted(pd.Series(clusters).unique())\n",
    "df = pd.DataFrame([list(clusters), list(targets)]).T\n",
    "df.columns = [\"clusters\", \"targets\"]\n",
    "dct_res = {}\n",
    "for i in unique_clusters:\n",
    "    dct_res[i] = df[df.clusters == i]\\\n",
    "        .groupby(\"clusters\")\\\n",
    "        .agg({\n",
    "            'targets' : lambda x:x.value_counts().index[0]\n",
    "        })\\\n",
    "        .rename({\"targets\" : \"cnt\"}, axis = 1)\\\n",
    "        .reset_index()\\\n",
    "        .loc[0, \"cnt\"]\n",
    "    \n"
   ]
  },
  {
   "cell_type": "code",
   "execution_count": 45,
   "metadata": {},
   "outputs": [],
   "source": [
    "\n",
    "dct_clusters_target = cluster_union(labels, digits.target)\n",
    "\n",
    "labels = np.array(pd.Series(labels).map(dct_clusters_target))\n",
    "\n",
    "labels_dig = np.zeros_like(labels)\n",
    "for i in range(num_clusters):\n",
    "    mask = (labels == i)\n",
    "    labels_dig[mask] = mode(digits.target[mask])[0]\n"
   ]
  },
  {
   "cell_type": "code",
   "execution_count": 47,
   "metadata": {},
   "outputs": [
    {
     "data": {
      "text/plain": [
       "1797"
      ]
     },
     "execution_count": 47,
     "metadata": {},
     "output_type": "execute_result"
    }
   ],
   "source": [
    "len(labels_dig)"
   ]
  },
  {
   "cell_type": "code",
   "execution_count": 32,
   "metadata": {},
   "outputs": [
    {
     "data": {
      "text/html": [
       "<div>\n",
       "<style scoped>\n",
       "    .dataframe tbody tr th:only-of-type {\n",
       "        vertical-align: middle;\n",
       "    }\n",
       "\n",
       "    .dataframe tbody tr th {\n",
       "        vertical-align: top;\n",
       "    }\n",
       "\n",
       "    .dataframe thead th {\n",
       "        text-align: right;\n",
       "    }\n",
       "</style>\n",
       "<table border=\"1\" class=\"dataframe\">\n",
       "  <thead>\n",
       "    <tr style=\"text-align: right;\">\n",
       "      <th></th>\n",
       "      <th>clusters</th>\n",
       "      <th>cnt</th>\n",
       "    </tr>\n",
       "  </thead>\n",
       "  <tbody>\n",
       "    <tr>\n",
       "      <th>0</th>\n",
       "      <td>0</td>\n",
       "      <td>4</td>\n",
       "    </tr>\n",
       "  </tbody>\n",
       "</table>\n",
       "</div>"
      ],
      "text/plain": [
       "   clusters  cnt\n",
       "0         0    4"
      ]
     },
     "execution_count": 32,
     "metadata": {},
     "output_type": "execute_result"
    }
   ],
   "source": [
    "df[(df[\"clusters\"] == 0)]\\\n",
    "        .groupby(\"clusters\")\\\n",
    "        .agg({\n",
    "            'targets' : lambda x:x.value_counts().index[0]\n",
    "        })\\\n",
    "        .rename({\"targets\" : \"cnt\"}, axis = 1).reset_index()"
   ]
  },
  {
   "cell_type": "code",
   "execution_count": 35,
   "metadata": {},
   "outputs": [
    {
     "data": {
      "text/plain": [
       "3"
      ]
     },
     "execution_count": 35,
     "metadata": {},
     "output_type": "execute_result"
    }
   ],
   "source": [
    "df[df.clusters == 1]\\\n",
    "        .groupby(\"clusters\")\\\n",
    "        .agg({\n",
    "            'targets' : lambda x:x.value_counts().index[0]\n",
    "        })\\\n",
    "        .rename({\"targets\" : \"cnt\"}, axis = 1)\\\n",
    "        .reset_index()\\\n",
    "        .loc[0, \"cnt\"]"
   ]
  },
  {
   "cell_type": "code",
   "execution_count": 34,
   "metadata": {},
   "outputs": [
    {
     "data": {
      "text/plain": [
       "{0: 4,\n",
       " 1: 3,\n",
       " 2: 7,\n",
       " 3: 6,\n",
       " 4: 1,\n",
       " 5: 1,\n",
       " 6: 0,\n",
       " 7: 2,\n",
       " 8: 0,\n",
       " 9: 9,\n",
       " 10: 5,\n",
       " 11: 7,\n",
       " 12: 4,\n",
       " 13: 8,\n",
       " 14: 4,\n",
       " 15: 2,\n",
       " 16: 9,\n",
       " 17: 6,\n",
       " 18: 5,\n",
       " 19: 8}"
      ]
     },
     "execution_count": 34,
     "metadata": {},
     "output_type": "execute_result"
    }
   ],
   "source": [
    "dct_res"
   ]
  },
  {
   "cell_type": "code",
   "execution_count": null,
   "metadata": {},
   "outputs": [],
   "source": [
    "dct_clusters_target = cluster_union(labels, digits.target)\n",
    "\n",
    "labels = pd.Series(labels).map(dct_clusters_target)"
   ]
  },
  {
   "cell_type": "code",
   "execution_count": null,
   "metadata": {},
   "outputs": [],
   "source": [
    "type(labels)"
   ]
  },
  {
   "cell_type": "code",
   "execution_count": null,
   "metadata": {},
   "outputs": [],
   "source": [
    "df_bootstrap_res.drop(\"inds\", axis = 1).mode(axis = 1)"
   ]
  },
  {
   "cell_type": "code",
   "execution_count": null,
   "metadata": {},
   "outputs": [],
   "source": [
    "df_bootstrap_res"
   ]
  },
  {
   "cell_type": "code",
   "execution_count": null,
   "metadata": {},
   "outputs": [],
   "source": [
    "df_bootstrap_res.total_labels.unique()"
   ]
  },
  {
   "cell_type": "raw",
   "metadata": {},
   "source": [
    "###### "
   ]
  },
  {
   "cell_type": "code",
   "execution_count": null,
   "metadata": {},
   "outputs": [],
   "source": [
    "lst_acc"
   ]
  },
  {
   "cell_type": "code",
   "execution_count": null,
   "metadata": {},
   "outputs": [],
   "source": [
    "df_bootstrap_res[\"total_labels\"]"
   ]
  },
  {
   "cell_type": "code",
   "execution_count": null,
   "metadata": {},
   "outputs": [],
   "source": [
    "lst_tmp = df_bootstrap_res.drop(\"inds\", axis = 1).mode(axis = 1)[0]\n",
    "lst_tmp[lst_tmp.isna()]"
   ]
  },
  {
   "cell_type": "code",
   "execution_count": null,
   "metadata": {},
   "outputs": [],
   "source": [
    "df_bootstrap_res.drop(\"inds\", axis = 1)"
   ]
  },
  {
   "cell_type": "code",
   "execution_count": null,
   "metadata": {},
   "outputs": [],
   "source": [
    "%%time\n",
    "print(len(inds), len(labels_dig))\n",
    "df_bootstr_res = pd.DataFrame([inds, labels_dig]).T\n",
    "df_bootstr_res.columns = [\"inds\", \"labels\"]\n",
    "df_tmp = df_bootstr_res\\\n",
    "    .groupby(['inds'])\\\n",
    "    .agg({\n",
    "        'labels' : [lambda x:x.value_counts().index[0], 'count']\n",
    "    }).reset_index()\n",
    "df_tmp"
   ]
  },
  {
   "cell_type": "code",
   "execution_count": null,
   "metadata": {},
   "outputs": [],
   "source": [
    "df_bootstr_res[df_bootstr_res.inds == 1795]"
   ]
  },
  {
   "cell_type": "code",
   "execution_count": null,
   "metadata": {},
   "outputs": [],
   "source": [
    "%%capture --no-display\n",
    "display(df_res)"
   ]
  },
  {
   "cell_type": "code",
   "execution_count": null,
   "metadata": {},
   "outputs": [],
   "source": [
    "bagging_label = moda_func(np.array(lst_labels))\n",
    "bagging_score = accuracy_score(digits.target, bagging_label)\n",
    "df_res[\"baging\"] = bagging_score"
   ]
  },
  {
   "cell_type": "code",
   "execution_count": null,
   "metadata": {},
   "outputs": [],
   "source": [
    "df_res"
   ]
  },
  {
   "cell_type": "markdown",
   "metadata": {},
   "source": [
    "## Точность кластеризации с помощью accuracy"
   ]
  },
  {
   "cell_type": "code",
   "execution_count": null,
   "metadata": {},
   "outputs": [],
   "source": [
    "target_labels = digits.target\n",
    "alpha_lst = [0, 0.01, 0.1, 1, 5, 10, 100]\n",
    "df_res = pd.DataFrame(alpha_lst, columns = [\"alpha\"])\n",
    "\n",
    "for it in range(10):\n",
    "    initial_centers = get_centers(digits.data, n_clusters=10, iter_num=50, ind_rand = True)\n",
    "    lst_tmp = []\n",
    "    for alpha in alpha_lst:\n",
    "        print(alpha)\n",
    "        try:\n",
    "            centers, labels = k_plusplus_means_find_clusters_wuth_entropy(\n",
    "                digits.data, n_clusters=10, lst_centers = initial_centers, target_labels = target_labels, iter_num=50, alpha = alpha\n",
    "            )\n",
    "\n",
    "\n",
    "            labels_dig = np.zeros_like(labels)\n",
    "            for i in range(10):\n",
    "                mask = (labels == i)\n",
    "                labels_dig[mask] = mode(digits.target[mask])[0]\n",
    "            \n",
    "            acc_score = accuracy_score(digits.target, labels_dig)\n",
    "            lst_tmp.append(np.round(acc_score, 4))\n",
    "            print(acc_score)\n",
    "        except:\n",
    "            print(\"ERROR\")\n",
    "            lst_tmp.append(\"ERROR\")\n",
    "    df_res[it] = lst_tmp"
   ]
  },
  {
   "cell_type": "code",
   "execution_count": null,
   "metadata": {},
   "outputs": [],
   "source": [
    "df_res"
   ]
  },
  {
   "cell_type": "code",
   "execution_count": null,
   "metadata": {},
   "outputs": [],
   "source": [
    "df_res"
   ]
  },
  {
   "cell_type": "code",
   "execution_count": null,
   "metadata": {},
   "outputs": [],
   "source": [
    "df_res.to_csv(\"clusterization_result_0308.csv\")"
   ]
  },
  {
   "cell_type": "markdown",
   "metadata": {},
   "source": [
    "## Adjusted Rand index"
   ]
  },
  {
   "cell_type": "code",
   "execution_count": null,
   "metadata": {},
   "outputs": [],
   "source": [
    "adjusted_rand_score(digits.target, labels_dig)"
   ]
  },
  {
   "cell_type": "markdown",
   "metadata": {},
   "source": [
    "## Silhouette Coefficient"
   ]
  },
  {
   "cell_type": "code",
   "execution_count": null,
   "metadata": {},
   "outputs": [],
   "source": [
    "np.mean(silhouette_samples(digits.data, labels))"
   ]
  },
  {
   "cell_type": "code",
   "execution_count": null,
   "metadata": {},
   "outputs": [],
   "source": []
  },
  {
   "cell_type": "code",
   "execution_count": null,
   "metadata": {},
   "outputs": [],
   "source": []
  }
 ],
 "metadata": {
  "kernelspec": {
   "display_name": "Python 3",
   "language": "python",
   "name": "python3"
  },
  "language_info": {
   "codemirror_mode": {
    "name": "ipython",
    "version": 3
   },
   "file_extension": ".py",
   "mimetype": "text/x-python",
   "name": "python",
   "nbconvert_exporter": "python",
   "pygments_lexer": "ipython3",
   "version": "3.8.5"
  }
 },
 "nbformat": 4,
 "nbformat_minor": 4
}
