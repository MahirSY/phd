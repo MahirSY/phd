{
 "cells": [
  {
   "cell_type": "code",
   "execution_count": 103,
   "metadata": {},
   "outputs": [],
   "source": [
    "%matplotlib inline\n",
    "import matplotlib.pyplot as plt\n",
    "import pandas as pd\n",
    "import numpy as np\n",
    "import seaborn as sns\n",
    "import scipy as sp\n",
    "from sklearn import datasets\n",
    "from numpy import linalg as LA\n",
    "from sklearn.metrics.pairwise import pairwise_distances\n",
    "import sys\n",
    "from scipy.stats import entropy\n",
    "from sklearn.datasets import load_digits\n",
    "from tqdm import tqdm\n",
    "from scipy.optimize import linear_sum_assignment\n",
    "from scipy.cluster.hierarchy import dendrogram, linkage\n",
    "from multiprocessing import Pool\n",
    "import itertools\n",
    "from scipy.cluster.hierarchy import fcluster\n",
    "from collections import Counter\n",
    "import datetime"
   ]
  },
  {
   "cell_type": "code",
   "execution_count": 2,
   "metadata": {},
   "outputs": [
    {
     "name": "stdout",
     "output_type": "stream",
     "text": [
      "[[0.4  0.53]\n",
      " [0.22 0.38]\n",
      " [0.35 0.32]\n",
      " [0.26 0.19]\n",
      " [0.08 0.41]\n",
      " [0.45 0.3 ]]\n"
     ]
    }
   ],
   "source": [
    "#Our Dataset\n",
    "data = np.array([0.40,0.53,0.22,0.38,0.35,0.32,0.26,0.19,0.08,0.41,0.45,0.30]).reshape(6,2)\n",
    "print(data)"
   ]
  },
  {
   "cell_type": "code",
   "execution_count": 3,
   "metadata": {},
   "outputs": [
    {
     "data": {
      "text/plain": [
       "(1797, 64)"
      ]
     },
     "execution_count": 3,
     "metadata": {},
     "output_type": "execute_result"
    }
   ],
   "source": [
    "digits = load_digits()\n",
    "targets = digits.target\n",
    "digits.data.shape"
   ]
  },
  {
   "cell_type": "markdown",
   "metadata": {},
   "source": [
    "Visualising Data"
   ]
  },
  {
   "cell_type": "code",
   "execution_count": 4,
   "metadata": {},
   "outputs": [
    {
     "data": {
      "text/plain": [
       "<matplotlib.collections.PathCollection at 0x7ff2d87c7100>"
      ]
     },
     "execution_count": 4,
     "metadata": {},
     "output_type": "execute_result"
    },
    {
     "data": {
      "image/png": "[encoded data removed]",
      "text/plain": [
       "<Figure size 432x288 with 1 Axes>"
      ]
     },
     "metadata": {
      "needs_background": "light"
     },
     "output_type": "display_data"
    }
   ],
   "source": [
    "fig = plt.figure()\n",
    "fig.suptitle('Scatter Plot for clusters')\n",
    "ax = fig.add_subplot(1,1,1)\n",
    "ax.set_xlabel('X')\n",
    "ax.set_ylabel('Y')\n",
    "ax.scatter(data[:,0],data[:,1])"
   ]
  },
  {
   "cell_type": "markdown",
   "metadata": {},
   "source": [
    "  Distance Matrix: It is the matrix which contains distances between all the datapoints. If you have n datapoints, the distance matrix will be of order nXn.\n",
    "  To calculate distance matrix, we use pairwise distance function of sklearn which returns distance matrix. For hierarchical clustering we use euclidean distance to calculate distance between two datapoints."
   ]
  },
  {
   "cell_type": "code",
   "execution_count": 5,
   "metadata": {},
   "outputs": [],
   "source": [
    "def hierarchical_clustering(data,linkage,no_of_clusters, targets, alpha = 0, verbose = False):  \n",
    "    #first step is to calculate the initial distance matrix\n",
    "    #it consists distances from all the point to all the point\n",
    "    color = ['r','g','b','y','c','m','k','w']\n",
    "    initial_distances = pairwise_distances(data,metric='euclidean')\n",
    "    #making all the diagonal elements infinity \n",
    "    np.fill_diagonal(initial_distances,sys.maxsize)\n",
    "    clusters = find_clusters(initial_distances,linkage, targets, alpha, verbose) \n",
    "    \n",
    "    #plotting the clusters\n",
    "    iteration_number = initial_distances.shape[0] - no_of_clusters\n",
    "    clusters_to_plot = clusters[iteration_number]\n",
    "    arr = np.unique(clusters_to_plot)\n",
    "    \n",
    "    indices_to_plot = []\n",
    "    fig = plt.figure()\n",
    "    fig.suptitle('Scatter Plot for clusters')\n",
    "    ax = fig.add_subplot(1,1,1)\n",
    "    ax.set_xlabel('X')\n",
    "    ax.set_ylabel('Y')\n",
    "    for x in np.nditer(arr):\n",
    "        indices_to_plot.append(np.where(clusters_to_plot==x))\n",
    "    p=0\n",
    "    \n",
    "    print(clusters_to_plot)\n",
    "    for i in range(0,len(indices_to_plot)):\n",
    "        for j in np.nditer(indices_to_plot[i]):\n",
    "               ax.scatter(data[j,0],data[j,1], c= color[p])\n",
    "        p = p + 1\n",
    "        \n",
    "    plt.show()\n",
    "    "
   ]
  },
  {
   "cell_type": "code",
   "execution_count": 6,
   "metadata": {},
   "outputs": [],
   "source": [
    "def add_dist(lst_clusters, clust_labels, target_labels):\n",
    "    \n",
    "    true_list = []\n",
    "    false_list = []\n",
    "    entropy_true_res = []\n",
    "    entropy_false_res = []\n",
    "    \n",
    "    for it in lst_clusters:\n",
    "        \n",
    "        true_list = list(\n",
    "            target_labels[clust_labels == it] == it\n",
    "        ) + [True]\n",
    "        \n",
    "        false_list = list(\n",
    "            target_labels[clust_labels == it] == it\n",
    "        ) + [False]\n",
    "        \n",
    "        entropy_true_res.append(entropy(true_list))\n",
    "        entropy_false = entropy(false_list)\n",
    "        \n",
    "        if str(entropy_false) == \"nan\":\n",
    "            entropy_false_res.append(0)\n",
    "        else:\n",
    "            entropy_false_res.append(entropy_false)\n",
    "    \n",
    "    return entropy_true_res, entropy_false_res"
   ]
  },
  {
   "cell_type": "code",
   "execution_count": 7,
   "metadata": {},
   "outputs": [],
   "source": [
    "def find_clusters(input,linkage, targets, alpha = 0, verbose = False):\n",
    "    clusters = {}\n",
    "    row_index = -1\n",
    "    col_index = -1\n",
    "    array = []\n",
    "    \n",
    "\n",
    "    for n in range(input.shape[0]):\n",
    "        array.append(n)\n",
    "        \n",
    "    clusters[0] = array.copy()\n",
    "\n",
    "    df_clusters = pd.DataFrame([])\n",
    "    df_clusters[\"element\"] = range(input.shape[0])\n",
    "\n",
    "    #finding minimum value from the distance matrix\n",
    "    #note that this loop will always return minimum value from bottom triangle of matrix\n",
    "    for k in tqdm(range(1, input.shape[0])):\n",
    "        print(\"k = \", k)\n",
    "        min_val = sys.maxsize\n",
    "        \n",
    "        df_clusters[\"cluster\"] = array\n",
    "        \n",
    "#         for i in range(0, input.shape[0]):\n",
    "#             for j in range(0, input.shape[1]):\n",
    "#                 if i != j:\n",
    "\n",
    "#                     df_cluster_i = df_clusters[df_clusters.cluster == array[i]]\n",
    "#                     el_cluster_i = list(df_cluster_i.element)\n",
    "\n",
    "#                     el_cluster_i.append(j)\n",
    "\n",
    "#                     input[i][j] = input[i][j] + alpha * entropy(\n",
    "#                         [targets[x] for x in el_cluster_i]\n",
    "#                     )\n",
    "\n",
    "#     #                 lst_clusters = array,unique()\n",
    "#     #                 entropy_true_res, entropy_false_res = \\\n",
    "#     #                     add_dist(lst_clusters, array, target_labels)\n",
    "\n",
    "#     #                 entropy_df = pd.DataFrame([], columns=range(n_clusters))\n",
    "\n",
    "#     #                 for it in range(n_clusters):\n",
    "#     #                     entropy_df[it] = ((target_labels == it)*entropy_true_res[it]\\\n",
    "#     #                     + (target_labels != it)*entropy_false_res[it])\n",
    "                    \n",
    "        for i in range(0, input.shape[0]):\n",
    "            for j in range(0, input.shape[1]):\n",
    "                if(input[i][j]<=min_val):\n",
    "                    min_val = input[i][j]\n",
    "                    row_index = i\n",
    "                    col_index = j\n",
    "                    \n",
    "        #once we find the minimum value, we need to update the distance matrix\n",
    "        #updating the matrix by calculating the new distances from the cluster to all points\n",
    "        \n",
    "        #for Single Linkage\n",
    "        if(linkage == \"single\" or linkage ==\"Single\"):\n",
    "            for i in range(0,input.shape[0]):\n",
    "                if(i != col_index):\n",
    "                    #we calculate the distance of every data point from newly formed cluster and update the matrix.\n",
    "                    temp = min(input[col_index][i],input[row_index][i])\n",
    "                    #we update the matrix symmetrically as our distance matrix should always be symmetric\n",
    "                    input[col_index][i] = temp\n",
    "                    input[i][col_index] = temp\n",
    "        #for Complete Linkage\n",
    "        elif(linkage==\"Complete\" or linkage == \"complete\"):\n",
    "             for i in range(0,input.shape[0]):\n",
    "                if(i != col_index and i!=row_index):\n",
    "                    temp = min(input[col_index][i],input[row_index][i])\n",
    "                    input[col_index][i] = temp\n",
    "                    input[i][col_index] = temp\n",
    "        #for Average Linkage\n",
    "        elif(linkage==\"Average\" or linkage == \"average\"):\n",
    "             for i in range(0,input.shape[0]):\n",
    "                if(i != col_index and i!=row_index):\n",
    "                    temp = (input[col_index][i]+input[row_index][i])/2\n",
    "                    input[col_index][i] = temp\n",
    "                    input[i][col_index] = temp\n",
    "        \n",
    "        elif(linkage==\"Centroid\" or linkage ==\"centroid\"):\n",
    "            for i in range(0,input.shape[0]):\n",
    "                if(i!=col_index and i!=row_index):\n",
    "                    dist_centroid = cal_dist_from_centroid(i,row_index,col_index)\n",
    "                    input[col_index][i] = dist_centroid\n",
    "                    input[i][col_index] = dist_centroid\n",
    "                   \n",
    "        #set the rows and columns for the cluster with higher index i.e. the row index to infinity\n",
    "        #Set input[row_index][for_all_i] = infinity\n",
    "        #set input[for_all_i][row_index] = infinity\n",
    "        for i in range (0,input.shape[0]):\n",
    "            input[row_index][i] = sys.maxsize\n",
    "            input[i][row_index] = sys.maxsize\n",
    "            \n",
    "        #Manipulating the dictionary to keep track of cluster formation in each step\n",
    "        #if k=0,then all datapoints are clusters\n",
    "       \n",
    "        minimum = min(row_index,col_index)\n",
    "        maximum = max(row_index,col_index)\n",
    "        for n in range(len(array)):\n",
    "            if(array[n]==maximum):\n",
    "                array[n] = minimum\n",
    "        clusters[k] = array.copy()\n",
    "        if verbose:\n",
    "            print(k)\n",
    "        \n",
    "    return clusters"
   ]
  },
  {
   "cell_type": "code",
   "execution_count": 8,
   "metadata": {},
   "outputs": [
    {
     "name": "stdout",
     "output_type": "stream",
     "text": [
      "CPU times: user 7 µs, sys: 0 ns, total: 7 µs\n",
      "Wall time: 12.9 µs\n"
     ]
    }
   ],
   "source": [
    "%%time\n",
    "def find_clusters_with_entropy(alpha = 0):\n",
    "    linkage = \"single\"\n",
    "    # alpha = 0\n",
    "    # len_data = len(digits.data)\n",
    "    len_data = 500\n",
    "    data = pairwise_distances(digits.data[:len_data], digits.data[:len_data], metric='euclidean').copy()\n",
    "    targets = digits.target[:len_data].copy()\n",
    "    np.fill_diagonal(data,sys.maxsize)\n",
    "\n",
    "    clusters = {}\n",
    "    row_index = -1\n",
    "    col_index = -1\n",
    "    array = []\n",
    "\n",
    "\n",
    "    for n in range(data.shape[0]):\n",
    "        array.append(n)\n",
    "\n",
    "    clusters[0] = array.copy()\n",
    "\n",
    "    df_clusters = pd.DataFrame([])\n",
    "    df_clusters[\"element\"] = range(data.shape[0])\n",
    "    num_targets = len(np.unique(targets))\n",
    "    lst_targets = np.unique(targets)\n",
    "\n",
    "    \n",
    "    #finding minimum value from the distance matrix\n",
    "    #note that this loop will always return minimum value from bottom triangle of matrix\n",
    "#     for k in tqdm(range(1, data.shape[0])):\n",
    "    for k in tqdm(range(1, data.shape[0])):\n",
    "        min_val = sys.maxsize\n",
    "\n",
    "        df_clusters[\"cluster\"] = array\n",
    "        data_with_entropy = data.copy()\n",
    "        for i in range(0, data.shape[0]):\n",
    "            entropy_array = []\n",
    "    #         if (i == 10):\n",
    "    #             print(\"hi1\")\n",
    "            df_cluster_i = df_clusters[df_clusters.cluster == array[i]]\n",
    "            el_cluster_i = list(df_cluster_i.element)\n",
    "\n",
    "            len_el_cluster_i = len(el_cluster_i)\n",
    "            len_el_cluster_i_next = len_el_cluster_i + 1\n",
    "\n",
    "    #         if (i == 10):\n",
    "    #             print(\"hi3\")\n",
    "    #         el_cluster_i_freq = np.array(np.zeros(num_targets))\n",
    "    #         counts_elements = Counter(el_cluster_i)\n",
    "\n",
    "    #         for key in counts_elements.keys():\n",
    "    # #             print(key)\n",
    "    #             el_cluster_i_freq[targets[key]] = counts_elements[targets[key]]\n",
    "\n",
    "            for trg in lst_targets:\n",
    "                el_cluster_i_tmp = targets[el_cluster_i].copy()\n",
    "                el_cluster_i_tmp = np.append(el_cluster_i_tmp, trg)\n",
    "                counts_elements = Counter(el_cluster_i_tmp)\n",
    "                entropy_array.append(\n",
    "                    entropy(np.fromiter(list(counts_elements.values()), dtype = float)/len_el_cluster_i_next)\n",
    "                )\n",
    "\n",
    "    #         if (i == 10):\n",
    "    #             print(\"hi2\")\n",
    "            for j in range(0, data.shape[1]):\n",
    "                if i != j:\n",
    "\n",
    "    # #                 el_cluster_i_copy = el_cluster_i.copy()\n",
    "\n",
    "    # #                 el_cluster_i_copy.append(j)\n",
    "\n",
    "    # #                 unique_elements, counts_elements = np.unique(\n",
    "    # #                     [targets[x] for x in el_cluster_i_copy]\n",
    "    # #                     , return_counts=True\n",
    "    # #                 )\n",
    "    # #                 print(i, j)\n",
    "    #                 el_cluster_i_freq_copy = el_cluster_i_freq.copy()\n",
    "    #                 el_cluster_i_freq_copy[targets[j]] = el_cluster_i_freq_copy[targets[j]] + 1\n",
    "    #                 el_cluster_i_freq_copy = el_cluster_i_freq_copy[el_cluster_i_freq_copy.nonzero()]\n",
    "\n",
    "    #                 data[i][j] = data[i][j] + alpha * entropy(\n",
    "    #                     el_cluster_i_freq_copy/(len_el_cluster_i + 1)\n",
    "    #                 )\n",
    "                    data_with_entropy[i][j] = data_with_entropy[i][j] + alpha * entropy_array[targets[j]]\n",
    "\n",
    "    #                 print(alpha * entropy_array[targets[j]])\n",
    "\n",
    "\n",
    "    #             if (data[i][j] <= min_val):\n",
    "    #                 min_val = data[i][j]\n",
    "    #                 row_index = i\n",
    "    #                 col_index = j\n",
    "\n",
    "        #                 lst_clusters = array,unique()\n",
    "        #                 entropy_true_res, entropy_false_res = \\\n",
    "        #                     add_dist(lst_clusters, array, target_labels)\n",
    "\n",
    "        #                 entropy_df = pd.DataFrame([], columns=range(n_clusters))\n",
    "\n",
    "        #                 for it in range(n_clusters):\n",
    "        #                     entropy_df[it] = ((target_labels == it)*entropy_true_res[it]\\\n",
    "        #                     + (target_labels != it)*entropy_false_res[it])\n",
    "\n",
    "    #     for i in range(0, data.shape[0]):\n",
    "    #         for j in range(0, data.shape[1]):\n",
    "    #             if(data[i][j]<=min_val):\n",
    "    #                 min_val = data[i][j]\n",
    "    #                 row_index = i\n",
    "    #                 col_index = j\n",
    "        ind = np.unravel_index(np.argmin(data_with_entropy, axis=None), data.shape)\n",
    "        row_index = ind[0]\n",
    "        col_index = ind[1]\n",
    "        min_val = data_with_entropy[ind]\n",
    "    #     print(ind)\n",
    "\n",
    "    #     #once we find the minimum value, we need to update the distance matrix\n",
    "    #     #updating the matrix by calculating the new distances from the cluster to all points\n",
    "\n",
    "    #     #for Single Linkage\n",
    "    #     if(linkage == \"single\" or linkage ==\"Single\"):\n",
    "    #         for i in range(0,data.shape[0]):\n",
    "    #             if(i != col_index):\n",
    "    #                 #we calculate the distance of every data point from newly formed cluster and update the matrix.\n",
    "    #                 temp = min(data[col_index][i],data[row_index][i])\n",
    "    #                 #we update the matrix symmetrically as our distance matrix should always be symmetric\n",
    "    #                 data[col_index][i] = temp\n",
    "    #                 data[i][col_index] = temp\n",
    "    #     #for Complete Linkage\n",
    "    #     elif(linkage==\"Complete\" or linkage == \"complete\"):\n",
    "    #          for i in range(0,data.shape[0]):\n",
    "    #             if(i != col_index and i!=row_index):\n",
    "    #                 temp = min(data[col_index][i],data[row_index][i])\n",
    "    #                 data[col_index][i] = temp\n",
    "    #                 data[i][col_index] = temp\n",
    "    #     #for Average Linkage\n",
    "    #     elif(linkage==\"Average\" or linkage == \"average\"):\n",
    "    #          for i in range(0,data.shape[0]):\n",
    "    #             if(i != col_index and i!=row_index):\n",
    "    #                 temp = (data[col_index][i]+data[row_index][i])/2\n",
    "    #                 data[col_index][i] = temp\n",
    "    #                 data[i][col_index] = temp\n",
    "\n",
    "    #     elif(linkage==\"Centroid\" or linkage ==\"centroid\"):\n",
    "    #         for i in range(0,data.shape[0]):\n",
    "    #             if(i!=col_index and i!=row_index):\n",
    "    #                 dist_centroid = cal_dist_from_centroid(i,row_index,col_index)\n",
    "    #                 data[col_index][i] = dist_centroid\n",
    "    #                 data[i][col_index] = dist_centroid\n",
    "\n",
    "        part1 = df_clusters[df_clusters.cluster == array[row_index]].element\n",
    "        part2 = df_clusters[df_clusters.cluster == array[col_index]].element\n",
    "        for i1 in part1:\n",
    "            for i2 in part2:\n",
    "                data[i1][i2] = sys.maxsize\n",
    "                data[i2][i1] = sys.maxsize\n",
    "\n",
    "        for i1 in part1:\n",
    "            array[i1] = k + data.shape[0]\n",
    "        for i2 in part2:\n",
    "            array[i2] = k + data.shape[0]\n",
    "        #set the rows and columns for the cluster with higher index i.e. the row index to infinity\n",
    "        #Set data[row_index][for_all_i] = infinity\n",
    "        #set data[for_all_i][row_index] = infinity\n",
    "    #     for i in range (0,data.shape[0]):\n",
    "    #         data[row_index][i] = sys.maxsize\n",
    "    #         data[i][row_index] = sys.maxsize\n",
    "\n",
    "    #     #Manipulating the dictionary to keep track of cluster formation in each step\n",
    "    #     #if k=0,then all datapoints are clusters\n",
    "\n",
    "    #     minimum = min(row_index,col_index)\n",
    "    #     maximum = max(row_index,col_index)\n",
    "    #     for n in range(len(array)):\n",
    "    #         if(array[n]==maximum):\n",
    "    #             array[n] = minimum\n",
    "        clusters[k] = array.copy()\n",
    "    \n",
    "    print(\"hihi2\")\n",
    "#     print(data.shape[0])\n",
    "    acc_res = cluster_score(targets, clusters, data)\n",
    "    \n",
    "    print(\"hihi3\")\n",
    "    return acc_res"
   ]
  },
  {
   "cell_type": "code",
   "execution_count": 9,
   "metadata": {},
   "outputs": [
    {
     "name": "stdout",
     "output_type": "stream",
     "text": [
      "CPU times: user 30 µs, sys: 6 µs, total: 36 µs\n",
      "Wall time: 44.6 µs\n"
     ]
    }
   ],
   "source": [
    "%%time\n",
    "def find_clusters_with_entropy(alpha = 0):\n",
    "    linkage = \"single\"\n",
    "    # alpha = 0\n",
    "    # len_data = len(digits.data)\n",
    "    len_data = 500\n",
    "    data = pairwise_distances(digits.data[:len_data], digits.data[:len_data], metric='euclidean').copy()\n",
    "    targets = digits.target[:len_data].copy()\n",
    "    np.fill_diagonal(data,sys.maxsize)\n",
    "\n",
    "    clusters = {}\n",
    "    row_index = -1\n",
    "    col_index = -1\n",
    "    array = []\n",
    "\n",
    "\n",
    "    for n in range(data.shape[0]):\n",
    "        array.append(n)\n",
    "\n",
    "    clusters[0] = array.copy()\n",
    "\n",
    "    df_clusters = pd.DataFrame([])\n",
    "    df_clusters[\"element\"] = range(data.shape[0])\n",
    "    num_targets = len(np.unique(targets))\n",
    "    lst_targets = np.unique(targets)\n",
    "\n",
    "    \n",
    "    \n",
    "    \n",
    "    cluster_counter_array = np.array(2 * len_data)\n",
    "    target_counter_array = np.array(2 * len_data)\n",
    "    cluster_array_entropy = np.array(2 * len_data)\n",
    "    len_add_arr = 2\n",
    "\n",
    "    cluster_counter_array = [\n",
    "        Counter([targets[i]])\n",
    "        for i in range(len_data)\n",
    "    ]\n",
    "\n",
    "    target_counter_array = np.matrix(\n",
    "        [\n",
    "            [\n",
    "                Counter(targets[[i, j]])\n",
    "                for j in range(len_data)\n",
    "            ]\n",
    "            for i in range(len_data)\n",
    "        ]\n",
    "    )\n",
    "\n",
    "    cluster_array_entropy = np.matrix(\n",
    "        [\n",
    "            [\n",
    "                entropy(\n",
    "                    np.fromiter(\n",
    "                        list(target_counter_array[i][j].values())\n",
    "                        , dtype = float\n",
    "                    )/len_add_arr\n",
    "                )\n",
    "                for j in range(len_data)\n",
    "            ]\n",
    "            for i in range(len_data)\n",
    "        ]\n",
    "    )\n",
    "    \n",
    "    \n",
    "    \n",
    "    #finding minimum value from the distance matrix\n",
    "    #note that this loop will always return minimum value from bottom triangle of matrix\n",
    "#     for k in tqdm(range(1, data.shape[0])):\n",
    "    for k in tqdm(range(1, data.shape[0])):\n",
    "        min_val = sys.maxsize\n",
    "\n",
    "        df_clusters[\"cluster\"] = array\n",
    "        data_with_entropy = data.copy()\n",
    "        for i in range(0, data.shape[0]):\n",
    "            for j in range(0, data.shape[1]):\n",
    "                if i != j:\n",
    "                    data_with_entropy[i][j] = data_with_entropy[i][j] + alpha * cluster_array_entropy[array[i]][array[j]]\n",
    "\n",
    "        ind = np.unravel_index(np.argmin(data_with_entropy, axis=None), data.shape)\n",
    "        row_index = ind[0]\n",
    "        col_index = ind[1]\n",
    "        min_val = data_with_entropy[ind]\n",
    "\n",
    "        part1 = df_clusters[df_clusters.cluster == array[row_index]].element\n",
    "        part2 = df_clusters[df_clusters.cluster == array[col_index]].element\n",
    "        for i1 in part1:\n",
    "            for i2 in part2:\n",
    "                data[i1][i2] = sys.maxsize\n",
    "                data[i2][i1] = sys.maxsize\n",
    "\n",
    "        for i1 in part1:\n",
    "            array[i1] = k + data.shape[0]\n",
    "        for i2 in part2:\n",
    "            array[i2] = k + data.shape[0]\n",
    "            \n",
    "        clusters[k] = array.copy()\n",
    "    \n",
    "        add_cluster_counter = cluster_counter_array[row_index] + cluster_counter_array(col_index)\n",
    "        \n",
    "        add_col_counter = [x + add_cluster_counter for x in cluster_counter_array]\n",
    "        add_col_entropy = [entropy(x) for x in add_col_counter]\n",
    "        \n",
    "        cluster_counter_array = np.append(\n",
    "            cluster_counter_array\n",
    "            , add_cluster_counter\n",
    "        )\n",
    "        \n",
    "        target_counter_array = np.hstack((target_counter_array, add_col_counter))\n",
    "        add_col_counter = np.append(add_col_counter, add_cluster_counter)\n",
    "        target_counter_array = np.append(target_counter_array, add_col_counter)\n",
    "        \n",
    "        cluster_array_entropy = np.hstack((cluster_array_entropy, add_col_entropy))\n",
    "        add_col_entropy = np.append(add_col_counter, sys.maxsize)\n",
    "        cluster_array_entropy = np.append(cluster_array_entropy, add_col_entropy)\n",
    "        \n",
    "    print(\"hihi2\")\n",
    "#     print(data.shape[0])\n",
    "    acc_res = cluster_score(targets, clusters, data)\n",
    "    \n",
    "    print(\"hihi3\")\n",
    "    return acc_res"
   ]
  },
  {
   "cell_type": "code",
   "execution_count": 10,
   "metadata": {},
   "outputs": [
    {
     "name": "stdout",
     "output_type": "stream",
     "text": [
      "CPU times: user 17 µs, sys: 3 µs, total: 20 µs\n",
      "Wall time: 26.5 µs\n"
     ]
    }
   ],
   "source": [
    "%%time\n",
    "def find_clusters_with_entropy(alpha = 0, len_data = 500):\n",
    "    linkage = \"single\"\n",
    "    # alpha = 0\n",
    "    # len_data = len(digits.data)\n",
    "#     len_data = 1000\n",
    "    data = pairwise_distances(digits.data[:len_data], digits.data[:len_data], metric='euclidean').copy()\n",
    "    targets = digits.target[:len_data].copy()\n",
    "    np.fill_diagonal(data,sys.maxsize)\n",
    "\n",
    "    clusters = {}\n",
    "    row_index = -1\n",
    "    col_index = -1\n",
    "    array = []\n",
    "\n",
    "\n",
    "    for n in range(data.shape[0]):\n",
    "        array.append(n)\n",
    "\n",
    "    clusters[0] = array.copy()\n",
    "\n",
    "    df_clusters = pd.DataFrame([])\n",
    "    df_clusters[\"element\"] = range(data.shape[0])\n",
    "    num_targets = len(np.unique(targets))\n",
    "    lst_targets = np.unique(targets)\n",
    "\n",
    "\n",
    "\n",
    "\n",
    "    cluster_counter_array = np.array(2 * len_data)\n",
    "    target_counter_array = np.array(2 * len_data)\n",
    "    cluster_array_entropy = np.array(2 * len_data)\n",
    "    len_add_arr = 2\n",
    "\n",
    "    cluster_counter_array = [\n",
    "        Counter([targets[i]])\n",
    "        for i in range(len_data)\n",
    "    ]\n",
    "\n",
    "    target_counter_array = \\\n",
    "        [\n",
    "            [\n",
    "                Counter(targets[[i, j]])\n",
    "                for j in range(len_data)\n",
    "            ]\n",
    "            for i in range(len_data)\n",
    "        ]\n",
    "\n",
    "\n",
    "    cluster_array_entropy = \\\n",
    "        [\n",
    "            [\n",
    "                entropy(\n",
    "                    np.fromiter(\n",
    "                        list(target_counter_array[i][j].values())\n",
    "                        , dtype = float\n",
    "                    )/len_add_arr\n",
    "                )\n",
    "                for j in range(len_data)\n",
    "            ]\n",
    "            for i in range(len_data)\n",
    "        ]\n",
    "\n",
    "\n",
    "\n",
    "\n",
    "    #finding minimum value from the distance matrix\n",
    "    #note that this loop will always return minimum value from bottom triangle of matrix\n",
    "    #     for k in tqdm(range(1, data.shape[0])):\n",
    "    for k in tqdm(range(1, data.shape[0])):\n",
    "#         print(k)\n",
    "        min_val = sys.maxsize\n",
    "\n",
    "        df_clusters[\"cluster\"] = array\n",
    "        data_with_entropy = data.copy()\n",
    "        \n",
    "        cluster_array_entropy_k = np.array(\n",
    "            [\n",
    "                [\n",
    "                    cluster_array_entropy[array[i]][array[j]]\n",
    "                    for j in range(0, data.shape[1])\n",
    "                ]\n",
    "                for i in range(0, data.shape[0])\n",
    "            ]\n",
    "        )\n",
    "        \n",
    "        data_with_entropy = data_with_entropy + alpha * cluster_array_entropy_k\n",
    "#         for i in range(0, data.shape[0]):\n",
    "#             for j in range(0, data.shape[1]):\n",
    "#                 if i != j:\n",
    "#                     data_with_entropy[i][j] = data_with_entropy[i][j] + alpha * cluster_array_entropy[array[i]][array[j]]\n",
    "\n",
    "        ind = np.unravel_index(np.argmin(data_with_entropy, axis=None), data.shape)\n",
    "        row_index = ind[0]\n",
    "        col_index = ind[1]\n",
    "        min_val = data_with_entropy[ind]\n",
    "\n",
    "        part1 = df_clusters[df_clusters.cluster == array[row_index]].element\n",
    "        part2 = df_clusters[df_clusters.cluster == array[col_index]].element\n",
    "        for i1 in part1:\n",
    "            for i2 in part2:\n",
    "                data[i1][i2] = sys.maxsize\n",
    "                data[i2][i1] = sys.maxsize\n",
    "\n",
    "        for i1 in part1:\n",
    "            array[i1] = k - 1 + data.shape[0]\n",
    "        for i2 in part2:\n",
    "            array[i2] = k - 1 + data.shape[0]\n",
    "\n",
    "        clusters[k] = array.copy()\n",
    "\n",
    "        add_cluster_counter = cluster_counter_array[row_index] + cluster_counter_array[col_index]\n",
    "\n",
    "        add_col_counter = [[x + add_cluster_counter] for x in cluster_counter_array]\n",
    "        add_col_entropy = [\n",
    "            [\n",
    "                entropy(\n",
    "                    list(x[0].values())/np.sum(list(x[0].values()))\n",
    "                )\n",
    "            ]\n",
    "            for x in add_col_counter\n",
    "        ]\n",
    "\n",
    "        cluster_counter_array = np.append(\n",
    "            cluster_counter_array\n",
    "            , add_cluster_counter\n",
    "        )\n",
    "\n",
    "\n",
    "    #     if k == 1:\n",
    "    #         break\n",
    "        target_counter_array = np.hstack((target_counter_array, add_col_counter))\n",
    "        add_col_counter = add_col_counter + [[add_cluster_counter]]\n",
    "        target_counter_array = np.concatenate(\n",
    "            [target_counter_array, np.array(add_col_counter).reshape(1, -1)]\n",
    "        )\n",
    "    #     target_counter_array = target_counter_array + [add_col_counter]\n",
    "\n",
    "        cluster_array_entropy = np.hstack((cluster_array_entropy, add_col_entropy))\n",
    "        add_col_entropy = add_col_entropy + [[sys.maxsize]]\n",
    "        cluster_array_entropy = np.concatenate(\n",
    "            [cluster_array_entropy, np.array(add_col_entropy).reshape(1, -1)]\n",
    "        )\n",
    "    #     cluster_array_entropy = cluster_array_entropy + [add_col_entropy]\n",
    "#     print(\"hihi2\")\n",
    "    #     print(data.shape[0])\n",
    "    # acc_res = cluster_score(targets, clusters, data)\n",
    "    return acc_res"
   ]
  },
  {
   "cell_type": "code",
   "execution_count": 11,
   "metadata": {},
   "outputs": [
    {
     "name": "stdout",
     "output_type": "stream",
     "text": [
      "CPU times: user 14 µs, sys: 0 ns, total: 14 µs\n",
      "Wall time: 19.1 µs\n"
     ]
    }
   ],
   "source": [
    "%%time\n",
    "def find_clusters_with_entropy(alpha = 0, len_data = 500):\n",
    "    linkage = \"single\"\n",
    "    # alpha = 0\n",
    "    # len_data = len(digits.data)\n",
    "#     len_data = 1000\n",
    "    data = pairwise_distances(digits.data[:len_data], digits.data[:len_data], metric='euclidean').copy()\n",
    "    targets = digits.target[:len_data].copy()\n",
    "    np.fill_diagonal(data,sys.maxsize)\n",
    "\n",
    "    clusters = {}\n",
    "    row_index = -1\n",
    "    col_index = -1\n",
    "    array = []\n",
    "\n",
    "\n",
    "    for n in range(data.shape[0]):\n",
    "        array.append(n)\n",
    "\n",
    "    clusters[0] = array.copy()\n",
    "\n",
    "    df_clusters = pd.DataFrame([])\n",
    "    df_clusters[\"element\"] = range(data.shape[0])\n",
    "    num_targets = len(np.unique(targets))\n",
    "    lst_targets = np.unique(targets)\n",
    "\n",
    "\n",
    "\n",
    "\n",
    "    cluster_counter_array = np.array(2 * len_data)\n",
    "    target_counter_array = np.array(2 * len_data)\n",
    "    cluster_array_entropy = np.array(2 * len_data)\n",
    "    len_add_arr = 2\n",
    "\n",
    "    cluster_counter_array = [\n",
    "        Counter([targets[i]])\n",
    "        for i in range(len_data)\n",
    "    ]\n",
    "\n",
    "    target_counter_array = pd.DataFrame(\n",
    "        [\n",
    "            [\n",
    "                Counter(targets[[i, j]])\n",
    "                for j in range(len_data)\n",
    "            ]\n",
    "            for i in range(len_data)\n",
    "        ]\n",
    "    )\n",
    "\n",
    "\n",
    "    cluster_array_entropy = pd.DataFrame(\n",
    "        [\n",
    "            [\n",
    "                entropy(list(target_counter_array[i][j].values())/np.int64(len_add_arr))\n",
    "                for j in range(len_data)\n",
    "            ]\n",
    "            for i in range(len_data)\n",
    "        ]\n",
    "    )\n",
    "\n",
    "\n",
    "\n",
    "    #finding minimum value from the distance matrix\n",
    "    #note that this loop will always return minimum value from bottom triangle of matrix\n",
    "    #     for k in tqdm(range(1, data.shape[0])):\n",
    "    for k in tqdm(range(1, data.shape[0])):\n",
    "#         print(k)\n",
    "        min_val = sys.maxsize\n",
    "\n",
    "        df_clusters[\"cluster\"] = array\n",
    "        data_with_entropy = data.copy()\n",
    "        \n",
    "        cluster_array_entropy_k = np.array(\n",
    "            [\n",
    "                [\n",
    "                    cluster_array_entropy[array[i]][array[j]]\n",
    "                    for j in range(0, data.shape[1])\n",
    "                ]\n",
    "                for i in range(0, data.shape[0])\n",
    "            ]\n",
    "        )\n",
    "        \n",
    "        data_with_entropy = data_with_entropy + alpha * cluster_array_entropy_k\n",
    "#         for i in range(0, data.shape[0]):\n",
    "#             for j in range(0, data.shape[1]):\n",
    "#                 if i != j:\n",
    "#                     data_with_entropy[i][j] = data_with_entropy[i][j] + alpha * cluster_array_entropy[array[i]][array[j]]\n",
    "\n",
    "        ind = np.unravel_index(np.argmin(data_with_entropy, axis=None), data.shape)\n",
    "        row_index = ind[0]\n",
    "        col_index = ind[1]\n",
    "        min_val = data_with_entropy[ind]\n",
    "\n",
    "        part1 = df_clusters[df_clusters.cluster == array[row_index]].element\n",
    "        part2 = df_clusters[df_clusters.cluster == array[col_index]].element\n",
    "        data[list(part1), list(part2)] = sys.maxsize\n",
    "#         for i1 in part1:\n",
    "#             for i2 in part2:\n",
    "#                 data[i1][i2] = sys.maxsize\n",
    "#                 data[i2][i1] = sys.maxsize\n",
    "\n",
    "        new_cluster_num = k - 1 + data.shape[0]\n",
    "        array[list(part1)] = new_cluster_num\n",
    "#         for i1 in part1:\n",
    "#             array[i1] = k - 1 + data.shape[0]\n",
    "\n",
    "        array[list(part2)] = new_cluster_num\n",
    "#         for i2 in part2:\n",
    "#             array[i2] = k - 1 + data.shape[0]\n",
    "\n",
    "        clusters[k] = array.copy()\n",
    "\n",
    "        add_cluster_counter = cluster_counter_array[row_index] + cluster_counter_array[col_index]\n",
    "\n",
    "        target_counter_array.drop([array[row_index], array[col_index]], axis = 0, inplace = True)\n",
    "        target_counter_array.drop([array[row_index], array[col_index]], axis = 1, inplace = True)\n",
    "        \n",
    "        add_col_counter = [\n",
    "            cluster_counter_array[i] + add_cluster_counter\n",
    "            for i in target_counter_array.columns\n",
    "        ]\n",
    "        \n",
    "        add_col_entropy = [\n",
    "            entropy(\n",
    "                list(x[0].values())/np.sum(list(x[0].values()))\n",
    "            )\n",
    "            for x in add_col_counter\n",
    "        ]\n",
    "\n",
    "        cluster_counter_array = np.append(\n",
    "            cluster_counter_array\n",
    "            , add_cluster_counter\n",
    "        )\n",
    "\n",
    "        target_counter_array[new_cluster_num] = add_col_counter\n",
    "        add_col_counter = add_col_counter.append(add_cluster_counter)\n",
    "        target_counter_array.append(\n",
    "            pd.Series(add_col_counter, name = new_cluster_num)\n",
    "            , inplace = True\n",
    "        )\n",
    "    #     if k == 1:\n",
    "    #         break\n",
    "        \n",
    "#         target_counter_array = np.hstack((target_counter_array, add_col_counter))\n",
    "#         add_col_counter = add_col_counter + [[add_cluster_counter]]\n",
    "#         target_counter_array = np.concatenate(\n",
    "#             [target_counter_array, np.array(add_col_counter).reshape(1, -1)]\n",
    "#         )\n",
    "    #     target_counter_array = target_counter_array + [add_col_counter]\n",
    "\n",
    "\n",
    "        cluster_array_entropy[new_cluster_num] = add_col_entropy\n",
    "        add_col_entropy = add_col_entropy.append(add_cluster_counter)\n",
    "        cluster_array_entropy.append(\n",
    "            pd.Series(add_col_entropy, name = new_cluster_num)\n",
    "            , inplace = True\n",
    "        )\n",
    "        \n",
    "#         cluster_array_entropy = np.hstack((cluster_array_entropy, add_col_entropy))\n",
    "#         add_col_entropy = add_col_entropy + [[sys.maxsize]]\n",
    "#         cluster_array_entropy = np.concatenate(\n",
    "#             [cluster_array_entropy, np.array(add_col_entropy).reshape(1, -1)]\n",
    "#         )\n",
    "    #     cluster_array_entropy = cluster_array_entropy + [add_col_entropy]\n",
    "#     print(\"hihi2\")\n",
    "    #     print(data.shape[0])\n",
    "    # acc_res = cluster_score(targets, clusters, data)\n",
    "    return acc_res"
   ]
  },
  {
   "cell_type": "markdown",
   "metadata": {},
   "source": [
    "# v1"
   ]
  },
  {
   "cell_type": "code",
   "execution_count": 111,
   "metadata": {
    "collapsed": true,
    "jupyter": {
     "outputs_hidden": true
    }
   },
   "outputs": [
    {
     "name": "stderr",
     "output_type": "stream",
     "text": [
      "  1%|          | 1/99 [00:00<00:19,  5.03it/s]"
     ]
    },
    {
     "name": "stdout",
     "output_type": "stream",
     "text": [
      "0 0.146047\n",
      "1 0.000733\n",
      "2 0.002497\n",
      "3 0.007608\n",
      "4 0.00651\n",
      "5 0.028973\n",
      "6 0.004784\n"
     ]
    },
    {
     "name": "stderr",
     "output_type": "stream",
     "text": [
      "  2%|▏         | 2/99 [00:00<00:20,  4.69it/s]"
     ]
    },
    {
     "name": "stdout",
     "output_type": "stream",
     "text": [
      "0 0.175863\n",
      "1 0.00122\n",
      "2 0.003056\n",
      "3 0.008856\n",
      "4 0.009891\n",
      "5 0.037512\n",
      "6 0.005447\n"
     ]
    },
    {
     "name": "stderr",
     "output_type": "stream",
     "text": [
      "  3%|▎         | 3/99 [00:00<00:21,  4.54it/s]"
     ]
    },
    {
     "name": "stdout",
     "output_type": "stream",
     "text": [
      "0 0.16729\n",
      "1 0.001188\n",
      "2 0.003365\n",
      "3 0.007467\n",
      "4 0.009387\n",
      "5 0.039138\n",
      "6 0.005102\n"
     ]
    },
    {
     "name": "stderr",
     "output_type": "stream",
     "text": [
      "  4%|▍         | 4/99 [00:00<00:22,  4.18it/s]"
     ]
    },
    {
     "name": "stdout",
     "output_type": "stream",
     "text": [
      "0 0.219895\n",
      "1 0.000788\n",
      "2 0.002868\n",
      "3 0.007121\n",
      "4 0.006874\n",
      "5 0.034828\n",
      "6 0.008451\n"
     ]
    },
    {
     "name": "stderr",
     "output_type": "stream",
     "text": [
      "  5%|▌         | 5/99 [00:01<00:22,  4.11it/s]"
     ]
    },
    {
     "name": "stdout",
     "output_type": "stream",
     "text": [
      "0 0.174583\n",
      "1 0.001146\n",
      "2 0.004572\n",
      "3 0.008464\n",
      "4 0.007616\n",
      "5 0.045052\n",
      "6 0.004946\n"
     ]
    },
    {
     "name": "stderr",
     "output_type": "stream",
     "text": [
      "  6%|▌         | 6/99 [00:01<00:22,  4.13it/s]"
     ]
    },
    {
     "name": "stdout",
     "output_type": "stream",
     "text": [
      "0 0.178262\n",
      "1 0.000934\n",
      "2 0.003015\n",
      "3 0.00747\n",
      "4 0.007113\n",
      "5 0.032946\n",
      "6 0.006352\n"
     ]
    },
    {
     "name": "stderr",
     "output_type": "stream",
     "text": [
      "  7%|▋         | 7/99 [00:01<00:22,  4.16it/s]"
     ]
    },
    {
     "name": "stdout",
     "output_type": "stream",
     "text": [
      "0 0.170851\n",
      "1 0.000483\n",
      "2 0.002896\n",
      "3 0.006658\n",
      "4 0.00724\n",
      "5 0.038552\n",
      "6 0.005474\n"
     ]
    },
    {
     "name": "stderr",
     "output_type": "stream",
     "text": [
      "  8%|▊         | 8/99 [00:01<00:23,  3.96it/s]"
     ]
    },
    {
     "name": "stdout",
     "output_type": "stream",
     "text": [
      "0 0.218579\n",
      "1 0.000921\n",
      "2 0.003004\n",
      "3 0.007377\n",
      "4 0.010775\n",
      "5 0.031338\n",
      "6 0.005372\n"
     ]
    },
    {
     "name": "stderr",
     "output_type": "stream",
     "text": [
      "  9%|▉         | 9/99 [00:02<00:22,  4.05it/s]"
     ]
    },
    {
     "name": "stdout",
     "output_type": "stream",
     "text": [
      "0 0.171602\n",
      "1 0.000718\n",
      "2 0.003263\n",
      "3 0.006582\n",
      "4 0.006575\n",
      "5 0.031771\n",
      "6 0.010373\n"
     ]
    },
    {
     "name": "stderr",
     "output_type": "stream",
     "text": [
      " 10%|█         | 10/99 [00:02<00:21,  4.09it/s]"
     ]
    },
    {
     "name": "stdout",
     "output_type": "stream",
     "text": [
      "0 0.17725\n",
      "1 0.000701\n",
      "2 0.002867\n",
      "3 0.007881\n",
      "4 0.00582\n",
      "5 0.033846\n",
      "6 0.006423\n"
     ]
    },
    {
     "name": "stderr",
     "output_type": "stream",
     "text": [
      " 11%|█         | 11/99 [00:02<00:21,  4.00it/s]"
     ]
    },
    {
     "name": "stdout",
     "output_type": "stream",
     "text": [
      "0 0.186761\n",
      "1 0.00104\n",
      "2 0.003347\n",
      "3 0.009527\n",
      "4 0.008614\n",
      "5 0.042461\n",
      "6 0.00477\n"
     ]
    },
    {
     "name": "stderr",
     "output_type": "stream",
     "text": [
      " 12%|█▏        | 12/99 [00:02<00:21,  4.09it/s]"
     ]
    },
    {
     "name": "stdout",
     "output_type": "stream",
     "text": [
      "0 0.170129\n",
      "1 0.000786\n",
      "2 0.002879\n",
      "3 0.008161\n",
      "4 0.007758\n",
      "5 0.034081\n",
      "6 0.00458\n"
     ]
    },
    {
     "name": "stderr",
     "output_type": "stream",
     "text": [
      " 13%|█▎        | 13/99 [00:03<00:22,  3.89it/s]"
     ]
    },
    {
     "name": "stdout",
     "output_type": "stream",
     "text": [
      "0 0.228324\n",
      "1 0.000973\n",
      "2 0.00495\n",
      "3 0.006981\n",
      "4 0.006121\n",
      "5 0.031268\n",
      "6 0.004207\n"
     ]
    },
    {
     "name": "stderr",
     "output_type": "stream",
     "text": [
      " 14%|█▍        | 14/99 [00:03<00:22,  3.73it/s]"
     ]
    },
    {
     "name": "stdout",
     "output_type": "stream",
     "text": [
      "0 0.232956\n",
      "1 0.001157\n",
      "2 0.003799\n",
      "3 0.01197\n",
      "4 0.007904\n",
      "5 0.026149\n",
      "6 0.005237\n"
     ]
    },
    {
     "name": "stderr",
     "output_type": "stream",
     "text": [
      " 15%|█▌        | 15/99 [00:03<00:23,  3.63it/s]"
     ]
    },
    {
     "name": "stdout",
     "output_type": "stream",
     "text": [
      "0 0.221792\n",
      "1 0.000877\n",
      "2 0.003773\n",
      "3 0.014474\n",
      "4 0.006809\n",
      "5 0.038262\n",
      "6 0.005224\n"
     ]
    },
    {
     "name": "stderr",
     "output_type": "stream",
     "text": [
      " 16%|█▌        | 16/99 [00:04<00:21,  3.80it/s]"
     ]
    },
    {
     "name": "stdout",
     "output_type": "stream",
     "text": [
      "0 0.170848\n",
      "1 0.00059\n",
      "2 0.002863\n",
      "3 0.005906\n",
      "4 0.006113\n",
      "5 0.038465\n",
      "6 0.005112\n"
     ]
    },
    {
     "name": "stderr",
     "output_type": "stream",
     "text": [
      " 17%|█▋        | 17/99 [00:04<00:21,  3.85it/s]"
     ]
    },
    {
     "name": "stdout",
     "output_type": "stream",
     "text": [
      "0 0.178355\n",
      "1 0.001326\n",
      "2 0.002712\n",
      "3 0.007927\n",
      "4 0.008934\n",
      "5 0.041944\n",
      "6 0.005055\n"
     ]
    },
    {
     "name": "stderr",
     "output_type": "stream",
     "text": [
      " 18%|█▊        | 18/99 [00:04<00:21,  3.73it/s]"
     ]
    },
    {
     "name": "stdout",
     "output_type": "stream",
     "text": [
      "0 0.233968\n",
      "1 0.000753\n",
      "2 0.003821\n",
      "3 0.0072\n",
      "4 0.009019\n",
      "5 0.023609\n",
      "6 0.005679\n"
     ]
    },
    {
     "name": "stderr",
     "output_type": "stream",
     "text": [
      " 19%|█▉        | 19/99 [00:04<00:21,  3.65it/s]"
     ]
    },
    {
     "name": "stdout",
     "output_type": "stream",
     "text": [
      "0 0.234123\n",
      "1 0.001631\n",
      "2 0.003044\n",
      "3 0.006921\n",
      "4 0.006418\n",
      "5 0.024924\n",
      "6 0.005634\n"
     ]
    },
    {
     "name": "stderr",
     "output_type": "stream",
     "text": [
      " 20%|██        | 20/99 [00:05<00:20,  3.79it/s]"
     ]
    },
    {
     "name": "stdout",
     "output_type": "stream",
     "text": [
      "0 0.172864\n",
      "1 0.00091\n",
      "2 0.004754\n",
      "3 0.007215\n",
      "4 0.007083\n",
      "5 0.037603\n",
      "6 0.005801\n"
     ]
    },
    {
     "name": "stderr",
     "output_type": "stream",
     "text": [
      " 21%|██        | 21/99 [00:05<00:20,  3.84it/s]"
     ]
    },
    {
     "name": "stdout",
     "output_type": "stream",
     "text": [
      "0 0.198031\n",
      "1 0.000734\n",
      "2 0.004248\n",
      "3 0.005222\n",
      "4 0.005124\n",
      "5 0.029705\n",
      "6 0.005996\n"
     ]
    },
    {
     "name": "stderr",
     "output_type": "stream",
     "text": [
      " 22%|██▏       | 22/99 [00:05<00:19,  4.02it/s]"
     ]
    },
    {
     "name": "stdout",
     "output_type": "stream",
     "text": [
      "0 0.169072\n",
      "1 0.001134\n",
      "2 0.003841\n",
      "3 0.006501\n",
      "4 0.005785\n",
      "5 0.026678\n",
      "6 0.004603\n"
     ]
    },
    {
     "name": "stderr",
     "output_type": "stream",
     "text": [
      " 23%|██▎       | 23/99 [00:05<00:18,  4.03it/s]"
     ]
    },
    {
     "name": "stdout",
     "output_type": "stream",
     "text": [
      "0 0.177849\n",
      "1 0.001138\n",
      "2 0.004374\n",
      "3 0.009133\n",
      "4 0.008341\n",
      "5 0.03419\n",
      "6 0.007988\n"
     ]
    },
    {
     "name": "stderr",
     "output_type": "stream",
     "text": [
      " 24%|██▍       | 24/99 [00:06<00:19,  3.92it/s]"
     ]
    },
    {
     "name": "stdout",
     "output_type": "stream",
     "text": [
      "0 0.219962\n",
      "1 0.000965\n",
      "2 0.004589\n",
      "3 0.008028\n",
      "4 0.00655\n",
      "5 0.022669\n",
      "6 0.005296\n"
     ]
    },
    {
     "name": "stderr",
     "output_type": "stream",
     "text": [
      " 25%|██▌       | 25/99 [00:06<00:18,  4.00it/s]"
     ]
    },
    {
     "name": "stdout",
     "output_type": "stream",
     "text": [
      "0 0.177207\n",
      "1 0.001106\n",
      "2 0.003085\n",
      "3 0.006577\n",
      "4 0.005324\n",
      "5 0.036853\n",
      "6 0.004723\n"
     ]
    },
    {
     "name": "stderr",
     "output_type": "stream",
     "text": [
      " 26%|██▋       | 26/99 [00:06<00:18,  4.05it/s]"
     ]
    },
    {
     "name": "stdout",
     "output_type": "stream",
     "text": [
      "0 0.170862\n",
      "1 0.001245\n",
      "2 0.002682\n",
      "3 0.008955\n",
      "4 0.006694\n",
      "5 0.038198\n",
      "6 0.006518\n"
     ]
    },
    {
     "name": "stderr",
     "output_type": "stream",
     "text": [
      " 27%|██▋       | 27/99 [00:06<00:17,  4.12it/s]"
     ]
    },
    {
     "name": "stdout",
     "output_type": "stream",
     "text": [
      "0 0.17235\n",
      "1 0.000943\n",
      "2 0.003501\n",
      "3 0.00606\n",
      "4 0.005181\n",
      "5 0.036032\n",
      "6 0.006558\n"
     ]
    },
    {
     "name": "stderr",
     "output_type": "stream",
     "text": [
      " 28%|██▊       | 28/99 [00:07<00:17,  4.16it/s]"
     ]
    },
    {
     "name": "stdout",
     "output_type": "stream",
     "text": [
      "0 0.167151\n",
      "1 0.000582\n",
      "2 0.005046\n",
      "3 0.006894\n",
      "4 0.007029\n",
      "5 0.036643\n",
      "6 0.007241\n"
     ]
    },
    {
     "name": "stderr",
     "output_type": "stream",
     "text": [
      " 29%|██▉       | 29/99 [00:07<00:17,  3.97it/s]"
     ]
    },
    {
     "name": "stdout",
     "output_type": "stream",
     "text": [
      "0 0.22697\n",
      "1 0.000999\n",
      "2 0.00368\n",
      "3 0.004913\n",
      "4 0.006427\n",
      "5 0.0266\n",
      "6 0.004394\n"
     ]
    },
    {
     "name": "stderr",
     "output_type": "stream",
     "text": [
      " 30%|███       | 30/99 [00:07<00:16,  4.09it/s]"
     ]
    },
    {
     "name": "stdout",
     "output_type": "stream",
     "text": [
      "0 0.170306\n",
      "1 0.001322\n",
      "2 0.002976\n",
      "3 0.006342\n",
      "4 0.005652\n",
      "5 0.027253\n",
      "6 0.011524\n"
     ]
    },
    {
     "name": "stderr",
     "output_type": "stream",
     "text": [
      " 31%|███▏      | 31/99 [00:07<00:16,  4.13it/s]"
     ]
    },
    {
     "name": "stdout",
     "output_type": "stream",
     "text": [
      "0 0.170953\n",
      "1 0.001132\n",
      "2 0.00367\n",
      "3 0.007483\n",
      "4 0.006977\n",
      "5 0.035755\n",
      "6 0.006138\n"
     ]
    },
    {
     "name": "stderr",
     "output_type": "stream",
     "text": [
      " 32%|███▏      | 32/99 [00:08<00:17,  3.92it/s]"
     ]
    },
    {
     "name": "stdout",
     "output_type": "stream",
     "text": [
      "0 0.227255\n",
      "1 0.001046\n",
      "2 0.005656\n",
      "3 0.006529\n",
      "4 0.006666\n",
      "5 0.02953\n",
      "6 0.005859\n"
     ]
    },
    {
     "name": "stderr",
     "output_type": "stream",
     "text": [
      " 33%|███▎      | 33/99 [00:08<00:17,  3.85it/s]"
     ]
    },
    {
     "name": "stdout",
     "output_type": "stream",
     "text": [
      "0 0.215574\n",
      "1 0.001125\n",
      "2 0.003627\n",
      "3 0.007459\n",
      "4 0.005426\n",
      "5 0.027908\n",
      "6 0.004266\n"
     ]
    },
    {
     "name": "stderr",
     "output_type": "stream",
     "text": [
      " 34%|███▍      | 34/99 [00:08<00:16,  3.98it/s]"
     ]
    },
    {
     "name": "stdout",
     "output_type": "stream",
     "text": [
      "0 0.173888\n",
      "1 0.000744\n",
      "2 0.003191\n",
      "3 0.007165\n",
      "4 0.005417\n",
      "5 0.031737\n",
      "6 0.00806\n"
     ]
    },
    {
     "name": "stderr",
     "output_type": "stream",
     "text": [
      " 35%|███▌      | 35/99 [00:08<00:15,  4.15it/s]"
     ]
    },
    {
     "name": "stdout",
     "output_type": "stream",
     "text": [
      "0 0.167384\n",
      "1 0.000336\n",
      "2 0.003982\n",
      "3 0.006749\n",
      "4 0.006283\n",
      "5 0.024017\n",
      "6 0.004606\n"
     ]
    },
    {
     "name": "stderr",
     "output_type": "stream",
     "text": [
      " 36%|███▋      | 36/99 [00:09<00:15,  4.15it/s]"
     ]
    },
    {
     "name": "stdout",
     "output_type": "stream",
     "text": [
      "0 0.174762\n",
      "1 0.0011\n",
      "2 0.003784\n",
      "3 0.007739\n",
      "4 0.008096\n",
      "5 0.028298\n",
      "6 0.014011\n"
     ]
    },
    {
     "name": "stderr",
     "output_type": "stream",
     "text": [
      " 37%|███▋      | 37/99 [00:09<00:15,  3.96it/s]"
     ]
    },
    {
     "name": "stdout",
     "output_type": "stream",
     "text": [
      "0 0.224129\n",
      "1 0.002544\n",
      "2 0.002754\n",
      "3 0.006178\n",
      "4 0.006411\n",
      "5 0.027566\n",
      "6 0.005465\n"
     ]
    },
    {
     "name": "stderr",
     "output_type": "stream",
     "text": [
      " 38%|███▊      | 38/99 [00:09<00:16,  3.78it/s]"
     ]
    },
    {
     "name": "stdout",
     "output_type": "stream",
     "text": [
      "0 0.238468\n",
      "1 0.001784\n",
      "2 0.003981\n",
      "3 0.005791\n",
      "4 0.006073\n",
      "5 0.026164\n",
      "6 0.005494\n"
     ]
    },
    {
     "name": "stderr",
     "output_type": "stream",
     "text": [
      " 39%|███▉      | 39/99 [00:09<00:15,  3.94it/s]"
     ]
    },
    {
     "name": "stdout",
     "output_type": "stream",
     "text": [
      "0 0.17778\n",
      "1 0.002461\n",
      "2 0.003345\n",
      "3 0.005659\n",
      "4 0.004902\n",
      "5 0.026795\n",
      "6 0.004942\n"
     ]
    },
    {
     "name": "stderr",
     "output_type": "stream",
     "text": [
      " 40%|████      | 40/99 [00:10<00:14,  4.10it/s]"
     ]
    },
    {
     "name": "stdout",
     "output_type": "stream",
     "text": [
      "0 0.168721\n",
      "1 0.001353\n",
      "2 0.002898\n",
      "3 0.006745\n",
      "4 0.006108\n",
      "5 0.027468\n",
      "6 0.004548\n"
     ]
    },
    {
     "name": "stderr",
     "output_type": "stream",
     "text": [
      " 41%|████▏     | 41/99 [00:10<00:14,  3.94it/s]"
     ]
    },
    {
     "name": "stdout",
     "output_type": "stream",
     "text": [
      "0 0.234315\n",
      "1 0.000857\n",
      "2 0.003927\n",
      "3 0.006214\n",
      "4 0.00426\n",
      "5 0.018728\n",
      "6 0.004166\n"
     ]
    },
    {
     "name": "stderr",
     "output_type": "stream",
     "text": [
      " 42%|████▏     | 42/99 [00:10<00:14,  4.04it/s]"
     ]
    },
    {
     "name": "stdout",
     "output_type": "stream",
     "text": [
      "0 0.174369\n",
      "1 0.001336\n",
      "2 0.003813\n",
      "3 0.007342\n",
      "4 0.006007\n",
      "5 0.033149\n",
      "6 0.004279\n"
     ]
    },
    {
     "name": "stderr",
     "output_type": "stream",
     "text": [
      " 43%|████▎     | 43/99 [00:10<00:13,  4.12it/s]"
     ]
    },
    {
     "name": "stdout",
     "output_type": "stream",
     "text": [
      "0 0.174059\n",
      "1 0.001396\n",
      "2 0.004067\n",
      "3 0.006459\n",
      "4 0.00517\n",
      "5 0.031129\n",
      "6 0.006131\n"
     ]
    },
    {
     "name": "stderr",
     "output_type": "stream",
     "text": [
      " 44%|████▍     | 44/99 [00:11<00:13,  4.23it/s]"
     ]
    },
    {
     "name": "stdout",
     "output_type": "stream",
     "text": [
      "0 0.170278\n",
      "1 0.000256\n",
      "2 0.00422\n",
      "3 0.007746\n",
      "4 0.005033\n",
      "5 0.021128\n",
      "6 0.008094\n"
     ]
    },
    {
     "name": "stderr",
     "output_type": "stream",
     "text": [
      " 45%|████▌     | 45/99 [00:11<00:12,  4.30it/s]"
     ]
    },
    {
     "name": "stdout",
     "output_type": "stream",
     "text": [
      "0 0.171007\n",
      "1 0.002215\n",
      "2 0.002594\n",
      "3 0.005002\n",
      "4 0.004902\n",
      "5 0.029521\n",
      "6 0.00556\n"
     ]
    },
    {
     "name": "stderr",
     "output_type": "stream",
     "text": [
      " 46%|████▋     | 46/99 [00:11<00:12,  4.30it/s]"
     ]
    },
    {
     "name": "stdout",
     "output_type": "stream",
     "text": [
      "0 0.172637\n",
      "1 0.001196\n",
      "2 0.003588\n",
      "3 0.007766\n",
      "4 0.006854\n",
      "5 0.03027\n",
      "6 0.005711\n"
     ]
    },
    {
     "name": "stderr",
     "output_type": "stream",
     "text": [
      " 47%|████▋     | 47/99 [00:11<00:11,  4.39it/s]"
     ]
    },
    {
     "name": "stdout",
     "output_type": "stream",
     "text": [
      "0 0.17023\n",
      "1 0.001233\n",
      "2 0.003093\n",
      "3 0.006516\n",
      "4 0.005569\n",
      "5 0.021532\n",
      "6 0.004834\n"
     ]
    },
    {
     "name": "stderr",
     "output_type": "stream",
     "text": [
      " 48%|████▊     | 48/99 [00:11<00:12,  4.12it/s]"
     ]
    },
    {
     "name": "stdout",
     "output_type": "stream",
     "text": [
      "0 0.22752\n",
      "1 0.00097\n",
      "2 0.003615\n",
      "3 0.008199\n",
      "4 0.005456\n",
      "5 0.018462\n",
      "6 0.004489\n"
     ]
    },
    {
     "name": "stderr",
     "output_type": "stream",
     "text": [
      " 49%|████▉     | 49/99 [00:12<00:11,  4.26it/s]"
     ]
    },
    {
     "name": "stdout",
     "output_type": "stream",
     "text": [
      "0 0.163734\n",
      "1 0.00141\n",
      "2 0.002762\n",
      "3 0.006818\n",
      "4 0.005106\n",
      "5 0.026502\n",
      "6 0.006656\n"
     ]
    },
    {
     "name": "stderr",
     "output_type": "stream",
     "text": [
      " 51%|█████     | 50/99 [00:12<00:11,  4.38it/s]"
     ]
    },
    {
     "name": "stdout",
     "output_type": "stream",
     "text": [
      "0 0.168343\n",
      "1 0.001062\n",
      "2 0.003255\n",
      "3 0.005154\n",
      "4 0.005689\n",
      "5 0.018854\n",
      "6 0.007003\n"
     ]
    },
    {
     "name": "stderr",
     "output_type": "stream",
     "text": [
      " 52%|█████▏    | 51/99 [00:12<00:10,  4.43it/s]"
     ]
    },
    {
     "name": "stdout",
     "output_type": "stream",
     "text": [
      "0 0.175265\n",
      "1 0.000925\n",
      "2 0.003462\n",
      "3 0.006852\n",
      "4 0.004875\n",
      "5 0.019444\n",
      "6 0.00563\n"
     ]
    },
    {
     "name": "stderr",
     "output_type": "stream",
     "text": [
      " 53%|█████▎    | 52/99 [00:12<00:10,  4.43it/s]"
     ]
    },
    {
     "name": "stdout",
     "output_type": "stream",
     "text": [
      "0 0.184012\n",
      "1 0.000863\n",
      "2 0.003279\n",
      "3 0.00657\n",
      "4 0.004862\n",
      "5 0.018188\n",
      "6 0.005186\n"
     ]
    },
    {
     "name": "stderr",
     "output_type": "stream",
     "text": [
      " 54%|█████▎    | 53/99 [00:13<00:10,  4.45it/s]"
     ]
    },
    {
     "name": "stdout",
     "output_type": "stream",
     "text": [
      "0 0.177396\n",
      "1 0.001213\n",
      "2 0.004389\n",
      "3 0.006383\n",
      "4 0.004709\n",
      "5 0.019043\n",
      "6 0.005252\n"
     ]
    },
    {
     "name": "stderr",
     "output_type": "stream",
     "text": [
      " 55%|█████▍    | 54/99 [00:13<00:10,  4.39it/s]"
     ]
    },
    {
     "name": "stdout",
     "output_type": "stream",
     "text": [
      "0 0.18919\n",
      "1 0.001015\n",
      "2 0.004029\n",
      "3 0.006945\n",
      "4 0.004801\n",
      "5 0.018245\n",
      "6 0.005002\n"
     ]
    },
    {
     "name": "stderr",
     "output_type": "stream",
     "text": [
      " 56%|█████▌    | 55/99 [00:13<00:10,  4.35it/s]"
     ]
    },
    {
     "name": "stdout",
     "output_type": "stream",
     "text": [
      "0 0.179035\n",
      "1 0.001105\n",
      "2 0.003737\n",
      "3 0.006937\n",
      "4 0.004684\n",
      "5 0.029399\n",
      "6 0.006821\n"
     ]
    },
    {
     "name": "stderr",
     "output_type": "stream",
     "text": [
      " 57%|█████▋    | 56/99 [00:13<00:10,  4.16it/s]"
     ]
    },
    {
     "name": "stdout",
     "output_type": "stream",
     "text": [
      "0 0.210216\n",
      "1 0.00088\n",
      "2 0.003394\n",
      "3 0.00611\n",
      "4 0.004449\n",
      "5 0.026199\n",
      "6 0.009814\n"
     ]
    },
    {
     "name": "stderr",
     "output_type": "stream",
     "text": [
      " 58%|█████▊    | 57/99 [00:14<00:10,  3.98it/s]"
     ]
    },
    {
     "name": "stdout",
     "output_type": "stream",
     "text": [
      "0 0.23414\n",
      "1 0.000468\n",
      "2 0.003502\n",
      "3 0.005277\n",
      "4 0.004338\n",
      "5 0.020392\n",
      "6 0.005694\n"
     ]
    },
    {
     "name": "stderr",
     "output_type": "stream",
     "text": [
      " 59%|█████▊    | 58/99 [00:14<00:10,  4.05it/s]"
     ]
    },
    {
     "name": "stdout",
     "output_type": "stream",
     "text": [
      "0 0.186341\n",
      "1 0.00111\n",
      "2 0.004309\n",
      "3 0.005179\n",
      "4 0.003324\n",
      "5 0.025978\n",
      "6 0.005879\n"
     ]
    },
    {
     "name": "stderr",
     "output_type": "stream",
     "text": [
      " 60%|█████▉    | 59/99 [00:14<00:09,  4.13it/s]"
     ]
    },
    {
     "name": "stdout",
     "output_type": "stream",
     "text": [
      "0 0.184023\n",
      "1 0.000817\n",
      "2 0.003171\n",
      "3 0.005161\n",
      "4 0.004319\n",
      "5 0.020059\n",
      "6 0.007581\n"
     ]
    },
    {
     "name": "stderr",
     "output_type": "stream",
     "text": [
      " 61%|██████    | 60/99 [00:14<00:09,  4.00it/s]"
     ]
    },
    {
     "name": "stdout",
     "output_type": "stream",
     "text": [
      "0 0.222167\n",
      "1 0.000761\n",
      "2 0.003229\n",
      "3 0.005582\n",
      "4 0.004342\n",
      "5 0.022096\n",
      "6 0.008139\n"
     ]
    },
    {
     "name": "stderr",
     "output_type": "stream",
     "text": [
      " 62%|██████▏   | 61/99 [00:15<00:09,  4.20it/s]"
     ]
    },
    {
     "name": "stdout",
     "output_type": "stream",
     "text": [
      "0 0.167386\n",
      "1 0.001154\n",
      "2 0.003034\n",
      "3 0.007189\n",
      "4 0.004088\n",
      "5 0.020367\n",
      "6 0.004792\n"
     ]
    },
    {
     "name": "stderr",
     "output_type": "stream",
     "text": [
      " 63%|██████▎   | 62/99 [00:15<00:08,  4.34it/s]"
     ]
    },
    {
     "name": "stdout",
     "output_type": "stream",
     "text": [
      "0 0.173909\n",
      "1 0.001205\n",
      "2 0.003007\n",
      "3 0.005315\n",
      "4 0.004009\n",
      "5 0.01579\n",
      "6 0.005377\n"
     ]
    },
    {
     "name": "stderr",
     "output_type": "stream",
     "text": [
      " 64%|██████▎   | 63/99 [00:15<00:08,  4.44it/s]"
     ]
    },
    {
     "name": "stdout",
     "output_type": "stream",
     "text": [
      "0 0.176473\n",
      "1 0.000768\n",
      "2 0.004394\n",
      "3 0.005494\n",
      "4 0.003865\n",
      "5 0.015185\n",
      "6 0.004916\n"
     ]
    },
    {
     "name": "stderr",
     "output_type": "stream",
     "text": [
      " 65%|██████▍   | 64/99 [00:15<00:07,  4.40it/s]"
     ]
    },
    {
     "name": "stdout",
     "output_type": "stream",
     "text": [
      "0 0.17823\n",
      "1 0.001369\n",
      "2 0.004397\n",
      "3 0.006133\n",
      "4 0.003823\n",
      "5 0.029773\n",
      "6 0.004486\n"
     ]
    },
    {
     "name": "stderr",
     "output_type": "stream",
     "text": [
      " 66%|██████▌   | 65/99 [00:15<00:07,  4.39it/s]"
     ]
    },
    {
     "name": "stdout",
     "output_type": "stream",
     "text": [
      "0 0.189728\n",
      "1 0.000243\n",
      "2 0.003904\n",
      "3 0.007086\n",
      "4 0.003149\n",
      "5 0.013923\n",
      "6 0.006039\n"
     ]
    },
    {
     "name": "stderr",
     "output_type": "stream",
     "text": [
      " 67%|██████▋   | 66/99 [00:16<00:07,  4.41it/s]"
     ]
    },
    {
     "name": "stdout",
     "output_type": "stream",
     "text": [
      "0 0.17736\n",
      "1 0.000398\n",
      "2 0.004827\n",
      "3 0.006048\n",
      "4 0.003503\n",
      "5 0.016777\n",
      "6 0.011597\n"
     ]
    },
    {
     "name": "stderr",
     "output_type": "stream",
     "text": [
      " 68%|██████▊   | 67/99 [00:16<00:07,  4.46it/s]"
     ]
    },
    {
     "name": "stdout",
     "output_type": "stream",
     "text": [
      "0 0.182579\n",
      "1 0.000737\n",
      "2 0.003078\n",
      "3 0.004751\n",
      "4 0.002634\n",
      "5 0.0139\n",
      "6 0.00501\n"
     ]
    },
    {
     "name": "stderr",
     "output_type": "stream",
     "text": [
      " 69%|██████▊   | 68/99 [00:16<00:06,  4.57it/s]"
     ]
    },
    {
     "name": "stdout",
     "output_type": "stream",
     "text": [
      "0 0.171814\n",
      "1 0.001056\n",
      "2 0.002549\n",
      "3 0.004388\n",
      "4 0.002401\n",
      "5 0.01483\n",
      "6 0.006763\n",
      "0 0.168681\n",
      "1 0.00086\n",
      "2 0.002539\n",
      "3 0.004922\n",
      "4 0.002941\n"
     ]
    },
    {
     "name": "stderr",
     "output_type": "stream",
     "text": [
      " 70%|██████▉   | 69/99 [00:16<00:06,  4.67it/s]"
     ]
    },
    {
     "name": "stdout",
     "output_type": "stream",
     "text": [
      "5 0.014031\n",
      "6 0.004808\n",
      "0 0.169359\n",
      "1 0.000921\n",
      "2 0.003525\n",
      "3 0.004862\n",
      "4 0.003169\n",
      "5 0.012528\n"
     ]
    },
    {
     "name": "stderr",
     "output_type": "stream",
     "text": [
      " 72%|███████▏  | 71/99 [00:17<00:05,  4.82it/s]"
     ]
    },
    {
     "name": "stdout",
     "output_type": "stream",
     "text": [
      "6 0.004779\n",
      "0 0.16995\n",
      "1 0.000892\n",
      "2 0.002991\n",
      "3 0.004532\n",
      "4 0.002798\n",
      "5 0.011494\n",
      "6 0.00374\n"
     ]
    },
    {
     "name": "stderr",
     "output_type": "stream",
     "text": [
      " 73%|███████▎  | 72/99 [00:17<00:05,  4.87it/s]"
     ]
    },
    {
     "name": "stdout",
     "output_type": "stream",
     "text": [
      "0 0.169917\n",
      "1 0.001039\n",
      "2 0.002962\n",
      "3 0.004436\n",
      "4 0.002429\n",
      "5 0.01217\n",
      "6 0.004728\n",
      "0 0.161177\n",
      "1 0.000338\n",
      "2 0.002591\n",
      "3 0.003931\n"
     ]
    },
    {
     "name": "stderr",
     "output_type": "stream",
     "text": [
      " 74%|███████▎  | 73/99 [00:17<00:05,  4.96it/s]"
     ]
    },
    {
     "name": "stdout",
     "output_type": "stream",
     "text": [
      "4 0.002052\n",
      "5 0.012732\n",
      "6 0.00659\n",
      "0 0.175912\n",
      "1 0.000427\n",
      "2 0.002564\n",
      "3 0.00534\n",
      "4 0.002684\n"
     ]
    },
    {
     "name": "stderr",
     "output_type": "stream",
     "text": [
      " 75%|███████▍  | 74/99 [00:17<00:05,  4.89it/s]"
     ]
    },
    {
     "name": "stdout",
     "output_type": "stream",
     "text": [
      "5 0.014362\n",
      "6 0.005191\n",
      "0 0.175883\n",
      "1 0.000584\n",
      "2 0.003074\n",
      "3 0.004545\n",
      "4 0.002273\n"
     ]
    },
    {
     "name": "stderr",
     "output_type": "stream",
     "text": [
      " 76%|███████▌  | 75/99 [00:17<00:04,  4.89it/s]"
     ]
    },
    {
     "name": "stdout",
     "output_type": "stream",
     "text": [
      "5 0.012385\n",
      "6 0.004323\n",
      "0 0.170084\n",
      "1 0.000571\n",
      "2 0.002886\n",
      "3 0.004174\n",
      "4 0.001887\n",
      "5 0.011075\n",
      "6"
     ]
    },
    {
     "name": "stderr",
     "output_type": "stream",
     "text": [
      " 77%|███████▋  | 76/99 [00:18<00:04,  4.91it/s]"
     ]
    },
    {
     "name": "stdout",
     "output_type": "stream",
     "text": [
      " 0.004117\n",
      "0 0.182149\n",
      "1 0.001042\n",
      "2 0.003377\n",
      "3 0.004296\n",
      "4 0.00202\n"
     ]
    },
    {
     "name": "stderr",
     "output_type": "stream",
     "text": [
      " 79%|███████▉  | 78/99 [00:18<00:04,  4.91it/s]"
     ]
    },
    {
     "name": "stdout",
     "output_type": "stream",
     "text": [
      "5 0.013263\n",
      "6 0.004003\n",
      "0 0.164221\n",
      "1 0.000921\n",
      "2 0.002892\n",
      "3 0.004201\n",
      "4 0.001955\n",
      "5 0.010674\n",
      "6 0.004162\n"
     ]
    },
    {
     "name": "stderr",
     "output_type": "stream",
     "text": [
      " 80%|███████▉  | 79/99 [00:18<00:04,  4.86it/s]"
     ]
    },
    {
     "name": "stdout",
     "output_type": "stream",
     "text": [
      "0 0.183086\n",
      "1 0.000688\n",
      "2 0.002961\n",
      "3 0.004273\n",
      "4 0.00201\n",
      "5 0.011012\n",
      "6 0.004372\n",
      "0 0.165687\n",
      "1 0.000866\n",
      "2 0.002453\n",
      "3"
     ]
    },
    {
     "name": "stderr",
     "output_type": "stream",
     "text": [
      " 81%|████████  | 80/99 [00:18<00:03,  4.94it/s]"
     ]
    },
    {
     "name": "stdout",
     "output_type": "stream",
     "text": [
      " 0.004318\n",
      "4 0.001774\n",
      "5 0.009712\n",
      "6 0.005456\n",
      "0 0.172806\n",
      "1 0.000573\n",
      "2 0.002594\n",
      "3 0.005351\n",
      "4 0.002039\n",
      "5 0.012499\n",
      "6"
     ]
    },
    {
     "name": "stderr",
     "output_type": "stream",
     "text": [
      " 82%|████████▏ | 81/99 [00:19<00:03,  4.94it/s]"
     ]
    },
    {
     "name": "stdout",
     "output_type": "stream",
     "text": [
      " 0.00398\n"
     ]
    },
    {
     "name": "stderr",
     "output_type": "stream",
     "text": [
      " 83%|████████▎ | 82/99 [00:19<00:03,  4.50it/s]"
     ]
    },
    {
     "name": "stdout",
     "output_type": "stream",
     "text": [
      "0 0.222537\n",
      "1 0.000953\n",
      "2 0.005369\n",
      "3 0.007487\n",
      "4 0.002438\n",
      "5 0.014029\n",
      "6 0.013368\n"
     ]
    },
    {
     "name": "stderr",
     "output_type": "stream",
     "text": [
      " 84%|████████▍ | 83/99 [00:19<00:03,  4.57it/s]"
     ]
    },
    {
     "name": "stdout",
     "output_type": "stream",
     "text": [
      "0 0.17193\n",
      "1 0.001296\n",
      "2 0.004439\n",
      "3 0.005964\n",
      "4 0.002219\n",
      "5 0.012518\n",
      "6 0.006292\n"
     ]
    },
    {
     "name": "stderr",
     "output_type": "stream",
     "text": [
      " 85%|████████▍ | 84/99 [00:19<00:03,  4.72it/s]"
     ]
    },
    {
     "name": "stdout",
     "output_type": "stream",
     "text": [
      "0 0.16561\n",
      "1 0.000903\n",
      "2 0.003918\n",
      "3 0.005464\n",
      "4 0.001256\n",
      "5 0.00927\n",
      "6 0.005018\n",
      "0 0.170326\n"
     ]
    },
    {
     "name": "stderr",
     "output_type": "stream",
     "text": [
      " 86%|████████▌ | 85/99 [00:20<00:02,  4.81it/s]"
     ]
    },
    {
     "name": "stdout",
     "output_type": "stream",
     "text": [
      "1 0.000864\n",
      "2 0.002569\n",
      "3 0.004326\n",
      "4 0.001278\n",
      "5 0.011143\n",
      "6 0.004934\n",
      "0 0.166795\n",
      "1 0.000877\n",
      "2 0.002609\n",
      "3 0.004558\n",
      "4 0.00183\n"
     ]
    },
    {
     "name": "stderr",
     "output_type": "stream",
     "text": [
      " 88%|████████▊ | 87/99 [00:20<00:02,  4.98it/s]"
     ]
    },
    {
     "name": "stdout",
     "output_type": "stream",
     "text": [
      "5 0.010854\n",
      "6 0.004186\n",
      "0 0.165711\n",
      "1 0.000836\n",
      "2 0.003245\n",
      "3 0.004122\n",
      "4 0.001403\n",
      "5 0.009007\n",
      "6 0.004119\n"
     ]
    },
    {
     "name": "stderr",
     "output_type": "stream",
     "text": [
      " 89%|████████▉ | 88/99 [00:20<00:02,  4.92it/s]"
     ]
    },
    {
     "name": "stdout",
     "output_type": "stream",
     "text": [
      "0 0.181581\n",
      "1 0.000998\n",
      "2 0.002658\n",
      "3 0.004987\n",
      "4 0.001452\n",
      "5 0.009807\n",
      "6 0.003812\n",
      "0 0.170158\n",
      "1 0.000903\n"
     ]
    },
    {
     "name": "stderr",
     "output_type": "stream",
     "text": [
      " 91%|█████████ | 90/99 [00:21<00:01,  4.98it/s]"
     ]
    },
    {
     "name": "stdout",
     "output_type": "stream",
     "text": [
      "2 0.003392\n",
      "3 0.005061\n",
      "4 0.001528\n",
      "5 0.00904\n",
      "6 0.004098\n",
      "0 0.172103\n",
      "1 0.000859\n",
      "2 0.002633\n",
      "3 0.003926\n",
      "4 0.001208\n",
      "5 0.008909\n",
      "6 0.004778\n"
     ]
    },
    {
     "name": "stderr",
     "output_type": "stream",
     "text": [
      " 92%|█████████▏| 91/99 [00:21<00:01,  5.01it/s]"
     ]
    },
    {
     "name": "stdout",
     "output_type": "stream",
     "text": [
      "0 0.169577\n",
      "1 0.00117\n",
      "2 0.00407\n",
      "3 0.00623\n",
      "4 0.000915\n",
      "5 0.007548\n",
      "6 0.00436\n",
      "0 0.165376\n",
      "1 0.000515\n",
      "2 0.002297\n",
      "3 0.003955\n"
     ]
    },
    {
     "name": "stderr",
     "output_type": "stream",
     "text": [
      " 94%|█████████▍| 93/99 [00:21<00:01,  5.12it/s]"
     ]
    },
    {
     "name": "stdout",
     "output_type": "stream",
     "text": [
      "4 0.001094\n",
      "5 0.006791\n",
      "6 0.004181\n",
      "0 0.171825\n",
      "1 0.000961\n",
      "2 0.002481\n",
      "3 0.004085\n",
      "4 0.000918\n",
      "5 0.006426\n",
      "6 0.004113\n"
     ]
    },
    {
     "name": "stderr",
     "output_type": "stream",
     "text": [
      " 95%|█████████▍| 94/99 [00:21<00:01,  4.94it/s]"
     ]
    },
    {
     "name": "stdout",
     "output_type": "stream",
     "text": [
      "0 0.187572\n",
      "1 0.000886\n",
      "2 0.003893\n",
      "3 0.006658\n",
      "4 0.00137\n",
      "5 0.008805\n",
      "6 0.00593\n",
      "0 0.16195\n",
      "1 0.000505\n",
      "2 0.003156\n",
      "3"
     ]
    },
    {
     "name": "stderr",
     "output_type": "stream",
     "text": [
      " 97%|█████████▋| 96/99 [00:22<00:00,  5.10it/s]"
     ]
    },
    {
     "name": "stdout",
     "output_type": "stream",
     "text": [
      " 0.003609\n",
      "4 0.000553\n",
      "5 0.005942\n",
      "6 0.004064\n",
      "0 0.170868\n",
      "1 0.001003\n",
      "2 0.002537\n",
      "3 0.004711\n",
      "4 0.000565\n",
      "5 0.005909\n",
      "6 0.00425\n"
     ]
    },
    {
     "name": "stderr",
     "output_type": "stream",
     "text": [
      " 98%|█████████▊| 97/99 [00:22<00:00,  5.06it/s]"
     ]
    },
    {
     "name": "stdout",
     "output_type": "stream",
     "text": [
      "0 0.173097\n",
      "1 0.000691\n",
      "2 0.003315\n",
      "3 0.006901\n",
      "4 0.000971\n",
      "5 0.007768\n",
      "6 0.004865\n"
     ]
    },
    {
     "name": "stderr",
     "output_type": "stream",
     "text": [
      " 99%|█████████▉| 98/99 [00:22<00:00,  4.71it/s]"
     ]
    },
    {
     "name": "stdout",
     "output_type": "stream",
     "text": [
      "0 0.215422\n",
      "1 0.00104\n",
      "2 0.00477\n",
      "3 0.006129\n",
      "4 0.000851\n",
      "5 0.007882\n",
      "6 0.00509\n"
     ]
    },
    {
     "name": "stderr",
     "output_type": "stream",
     "text": [
      "100%|██████████| 99/99 [00:22<00:00,  4.32it/s]"
     ]
    },
    {
     "name": "stdout",
     "output_type": "stream",
     "text": [
      "0 0.176607\n",
      "1 0.001135\n",
      "2 0.004813\n",
      "3 0.00526\n",
      "4 0.000343\n",
      "5 0.004227\n",
      "6 0.00412\n",
      "CPU times: user 23.6 s, sys: 426 ms, total: 24.1 s\n",
      "Wall time: 23.7 s\n"
     ]
    },
    {
     "name": "stderr",
     "output_type": "stream",
     "text": [
      "\n"
     ]
    }
   ],
   "source": [
    "%%time\n",
    "# def find_clusters_with_entropy(alpha = 0, len_data = 500):\n",
    "alpha = 0\n",
    "len_data = 100\n",
    "linkage = \"single\"\n",
    "# alpha = 0\n",
    "# len_data = len(digits.data)\n",
    "#     len_data = 1000\n",
    "data = pairwise_distances(digits.data[:len_data], digits.data[:len_data], metric='euclidean').copy()\n",
    "targets = digits.target[:len_data].copy()\n",
    "np.fill_diagonal(data,sys.maxsize)\n",
    "\n",
    "clusters = {}\n",
    "row_index = -1\n",
    "col_index = -1\n",
    "array = np.array([])\n",
    "\n",
    "\n",
    "for n in range(data.shape[0]):\n",
    "    array = np.append(array, n)\n",
    "\n",
    "clusters[0] = array.copy()\n",
    "\n",
    "df_clusters = pd.DataFrame([])\n",
    "df_clusters[\"element\"] = range(data.shape[0])\n",
    "num_targets = len(np.unique(targets))\n",
    "lst_targets = np.unique(targets)\n",
    "\n",
    "\n",
    "\n",
    "\n",
    "cluster_counter_array = np.array(2 * len_data)\n",
    "target_counter_array = np.array(2 * len_data)\n",
    "cluster_array_entropy = np.array(2 * len_data)\n",
    "len_add_arr = 2\n",
    "\n",
    "cluster_counter_array = [\n",
    "    Counter([targets[i]])\n",
    "    for i in range(len_data)\n",
    "]\n",
    "\n",
    "target_counter_array = pd.DataFrame(\n",
    "    [\n",
    "        [\n",
    "            Counter(targets[[i, j]])\n",
    "            for j in range(len_data)\n",
    "        ]\n",
    "        for i in range(len_data)\n",
    "    ]\n",
    ")\n",
    "\n",
    "cluster_array_entropy = pd.DataFrame(\n",
    "    [\n",
    "        [\n",
    "            entropy(list(target_counter_array[i][j].values())/np.int64(len_add_arr))\n",
    "            for j in range(len_data)\n",
    "        ]\n",
    "        for i in range(len_data)\n",
    "    ]\n",
    ")\n",
    "\n",
    "#finding minimum value from the distance matrix\n",
    "#note that this loop will always return minimum value from bottom triangle of matrix\n",
    "#     for k in tqdm(range(1, data.shape[0])):\n",
    "for k in tqdm(range(1, data.shape[0])):\n",
    "#     print(k)\n",
    "    ind_tmp = 0\n",
    "    dt = datetime.datetime.now()\n",
    "#     min_val = sys.maxsize\n",
    "\n",
    "    df_clusters[\"cluster\"] = array\n",
    "    data_with_entropy = data.copy()\n",
    "\n",
    "    cluster_array_entropy_k = np.array(\n",
    "        [\n",
    "            [\n",
    "                cluster_array_entropy[array[i]][array[j]]\n",
    "                for j in range(0, data.shape[1])\n",
    "            ]\n",
    "            for i in range(0, data.shape[0])\n",
    "        ]\n",
    "    )\n",
    "    \n",
    "    print(ind_tmp, (datetime.datetime.now() - dt).total_seconds())\n",
    "    dt = datetime.datetime.now()\n",
    "    ind_tmp += 1\n",
    "\n",
    "    data_with_entropy = data_with_entropy + alpha * cluster_array_entropy_k\n",
    "#         for i in range(0, data.shape[0]):\n",
    "#             for j in range(0, data.shape[1]):\n",
    "#                 if i != j:\n",
    "#                     data_with_entropy[i][j] = data_with_entropy[i][j] + alpha * cluster_array_entropy[array[i]][array[j]]\n",
    "\n",
    "    ind = np.unravel_index(np.argmin(data_with_entropy, axis=None), data.shape)\n",
    "    row_index = ind[0]\n",
    "    col_index = ind[1]\n",
    "    min_val = data_with_entropy[ind]\n",
    "    \n",
    "    print(ind_tmp, (datetime.datetime.now() - dt).total_seconds())\n",
    "    dt = datetime.datetime.now()\n",
    "    ind_tmp += 1\n",
    "\n",
    "#     print(\"MIN \", min_val, row_index, col_index)\n",
    "    part1 = list(df_clusters[df_clusters.cluster == array[row_index]].element)\n",
    "    part2 = list(df_clusters[df_clusters.cluster == array[col_index]].element)\n",
    "#     all_parts = list(set(part1).union(set(part2)))\n",
    "#     print(all_parts)\n",
    "    all_parts_combinations = np.transpose([np.tile(part1, len(part2)), np.repeat(part2, len(part1))])\n",
    "    data[all_parts_combinations[:, 0], all_parts_combinations[:, 1]] = sys.maxsize\n",
    "    data[all_parts_combinations[:, 1], all_parts_combinations[:, 0]] = sys.maxsize\n",
    "    \n",
    "    print(ind_tmp, (datetime.datetime.now() - dt).total_seconds())\n",
    "    dt = datetime.datetime.now()\n",
    "    ind_tmp += 1\n",
    "    \n",
    "#     print(\"MIN part \", part1, part2, all_parts)\n",
    "#     print(\"MIN \", data[ind], row_index, col_index, all_parts)\n",
    "#     data[list(part1), list(part2)] = sys.maxsize\n",
    "#         for i1 in part1:\n",
    "#             for i2 in part2:\n",
    "#                 data[i1][i2] = sys.maxsize\n",
    "#                 data[i2][i1] = sys.maxsize\n",
    "\n",
    "    new_cluster_num = k - 1 + data.shape[0]\n",
    "\n",
    "    add_cluster_counter = cluster_counter_array[row_index] + cluster_counter_array[col_index]\n",
    "\n",
    "    target_counter_array.drop([array[row_index], array[col_index]], axis = 0, inplace = True)\n",
    "    target_counter_array.drop([array[row_index], array[col_index]], axis = 1, inplace = True)\n",
    "    \n",
    "    cluster_array_entropy.drop([array[row_index], array[col_index]], axis = 0, inplace = True)\n",
    "    cluster_array_entropy.drop([array[row_index], array[col_index]], axis = 1, inplace = True)\n",
    "    \n",
    "    print(ind_tmp, (datetime.datetime.now() - dt).total_seconds())\n",
    "    dt = datetime.datetime.now()\n",
    "    ind_tmp += 1\n",
    "\n",
    "#     print(cluster_array_entropy.shape, target_counter_array.shape, array[row_index], array[col_index])\n",
    "    \n",
    "    add_col_counter = [\n",
    "        cluster_counter_array[i] + add_cluster_counter\n",
    "        for i in target_counter_array.columns\n",
    "    ]\n",
    "    \n",
    "#     print(\"add_col_counter: \", len(add_col_counter))\n",
    "\n",
    "    add_col_entropy = [\n",
    "        entropy(\n",
    "            list(x.values())/np.sum(list(x.values()))\n",
    "        )\n",
    "        for x in add_col_counter\n",
    "    ]\n",
    "\n",
    "    cluster_counter_array = np.append(\n",
    "        cluster_counter_array\n",
    "        , add_cluster_counter\n",
    "    )\n",
    "    \n",
    "    print(ind_tmp, (datetime.datetime.now() - dt).total_seconds())\n",
    "    dt = datetime.datetime.now()\n",
    "    ind_tmp += 1\n",
    "    \n",
    "    target_counter_array[new_cluster_num] = add_col_counter\n",
    "#     if k == 2:\n",
    "#         break\n",
    "\n",
    "#     print(cluster_array_entropy.shape, target_counter_array.shape)\n",
    "    add_col_counter.append(add_cluster_counter)\n",
    "#     print(\"hi1\", target_counter_array.shape, pd.Series(add_col_counter, name = new_cluster_num).shape)\n",
    "    target_counter_array = target_counter_array.append(\n",
    "        pd.Series(add_col_counter, name = new_cluster_num, index = target_counter_array.columns), ignore_index = False\n",
    "    )\n",
    "#     print(\"hi1\", target_counter_array.shape, pd.Series(add_col_counter, name = new_cluster_num).shape)\n",
    "    \n",
    "#     print(\"add_col_counter: \", len(add_col_counter))\n",
    "#     if k == 1:\n",
    "#         break\n",
    "\n",
    "#         target_counter_array = np.hstack((target_counter_array, add_col_counter))\n",
    "#         add_col_counter = add_col_counter + [[add_cluster_counter]]\n",
    "#         target_counter_array = np.concatenate(\n",
    "#             [target_counter_array, np.array(add_col_counter).reshape(1, -1)]\n",
    "#         )\n",
    "#     target_counter_array = target_counter_array + [add_col_counter]\n",
    "\n",
    "    \n",
    "    print(ind_tmp, (datetime.datetime.now() - dt).total_seconds())\n",
    "    dt = datetime.datetime.now()\n",
    "    ind_tmp += 1\n",
    "\n",
    "#     print(\"hi2\")\n",
    "    cluster_array_entropy[new_cluster_num] = add_col_entropy\n",
    "    add_col_entropy.append(sys.maxsize)\n",
    "    cluster_array_entropy = cluster_array_entropy.append(\n",
    "        pd.Series(add_col_entropy, name = new_cluster_num, index = cluster_array_entropy.columns), ignore_index = False\n",
    "    )\n",
    "    \n",
    "    \n",
    "    print(ind_tmp, (datetime.datetime.now() - dt).total_seconds())\n",
    "    dt = datetime.datetime.now()\n",
    "    ind_tmp += 1\n",
    "#     print(\"hi3\", cluster_array_entropy.shape, pd.Series(add_col_entropy, name = new_cluster_num).shape)\n",
    "    array[list(part1)] = new_cluster_num\n",
    "#         for i1 in part1:\n",
    "#             array[i1] = k - 1 + data.shape[0]\n",
    "\n",
    "    array[list(part2)] = new_cluster_num\n",
    "#         for i2 in part2:\n",
    "#             array[i2] = k - 1 + data.shape[0]\n",
    "\n",
    "    clusters[k] = array.copy()\n",
    "\n",
    "#         cluster_array_entropy = np.hstack((cluster_array_entropy, add_col_entropy))\n",
    "#         add_col_entropy = add_col_entropy + [[sys.maxsize]]\n",
    "#         cluster_array_entropy = np.concatenate(\n",
    "#             [cluster_array_entropy, np.array(add_col_entropy).reshape(1, -1)]\n",
    "#         )\n",
    "#     cluster_array_entropy = cluster_array_entropy + [add_col_entropy]\n",
    "#     print(\"hihi2\")\n",
    "#     print(data.shape[0])\n",
    "# acc_res = cluster_score(targets, clusters, data)\n",
    "#     return acc_res"
   ]
  },
  {
   "cell_type": "markdown",
   "metadata": {},
   "source": [
    "# v2"
   ]
  },
  {
   "cell_type": "code",
   "execution_count": 154,
   "metadata": {
    "collapsed": true,
    "jupyter": {
     "outputs_hidden": true
    }
   },
   "outputs": [
    {
     "name": "stderr",
     "output_type": "stream",
     "text": [
      "  0%|          | 0/499 [00:00<?, ?it/s]"
     ]
    },
    {
     "name": "stdout",
     "output_type": "stream",
     "text": [
      "0 0.002485\n",
      "1 0.005227\n",
      "2 0.002829\n",
      "3 0.066708\n",
      "4 0.047005\n",
      "5 0.001666\n",
      "6 9e-06\n"
     ]
    },
    {
     "name": "stderr",
     "output_type": "stream",
     "text": [
      "  0%|          | 1/499 [00:00<03:22,  2.46it/s]"
     ]
    },
    {
     "name": "stdout",
     "output_type": "stream",
     "text": [
      "7 0.239146\n",
      "8 0.00886\n",
      "hi1\n",
      "0 0.004259\n",
      "1 0.005884\n",
      "2 0.002895\n",
      "3 0.058155\n",
      "4 0.04314\n",
      "5 0.001772\n",
      "6 6e-06\n"
     ]
    },
    {
     "name": "stderr",
     "output_type": "stream",
     "text": [
      "  0%|          | 2/499 [00:00<03:17,  2.52it/s]"
     ]
    },
    {
     "name": "stdout",
     "output_type": "stream",
     "text": [
      "7 0.210534\n",
      "8 0.008389\n",
      "hi1\n",
      "0 0.001148\n",
      "1 0.00588\n",
      "2 0.004285\n",
      "3 0.069688\n",
      "4 0.054034\n",
      "5 0.001626\n",
      "6 6e-06\n"
     ]
    },
    {
     "name": "stderr",
     "output_type": "stream",
     "text": [
      "  1%|          | 3/499 [00:01<03:16,  2.52it/s]"
     ]
    },
    {
     "name": "stdout",
     "output_type": "stream",
     "text": [
      "7 0.21005\n",
      "8 0.008961\n",
      "hi1\n",
      "0 0.001188\n",
      "1 0.00528\n",
      "2 0.002815\n",
      "3 0.065072\n",
      "4 0.040829\n",
      "5 0.001384\n",
      "6 5e-06\n"
     ]
    },
    {
     "name": "stderr",
     "output_type": "stream",
     "text": [
      "  1%|          | 4/499 [00:01<03:11,  2.58it/s]"
     ]
    },
    {
     "name": "stdout",
     "output_type": "stream",
     "text": [
      "7 0.203717\n",
      "8 0.008303\n",
      "hi1\n",
      "0 0.001498\n",
      "1 0.006947\n",
      "2 0.002841\n",
      "3 0.067595\n",
      "4 0.041075\n",
      "5 0.00152\n",
      "6 4e-06\n"
     ]
    },
    {
     "name": "stderr",
     "output_type": "stream",
     "text": [
      "  1%|          | 5/499 [00:01<03:06,  2.64it/s]"
     ]
    },
    {
     "name": "stdout",
     "output_type": "stream",
     "text": [
      "7 0.188714\n",
      "8 0.007543\n",
      "hi1\n",
      "0 0.001224\n",
      "1 0.005302\n",
      "2 0.002685\n",
      "3 0.060264\n",
      "4 0.035402\n",
      "5 0.001614\n",
      "6 6e-06\n"
     ]
    },
    {
     "name": "stderr",
     "output_type": "stream",
     "text": [
      "  1%|          | 6/499 [00:02<03:01,  2.72it/s]"
     ]
    },
    {
     "name": "stdout",
     "output_type": "stream",
     "text": [
      "7 0.191295\n",
      "8 0.007911\n",
      "hi1\n",
      "0 0.001116\n",
      "1 0.005218\n",
      "2 0.003295\n",
      "3 0.059058\n",
      "4 0.036519\n",
      "5 0.0017\n",
      "6 6e-06\n"
     ]
    },
    {
     "name": "stderr",
     "output_type": "stream",
     "text": [
      "  1%|▏         | 7/499 [00:02<02:59,  2.74it/s]"
     ]
    },
    {
     "name": "stdout",
     "output_type": "stream",
     "text": [
      "7 0.203445\n",
      "8 0.008357\n",
      "hi1\n",
      "0 0.001092\n",
      "1 0.005469\n",
      "2 0.003896\n",
      "3 0.059998\n",
      "4 0.037381\n",
      "5 0.001446\n",
      "6 1.6e-05\n"
     ]
    },
    {
     "name": "stderr",
     "output_type": "stream",
     "text": [
      "  2%|▏         | 8/499 [00:02<02:57,  2.77it/s]"
     ]
    },
    {
     "name": "stdout",
     "output_type": "stream",
     "text": [
      "7 0.194253\n",
      "8 0.007807\n",
      "hi1\n",
      "0 0.001235\n",
      "1 0.005445\n",
      "2 0.004615\n",
      "3 0.060372\n",
      "4 0.035468\n",
      "5 0.001338\n",
      "6 5e-06\n"
     ]
    },
    {
     "name": "stderr",
     "output_type": "stream",
     "text": [
      "  2%|▏         | 9/499 [00:03<02:55,  2.79it/s]"
     ]
    },
    {
     "name": "stdout",
     "output_type": "stream",
     "text": [
      "7 0.189251\n",
      "8 0.009156\n",
      "hi1\n",
      "0 0.001234\n",
      "1 0.005497\n",
      "2 0.002758\n",
      "3 0.061496\n",
      "4 0.042798\n",
      "5 0.001648\n",
      "6 6e-06\n"
     ]
    },
    {
     "name": "stderr",
     "output_type": "stream",
     "text": [
      "  2%|▏         | 10/499 [00:03<02:59,  2.72it/s]"
     ]
    },
    {
     "name": "stdout",
     "output_type": "stream",
     "text": [
      "7 0.226219\n",
      "8 0.007951\n",
      "hi1\n",
      "0 0.00124\n",
      "1 0.005653\n",
      "2 0.003087\n",
      "3 0.056539\n",
      "4 0.054404\n",
      "5 0.001695\n",
      "6 7e-06\n"
     ]
    },
    {
     "name": "stderr",
     "output_type": "stream",
     "text": [
      "  2%|▏         | 11/499 [00:04<03:03,  2.66it/s]"
     ]
    },
    {
     "name": "stdout",
     "output_type": "stream",
     "text": [
      "7 0.220707\n",
      "8 0.010974\n",
      "hi1\n",
      "0 0.001173\n",
      "1 0.00569\n",
      "2 0.003926\n",
      "3 0.060966\n",
      "4 0.042225\n",
      "5 0.001176\n",
      "6 6e-06\n"
     ]
    },
    {
     "name": "stderr",
     "output_type": "stream",
     "text": [
      "  2%|▏         | 12/499 [00:04<03:25,  2.37it/s]"
     ]
    },
    {
     "name": "stdout",
     "output_type": "stream",
     "text": [
      "7 0.367413\n",
      "8 0.00871\n",
      "hi1\n",
      "0 0.001197\n",
      "1 0.005569\n",
      "2 0.002981\n",
      "3 0.056541\n",
      "4 0.035673\n",
      "5 0.001453\n",
      "6 1.4e-05\n"
     ]
    },
    {
     "name": "stderr",
     "output_type": "stream",
     "text": [
      "  3%|▎         | 13/499 [00:04<03:13,  2.51it/s]"
     ]
    },
    {
     "name": "stdout",
     "output_type": "stream",
     "text": [
      "7 0.187593\n",
      "8 0.008303\n",
      "hi1\n",
      "0 0.001167\n",
      "1 0.005437\n",
      "2 0.003844\n",
      "3 0.05798\n",
      "4 0.036906\n",
      "5 0.001402\n",
      "6 4e-06\n"
     ]
    },
    {
     "name": "stderr",
     "output_type": "stream",
     "text": [
      "  3%|▎         | 14/499 [00:05<03:05,  2.61it/s]"
     ]
    },
    {
     "name": "stdout",
     "output_type": "stream",
     "text": [
      "7 0.192802\n",
      "8 0.007911\n",
      "hi1\n",
      "0 0.001142\n",
      "1 0.005826\n",
      "2 0.004058\n",
      "3 0.057795\n",
      "4 0.036449\n",
      "5 0.001997\n",
      "6 1.1e-05\n"
     ]
    },
    {
     "name": "stderr",
     "output_type": "stream",
     "text": [
      "  3%|▎         | 15/499 [00:05<03:04,  2.62it/s]"
     ]
    },
    {
     "name": "stdout",
     "output_type": "stream",
     "text": [
      "7 0.222334\n",
      "8 0.010217\n",
      "hi1\n",
      "0 0.00121\n",
      "1 0.005245\n",
      "2 0.002773\n",
      "3 0.057418\n",
      "4 0.033209\n",
      "5 0.001926\n",
      "6 8e-06\n"
     ]
    },
    {
     "name": "stderr",
     "output_type": "stream",
     "text": [
      "  3%|▎         | 16/499 [00:06<02:56,  2.73it/s]"
     ]
    },
    {
     "name": "stdout",
     "output_type": "stream",
     "text": [
      "7 0.184418\n",
      "8 0.008036\n",
      "hi1\n",
      "0 0.003246\n",
      "1 0.005194\n",
      "2 0.002687\n",
      "3 0.057053\n",
      "4 0.034742\n",
      "5 0.001446\n",
      "6 6e-06\n"
     ]
    },
    {
     "name": "stderr",
     "output_type": "stream",
     "text": [
      "  3%|▎         | 17/499 [00:06<02:51,  2.80it/s]"
     ]
    },
    {
     "name": "stdout",
     "output_type": "stream",
     "text": [
      "7 0.18484\n",
      "8 0.008347\n",
      "hi1\n",
      "0 0.001141\n",
      "1 0.00526\n",
      "2 0.002723\n",
      "3 0.052358\n",
      "4 0.042189\n",
      "5 0.00174\n",
      "6 6e-06\n"
     ]
    },
    {
     "name": "stderr",
     "output_type": "stream",
     "text": [
      "  4%|▎         | 18/499 [00:06<02:54,  2.76it/s]"
     ]
    },
    {
     "name": "stdout",
     "output_type": "stream",
     "text": [
      "7 0.22034\n",
      "8 0.008449\n",
      "hi1\n",
      "0 0.00116\n",
      "1 0.005636\n",
      "2 0.002677\n",
      "3 0.056696\n",
      "4 0.034753\n",
      "5 0.001517\n",
      "6 6e-06\n"
     ]
    },
    {
     "name": "stderr",
     "output_type": "stream",
     "text": [
      "  4%|▍         | 19/499 [00:07<02:49,  2.84it/s]"
     ]
    },
    {
     "name": "stdout",
     "output_type": "stream",
     "text": [
      "7 0.180004\n",
      "8 0.008221\n",
      "hi1\n",
      "0 0.001155\n",
      "1 0.005601\n",
      "2 0.003674\n",
      "3 0.056221\n",
      "4 0.035007\n",
      "5 0.001456\n",
      "6 7e-06\n"
     ]
    },
    {
     "name": "stderr",
     "output_type": "stream",
     "text": [
      "  4%|▍         | 20/499 [00:07<02:45,  2.90it/s]"
     ]
    },
    {
     "name": "stdout",
     "output_type": "stream",
     "text": [
      "7 0.179617\n",
      "8 0.007669\n",
      "hi1\n",
      "0 0.001176\n",
      "1 0.005288\n",
      "2 0.002845\n",
      "3 0.055956\n",
      "4 0.036361\n",
      "5 0.001259\n",
      "6 9e-06\n"
     ]
    },
    {
     "name": "stderr",
     "output_type": "stream",
     "text": [
      "  4%|▍         | 21/499 [00:07<02:43,  2.93it/s]"
     ]
    },
    {
     "name": "stdout",
     "output_type": "stream",
     "text": [
      "7 0.184406\n",
      "8 0.007679\n",
      "hi1\n",
      "0 0.001217\n",
      "1 0.005317\n",
      "2 0.002648\n",
      "3 0.053832\n",
      "4 0.03846\n",
      "5 0.001685\n",
      "6 1.8e-05\n"
     ]
    },
    {
     "name": "stderr",
     "output_type": "stream",
     "text": [
      "  4%|▍         | 22/499 [00:08<02:43,  2.93it/s]"
     ]
    },
    {
     "name": "stdout",
     "output_type": "stream",
     "text": [
      "7 0.191189\n",
      "8 0.007963\n",
      "hi1\n",
      "0 0.001228\n",
      "1 0.005483\n",
      "2 0.003898\n",
      "3 0.05549\n",
      "4 0.03442\n",
      "5 0.001543\n",
      "6 5e-06\n"
     ]
    },
    {
     "name": "stderr",
     "output_type": "stream",
     "text": [
      "  5%|▍         | 23/499 [00:08<02:40,  2.97it/s]"
     ]
    },
    {
     "name": "stdout",
     "output_type": "stream",
     "text": [
      "7 0.176669\n",
      "8 0.007459\n",
      "hi1\n",
      "0 0.001557\n",
      "1 0.005478\n",
      "2 0.003959\n",
      "3 0.056513\n",
      "4 0.035602\n",
      "5 0.001434\n",
      "6 1.4e-05\n"
     ]
    },
    {
     "name": "stderr",
     "output_type": "stream",
     "text": [
      "  5%|▍         | 24/499 [00:08<02:40,  2.96it/s]"
     ]
    },
    {
     "name": "stdout",
     "output_type": "stream",
     "text": [
      "7 0.189614\n",
      "8 0.007997\n",
      "hi1\n",
      "0 0.001201\n",
      "1 0.005389\n",
      "2 0.00346\n",
      "3 0.05891\n",
      "4 0.039409\n",
      "5 0.001353\n",
      "6 6e-06\n"
     ]
    },
    {
     "name": "stderr",
     "output_type": "stream",
     "text": [
      "  5%|▌         | 25/499 [00:09<02:40,  2.96it/s]"
     ]
    },
    {
     "name": "stdout",
     "output_type": "stream",
     "text": [
      "7 0.182924\n",
      "8 0.008079\n",
      "hi1\n",
      "0 0.001156\n",
      "1 0.005828\n",
      "2 0.003369\n",
      "3 0.052258\n",
      "4 0.036141\n",
      "5 0.001801\n",
      "6 5e-06\n"
     ]
    },
    {
     "name": "stderr",
     "output_type": "stream",
     "text": [
      "  5%|▌         | 26/499 [00:09<02:38,  2.98it/s]"
     ]
    },
    {
     "name": "stdout",
     "output_type": "stream",
     "text": [
      "7 0.184383\n",
      "8 0.0074\n",
      "hi1\n",
      "0 0.001251\n",
      "1 0.005302\n",
      "2 0.004718\n",
      "3 0.05736\n",
      "4 0.040573\n",
      "5 0.002101\n",
      "6 7e-06\n"
     ]
    },
    {
     "name": "stderr",
     "output_type": "stream",
     "text": [
      "  5%|▌         | 27/499 [00:09<02:40,  2.94it/s]"
     ]
    },
    {
     "name": "stdout",
     "output_type": "stream",
     "text": [
      "7 0.199488\n",
      "8 0.007947\n",
      "hi1\n",
      "0 0.001083\n",
      "1 0.005529\n",
      "2 0.003574\n",
      "3 0.056558\n",
      "4 0.04103\n",
      "5 0.001364\n",
      "6 1e-05\n"
     ]
    },
    {
     "name": "stderr",
     "output_type": "stream",
     "text": [
      "  6%|▌         | 28/499 [00:10<02:40,  2.94it/s]"
     ]
    },
    {
     "name": "stdout",
     "output_type": "stream",
     "text": [
      "7 0.178387\n",
      "8 0.007321\n",
      "hi1\n",
      "0 0.001182\n",
      "1 0.005919\n",
      "2 0.002918\n",
      "3 0.053942\n",
      "4 0.040896\n",
      "5 0.001557\n",
      "6 7e-06\n"
     ]
    },
    {
     "name": "stderr",
     "output_type": "stream",
     "text": [
      "  6%|▌         | 29/499 [00:10<02:43,  2.87it/s]"
     ]
    },
    {
     "name": "stdout",
     "output_type": "stream",
     "text": [
      "7 0.209085\n",
      "8 0.008417\n",
      "hi1\n",
      "0 0.001164\n",
      "1 0.005872\n",
      "2 0.004241\n",
      "3 0.055911\n",
      "4 0.04089\n",
      "5 0.001614\n",
      "6 6e-06\n"
     ]
    },
    {
     "name": "stderr",
     "output_type": "stream",
     "text": [
      "  6%|▌         | 30/499 [00:10<02:43,  2.86it/s]"
     ]
    },
    {
     "name": "stdout",
     "output_type": "stream",
     "text": [
      "7 0.188885\n",
      "8 0.009849\n",
      "hi1\n",
      "0 0.001191\n",
      "1 0.00542\n",
      "2 0.002744\n",
      "3 0.053308\n",
      "4 0.037895\n",
      "5 0.001512\n",
      "6 7e-06\n"
     ]
    },
    {
     "name": "stderr",
     "output_type": "stream",
     "text": [
      "  6%|▌         | 31/499 [00:11<02:40,  2.92it/s]"
     ]
    },
    {
     "name": "stdout",
     "output_type": "stream",
     "text": [
      "7 0.179747\n",
      "8 0.008303\n",
      "hi1\n",
      "0 0.001169\n",
      "1 0.005642\n",
      "2 0.004292\n",
      "3 0.054258\n",
      "4 0.036009\n",
      "5 0.001344\n",
      "6 5e-06\n"
     ]
    },
    {
     "name": "stderr",
     "output_type": "stream",
     "text": [
      "  6%|▋         | 32/499 [00:11<02:38,  2.95it/s]"
     ]
    },
    {
     "name": "stdout",
     "output_type": "stream",
     "text": [
      "7 0.17804\n",
      "8 0.008434\n",
      "hi1\n",
      "0 0.001177\n",
      "1 0.005786\n",
      "2 0.004285\n",
      "3 0.05458\n",
      "4 0.040483\n",
      "5 0.001524\n",
      "6 7e-06\n"
     ]
    },
    {
     "name": "stderr",
     "output_type": "stream",
     "text": [
      "  7%|▋         | 33/499 [00:11<02:39,  2.93it/s]"
     ]
    },
    {
     "name": "stdout",
     "output_type": "stream",
     "text": [
      "7 0.195893\n",
      "8 0.00729\n",
      "hi1\n",
      "0 0.001183\n",
      "1 0.005499\n",
      "2 0.004719\n",
      "3 0.056132\n",
      "4 0.034837\n",
      "5 0.001599\n",
      "6 1.4e-05\n"
     ]
    },
    {
     "name": "stderr",
     "output_type": "stream",
     "text": [
      "  7%|▋         | 34/499 [00:12<02:35,  2.99it/s]"
     ]
    },
    {
     "name": "stdout",
     "output_type": "stream",
     "text": [
      "7 0.169453\n",
      "8 0.007969\n",
      "hi1\n",
      "0 0.001154\n",
      "1 0.00554\n",
      "2 0.003046\n",
      "3 0.048943\n",
      "4 0.037839\n",
      "5 0.001664\n",
      "6 5e-06\n"
     ]
    },
    {
     "name": "stderr",
     "output_type": "stream",
     "text": [
      "  7%|▋         | 35/499 [00:12<02:33,  3.03it/s]"
     ]
    },
    {
     "name": "stdout",
     "output_type": "stream",
     "text": [
      "7 0.169814\n",
      "8 0.007463\n",
      "hi1\n",
      "0 0.001196\n",
      "1 0.005889\n",
      "2 0.004993\n",
      "3 0.053643\n",
      "4 0.040387\n",
      "5 0.001596\n",
      "6 5e-06\n"
     ]
    },
    {
     "name": "stderr",
     "output_type": "stream",
     "text": [
      "  7%|▋         | 36/499 [00:12<02:32,  3.05it/s]"
     ]
    },
    {
     "name": "stdout",
     "output_type": "stream",
     "text": [
      "7 0.173257\n",
      "8 0.007204\n",
      "hi1\n",
      "0 0.003247\n",
      "1 0.005349\n",
      "2 0.002889\n",
      "3 0.052944\n",
      "4 0.034595\n",
      "5 0.001562\n",
      "6 1.1e-05\n"
     ]
    },
    {
     "name": "stderr",
     "output_type": "stream",
     "text": [
      "  7%|▋         | 37/499 [00:13<02:29,  3.09it/s]"
     ]
    },
    {
     "name": "stdout",
     "output_type": "stream",
     "text": [
      "7 0.170354\n",
      "8 0.007704\n",
      "hi1\n",
      "0 0.001183\n",
      "1 0.005505\n",
      "2 0.00275\n",
      "3 0.053048\n",
      "4 0.035059\n",
      "5 0.001587\n",
      "6 5e-06\n"
     ]
    },
    {
     "name": "stderr",
     "output_type": "stream",
     "text": [
      "  8%|▊         | 38/499 [00:13<02:28,  3.11it/s]"
     ]
    },
    {
     "name": "stdout",
     "output_type": "stream",
     "text": [
      "7 0.171853\n",
      "8 0.0079\n",
      "hi1\n",
      "0 0.00116\n",
      "1 0.005498\n",
      "2 0.004558\n",
      "3 0.056172\n",
      "4 0.035558\n",
      "5 0.001432\n",
      "6 5e-06\n"
     ]
    },
    {
     "name": "stderr",
     "output_type": "stream",
     "text": [
      "  8%|▊         | 39/499 [00:13<02:27,  3.11it/s]"
     ]
    },
    {
     "name": "stdout",
     "output_type": "stream",
     "text": [
      "7 0.171285\n",
      "8 0.00927\n",
      "hi1\n",
      "0 0.001177\n",
      "1 0.006909\n",
      "2 0.003629\n",
      "3 0.04944\n",
      "4 0.04345\n",
      "5 0.001642\n",
      "6 7e-06\n"
     ]
    },
    {
     "name": "stderr",
     "output_type": "stream",
     "text": [
      "  8%|▊         | 40/499 [00:14<02:33,  3.00it/s]"
     ]
    },
    {
     "name": "stdout",
     "output_type": "stream",
     "text": [
      "7 0.204204\n",
      "8 0.007757\n",
      "hi1\n",
      "0 0.001194\n",
      "1 0.005967\n",
      "2 0.003971\n",
      "3 0.055029\n",
      "4 0.042444\n",
      "5 0.001739\n",
      "6 6e-06\n"
     ]
    },
    {
     "name": "stderr",
     "output_type": "stream",
     "text": [
      "  8%|▊         | 41/499 [00:14<02:37,  2.91it/s]"
     ]
    },
    {
     "name": "stdout",
     "output_type": "stream",
     "text": [
      "7 0.205948\n",
      "8 0.008471\n",
      "hi1\n",
      "0 0.00123\n",
      "1 0.006002\n",
      "2 0.003055\n",
      "3 0.051574\n",
      "4 0.041454\n",
      "5 0.001741\n",
      "6 5e-06\n"
     ]
    },
    {
     "name": "stderr",
     "output_type": "stream",
     "text": [
      "  8%|▊         | 42/499 [00:14<02:39,  2.86it/s]"
     ]
    },
    {
     "name": "stdout",
     "output_type": "stream",
     "text": [
      "7 0.203786\n",
      "8 0.00848\n",
      "hi1\n",
      "0 0.002775\n",
      "1 0.00573\n",
      "2 0.003536\n",
      "3 0.05379\n",
      "4 0.040805\n",
      "5 0.001683\n",
      "6 5e-06\n"
     ]
    },
    {
     "name": "stderr",
     "output_type": "stream",
     "text": [
      "  9%|▊         | 43/499 [00:15<02:40,  2.84it/s]"
     ]
    },
    {
     "name": "stdout",
     "output_type": "stream",
     "text": [
      "7 0.201256\n",
      "8 0.008271\n",
      "hi1\n",
      "0 0.001211\n",
      "1 0.005747\n",
      "2 0.003212\n",
      "3 0.055512\n",
      "4 0.043585\n",
      "5 0.001555\n",
      "6 6e-06\n"
     ]
    },
    {
     "name": "stderr",
     "output_type": "stream",
     "text": [
      "  9%|▉         | 44/499 [00:15<02:42,  2.81it/s]"
     ]
    },
    {
     "name": "stdout",
     "output_type": "stream",
     "text": [
      "7 0.203026\n",
      "8 0.008617\n",
      "hi1\n",
      "0 0.001199\n",
      "1 0.005721\n",
      "2 0.00425\n",
      "3 0.052282\n",
      "4 0.032944\n",
      "5 0.001366\n",
      "6 9e-06\n"
     ]
    },
    {
     "name": "stderr",
     "output_type": "stream",
     "text": [
      "  9%|▉         | 45/499 [00:15<02:34,  2.93it/s]"
     ]
    },
    {
     "name": "stdout",
     "output_type": "stream",
     "text": [
      "7 0.163588\n",
      "8 0.006802\n",
      "hi1\n",
      "0 0.003122\n",
      "1 0.005398\n",
      "2 0.003077\n",
      "3 0.050289\n",
      "4 0.03499\n",
      "5 0.001553\n",
      "6 5e-06\n"
     ]
    },
    {
     "name": "stderr",
     "output_type": "stream",
     "text": [
      "  9%|▉         | 46/499 [00:16<02:31,  2.99it/s]"
     ]
    },
    {
     "name": "stdout",
     "output_type": "stream",
     "text": [
      "7 0.16875\n",
      "8 0.008163\n",
      "hi1\n",
      "0 0.004157\n",
      "1 0.005549\n",
      "2 0.002979\n",
      "3 0.051727\n",
      "4 0.031723\n",
      "5 0.001602\n",
      "6 5e-06\n"
     ]
    },
    {
     "name": "stderr",
     "output_type": "stream",
     "text": [
      "  9%|▉         | 47/499 [00:16<02:26,  3.08it/s]"
     ]
    },
    {
     "name": "stdout",
     "output_type": "stream",
     "text": [
      "7 0.162769\n",
      "8 0.007619\n",
      "hi1\n",
      "0 0.001149\n",
      "1 0.005796\n",
      "2 0.0027\n",
      "3 0.046321\n",
      "4 0.034767\n",
      "5 0.00143\n",
      "6 8e-06\n"
     ]
    },
    {
     "name": "stderr",
     "output_type": "stream",
     "text": [
      " 10%|▉         | 48/499 [00:16<02:22,  3.17it/s]"
     ]
    },
    {
     "name": "stdout",
     "output_type": "stream",
     "text": [
      "7 0.158462\n",
      "8 0.011152\n",
      "hi1\n",
      "0 0.001243\n",
      "1 0.005614\n",
      "2 0.002574\n",
      "3 0.048318\n",
      "4 0.035021\n",
      "5 0.001538\n",
      "6 4e-06\n"
     ]
    },
    {
     "name": "stderr",
     "output_type": "stream",
     "text": [
      " 10%|▉         | 49/499 [00:17<02:27,  3.05it/s]"
     ]
    },
    {
     "name": "stdout",
     "output_type": "stream",
     "text": [
      "7 0.211069\n",
      "8 0.008834\n",
      "hi1\n",
      "0 0.001366\n",
      "1 0.006906\n",
      "2 0.003037\n",
      "3 0.05129\n",
      "4 0.031848\n",
      "5 0.001187\n",
      "6 5e-06\n"
     ]
    },
    {
     "name": "stderr",
     "output_type": "stream",
     "text": [
      " 10%|█         | 50/499 [00:17<02:23,  3.13it/s]"
     ]
    },
    {
     "name": "stdout",
     "output_type": "stream",
     "text": [
      "7 0.164559\n",
      "8 0.00759\n",
      "hi1\n",
      "0 0.001089\n",
      "1 0.005252\n",
      "2 0.002773\n",
      "3 0.044414\n",
      "4 0.033332\n",
      "5 0.001472\n",
      "6 6e-06\n"
     ]
    },
    {
     "name": "stderr",
     "output_type": "stream",
     "text": [
      " 10%|█         | 51/499 [00:17<02:20,  3.20it/s]"
     ]
    },
    {
     "name": "stdout",
     "output_type": "stream",
     "text": [
      "7 0.164857\n",
      "8 0.008962\n",
      "hi1\n",
      "0 0.001132\n",
      "1 0.00594\n",
      "2 0.004356\n",
      "3 0.053023\n",
      "4 0.035653\n",
      "5 0.001583\n",
      "6 5e-06\n"
     ]
    },
    {
     "name": "stderr",
     "output_type": "stream",
     "text": [
      " 10%|█         | 52/499 [00:18<02:19,  3.20it/s]"
     ]
    },
    {
     "name": "stdout",
     "output_type": "stream",
     "text": [
      "7 0.169372\n",
      "8 0.007255\n",
      "hi1\n",
      "0 0.001234\n",
      "1 0.00524\n",
      "2 0.003223\n",
      "3 0.046226\n",
      "4 0.03498\n",
      "5 0.001627\n",
      "6 4e-06\n"
     ]
    },
    {
     "name": "stderr",
     "output_type": "stream",
     "text": [
      " 11%|█         | 53/499 [00:18<02:17,  3.25it/s]"
     ]
    },
    {
     "name": "stdout",
     "output_type": "stream",
     "text": [
      "7 0.161084\n",
      "8 0.010587\n",
      "hi1\n",
      "0 0.001207\n",
      "1 0.005359\n",
      "2 0.002968\n",
      "3 0.049717\n",
      "4 0.033556\n",
      "5 0.001851\n",
      "6 8e-06\n"
     ]
    },
    {
     "name": "stderr",
     "output_type": "stream",
     "text": [
      " 11%|█         | 54/499 [00:18<02:16,  3.26it/s]"
     ]
    },
    {
     "name": "stdout",
     "output_type": "stream",
     "text": [
      "7 0.170691\n",
      "8 0.008418\n",
      "hi1\n",
      "0 0.001438\n",
      "1 0.005323\n",
      "2 0.003176\n",
      "3 0.050193\n",
      "4 0.033019\n",
      "5 0.001205\n",
      "6 4e-06\n"
     ]
    },
    {
     "name": "stderr",
     "output_type": "stream",
     "text": [
      " 11%|█         | 55/499 [00:18<02:15,  3.29it/s]"
     ]
    },
    {
     "name": "stdout",
     "output_type": "stream",
     "text": [
      "7 0.16587\n",
      "8 0.008122\n",
      "hi1\n",
      "0 0.001208\n",
      "1 0.006087\n",
      "2 0.003332\n",
      "3 0.05217\n",
      "4 0.032744\n",
      "5 0.001597\n",
      "6 1.5e-05\n"
     ]
    },
    {
     "name": "stderr",
     "output_type": "stream",
     "text": [
      " 11%|█         | 56/499 [00:19<02:13,  3.31it/s]"
     ]
    },
    {
     "name": "stdout",
     "output_type": "stream",
     "text": [
      "7 0.159619\n",
      "8 0.007098\n",
      "hi1\n",
      "0 0.00121\n",
      "1 0.005344\n",
      "2 0.003103\n",
      "3 0.049242\n",
      "4 0.035258\n",
      "5 0.001894\n",
      "6 5e-06\n"
     ]
    },
    {
     "name": "stderr",
     "output_type": "stream",
     "text": [
      " 11%|█▏        | 57/499 [00:19<02:13,  3.31it/s]"
     ]
    },
    {
     "name": "stdout",
     "output_type": "stream",
     "text": [
      "7 0.164546\n",
      "8 0.008029\n",
      "hi1\n",
      "0 0.001198\n",
      "1 0.005621\n",
      "2 0.003048\n",
      "3 0.049445\n",
      "4 0.032976\n",
      "5 0.001519\n",
      "6 5e-06\n"
     ]
    },
    {
     "name": "stderr",
     "output_type": "stream",
     "text": [
      " 12%|█▏        | 58/499 [00:19<02:13,  3.31it/s]"
     ]
    },
    {
     "name": "stdout",
     "output_type": "stream",
     "text": [
      "7 0.161069\n",
      "8 0.008623\n",
      "hi1\n",
      "0 0.001183\n",
      "1 0.005173\n",
      "2 0.00272\n",
      "3 0.048826\n",
      "4 0.037759\n",
      "5 0.0016\n",
      "6 7e-06\n"
     ]
    },
    {
     "name": "stderr",
     "output_type": "stream",
     "text": [
      " 12%|█▏        | 59/499 [00:20<02:18,  3.17it/s]"
     ]
    },
    {
     "name": "stdout",
     "output_type": "stream",
     "text": [
      "7 0.201927\n",
      "8 0.007624\n",
      "hi1\n",
      "0 0.001283\n",
      "1 0.005549\n",
      "2 0.002693\n",
      "3 0.044513\n",
      "4 0.032502\n",
      "5 0.001686\n",
      "6 5e-06\n"
     ]
    },
    {
     "name": "stderr",
     "output_type": "stream",
     "text": [
      " 12%|█▏        | 60/499 [00:20<02:14,  3.25it/s]"
     ]
    },
    {
     "name": "stdout",
     "output_type": "stream",
     "text": [
      "7 0.154151\n",
      "8 0.011583\n",
      "hi1\n",
      "0 0.001128\n",
      "1 0.005594\n",
      "2 0.002819\n",
      "3 0.042678\n",
      "4 0.03727\n",
      "5 0.001381\n",
      "6 8e-06\n"
     ]
    },
    {
     "name": "stderr",
     "output_type": "stream",
     "text": [
      " 12%|█▏        | 61/499 [00:20<02:13,  3.29it/s]"
     ]
    },
    {
     "name": "stdout",
     "output_type": "stream",
     "text": [
      "7 0.153921\n",
      "8 0.009611\n",
      "hi1\n",
      "0 0.001215\n",
      "1 0.006882\n",
      "2 0.003791\n",
      "3 0.044512\n",
      "4 0.042351\n",
      "5 0.001313\n",
      "6 6e-06\n"
     ]
    },
    {
     "name": "stderr",
     "output_type": "stream",
     "text": [
      " 12%|█▏        | 62/499 [00:21<02:16,  3.21it/s]"
     ]
    },
    {
     "name": "stdout",
     "output_type": "stream",
     "text": [
      "7 0.185257\n",
      "8 0.00763\n",
      "hi1\n",
      "0 0.001178\n",
      "1 0.005367\n",
      "2 0.003236\n",
      "3 0.046837\n",
      "4 0.03361\n",
      "5 0.001408\n",
      "6 5e-06\n"
     ]
    },
    {
     "name": "stderr",
     "output_type": "stream",
     "text": [
      " 13%|█▎        | 63/499 [00:21<02:13,  3.27it/s]"
     ]
    },
    {
     "name": "stdout",
     "output_type": "stream",
     "text": [
      "7 0.156185\n",
      "8 0.010454\n",
      "hi1\n",
      "0 0.001306\n",
      "1 0.005905\n",
      "2 0.00423\n",
      "3 0.044815\n",
      "4 0.031778\n",
      "5 0.001753\n",
      "6 1.3e-05\n"
     ]
    },
    {
     "name": "stderr",
     "output_type": "stream",
     "text": [
      " 13%|█▎        | 64/499 [00:21<02:10,  3.34it/s]"
     ]
    },
    {
     "name": "stdout",
     "output_type": "stream",
     "text": [
      "7 0.153998\n",
      "8 0.008506\n",
      "hi1\n",
      "0 0.001187\n",
      "1 0.005444\n",
      "2 0.002893\n",
      "3 0.042249\n",
      "4 0.033548\n",
      "5 0.001518\n",
      "6 1.5e-05\n"
     ]
    },
    {
     "name": "stderr",
     "output_type": "stream",
     "text": [
      " 13%|█▎        | 65/499 [00:22<02:31,  2.87it/s]"
     ]
    },
    {
     "name": "stdout",
     "output_type": "stream",
     "text": [
      "7 0.328953\n",
      "8 0.008444\n",
      "hi1\n",
      "0 0.001213\n",
      "1 0.005623\n",
      "2 0.004304\n",
      "3 0.042443\n",
      "4 0.031805\n",
      "5 0.001892\n",
      "6 8e-06\n"
     ]
    },
    {
     "name": "stderr",
     "output_type": "stream",
     "text": [
      " 13%|█▎        | 66/499 [00:22<02:24,  3.00it/s]"
     ]
    },
    {
     "name": "stdout",
     "output_type": "stream",
     "text": [
      "7 0.163091\n",
      "8 0.007902\n",
      "hi1\n",
      "0 0.001199\n",
      "1 0.0059\n",
      "2 0.004302\n",
      "3 0.043938\n",
      "4 0.040155\n",
      "5 0.001983\n",
      "6 7e-06\n"
     ]
    },
    {
     "name": "stderr",
     "output_type": "stream",
     "text": [
      " 13%|█▎        | 67/499 [00:22<02:23,  3.02it/s]"
     ]
    },
    {
     "name": "stdout",
     "output_type": "stream",
     "text": [
      "7 0.18694\n",
      "8 0.007088\n",
      "hi1\n",
      "0 0.001221\n",
      "1 0.005355\n",
      "2 0.002779\n",
      "3 0.046394\n",
      "4 0.031781\n",
      "5 0.001511\n",
      "6 1.4e-05\n"
     ]
    },
    {
     "name": "stderr",
     "output_type": "stream",
     "text": [
      " 14%|█▎        | 68/499 [00:23<02:17,  3.14it/s]"
     ]
    },
    {
     "name": "stdout",
     "output_type": "stream",
     "text": [
      "7 0.157266\n",
      "8 0.008317\n",
      "hi1\n",
      "0 0.001243\n",
      "1 0.00531\n",
      "2 0.002904\n",
      "3 0.0408\n",
      "4 0.035086\n",
      "5 0.001459\n",
      "6 4e-06\n"
     ]
    },
    {
     "name": "stderr",
     "output_type": "stream",
     "text": [
      " 14%|█▍        | 69/499 [00:23<02:12,  3.24it/s]"
     ]
    },
    {
     "name": "stdout",
     "output_type": "stream",
     "text": [
      "7 0.149985\n",
      "8 0.012062\n",
      "hi1\n",
      "0 0.00119\n",
      "1 0.005425\n",
      "2 0.003849\n",
      "3 0.045245\n",
      "4 0.038211\n",
      "5 0.001568\n",
      "6 5e-06\n"
     ]
    },
    {
     "name": "stderr",
     "output_type": "stream",
     "text": [
      " 14%|█▍        | 70/499 [00:23<02:11,  3.26it/s]"
     ]
    },
    {
     "name": "stdout",
     "output_type": "stream",
     "text": [
      "7 0.157345\n",
      "8 0.013168\n",
      "hi1\n",
      "0 0.001357\n",
      "1 0.005155\n",
      "2 0.002868\n",
      "3 0.041056\n",
      "4 0.038695\n",
      "5 0.001792\n",
      "6 1.3e-05\n"
     ]
    },
    {
     "name": "stderr",
     "output_type": "stream",
     "text": [
      " 14%|█▍        | 71/499 [00:23<02:13,  3.20it/s]"
     ]
    },
    {
     "name": "stdout",
     "output_type": "stream",
     "text": [
      "7 0.186364\n",
      "8 0.008285\n",
      "hi1\n",
      "0 0.002385\n",
      "1 0.005766\n",
      "2 0.003535\n",
      "3 0.048343\n",
      "4 0.038796\n",
      "5 0.001629\n",
      "6 5e-06\n"
     ]
    },
    {
     "name": "stderr",
     "output_type": "stream",
     "text": [
      " 14%|█▍        | 72/499 [00:24<02:17,  3.10it/s]"
     ]
    },
    {
     "name": "stdout",
     "output_type": "stream",
     "text": [
      "7 0.192926\n",
      "8 0.008293\n",
      "hi1\n",
      "0 0.002512\n",
      "1 0.005697\n",
      "2 0.003119\n",
      "3 0.04125\n",
      "4 0.03137\n",
      "5 0.001457\n",
      "6 1.5e-05\n"
     ]
    },
    {
     "name": "stderr",
     "output_type": "stream",
     "text": [
      " 15%|█▍        | 73/499 [00:24<02:13,  3.20it/s]"
     ]
    },
    {
     "name": "stdout",
     "output_type": "stream",
     "text": [
      "7 0.154383\n",
      "8 0.008226\n",
      "hi1\n",
      "0 0.001236\n",
      "1 0.005538\n",
      "2 0.003075\n",
      "3 0.04654\n",
      "4 0.030454\n",
      "5 0.002113\n",
      "6 1e-05\n"
     ]
    },
    {
     "name": "stderr",
     "output_type": "stream",
     "text": [
      " 15%|█▍        | 74/499 [00:24<02:09,  3.28it/s]"
     ]
    },
    {
     "name": "stdout",
     "output_type": "stream",
     "text": [
      "7 0.15716\n",
      "8 0.008108\n",
      "hi1\n",
      "0 0.001174\n",
      "1 0.005133\n",
      "2 0.002898\n",
      "3 0.039798\n",
      "4 0.031742\n",
      "5 0.001915\n",
      "6 4e-06\n"
     ]
    },
    {
     "name": "stderr",
     "output_type": "stream",
     "text": [
      " 15%|█▌        | 75/499 [00:25<02:05,  3.38it/s]"
     ]
    },
    {
     "name": "stdout",
     "output_type": "stream",
     "text": [
      "7 0.148137\n",
      "8 0.008187\n",
      "hi1\n",
      "0 0.001184\n",
      "1 0.00524\n",
      "2 0.002633\n",
      "3 0.046816\n",
      "4 0.031894\n",
      "5 0.001339\n",
      "6 4e-06\n"
     ]
    },
    {
     "name": "stderr",
     "output_type": "stream",
     "text": [
      " 15%|█▌        | 76/499 [00:25<02:05,  3.37it/s]"
     ]
    },
    {
     "name": "stdout",
     "output_type": "stream",
     "text": [
      "7 0.167112\n",
      "8 0.007771\n",
      "hi1\n",
      "0 0.001119\n",
      "1 0.005687\n",
      "2 0.003394\n",
      "3 0.045116\n",
      "4 0.036601\n",
      "5 0.001745\n",
      "6 5e-06\n"
     ]
    },
    {
     "name": "stderr",
     "output_type": "stream",
     "text": [
      " 15%|█▌        | 77/499 [00:25<02:05,  3.38it/s]"
     ]
    },
    {
     "name": "stdout",
     "output_type": "stream",
     "text": [
      "7 0.156524\n",
      "8 0.011395\n",
      "hi1\n",
      "0 0.001159\n",
      "1 0.005249\n",
      "2 0.0026\n",
      "3 0.040389\n",
      "4 0.033039\n",
      "5 0.001563\n",
      "6 5e-06\n"
     ]
    },
    {
     "name": "stderr",
     "output_type": "stream",
     "text": [
      " 16%|█▌        | 78/499 [00:26<02:02,  3.44it/s]"
     ]
    },
    {
     "name": "stdout",
     "output_type": "stream",
     "text": [
      "7 0.147182\n",
      "8 0.011785\n",
      "hi1\n",
      "0 0.001184\n",
      "1 0.005563\n",
      "2 0.002691\n",
      "3 0.039671\n",
      "4 0.031819\n",
      "5 0.001618\n",
      "6 5e-06\n"
     ]
    },
    {
     "name": "stderr",
     "output_type": "stream",
     "text": [
      " 16%|█▌        | 79/499 [00:26<02:01,  3.45it/s]"
     ]
    },
    {
     "name": "stdout",
     "output_type": "stream",
     "text": [
      "7 0.154981\n",
      "8 0.012806\n",
      "hi1\n",
      "0 0.001096\n",
      "1 0.005733\n",
      "2 0.00429\n",
      "3 0.043159\n",
      "4 0.032197\n",
      "5 0.001473\n",
      "6 5e-06\n"
     ]
    },
    {
     "name": "stderr",
     "output_type": "stream",
     "text": [
      " 16%|█▌        | 80/499 [00:26<02:00,  3.48it/s]"
     ]
    },
    {
     "name": "stdout",
     "output_type": "stream",
     "text": [
      "7 0.148842\n",
      "8 0.009896\n",
      "hi1\n",
      "0 0.001095\n",
      "1 0.005746\n",
      "2 0.003936\n",
      "3 0.038875\n",
      "4 0.031413\n",
      "5 0.001548\n",
      "6 5e-06\n"
     ]
    },
    {
     "name": "stderr",
     "output_type": "stream",
     "text": [
      " 16%|█▌        | 81/499 [00:26<02:00,  3.47it/s]"
     ]
    },
    {
     "name": "stdout",
     "output_type": "stream",
     "text": [
      "7 0.149521\n",
      "8 0.011548\n",
      "hi1\n",
      "0 0.001189\n",
      "1 0.005789\n",
      "2 0.003184\n",
      "3 0.046165\n",
      "4 0.036425\n",
      "5 0.001667\n",
      "6 5e-06\n"
     ]
    },
    {
     "name": "stderr",
     "output_type": "stream",
     "text": [
      " 16%|█▋        | 82/499 [00:27<02:05,  3.33it/s]"
     ]
    },
    {
     "name": "stdout",
     "output_type": "stream",
     "text": [
      "7 0.185469\n",
      "8 0.00807\n",
      "hi1\n",
      "0 0.001197\n",
      "1 0.005871\n",
      "2 0.00302\n",
      "3 0.039851\n",
      "4 0.040176\n",
      "5 0.001775\n",
      "6 6e-06\n"
     ]
    },
    {
     "name": "stderr",
     "output_type": "stream",
     "text": [
      " 17%|█▋        | 83/499 [00:27<02:08,  3.25it/s]"
     ]
    },
    {
     "name": "stdout",
     "output_type": "stream",
     "text": [
      "7 0.18119\n",
      "8 0.007908\n",
      "hi1\n",
      "0 0.001207\n",
      "1 0.006116\n",
      "2 0.003306\n",
      "3 0.041666\n",
      "4 0.033258\n",
      "5 0.001357\n",
      "6 7e-06\n"
     ]
    },
    {
     "name": "stderr",
     "output_type": "stream",
     "text": [
      " 17%|█▋        | 84/499 [00:27<02:04,  3.33it/s]"
     ]
    },
    {
     "name": "stdout",
     "output_type": "stream",
     "text": [
      "7 0.146157\n",
      "8 0.00954\n",
      "hi1\n",
      "0 0.001174\n",
      "1 0.006022\n",
      "2 0.003054\n",
      "3 0.041409\n",
      "4 0.03711\n",
      "5 0.001652\n",
      "6 6e-06\n"
     ]
    },
    {
     "name": "stderr",
     "output_type": "stream",
     "text": [
      " 17%|█▋        | 85/499 [00:28<02:06,  3.27it/s]"
     ]
    },
    {
     "name": "stdout",
     "output_type": "stream",
     "text": [
      "7 0.180507\n",
      "8 0.007756\n",
      "hi1\n",
      "0 0.001217\n",
      "1 0.005868\n",
      "2 0.003035\n",
      "3 0.038975\n",
      "4 0.033776\n",
      "5 0.00156\n",
      "6 6e-06\n"
     ]
    },
    {
     "name": "stderr",
     "output_type": "stream",
     "text": [
      " 17%|█▋        | 86/499 [00:28<02:03,  3.34it/s]"
     ]
    },
    {
     "name": "stdout",
     "output_type": "stream",
     "text": [
      "7 0.149701\n",
      "8 0.009293\n",
      "hi1\n",
      "0 0.001236\n",
      "1 0.006186\n",
      "2 0.003883\n",
      "3 0.04683\n",
      "4 0.032556\n",
      "5 0.001356\n",
      "6 7e-06\n"
     ]
    },
    {
     "name": "stderr",
     "output_type": "stream",
     "text": [
      " 17%|█▋        | 87/499 [00:28<02:01,  3.39it/s]"
     ]
    },
    {
     "name": "stdout",
     "output_type": "stream",
     "text": [
      "7 0.147031\n",
      "8 0.010359\n",
      "hi1\n",
      "0 0.001272\n",
      "1 0.005794\n",
      "2 0.004463\n",
      "3 0.040693\n",
      "4 0.034162\n",
      "5 0.001518\n",
      "6 5e-06\n"
     ]
    },
    {
     "name": "stderr",
     "output_type": "stream",
     "text": [
      " 18%|█▊        | 88/499 [00:28<02:00,  3.42it/s]"
     ]
    },
    {
     "name": "stdout",
     "output_type": "stream",
     "text": [
      "7 0.149573\n",
      "8 0.010907\n",
      "hi1\n",
      "0 0.001062\n",
      "1 0.005595\n",
      "2 0.002878\n",
      "3 0.038963\n",
      "4 0.040905\n",
      "5 0.001574\n",
      "6 4e-06\n"
     ]
    },
    {
     "name": "stderr",
     "output_type": "stream",
     "text": [
      " 18%|█▊        | 89/499 [00:29<01:58,  3.46it/s]"
     ]
    },
    {
     "name": "stdout",
     "output_type": "stream",
     "text": [
      "7 0.145971\n",
      "8 0.009975\n",
      "hi1\n",
      "0 0.00119\n",
      "1 0.005585\n",
      "2 0.002604\n",
      "3 0.038904\n",
      "4 0.03431\n",
      "5 0.001431\n",
      "6 4e-06\n"
     ]
    },
    {
     "name": "stderr",
     "output_type": "stream",
     "text": [
      " 18%|█▊        | 90/499 [00:29<01:56,  3.50it/s]"
     ]
    },
    {
     "name": "stdout",
     "output_type": "stream",
     "text": [
      "7 0.145509\n",
      "8 0.007626\n",
      "hi1\n",
      "0 0.00121\n",
      "1 0.006143\n",
      "2 0.003956\n",
      "3 0.044373\n",
      "4 0.036576\n",
      "5 0.002136\n",
      "6 6e-06\n"
     ]
    },
    {
     "name": "stderr",
     "output_type": "stream",
     "text": [
      " 18%|█▊        | 91/499 [00:29<02:01,  3.37it/s]"
     ]
    },
    {
     "name": "stdout",
     "output_type": "stream",
     "text": [
      "7 0.18402\n",
      "8 0.007136\n",
      "hi1\n",
      "0 0.00118\n",
      "1 0.005726\n",
      "2 0.002843\n",
      "3 0.039865\n",
      "4 0.031462\n",
      "5 0.001767\n",
      "6 9e-06\n"
     ]
    },
    {
     "name": "stderr",
     "output_type": "stream",
     "text": [
      " 18%|█▊        | 92/499 [00:30<01:58,  3.42it/s]"
     ]
    },
    {
     "name": "stdout",
     "output_type": "stream",
     "text": [
      "7 0.146917\n",
      "8 0.007915\n",
      "hi1\n",
      "0 0.00128\n",
      "1 0.005985\n",
      "2 0.002889\n",
      "3 0.048355\n",
      "4 0.052513\n",
      "5 0.002761\n",
      "6 1.4e-05\n"
     ]
    },
    {
     "name": "stderr",
     "output_type": "stream",
     "text": [
      " 19%|█▊        | 93/499 [00:30<02:13,  3.05it/s]"
     ]
    },
    {
     "name": "stdout",
     "output_type": "stream",
     "text": [
      "7 0.254913\n",
      "8 0.007539\n",
      "hi1\n",
      "0 0.001155\n",
      "1 0.005313\n",
      "2 0.002677\n",
      "3 0.043997\n",
      "4 0.030166\n",
      "5 0.001539\n",
      "6 1.2e-05\n"
     ]
    },
    {
     "name": "stderr",
     "output_type": "stream",
     "text": [
      " 19%|█▉        | 94/499 [00:30<02:06,  3.20it/s]"
     ]
    },
    {
     "name": "stdout",
     "output_type": "stream",
     "text": [
      "7 0.145863\n",
      "8 0.007866\n",
      "hi1\n",
      "0 0.001145\n",
      "1 0.005728\n",
      "2 0.003803\n",
      "3 0.043432\n",
      "4 0.053642\n",
      "5 0.003858\n",
      "6 9e-06\n"
     ]
    },
    {
     "name": "stderr",
     "output_type": "stream",
     "text": [
      " 19%|█▉        | 95/499 [00:31<02:27,  2.73it/s]"
     ]
    },
    {
     "name": "stdout",
     "output_type": "stream",
     "text": [
      "7 0.332882\n",
      "8 0.007607\n",
      "hi1\n",
      "0 0.001256\n",
      "1 0.005502\n",
      "2 0.003811\n",
      "3 0.037141\n",
      "4 0.033662\n",
      "5 0.001471\n",
      "6 6e-06\n"
     ]
    },
    {
     "name": "stderr",
     "output_type": "stream",
     "text": [
      " 19%|█▉        | 96/499 [00:31<02:17,  2.94it/s]"
     ]
    },
    {
     "name": "stdout",
     "output_type": "stream",
     "text": [
      "7 0.147087\n",
      "8 0.009992\n",
      "hi1\n",
      "0 0.001212\n",
      "1 0.005819\n",
      "2 0.002847\n",
      "3 0.037533\n",
      "4 0.038532\n",
      "5 0.001976\n",
      "6 6e-06\n"
     ]
    },
    {
     "name": "stderr",
     "output_type": "stream",
     "text": [
      " 19%|█▉        | 97/499 [00:31<02:10,  3.08it/s]"
     ]
    },
    {
     "name": "stdout",
     "output_type": "stream",
     "text": [
      "7 0.150346\n",
      "8 0.008201\n",
      "hi1\n",
      "0 0.001154\n",
      "1 0.005794\n",
      "2 0.002983\n",
      "3 0.03984\n",
      "4 0.034908\n",
      "5 0.001687\n",
      "6 7e-06\n"
     ]
    },
    {
     "name": "stderr",
     "output_type": "stream",
     "text": [
      " 20%|█▉        | 98/499 [00:32<02:27,  2.72it/s]"
     ]
    },
    {
     "name": "stdout",
     "output_type": "stream",
     "text": [
      "7 0.280509\n",
      "8 0.025057\n",
      "hi1\n",
      "0 0.002928\n",
      "1 0.011122\n",
      "2 0.005876\n",
      "3 0.085456\n",
      "4 0.053725\n",
      "5 0.002461\n",
      "6 3.1e-05\n"
     ]
    },
    {
     "name": "stderr",
     "output_type": "stream",
     "text": [
      " 20%|█▉        | 99/499 [00:32<02:34,  2.58it/s]"
     ]
    },
    {
     "name": "stdout",
     "output_type": "stream",
     "text": [
      "7 0.184129\n",
      "8 0.016625\n",
      "hi1\n",
      "0 0.002172\n",
      "1 0.010768\n",
      "2 0.010361\n",
      "3 0.084784\n",
      "4 0.05811\n",
      "5 0.001923\n",
      "6 2.2e-05\n",
      "7 0.164734\n",
      "8 0.007317\n"
     ]
    },
    {
     "name": "stderr",
     "output_type": "stream",
     "text": [
      " 20%|██        | 100/499 [00:33<02:33,  2.60it/s]"
     ]
    },
    {
     "name": "stdout",
     "output_type": "stream",
     "text": [
      "hi1\n",
      "0 0.001441\n",
      "1 0.007013\n",
      "2 0.003846\n",
      "3 0.03836\n",
      "4 0.038888\n",
      "5 0.002676\n",
      "6 3.3e-05\n"
     ]
    },
    {
     "name": "stderr",
     "output_type": "stream",
     "text": [
      " 20%|██        | 101/499 [00:33<02:22,  2.79it/s]"
     ]
    },
    {
     "name": "stdout",
     "output_type": "stream",
     "text": [
      "7 0.162031\n",
      "8 0.00724\n",
      "hi1\n",
      "0 0.001358\n",
      "1 0.005994\n",
      "2 0.004496\n",
      "3 0.038629\n",
      "4 0.05418\n",
      "5 0.003356\n",
      "6 1.1e-05\n"
     ]
    },
    {
     "name": "stderr",
     "output_type": "stream",
     "text": [
      " 20%|██        | 102/499 [00:34<02:49,  2.34it/s]"
     ]
    },
    {
     "name": "stdout",
     "output_type": "stream",
     "text": [
      "7 0.408323\n",
      "8 0.014649\n",
      "hi1\n",
      "0 0.001621\n",
      "1 0.005802\n",
      "2 0.004132\n",
      "3 0.038374\n",
      "4 0.032616\n",
      "5 0.00137\n",
      "6 6e-06\n"
     ]
    },
    {
     "name": "stderr",
     "output_type": "stream",
     "text": [
      " 21%|██        | 103/499 [00:34<02:31,  2.62it/s]"
     ]
    },
    {
     "name": "stdout",
     "output_type": "stream",
     "text": [
      "7 0.140609\n",
      "8 0.013008\n",
      "hi1\n",
      "0 0.001248\n",
      "1 0.005391\n",
      "2 0.00318\n",
      "3 0.043663\n",
      "4 0.040622\n",
      "5 0.001734\n",
      "6 6e-06\n"
     ]
    },
    {
     "name": "stderr",
     "output_type": "stream",
     "text": [
      " 21%|██        | 104/499 [00:34<02:40,  2.46it/s]"
     ]
    },
    {
     "name": "stdout",
     "output_type": "stream",
     "text": [
      "7 0.32362\n",
      "8 0.007878\n",
      "hi1\n",
      "0 0.0012\n",
      "1 0.005809\n",
      "2 0.002863\n",
      "3 0.037017\n",
      "4 0.033169\n",
      "5 0.001182\n",
      "6 8e-06\n"
     ]
    },
    {
     "name": "stderr",
     "output_type": "stream",
     "text": [
      " 21%|██        | 105/499 [00:35<02:24,  2.73it/s]"
     ]
    },
    {
     "name": "stdout",
     "output_type": "stream",
     "text": [
      "7 0.149832\n",
      "8 0.007822\n",
      "hi1\n",
      "0 0.001097\n",
      "1 0.005362\n",
      "2 0.003189\n",
      "3 0.04157\n",
      "4 0.026627\n",
      "5 0.003264\n",
      "6 6e-06\n"
     ]
    },
    {
     "name": "stderr",
     "output_type": "stream",
     "text": [
      " 21%|██        | 106/499 [00:35<02:31,  2.59it/s]"
     ]
    },
    {
     "name": "stdout",
     "output_type": "stream",
     "text": [
      "7 0.269723\n",
      "8 0.010793\n",
      "hi1\n",
      "0 0.006778\n",
      "1 0.009786\n",
      "2 0.006247\n",
      "3 0.047557\n",
      "4 0.029614\n",
      "5 0.001116\n",
      "6 5e-06\n"
     ]
    },
    {
     "name": "stderr",
     "output_type": "stream",
     "text": [
      " 21%|██▏       | 107/499 [00:35<02:20,  2.78it/s]"
     ]
    },
    {
     "name": "stdout",
     "output_type": "stream",
     "text": [
      "7 0.148067\n",
      "8 0.007636\n",
      "hi1\n",
      "0 0.001141\n",
      "1 0.005668\n",
      "2 0.004129\n",
      "3 0.042848\n",
      "4 0.030118\n",
      "5 0.00111\n",
      "6 5e-06\n"
     ]
    },
    {
     "name": "stderr",
     "output_type": "stream",
     "text": [
      " 22%|██▏       | 108/499 [00:36<02:19,  2.80it/s]"
     ]
    },
    {
     "name": "stdout",
     "output_type": "stream",
     "text": [
      "7 0.164112\n",
      "8 0.017162\n",
      "hi1\n",
      "0 0.001709\n",
      "1 0.010333\n",
      "2 0.009344\n",
      "3 0.095756\n",
      "4 0.047481\n",
      "5 0.001873\n",
      "6 1e-05\n"
     ]
    },
    {
     "name": "stderr",
     "output_type": "stream",
     "text": [
      " 22%|██▏       | 109/499 [00:36<02:34,  2.53it/s]"
     ]
    },
    {
     "name": "stdout",
     "output_type": "stream",
     "text": [
      "7 0.265211\n",
      "8 0.009263\n",
      "hi1\n",
      "0 0.001128\n",
      "1 0.00629\n",
      "2 0.004892\n",
      "3 0.039145\n",
      "4 0.031285\n",
      "5 0.001097\n",
      "6 6e-06\n"
     ]
    },
    {
     "name": "stderr",
     "output_type": "stream",
     "text": [
      " 22%|██▏       | 110/499 [00:36<02:19,  2.79it/s]"
     ]
    },
    {
     "name": "stdout",
     "output_type": "stream",
     "text": [
      "7 0.135385\n",
      "8 0.010531\n",
      "hi1\n",
      "0 0.00123\n",
      "1 0.006005\n",
      "2 0.004236\n",
      "3 0.036117\n",
      "4 0.037951\n",
      "5 0.001338\n",
      "6 7e-06\n"
     ]
    },
    {
     "name": "stderr",
     "output_type": "stream",
     "text": [
      " 22%|██▏       | 111/499 [00:37<02:08,  3.01it/s]"
     ]
    },
    {
     "name": "stdout",
     "output_type": "stream",
     "text": [
      "7 0.142736\n",
      "8 0.006393\n",
      "hi1\n",
      "0 0.001071\n",
      "1 0.005424\n",
      "2 0.003037\n",
      "3 0.040611\n",
      "4 0.029392\n",
      "5 0.001115\n",
      "6 5e-06\n"
     ]
    },
    {
     "name": "stderr",
     "output_type": "stream",
     "text": [
      " 22%|██▏       | 112/499 [00:37<02:02,  3.16it/s]"
     ]
    },
    {
     "name": "stdout",
     "output_type": "stream",
     "text": [
      "7 0.159612\n",
      "8 0.008005\n",
      "hi1\n",
      "0 0.001137\n",
      "1 0.005575\n",
      "2 0.002842\n",
      "3 0.035146\n",
      "4 0.030344\n",
      "5 0.001515\n",
      "6 6e-06\n"
     ]
    },
    {
     "name": "stderr",
     "output_type": "stream",
     "text": [
      " 23%|██▎       | 113/499 [00:37<01:58,  3.26it/s]"
     ]
    },
    {
     "name": "stdout",
     "output_type": "stream",
     "text": [
      "7 0.169257\n",
      "8 0.007577\n",
      "hi1\n",
      "0 0.001239\n",
      "1 0.005605\n",
      "2 0.003937\n",
      "3 0.041511\n",
      "4 0.028697\n",
      "5 0.001371\n",
      "6 5e-06\n"
     ]
    },
    {
     "name": "stderr",
     "output_type": "stream",
     "text": [
      " 23%|██▎       | 114/499 [00:38<01:51,  3.44it/s]"
     ]
    },
    {
     "name": "stdout",
     "output_type": "stream",
     "text": [
      "7 0.128143\n",
      "8 0.00688\n",
      "hi1\n",
      "0 0.001273\n",
      "1 0.005587\n",
      "2 0.003929\n",
      "3 0.034241\n",
      "4 0.031427\n",
      "5 0.001385\n",
      "6 6e-06\n"
     ]
    },
    {
     "name": "stderr",
     "output_type": "stream",
     "text": [
      " 23%|██▎       | 115/499 [00:38<01:47,  3.56it/s]"
     ]
    },
    {
     "name": "stdout",
     "output_type": "stream",
     "text": [
      "7 0.14304\n",
      "8 0.007286\n",
      "hi1\n",
      "0 0.001123\n",
      "1 0.005508\n",
      "2 0.002716\n",
      "3 0.038901\n",
      "4 0.031136\n",
      "5 0.001513\n",
      "6 6e-06\n"
     ]
    },
    {
     "name": "stderr",
     "output_type": "stream",
     "text": [
      " 23%|██▎       | 116/499 [00:38<01:49,  3.51it/s]"
     ]
    },
    {
     "name": "stdout",
     "output_type": "stream",
     "text": [
      "7 0.160255\n",
      "8 0.011786\n",
      "hi1\n",
      "0 0.001196\n",
      "1 0.005771\n",
      "2 0.003086\n",
      "3 0.040327\n",
      "4 0.02776\n",
      "5 0.001081\n",
      "6 5e-06\n"
     ]
    },
    {
     "name": "stderr",
     "output_type": "stream",
     "text": [
      " 23%|██▎       | 117/499 [00:39<02:08,  2.98it/s]"
     ]
    },
    {
     "name": "stdout",
     "output_type": "stream",
     "text": [
      "7 0.326157\n",
      "8 0.007862\n",
      "hi1\n",
      "0 0.001275\n",
      "1 0.006256\n",
      "2 0.00308\n",
      "3 0.035922\n",
      "4 0.036485\n",
      "5 0.001675\n",
      "6 7e-06\n"
     ]
    },
    {
     "name": "stderr",
     "output_type": "stream",
     "text": [
      " 24%|██▎       | 118/499 [00:39<02:03,  3.08it/s]"
     ]
    },
    {
     "name": "stdout",
     "output_type": "stream",
     "text": [
      "7 0.16324\n",
      "8 0.011734\n",
      "hi1\n",
      "0 0.001281\n",
      "1 0.005681\n",
      "2 0.003131\n",
      "3 0.034751\n",
      "4 0.03707\n",
      "5 0.001257\n",
      "6 7e-06\n"
     ]
    },
    {
     "name": "stderr",
     "output_type": "stream",
     "text": [
      " 24%|██▍       | 119/499 [00:39<01:59,  3.17it/s]"
     ]
    },
    {
     "name": "stdout",
     "output_type": "stream",
     "text": [
      "7 0.169741\n",
      "8 0.00664\n",
      "hi1\n",
      "0 0.003097\n",
      "1 0.005578\n",
      "2 0.002991\n",
      "3 0.039231\n",
      "4 0.026887\n",
      "5 0.001093\n",
      "6 5e-06\n"
     ]
    },
    {
     "name": "stderr",
     "output_type": "stream",
     "text": [
      " 24%|██▍       | 120/499 [00:39<01:51,  3.40it/s]"
     ]
    },
    {
     "name": "stdout",
     "output_type": "stream",
     "text": [
      "7 0.122539\n",
      "8 0.006897\n",
      "hi1\n",
      "0 0.001429\n",
      "1 0.006809\n",
      "2 0.003857\n",
      "3 0.034687\n",
      "4 0.029986\n",
      "5 0.001144\n",
      "6 4e-06\n"
     ]
    },
    {
     "name": "stderr",
     "output_type": "stream",
     "text": [
      " 24%|██▍       | 121/499 [00:40<01:45,  3.58it/s]"
     ]
    },
    {
     "name": "stdout",
     "output_type": "stream",
     "text": [
      "7 0.125563\n",
      "8 0.007505\n",
      "hi1\n",
      "0 0.001207\n",
      "1 0.00545\n",
      "2 0.003916\n",
      "3 0.040242\n",
      "4 0.026817\n",
      "5 0.001066\n",
      "6 1.2e-05\n"
     ]
    },
    {
     "name": "stderr",
     "output_type": "stream",
     "text": [
      " 24%|██▍       | 122/499 [00:40<01:42,  3.66it/s]"
     ]
    },
    {
     "name": "stdout",
     "output_type": "stream",
     "text": [
      "7 0.128167\n",
      "8 0.007871\n",
      "hi1\n",
      "0 0.001219\n",
      "1 0.00561\n",
      "2 0.002849\n",
      "3 0.039743\n",
      "4 0.033124\n",
      "5 0.001681\n",
      "6 6e-06\n"
     ]
    },
    {
     "name": "stderr",
     "output_type": "stream",
     "text": [
      " 25%|██▍       | 123/499 [00:40<01:41,  3.70it/s]"
     ]
    },
    {
     "name": "stdout",
     "output_type": "stream",
     "text": [
      "7 0.137014\n",
      "8 0.009449\n",
      "hi1\n",
      "0 0.001218\n",
      "1 0.00559\n",
      "2 0.002684\n",
      "3 0.031396\n",
      "4 0.030163\n",
      "5 0.001238\n",
      "6 7e-06\n"
     ]
    },
    {
     "name": "stderr",
     "output_type": "stream",
     "text": [
      " 25%|██▍       | 124/499 [00:40<01:38,  3.80it/s]"
     ]
    },
    {
     "name": "stdout",
     "output_type": "stream",
     "text": [
      "7 0.127729\n",
      "8 0.006975\n",
      "hi1\n",
      "0 0.001104\n",
      "1 0.005343\n",
      "2 0.002594\n",
      "3 0.037157\n",
      "4 0.02829\n",
      "5 0.001078\n",
      "6 1.4e-05\n"
     ]
    },
    {
     "name": "stderr",
     "output_type": "stream",
     "text": [
      " 25%|██▌       | 125/499 [00:41<01:35,  3.90it/s]"
     ]
    },
    {
     "name": "stdout",
     "output_type": "stream",
     "text": [
      "7 0.122432\n",
      "8 0.005801\n",
      "hi1\n",
      "0 0.001214\n",
      "1 0.006413\n",
      "2 0.004016\n",
      "3 0.034106\n",
      "4 0.031349\n",
      "5 0.001825\n",
      "6 7e-06\n"
     ]
    },
    {
     "name": "stderr",
     "output_type": "stream",
     "text": [
      " 25%|██▌       | 126/499 [00:41<01:38,  3.78it/s]"
     ]
    },
    {
     "name": "stdout",
     "output_type": "stream",
     "text": [
      "7 0.153448\n",
      "8 0.008048\n",
      "hi1\n",
      "0 0.001218\n",
      "1 0.005994\n",
      "2 0.002966\n",
      "3 0.035339\n",
      "4 0.030101\n",
      "5 0.001501\n",
      "6 9e-06\n"
     ]
    },
    {
     "name": "stderr",
     "output_type": "stream",
     "text": [
      " 25%|██▌       | 127/499 [00:41<01:36,  3.86it/s]"
     ]
    },
    {
     "name": "stdout",
     "output_type": "stream",
     "text": [
      "7 0.128804\n",
      "8 0.006552\n",
      "hi1\n",
      "0 0.001239\n",
      "1 0.005269\n",
      "2 0.003142\n",
      "3 0.031471\n",
      "4 0.02838\n",
      "5 0.001333\n",
      "6 1.8e-05\n"
     ]
    },
    {
     "name": "stderr",
     "output_type": "stream",
     "text": [
      " 26%|██▌       | 128/499 [00:41<01:34,  3.93it/s]"
     ]
    },
    {
     "name": "stdout",
     "output_type": "stream",
     "text": [
      "7 0.124008\n",
      "8 0.007116\n",
      "hi1\n",
      "0 0.001215\n",
      "1 0.00627\n",
      "2 0.004174\n",
      "3 0.034569\n",
      "4 0.032735\n",
      "5 0.001109\n",
      "6 6e-06\n"
     ]
    },
    {
     "name": "stderr",
     "output_type": "stream",
     "text": [
      " 26%|██▌       | 129/499 [00:42<01:33,  3.95it/s]"
     ]
    },
    {
     "name": "stdout",
     "output_type": "stream",
     "text": [
      "7 0.126714\n",
      "8 0.007917\n",
      "hi1\n",
      "0 0.001331\n",
      "1 0.005611\n",
      "2 0.002495\n",
      "3 0.037022\n",
      "4 0.028044\n",
      "5 0.001116\n",
      "6 5e-06\n"
     ]
    },
    {
     "name": "stderr",
     "output_type": "stream",
     "text": [
      " 26%|██▌       | 130/499 [00:42<01:31,  4.01it/s]"
     ]
    },
    {
     "name": "stdout",
     "output_type": "stream",
     "text": [
      "7 0.12168\n",
      "8 0.006703\n",
      "hi1\n",
      "0 0.001242\n",
      "1 0.005699\n",
      "2 0.003701\n",
      "3 0.033488\n",
      "4 0.030942\n",
      "5 0.001369\n",
      "6 6e-06\n"
     ]
    },
    {
     "name": "stderr",
     "output_type": "stream",
     "text": [
      " 26%|██▋       | 131/499 [00:42<01:41,  3.63it/s]"
     ]
    },
    {
     "name": "stdout",
     "output_type": "stream",
     "text": [
      "7 0.186485\n",
      "8 0.013873\n",
      "hi1\n",
      "0 0.00198\n",
      "1 0.009071\n",
      "2 0.00809\n",
      "3 0.06585\n",
      "4 0.054597\n",
      "5 0.003417\n",
      "6 3.2e-05\n"
     ]
    },
    {
     "name": "stderr",
     "output_type": "stream",
     "text": [
      " 26%|██▋       | 132/499 [00:43<02:00,  3.05it/s]"
     ]
    },
    {
     "name": "stdout",
     "output_type": "stream",
     "text": [
      "7 0.256484\n",
      "8 0.007183\n",
      "hi1\n",
      "0 0.001299\n",
      "1 0.005918\n",
      "2 0.003908\n",
      "3 0.035976\n",
      "4 0.028785\n",
      "5 0.002149\n",
      "6 8e-06\n"
     ]
    },
    {
     "name": "stderr",
     "output_type": "stream",
     "text": [
      " 27%|██▋       | 133/499 [00:43<01:53,  3.22it/s]"
     ]
    },
    {
     "name": "stdout",
     "output_type": "stream",
     "text": [
      "7 0.132076\n",
      "8 0.009609\n",
      "hi1\n",
      "0 0.001772\n",
      "1 0.016353\n",
      "2 0.00911\n",
      "3 0.051787\n",
      "4 0.050021\n",
      "5 0.005688\n",
      "6 6e-05\n"
     ]
    },
    {
     "name": "stderr",
     "output_type": "stream",
     "text": [
      " 27%|██▋       | 134/499 [00:43<02:06,  2.88it/s]"
     ]
    },
    {
     "name": "stdout",
     "output_type": "stream",
     "text": [
      "7 0.239273\n",
      "8 0.007073\n",
      "hi1\n",
      "0 0.001206\n",
      "1 0.006422\n",
      "2 0.002945\n",
      "3 0.031324\n",
      "4 0.037811\n",
      "5 0.002996\n",
      "6 6e-06\n"
     ]
    },
    {
     "name": "stderr",
     "output_type": "stream",
     "text": [
      " 27%|██▋       | 135/499 [00:44<02:10,  2.79it/s]"
     ]
    },
    {
     "name": "stdout",
     "output_type": "stream",
     "text": [
      "7 0.208516\n",
      "8 0.021642\n",
      "hi1\n",
      "0 0.002438\n",
      "1 0.010176\n",
      "2 0.007781\n",
      "3 0.045026\n",
      "4"
     ]
    },
    {
     "name": "stderr",
     "output_type": "stream",
     "text": [
      " 27%|██▋       | 136/499 [00:44<02:03,  2.94it/s]"
     ]
    },
    {
     "name": "stdout",
     "output_type": "stream",
     "text": [
      " 0.040566\n",
      "5 0.001291\n",
      "6 2.2e-05\n",
      "7 0.143259\n",
      "8 0.009715\n",
      "hi1\n",
      "0 0.001217\n",
      "1 0.005487\n",
      "2 0.003086\n",
      "3 0.031699\n",
      "4 0.027859\n",
      "5 0.001325\n",
      "6 1.6e-05\n"
     ]
    },
    {
     "name": "stderr",
     "output_type": "stream",
     "text": [
      " 27%|██▋       | 137/499 [00:44<02:14,  2.69it/s]"
     ]
    },
    {
     "name": "stdout",
     "output_type": "stream",
     "text": [
      "7 0.28036\n",
      "8 0.016346\n",
      "hi1\n",
      "0 0.001563\n",
      "1 0.006658\n",
      "2 0.00528\n",
      "3 0.030659\n",
      "4 0.03303\n",
      "5 0.001675\n",
      "6 6e-06\n"
     ]
    },
    {
     "name": "stderr",
     "output_type": "stream",
     "text": [
      " 28%|██▊       | 138/499 [00:45<02:01,  2.97it/s]"
     ]
    },
    {
     "name": "stdout",
     "output_type": "stream",
     "text": [
      "7 0.131992\n",
      "8 0.006823\n",
      "hi1\n",
      "0 0.001155\n",
      "1 0.005649\n",
      "2 0.003142\n",
      "3 0.040267\n",
      "4 0.041136\n",
      "5 0.002938\n",
      "6 9e-06\n"
     ]
    },
    {
     "name": "stderr",
     "output_type": "stream",
     "text": [
      " 28%|██▊       | 139/499 [00:45<02:05,  2.87it/s]"
     ]
    },
    {
     "name": "stdout",
     "output_type": "stream",
     "text": [
      "7 0.24279\n",
      "8 0.007283\n",
      "hi1\n",
      "0 0.001216\n",
      "1 0.005605\n",
      "2 0.002756\n",
      "3 0.031006\n",
      "4 0.028595\n",
      "5 0.001549\n",
      "6 6e-06\n"
     ]
    },
    {
     "name": "stderr",
     "output_type": "stream",
     "text": [
      " 28%|██▊       | 140/499 [00:45<01:53,  3.16it/s]"
     ]
    },
    {
     "name": "stdout",
     "output_type": "stream",
     "text": [
      "7 0.125772\n",
      "8 0.006731\n",
      "hi1\n",
      "0 0.001154\n",
      "1 0.008086\n",
      "2 0.002768\n",
      "3 0.037007\n",
      "4 0.031691\n",
      "5 0.001285\n",
      "6 5e-06\n"
     ]
    },
    {
     "name": "stderr",
     "output_type": "stream",
     "text": [
      " 28%|██▊       | 141/499 [00:46<01:47,  3.34it/s]"
     ]
    },
    {
     "name": "stdout",
     "output_type": "stream",
     "text": [
      "7 0.127304\n",
      "8 0.006995\n",
      "hi1\n",
      "0 0.00118\n",
      "1 0.005525\n",
      "2 0.003289\n",
      "3 0.031484\n",
      "4 0.035609\n",
      "5 0.001656\n",
      "6 6e-06\n"
     ]
    },
    {
     "name": "stderr",
     "output_type": "stream",
     "text": [
      " 28%|██▊       | 142/499 [00:46<01:55,  3.10it/s]"
     ]
    },
    {
     "name": "stdout",
     "output_type": "stream",
     "text": [
      "7 0.201551\n",
      "8 0.018389\n",
      "hi1\n",
      "0 0.002463\n",
      "1 0.00802\n",
      "2 0.005251\n",
      "3 0.032727\n",
      "4 0.036108\n",
      "5 0.001275\n",
      "6 6e-06\n"
     ]
    },
    {
     "name": "stderr",
     "output_type": "stream",
     "text": [
      " 29%|██▊       | 143/499 [00:46<01:48,  3.27it/s]"
     ]
    },
    {
     "name": "stdout",
     "output_type": "stream",
     "text": [
      "7 0.131681\n",
      "8 0.006782\n",
      "hi1\n",
      "0 0.001154\n",
      "1 0.005305\n",
      "2 0.003666\n",
      "3 0.03648\n",
      "4 0.02683\n",
      "5 0.001103\n",
      "6 5e-06\n"
     ]
    },
    {
     "name": "stderr",
     "output_type": "stream",
     "text": [
      " 29%|██▉       | 144/499 [00:47<01:56,  3.04it/s]"
     ]
    },
    {
     "name": "stdout",
     "output_type": "stream",
     "text": [
      "7 0.197292\n",
      "8 0.02974\n",
      "hi1\n",
      "0 0.004188\n",
      "1 0.010544\n",
      "2 0.00665\n",
      "3 0.068026\n",
      "4 0.037902\n",
      "5 0.005505\n",
      "6 4.2e-05\n"
     ]
    },
    {
     "name": "stderr",
     "output_type": "stream",
     "text": [
      " 29%|██▉       | 145/499 [00:47<02:00,  2.93it/s]"
     ]
    },
    {
     "name": "stdout",
     "output_type": "stream",
     "text": [
      "7 0.188796\n",
      "8 0.006853\n",
      "hi1\n",
      "0 0.001219\n",
      "1 0.005529\n",
      "2 0.003708\n",
      "3 0.028749\n",
      "4 0.031104\n",
      "5 0.00142\n",
      "6 5e-06\n"
     ]
    },
    {
     "name": "stderr",
     "output_type": "stream",
     "text": [
      " 29%|██▉       | 146/499 [00:47<01:50,  3.21it/s]"
     ]
    },
    {
     "name": "stdout",
     "output_type": "stream",
     "text": [
      "7 0.125045\n",
      "8 0.008557\n",
      "hi1\n",
      "0 0.001134\n",
      "1 0.005504\n",
      "2 0.00442\n",
      "3 0.043575\n",
      "4 0.039681\n",
      "5 0.002077\n",
      "6 5.9e-05\n"
     ]
    },
    {
     "name": "stderr",
     "output_type": "stream",
     "text": [
      " 29%|██▉       | 147/499 [00:48<02:04,  2.84it/s]"
     ]
    },
    {
     "name": "stdout",
     "output_type": "stream",
     "text": [
      "7 0.302647\n",
      "8 0.008963\n",
      "hi1\n",
      "0 0.001205\n",
      "1 0.005776\n",
      "2 0.003853\n",
      "3 0.035018\n",
      "4 0.025698\n",
      "5 0.001202\n",
      "6 8e-06\n"
     ]
    },
    {
     "name": "stderr",
     "output_type": "stream",
     "text": [
      " 30%|██▉       | 148/499 [00:48<01:51,  3.15it/s]"
     ]
    },
    {
     "name": "stdout",
     "output_type": "stream",
     "text": [
      "7 0.119392\n",
      "8 0.00651\n",
      "hi1\n",
      "0 0.001237\n",
      "1 0.005728\n",
      "2 0.002616\n",
      "3 0.032107\n",
      "4 0.034599\n",
      "5 0.001504\n",
      "6 6e-06\n"
     ]
    },
    {
     "name": "stderr",
     "output_type": "stream",
     "text": [
      " 30%|██▉       | 149/499 [00:48<01:57,  2.98it/s]"
     ]
    },
    {
     "name": "stdout",
     "output_type": "stream",
     "text": [
      "7 0.220078\n",
      "8 0.022742\n",
      "hi1\n",
      "0 0.001303\n",
      "1 0.006658\n",
      "2 0.004919\n",
      "3 0.032252\n",
      "4 0.034262\n",
      "5 0.001616\n",
      "6 1.9e-05\n"
     ]
    },
    {
     "name": "stderr",
     "output_type": "stream",
     "text": [
      " 30%|███       | 150/499 [00:49<01:51,  3.13it/s]"
     ]
    },
    {
     "name": "stdout",
     "output_type": "stream",
     "text": [
      "7 0.152612\n",
      "8 0.008493\n",
      "hi1\n",
      "0 0.00125\n",
      "1 0.005544\n",
      "2 0.003899\n",
      "3 0.030671\n",
      "4 0.033606\n",
      "5 0.001779\n",
      "6 8e-06\n"
     ]
    },
    {
     "name": "stderr",
     "output_type": "stream",
     "text": [
      " 30%|███       | 151/499 [00:49<01:45,  3.29it/s]"
     ]
    },
    {
     "name": "stdout",
     "output_type": "stream",
     "text": [
      "7 0.146372\n",
      "8 0.008487\n",
      "hi1\n",
      "0 0.001109\n",
      "1 0.005726\n",
      "2 0.003884\n",
      "3 0.031008\n",
      "4 0.028319\n",
      "5 0.001283\n",
      "6 4e-06\n"
     ]
    },
    {
     "name": "stderr",
     "output_type": "stream",
     "text": [
      " 30%|███       | 152/499 [00:49<01:38,  3.52it/s]"
     ]
    },
    {
     "name": "stdout",
     "output_type": "stream",
     "text": [
      "7 0.120288\n",
      "8 0.007282\n",
      "hi1\n",
      "0 0.003054\n",
      "1 0.005681\n",
      "2 0.005391\n",
      "3 0.036354\n",
      "4 0.021918\n",
      "5 0.001445\n",
      "6 5e-06\n"
     ]
    },
    {
     "name": "stderr",
     "output_type": "stream",
     "text": [
      " 31%|███       | 153/499 [00:49<01:32,  3.73it/s]"
     ]
    },
    {
     "name": "stdout",
     "output_type": "stream",
     "text": [
      "7 0.114017\n",
      "8 0.008606\n",
      "hi1\n",
      "0 0.001153\n",
      "1 0.00575\n",
      "2 0.003657\n",
      "3 0.032247\n",
      "4 0.025258\n",
      "5 0.00163\n",
      "6 8e-06\n"
     ]
    },
    {
     "name": "stderr",
     "output_type": "stream",
     "text": [
      " 31%|███       | 154/499 [00:50<01:31,  3.75it/s]"
     ]
    },
    {
     "name": "stdout",
     "output_type": "stream",
     "text": [
      "7 0.142963\n",
      "8 0.008698\n",
      "hi1\n",
      "0 0.001195\n",
      "1 0.005583\n",
      "2 0.003187\n",
      "3 0.033439\n",
      "4 0.030522\n",
      "5 0.001597\n",
      "6 5e-06\n"
     ]
    },
    {
     "name": "stderr",
     "output_type": "stream",
     "text": [
      " 31%|███       | 155/499 [00:50<01:30,  3.79it/s]"
     ]
    },
    {
     "name": "stdout",
     "output_type": "stream",
     "text": [
      "7 0.141004\n",
      "8 0.007879\n",
      "hi1\n",
      "0 0.001178\n",
      "1 0.005293\n",
      "2 0.002809\n",
      "3 0.028336\n",
      "4 0.026962\n",
      "5 0.001427\n",
      "6 5e-06\n"
     ]
    },
    {
     "name": "stderr",
     "output_type": "stream",
     "text": [
      " 31%|███▏      | 156/499 [00:50<01:25,  3.99it/s]"
     ]
    },
    {
     "name": "stdout",
     "output_type": "stream",
     "text": [
      "7 0.108314\n",
      "8 0.010208\n",
      "hi1\n",
      "0 0.001406\n",
      "1 0.006166\n",
      "2 0.003601\n",
      "3 0.027002\n",
      "4 0.027225\n",
      "5 0.001272\n",
      "6 8e-06\n"
     ]
    },
    {
     "name": "stderr",
     "output_type": "stream",
     "text": [
      " 31%|███▏      | 157/499 [00:50<01:23,  4.09it/s]"
     ]
    },
    {
     "name": "stdout",
     "output_type": "stream",
     "text": [
      "7 0.120493\n",
      "8 0.006403\n",
      "hi1\n",
      "0 0.00125\n",
      "1 0.005347\n",
      "2 0.00331\n",
      "3 0.028606\n",
      "4 0.03044\n",
      "5 0.001432\n",
      "6 5e-06\n"
     ]
    },
    {
     "name": "stderr",
     "output_type": "stream",
     "text": [
      " 32%|███▏      | 158/499 [00:51<01:22,  4.15it/s]"
     ]
    },
    {
     "name": "stdout",
     "output_type": "stream",
     "text": [
      "7 0.115441\n",
      "8 0.007414\n",
      "hi1\n",
      "0 0.001303\n",
      "1 0.006191\n",
      "2 0.004366\n",
      "3 0.034006\n",
      "4 0.030433\n",
      "5 0.00149\n",
      "6 6e-06\n"
     ]
    },
    {
     "name": "stderr",
     "output_type": "stream",
     "text": [
      " 32%|███▏      | 159/499 [00:51<01:21,  4.16it/s]"
     ]
    },
    {
     "name": "stdout",
     "output_type": "stream",
     "text": [
      "7 0.116908\n",
      "8 0.009219\n",
      "hi1\n",
      "0 0.001814\n",
      "1 0.005593\n",
      "2 0.004245\n",
      "3 0.029756\n",
      "4 0.028614\n",
      "5 0.001333\n",
      "6 8e-06\n"
     ]
    },
    {
     "name": "stderr",
     "output_type": "stream",
     "text": [
      " 32%|███▏      | 160/499 [00:51<01:27,  3.86it/s]"
     ]
    },
    {
     "name": "stdout",
     "output_type": "stream",
     "text": [
      "7 0.133918\n",
      "8 0.016452\n",
      "hi1\n",
      "0 0.001868\n",
      "1 0.008226\n",
      "2 0.007105\n",
      "3 0.057414\n",
      "4"
     ]
    },
    {
     "name": "stderr",
     "output_type": "stream",
     "text": [
      " 32%|███▏      | 161/499 [00:51<01:31,  3.68it/s]"
     ]
    },
    {
     "name": "stdout",
     "output_type": "stream",
     "text": [
      " 0.047188\n",
      "5 0.0015\n",
      "6 8e-06\n",
      "7 0.13397\n",
      "8 0.006576\n",
      "hi1\n",
      "0 0.00112\n",
      "1 0.005594\n",
      "2 0.003233\n",
      "3 0.029878\n",
      "4"
     ]
    },
    {
     "name": "stderr",
     "output_type": "stream",
     "text": [
      " 32%|███▏      | 162/499 [00:52<01:29,  3.75it/s]"
     ]
    },
    {
     "name": "stdout",
     "output_type": "stream",
     "text": [
      " 0.030896\n",
      "5 0.001253\n",
      "6 7e-06\n",
      "7 0.140808\n",
      "8 0.006013\n",
      "hi1\n",
      "0 0.003168\n",
      "1 0.009722\n",
      "2 0.010842\n"
     ]
    },
    {
     "name": "stderr",
     "output_type": "stream",
     "text": [
      " 33%|███▎      | 163/499 [00:52<01:38,  3.40it/s]"
     ]
    },
    {
     "name": "stdout",
     "output_type": "stream",
     "text": [
      "3 0.054832\n",
      "4 0.059483\n",
      "5 0.005897\n",
      "6 2.5e-05\n",
      "7 0.160796\n",
      "8 0.006888\n",
      "hi1\n",
      "0 0.001457\n",
      "1 0.006513\n",
      "2 0.003441\n"
     ]
    },
    {
     "name": "stderr",
     "output_type": "stream",
     "text": [
      " 33%|███▎      | 164/499 [00:52<01:32,  3.60it/s]"
     ]
    },
    {
     "name": "stdout",
     "output_type": "stream",
     "text": [
      "3 0.033851\n",
      "4 0.024993\n",
      "5 0.001062\n",
      "6 5e-06\n",
      "7 0.122442\n",
      "8 0.006675\n",
      "hi1\n",
      "0 0.001411\n",
      "1 0.005493\n",
      "2 0.003037\n",
      "3 0.031804\n",
      "4"
     ]
    },
    {
     "name": "stderr",
     "output_type": "stream",
     "text": [
      " 33%|███▎      | 165/499 [00:52<01:28,  3.78it/s]"
     ]
    },
    {
     "name": "stdout",
     "output_type": "stream",
     "text": [
      " 0.025946\n",
      "5 0.00117\n",
      "6 5e-06\n",
      "7 0.124301\n",
      "8 0.006581\n",
      "hi1\n",
      "0 0.001179\n",
      "1 0.005812\n",
      "2 0.004205\n",
      "3 0.027823\n",
      "4"
     ]
    },
    {
     "name": "stderr",
     "output_type": "stream",
     "text": [
      " 33%|███▎      | 166/499 [00:53<01:24,  3.95it/s]"
     ]
    },
    {
     "name": "stdout",
     "output_type": "stream",
     "text": [
      " 0.028932\n",
      "5 0.001433\n",
      "6 6e-06\n",
      "7 0.118728\n",
      "8 0.006528\n",
      "hi1\n",
      "0 0.001209\n",
      "1 0.005275\n",
      "2 0.003508\n",
      "3 0.029284\n",
      "4"
     ]
    },
    {
     "name": "stderr",
     "output_type": "stream",
     "text": [
      " 33%|███▎      | 167/499 [00:53<01:21,  4.08it/s]"
     ]
    },
    {
     "name": "stdout",
     "output_type": "stream",
     "text": [
      " 0.027265\n",
      "5 0.001184\n",
      "6 6e-06\n",
      "7 0.118194\n",
      "8 0.006376\n",
      "hi1\n",
      "0 0.001149\n",
      "1 0.005252\n",
      "2 0.004301\n",
      "3 0.032125\n",
      "4"
     ]
    },
    {
     "name": "stderr",
     "output_type": "stream",
     "text": [
      " 34%|███▎      | 168/499 [00:53<01:37,  3.40it/s]"
     ]
    },
    {
     "name": "stdout",
     "output_type": "stream",
     "text": [
      " 0.025502\n",
      "5 0.001039\n",
      "6 4e-06\n",
      "7 0.292523\n",
      "8 0.007094\n",
      "hi1\n",
      "0 0.001353\n",
      "1 0.005616\n",
      "2 0.002671\n",
      "3 0.028249\n",
      "4 0.031631\n",
      "5"
     ]
    },
    {
     "name": "stderr",
     "output_type": "stream",
     "text": [
      " 34%|███▍      | 169/499 [00:54<01:32,  3.57it/s]"
     ]
    },
    {
     "name": "stdout",
     "output_type": "stream",
     "text": [
      " 0.001251\n",
      "6 1.9e-05\n",
      "7 0.127489\n",
      "8 0.006855\n",
      "hi1\n",
      "0 0.001114\n",
      "1 0.005706\n",
      "2 0.003436\n",
      "3 0.025263\n"
     ]
    },
    {
     "name": "stderr",
     "output_type": "stream",
     "text": [
      " 34%|███▍      | 170/499 [00:54<01:27,  3.75it/s]"
     ]
    },
    {
     "name": "stdout",
     "output_type": "stream",
     "text": [
      "4 0.028947\n",
      "5 0.001362\n",
      "6 7e-06\n",
      "7 0.130827\n",
      "8 0.006786\n",
      "hi1\n",
      "0 0.001191\n",
      "1 0.005636\n",
      "2 0.003701\n",
      "3 0.030237\n",
      "4"
     ]
    },
    {
     "name": "stderr",
     "output_type": "stream",
     "text": [
      " 34%|███▍      | 171/499 [00:54<01:25,  3.83it/s]"
     ]
    },
    {
     "name": "stdout",
     "output_type": "stream",
     "text": [
      " 0.031129\n",
      "5 0.001208\n",
      "6 1.3e-05\n",
      "7 0.127167\n",
      "8 0.007143\n",
      "hi1\n",
      "0 0.001282\n",
      "1 0.006231\n",
      "2 0.003753\n"
     ]
    },
    {
     "name": "stderr",
     "output_type": "stream",
     "text": [
      " 34%|███▍      | 172/499 [00:54<01:22,  3.94it/s]"
     ]
    },
    {
     "name": "stdout",
     "output_type": "stream",
     "text": [
      "3 0.030176\n",
      "4 0.028997\n",
      "5 0.001518\n",
      "6 1.8e-05\n",
      "7 0.126229\n",
      "8 0.006134\n",
      "hi1\n",
      "0 0.001191\n",
      "1 0.005702\n",
      "2 0.003721\n"
     ]
    },
    {
     "name": "stderr",
     "output_type": "stream",
     "text": [
      " 35%|███▍      | 173/499 [00:55<01:18,  4.14it/s]"
     ]
    },
    {
     "name": "stdout",
     "output_type": "stream",
     "text": [
      "3 0.030376\n",
      "4 0.02494\n",
      "5 0.00129\n",
      "6 5e-06\n",
      "7 0.112454\n",
      "8 0.006094\n",
      "hi1\n",
      "0 0.001143\n",
      "1 0.005247\n",
      "2 0.003354\n",
      "3 0.029963\n",
      "4 0.022377\n",
      "5"
     ]
    },
    {
     "name": "stderr",
     "output_type": "stream",
     "text": [
      " 35%|███▍      | 174/499 [00:55<01:15,  4.29it/s]"
     ]
    },
    {
     "name": "stdout",
     "output_type": "stream",
     "text": [
      " 0.001189\n",
      "6 1e-05\n",
      "7 0.110732\n",
      "8 0.006107\n",
      "hi1\n",
      "0 0.001145\n",
      "1 0.005619\n",
      "2 0.002724\n",
      "3 0.027992\n",
      "4 0.022735\n",
      "5 0.000909\n",
      "6 6e-06\n"
     ]
    },
    {
     "name": "stderr",
     "output_type": "stream",
     "text": [
      " 35%|███▌      | 175/499 [00:55<01:13,  4.42it/s]"
     ]
    },
    {
     "name": "stdout",
     "output_type": "stream",
     "text": [
      "7 0.11499\n",
      "8 0.006081\n",
      "hi1\n",
      "0 0.001245\n",
      "1 0.005418\n",
      "2 0.003287\n",
      "3 0.023916\n",
      "4 0.025215\n",
      "5 0.001522\n",
      "6 2.1e-05\n"
     ]
    },
    {
     "name": "stderr",
     "output_type": "stream",
     "text": [
      " 35%|███▌      | 176/499 [00:55<01:14,  4.35it/s]"
     ]
    },
    {
     "name": "stdout",
     "output_type": "stream",
     "text": [
      "7 0.120709\n",
      "8 0.010359\n",
      "hi1\n",
      "0 0.001589\n",
      "1 0.009114\n",
      "2 0.004555\n",
      "3 0.032608\n",
      "4 0.024305\n",
      "5 0.001188\n",
      "6 2.2e-05\n"
     ]
    },
    {
     "name": "stderr",
     "output_type": "stream",
     "text": [
      " 35%|███▌      | 177/499 [00:55<01:14,  4.32it/s]"
     ]
    },
    {
     "name": "stdout",
     "output_type": "stream",
     "text": [
      "7 0.109305\n",
      "8 0.007858\n",
      "hi1\n",
      "0 0.001415\n",
      "1 0.005186\n",
      "2 0.002654\n",
      "3 0.025439\n",
      "4 0.027242\n",
      "5 0.001874\n",
      "6 6e-06\n"
     ]
    },
    {
     "name": "stderr",
     "output_type": "stream",
     "text": [
      " 36%|███▌      | 178/499 [00:56<01:12,  4.42it/s]"
     ]
    },
    {
     "name": "stdout",
     "output_type": "stream",
     "text": [
      "7 0.108572\n",
      "8 0.005875\n",
      "hi1\n",
      "0 0.001365\n",
      "1 0.005504\n",
      "2 0.004327\n",
      "3 0.027397\n",
      "4 0.024338\n",
      "5 0.001061\n",
      "6 1.1e-05\n"
     ]
    },
    {
     "name": "stderr",
     "output_type": "stream",
     "text": [
      " 36%|███▌      | 179/499 [00:56<01:10,  4.56it/s]"
     ]
    },
    {
     "name": "stdout",
     "output_type": "stream",
     "text": [
      "7 0.099331\n",
      "8 0.006929\n",
      "hi1\n",
      "0 0.003138\n",
      "1 0.008167\n",
      "2 0.004019\n",
      "3 0.028014\n",
      "4 0.024971\n",
      "5 0.001069\n",
      "6 5e-06\n"
     ]
    },
    {
     "name": "stderr",
     "output_type": "stream",
     "text": [
      " 36%|███▌      | 180/499 [00:56<01:10,  4.55it/s]"
     ]
    },
    {
     "name": "stdout",
     "output_type": "stream",
     "text": [
      "7 0.10997\n",
      "8 0.007744\n",
      "hi1\n",
      "0 0.001844\n",
      "1 0.006879\n",
      "2 0.003263\n",
      "3 0.026547\n",
      "4 0.030607\n",
      "5 0.001479\n",
      "6 7e-06\n"
     ]
    },
    {
     "name": "stderr",
     "output_type": "stream",
     "text": [
      " 36%|███▋      | 181/499 [00:56<01:12,  4.37it/s]"
     ]
    },
    {
     "name": "stdout",
     "output_type": "stream",
     "text": [
      "7 0.129083\n",
      "8 0.007962\n",
      "hi1\n",
      "0 0.001201\n",
      "1 0.005389\n",
      "2 0.003452\n",
      "3 0.026516\n",
      "4 0.023989\n",
      "5 0.001171\n",
      "6 9e-06\n"
     ]
    },
    {
     "name": "stderr",
     "output_type": "stream",
     "text": [
      " 36%|███▋      | 182/499 [00:57<01:10,  4.50it/s]"
     ]
    },
    {
     "name": "stdout",
     "output_type": "stream",
     "text": [
      "7 0.104295\n",
      "8 0.007584\n",
      "hi1\n",
      "0 0.00172\n",
      "1 0.006519\n",
      "2 0.005959\n",
      "3 0.028476\n",
      "4 0.022451\n",
      "5 0.001145\n",
      "6 4e-06\n"
     ]
    },
    {
     "name": "stderr",
     "output_type": "stream",
     "text": [
      " 37%|███▋      | 183/499 [00:57<01:08,  4.58it/s]"
     ]
    },
    {
     "name": "stdout",
     "output_type": "stream",
     "text": [
      "7 0.100319\n",
      "8 0.006291\n",
      "hi1\n",
      "0 0.001065\n",
      "1 0.005496\n",
      "2 0.003772\n",
      "3 0.030712\n",
      "4 0.022498\n",
      "5 0.001469\n",
      "6 5e-06\n"
     ]
    },
    {
     "name": "stderr",
     "output_type": "stream",
     "text": [
      " 37%|███▋      | 184/499 [00:57<01:07,  4.69it/s]"
     ]
    },
    {
     "name": "stdout",
     "output_type": "stream",
     "text": [
      "7 0.100248\n",
      "8 0.006967\n",
      "hi1\n",
      "0 0.001244\n",
      "1 0.006365\n",
      "2 0.003166\n",
      "3 0.031762\n",
      "4 0.025332\n",
      "5 0.001075\n",
      "6 7e-06\n"
     ]
    },
    {
     "name": "stderr",
     "output_type": "stream",
     "text": [
      " 37%|███▋      | 185/499 [00:57<01:07,  4.67it/s]"
     ]
    },
    {
     "name": "stdout",
     "output_type": "stream",
     "text": [
      "7 0.101917\n",
      "8 0.007612\n",
      "hi1\n",
      "0 0.003512\n",
      "1 0.007433\n",
      "2 0.003377\n",
      "3 0.024868\n",
      "4 0.030808\n",
      "5 0.002209\n",
      "6 9e-06\n"
     ]
    },
    {
     "name": "stderr",
     "output_type": "stream",
     "text": [
      " 37%|███▋      | 186/499 [00:57<01:09,  4.50it/s]"
     ]
    },
    {
     "name": "stdout",
     "output_type": "stream",
     "text": [
      "7 0.129326\n",
      "8 0.006969\n",
      "hi1\n",
      "0 0.001105\n",
      "1 0.005909\n",
      "2 0.003855\n",
      "3 0.027268\n",
      "4 0.027697\n",
      "5 0.001527\n",
      "6 5e-06\n"
     ]
    },
    {
     "name": "stderr",
     "output_type": "stream",
     "text": [
      " 37%|███▋      | 187/499 [00:58<01:10,  4.42it/s]"
     ]
    },
    {
     "name": "stdout",
     "output_type": "stream",
     "text": [
      "7 0.12431\n",
      "8 0.007781\n",
      "hi1\n",
      "0 0.001088\n",
      "1 0.006506\n",
      "2 0.003124\n",
      "3 0.02583\n",
      "4 0.028835\n",
      "5 0.001266\n",
      "6 9e-06\n"
     ]
    },
    {
     "name": "stderr",
     "output_type": "stream",
     "text": [
      " 38%|███▊      | 188/499 [00:58<01:12,  4.29it/s]"
     ]
    },
    {
     "name": "stdout",
     "output_type": "stream",
     "text": [
      "7 0.126691\n",
      "8 0.008842\n",
      "hi1\n",
      "0 0.001074\n",
      "1 0.006094\n",
      "2 0.004908\n",
      "3 0.024563\n",
      "4 0.029753\n",
      "5 0.001675\n",
      "6 6e-06\n"
     ]
    },
    {
     "name": "stderr",
     "output_type": "stream",
     "text": [
      " 38%|███▊      | 189/499 [00:58<01:12,  4.25it/s]"
     ]
    },
    {
     "name": "stdout",
     "output_type": "stream",
     "text": [
      "7 0.124658\n",
      "8 0.007769\n",
      "hi1\n",
      "0 0.001167\n",
      "1 0.005853\n",
      "2 0.003012\n",
      "3 0.023678\n",
      "4 0.022887\n",
      "5 0.001093\n",
      "6 2.3e-05\n"
     ]
    },
    {
     "name": "stderr",
     "output_type": "stream",
     "text": [
      " 38%|███▊      | 190/499 [00:58<01:09,  4.45it/s]"
     ]
    },
    {
     "name": "stdout",
     "output_type": "stream",
     "text": [
      "7 0.096578\n",
      "8 0.007436\n",
      "hi1\n",
      "0 0.001325\n",
      "1 0.00558\n",
      "2 0.002604\n",
      "3 0.023682\n",
      "4 0.023827\n",
      "5 0.001061\n",
      "6 1.4e-05\n"
     ]
    },
    {
     "name": "stderr",
     "output_type": "stream",
     "text": [
      " 38%|███▊      | 191/499 [00:59<01:07,  4.58it/s]"
     ]
    },
    {
     "name": "stdout",
     "output_type": "stream",
     "text": [
      "7 0.105242\n",
      "8 0.008153\n",
      "hi1\n",
      "0 0.001446\n",
      "1 0.006776\n",
      "2 0.007506\n",
      "3 0.026884\n",
      "4 0.024851\n",
      "5 0.001051\n",
      "6 5e-06\n"
     ]
    },
    {
     "name": "stderr",
     "output_type": "stream",
     "text": [
      " 38%|███▊      | 192/499 [00:59<01:05,  4.67it/s]"
     ]
    },
    {
     "name": "stdout",
     "output_type": "stream",
     "text": [
      "7 0.097652\n",
      "8 0.007238\n",
      "hi1\n",
      "0 0.001235\n",
      "1 0.005557\n",
      "2 0.003478\n",
      "3 0.027676\n",
      "4 0.030861\n",
      "5 0.002534\n",
      "6 5e-06\n",
      "7 0.103194\n"
     ]
    },
    {
     "name": "stderr",
     "output_type": "stream",
     "text": [
      " 39%|███▊      | 193/499 [00:59<01:05,  4.65it/s]"
     ]
    },
    {
     "name": "stdout",
     "output_type": "stream",
     "text": [
      "8 0.007066\n",
      "hi1\n",
      "0 0.001345\n",
      "1 0.005869\n",
      "2 0.004186\n",
      "3 0.031273\n",
      "4 0.02745\n",
      "5 0.002569\n",
      "6 9e-06\n"
     ]
    },
    {
     "name": "stderr",
     "output_type": "stream",
     "text": [
      " 39%|███▉      | 194/499 [00:59<01:06,  4.57it/s]"
     ]
    },
    {
     "name": "stdout",
     "output_type": "stream",
     "text": [
      "7 0.102693\n",
      "8 0.006975\n",
      "hi1\n",
      "0 0.001283\n",
      "1 0.006493\n",
      "2 0.00506\n",
      "3 0.026693\n",
      "4 0.026034\n",
      "5 0.001917\n",
      "6 3.2e-05\n"
     ]
    },
    {
     "name": "stderr",
     "output_type": "stream",
     "text": [
      " 39%|███▉      | 195/499 [00:59<01:06,  4.58it/s]"
     ]
    },
    {
     "name": "stdout",
     "output_type": "stream",
     "text": [
      "7 0.10644\n",
      "8 0.006485\n",
      "hi1\n",
      "0 0.001248\n",
      "1 0.005528\n",
      "2 0.003359\n",
      "3 0.023575\n",
      "4 0.026634\n",
      "5 0.001664\n",
      "6 1.1e-05\n"
     ]
    },
    {
     "name": "stderr",
     "output_type": "stream",
     "text": [
      " 39%|███▉      | 196/499 [01:00<01:06,  4.58it/s]"
     ]
    },
    {
     "name": "stdout",
     "output_type": "stream",
     "text": [
      "7 0.120366\n",
      "8 0.006485\n",
      "hi1\n",
      "0 0.002162\n",
      "1 0.010245\n",
      "2 0.003717\n",
      "3 0.025986\n",
      "4 0.022146\n",
      "5 0.001322\n",
      "6 4e-06\n",
      "7 0.093386\n"
     ]
    },
    {
     "name": "stderr",
     "output_type": "stream",
     "text": [
      " 39%|███▉      | 197/499 [01:00<01:03,  4.72it/s]"
     ]
    },
    {
     "name": "stdout",
     "output_type": "stream",
     "text": [
      "8 0.006403\n",
      "hi1\n",
      "0 0.001498\n",
      "1 0.006421\n",
      "2 0.007833\n",
      "3 0.025645\n",
      "4 0.021261\n",
      "5 0.001669\n",
      "6 6e-06\n"
     ]
    },
    {
     "name": "stderr",
     "output_type": "stream",
     "text": [
      " 40%|███▉      | 198/499 [01:00<01:04,  4.63it/s]"
     ]
    },
    {
     "name": "stdout",
     "output_type": "stream",
     "text": [
      "7 0.122009\n",
      "8 0.006248\n",
      "hi1\n",
      "0 0.001719\n",
      "1 0.006154\n",
      "2 0.003238\n",
      "3 0.022646\n",
      "4 0.026478\n",
      "5 0.001584\n",
      "6 1.4e-05\n",
      "7 0.095707\n"
     ]
    },
    {
     "name": "stderr",
     "output_type": "stream",
     "text": [
      " 40%|███▉      | 199/499 [01:00<01:03,  4.74it/s]"
     ]
    },
    {
     "name": "stdout",
     "output_type": "stream",
     "text": [
      "8 0.007334\n",
      "hi1\n",
      "0 0.001087\n",
      "1 0.005809\n",
      "2 0.003896\n",
      "3 0.027166\n",
      "4 0.026599\n",
      "5 0.001392\n",
      "6 8e-06\n",
      "7 0.094236\n",
      "8 0.007178\n"
     ]
    },
    {
     "name": "stderr",
     "output_type": "stream",
     "text": [
      " 40%|████      | 200/499 [01:00<01:02,  4.77it/s]"
     ]
    },
    {
     "name": "stdout",
     "output_type": "stream",
     "text": [
      "hi1\n",
      "0 0.00118\n",
      "1 0.005647\n",
      "2 0.004058\n",
      "3 0.025605\n",
      "4 0.02467\n",
      "5 0.001157\n",
      "6 5e-06\n",
      "7 0.099788\n",
      "8 0.006818\n"
     ]
    },
    {
     "name": "stderr",
     "output_type": "stream",
     "text": [
      " 40%|████      | 201/499 [01:01<01:01,  4.82it/s]"
     ]
    },
    {
     "name": "stdout",
     "output_type": "stream",
     "text": [
      "hi1\n",
      "0 0.001226\n",
      "1 0.006305\n",
      "2 0.004306\n",
      "3 0.024334\n",
      "4 0.025557\n",
      "5 0.003029\n",
      "6 8e-06\n",
      "7 0.107134\n",
      "8 0.006155\n"
     ]
    },
    {
     "name": "stderr",
     "output_type": "stream",
     "text": [
      " 41%|████      | 203/499 [01:01<00:59,  4.94it/s]"
     ]
    },
    {
     "name": "stdout",
     "output_type": "stream",
     "text": [
      "hi1\n",
      "0 0.001248\n",
      "1 0.005881\n",
      "2 0.003088\n",
      "3 0.024739\n",
      "4 0.023551\n",
      "5 0.00161\n",
      "6 5e-06\n",
      "7 0.096907\n",
      "8 0.005459\n",
      "hi1\n",
      "0 0.001262\n",
      "1 0.005646\n",
      "2"
     ]
    },
    {
     "name": "stderr",
     "output_type": "stream",
     "text": [
      " 41%|████      | 204/499 [01:01<00:59,  4.97it/s]"
     ]
    },
    {
     "name": "stdout",
     "output_type": "stream",
     "text": [
      " 0.00359\n",
      "3 0.025465\n",
      "4 0.023231\n",
      "5 0.002551\n",
      "6 3.9e-05\n",
      "7 0.101976\n",
      "8 0.006327\n",
      "hi1\n",
      "0 0.001195\n",
      "1 0.005606\n",
      "2 0.003736\n"
     ]
    },
    {
     "name": "stderr",
     "output_type": "stream",
     "text": [
      " 41%|████      | 205/499 [01:01<01:01,  4.79it/s]"
     ]
    },
    {
     "name": "stdout",
     "output_type": "stream",
     "text": [
      "3 0.023717\n",
      "4 0.025002\n",
      "5 0.00172\n",
      "6 5e-06\n",
      "7 0.123559\n",
      "8 0.007049\n",
      "hi1\n",
      "0 0.001141\n",
      "1 0.006028\n",
      "2 0.004112\n",
      "3 0.024646\n"
     ]
    },
    {
     "name": "stderr",
     "output_type": "stream",
     "text": [
      " 41%|████▏     | 206/499 [01:02<01:01,  4.73it/s]"
     ]
    },
    {
     "name": "stdout",
     "output_type": "stream",
     "text": [
      "4 0.024853\n",
      "5 0.001342\n",
      "6 5e-06\n",
      "7 0.110356\n",
      "8 0.00613\n",
      "hi1\n",
      "0 0.001396\n",
      "1 0.006492\n",
      "2 0.003407\n",
      "3 0.026836\n",
      "4"
     ]
    },
    {
     "name": "stderr",
     "output_type": "stream",
     "text": [
      " 41%|████▏     | 207/499 [01:02<01:02,  4.71it/s]"
     ]
    },
    {
     "name": "stdout",
     "output_type": "stream",
     "text": [
      " 0.025946\n",
      "5 0.001191\n",
      "6 5e-06\n",
      "7 0.108428\n",
      "8 0.005818\n",
      "hi1\n",
      "0 0.001127\n",
      "1 0.005434\n",
      "2 0.003543\n",
      "3 0.02789\n",
      "4 0.021084\n",
      "5 0.001276\n",
      "6 6e-06\n"
     ]
    },
    {
     "name": "stderr",
     "output_type": "stream",
     "text": [
      " 42%|████▏     | 208/499 [01:02<01:00,  4.82it/s]"
     ]
    },
    {
     "name": "stdout",
     "output_type": "stream",
     "text": [
      "7 0.093369\n",
      "8 0.006782\n",
      "hi1\n",
      "0 0.001106\n",
      "1 0.005606\n",
      "2 0.003579\n",
      "3 0.023176\n",
      "4 0.024343\n",
      "5 0.00175\n",
      "6 7e-06\n",
      "7 0.093597\n",
      "8 0.005578\n"
     ]
    },
    {
     "name": "stderr",
     "output_type": "stream",
     "text": [
      " 42%|████▏     | 210/499 [01:02<00:57,  5.00it/s]"
     ]
    },
    {
     "name": "stdout",
     "output_type": "stream",
     "text": [
      "hi1\n",
      "0 0.001349\n",
      "1 0.005905\n",
      "2 0.003039\n",
      "3 0.022628\n",
      "4 0.024376\n",
      "5 0.001354\n",
      "6 1.7e-05\n",
      "7 0.099167\n",
      "8 0.0061\n",
      "hi1\n",
      "0 0.001133\n",
      "1 0.006291\n",
      "2 0.002928\n",
      "3 0.025216\n",
      "4 0.025749\n",
      "5 0.001619\n",
      "6 6e-06\n",
      "7 0.104555\n",
      "8 0.008341\n"
     ]
    },
    {
     "name": "stderr",
     "output_type": "stream",
     "text": [
      " 42%|████▏     | 212/499 [01:03<00:58,  4.95it/s]"
     ]
    },
    {
     "name": "stdout",
     "output_type": "stream",
     "text": [
      "hi1\n",
      "0 0.00131\n",
      "1 0.006709\n",
      "2 0.003716\n",
      "3 0.022372\n",
      "4 0.028988\n",
      "5 0.00121\n",
      "6 6e-06\n",
      "7 0.089622\n",
      "8 0.007871\n",
      "hi1\n"
     ]
    },
    {
     "name": "stderr",
     "output_type": "stream",
     "text": [
      " 43%|████▎     | 213/499 [01:03<00:57,  5.01it/s]"
     ]
    },
    {
     "name": "stdout",
     "output_type": "stream",
     "text": [
      "0 0.001357\n",
      "1 0.00632\n",
      "2 0.00311\n",
      "3 0.025611\n",
      "4 0.025175\n",
      "5 0.001729\n",
      "6 1.5e-05\n",
      "7 0.095459\n",
      "8 0.005604\n",
      "hi1\n",
      "0 0.001086\n",
      "1 0.005531\n",
      "2"
     ]
    },
    {
     "name": "stderr",
     "output_type": "stream",
     "text": [
      " 43%|████▎     | 214/499 [01:03<00:57,  4.97it/s]"
     ]
    },
    {
     "name": "stdout",
     "output_type": "stream",
     "text": [
      " 0.003685\n",
      "3 0.022686\n",
      "4 0.025523\n",
      "5 0.001777\n",
      "6 5e-05\n",
      "7 0.09941\n",
      "8 0.006172\n",
      "hi1\n",
      "0 0.001273\n",
      "1 0.005729\n",
      "2"
     ]
    },
    {
     "name": "stderr",
     "output_type": "stream",
     "text": [
      " 43%|████▎     | 215/499 [01:03<00:58,  4.89it/s]"
     ]
    },
    {
     "name": "stdout",
     "output_type": "stream",
     "text": [
      " 0.003632\n",
      "3 0.024557\n",
      "4 0.023338\n",
      "5 0.001456\n",
      "6 1.5e-05\n",
      "7 0.110428\n",
      "8 0.00786\n",
      "hi1\n",
      "0 0.001171\n",
      "1 0.005546\n",
      "2 0.003013\n"
     ]
    },
    {
     "name": "stderr",
     "output_type": "stream",
     "text": [
      " 43%|████▎     | 216/499 [01:04<00:59,  4.75it/s]"
     ]
    },
    {
     "name": "stdout",
     "output_type": "stream",
     "text": [
      "3 0.02047\n",
      "4 0.021921\n",
      "5 0.001121\n",
      "6 5e-06\n",
      "7 0.132389\n",
      "8 0.006328\n",
      "hi1\n",
      "0 0.001227\n",
      "1 0.005837\n",
      "2 0.003857\n",
      "3 0.023379\n",
      "4 0.025063\n",
      "5 0.001884\n",
      "6 7e-06\n"
     ]
    },
    {
     "name": "stderr",
     "output_type": "stream",
     "text": [
      " 43%|████▎     | 217/499 [01:04<01:01,  4.61it/s]"
     ]
    },
    {
     "name": "stdout",
     "output_type": "stream",
     "text": [
      "7 0.130326\n",
      "8 0.007094\n",
      "hi1\n",
      "0 0.001224\n",
      "1 0.006199\n",
      "2 0.005356\n",
      "3 0.019542\n",
      "4 0.024984\n",
      "5 0.001401\n",
      "6 6e-06\n",
      "7 0.090533\n",
      "8 0.005872\n"
     ]
    },
    {
     "name": "stderr",
     "output_type": "stream",
     "text": [
      " 44%|████▍     | 219/499 [01:04<00:56,  4.92it/s]"
     ]
    },
    {
     "name": "stdout",
     "output_type": "stream",
     "text": [
      "hi1\n",
      "0 0.001667\n",
      "1 0.006104\n",
      "2 0.0033\n",
      "3 0.021627\n",
      "4 0.026134\n",
      "5 0.00147\n",
      "6 2.8e-05\n",
      "7 0.093127\n",
      "8 0.006859\n",
      "hi1\n",
      "0 0.001202\n",
      "1 0.005717\n",
      "2 0.003664\n",
      "3 0.022496\n",
      "4 0.024093\n",
      "5 0.002879\n",
      "6 1.6e-05\n",
      "7 0.108646\n",
      "8 0.01123\n"
     ]
    },
    {
     "name": "stderr",
     "output_type": "stream",
     "text": [
      " 44%|████▍     | 220/499 [01:05<01:00,  4.64it/s]"
     ]
    },
    {
     "name": "stdout",
     "output_type": "stream",
     "text": [
      "hi1\n",
      "0 0.001965\n",
      "1 0.007158\n",
      "2 0.007541\n",
      "3 0.037945\n",
      "4 0.036627\n",
      "5 0.00385\n",
      "6 1.2e-05\n"
     ]
    },
    {
     "name": "stderr",
     "output_type": "stream",
     "text": [
      " 44%|████▍     | 221/499 [01:05<01:10,  3.94it/s]"
     ]
    },
    {
     "name": "stdout",
     "output_type": "stream",
     "text": [
      "7 0.196425\n",
      "8 0.009064\n",
      "hi1\n",
      "0 0.001348\n",
      "1 0.005837\n",
      "2 0.003996\n",
      "3 0.022408\n",
      "4 0.027044\n",
      "5 0.001847\n",
      "6 1e-05\n"
     ]
    },
    {
     "name": "stderr",
     "output_type": "stream",
     "text": [
      " 44%|████▍     | 222/499 [01:05<01:08,  4.07it/s]"
     ]
    },
    {
     "name": "stdout",
     "output_type": "stream",
     "text": [
      "7 0.118935\n",
      "8 0.007224\n",
      "hi1\n",
      "0 0.001168\n",
      "1 0.006473\n",
      "2 0.002955\n",
      "3 0.019999\n",
      "4 0.0268\n",
      "5 0.001429\n",
      "6 6e-06\n"
     ]
    },
    {
     "name": "stderr",
     "output_type": "stream",
     "text": [
      " 45%|████▍     | 223/499 [01:05<01:06,  4.17it/s]"
     ]
    },
    {
     "name": "stdout",
     "output_type": "stream",
     "text": [
      "7 0.109901\n",
      "8 0.00706\n",
      "hi1\n",
      "0 0.001244\n",
      "1 0.005807\n",
      "2 0.003868\n",
      "3 0.022085\n",
      "4 0.026984\n",
      "5 0.001784\n",
      "6 9e-06\n"
     ]
    },
    {
     "name": "stderr",
     "output_type": "stream",
     "text": [
      " 45%|████▍     | 224/499 [01:06<01:04,  4.28it/s]"
     ]
    },
    {
     "name": "stdout",
     "output_type": "stream",
     "text": [
      "7 0.110693\n",
      "8 0.00714\n",
      "hi1\n",
      "0 0.001166\n",
      "1 0.005366\n",
      "2 0.002763\n",
      "3 0.02255\n",
      "4 0.019943\n",
      "5 0.001237\n",
      "6 7e-06\n",
      "7 0.083676\n",
      "8 0.005594\n"
     ]
    },
    {
     "name": "stderr",
     "output_type": "stream",
     "text": [
      " 45%|████▌     | 226/499 [01:06<00:56,  4.79it/s]"
     ]
    },
    {
     "name": "stdout",
     "output_type": "stream",
     "text": [
      "hi1\n",
      "0 0.002134\n",
      "1 0.006603\n",
      "2 0.003426\n",
      "3 0.021064\n",
      "4 0.022229\n",
      "5 0.002055\n",
      "6 1.3e-05\n",
      "7 0.094973\n",
      "8 0.006714\n",
      "hi1\n",
      "0 0.001177\n",
      "1 0.005532\n",
      "2 0.004444\n",
      "3 0.022998\n",
      "4 0.022129\n",
      "5 0.003043\n",
      "6 2.1e-05\n",
      "7 0.119754\n",
      "8 0.018611\n"
     ]
    },
    {
     "name": "stderr",
     "output_type": "stream",
     "text": [
      " 45%|████▌     | 227/499 [01:06<01:01,  4.43it/s]"
     ]
    },
    {
     "name": "stdout",
     "output_type": "stream",
     "text": [
      "hi1\n",
      "0 0.001367\n",
      "1 0.00915\n",
      "2 0.009696\n",
      "3 0.044514\n",
      "4 0.04459\n",
      "5 0.004191\n",
      "6 1.2e-05\n"
     ]
    },
    {
     "name": "stderr",
     "output_type": "stream",
     "text": [
      " 46%|████▌     | 228/499 [01:06<01:03,  4.28it/s]"
     ]
    },
    {
     "name": "stdout",
     "output_type": "stream",
     "text": [
      "7 0.095752\n",
      "8 0.005993\n",
      "hi1\n",
      "0 0.003397\n",
      "1 0.009391\n",
      "2 0.004536\n",
      "3 0.021958\n",
      "4 0.024806\n",
      "5 0.001266\n",
      "6 9e-06\n"
     ]
    },
    {
     "name": "stderr",
     "output_type": "stream",
     "text": [
      " 46%|████▌     | 229/499 [01:07<01:01,  4.37it/s]"
     ]
    },
    {
     "name": "stdout",
     "output_type": "stream",
     "text": [
      "7 0.105618\n",
      "8 0.007086\n",
      "hi1\n",
      "0 0.001102\n",
      "1 0.006042\n",
      "2 0.004298\n",
      "3 0.026583\n",
      "4 0.025693\n",
      "5 0.0015\n",
      "6 1.1e-05\n"
     ]
    },
    {
     "name": "stderr",
     "output_type": "stream",
     "text": [
      " 46%|████▌     | 230/499 [01:07<01:00,  4.43it/s]"
     ]
    },
    {
     "name": "stdout",
     "output_type": "stream",
     "text": [
      "7 0.106466\n",
      "8 0.007331\n",
      "hi1\n",
      "0 0.001271\n",
      "1 0.005373\n",
      "2 0.003115\n",
      "3 0.020356\n",
      "4 0.026468\n",
      "5 0.001242\n",
      "6 5e-06\n"
     ]
    },
    {
     "name": "stderr",
     "output_type": "stream",
     "text": [
      " 46%|████▋     | 231/499 [01:07<00:59,  4.54it/s]"
     ]
    },
    {
     "name": "stdout",
     "output_type": "stream",
     "text": [
      "7 0.107134\n",
      "8 0.006097\n",
      "hi1\n",
      "0 0.001139\n",
      "1 0.00564\n",
      "2 0.003245\n",
      "3 0.018218\n",
      "4 0.022701\n",
      "5 0.001105\n",
      "6 5e-06\n",
      "7 0.085203\n",
      "8 0.006004\n"
     ]
    },
    {
     "name": "stderr",
     "output_type": "stream",
     "text": [
      " 47%|████▋     | 233/499 [01:07<00:53,  4.99it/s]"
     ]
    },
    {
     "name": "stdout",
     "output_type": "stream",
     "text": [
      "hi1\n",
      "0 0.001433\n",
      "1 0.006222\n",
      "2 0.002872\n",
      "3 0.021063\n",
      "4 0.023479\n",
      "5 0.001232\n",
      "6 1.3e-05\n",
      "7 0.094088\n",
      "8 0.006128\n",
      "hi1\n",
      "0 0.00104\n",
      "1 0.005505\n",
      "2 0.002537\n"
     ]
    },
    {
     "name": "stderr",
     "output_type": "stream",
     "text": [
      " 47%|████▋     | 234/499 [01:08<00:52,  5.03it/s]"
     ]
    },
    {
     "name": "stdout",
     "output_type": "stream",
     "text": [
      "3 0.022693\n",
      "4 0.026618\n",
      "5 0.001196\n",
      "6 1.4e-05\n",
      "7 0.098718\n",
      "8 0.006349\n",
      "hi1\n",
      "0 0.00119\n",
      "1 0.00528\n",
      "2 0.003264\n",
      "3 0.019328\n",
      "4 0.0241\n",
      "5 0.001202\n",
      "6 8e-06\n"
     ]
    },
    {
     "name": "stderr",
     "output_type": "stream",
     "text": [
      " 47%|████▋     | 235/499 [01:08<00:51,  5.10it/s]"
     ]
    },
    {
     "name": "stdout",
     "output_type": "stream",
     "text": [
      "7 0.100607\n",
      "8 0.006637\n",
      "hi1\n",
      "0 0.001126\n",
      "1 0.005355\n",
      "2 0.002869\n",
      "3 0.019737\n",
      "4 0.026699\n",
      "5 0.001844\n",
      "6 7e-06\n",
      "7 0.08475\n",
      "8 0.008285\n"
     ]
    },
    {
     "name": "stderr",
     "output_type": "stream",
     "text": [
      " 47%|████▋     | 236/499 [01:08<00:50,  5.16it/s]"
     ]
    },
    {
     "name": "stdout",
     "output_type": "stream",
     "text": [
      "hi1\n",
      "0 0.001968\n",
      "1 0.006272\n",
      "2 0.003435\n",
      "3 0.017894\n",
      "4 0.023599\n",
      "5 0.002819\n",
      "6 1.3e-05\n",
      "7 0.1294\n"
     ]
    },
    {
     "name": "stderr",
     "output_type": "stream",
     "text": [
      " 47%|████▋     | 237/499 [01:08<00:57,  4.58it/s]"
     ]
    },
    {
     "name": "stdout",
     "output_type": "stream",
     "text": [
      "8 0.023389\n",
      "hi1\n",
      "0 0.001813\n",
      "1 0.010455\n",
      "2 0.00565\n",
      "3 0.049792\n",
      "4 0.046337\n",
      "5 0.008461\n",
      "6 5.2e-05\n"
     ]
    },
    {
     "name": "stderr",
     "output_type": "stream",
     "text": [
      " 48%|████▊     | 238/499 [01:09<01:09,  3.74it/s]"
     ]
    },
    {
     "name": "stdout",
     "output_type": "stream",
     "text": [
      "7 0.199229\n",
      "8 0.008373\n",
      "hi1\n",
      "0 0.00154\n",
      "1 0.005796\n",
      "2 0.004166\n",
      "3 0.020898\n",
      "4 0.02331\n",
      "5 0.001754\n",
      "6 1e-05\n",
      "7 0.091157\n"
     ]
    },
    {
     "name": "stderr",
     "output_type": "stream",
     "text": [
      " 48%|████▊     | 239/499 [01:09<01:03,  4.09it/s]"
     ]
    },
    {
     "name": "stdout",
     "output_type": "stream",
     "text": [
      "8 0.008378\n",
      "hi1\n",
      "0 0.005086\n",
      "1 0.005375\n",
      "2 0.002973\n",
      "3 0.025571\n",
      "4 0.029956\n",
      "5 0.001415\n",
      "6 7e-06\n",
      "7 0.092956\n",
      "8 0.007288\n"
     ]
    },
    {
     "name": "stderr",
     "output_type": "stream",
     "text": [
      " 48%|████▊     | 240/499 [01:09<01:00,  4.30it/s]"
     ]
    },
    {
     "name": "stdout",
     "output_type": "stream",
     "text": [
      "hi1\n",
      "0 0.001432\n",
      "1 0.005357\n",
      "2 0.003385\n",
      "3 0.033346\n",
      "4 0.035667\n",
      "5 0.002029\n",
      "6 1e-05\n"
     ]
    },
    {
     "name": "stderr",
     "output_type": "stream",
     "text": [
      " 48%|████▊     | 241/499 [01:10<01:22,  3.14it/s]"
     ]
    },
    {
     "name": "stdout",
     "output_type": "stream",
     "text": [
      "7 0.232392\n",
      "8 0.017533\n",
      "hi1\n"
     ]
    },
    {
     "name": "stderr",
     "output_type": "stream",
     "text": [
      " 48%|████▊     | 242/499 [01:10<01:12,  3.56it/s]"
     ]
    },
    {
     "name": "stdout",
     "output_type": "stream",
     "text": [
      "0 0.001175\n",
      "1 0.005974\n",
      "2 0.003726\n",
      "3 0.018657\n",
      "4 0.025257\n",
      "5 0.0011\n",
      "6 9e-06\n",
      "7 0.097897\n",
      "8 0.007941\n",
      "hi1\n",
      "0 0.001242\n",
      "1 0.006803\n",
      "2 0.004341\n",
      "3 0.029151\n",
      "4 0.040362\n",
      "5 0.003715\n",
      "6 1.6e-05\n"
     ]
    },
    {
     "name": "stderr",
     "output_type": "stream",
     "text": [
      " 49%|████▊     | 243/499 [01:10<01:15,  3.38it/s]"
     ]
    },
    {
     "name": "stdout",
     "output_type": "stream",
     "text": [
      "7 0.199912\n",
      "8 0.007949\n",
      "hi1\n",
      "0 0.001237\n",
      "1 0.006988\n",
      "2 0.003216\n",
      "3 0.019068\n",
      "4 0.021003\n",
      "5 0.001925\n",
      "6 8e-06\n",
      "7 0.08816\n",
      "8 0.006294\n"
     ]
    },
    {
     "name": "stderr",
     "output_type": "stream",
     "text": [
      " 49%|████▉     | 244/499 [01:10<01:07,  3.77it/s]"
     ]
    },
    {
     "name": "stdout",
     "output_type": "stream",
     "text": [
      "hi1\n",
      "0 0.001609\n",
      "1 0.005827\n",
      "2 0.002817\n",
      "3 0.018311\n",
      "4 0.019327\n",
      "5 0.00168\n",
      "6 5.2e-05\n"
     ]
    },
    {
     "name": "stderr",
     "output_type": "stream",
     "text": [
      " 49%|████▉     | 245/499 [01:11<01:11,  3.53it/s]"
     ]
    },
    {
     "name": "stdout",
     "output_type": "stream",
     "text": [
      "7 0.212042\n",
      "8 0.016989\n",
      "hi1\n",
      "0 0.001381\n",
      "1 0.007376\n",
      "2 0.003628\n",
      "3 0.020437\n",
      "4 0.019591\n",
      "5 0.004078\n",
      "6 1.1e-05\n"
     ]
    },
    {
     "name": "stderr",
     "output_type": "stream",
     "text": [
      " 49%|████▉     | 246/499 [01:11<01:04,  3.93it/s]"
     ]
    },
    {
     "name": "stdout",
     "output_type": "stream",
     "text": [
      "7 0.088687\n",
      "8 0.007042\n",
      "hi1\n",
      "0 0.001483\n",
      "1 0.006097\n",
      "2 0.004696\n",
      "3 0.025776\n",
      "4 0.029998\n",
      "5 0.003013\n",
      "6 9e-06\n"
     ]
    },
    {
     "name": "stderr",
     "output_type": "stream",
     "text": [
      " 49%|████▉     | 247/499 [01:11<01:11,  3.52it/s]"
     ]
    },
    {
     "name": "stdout",
     "output_type": "stream",
     "text": [
      "7 0.209338\n",
      "8 0.017375\n",
      "hi1\n",
      "0 0.001216\n",
      "1 0.005657\n",
      "2 0.005059\n",
      "3 0.020351\n",
      "4 0.025765\n",
      "5 0.002669\n",
      "6 2.6e-05\n"
     ]
    },
    {
     "name": "stderr",
     "output_type": "stream",
     "text": [
      " 50%|████▉     | 248/499 [01:11<01:03,  3.93it/s]"
     ]
    },
    {
     "name": "stdout",
     "output_type": "stream",
     "text": [
      "7 0.086826\n",
      "8 0.005802\n",
      "hi1\n",
      "0 0.001118\n",
      "1 0.005401\n",
      "2 0.003419\n",
      "3 0.02597\n",
      "4 0.026278\n",
      "5 0.001234\n",
      "6 9e-06\n"
     ]
    },
    {
     "name": "stderr",
     "output_type": "stream",
     "text": [
      " 50%|████▉     | 249/499 [01:12<01:09,  3.62it/s]"
     ]
    },
    {
     "name": "stdout",
     "output_type": "stream",
     "text": [
      "7 0.187865\n",
      "8 0.016487\n",
      "hi1\n",
      "0 0.003168\n",
      "1 0.007537\n",
      "2 0.005674\n",
      "3 0.01895\n",
      "4 0.030972\n",
      "5 0.001877\n",
      "6 9e-06\n"
     ]
    },
    {
     "name": "stderr",
     "output_type": "stream",
     "text": [
      " 50%|█████     | 250/499 [01:12<01:03,  3.92it/s]"
     ]
    },
    {
     "name": "stdout",
     "output_type": "stream",
     "text": [
      "7 0.095703\n",
      "8 0.008562\n",
      "hi1\n",
      "0 0.001778\n",
      "1 0.008229\n",
      "2 0.003795\n",
      "3 0.019775\n",
      "4 0.024183\n",
      "5 0.001921\n",
      "6 2.1e-05\n"
     ]
    },
    {
     "name": "stderr",
     "output_type": "stream",
     "text": [
      " 50%|█████     | 251/499 [01:12<01:03,  3.88it/s]"
     ]
    },
    {
     "name": "stdout",
     "output_type": "stream",
     "text": [
      "7 0.139334\n",
      "8 0.008024\n",
      "hi1\n",
      "0 0.002894\n",
      "1 0.008887\n",
      "2 0.006118\n",
      "3 0.039991\n",
      "4 0.038933\n",
      "5 0.004767\n",
      "6 6.4e-05\n"
     ]
    },
    {
     "name": "stderr",
     "output_type": "stream",
     "text": [
      " 51%|█████     | 252/499 [01:12<01:07,  3.66it/s]"
     ]
    },
    {
     "name": "stdout",
     "output_type": "stream",
     "text": [
      "7 0.153258\n",
      "8 0.006992\n",
      "hi1\n",
      "0 0.001394\n",
      "1 0.006514\n",
      "2 0.003625\n",
      "3 0.016932\n",
      "4 0.031956\n",
      "5 0.003232\n",
      "6 8e-06\n"
     ]
    },
    {
     "name": "stderr",
     "output_type": "stream",
     "text": [
      " 51%|█████     | 253/499 [01:13<01:11,  3.43it/s]"
     ]
    },
    {
     "name": "stdout",
     "output_type": "stream",
     "text": [
      "7 0.189867\n",
      "8 0.018325\n",
      "hi1\n",
      "0 0.001608\n",
      "1 0.005476\n",
      "2 0.002536\n",
      "3 0.016211\n",
      "4 0.018528\n",
      "5 0.001411\n",
      "6 8e-06\n",
      "7 0.077516\n",
      "8 0.005783\n"
     ]
    },
    {
     "name": "stderr",
     "output_type": "stream",
     "text": [
      " 51%|█████     | 254/499 [01:13<01:01,  3.96it/s]"
     ]
    },
    {
     "name": "stdout",
     "output_type": "stream",
     "text": [
      "hi1\n",
      "0 0.001426\n",
      "1 0.006649\n",
      "2 0.002466\n",
      "3 0.017051\n",
      "4 0.020185\n",
      "5 0.001619\n",
      "6 9e-06\n",
      "7 0.092262\n",
      "8 0.008021\n",
      "hi1\n"
     ]
    },
    {
     "name": "stderr",
     "output_type": "stream",
     "text": [
      " 51%|█████     | 255/499 [01:13<00:57,  4.22it/s]"
     ]
    },
    {
     "name": "stdout",
     "output_type": "stream",
     "text": [
      "0 0.001705\n",
      "1 0.011556\n",
      "2 0.0068\n",
      "3 0.039005\n",
      "4 0.03245\n",
      "5 0.005003\n",
      "6 2.3e-05\n"
     ]
    },
    {
     "name": "stderr",
     "output_type": "stream",
     "text": [
      " 52%|█████▏    | 257/499 [01:14<00:55,  4.38it/s]"
     ]
    },
    {
     "name": "stdout",
     "output_type": "stream",
     "text": [
      "7 0.139157\n",
      "8 0.005929\n",
      "hi1\n",
      "0 0.002422\n",
      "1 0.008497\n",
      "2 0.004317\n",
      "3 0.01832\n",
      "4 0.019885\n",
      "5 0.001387\n",
      "6 8e-06\n",
      "7 0.079996\n",
      "8 0.00625\n",
      "hi1\n",
      "0 0.001165\n",
      "1 0.005997\n",
      "2 0.002895\n",
      "3 0.016922\n",
      "4 0.019999\n",
      "5 0.002917\n",
      "6 7e-06\n"
     ]
    },
    {
     "name": "stderr",
     "output_type": "stream",
     "text": [
      " 52%|█████▏    | 258/499 [01:14<01:01,  3.94it/s]"
     ]
    },
    {
     "name": "stdout",
     "output_type": "stream",
     "text": [
      "7 0.195983\n",
      "8 0.016978\n",
      "hi1\n",
      "0 0.004433\n",
      "1 0.017598\n",
      "2 0.006053\n",
      "3 0.019273\n",
      "4 0.018771\n",
      "5 0.001932\n",
      "6 8e-06\n"
     ]
    },
    {
     "name": "stderr",
     "output_type": "stream",
     "text": [
      " 52%|█████▏    | 259/499 [01:14<00:56,  4.25it/s]"
     ]
    },
    {
     "name": "stdout",
     "output_type": "stream",
     "text": [
      "7 0.083103\n",
      "8 0.006754\n",
      "hi1\n",
      "0 0.001428\n",
      "1 0.005392\n",
      "2 0.005721\n",
      "3 0.019792\n",
      "4 0.020796\n",
      "5 0.001969\n",
      "6 6e-06\n",
      "7 0.094763\n"
     ]
    },
    {
     "name": "stderr",
     "output_type": "stream",
     "text": [
      " 52%|█████▏    | 260/499 [01:14<00:56,  4.25it/s]"
     ]
    },
    {
     "name": "stdout",
     "output_type": "stream",
     "text": [
      "8 0.016989\n",
      "hi1\n",
      "0 0.002571\n",
      "1 0.011393\n",
      "2 0.009722\n",
      "3 0.034655\n",
      "4 0.039769\n",
      "5 0.003404\n",
      "6 9.1e-05\n"
     ]
    },
    {
     "name": "stderr",
     "output_type": "stream",
     "text": [
      " 52%|█████▏    | 261/499 [01:15<01:05,  3.64it/s]"
     ]
    },
    {
     "name": "stdout",
     "output_type": "stream",
     "text": [
      "7 0.187671\n",
      "8 0.010803\n",
      "hi1\n",
      "0 0.001373\n",
      "1 0.006563\n",
      "2 0.003224\n",
      "3 0.016567\n",
      "4 0.020201\n",
      "5 0.001477\n",
      "6 6e-06\n"
     ]
    },
    {
     "name": "stderr",
     "output_type": "stream",
     "text": [
      " 53%|█████▎    | 262/499 [01:15<00:59,  4.02it/s]"
     ]
    },
    {
     "name": "stdout",
     "output_type": "stream",
     "text": [
      "7 0.094725\n",
      "8 0.008178\n",
      "hi1\n",
      "0 0.00117\n",
      "1 0.007231\n",
      "2 0.006279\n",
      "3 0.025526\n",
      "4 0.023886\n",
      "5 0.002145\n",
      "6 1.1e-05\n"
     ]
    },
    {
     "name": "stderr",
     "output_type": "stream",
     "text": [
      " 53%|█████▎    | 263/499 [01:15<00:59,  4.00it/s]"
     ]
    },
    {
     "name": "stdout",
     "output_type": "stream",
     "text": [
      "7 0.143788\n",
      "8 0.007792\n",
      "hi1\n",
      "0 0.001322\n",
      "1 0.005329\n",
      "2 0.002643\n",
      "3 0.014359\n",
      "4 0.016574\n",
      "5 0.001196\n",
      "6 5e-06\n",
      "7 0.085291\n",
      "8 0.006055\n"
     ]
    },
    {
     "name": "stderr",
     "output_type": "stream",
     "text": [
      " 53%|█████▎    | 264/499 [01:15<00:52,  4.46it/s]"
     ]
    },
    {
     "name": "stdout",
     "output_type": "stream",
     "text": [
      "hi1\n",
      "0 0.001168\n",
      "1 0.005464\n",
      "2 0.003653\n",
      "3 0.018507\n",
      "4 0.020922\n",
      "5 0.001219\n",
      "6 6e-06\n",
      "7 0.108877\n",
      "8 0.008643\n"
     ]
    },
    {
     "name": "stderr",
     "output_type": "stream",
     "text": [
      " 53%|█████▎    | 265/499 [01:16<00:52,  4.48it/s]"
     ]
    },
    {
     "name": "stdout",
     "output_type": "stream",
     "text": [
      "hi1\n",
      "0 0.001779\n",
      "1 0.00629\n",
      "2 0.005085\n",
      "3 0.021304\n",
      "4 0.023937\n",
      "5 0.001728\n",
      "6 2.6e-05\n",
      "7 0.110279\n",
      "8 0.008382\n"
     ]
    },
    {
     "name": "stderr",
     "output_type": "stream",
     "text": [
      " 54%|█████▎    | 267/499 [01:16<00:48,  4.75it/s]"
     ]
    },
    {
     "name": "stdout",
     "output_type": "stream",
     "text": [
      "hi1\n",
      "0 0.001185\n",
      "1 0.005778\n",
      "2 0.003609\n",
      "3 0.016908\n",
      "4 0.019363\n",
      "5 0.001505\n",
      "6 1.4e-05\n",
      "7 0.088777\n",
      "8 0.007077\n",
      "hi1\n",
      "0 0.001524\n",
      "1 0.006283\n",
      "2 0.003525\n"
     ]
    },
    {
     "name": "stderr",
     "output_type": "stream",
     "text": [
      " 54%|█████▎    | 268/499 [01:16<00:48,  4.74it/s]"
     ]
    },
    {
     "name": "stdout",
     "output_type": "stream",
     "text": [
      "3 0.019315\n",
      "4 0.022502\n",
      "5 0.001132\n",
      "6 1e-05\n",
      "7 0.114822\n",
      "8 0.010255\n",
      "hi1\n",
      "0 0.002322\n",
      "1 0.010339\n",
      "2 0.005433\n"
     ]
    },
    {
     "name": "stderr",
     "output_type": "stream",
     "text": [
      " 54%|█████▍    | 269/499 [01:16<00:50,  4.55it/s]"
     ]
    },
    {
     "name": "stdout",
     "output_type": "stream",
     "text": [
      "3 0.031551\n",
      "4 0.034573\n",
      "5 0.003228\n",
      "6 2.8e-05\n",
      "7 0.111584\n",
      "8 0.005781\n",
      "hi1\n",
      "0 0.001236\n",
      "1 0.006375\n",
      "2 0.004072\n",
      "3 0.016311\n",
      "4 0.021917\n",
      "5 0.002212\n",
      "6 1e-05\n"
     ]
    },
    {
     "name": "stderr",
     "output_type": "stream",
     "text": [
      " 54%|█████▍    | 270/499 [01:17<00:48,  4.70it/s]"
     ]
    },
    {
     "name": "stdout",
     "output_type": "stream",
     "text": [
      "7 0.093633\n",
      "8 0.007594\n",
      "hi1\n",
      "0 0.003617\n",
      "1 0.009602\n",
      "2 0.007637\n",
      "3 0.038684\n",
      "4 0.036827\n",
      "5 0.002723\n",
      "6 6.2e-05\n"
     ]
    },
    {
     "name": "stderr",
     "output_type": "stream",
     "text": [
      " 54%|█████▍    | 271/499 [01:17<00:59,  3.84it/s]"
     ]
    },
    {
     "name": "stdout",
     "output_type": "stream",
     "text": [
      "7 0.20837\n",
      "8 0.019389\n",
      "hi1\n",
      "0 0.001449\n",
      "1 0.005832\n",
      "2 0.002977\n",
      "3 0.015577\n",
      "4 0.019267\n",
      "5 0.004253\n",
      "6 7e-06\n",
      "7 0.071914\n",
      "8 0.007424\n"
     ]
    },
    {
     "name": "stderr",
     "output_type": "stream",
     "text": [
      " 55%|█████▍    | 272/499 [01:17<00:52,  4.34it/s]"
     ]
    },
    {
     "name": "stdout",
     "output_type": "stream",
     "text": [
      "hi1\n",
      "0 0.001368\n",
      "1 0.005915\n",
      "2 0.002922\n",
      "3 0.025801\n",
      "4 0.037522\n",
      "5 0.001851\n",
      "6 2e-05\n"
     ]
    },
    {
     "name": "stderr",
     "output_type": "stream",
     "text": [
      " 55%|█████▍    | 274/499 [01:18<00:49,  4.51it/s]"
     ]
    },
    {
     "name": "stdout",
     "output_type": "stream",
     "text": [
      "7 0.17039\n",
      "8 0.006816\n",
      "hi1\n",
      "0 0.005383\n",
      "1 0.008855\n",
      "2 0.00291\n",
      "3 0.017467\n",
      "4 0.023405\n",
      "5 0.001402\n",
      "6 9e-06\n",
      "7 0.074061\n",
      "8 0.005614\n",
      "hi1\n",
      "0 0.001191\n"
     ]
    },
    {
     "name": "stderr",
     "output_type": "stream",
     "text": [
      " 55%|█████▌    | 275/499 [01:18<00:48,  4.58it/s]"
     ]
    },
    {
     "name": "stdout",
     "output_type": "stream",
     "text": [
      "1 0.005728\n",
      "2 0.002638\n",
      "3 0.014253\n",
      "4 0.017076\n",
      "5 0.002038\n",
      "6 8e-06\n",
      "7 0.098978\n",
      "8 0.014953\n",
      "hi1\n",
      "0 0.00222\n",
      "1 0.018083\n",
      "2 0.010687\n",
      "3 0.030708\n",
      "4 0.035084\n",
      "5 0.002965\n",
      "6 2.7e-05\n"
     ]
    },
    {
     "name": "stderr",
     "output_type": "stream",
     "text": [
      " 55%|█████▌    | 276/499 [01:18<00:52,  4.24it/s]"
     ]
    },
    {
     "name": "stdout",
     "output_type": "stream",
     "text": [
      "7 0.123078\n",
      "8 0.006119\n",
      "hi1\n",
      "0 0.001248\n",
      "1 0.005814\n",
      "2 0.003675\n",
      "3 0.015604\n",
      "4 0.021703\n",
      "5 0.001247\n",
      "6 2.1e-05\n",
      "7 0.089977\n",
      "8 0.007509\n"
     ]
    },
    {
     "name": "stderr",
     "output_type": "stream",
     "text": [
      " 56%|█████▌    | 277/499 [01:18<00:50,  4.37it/s]"
     ]
    },
    {
     "name": "stdout",
     "output_type": "stream",
     "text": [
      "hi1\n",
      "0 0.003171\n",
      "1 0.006915\n",
      "2 0.007794\n",
      "3 0.029858\n",
      "4 0.031924\n",
      "5 0.004958\n",
      "6 7e-05\n",
      "7 0.100715\n",
      "8 0.005718\n"
     ]
    },
    {
     "name": "stderr",
     "output_type": "stream",
     "text": [
      " 56%|█████▌    | 279/499 [01:19<00:44,  4.92it/s]"
     ]
    },
    {
     "name": "stdout",
     "output_type": "stream",
     "text": [
      "hi1\n",
      "0 0.001697\n",
      "1 0.005999\n",
      "2 0.002946\n",
      "3 0.014035\n",
      "4 0.018013\n",
      "5 0.001481\n",
      "6 6e-06\n",
      "7 0.073059\n",
      "8 0.005879\n",
      "hi1\n",
      "0 0.002404\n",
      "1 0.005915\n",
      "2 0.004182\n",
      "3 0.015841\n",
      "4 0.017762\n"
     ]
    },
    {
     "name": "stderr",
     "output_type": "stream",
     "text": [
      " 56%|█████▌    | 280/499 [01:19<00:46,  4.76it/s]"
     ]
    },
    {
     "name": "stdout",
     "output_type": "stream",
     "text": [
      "5 0.002167\n",
      "6 2.3e-05\n",
      "7 0.138048\n",
      "8 0.007621\n",
      "hi1\n",
      "0 0.001228\n",
      "1 0.005917\n",
      "2 0.004057\n",
      "3 0.015157\n",
      "4 0.020288\n",
      "5 0.001429\n",
      "6 7e-06\n"
     ]
    },
    {
     "name": "stderr",
     "output_type": "stream",
     "text": [
      " 57%|█████▋    | 282/499 [01:19<00:40,  5.39it/s]"
     ]
    },
    {
     "name": "stdout",
     "output_type": "stream",
     "text": [
      "7 0.092563\n",
      "8 0.006282\n",
      "hi1\n",
      "0 0.001177\n",
      "1 0.005584\n",
      "2 0.003213\n",
      "3 0.015587\n",
      "4 0.018436\n",
      "5 0.001271\n",
      "6 5e-06\n",
      "7 0.076204\n",
      "8 0.005477\n",
      "hi1\n",
      "0 0.001184\n",
      "1 0.005515\n",
      "2 0.003644\n",
      "3 0.018813\n",
      "4 0.030432\n",
      "5 0.001334\n",
      "6 1.8e-05\n",
      "7 0.182123\n"
     ]
    },
    {
     "name": "stderr",
     "output_type": "stream",
     "text": [
      " 57%|█████▋    | 283/499 [01:20<00:49,  4.36it/s]"
     ]
    },
    {
     "name": "stdout",
     "output_type": "stream",
     "text": [
      "8 0.023245\n",
      "hi1\n",
      "0 0.001578\n",
      "1 0.006584\n",
      "2 0.003474\n",
      "3 0.020987\n",
      "4 0.028946\n",
      "5 0.001857\n",
      "6 7e-06\n"
     ]
    },
    {
     "name": "stderr",
     "output_type": "stream",
     "text": [
      " 57%|█████▋    | 284/499 [01:20<00:47,  4.50it/s]"
     ]
    },
    {
     "name": "stdout",
     "output_type": "stream",
     "text": [
      "7 0.084405\n",
      "8 0.007796\n",
      "hi1\n",
      "0 0.001157\n",
      "1 0.005983\n",
      "2 0.003956\n",
      "3 0.017145\n",
      "4 0.023333\n",
      "5 0.001386\n",
      "6 5e-06\n",
      "7 0.09494\n"
     ]
    },
    {
     "name": "stderr",
     "output_type": "stream",
     "text": [
      " 57%|█████▋    | 285/499 [01:20<00:48,  4.38it/s]"
     ]
    },
    {
     "name": "stdout",
     "output_type": "stream",
     "text": [
      "8 0.013461\n",
      "hi1\n",
      "0 0.001893\n",
      "1 0.008684\n",
      "2 0.007256\n",
      "3 0.02962\n",
      "4 0.036791\n",
      "5 0.001792\n",
      "6 7e-06\n"
     ]
    },
    {
     "name": "stderr",
     "output_type": "stream",
     "text": [
      " 57%|█████▋    | 286/499 [01:20<00:48,  4.35it/s]"
     ]
    },
    {
     "name": "stdout",
     "output_type": "stream",
     "text": [
      "7 0.101795\n",
      "8 0.006853\n",
      "hi1\n",
      "0 0.001145\n",
      "1 0.005514\n",
      "2 0.002898\n",
      "3 0.015339\n",
      "4 0.019378\n",
      "5 0.001621\n",
      "6 6e-06\n",
      "7 0.095116\n",
      "8 0.006534\n"
     ]
    },
    {
     "name": "stderr",
     "output_type": "stream",
     "text": [
      " 58%|█████▊    | 287/499 [01:20<00:46,  4.61it/s]"
     ]
    },
    {
     "name": "stdout",
     "output_type": "stream",
     "text": [
      "hi1\n",
      "0 0.001294\n",
      "1 0.006106\n",
      "2 0.004779\n",
      "3 0.01617\n",
      "4 0.022294\n",
      "5 0.003\n",
      "6 1.7e-05\n"
     ]
    },
    {
     "name": "stderr",
     "output_type": "stream",
     "text": [
      " 58%|█████▊    | 288/499 [01:21<00:50,  4.22it/s]"
     ]
    },
    {
     "name": "stdout",
     "output_type": "stream",
     "text": [
      "7 0.186782\n",
      "8 0.007526\n",
      "hi1\n",
      "0 0.001832\n",
      "1 0.007622\n",
      "2 0.002655\n",
      "3 0.016012\n",
      "4 0.021862\n",
      "5 0.001618\n",
      "6 6e-06\n",
      "7 0.073835\n",
      "8 0.005732\n"
     ]
    },
    {
     "name": "stderr",
     "output_type": "stream",
     "text": [
      " 58%|█████▊    | 290/499 [01:21<00:41,  5.01it/s]"
     ]
    },
    {
     "name": "stdout",
     "output_type": "stream",
     "text": [
      "hi1\n",
      "0 0.001235\n",
      "1 0.005914\n",
      "2 0.003687\n",
      "3 0.015141\n",
      "4 0.01883\n",
      "5 0.001735\n",
      "6 7e-06\n",
      "7 0.079074\n",
      "8 0.006387\n",
      "hi1\n",
      "0 0.004556\n",
      "1 0.005755\n",
      "2 0.003273\n",
      "3 0.013426\n",
      "4"
     ]
    },
    {
     "name": "stderr",
     "output_type": "stream",
     "text": [
      " 58%|█████▊    | 291/499 [01:21<00:39,  5.26it/s]"
     ]
    },
    {
     "name": "stdout",
     "output_type": "stream",
     "text": [
      " 0.020895\n",
      "5 0.001965\n",
      "6 1.8e-05\n",
      "7 0.082377\n",
      "8 0.005694\n",
      "hi1\n",
      "0 0.001466\n",
      "1 0.006319\n",
      "2 0.003072\n",
      "3 0.013815\n",
      "4 0.020178\n",
      "5 0.001288\n",
      "6 5e-06\n"
     ]
    },
    {
     "name": "stderr",
     "output_type": "stream",
     "text": [
      " 59%|█████▊    | 293/499 [01:22<00:35,  5.82it/s]"
     ]
    },
    {
     "name": "stdout",
     "output_type": "stream",
     "text": [
      "7 0.073396\n",
      "8 0.005731\n",
      "hi1\n",
      "0 0.001148\n",
      "1 0.005486\n",
      "2 0.007602\n",
      "3 0.017487\n",
      "4 0.020254\n",
      "5 0.002026\n",
      "6 6e-06\n",
      "7 0.06625\n",
      "8 0.005895\n",
      "hi1\n",
      "0 0.001251\n",
      "1 0.005503\n",
      "2 0.003252\n"
     ]
    },
    {
     "name": "stderr",
     "output_type": "stream",
     "text": [
      " 59%|█████▉    | 294/499 [01:22<00:34,  5.86it/s]"
     ]
    },
    {
     "name": "stdout",
     "output_type": "stream",
     "text": [
      "3 0.013803\n",
      "4 0.01607\n",
      "5 0.003783\n",
      "6 2e-05\n",
      "7 0.085506\n",
      "8 0.006288\n",
      "hi1\n",
      "0 0.001843\n",
      "1 0.006538\n",
      "2 0.004342\n",
      "3 0.015693\n",
      "4 0.018768\n",
      "5 0.002679\n",
      "6 9e-06\n"
     ]
    },
    {
     "name": "stderr",
     "output_type": "stream",
     "text": [
      " 59%|█████▉    | 295/499 [01:22<00:35,  5.76it/s]"
     ]
    },
    {
     "name": "stdout",
     "output_type": "stream",
     "text": [
      "7 0.084501\n",
      "8 0.00595\n",
      "hi1\n",
      "0 0.00117\n",
      "1 0.005483\n",
      "2 0.003484\n",
      "3 0.013323\n",
      "4 0.017939\n",
      "5 0.001582\n",
      "6 7e-06\n",
      "7 0.090275\n",
      "8 0.005421\n"
     ]
    },
    {
     "name": "stderr",
     "output_type": "stream",
     "text": [
      " 60%|█████▉    | 297/499 [01:22<00:34,  5.93it/s]"
     ]
    },
    {
     "name": "stdout",
     "output_type": "stream",
     "text": [
      "hi1\n",
      "0 0.001182\n",
      "1 0.006588\n",
      "2 0.003588\n",
      "3 0.016002\n",
      "4 0.021803\n",
      "5 0.001783\n",
      "6 1e-05\n",
      "7 0.076834\n",
      "8 0.005796\n",
      "hi1\n",
      "0 0.001119\n",
      "1 0.005676\n",
      "2 0.00281\n",
      "3 0.013318\n",
      "4 0.018654\n",
      "5"
     ]
    },
    {
     "name": "stderr",
     "output_type": "stream",
     "text": [
      " 60%|█████▉    | 298/499 [01:22<00:35,  5.63it/s]"
     ]
    },
    {
     "name": "stdout",
     "output_type": "stream",
     "text": [
      " 0.001307\n",
      "6 4.9e-05\n",
      "7 0.100606\n",
      "8 0.006288\n",
      "hi1\n",
      "0 0.001258\n",
      "1 0.005742\n",
      "2 0.003755\n",
      "3 0.01525\n",
      "4 0.018654\n",
      "5 0.002058\n",
      "6 6e-06\n"
     ]
    },
    {
     "name": "stderr",
     "output_type": "stream",
     "text": [
      " 60%|██████    | 300/499 [01:23<00:33,  5.89it/s]"
     ]
    },
    {
     "name": "stdout",
     "output_type": "stream",
     "text": [
      "7 0.072789\n",
      "8 0.006727\n",
      "hi1\n",
      "0 0.001207\n",
      "1 0.005314\n",
      "2 0.003924\n",
      "3 0.014091\n",
      "4 0.018931\n",
      "5 0.00139\n",
      "6 6e-06\n",
      "7 0.077111\n",
      "8 0.005117\n",
      "hi1\n"
     ]
    },
    {
     "name": "stderr",
     "output_type": "stream",
     "text": [
      " 60%|██████    | 301/499 [01:23<00:33,  5.92it/s]"
     ]
    },
    {
     "name": "stdout",
     "output_type": "stream",
     "text": [
      "0 0.002096\n",
      "1 0.006072\n",
      "2 0.003725\n",
      "3 0.012158\n",
      "4 0.022012\n",
      "5 0.002122\n",
      "6 1e-05\n",
      "7 0.07936\n",
      "8 0.005718\n",
      "hi1\n",
      "0 0.001193\n",
      "1 0.006998\n",
      "2 0.003409\n",
      "3 0.01303\n",
      "4"
     ]
    },
    {
     "name": "stderr",
     "output_type": "stream",
     "text": [
      " 61%|██████    | 302/499 [01:23<00:32,  6.00it/s]"
     ]
    },
    {
     "name": "stdout",
     "output_type": "stream",
     "text": [
      " 0.017948\n",
      "5 0.001419\n",
      "6 6e-06\n",
      "7 0.078683\n",
      "8 0.005713\n",
      "hi1\n",
      "0 0.00113\n",
      "1 0.00541\n",
      "2 0.003571\n",
      "3 0.012007\n",
      "4 0.017035\n",
      "5 0.001339\n",
      "6 6e-06\n"
     ]
    },
    {
     "name": "stderr",
     "output_type": "stream",
     "text": [
      " 61%|██████    | 304/499 [01:23<00:31,  6.25it/s]"
     ]
    },
    {
     "name": "stdout",
     "output_type": "stream",
     "text": [
      "7 0.065564\n",
      "8 0.00794\n",
      "hi1\n",
      "0 0.002929\n",
      "1 0.006569\n",
      "2 0.002641\n",
      "3 0.014597\n",
      "4 0.019788\n",
      "5 0.002221\n",
      "6 1.1e-05\n",
      "7 0.074325\n",
      "8 0.005776\n",
      "hi1\n",
      "0 0.001185\n",
      "1 0.005606\n",
      "2"
     ]
    },
    {
     "name": "stderr",
     "output_type": "stream",
     "text": [
      " 61%|██████    | 305/499 [01:24<00:31,  6.10it/s]"
     ]
    },
    {
     "name": "stdout",
     "output_type": "stream",
     "text": [
      " 0.002638\n",
      "3 0.013321\n",
      "4 0.018465\n",
      "5 0.002762\n",
      "6 1.9e-05\n",
      "7 0.08811\n",
      "8 0.007256\n",
      "hi1\n",
      "0 0.001114\n",
      "1 0.005927\n",
      "2 0.00364\n",
      "3 0.012117\n",
      "4 0.015355\n",
      "5"
     ]
    },
    {
     "name": "stderr",
     "output_type": "stream",
     "text": [
      " 61%|██████▏   | 306/499 [01:24<00:31,  6.18it/s]"
     ]
    },
    {
     "name": "stdout",
     "output_type": "stream",
     "text": [
      " 0.001238\n",
      "6 2.9e-05\n",
      "7 0.079735\n",
      "8 0.006119\n",
      "hi1\n",
      "0 0.001524\n",
      "1 0.005831\n",
      "2 0.00387\n",
      "3 0.013689\n",
      "4 0.018782\n",
      "5 0.004099\n",
      "6 1.8e-05\n"
     ]
    },
    {
     "name": "stderr",
     "output_type": "stream",
     "text": [
      " 62%|██████▏   | 307/499 [01:24<00:33,  5.79it/s]"
     ]
    },
    {
     "name": "stdout",
     "output_type": "stream",
     "text": [
      "7 0.102273\n",
      "8 0.008848\n",
      "hi1\n",
      "0 0.001268\n",
      "1 0.006341\n",
      "2 0.003881\n",
      "3 0.013578\n",
      "4 0.018855\n",
      "5 0.00156\n",
      "6 7e-06\n",
      "7 0.079183\n",
      "8 0.00632\n"
     ]
    },
    {
     "name": "stderr",
     "output_type": "stream",
     "text": [
      " 62%|██████▏   | 308/499 [01:24<00:32,  5.92it/s]"
     ]
    },
    {
     "name": "stdout",
     "output_type": "stream",
     "text": [
      "hi1\n",
      "0 0.001216\n",
      "1 0.006215\n",
      "2 0.00285\n",
      "3 0.011301\n",
      "4 0.017457\n",
      "5 0.002621\n",
      "6 2.3e-05\n"
     ]
    },
    {
     "name": "stderr",
     "output_type": "stream",
     "text": [
      " 62%|██████▏   | 309/499 [01:24<00:38,  4.99it/s]"
     ]
    },
    {
     "name": "stdout",
     "output_type": "stream",
     "text": [
      "7 0.153654\n",
      "8 0.015456\n",
      "hi1\n",
      "0 0.002665\n",
      "1 0.009885\n",
      "2 0.006052\n",
      "3 0.026133\n",
      "4 0.029251\n",
      "5 0.00286\n",
      "6 1.2e-05\n"
     ]
    },
    {
     "name": "stderr",
     "output_type": "stream",
     "text": [
      " 62%|██████▏   | 310/499 [01:25<00:41,  4.56it/s]"
     ]
    },
    {
     "name": "stdout",
     "output_type": "stream",
     "text": [
      "7 0.141915\n",
      "8 0.007895\n",
      "hi1\n",
      "0 0.001218\n",
      "1 0.005516\n",
      "2 0.003746\n",
      "3 0.01479\n",
      "4 0.024143\n",
      "5 0.002634\n",
      "6 8e-06\n",
      "7 0.098746\n"
     ]
    },
    {
     "name": "stderr",
     "output_type": "stream",
     "text": [
      " 62%|██████▏   | 311/499 [01:25<00:42,  4.44it/s]"
     ]
    },
    {
     "name": "stdout",
     "output_type": "stream",
     "text": [
      "8 0.015481\n",
      "hi1\n",
      "0 0.001551\n",
      "1 0.00857\n",
      "2 0.007452\n",
      "3 0.023038\n",
      "4 0.027924\n",
      "5 0.003799\n",
      "6 8e-06\n"
     ]
    },
    {
     "name": "stderr",
     "output_type": "stream",
     "text": [
      " 63%|██████▎   | 312/499 [01:25<00:45,  4.13it/s]"
     ]
    },
    {
     "name": "stdout",
     "output_type": "stream",
     "text": [
      "7 0.14297\n",
      "8 0.015173\n",
      "hi1\n",
      "0 0.002101\n",
      "1 0.010547\n",
      "2 0.009353\n",
      "3 0.030557\n",
      "4 0.033252\n",
      "5 0.003616\n",
      "6 8e-06\n"
     ]
    },
    {
     "name": "stderr",
     "output_type": "stream",
     "text": [
      " 63%|██████▎   | 313/499 [01:25<00:48,  3.80it/s]"
     ]
    },
    {
     "name": "stdout",
     "output_type": "stream",
     "text": [
      "7 0.157681\n",
      "8 0.014068\n",
      "hi1\n",
      "0 0.001322\n",
      "1 0.007902\n",
      "2 0.005229\n",
      "3 0.023998\n",
      "4 0.026532\n",
      "5 0.001633\n",
      "6 2.2e-05\n"
     ]
    },
    {
     "name": "stderr",
     "output_type": "stream",
     "text": [
      " 63%|██████▎   | 314/499 [01:26<00:47,  3.93it/s]"
     ]
    },
    {
     "name": "stdout",
     "output_type": "stream",
     "text": [
      "7 0.111371\n",
      "8 0.006927\n",
      "hi1\n",
      "0 0.001539\n",
      "1 0.00581\n",
      "2 0.00487\n",
      "3 0.014337\n",
      "4 0.020506\n",
      "5 0.001652\n",
      "6 1.4e-05\n",
      "7 0.079488\n",
      "8 0.005481\n"
     ]
    },
    {
     "name": "stderr",
     "output_type": "stream",
     "text": [
      " 63%|██████▎   | 316/499 [01:26<00:39,  4.65it/s]"
     ]
    },
    {
     "name": "stdout",
     "output_type": "stream",
     "text": [
      "hi1\n",
      "0 0.001509\n",
      "1 0.005562\n",
      "2 0.003817\n",
      "3 0.013524\n",
      "4 0.017801\n",
      "5 0.001117\n",
      "6 6e-06\n",
      "7 0.092392\n",
      "8 0.010081\n",
      "hi1\n",
      "0 0.001121\n",
      "1 0.005523\n",
      "2 0.002562\n"
     ]
    },
    {
     "name": "stderr",
     "output_type": "stream",
     "text": [
      " 64%|██████▎   | 317/499 [01:26<00:38,  4.78it/s]"
     ]
    },
    {
     "name": "stdout",
     "output_type": "stream",
     "text": [
      "3 0.01206\n",
      "4 0.016297\n",
      "5 0.001527\n",
      "6 7e-06\n",
      "7 0.106335\n",
      "8 0.016263\n",
      "hi1\n",
      "0 0.001267\n",
      "1 0.005643\n",
      "2 0.003485\n",
      "3 0.014167\n",
      "4 0.020398\n",
      "5 0.002991\n",
      "6 9e-06\n"
     ]
    },
    {
     "name": "stderr",
     "output_type": "stream",
     "text": [
      " 64%|██████▎   | 318/499 [01:26<00:36,  4.95it/s]"
     ]
    },
    {
     "name": "stdout",
     "output_type": "stream",
     "text": [
      "7 0.100814\n",
      "8 0.008258\n",
      "hi1\n",
      "0 0.001214\n",
      "1 0.005425\n",
      "2 0.003366\n",
      "3 0.011451\n",
      "4 0.013954\n",
      "5 0.001424\n",
      "6 5e-06\n",
      "7 0.085369\n",
      "8 0.016748\n"
     ]
    },
    {
     "name": "stderr",
     "output_type": "stream",
     "text": [
      " 64%|██████▍   | 320/499 [01:27<00:31,  5.74it/s]"
     ]
    },
    {
     "name": "stdout",
     "output_type": "stream",
     "text": [
      "hi1\n",
      "0 0.001422\n",
      "1 0.005965\n",
      "2 0.002971\n",
      "3 0.010599\n",
      "4 0.013442\n",
      "5 0.001636\n",
      "6 2.1e-05\n",
      "7 0.06348\n",
      "8 0.00511\n",
      "hi1\n",
      "0 0.002966\n",
      "1 0.005348\n",
      "2 0.00302\n",
      "3 0.011131\n",
      "4 0.019703\n",
      "5 0.001336\n",
      "6 6.2e-05\n"
     ]
    },
    {
     "name": "stderr",
     "output_type": "stream",
     "text": [
      " 64%|██████▍   | 321/499 [01:27<00:31,  5.66it/s]"
     ]
    },
    {
     "name": "stdout",
     "output_type": "stream",
     "text": [
      "7 0.080783\n",
      "8 0.00963\n",
      "hi1\n",
      "0 0.00143\n",
      "1 0.007594\n",
      "2 0.009184\n",
      "3 0.026624\n",
      "4 0.025713\n",
      "5 0.002237\n",
      "6 1.7e-05\n"
     ]
    },
    {
     "name": "stderr",
     "output_type": "stream",
     "text": [
      " 65%|██████▍   | 322/499 [01:27<00:38,  4.54it/s]"
     ]
    },
    {
     "name": "stdout",
     "output_type": "stream",
     "text": [
      "7 0.14338\n",
      "8 0.012105\n",
      "hi1\n",
      "0 0.002063\n",
      "1 0.011428\n",
      "2 0.005423\n",
      "3 0.029731\n",
      "4 0.026752\n",
      "5 0.002967\n",
      "6 2.5e-05\n"
     ]
    },
    {
     "name": "stderr",
     "output_type": "stream",
     "text": [
      " 65%|██████▍   | 324/499 [01:28<00:34,  5.10it/s]"
     ]
    },
    {
     "name": "stdout",
     "output_type": "stream",
     "text": [
      "7 0.097675\n",
      "8 0.014168\n",
      "hi1\n",
      "0 0.001251\n",
      "1 0.007036\n",
      "2 0.003929\n",
      "3 0.011562\n",
      "4 0.013112\n",
      "5 0.001445\n",
      "6 9e-06\n",
      "7 0.063359\n",
      "8 0.00503\n",
      "hi1\n",
      "0 0.001283\n",
      "1 0.005299\n",
      "2 0.002752\n",
      "3 0.010436\n",
      "4"
     ]
    },
    {
     "name": "stderr",
     "output_type": "stream",
     "text": [
      " 65%|██████▌   | 325/499 [01:28<00:32,  5.42it/s]"
     ]
    },
    {
     "name": "stdout",
     "output_type": "stream",
     "text": [
      " 0.014444\n",
      "5 0.00121\n",
      "6 6e-06\n",
      "7 0.081117\n",
      "8 0.006382\n",
      "hi1\n",
      "0 0.001384\n",
      "1 0.005601\n",
      "2 0.003789\n",
      "3 0.011413\n",
      "4 0.017279\n",
      "5 0.001819\n",
      "6 1.4e-05\n"
     ]
    },
    {
     "name": "stderr",
     "output_type": "stream",
     "text": [
      " 65%|██████▌   | 326/499 [01:28<00:32,  5.24it/s]"
     ]
    },
    {
     "name": "stdout",
     "output_type": "stream",
     "text": [
      "7 0.08804\n",
      "8 0.010567\n",
      "hi1\n",
      "0 0.002251\n",
      "1 0.012017\n",
      "2 0.005494\n",
      "3 0.020982\n",
      "4 0.026858\n",
      "5 0.003349\n",
      "6 2.5e-05\n"
     ]
    },
    {
     "name": "stderr",
     "output_type": "stream",
     "text": [
      " 66%|██████▌   | 327/499 [01:28<00:35,  4.80it/s]"
     ]
    },
    {
     "name": "stdout",
     "output_type": "stream",
     "text": [
      "7 0.122748\n",
      "8 0.008815\n",
      "hi1\n",
      "0 0.001337\n",
      "1 0.00837\n",
      "2 0.006075\n",
      "3 0.026626\n",
      "4 0.032957\n",
      "5 0.002698\n",
      "6 5.9e-05\n"
     ]
    },
    {
     "name": "stderr",
     "output_type": "stream",
     "text": [
      " 66%|██████▌   | 328/499 [01:28<00:40,  4.23it/s]"
     ]
    },
    {
     "name": "stdout",
     "output_type": "stream",
     "text": [
      "7 0.147157\n",
      "8 0.017111\n",
      "hi1\n",
      "0 0.004197\n",
      "1 0.012252\n",
      "2 0.006583\n",
      "3 0.021359\n",
      "4 0.028882\n",
      "5 0.002491\n",
      "6 1.3e-05\n"
     ]
    },
    {
     "name": "stderr",
     "output_type": "stream",
     "text": [
      " 66%|██████▌   | 330/499 [01:29<00:36,  4.65it/s]"
     ]
    },
    {
     "name": "stdout",
     "output_type": "stream",
     "text": [
      "7 0.148044\n",
      "8 0.009591\n",
      "hi1\n",
      "0 0.00126\n",
      "1 0.005578\n",
      "2 0.003783\n",
      "3 0.011111\n",
      "4 0.013397\n",
      "5 0.001571\n",
      "6 7e-06\n",
      "7 0.064195\n",
      "8 0.008054\n",
      "hi1\n",
      "0 0.001265\n",
      "1 0.005853\n",
      "2 0.003006\n",
      "3 0.011018\n",
      "4"
     ]
    },
    {
     "name": "stderr",
     "output_type": "stream",
     "text": [
      " 66%|██████▋   | 331/499 [01:29<00:32,  5.25it/s]"
     ]
    },
    {
     "name": "stdout",
     "output_type": "stream",
     "text": [
      " 0.017328\n",
      "5 0.001221\n",
      "6 9e-06\n",
      "7 0.064415\n",
      "8 0.005292\n",
      "hi1\n",
      "0 0.001218\n",
      "1 0.005322\n",
      "2 0.003068\n",
      "3 0.010204\n",
      "4 0.012614\n",
      "5 0.003702\n",
      "6 7e-06\n",
      "7 0.063466\n",
      "8 0.006201\n"
     ]
    },
    {
     "name": "stderr",
     "output_type": "stream",
     "text": [
      " 67%|██████▋   | 333/499 [01:29<00:27,  6.00it/s]"
     ]
    },
    {
     "name": "stdout",
     "output_type": "stream",
     "text": [
      "hi1\n",
      "0 0.001294\n",
      "1 0.006062\n",
      "2 0.004093\n",
      "3 0.011164\n",
      "4 0.015643\n",
      "5 0.001272\n",
      "6 9e-06\n",
      "7 0.06863\n",
      "8 0.006208\n",
      "hi1\n",
      "0 0.001242\n",
      "1 0.005909\n",
      "2 0.003824\n",
      "3 0.012236\n",
      "4 0.013169\n",
      "5 0.001038\n",
      "6 1.4e-05\n"
     ]
    },
    {
     "name": "stderr",
     "output_type": "stream",
     "text": [
      " 67%|██████▋   | 335/499 [01:30<00:25,  6.56it/s]"
     ]
    },
    {
     "name": "stdout",
     "output_type": "stream",
     "text": [
      "7 0.072041\n",
      "8 0.006233\n",
      "hi1\n",
      "0 0.001205\n",
      "1 0.005771\n",
      "2 0.002819\n",
      "3 0.011412\n",
      "4 0.014883\n",
      "5 0.001344\n",
      "6 6e-06\n",
      "7 0.05681\n",
      "8 0.005694\n",
      "hi1\n",
      "0 0.001156\n",
      "1 0.005577\n",
      "2 0.002632\n",
      "3 0.009624\n",
      "4 0.012562\n",
      "5"
     ]
    },
    {
     "name": "stderr",
     "output_type": "stream",
     "text": [
      " 67%|██████▋   | 336/499 [01:30<00:23,  6.84it/s]"
     ]
    },
    {
     "name": "stdout",
     "output_type": "stream",
     "text": [
      " 0.001885\n",
      "6 4.7e-05\n",
      "7 0.064334\n",
      "8 0.005535\n",
      "hi1\n",
      "0 0.001639\n",
      "1 0.006078\n",
      "2 0.003427\n",
      "3 0.009914\n",
      "4 0.01497\n",
      "5 0.003222\n",
      "6 2.3e-05\n"
     ]
    },
    {
     "name": "stderr",
     "output_type": "stream",
     "text": [
      " 68%|██████▊   | 337/499 [01:30<00:26,  6.20it/s]"
     ]
    },
    {
     "name": "stdout",
     "output_type": "stream",
     "text": [
      "7 0.106298\n",
      "8 0.007953\n",
      "hi1\n",
      "0 0.002559\n",
      "1 0.006448\n",
      "2 0.00403\n",
      "3 0.012388\n",
      "4 0.018923\n",
      "5 0.001933\n",
      "6 9e-06\n",
      "7 0.095066\n",
      "8 0.005502\n"
     ]
    },
    {
     "name": "stderr",
     "output_type": "stream",
     "text": [
      " 68%|██████▊   | 339/499 [01:30<00:26,  6.07it/s]"
     ]
    },
    {
     "name": "stdout",
     "output_type": "stream",
     "text": [
      "hi1\n",
      "0 0.001483\n",
      "1 0.006813\n",
      "2 0.004241\n",
      "3 0.011431\n",
      "4 0.014324\n",
      "5 0.002692\n",
      "6 1.6e-05\n",
      "7 0.075769\n",
      "8 0.006377\n",
      "hi1\n",
      "0 0.001193\n",
      "1 0.005861\n",
      "2 0.004039\n",
      "3 0.011958\n",
      "4"
     ]
    },
    {
     "name": "stderr",
     "output_type": "stream",
     "text": [
      " 68%|██████▊   | 340/499 [01:30<00:25,  6.32it/s]"
     ]
    },
    {
     "name": "stdout",
     "output_type": "stream",
     "text": [
      " 0.01275\n",
      "5 0.001275\n",
      "6 6e-06\n",
      "7 0.067043\n",
      "8 0.006799\n",
      "hi1\n",
      "0 0.001261\n",
      "1 0.005265\n",
      "2 0.003746\n",
      "3 0.010214\n",
      "4 0.01682\n",
      "5 0.001961\n",
      "6 6e-06\n",
      "7 0.052826\n",
      "8 0.007224\n"
     ]
    },
    {
     "name": "stderr",
     "output_type": "stream",
     "text": [
      " 69%|██████▊   | 342/499 [01:31<00:23,  6.82it/s]"
     ]
    },
    {
     "name": "stdout",
     "output_type": "stream",
     "text": [
      "hi1\n",
      "0 0.001191\n",
      "1 0.005626\n",
      "2 0.003999\n",
      "3 0.011721\n",
      "4 0.011497\n",
      "5 0.001045\n",
      "6 9e-06\n",
      "7 0.067839\n",
      "8 0.005784\n",
      "hi1\n",
      "0 0.001225\n",
      "1 0.006053\n",
      "2 0.003264\n",
      "3 0.010418\n",
      "4 0.018107\n",
      "5 0.00323\n",
      "6 1e-05\n"
     ]
    },
    {
     "name": "stderr",
     "output_type": "stream",
     "text": [
      " 69%|██████▉   | 344/499 [01:31<00:22,  6.99it/s]"
     ]
    },
    {
     "name": "stdout",
     "output_type": "stream",
     "text": [
      "7 0.071817\n",
      "8 0.007884\n",
      "hi1\n",
      "0 0.001321\n",
      "1 0.005609\n",
      "2 0.003654\n",
      "3 0.010351\n",
      "4 0.013966\n",
      "5 0.00152\n",
      "6 7e-06\n",
      "7 0.057912\n",
      "8 0.004931\n",
      "hi1\n",
      "0 0.001186\n",
      "1 0.005889\n",
      "2 0.003113\n",
      "3 0.009259\n",
      "4"
     ]
    },
    {
     "name": "stderr",
     "output_type": "stream",
     "text": [
      " 69%|██████▉   | 345/499 [01:31<00:21,  7.03it/s]"
     ]
    },
    {
     "name": "stdout",
     "output_type": "stream",
     "text": [
      " 0.015103\n",
      "5 0.002231\n",
      "6 6e-06\n",
      "7 0.057607\n",
      "8 0.007507\n",
      "hi1\n",
      "0 0.001319\n",
      "1 0.005694\n",
      "2 0.003738\n",
      "3 0.010175\n",
      "4 0.011569\n",
      "5 0.001338\n",
      "6 5e-06\n"
     ]
    },
    {
     "name": "stderr",
     "output_type": "stream",
     "text": [
      " 70%|██████▉   | 347/499 [01:31<00:24,  6.30it/s]"
     ]
    },
    {
     "name": "stdout",
     "output_type": "stream",
     "text": [
      "7 0.172327\n",
      "8 0.005555\n",
      "hi1\n",
      "0 0.00121\n",
      "1 0.006181\n",
      "2 0.003701\n",
      "3 0.009893\n",
      "4 0.012814\n",
      "5 0.001677\n",
      "6 1e-05\n",
      "7 0.061235\n",
      "8 0.005141\n",
      "hi1\n",
      "0 0.001226\n",
      "1 0.005538\n",
      "2 0.004318\n",
      "3 0.011061\n",
      "4"
     ]
    },
    {
     "name": "stderr",
     "output_type": "stream",
     "text": [
      " 70%|██████▉   | 348/499 [01:32<00:23,  6.42it/s]"
     ]
    },
    {
     "name": "stdout",
     "output_type": "stream",
     "text": [
      " 0.015039\n",
      "5 0.001594\n",
      "6 1.2e-05\n",
      "7 0.077642\n",
      "8 0.005513\n",
      "hi1\n",
      "0 0.001155\n",
      "1 0.005463\n",
      "2 0.004676\n",
      "3 0.011838\n",
      "4 0.015664\n",
      "5 0.001492\n",
      "6 6e-06\n"
     ]
    },
    {
     "name": "stderr",
     "output_type": "stream",
     "text": [
      " 70%|███████   | 350/499 [01:32<00:22,  6.74it/s]"
     ]
    },
    {
     "name": "stdout",
     "output_type": "stream",
     "text": [
      "7 0.062512\n",
      "8 0.006597\n",
      "hi1\n",
      "0 0.001109\n",
      "1 0.006168\n",
      "2 0.002478\n",
      "3 0.010158\n",
      "4 0.013572\n",
      "5 0.001135\n",
      "6 1.4e-05\n",
      "7 0.061333\n",
      "8 0.005684\n",
      "hi1\n",
      "0 0.001229\n",
      "1 0.006114\n",
      "2 0.002994\n",
      "3 0.009922\n"
     ]
    },
    {
     "name": "stderr",
     "output_type": "stream",
     "text": [
      " 70%|███████   | 351/499 [01:32<00:21,  6.89it/s]"
     ]
    },
    {
     "name": "stdout",
     "output_type": "stream",
     "text": [
      "4 0.015343\n",
      "5 0.001991\n",
      "6 1.4e-05\n",
      "7 0.066884\n",
      "8 0.007296\n",
      "hi1\n",
      "0 0.001238\n",
      "1 0.005866\n",
      "2 0.003422\n",
      "3 0.00979\n",
      "4 0.014843\n",
      "5 0.001971\n",
      "6 2.1e-05\n",
      "7 0.052338\n",
      "8 0.005153\n"
     ]
    },
    {
     "name": "stderr",
     "output_type": "stream",
     "text": [
      " 71%|███████   | 353/499 [01:32<00:19,  7.42it/s]"
     ]
    },
    {
     "name": "stdout",
     "output_type": "stream",
     "text": [
      "hi1\n",
      "0 0.001303\n",
      "1 0.005371\n",
      "2 0.00353\n",
      "3 0.009402\n",
      "4 0.01297\n",
      "5 0.001156\n",
      "6 5.3e-05\n",
      "7 0.05719\n",
      "8 0.005709\n",
      "hi1\n",
      "0 0.001168\n",
      "1 0.005514\n",
      "2 0.003641\n",
      "3 0.009903\n",
      "4 0.012891\n",
      "5 0.001488\n",
      "6 5e-06\n"
     ]
    },
    {
     "name": "stderr",
     "output_type": "stream",
     "text": [
      " 71%|███████   | 355/499 [01:33<00:19,  7.54it/s]"
     ]
    },
    {
     "name": "stdout",
     "output_type": "stream",
     "text": [
      "7 0.052527\n",
      "8 0.007654\n",
      "hi1\n",
      "0 0.005835\n",
      "1 0.008138\n",
      "2 0.002663\n",
      "3 0.00906\n",
      "4 0.01198\n",
      "5 0.001737\n",
      "6 7e-06\n",
      "7 0.062567\n",
      "8 0.005792\n",
      "hi1\n",
      "0 0.001132\n",
      "1 0.005404\n",
      "2 0.003078\n",
      "3 0.008904\n",
      "4 0.011436\n"
     ]
    },
    {
     "name": "stderr",
     "output_type": "stream",
     "text": [
      " 71%|███████▏  | 356/499 [01:33<00:19,  7.33it/s]"
     ]
    },
    {
     "name": "stdout",
     "output_type": "stream",
     "text": [
      "5 0.002377\n",
      "6 1.6e-05\n",
      "7 0.067871\n",
      "8 0.005729\n",
      "hi1\n",
      "0 0.001254\n",
      "1 0.005946\n",
      "2 0.00399\n",
      "3 0.01147\n",
      "4 0.018175\n",
      "5 0.002142\n",
      "6 7e-06\n"
     ]
    },
    {
     "name": "stderr",
     "output_type": "stream",
     "text": [
      " 72%|███████▏  | 358/499 [01:33<00:18,  7.66it/s]"
     ]
    },
    {
     "name": "stdout",
     "output_type": "stream",
     "text": [
      "7 0.052972\n",
      "8 0.007358\n",
      "hi1\n",
      "0 0.001289\n",
      "1 0.008234\n",
      "2 0.005108\n",
      "3 0.012685\n",
      "4 0.014049\n",
      "5 0.001226\n",
      "6 1.6e-05\n",
      "7 0.048802\n",
      "8 0.005061\n",
      "hi1\n",
      "0 0.001232\n",
      "1 0.005405\n",
      "2 0.003061\n",
      "3 0.008703\n",
      "4 0.011288\n",
      "5 0.001824\n",
      "6 6e-06\n"
     ]
    },
    {
     "name": "stderr",
     "output_type": "stream",
     "text": [
      " 72%|███████▏  | 360/499 [01:33<00:17,  7.90it/s]"
     ]
    },
    {
     "name": "stdout",
     "output_type": "stream",
     "text": [
      "7 0.062568\n",
      "8 0.010241\n",
      "hi1\n",
      "0 0.001533\n",
      "1 0.005284\n",
      "2 0.002525\n",
      "3 0.008891\n",
      "4 0.010303\n",
      "5 0.001084\n",
      "6 8e-06\n",
      "7 0.050773\n",
      "8 0.005309\n",
      "hi1\n",
      "0 0.001146\n",
      "1 0.005471\n",
      "2 0.00336\n",
      "3 0.008735\n",
      "4 0.010117\n",
      "5 0.001039\n",
      "6 5e-06\n"
     ]
    },
    {
     "name": "stderr",
     "output_type": "stream",
     "text": [
      " 73%|███████▎  | 362/499 [01:33<00:17,  7.74it/s]"
     ]
    },
    {
     "name": "stdout",
     "output_type": "stream",
     "text": [
      "7 0.071401\n",
      "8 0.008085\n",
      "hi1\n",
      "0 0.001294\n",
      "1 0.006957\n",
      "2 0.003433\n",
      "3 0.009424\n",
      "4 0.011716\n",
      "5 0.001362\n",
      "6 9e-06\n",
      "7 0.05802\n",
      "8 0.006439\n",
      "hi1\n",
      "0 0.001236\n",
      "1 0.005951\n",
      "2 0.003764\n",
      "3 0.009529\n",
      "4 0.013819\n",
      "5 0.001523\n",
      "6 1.6e-05\n"
     ]
    },
    {
     "name": "stderr",
     "output_type": "stream",
     "text": [
      " 73%|███████▎  | 364/499 [01:34<00:17,  7.73it/s]"
     ]
    },
    {
     "name": "stdout",
     "output_type": "stream",
     "text": [
      "7 0.059747\n",
      "8 0.007814\n",
      "hi1\n",
      "0 0.001166\n",
      "1 0.00628\n",
      "2 0.006991\n",
      "3 0.011844\n",
      "4 0.015598\n",
      "5 0.002409\n",
      "6 7e-06\n",
      "7 0.048045\n",
      "8 0.005431\n",
      "hi1\n",
      "0 0.001263\n",
      "1 0.005635\n",
      "2 0.003644\n",
      "3 0.009978\n"
     ]
    },
    {
     "name": "stderr",
     "output_type": "stream",
     "text": [
      " 73%|███████▎  | 366/499 [01:34<00:16,  7.99it/s]"
     ]
    },
    {
     "name": "stdout",
     "output_type": "stream",
     "text": [
      "4 0.014928\n",
      "5 0.004099\n",
      "6 2.5e-05\n",
      "7 0.058005\n",
      "8 0.005464\n",
      "hi1\n",
      "0 0.001093\n",
      "1 0.005842\n",
      "2 0.004371\n",
      "3 0.009006\n",
      "4 0.010311\n",
      "5 0.001092\n",
      "6 5e-06\n",
      "7 0.050428\n",
      "8 0.005879\n",
      "hi1\n",
      "0 0.001119\n",
      "1 0.005401\n",
      "2"
     ]
    },
    {
     "name": "stderr",
     "output_type": "stream",
     "text": [
      " 74%|███████▎  | 368/499 [01:34<00:15,  8.22it/s]"
     ]
    },
    {
     "name": "stdout",
     "output_type": "stream",
     "text": [
      " 0.002526\n",
      "3 0.008198\n",
      "4 0.009492\n",
      "5 0.00129\n",
      "6 5e-06\n",
      "7 0.060804\n",
      "8 0.006517\n",
      "hi1\n",
      "0 0.001163\n",
      "1 0.005675\n",
      "2 0.003553\n",
      "3 0.010026\n",
      "4 0.012297\n",
      "5 0.00145\n",
      "6 6e-06\n",
      "7 0.04555\n",
      "8 0.008294\n",
      "hi1\n"
     ]
    },
    {
     "name": "stderr",
     "output_type": "stream",
     "text": [
      " 74%|███████▍  | 369/499 [01:34<00:16,  8.05it/s]"
     ]
    },
    {
     "name": "stdout",
     "output_type": "stream",
     "text": [
      "0 0.001343\n",
      "1 0.005602\n",
      "2 0.003674\n",
      "3 0.010419\n",
      "4 0.011675\n",
      "5 0.001981\n",
      "6 7e-06\n",
      "7 0.058466\n",
      "8 0.007946\n",
      "hi1\n",
      "0 0.002213\n",
      "1 0.005793\n",
      "2 0.003647\n",
      "3 0.009636\n",
      "4 0.010996\n",
      "5 0.001262\n",
      "6 1e-05\n"
     ]
    },
    {
     "name": "stderr",
     "output_type": "stream",
     "text": [
      " 74%|███████▍  | 371/499 [01:35<00:15,  8.11it/s]"
     ]
    },
    {
     "name": "stdout",
     "output_type": "stream",
     "text": [
      "7 0.054173\n",
      "8 0.00552\n",
      "hi1\n",
      "0 0.0013\n",
      "1 0.005373\n",
      "2 0.003109\n",
      "3 0.013396\n",
      "4 0.010281\n",
      "5 0.00169\n",
      "6 6e-06\n",
      "7 0.047676\n",
      "8 0.005241\n",
      "hi1\n",
      "0 0.001505\n",
      "1 0.00631\n",
      "2 0.003848\n",
      "3 0.008989\n",
      "4 0.012301\n",
      "5 0.001768\n",
      "6 7e-06\n"
     ]
    },
    {
     "name": "stderr",
     "output_type": "stream",
     "text": [
      " 75%|███████▍  | 373/499 [01:35<00:14,  8.50it/s]"
     ]
    },
    {
     "name": "stdout",
     "output_type": "stream",
     "text": [
      "7 0.055324\n",
      "8 0.008913\n",
      "hi1\n",
      "0 0.001215\n",
      "1 0.005877\n",
      "2 0.003526\n",
      "3 0.008797\n",
      "4 0.012252\n",
      "5 0.00162\n",
      "6 1.3e-05\n",
      "7 0.043738\n",
      "8 0.005142\n",
      "hi1\n",
      "0 0.001735\n",
      "1 0.006988\n",
      "2 0.003082\n",
      "3 0.009909\n",
      "4 0.010412\n",
      "5 0.002287\n",
      "6 4.1e-05\n"
     ]
    },
    {
     "name": "stderr",
     "output_type": "stream",
     "text": [
      " 75%|███████▌  | 375/499 [01:35<00:14,  8.45it/s]"
     ]
    },
    {
     "name": "stdout",
     "output_type": "stream",
     "text": [
      "7 0.051023\n",
      "8 0.010111\n",
      "hi1\n",
      "0 0.001302\n",
      "1 0.006633\n",
      "2 0.005324\n",
      "3 0.01344\n",
      "4 0.012212\n",
      "5 0.001615\n",
      "6 8e-06\n",
      "7 0.045427\n",
      "8 0.005375\n",
      "hi1\n",
      "0 0.001288\n",
      "1 0.005832\n",
      "2 0.002553\n",
      "3 0.007454\n",
      "4 0.010362\n",
      "5 0.001419\n",
      "6 5e-06\n"
     ]
    },
    {
     "name": "stderr",
     "output_type": "stream",
     "text": [
      " 76%|███████▌  | 377/499 [01:35<00:14,  8.57it/s]"
     ]
    },
    {
     "name": "stdout",
     "output_type": "stream",
     "text": [
      "7 0.047709\n",
      "8 0.005806\n",
      "hi1\n",
      "0 0.001498\n",
      "1 0.005543\n",
      "2 0.003583\n",
      "3 0.013333\n",
      "4 0.0132\n",
      "5 0.001185\n",
      "6 6e-06\n",
      "7 0.042495\n",
      "8 0.005765\n",
      "hi1\n",
      "0 0.001294\n",
      "1 0.005317\n",
      "2 0.003032\n",
      "3 0.007395\n",
      "4 0.009471\n",
      "5 0.001847\n",
      "6 7e-06\n"
     ]
    },
    {
     "name": "stderr",
     "output_type": "stream",
     "text": [
      " 76%|███████▌  | 379/499 [01:35<00:14,  8.39it/s]"
     ]
    },
    {
     "name": "stdout",
     "output_type": "stream",
     "text": [
      "7 0.048168\n",
      "8 0.00635\n",
      "hi1\n",
      "0 0.001197\n",
      "1 0.005409\n",
      "2 0.003405\n",
      "3 0.014336\n",
      "4 0.012928\n",
      "5 0.00173\n",
      "6 6e-06\n",
      "7 0.045713\n",
      "8 0.004946\n",
      "hi1\n",
      "0 0.001206\n",
      "1 0.005733\n",
      "2 0.003094\n",
      "3 0.007875\n",
      "4 0.011588\n",
      "5 0.001899\n",
      "6 5e-06\n"
     ]
    },
    {
     "name": "stderr",
     "output_type": "stream",
     "text": [
      " 76%|███████▋  | 381/499 [01:36<00:14,  8.09it/s]"
     ]
    },
    {
     "name": "stdout",
     "output_type": "stream",
     "text": [
      "7 0.055945\n",
      "8 0.008138\n",
      "hi1\n",
      "0 0.001238\n",
      "1 0.00598\n",
      "2 0.003046\n",
      "3 0.007944\n",
      "4 0.010597\n",
      "5 0.001454\n",
      "6 6e-06\n",
      "7 0.058467\n",
      "8 0.005749\n",
      "hi1\n",
      "0 0.001286\n",
      "1 0.005935\n",
      "2 0.003485\n",
      "3 0.008461\n",
      "4 0.011527\n",
      "5 0.002219\n",
      "6 2.6e-05\n"
     ]
    },
    {
     "name": "stderr",
     "output_type": "stream",
     "text": [
      " 77%|███████▋  | 383/499 [01:36<00:14,  8.10it/s]"
     ]
    },
    {
     "name": "stdout",
     "output_type": "stream",
     "text": [
      "7 0.062073\n",
      "8 0.005782\n",
      "hi1\n",
      "0 0.001264\n",
      "1 0.005364\n",
      "2 0.002832\n",
      "3 0.00744\n",
      "4 0.009036\n",
      "5 0.001552\n",
      "6 5e-06\n",
      "7 0.052502\n",
      "8 0.005132\n",
      "hi1\n",
      "0 0.001139\n",
      "1 0.005645\n",
      "2 0.00363\n",
      "3 0.009319\n",
      "4 0.009978\n",
      "5 0.001282\n",
      "6 5.8e-05\n"
     ]
    },
    {
     "name": "stderr",
     "output_type": "stream",
     "text": [
      " 77%|███████▋  | 385/499 [01:36<00:13,  8.23it/s]"
     ]
    },
    {
     "name": "stdout",
     "output_type": "stream",
     "text": [
      "7 0.0576\n",
      "8 0.010261\n",
      "hi1\n",
      "0 0.001445\n",
      "1 0.007277\n",
      "2 0.003593\n",
      "3 0.007945\n",
      "4 0.008552\n",
      "5 0.001229\n",
      "6 8e-06\n",
      "7 0.048276\n",
      "8 0.005786\n",
      "hi1\n",
      "0 0.001342\n",
      "1 0.0063\n",
      "2 0.002981\n",
      "3 0.007224\n",
      "4 0.008143\n",
      "5 0.001295\n",
      "6 9e-06\n"
     ]
    },
    {
     "name": "stderr",
     "output_type": "stream",
     "text": [
      " 78%|███████▊  | 387/499 [01:36<00:13,  8.50it/s]"
     ]
    },
    {
     "name": "stdout",
     "output_type": "stream",
     "text": [
      "7 0.053878\n",
      "8 0.006836\n",
      "hi1\n",
      "0 0.001859\n",
      "1 0.007225\n",
      "2 0.006934\n",
      "3 0.010607\n",
      "4 0.011385\n",
      "5 0.001629\n",
      "6 7e-06\n",
      "7 0.0461\n",
      "8 0.005371\n",
      "hi1\n",
      "0 0.001166\n",
      "1 0.005779\n",
      "2 0.004526\n",
      "3 0.009571\n",
      "4 0.009829\n",
      "5 0.004011\n",
      "6 7e-06\n"
     ]
    },
    {
     "name": "stderr",
     "output_type": "stream",
     "text": [
      " 78%|███████▊  | 388/499 [01:37<00:13,  8.00it/s]"
     ]
    },
    {
     "name": "stdout",
     "output_type": "stream",
     "text": [
      "7 0.059786\n",
      "8 0.005962\n",
      "hi1\n",
      "0 0.001246\n",
      "1 0.005712\n",
      "2 0.002925\n",
      "3 0.007379\n",
      "4 0.007918\n",
      "5 0.001217\n",
      "6 5e-06\n",
      "7 0.044548\n",
      "8 0.004787\n",
      "hi1\n",
      "0 0.000925\n",
      "1 0.005305\n",
      "2 0.00309\n",
      "3 0.006939\n",
      "4 0.00895\n",
      "5 0.001133\n",
      "6 5e-06\n"
     ]
    },
    {
     "name": "stderr",
     "output_type": "stream",
     "text": [
      " 78%|███████▊  | 391/499 [01:37<00:12,  8.71it/s]"
     ]
    },
    {
     "name": "stdout",
     "output_type": "stream",
     "text": [
      "7 0.037348\n",
      "8 0.00835\n",
      "hi1\n",
      "0 0.001254\n",
      "1 0.007439\n",
      "2 0.003658\n",
      "3 0.009743\n",
      "4 0.007953\n",
      "5 0.001356\n",
      "6 6e-06\n",
      "7 0.043562\n",
      "8 0.006007\n",
      "hi1\n",
      "0 0.001176\n",
      "1 0.005748\n",
      "2 0.004259\n",
      "3 0.007412\n",
      "4 0.009477\n",
      "5 0.001549\n",
      "6 1.6e-05\n"
     ]
    },
    {
     "name": "stderr",
     "output_type": "stream",
     "text": [
      " 79%|███████▉  | 393/499 [01:37<00:12,  8.79it/s]"
     ]
    },
    {
     "name": "stdout",
     "output_type": "stream",
     "text": [
      "7 0.050606\n",
      "8 0.005617\n",
      "hi1\n",
      "0 0.001285\n",
      "1 0.006911\n",
      "2 0.003549\n",
      "3 0.009151\n",
      "4 0.01293\n",
      "5 0.001962\n",
      "6 2.1e-05\n",
      "7 0.042761\n",
      "8 0.004749\n",
      "hi1\n",
      "0 0.001123\n",
      "1 0.005603\n",
      "2 0.003465\n",
      "3 0.00854\n",
      "4 0.01087\n",
      "5 0.002852\n",
      "6 1.1e-05\n"
     ]
    },
    {
     "name": "stderr",
     "output_type": "stream",
     "text": [
      " 79%|███████▉  | 395/499 [01:37<00:12,  8.62it/s]"
     ]
    },
    {
     "name": "stdout",
     "output_type": "stream",
     "text": [
      "7 0.048023\n",
      "8 0.005739\n",
      "hi1\n",
      "0 0.001479\n",
      "1 0.005843\n",
      "2 0.003721\n",
      "3 0.013271\n",
      "4 0.010731\n",
      "5 0.00164\n",
      "6 8e-06\n",
      "7 0.047091\n",
      "8 0.005102\n",
      "hi1\n",
      "0 0.001195\n",
      "1 0.006051\n",
      "2 0.003529\n",
      "3 0.007548\n",
      "4 0.010669\n",
      "5 0.002316\n",
      "6 1e-05\n"
     ]
    },
    {
     "name": "stderr",
     "output_type": "stream",
     "text": [
      " 80%|███████▉  | 397/499 [01:38<00:11,  8.77it/s]"
     ]
    },
    {
     "name": "stdout",
     "output_type": "stream",
     "text": [
      "7 0.040916\n",
      "8 0.005434\n",
      "hi1\n",
      "0 0.002282\n",
      "1 0.009401\n",
      "2 0.004579\n",
      "3 0.007285\n",
      "4 0.009774\n",
      "5 0.001564\n",
      "6 6e-06\n",
      "7 0.046955\n",
      "8 0.005649\n",
      "hi1\n",
      "0 0.001241\n",
      "1 0.005704\n",
      "2 0.003802\n",
      "3 0.007448\n",
      "4 0.010304\n",
      "5 0.001791\n",
      "6 7e-06\n"
     ]
    },
    {
     "name": "stderr",
     "output_type": "stream",
     "text": [
      " 80%|███████▉  | 399/499 [01:38<00:11,  8.74it/s]"
     ]
    },
    {
     "name": "stdout",
     "output_type": "stream",
     "text": [
      "7 0.045074\n",
      "8 0.007634\n",
      "hi1\n",
      "0 0.002537\n",
      "1 0.005902\n",
      "2 0.003077\n",
      "3 0.011157\n",
      "4 0.009919\n",
      "5 0.001656\n",
      "6 6e-06\n",
      "7 0.041552\n",
      "8 0.005063\n",
      "hi1\n",
      "0 0.001162\n",
      "1 0.005748\n",
      "2 0.002626\n",
      "3 0.006783\n",
      "4 0.00752\n",
      "5 0.001076\n",
      "6 8e-06\n"
     ]
    },
    {
     "name": "stderr",
     "output_type": "stream",
     "text": [
      " 80%|████████  | 400/499 [01:38<00:11,  8.70it/s]"
     ]
    },
    {
     "name": "stdout",
     "output_type": "stream",
     "text": [
      "7 0.043999\n",
      "8 0.00562\n",
      "hi1\n",
      "0 0.001222\n",
      "1 0.006798\n",
      "2 0.002711\n",
      "3 0.006828\n",
      "4 0.008316\n",
      "5 0.001063\n",
      "6 5e-06\n",
      "7 0.040936\n",
      "8 0.005479\n",
      "hi1\n",
      "0 0.000953\n",
      "1 0.005033\n",
      "2 0.002942\n",
      "3 0.006958\n",
      "4 0.007974\n",
      "5 0.001094\n",
      "6 1.3e-05\n",
      "7 0.031836\n"
     ]
    },
    {
     "name": "stderr",
     "output_type": "stream",
     "text": [
      " 81%|████████  | 402/499 [01:38<00:10,  9.21it/s]"
     ]
    },
    {
     "name": "stdout",
     "output_type": "stream",
     "text": [
      "8 0.006126\n",
      "hi1\n",
      "0 0.001393\n",
      "1 0.006683\n",
      "2 0.004484\n",
      "3 0.009458\n",
      "4 0.007267\n",
      "5 0.001005\n",
      "6 1.2e-05\n",
      "7 0.038476\n",
      "8 0.00585\n",
      "hi1\n",
      "0 0.000992\n",
      "1 0.005659\n",
      "2 0.003297\n",
      "3 0.007866\n",
      "4 0.008188\n",
      "5 0.001005\n",
      "6 9e-06\n",
      "7 0.03105\n",
      "8 0.005299\n"
     ]
    },
    {
     "name": "stderr",
     "output_type": "stream",
     "text": [
      " 81%|████████  | 405/499 [01:38<00:09,  9.72it/s]"
     ]
    },
    {
     "name": "stdout",
     "output_type": "stream",
     "text": [
      "hi1\n",
      "0 0.001598\n",
      "1 0.007236\n",
      "2 0.003598\n",
      "3 0.007271\n",
      "4 0.009172\n",
      "5 0.001251\n",
      "6 7e-06\n",
      "7 0.038273\n",
      "8 0.005491\n",
      "hi1\n",
      "0 0.001181\n",
      "1 0.0057\n",
      "2 0.002465\n",
      "3 0.006931\n",
      "4 0.007188\n",
      "5 0.001316\n",
      "6 1.2e-05\n",
      "7 0.036488\n",
      "8 0.005302\n",
      "hi1\n",
      "0 0.000956\n",
      "1 0.005165\n",
      "2 0.002513\n"
     ]
    },
    {
     "name": "stderr",
     "output_type": "stream",
     "text": [
      " 82%|████████▏ | 407/499 [01:39<00:09, 10.13it/s]"
     ]
    },
    {
     "name": "stdout",
     "output_type": "stream",
     "text": [
      "3 0.006618\n",
      "4 0.007802\n",
      "5 0.001107\n",
      "6 9e-06\n",
      "7 0.036351\n",
      "8 0.006039\n",
      "hi1\n",
      "0 0.001225\n",
      "1 0.007204\n",
      "2 0.00401\n",
      "3 0.009175\n",
      "4 0.01201\n",
      "5 0.001219\n",
      "6 6e-06\n",
      "7 0.037265\n",
      "8 0.005269\n",
      "hi1\n",
      "0 0.000969\n",
      "1 0.005421\n",
      "2 0.003167\n",
      "3 0.006627\n",
      "4 0.006982\n",
      "5 0.000963\n",
      "6 4e-06\n"
     ]
    },
    {
     "name": "stderr",
     "output_type": "stream",
     "text": [
      " 82%|████████▏ | 409/499 [01:39<00:08, 10.21it/s]"
     ]
    },
    {
     "name": "stdout",
     "output_type": "stream",
     "text": [
      "7 0.031525\n",
      "8 0.006145\n",
      "hi1\n",
      "0 0.001238\n",
      "1 0.006409\n",
      "2 0.003352\n",
      "3 0.006555\n",
      "4 0.010372\n",
      "5 0.001008\n",
      "6 8e-06\n",
      "7 0.037592\n",
      "8 0.01134\n",
      "hi1\n",
      "0 0.001107\n",
      "1 0.005027\n",
      "2 0.002821\n",
      "3 0.006397\n",
      "4 0.007625\n",
      "5 0.000978\n",
      "6 6e-06\n",
      "7 0.030456\n",
      "8 0.005388\n"
     ]
    },
    {
     "name": "stderr",
     "output_type": "stream",
     "text": [
      " 83%|████████▎ | 413/499 [01:39<00:07, 10.83it/s]"
     ]
    },
    {
     "name": "stdout",
     "output_type": "stream",
     "text": [
      "hi1\n",
      "0 0.00183\n",
      "1 0.005587\n",
      "2 0.003379\n",
      "3 0.006265\n",
      "4 0.006881\n",
      "5 0.000976\n",
      "6 6e-06\n",
      "7 0.031052\n",
      "8 0.007102\n",
      "hi1\n",
      "0 0.000969\n",
      "1 0.00498\n",
      "2 0.003052\n",
      "3 0.006187\n",
      "4 0.006586\n",
      "5 0.000985\n",
      "6 8e-06\n",
      "7 0.028982\n",
      "8 0.005045\n",
      "hi1\n",
      "0 0.002015\n",
      "1 0.005718\n",
      "2 0.002949\n",
      "3 0.006338\n",
      "4 0.006844\n",
      "5 0.000994\n",
      "6 1.7e-05\n"
     ]
    },
    {
     "name": "stderr",
     "output_type": "stream",
     "text": [
      " 83%|████████▎ | 415/499 [01:39<00:07, 10.76it/s]"
     ]
    },
    {
     "name": "stdout",
     "output_type": "stream",
     "text": [
      "7 0.04653\n",
      "8 0.005968\n",
      "hi1\n",
      "0 0.001021\n",
      "1 0.005183\n",
      "2 0.003087\n",
      "3 0.006281\n",
      "4 0.006983\n",
      "5 0.00096\n",
      "6 7e-06\n",
      "7 0.027848\n",
      "8 0.005217\n",
      "hi1\n",
      "0 0.001179\n",
      "1 0.005278\n",
      "2 0.002701\n",
      "3 0.006198\n",
      "4 0.006445\n",
      "5 0.000988\n",
      "6 8e-06\n",
      "7 0.037923\n",
      "8 0.005434\n",
      "hi1\n"
     ]
    },
    {
     "name": "stderr",
     "output_type": "stream",
     "text": [
      " 84%|████████▎ | 417/499 [01:40<00:07, 10.71it/s]"
     ]
    },
    {
     "name": "stdout",
     "output_type": "stream",
     "text": [
      "0 0.001414\n",
      "1 0.006125\n",
      "2 0.003043\n",
      "3 0.0071\n",
      "4 0.007849\n",
      "5 0.001207\n",
      "6 6e-06\n",
      "7 0.039356\n",
      "8 0.005995\n",
      "hi1\n",
      "0 0.001161\n",
      "1 0.005229\n",
      "2 0.002938\n",
      "3 0.005931\n",
      "4 0.006975\n",
      "5 0.001204\n",
      "6 1.5e-05\n",
      "7 0.032488\n",
      "8 0.010247\n",
      "hi1\n",
      "0 0.001053\n",
      "1 0.004956\n",
      "2 0.00303\n"
     ]
    },
    {
     "name": "stderr",
     "output_type": "stream",
     "text": [
      " 84%|████████▍ | 419/499 [01:40<00:07, 10.76it/s]"
     ]
    },
    {
     "name": "stdout",
     "output_type": "stream",
     "text": [
      "3 0.007796\n",
      "4 0.007338\n",
      "5 0.00102\n",
      "6 1.2e-05\n",
      "7 0.036332\n",
      "8 0.0072\n",
      "hi1\n",
      "0 0.001572\n",
      "1 0.005342\n",
      "2 0.003596\n",
      "3 0.006868\n",
      "4 0.006758\n",
      "5 0.001049\n",
      "6 8e-06\n",
      "7 0.033409\n",
      "8 0.005495\n",
      "hi1\n",
      "0 0.001029\n",
      "1 0.005023\n",
      "2 0.003021\n",
      "3 0.006128\n",
      "4 0.00644\n",
      "5 0.000981\n",
      "6 5e-06\n",
      "7 "
     ]
    },
    {
     "name": "stderr",
     "output_type": "stream",
     "text": [
      " 84%|████████▍ | 421/499 [01:40<00:06, 11.20it/s]"
     ]
    },
    {
     "name": "stdout",
     "output_type": "stream",
     "text": [
      "0.026803\n",
      "8 0.005961\n",
      "hi1\n",
      "0 0.001246\n",
      "1 0.006108\n",
      "2 0.004623\n",
      "3 0.010159\n",
      "4 0.011439\n",
      "5 0.002005\n",
      "6 8e-06\n",
      "7 0.042922\n",
      "8 0.005208\n",
      "hi1\n",
      "0 0.001019\n",
      "1 0.005102\n",
      "2 0.002792\n",
      "3 0.005798\n",
      "4 0.009053\n",
      "5 0.001035\n",
      "6 5e-06\n",
      "7 0.02537\n",
      "8 0.005446\n"
     ]
    },
    {
     "name": "stderr",
     "output_type": "stream",
     "text": [
      " 85%|████████▌ | 425/499 [01:40<00:06, 10.97it/s]"
     ]
    },
    {
     "name": "stdout",
     "output_type": "stream",
     "text": [
      "hi1\n",
      "0 0.00142\n",
      "1 0.006939\n",
      "2 0.003998\n",
      "3 0.006791\n",
      "4 0.008733\n",
      "5 0.001161\n",
      "6 6e-06\n",
      "7 0.032658\n",
      "8 0.005042\n",
      "hi1\n",
      "0 0.000941\n",
      "1 0.005319\n",
      "2 0.003427\n",
      "3 0.00682\n",
      "4 0.007704\n",
      "5 0.00119\n",
      "6 6e-06\n",
      "7 0.030243\n",
      "8 0.005845\n",
      "hi1\n",
      "0 0.001215\n",
      "1 0.005837\n",
      "2 0.002924\n"
     ]
    },
    {
     "name": "stderr",
     "output_type": "stream",
     "text": [
      " 86%|████████▌ | 427/499 [01:40<00:06, 10.82it/s]"
     ]
    },
    {
     "name": "stdout",
     "output_type": "stream",
     "text": [
      "3 0.006818\n",
      "4 0.00811\n",
      "5 0.001564\n",
      "6 9e-06\n",
      "7 0.039163\n",
      "8 0.007536\n",
      "hi1\n",
      "0 0.001801\n",
      "1 0.008201\n",
      "2 0.004169\n",
      "3 0.00578\n",
      "4 0.006104\n",
      "5 0.001105\n",
      "6 1e-05\n",
      "7 0.030315\n",
      "8 0.005956\n",
      "hi1\n",
      "0 0.001185\n",
      "1 0.006059\n",
      "2 0.00303\n",
      "3 0.006702\n",
      "4 0.007089\n",
      "5 0.001194\n",
      "6 1.2e-05\n"
     ]
    },
    {
     "name": "stderr",
     "output_type": "stream",
     "text": [
      " 86%|████████▌ | 429/499 [01:41<00:06, 10.98it/s]"
     ]
    },
    {
     "name": "stdout",
     "output_type": "stream",
     "text": [
      "7 0.034481\n",
      "8 0.006089\n",
      "hi1\n",
      "0 0.001038\n",
      "1 0.006184\n",
      "2 0.003561\n",
      "3 0.010819\n",
      "4 0.005852\n",
      "5 0.001017\n",
      "6 7e-06\n",
      "7 0.025128\n",
      "8 0.004773\n",
      "hi1\n",
      "0 0.001224\n",
      "1 0.005391\n",
      "2 0.003067\n",
      "3 0.005632\n",
      "4 0.005833\n",
      "5 0.000997\n",
      "6 5e-06\n",
      "7 0.026753\n",
      "8 0.00607\n",
      "hi1\n",
      "0 0.000962\n",
      "1 0.004919\n",
      "2"
     ]
    },
    {
     "name": "stderr",
     "output_type": "stream",
     "text": [
      " 86%|████████▋ | 431/499 [01:41<00:06, 11.17it/s]"
     ]
    },
    {
     "name": "stdout",
     "output_type": "stream",
     "text": [
      " 0.002602\n",
      "3 0.00627\n",
      "4 0.005213\n",
      "5 0.000939\n",
      "6 4e-06\n",
      "7 0.025633\n",
      "8 0.005544\n",
      "hi1\n",
      "0 0.001191\n",
      "1 0.005343\n",
      "2 0.002682\n",
      "3 0.006284\n",
      "4 0.005958\n",
      "5 0.000996\n",
      "6 9e-06\n",
      "7 0.031732\n",
      "8 0.006785\n",
      "hi1\n",
      "0 0.001123\n",
      "1 0.005032\n",
      "2 0.002839\n",
      "3 0.005633\n",
      "4 0.00564\n",
      "5 0.001215\n",
      "6 5e-06\n",
      "7 0.023365\n",
      "8 0.005312\n"
     ]
    },
    {
     "name": "stderr",
     "output_type": "stream",
     "text": [
      " 87%|████████▋ | 435/499 [01:41<00:05, 11.53it/s]"
     ]
    },
    {
     "name": "stdout",
     "output_type": "stream",
     "text": [
      "hi1\n",
      "0 0.001486\n",
      "1 0.006068\n",
      "2 0.003956\n",
      "3 0.007412\n",
      "4 0.006824\n",
      "5 0.001445\n",
      "6 2.2e-05\n",
      "7 0.029349\n",
      "8 0.005467\n",
      "hi1\n",
      "0 0.001951\n",
      "1 0.005571\n",
      "2 0.003442\n",
      "3 0.007343\n",
      "4 0.007466\n",
      "5 0.001476\n",
      "6 6e-06\n",
      "7 0.026487\n",
      "8 0.005736\n",
      "hi1\n",
      "0 0.001142\n",
      "1 0.005402\n",
      "2 0.002788\n",
      "3 0.005894\n",
      "4 0.006261\n",
      "5 "
     ]
    },
    {
     "name": "stderr",
     "output_type": "stream",
     "text": [
      " 88%|████████▊ | 437/499 [01:41<00:05, 11.83it/s]"
     ]
    },
    {
     "name": "stdout",
     "output_type": "stream",
     "text": [
      "0.001491\n",
      "6 2.1e-05\n",
      "7 0.028391\n",
      "8 0.006939\n",
      "hi1\n",
      "0 0.001107\n",
      "1 0.006623\n",
      "2 0.007103\n",
      "3 0.008275\n",
      "4 0.006747\n",
      "5 0.001563\n",
      "6 8e-06\n",
      "7 0.025927\n",
      "8 0.004784\n",
      "hi1\n",
      "0 0.001219\n",
      "1 0.006187\n",
      "2 0.003905\n",
      "3 0.007261\n",
      "4 0.005647\n",
      "5 0.001355\n",
      "6 6e-06\n",
      "7 0.023261\n",
      "8 0.006283\n",
      "hi1\n",
      "0 0.001128\n"
     ]
    },
    {
     "name": "stderr",
     "output_type": "stream",
     "text": [
      " 88%|████████▊ | 439/499 [01:41<00:05, 11.57it/s]"
     ]
    },
    {
     "name": "stdout",
     "output_type": "stream",
     "text": [
      "1 0.006179\n",
      "2 0.002982\n",
      "3 0.00643\n",
      "4 0.00592\n",
      "5 0.001358\n",
      "6 8e-06\n",
      "7 0.030787\n",
      "8 0.007057\n",
      "hi1\n",
      "0 0.001837\n",
      "1 0.005773\n",
      "2 0.003217\n",
      "3 0.005387\n",
      "4 0.004841\n",
      "5 0.001433\n",
      "6 6e-06\n",
      "7 0.026156\n",
      "8 0.006209\n",
      "hi1\n",
      "0 0.001069\n",
      "1 0.005071\n",
      "2 0.00306\n",
      "3 0.00523\n",
      "4 0.004439\n",
      "5 0.002012\n",
      "6 1.2e-05\n"
     ]
    },
    {
     "name": "stderr",
     "output_type": "stream",
     "text": [
      " 89%|████████▉ | 443/499 [01:42<00:04, 12.25it/s]"
     ]
    },
    {
     "name": "stdout",
     "output_type": "stream",
     "text": [
      "7 0.025979\n",
      "8 0.006118\n",
      "hi1\n",
      "0 0.001304\n",
      "1 0.006564\n",
      "2 0.006965\n",
      "3 0.005824\n",
      "4 0.004307\n",
      "5 0.001269\n",
      "6 2e-05\n",
      "7 0.02745\n",
      "8 0.006171\n",
      "hi1\n",
      "0 0.001052\n",
      "1 0.005388\n",
      "2 0.002886\n",
      "3 0.006148\n",
      "4 0.004532\n",
      "5 0.001223\n",
      "6 6e-06\n",
      "7 0.020554\n",
      "8 0.005113\n",
      "hi1\n",
      "0 0.001316\n",
      "1 0.005295\n",
      "2 0.003146\n",
      "3 0.005298\n",
      "4 0.004521\n",
      "5 0.001297\n",
      "6 5e-06\n"
     ]
    },
    {
     "name": "stderr",
     "output_type": "stream",
     "text": [
      " 89%|████████▉ | 445/499 [01:42<00:04, 12.42it/s]"
     ]
    },
    {
     "name": "stdout",
     "output_type": "stream",
     "text": [
      "7 0.035105\n",
      "8 0.007927\n",
      "hi1\n",
      "0 0.002378\n",
      "1 0.00757\n",
      "2 0.004116\n",
      "3 0.005519\n",
      "4 0.004588\n",
      "5 0.001357\n",
      "6 9e-06\n",
      "7 0.020733\n",
      "8 0.004881\n",
      "hi1\n",
      "0 0.001149\n",
      "1 0.005383\n",
      "2 0.003799\n",
      "3 0.005717\n",
      "4 0.004116\n",
      "5 0.001451\n",
      "6 4e-06\n",
      "7 0.025354\n",
      "8 0.00538\n",
      "hi1\n",
      "0 0.000999\n",
      "1 0.004917\n",
      "2 0.003126\n",
      "3 0.005052\n",
      "4 0.004771\n",
      "5 0.001452\n",
      "6 1.1e-05\n"
     ]
    },
    {
     "name": "stderr",
     "output_type": "stream",
     "text": [
      " 90%|████████▉ | 449/499 [01:42<00:03, 12.82it/s]"
     ]
    },
    {
     "name": "stdout",
     "output_type": "stream",
     "text": [
      "7 0.021548\n",
      "8 0.008332\n",
      "hi1\n",
      "0 0.0012\n",
      "1 0.007092\n",
      "2 0.005097\n",
      "3 0.008097\n",
      "4 0.005177\n",
      "5 0.001839\n",
      "6 7e-06\n",
      "7 0.023355\n",
      "8 0.010628\n",
      "hi1\n",
      "0 0.000955\n",
      "1 0.00495\n",
      "2 0.002602\n",
      "3 0.005026\n",
      "4 0.003751\n",
      "5 0.001279\n",
      "6 5e-06\n",
      "7 0.01849\n",
      "8 0.004554\n",
      "hi1\n",
      "0 0.001203\n",
      "1 0.005393\n",
      "2 0.00296\n",
      "3 0.004745\n"
     ]
    },
    {
     "name": "stderr",
     "output_type": "stream",
     "text": [
      " 90%|█████████ | 451/499 [01:42<00:03, 12.32it/s]"
     ]
    },
    {
     "name": "stdout",
     "output_type": "stream",
     "text": [
      "4 0.003977\n",
      "5 0.000955\n",
      "6 6e-06\n",
      "7 0.035773\n",
      "8 0.005686\n",
      "hi1\n",
      "0 0.001254\n",
      "1 0.009778\n",
      "2 0.003661\n",
      "3 0.005428\n",
      "4 0.005192\n",
      "5 0.001081\n",
      "6 6e-06\n",
      "7 0.024041\n",
      "8 0.00575\n",
      "hi1\n",
      "0 0.00118\n",
      "1 0.00578\n",
      "2 0.003024\n",
      "3 0.005162\n",
      "4 0.004178\n",
      "5 0.001007\n",
      "6 5e-06\n",
      "7 0.024115\n",
      "8 0.005829\n"
     ]
    },
    {
     "name": "stderr",
     "output_type": "stream",
     "text": [
      " 91%|█████████ | 453/499 [01:43<00:03, 12.52it/s]"
     ]
    },
    {
     "name": "stdout",
     "output_type": "stream",
     "text": [
      "hi1\n",
      "0 0.001111\n",
      "1 0.005628\n",
      "2 0.003131\n",
      "3 0.006238\n",
      "4 0.005778\n",
      "5 0.001543\n",
      "6 1.5e-05\n",
      "7 0.025635\n",
      "8 0.005671\n",
      "hi1\n",
      "0 0.001201\n",
      "1 0.005441\n",
      "2 0.003138\n",
      "3 0.005396\n",
      "4 0.003839\n",
      "5 0.000941\n",
      "6 5e-06\n",
      "7 0.016634\n",
      "8 0.005803\n",
      "hi1\n",
      "0 0.000967\n",
      "1 0.00533\n",
      "2 0.003644\n",
      "3 0.007306\n",
      "4 0.006003\n",
      "5 0.001161\n",
      "6 7e-06\n",
      "7 0.019412\n",
      "8 0.004402\n"
     ]
    },
    {
     "name": "stderr",
     "output_type": "stream",
     "text": [
      " 92%|█████████▏| 457/499 [01:43<00:03, 13.10it/s]"
     ]
    },
    {
     "name": "stdout",
     "output_type": "stream",
     "text": [
      "hi1\n",
      "0 0.002198\n",
      "1 0.006503\n",
      "2 0.003868\n",
      "3 0.00536\n",
      "4 0.003863\n",
      "5 0.00093\n",
      "6 5e-06\n",
      "7 0.019429\n",
      "8 0.008386\n",
      "hi1\n",
      "0 0.000947\n",
      "1 0.005511\n",
      "2 0.003575\n",
      "3 0.009195\n",
      "4 0.004463\n",
      "5 0.001132\n",
      "6 5e-06\n",
      "7 0.017468\n",
      "8 0.005292\n",
      "hi1\n",
      "0 0.001176\n",
      "1 0.005372\n",
      "2 0.004597\n",
      "3 0.00683\n",
      "4 0.004473\n",
      "5 0.001587\n",
      "6 1.7e-05\n"
     ]
    },
    {
     "name": "stderr",
     "output_type": "stream",
     "text": [
      " 92%|█████████▏| 459/499 [01:43<00:03, 12.56it/s]"
     ]
    },
    {
     "name": "stdout",
     "output_type": "stream",
     "text": [
      "7 0.028824\n",
      "8 0.006365\n",
      "hi1\n",
      "0 0.001001\n",
      "1 0.005428\n",
      "2 0.004119\n",
      "3 0.008508\n",
      "4 0.004302\n",
      "5 0.001017\n",
      "6 8e-06\n",
      "7 0.01874\n",
      "8 0.005513\n",
      "hi1\n",
      "0 0.001242\n",
      "1 0.005796\n",
      "2 0.0034\n",
      "3 0.005777\n",
      "4 0.004239\n",
      "5 0.001632\n",
      "6 7e-06\n",
      "7 0.017304\n",
      "8 0.007109\n",
      "hi1\n",
      "0 0.001484\n",
      "1 0.005408\n",
      "2"
     ]
    },
    {
     "name": "stderr",
     "output_type": "stream",
     "text": [
      " 92%|█████████▏| 461/499 [01:43<00:03, 12.57it/s]"
     ]
    },
    {
     "name": "stdout",
     "output_type": "stream",
     "text": [
      " 0.002912\n",
      "3 0.0054\n",
      "4 0.0037\n",
      "5 0.001149\n",
      "6 6e-06\n",
      "7 0.018447\n",
      "8 0.005899\n",
      "hi1\n",
      "0 0.00159\n",
      "1 0.005654\n",
      "2 0.003582\n",
      "3 0.005696\n",
      "4 0.00409\n",
      "5 0.001153\n",
      "6 9e-06\n",
      "7 0.023205\n",
      "8 0.005737\n",
      "hi1\n",
      "0 0.001026\n",
      "1 0.005321\n",
      "2 0.002732\n",
      "3 0.005006\n",
      "4 0.003786\n",
      "5 0.001034\n",
      "6 5e-06\n",
      "7 0.014093\n",
      "8 0.004623\n"
     ]
    },
    {
     "name": "stderr",
     "output_type": "stream",
     "text": [
      " 93%|█████████▎| 465/499 [01:43<00:02, 13.15it/s]"
     ]
    },
    {
     "name": "stdout",
     "output_type": "stream",
     "text": [
      "hi1\n",
      "0 0.001487\n",
      "1 0.005622\n",
      "2 0.00359\n",
      "3 0.004614\n",
      "4 0.003253\n",
      "5 0.000972\n",
      "6 6e-06\n",
      "7 0.020754\n",
      "8 0.007423\n",
      "hi1\n",
      "0 0.00118\n",
      "1 0.006098\n",
      "2 0.006318\n",
      "3 0.005925\n",
      "4 0.003183\n",
      "5 0.000982\n",
      "6 4e-06\n",
      "7 0.015393\n",
      "8 0.004783\n",
      "hi1\n",
      "0 0.001249\n",
      "1 0.005704\n",
      "2 0.003061\n",
      "3 0.006256\n",
      "4 0.003734\n",
      "5 0.001091\n",
      "6 9e-06\n",
      "7 0.014744\n",
      "8 0.005193\n"
     ]
    },
    {
     "name": "stderr",
     "output_type": "stream",
     "text": [
      " 94%|█████████▍| 469/499 [01:44<00:02, 13.79it/s]"
     ]
    },
    {
     "name": "stdout",
     "output_type": "stream",
     "text": [
      "hi1\n",
      "0 0.001323\n",
      "1 0.005319\n",
      "2 0.003035\n",
      "3 0.004917\n",
      "4 0.002959\n",
      "5 0.001268\n",
      "6 5e-06\n",
      "7 0.015238\n",
      "8 0.008512\n",
      "hi1\n",
      "0 0.00111\n",
      "1 0.005518\n",
      "2 0.003543\n",
      "3 0.006645\n",
      "4 0.003666\n",
      "5 0.001435\n",
      "6 1.5e-05\n",
      "7 0.017282\n",
      "8 0.009293\n",
      "hi1\n",
      "0 0.00098\n",
      "1 0.005058\n",
      "2 0.003296\n",
      "3 0.00477\n",
      "4 0.002692\n",
      "5 0.001362\n",
      "6 5e-06\n",
      "7 0.01399\n",
      "8 0.004821\n",
      "hi1\n"
     ]
    },
    {
     "name": "stderr",
     "output_type": "stream",
     "text": [
      " 94%|█████████▍| 471/499 [01:44<00:02, 13.39it/s]"
     ]
    },
    {
     "name": "stdout",
     "output_type": "stream",
     "text": [
      "0 0.001453\n",
      "1 0.005532\n",
      "2 0.003658\n",
      "3 0.006014\n",
      "4 0.003384\n",
      "5 0.001701\n",
      "6 8e-06\n",
      "7 0.026555\n",
      "8 0.007008\n",
      "hi1\n",
      "0 0.001782\n",
      "1 0.008379\n",
      "2 0.004439\n",
      "3 0.00436\n",
      "4 0.002878\n",
      "5 0.000969\n",
      "6 7e-06\n",
      "7 0.015065\n",
      "8 0.005235\n",
      "hi1\n",
      "0 0.001244\n",
      "1 0.005698\n",
      "2 0.003314\n",
      "3 0.005119\n",
      "4 0.003166\n",
      "5 0.001191\n",
      "6 1.8e-05\n",
      "7 0.017916\n"
     ]
    },
    {
     "name": "stderr",
     "output_type": "stream",
     "text": [
      " 95%|█████████▍| 473/499 [01:44<00:01, 13.60it/s]"
     ]
    },
    {
     "name": "stdout",
     "output_type": "stream",
     "text": [
      "8 0.005932\n",
      "hi1\n",
      "0 0.002126\n",
      "1 0.007197\n",
      "2 0.004177\n",
      "3 0.005755\n",
      "4 0.00314\n",
      "5 0.001119\n",
      "6 6e-06\n",
      "7 0.017475\n",
      "8 0.011184\n",
      "hi1\n",
      "0 0.001164\n",
      "1 0.005806\n",
      "2 0.003094\n",
      "3 0.004696\n",
      "4 0.002392\n",
      "5 0.00096\n",
      "6 9e-06\n",
      "7 0.013467\n",
      "8 0.00882\n",
      "hi1\n",
      "0 0.001113\n",
      "1 0.005045\n",
      "2 0.003335\n",
      "3 0.004627\n",
      "4 0.002765\n",
      "5 0.001022\n",
      "6 6e-06\n",
      "7 0.012413\n",
      "8 0.00457\n"
     ]
    },
    {
     "name": "stderr",
     "output_type": "stream",
     "text": [
      " 96%|█████████▌| 477/499 [01:44<00:01, 14.37it/s]"
     ]
    },
    {
     "name": "stdout",
     "output_type": "stream",
     "text": [
      "hi1\n",
      "0 0.001189\n",
      "1 0.00604\n",
      "2 0.002971\n",
      "3 0.004517\n",
      "4 0.002416\n",
      "5 0.000971\n",
      "6 5e-06\n",
      "7 0.011469\n",
      "8 0.004212\n",
      "hi1\n",
      "0 0.001108\n",
      "1 0.005201\n",
      "2 0.003282\n",
      "3 0.005871\n",
      "4 0.002275\n",
      "5 0.000966\n",
      "6 5e-06\n",
      "7 0.016135\n",
      "8 0.005051\n",
      "hi1\n",
      "0 0.001148\n",
      "1 0.005781\n",
      "2 0.003751\n",
      "3 0.006763\n",
      "4 0.002978\n",
      "5 0.001516\n",
      "6 1.8e-05\n",
      "7 0.021055\n",
      "8 0.008419\n"
     ]
    },
    {
     "name": "stderr",
     "output_type": "stream",
     "text": [
      " 96%|█████████▋| 481/499 [01:45<00:01, 14.41it/s]"
     ]
    },
    {
     "name": "stdout",
     "output_type": "stream",
     "text": [
      "hi1\n",
      "0 0.001097\n",
      "1 0.005303\n",
      "2 0.003152\n",
      "3 0.004637\n",
      "4 0.002058\n",
      "5 0.001073\n",
      "6 7e-06\n",
      "7 0.01126\n",
      "8 0.004983\n",
      "hi1\n",
      "0 0.001194\n",
      "1 0.005317\n",
      "2 0.003071\n",
      "3 0.005308\n",
      "4 0.002123\n",
      "5 0.000993\n",
      "6 8e-06\n",
      "7 0.012004\n",
      "8 0.008722\n",
      "hi1\n",
      "0 0.001002\n",
      "1 0.005061\n",
      "2 0.003271\n",
      "3 0.004799\n",
      "4 0.00213\n",
      "5 0.000981\n",
      "6 1.1e-05\n",
      "7 0.012183\n",
      "8 0.005879\n",
      "hi1\n",
      "0 0.00115\n"
     ]
    },
    {
     "name": "stderr",
     "output_type": "stream",
     "text": [
      " 97%|█████████▋| 483/499 [01:45<00:01, 13.83it/s]"
     ]
    },
    {
     "name": "stdout",
     "output_type": "stream",
     "text": [
      "1 0.005494\n",
      "2 0.002737\n",
      "3 0.004584\n",
      "4 0.001747\n",
      "5 0.001026\n",
      "6 5e-06\n",
      "7 0.009753\n",
      "8 0.005853\n",
      "hi1\n",
      "0 0.001384\n",
      "1 0.007908\n",
      "2 0.004672\n",
      "3 0.005081\n",
      "4 0.002385\n",
      "5 0.001248\n",
      "6 7e-06\n",
      "7 0.01035\n",
      "8 0.007469\n",
      "hi1\n",
      "0 0.001167\n",
      "1 0.005471\n",
      "2 0.003315\n",
      "3 0.006345\n",
      "4 0.001677\n",
      "5 0.001248\n",
      "6 1.6e-05\n",
      "7 0.013633\n",
      "8 0.005175\n"
     ]
    },
    {
     "name": "stderr",
     "output_type": "stream",
     "text": [
      " 98%|█████████▊| 487/499 [01:45<00:00, 14.04it/s]"
     ]
    },
    {
     "name": "stdout",
     "output_type": "stream",
     "text": [
      "hi1\n",
      "0 0.001178\n",
      "1 0.005537\n",
      "2 0.002754\n",
      "3 0.004182\n",
      "4 0.001498\n",
      "5 0.000977\n",
      "6 6e-06\n",
      "7 0.009115\n",
      "8 0.004378\n",
      "hi1\n",
      "0 0.001185\n",
      "1 0.005224\n",
      "2 0.003181\n",
      "3 0.004269\n",
      "4 0.001344\n",
      "5 0.000832\n",
      "6 8e-06\n",
      "7 0.008566\n",
      "8 0.004631\n",
      "hi1\n",
      "0 0.000995\n",
      "1 0.005513\n",
      "2 0.002701\n",
      "3 0.005943\n",
      "4 0.001932\n",
      "5 0.000961\n",
      "6 7e-06\n",
      "7 0.008456\n",
      "8 0.004576\n",
      "hi1\n",
      "0 0.001237\n"
     ]
    },
    {
     "name": "stderr",
     "output_type": "stream",
     "text": [
      " 98%|█████████▊| 489/499 [01:45<00:00, 14.21it/s]"
     ]
    },
    {
     "name": "stdout",
     "output_type": "stream",
     "text": [
      "1 0.005683\n",
      "2 0.003093\n",
      "3 0.00443\n",
      "4 0.001436\n",
      "5 0.000942\n",
      "6 8e-06\n",
      "7 0.008798\n",
      "8 0.005716\n",
      "hi1\n",
      "0 0.000996\n",
      "1 0.005553\n",
      "2 0.003378\n",
      "3 0.004921\n",
      "4 0.001767\n",
      "5 0.00135\n",
      "6 7e-06\n",
      "7 0.015106\n",
      "8 0.008053\n",
      "hi1\n",
      "0 0.001199\n",
      "1 0.007383\n",
      "2 0.004648\n",
      "3 0.005034\n",
      "4 0.001692\n",
      "5 0.001323\n",
      "6 1.4e-05\n",
      "7 0.008983\n",
      "8 0.005721\n"
     ]
    },
    {
     "name": "stderr",
     "output_type": "stream",
     "text": [
      " 98%|█████████▊| 491/499 [01:45<00:00, 13.58it/s]"
     ]
    },
    {
     "name": "stdout",
     "output_type": "stream",
     "text": [
      "hi1\n",
      "0 0.001228\n",
      "1 0.005868\n",
      "2 0.003134\n",
      "3 0.004169\n",
      "4 0.001511\n",
      "5 0.000952\n",
      "6 1e-05\n",
      "7 0.006452\n",
      "8 0.005858\n",
      "hi1\n",
      "0 0.001641\n",
      "1 0.007281\n",
      "2 0.00416\n",
      "3 0.004931\n",
      "4 0.001156\n",
      "5 0.001054\n",
      "6 8e-06\n",
      "7 0.007507\n",
      "8 0.00673\n",
      "hi1\n",
      "0 0.000889\n",
      "1 0.004907\n",
      "2 0.003851\n",
      "3 0.004162\n",
      "4 0.001325\n",
      "5 0.000992\n",
      "6 4e-06\n",
      "7 0.006454\n",
      "8 0.004425\n"
     ]
    },
    {
     "name": "stderr",
     "output_type": "stream",
     "text": [
      " 99%|█████████▉| 493/499 [01:46<00:00, 12.91it/s]"
     ]
    },
    {
     "name": "stdout",
     "output_type": "stream",
     "text": [
      "hi1\n",
      "0 0.002161\n",
      "1 0.005875\n",
      "2 0.00586\n",
      "3 0.005794\n",
      "4 0.001882\n",
      "5 0.002325\n",
      "6 8e-06\n",
      "7 0.007599\n",
      "8 0.005684\n",
      "hi1\n",
      "0 0.001013\n",
      "1 0.005367\n",
      "2 0.004767\n",
      "3 0.00476\n",
      "4 0.000862\n",
      "5 0.001113\n",
      "6 1.2e-05\n",
      "7 0.006444\n",
      "8 0.004953\n"
     ]
    },
    {
     "name": "stderr",
     "output_type": "stream",
     "text": [
      " 99%|█████████▉| 495/499 [01:46<00:00, 10.38it/s]"
     ]
    },
    {
     "name": "stdout",
     "output_type": "stream",
     "text": [
      "hi1\n",
      "0 0.001547\n",
      "1 0.005802\n",
      "2 0.003924\n",
      "3 0.004193\n",
      "4 0.000922\n",
      "5 0.000983\n",
      "6 8e-06\n",
      "7 0.00579\n",
      "8 0.00431\n",
      "hi1\n",
      "0 0.000943\n",
      "1 0.005193\n",
      "2 0.00566\n",
      "3 0.004486\n",
      "4 0.000623\n",
      "5 0.001037\n",
      "6 7e-06\n",
      "7 0.004677\n",
      "8 0.003967\n"
     ]
    },
    {
     "name": "stderr",
     "output_type": "stream",
     "text": [
      "100%|█████████▉| 498/499 [01:46<00:00,  7.69it/s]"
     ]
    },
    {
     "name": "stdout",
     "output_type": "stream",
     "text": [
      "hi1\n",
      "0 0.001276\n",
      "1 0.005803\n",
      "2 0.005449\n",
      "3 0.004435\n",
      "4 0.000647\n",
      "5 0.001362\n",
      "6 1.2e-05\n",
      "7 0.007241\n",
      "8 0.005796\n",
      "hi1\n",
      "0 0.00116\n",
      "1 0.005717\n",
      "2 0.003505\n",
      "3 0.003683\n",
      "4 0.000722\n",
      "5 0.000816\n",
      "6 4e-06\n",
      "7 0.003931\n",
      "8"
     ]
    },
    {
     "name": "stderr",
     "output_type": "stream",
     "text": [
      "100%|██████████| 499/499 [01:46<00:00,  4.67it/s]"
     ]
    },
    {
     "name": "stdout",
     "output_type": "stream",
     "text": [
      " 0.005267\n",
      "hi1\n",
      "CPU times: user 2min 6s, sys: 3.32 s, total: 2min 9s\n",
      "Wall time: 2min 6s\n"
     ]
    },
    {
     "name": "stderr",
     "output_type": "stream",
     "text": [
      "\n"
     ]
    }
   ],
   "source": [
    "%%time\n",
    "# def find_clusters_with_entropy(alpha = 0, len_data = 500):\n",
    "alpha = 10\n",
    "len_data = 500\n",
    "linkage = \"single\"\n",
    "# alpha = 0\n",
    "# len_data =set len(digits.data)\n",
    "#     len_data = 1000\n",
    "data = pairwise_distances(digits.data[:len_data], digits.data[:len_data], metric='euclidean').copy()\n",
    "targets = digits.target[:len_data].copy()\n",
    "np.fill_diagonal(data,sys.maxsize)\n",
    "\n",
    "clusters = {}\n",
    "row_index = -1\n",
    "col_index = -1\n",
    "array = np.array([])\n",
    "\n",
    "\n",
    "for n in range(data.shape[0]):\n",
    "    array = np.append(array, n)\n",
    "\n",
    "clusters[0] = array.copy()\n",
    "\n",
    "df_clusters = pd.DataFrame([])\n",
    "df_clusters[\"element\"] = range(data.shape[0])\n",
    "num_targets = len(np.unique(targets))\n",
    "lst_targets = np.unique(targets)\n",
    "\n",
    "\n",
    "\n",
    "\n",
    "cluster_counter_array = np.array(2 * len_data)\n",
    "target_counter_array = np.array(2 * len_data)\n",
    "cluster_array_entropy = np.array(2 * len_data)\n",
    "len_add_arr = 2\n",
    "\n",
    "cluster_counter_array = [\n",
    "    Counter([targets[i]])\n",
    "    for i in range(len_data)\n",
    "]\n",
    "\n",
    "target_counter_array = pd.DataFrame(\n",
    "    [\n",
    "        [\n",
    "            Counter(targets[[i, j]])\n",
    "            for j in range(len_data)\n",
    "        ]\n",
    "        for i in range(len_data)\n",
    "    ]\n",
    ")\n",
    "\n",
    "cluster_array_entropy = pd.DataFrame(\n",
    "    [\n",
    "        [\n",
    "            entropy(list(target_counter_array[i][j].values())/np.int64(len_add_arr))\n",
    "            for j in range(len_data)\n",
    "        ]\n",
    "        for i in range(len_data)\n",
    "    ]\n",
    ")\n",
    "\n",
    "cluster_array_entropy_k = cluster_array_entropy.copy()\n",
    "\n",
    "#finding minimum value from the distance matrix\n",
    "#note that this loop will always return minimum value from bottom triangle of matrix\n",
    "#     for k in tqdm(range(1, data.shape[0])):\n",
    "for k in tqdm(range(1, data.shape[0])):\n",
    "#     print(k)\n",
    "    ind_tmp = 0\n",
    "    dt = datetime.datetime.now()\n",
    "#     min_val = sys.maxsize\n",
    "\n",
    "    df_clusters[\"cluster\"] = array\n",
    "    data_with_entropy = data.copy()\n",
    "\n",
    "#     cluster_array_entropy_k = np.array(\n",
    "#         [\n",
    "#             [\n",
    "#                 cluster_array_entropy[array[i]][array[j]]\n",
    "#                 for j in range(0, data.shape[1])\n",
    "#             ]\n",
    "#             for i in range(0, data.shape[0])\n",
    "#         ]\n",
    "#     )\n",
    "    \n",
    "    print(ind_tmp, (datetime.datetime.now() - dt).total_seconds())\n",
    "    dt = datetime.datetime.now()\n",
    "    ind_tmp += 1\n",
    "\n",
    "    data_with_entropy = data_with_entropy + alpha * np.array(cluster_array_entropy_k)\n",
    "#         for i in range(0, data.shape[0]):\n",
    "#             for j in range(0, data.shape[1]):\n",
    "#                 if i != j:\n",
    "#                     data_with_entropy[i][j] = data_with_entropy[i][j] + alpha * cluster_array_entropy[array[i]][array[j]]\n",
    "\n",
    "    ind = np.unravel_index(np.argmin(data_with_entropy, axis=None), data.shape)\n",
    "    row_index = ind[0]\n",
    "    col_index = ind[1]\n",
    "    min_val = data_with_entropy[ind]\n",
    "    \n",
    "    arr_row_index = array[row_index]\n",
    "    arr_col_index = array[col_index]\n",
    "    \n",
    "    print(ind_tmp, (datetime.datetime.now() - dt).total_seconds())\n",
    "    dt = datetime.datetime.now()\n",
    "    ind_tmp += 1\n",
    "\n",
    "#     print(\"MIN \", min_val, row_index, col_index)\n",
    "    part1 = list(df_clusters[df_clusters.cluster == arr_row_index].element)\n",
    "    part2 = list(df_clusters[df_clusters.cluster == arr_col_index].element)\n",
    "#     all_parts = list(set(part1).union(set(part2)))\n",
    "#     print(all_parts)\n",
    "    all_parts_combinations = np.transpose([np.tile(part1, len(part2)), np.repeat(part2, len(part1))])\n",
    "    data[all_parts_combinations[:, 0], all_parts_combinations[:, 1]] = sys.maxsize\n",
    "    data[all_parts_combinations[:, 1], all_parts_combinations[:, 0]] = sys.maxsize\n",
    "    \n",
    "    print(ind_tmp, (datetime.datetime.now() - dt).total_seconds())\n",
    "    dt = datetime.datetime.now()\n",
    "    ind_tmp += 1\n",
    "    \n",
    "#     print(\"MIN part \", part1, part2, all_parts)\n",
    "#     print(\"MIN \", data[ind], row_index, col_index, all_parts)\n",
    "#     data[list(part1), list(part2)] = sys.maxsize\n",
    "#         for i1 in part1:\n",
    "#             for i2 in part2:\n",
    "#                 data[i1][i2] = sys.maxsize\n",
    "#                 data[i2][i1] = sys.maxsize\n",
    "\n",
    "    new_cluster_num = k - 1 + data.shape[0]\n",
    "\n",
    "    add_cluster_counter = cluster_counter_array[row_index] + cluster_counter_array[col_index]\n",
    "    \n",
    "    target_counter_array.drop([arr_row_index, arr_col_index], axis = 0, inplace = True)\n",
    "    target_counter_array.drop([arr_row_index, arr_col_index], axis = 1, inplace = True)\n",
    "    \n",
    "    cluster_array_entropy.drop([arr_row_index, arr_col_index], axis = 0, inplace = True)\n",
    "    cluster_array_entropy.drop([arr_row_index, arr_col_index], axis = 1, inplace = True)\n",
    "    \n",
    "    print(ind_tmp, (datetime.datetime.now() - dt).total_seconds())\n",
    "    dt = datetime.datetime.now()\n",
    "    ind_tmp += 1\n",
    "\n",
    "#     print(cluster_array_entropy.shape, target_counter_array.shape, arr_row_index, arr_col_index)\n",
    "    \n",
    "    add_col_counter = [\n",
    "        cluster_counter_array[i] + add_cluster_counter\n",
    "        for i in target_counter_array.columns\n",
    "    ]\n",
    "    \n",
    "#     print(\"add_col_counter: \", len(add_col_counter))\n",
    "\n",
    "    add_col_entropy = [\n",
    "        entropy(\n",
    "            list(x.values())/np.sum(list(x.values()))\n",
    "        )\n",
    "        for x in add_col_counter\n",
    "    ]\n",
    "\n",
    "    cluster_counter_array = np.append(\n",
    "        cluster_counter_array\n",
    "        , add_cluster_counter\n",
    "    )\n",
    "    \n",
    "    print(ind_tmp, (datetime.datetime.now() - dt).total_seconds())\n",
    "    dt = datetime.datetime.now()\n",
    "    ind_tmp += 1\n",
    "    \n",
    "    target_counter_array[new_cluster_num] = add_col_counter\n",
    "#     if k == 2:\n",
    "#         break\n",
    "\n",
    "    print(ind_tmp, (datetime.datetime.now() - dt).total_seconds())\n",
    "    dt = datetime.datetime.now()\n",
    "    ind_tmp += 1\n",
    "    \n",
    "#     print(cluster_array_entropy.shape, target_counter_array.shape)\n",
    "    add_col_counter.append(add_cluster_counter)\n",
    "    \n",
    "    print(ind_tmp, (datetime.datetime.now() - dt).total_seconds())\n",
    "    dt = datetime.datetime.now()\n",
    "    ind_tmp += 1\n",
    "    \n",
    "#     print(\"hi1\", target_counter_array.shape, pd.Series(add_col_counter, name = new_cluster_num).shape)\n",
    "    target_counter_array = target_counter_array.append(\n",
    "        pd.Series(add_col_counter, name = new_cluster_num, index = target_counter_array.columns), ignore_index = False\n",
    "    )\n",
    "#     print(\"hi1\", target_counter_array.shape, pd.Series(add_col_counter, name = new_cluster_num).shape)\n",
    "    \n",
    "#     print(\"add_col_counter: \", len(add_col_counter))\n",
    "#     if k == 1:\n",
    "#         break\n",
    "\n",
    "#         target_counter_array = np.hstack((target_counter_array, add_col_counter))\n",
    "#         add_col_counter = add_col_counter + [[add_cluster_counter]]\n",
    "#         target_counter_array = np.concatenate(\n",
    "#             [target_counter_array, np.array(add_col_counter).reshape(1, -1)]\n",
    "#         )\n",
    "#     target_counter_array = target_counter_array + [add_col_counter]\n",
    "\n",
    "    \n",
    "    print(ind_tmp, (datetime.datetime.now() - dt).total_seconds())\n",
    "    dt = datetime.datetime.now()\n",
    "    ind_tmp += 1\n",
    "\n",
    "#     print(\"hi2\")\n",
    "    cluster_array_entropy[new_cluster_num] = add_col_entropy\n",
    "    add_col_entropy.append(sys.maxsize)\n",
    "    cluster_array_entropy = cluster_array_entropy.append(\n",
    "        pd.Series(add_col_entropy, name = new_cluster_num, index = cluster_array_entropy.columns), ignore_index = False\n",
    "    )\n",
    "    \n",
    "    \n",
    "    print(ind_tmp, (datetime.datetime.now() - dt).total_seconds())\n",
    "    dt = datetime.datetime.now()\n",
    "    ind_tmp += 1\n",
    "#     print(\"hi3\", cluster_array_entropy.shape, pd.Series(add_col_entropy, name = new_cluster_num).shape)\n",
    "    array[list(part1)] = new_cluster_num\n",
    "#         for i1 in part1:\n",
    "#             array[i1] = k - 1 + data.shape[0]\n",
    "\n",
    "    array[list(part2)] = new_cluster_num\n",
    "#         for i2 in part2:\n",
    "#             array[i2] = k - 1 + data.shape[0]\n",
    "\n",
    "    clusters[k] = array.copy()\n",
    "\n",
    "    \n",
    "        \n",
    "    add_col_entropy_new_cluster = [\n",
    "        cluster_array_entropy[array[i]][new_cluster_num]\n",
    "        for i in range(data.shape[0])\n",
    "    ]\n",
    "    \n",
    "    all_parts = list(set(part1).union(set(part2)))\n",
    "    \n",
    "    for ind_all_parts in all_parts:\n",
    "        cluster_array_entropy_k[ind_all_parts] = add_col_entropy_new_cluster\n",
    "\n",
    "    print(\"hi1\")\n",
    "\n",
    "#         cluster_array_entropy = np.hstack((cluster_array_entropy, add_col_entropy))\n",
    "#         add_col_entropy = add_col_entropy + [[sys.maxsize]]\n",
    "#         cluster_array_entropy = np.concatenate(\n",
    "#             [cluster_array_entropy, np.array(add_col_entropy).reshape(1, -1)]\n",
    "#         )\n",
    "#     cluster_array_entropy = cluster_array_entropy + [add_col_entropy]\n",
    "#     print(\"hihi2\")\n",
    "#     print(data.shape[0])\n",
    "# acc_res = cluster_score(targets, clusters, data)\n",
    "#     return acc_res"
   ]
  },
  {
   "cell_type": "code",
   "execution_count": 155,
   "metadata": {},
   "outputs": [
    {
     "data": {
      "text/plain": [
       "array([414., 442., 858., 957., 976., 978., 985., 986., 988., 989.])"
      ]
     },
     "execution_count": 155,
     "metadata": {},
     "output_type": "execute_result"
    }
   ],
   "source": [
    "np.unique(clusters[data.shape[0] - 10])"
   ]
  },
  {
   "cell_type": "code",
   "execution_count": 125,
   "metadata": {},
   "outputs": [
    {
     "data": {
      "text/plain": [
       "array([[0., 0., 0., ..., 0., 0., 0.],\n",
       "       [0., 0., 0., ..., 0., 0., 0.],\n",
       "       [0., 0., 0., ..., 0., 0., 0.],\n",
       "       ...,\n",
       "       [0., 0., 0., ..., 0., 0., 0.],\n",
       "       [0., 0., 0., ..., 0., 0., 0.],\n",
       "       [0., 0., 0., ..., 0., 0., 0.]])"
      ]
     },
     "execution_count": 125,
     "metadata": {},
     "output_type": "execute_result"
    }
   ],
   "source": [
    "alpha * np.array(cluster_array_entropy_k)"
   ]
  },
  {
   "cell_type": "code",
   "execution_count": 343,
   "metadata": {},
   "outputs": [],
   "source": [
    "df_tmp = pd.DataFrame(cluster_array_entropy)"
   ]
  },
  {
   "cell_type": "code",
   "execution_count": 344,
   "metadata": {},
   "outputs": [
    {
     "data": {
      "text/html": [
       "<div>\n",
       "<style scoped>\n",
       "    .dataframe tbody tr th:only-of-type {\n",
       "        vertical-align: middle;\n",
       "    }\n",
       "\n",
       "    .dataframe tbody tr th {\n",
       "        vertical-align: top;\n",
       "    }\n",
       "\n",
       "    .dataframe thead th {\n",
       "        text-align: right;\n",
       "    }\n",
       "</style>\n",
       "<table border=\"1\" class=\"dataframe\">\n",
       "  <thead>\n",
       "    <tr style=\"text-align: right;\">\n",
       "      <th></th>\n",
       "      <th>0</th>\n",
       "      <th>1</th>\n",
       "      <th>2</th>\n",
       "      <th>3</th>\n",
       "      <th>4</th>\n",
       "      <th>5</th>\n",
       "      <th>6</th>\n",
       "      <th>7</th>\n",
       "      <th>8</th>\n",
       "      <th>9</th>\n",
       "      <th>...</th>\n",
       "      <th>90</th>\n",
       "      <th>91</th>\n",
       "      <th>92</th>\n",
       "      <th>93</th>\n",
       "      <th>94</th>\n",
       "      <th>95</th>\n",
       "      <th>96</th>\n",
       "      <th>97</th>\n",
       "      <th>98</th>\n",
       "      <th>99</th>\n",
       "    </tr>\n",
       "  </thead>\n",
       "  <tbody>\n",
       "    <tr>\n",
       "      <th>0</th>\n",
       "      <td>0.000000</td>\n",
       "      <td>0.693147</td>\n",
       "      <td>0.693147</td>\n",
       "      <td>0.693147</td>\n",
       "      <td>0.693147</td>\n",
       "      <td>0.693147</td>\n",
       "      <td>0.693147</td>\n",
       "      <td>0.693147</td>\n",
       "      <td>0.693147</td>\n",
       "      <td>0.693147</td>\n",
       "      <td>...</td>\n",
       "      <td>0.693147</td>\n",
       "      <td>0.693147</td>\n",
       "      <td>0.693147</td>\n",
       "      <td>0.693147</td>\n",
       "      <td>0.693147</td>\n",
       "      <td>0.693147</td>\n",
       "      <td>0.693147</td>\n",
       "      <td>0.693147</td>\n",
       "      <td>0.693147</td>\n",
       "      <td>0.693147</td>\n",
       "    </tr>\n",
       "    <tr>\n",
       "      <th>1</th>\n",
       "      <td>0.693147</td>\n",
       "      <td>0.000000</td>\n",
       "      <td>0.693147</td>\n",
       "      <td>0.693147</td>\n",
       "      <td>0.693147</td>\n",
       "      <td>0.693147</td>\n",
       "      <td>0.693147</td>\n",
       "      <td>0.693147</td>\n",
       "      <td>0.693147</td>\n",
       "      <td>0.693147</td>\n",
       "      <td>...</td>\n",
       "      <td>0.000000</td>\n",
       "      <td>0.693147</td>\n",
       "      <td>0.693147</td>\n",
       "      <td>0.000000</td>\n",
       "      <td>0.693147</td>\n",
       "      <td>0.693147</td>\n",
       "      <td>0.693147</td>\n",
       "      <td>0.693147</td>\n",
       "      <td>0.693147</td>\n",
       "      <td>0.000000</td>\n",
       "    </tr>\n",
       "    <tr>\n",
       "      <th>2</th>\n",
       "      <td>0.693147</td>\n",
       "      <td>0.693147</td>\n",
       "      <td>0.000000</td>\n",
       "      <td>0.693147</td>\n",
       "      <td>0.693147</td>\n",
       "      <td>0.693147</td>\n",
       "      <td>0.693147</td>\n",
       "      <td>0.693147</td>\n",
       "      <td>0.693147</td>\n",
       "      <td>0.693147</td>\n",
       "      <td>...</td>\n",
       "      <td>0.693147</td>\n",
       "      <td>0.693147</td>\n",
       "      <td>0.693147</td>\n",
       "      <td>0.693147</td>\n",
       "      <td>0.693147</td>\n",
       "      <td>0.693147</td>\n",
       "      <td>0.693147</td>\n",
       "      <td>0.693147</td>\n",
       "      <td>0.693147</td>\n",
       "      <td>0.693147</td>\n",
       "    </tr>\n",
       "    <tr>\n",
       "      <th>3</th>\n",
       "      <td>0.693147</td>\n",
       "      <td>0.693147</td>\n",
       "      <td>0.693147</td>\n",
       "      <td>0.000000</td>\n",
       "      <td>0.693147</td>\n",
       "      <td>0.693147</td>\n",
       "      <td>0.693147</td>\n",
       "      <td>0.693147</td>\n",
       "      <td>0.693147</td>\n",
       "      <td>0.693147</td>\n",
       "      <td>...</td>\n",
       "      <td>0.693147</td>\n",
       "      <td>0.000000</td>\n",
       "      <td>0.693147</td>\n",
       "      <td>0.693147</td>\n",
       "      <td>0.693147</td>\n",
       "      <td>0.693147</td>\n",
       "      <td>0.693147</td>\n",
       "      <td>0.693147</td>\n",
       "      <td>0.000000</td>\n",
       "      <td>0.693147</td>\n",
       "    </tr>\n",
       "    <tr>\n",
       "      <th>4</th>\n",
       "      <td>0.693147</td>\n",
       "      <td>0.693147</td>\n",
       "      <td>0.693147</td>\n",
       "      <td>0.693147</td>\n",
       "      <td>0.000000</td>\n",
       "      <td>0.693147</td>\n",
       "      <td>0.693147</td>\n",
       "      <td>0.693147</td>\n",
       "      <td>0.693147</td>\n",
       "      <td>0.693147</td>\n",
       "      <td>...</td>\n",
       "      <td>0.693147</td>\n",
       "      <td>0.693147</td>\n",
       "      <td>0.693147</td>\n",
       "      <td>0.693147</td>\n",
       "      <td>0.693147</td>\n",
       "      <td>0.693147</td>\n",
       "      <td>0.693147</td>\n",
       "      <td>0.000000</td>\n",
       "      <td>0.693147</td>\n",
       "      <td>0.693147</td>\n",
       "    </tr>\n",
       "    <tr>\n",
       "      <th>...</th>\n",
       "      <td>...</td>\n",
       "      <td>...</td>\n",
       "      <td>...</td>\n",
       "      <td>...</td>\n",
       "      <td>...</td>\n",
       "      <td>...</td>\n",
       "      <td>...</td>\n",
       "      <td>...</td>\n",
       "      <td>...</td>\n",
       "      <td>...</td>\n",
       "      <td>...</td>\n",
       "      <td>...</td>\n",
       "      <td>...</td>\n",
       "      <td>...</td>\n",
       "      <td>...</td>\n",
       "      <td>...</td>\n",
       "      <td>...</td>\n",
       "      <td>...</td>\n",
       "      <td>...</td>\n",
       "      <td>...</td>\n",
       "      <td>...</td>\n",
       "    </tr>\n",
       "    <tr>\n",
       "      <th>95</th>\n",
       "      <td>0.693147</td>\n",
       "      <td>0.693147</td>\n",
       "      <td>0.693147</td>\n",
       "      <td>0.693147</td>\n",
       "      <td>0.693147</td>\n",
       "      <td>0.693147</td>\n",
       "      <td>0.000000</td>\n",
       "      <td>0.693147</td>\n",
       "      <td>0.693147</td>\n",
       "      <td>0.693147</td>\n",
       "      <td>...</td>\n",
       "      <td>0.693147</td>\n",
       "      <td>0.693147</td>\n",
       "      <td>0.693147</td>\n",
       "      <td>0.693147</td>\n",
       "      <td>0.693147</td>\n",
       "      <td>0.000000</td>\n",
       "      <td>0.693147</td>\n",
       "      <td>0.693147</td>\n",
       "      <td>0.693147</td>\n",
       "      <td>0.693147</td>\n",
       "    </tr>\n",
       "    <tr>\n",
       "      <th>96</th>\n",
       "      <td>0.693147</td>\n",
       "      <td>0.693147</td>\n",
       "      <td>0.693147</td>\n",
       "      <td>0.693147</td>\n",
       "      <td>0.693147</td>\n",
       "      <td>0.693147</td>\n",
       "      <td>0.693147</td>\n",
       "      <td>0.693147</td>\n",
       "      <td>0.000000</td>\n",
       "      <td>0.693147</td>\n",
       "      <td>...</td>\n",
       "      <td>0.693147</td>\n",
       "      <td>0.693147</td>\n",
       "      <td>0.693147</td>\n",
       "      <td>0.693147</td>\n",
       "      <td>0.693147</td>\n",
       "      <td>0.693147</td>\n",
       "      <td>0.000000</td>\n",
       "      <td>0.693147</td>\n",
       "      <td>0.693147</td>\n",
       "      <td>0.693147</td>\n",
       "    </tr>\n",
       "    <tr>\n",
       "      <th>97</th>\n",
       "      <td>0.693147</td>\n",
       "      <td>0.693147</td>\n",
       "      <td>0.693147</td>\n",
       "      <td>0.693147</td>\n",
       "      <td>0.000000</td>\n",
       "      <td>0.693147</td>\n",
       "      <td>0.693147</td>\n",
       "      <td>0.693147</td>\n",
       "      <td>0.693147</td>\n",
       "      <td>0.693147</td>\n",
       "      <td>...</td>\n",
       "      <td>0.693147</td>\n",
       "      <td>0.693147</td>\n",
       "      <td>0.693147</td>\n",
       "      <td>0.693147</td>\n",
       "      <td>0.693147</td>\n",
       "      <td>0.693147</td>\n",
       "      <td>0.693147</td>\n",
       "      <td>0.000000</td>\n",
       "      <td>0.693147</td>\n",
       "      <td>0.693147</td>\n",
       "    </tr>\n",
       "    <tr>\n",
       "      <th>98</th>\n",
       "      <td>0.693147</td>\n",
       "      <td>0.693147</td>\n",
       "      <td>0.693147</td>\n",
       "      <td>0.000000</td>\n",
       "      <td>0.693147</td>\n",
       "      <td>0.693147</td>\n",
       "      <td>0.693147</td>\n",
       "      <td>0.693147</td>\n",
       "      <td>0.693147</td>\n",
       "      <td>0.693147</td>\n",
       "      <td>...</td>\n",
       "      <td>0.693147</td>\n",
       "      <td>0.000000</td>\n",
       "      <td>0.693147</td>\n",
       "      <td>0.693147</td>\n",
       "      <td>0.693147</td>\n",
       "      <td>0.693147</td>\n",
       "      <td>0.693147</td>\n",
       "      <td>0.693147</td>\n",
       "      <td>0.000000</td>\n",
       "      <td>0.693147</td>\n",
       "    </tr>\n",
       "    <tr>\n",
       "      <th>101</th>\n",
       "      <td>1.000000</td>\n",
       "      <td>1.000000</td>\n",
       "      <td>1.000000</td>\n",
       "      <td>1.000000</td>\n",
       "      <td>1.000000</td>\n",
       "      <td>1.000000</td>\n",
       "      <td>1.000000</td>\n",
       "      <td>1.000000</td>\n",
       "      <td>1.000000</td>\n",
       "      <td>1.000000</td>\n",
       "      <td>...</td>\n",
       "      <td>1.000000</td>\n",
       "      <td>1.000000</td>\n",
       "      <td>1.000000</td>\n",
       "      <td>1.000000</td>\n",
       "      <td>1.000000</td>\n",
       "      <td>1.000000</td>\n",
       "      <td>1.000000</td>\n",
       "      <td>1.000000</td>\n",
       "      <td>1.000000</td>\n",
       "      <td>1.000000</td>\n",
       "    </tr>\n",
       "  </tbody>\n",
       "</table>\n",
       "<p>100 rows × 100 columns</p>\n",
       "</div>"
      ],
      "text/plain": [
       "           0         1         2         3         4         5         6   \\\n",
       "0    0.000000  0.693147  0.693147  0.693147  0.693147  0.693147  0.693147   \n",
       "1    0.693147  0.000000  0.693147  0.693147  0.693147  0.693147  0.693147   \n",
       "2    0.693147  0.693147  0.000000  0.693147  0.693147  0.693147  0.693147   \n",
       "3    0.693147  0.693147  0.693147  0.000000  0.693147  0.693147  0.693147   \n",
       "4    0.693147  0.693147  0.693147  0.693147  0.000000  0.693147  0.693147   \n",
       "..        ...       ...       ...       ...       ...       ...       ...   \n",
       "95   0.693147  0.693147  0.693147  0.693147  0.693147  0.693147  0.000000   \n",
       "96   0.693147  0.693147  0.693147  0.693147  0.693147  0.693147  0.693147   \n",
       "97   0.693147  0.693147  0.693147  0.693147  0.000000  0.693147  0.693147   \n",
       "98   0.693147  0.693147  0.693147  0.000000  0.693147  0.693147  0.693147   \n",
       "101  1.000000  1.000000  1.000000  1.000000  1.000000  1.000000  1.000000   \n",
       "\n",
       "           7         8         9   ...        90        91        92  \\\n",
       "0    0.693147  0.693147  0.693147  ...  0.693147  0.693147  0.693147   \n",
       "1    0.693147  0.693147  0.693147  ...  0.000000  0.693147  0.693147   \n",
       "2    0.693147  0.693147  0.693147  ...  0.693147  0.693147  0.693147   \n",
       "3    0.693147  0.693147  0.693147  ...  0.693147  0.000000  0.693147   \n",
       "4    0.693147  0.693147  0.693147  ...  0.693147  0.693147  0.693147   \n",
       "..        ...       ...       ...  ...       ...       ...       ...   \n",
       "95   0.693147  0.693147  0.693147  ...  0.693147  0.693147  0.693147   \n",
       "96   0.693147  0.000000  0.693147  ...  0.693147  0.693147  0.693147   \n",
       "97   0.693147  0.693147  0.693147  ...  0.693147  0.693147  0.693147   \n",
       "98   0.693147  0.693147  0.693147  ...  0.693147  0.000000  0.693147   \n",
       "101  1.000000  1.000000  1.000000  ...  1.000000  1.000000  1.000000   \n",
       "\n",
       "           93        94        95        96        97        98        99  \n",
       "0    0.693147  0.693147  0.693147  0.693147  0.693147  0.693147  0.693147  \n",
       "1    0.000000  0.693147  0.693147  0.693147  0.693147  0.693147  0.000000  \n",
       "2    0.693147  0.693147  0.693147  0.693147  0.693147  0.693147  0.693147  \n",
       "3    0.693147  0.693147  0.693147  0.693147  0.693147  0.000000  0.693147  \n",
       "4    0.693147  0.693147  0.693147  0.693147  0.000000  0.693147  0.693147  \n",
       "..        ...       ...       ...       ...       ...       ...       ...  \n",
       "95   0.693147  0.693147  0.000000  0.693147  0.693147  0.693147  0.693147  \n",
       "96   0.693147  0.693147  0.693147  0.000000  0.693147  0.693147  0.693147  \n",
       "97   0.693147  0.693147  0.693147  0.693147  0.000000  0.693147  0.693147  \n",
       "98   0.693147  0.693147  0.693147  0.693147  0.693147  0.000000  0.693147  \n",
       "101  1.000000  1.000000  1.000000  1.000000  1.000000  1.000000  1.000000  \n",
       "\n",
       "[100 rows x 100 columns]"
      ]
     },
     "execution_count": 344,
     "metadata": {},
     "output_type": "execute_result"
    }
   ],
   "source": [
    "df_tmp.drop(99, axis = 0, inplace = True)\n",
    "df_tmp.append(pd.Series([1]*df_tmp.shape[1], name = 101), ignore_index = False)"
   ]
  },
  {
   "cell_type": "code",
   "execution_count": null,
   "metadata": {},
   "outputs": [],
   "source": []
  },
  {
   "cell_type": "code",
   "execution_count": 328,
   "metadata": {},
   "outputs": [
    {
     "data": {
      "text/html": [
       "<div>\n",
       "<style scoped>\n",
       "    .dataframe tbody tr th:only-of-type {\n",
       "        vertical-align: middle;\n",
       "    }\n",
       "\n",
       "    .dataframe tbody tr th {\n",
       "        vertical-align: top;\n",
       "    }\n",
       "\n",
       "    .dataframe thead th {\n",
       "        text-align: right;\n",
       "    }\n",
       "</style>\n",
       "<table border=\"1\" class=\"dataframe\">\n",
       "  <thead>\n",
       "    <tr style=\"text-align: right;\">\n",
       "      <th></th>\n",
       "      <th>0</th>\n",
       "      <th>1</th>\n",
       "      <th>2</th>\n",
       "      <th>3</th>\n",
       "      <th>4</th>\n",
       "      <th>5</th>\n",
       "      <th>6</th>\n",
       "      <th>7</th>\n",
       "      <th>8</th>\n",
       "      <th>9</th>\n",
       "      <th>...</th>\n",
       "      <th>90</th>\n",
       "      <th>91</th>\n",
       "      <th>92</th>\n",
       "      <th>93</th>\n",
       "      <th>94</th>\n",
       "      <th>95</th>\n",
       "      <th>96</th>\n",
       "      <th>97</th>\n",
       "      <th>98</th>\n",
       "      <th>99</th>\n",
       "    </tr>\n",
       "  </thead>\n",
       "  <tbody>\n",
       "    <tr>\n",
       "      <th>0</th>\n",
       "      <td>0.000000</td>\n",
       "      <td>0.693147</td>\n",
       "      <td>0.693147</td>\n",
       "      <td>0.693147</td>\n",
       "      <td>0.693147</td>\n",
       "      <td>0.693147</td>\n",
       "      <td>0.693147</td>\n",
       "      <td>0.693147</td>\n",
       "      <td>0.693147</td>\n",
       "      <td>0.693147</td>\n",
       "      <td>...</td>\n",
       "      <td>0.693147</td>\n",
       "      <td>0.693147</td>\n",
       "      <td>0.693147</td>\n",
       "      <td>0.693147</td>\n",
       "      <td>0.693147</td>\n",
       "      <td>0.693147</td>\n",
       "      <td>0.693147</td>\n",
       "      <td>0.693147</td>\n",
       "      <td>0.693147</td>\n",
       "      <td>0.693147</td>\n",
       "    </tr>\n",
       "    <tr>\n",
       "      <th>1</th>\n",
       "      <td>0.693147</td>\n",
       "      <td>0.000000</td>\n",
       "      <td>0.693147</td>\n",
       "      <td>0.693147</td>\n",
       "      <td>0.693147</td>\n",
       "      <td>0.693147</td>\n",
       "      <td>0.693147</td>\n",
       "      <td>0.693147</td>\n",
       "      <td>0.693147</td>\n",
       "      <td>0.693147</td>\n",
       "      <td>...</td>\n",
       "      <td>0.000000</td>\n",
       "      <td>0.693147</td>\n",
       "      <td>0.693147</td>\n",
       "      <td>0.000000</td>\n",
       "      <td>0.693147</td>\n",
       "      <td>0.693147</td>\n",
       "      <td>0.693147</td>\n",
       "      <td>0.693147</td>\n",
       "      <td>0.693147</td>\n",
       "      <td>0.000000</td>\n",
       "    </tr>\n",
       "    <tr>\n",
       "      <th>2</th>\n",
       "      <td>0.693147</td>\n",
       "      <td>0.693147</td>\n",
       "      <td>0.000000</td>\n",
       "      <td>0.693147</td>\n",
       "      <td>0.693147</td>\n",
       "      <td>0.693147</td>\n",
       "      <td>0.693147</td>\n",
       "      <td>0.693147</td>\n",
       "      <td>0.693147</td>\n",
       "      <td>0.693147</td>\n",
       "      <td>...</td>\n",
       "      <td>0.693147</td>\n",
       "      <td>0.693147</td>\n",
       "      <td>0.693147</td>\n",
       "      <td>0.693147</td>\n",
       "      <td>0.693147</td>\n",
       "      <td>0.693147</td>\n",
       "      <td>0.693147</td>\n",
       "      <td>0.693147</td>\n",
       "      <td>0.693147</td>\n",
       "      <td>0.693147</td>\n",
       "    </tr>\n",
       "    <tr>\n",
       "      <th>3</th>\n",
       "      <td>0.693147</td>\n",
       "      <td>0.693147</td>\n",
       "      <td>0.693147</td>\n",
       "      <td>0.000000</td>\n",
       "      <td>0.693147</td>\n",
       "      <td>0.693147</td>\n",
       "      <td>0.693147</td>\n",
       "      <td>0.693147</td>\n",
       "      <td>0.693147</td>\n",
       "      <td>0.693147</td>\n",
       "      <td>...</td>\n",
       "      <td>0.693147</td>\n",
       "      <td>0.000000</td>\n",
       "      <td>0.693147</td>\n",
       "      <td>0.693147</td>\n",
       "      <td>0.693147</td>\n",
       "      <td>0.693147</td>\n",
       "      <td>0.693147</td>\n",
       "      <td>0.693147</td>\n",
       "      <td>0.000000</td>\n",
       "      <td>0.693147</td>\n",
       "    </tr>\n",
       "    <tr>\n",
       "      <th>4</th>\n",
       "      <td>0.693147</td>\n",
       "      <td>0.693147</td>\n",
       "      <td>0.693147</td>\n",
       "      <td>0.693147</td>\n",
       "      <td>0.000000</td>\n",
       "      <td>0.693147</td>\n",
       "      <td>0.693147</td>\n",
       "      <td>0.693147</td>\n",
       "      <td>0.693147</td>\n",
       "      <td>0.693147</td>\n",
       "      <td>...</td>\n",
       "      <td>0.693147</td>\n",
       "      <td>0.693147</td>\n",
       "      <td>0.693147</td>\n",
       "      <td>0.693147</td>\n",
       "      <td>0.693147</td>\n",
       "      <td>0.693147</td>\n",
       "      <td>0.693147</td>\n",
       "      <td>0.000000</td>\n",
       "      <td>0.693147</td>\n",
       "      <td>0.693147</td>\n",
       "    </tr>\n",
       "    <tr>\n",
       "      <th>...</th>\n",
       "      <td>...</td>\n",
       "      <td>...</td>\n",
       "      <td>...</td>\n",
       "      <td>...</td>\n",
       "      <td>...</td>\n",
       "      <td>...</td>\n",
       "      <td>...</td>\n",
       "      <td>...</td>\n",
       "      <td>...</td>\n",
       "      <td>...</td>\n",
       "      <td>...</td>\n",
       "      <td>...</td>\n",
       "      <td>...</td>\n",
       "      <td>...</td>\n",
       "      <td>...</td>\n",
       "      <td>...</td>\n",
       "      <td>...</td>\n",
       "      <td>...</td>\n",
       "      <td>...</td>\n",
       "      <td>...</td>\n",
       "      <td>...</td>\n",
       "    </tr>\n",
       "    <tr>\n",
       "      <th>95</th>\n",
       "      <td>1.000000</td>\n",
       "      <td>NaN</td>\n",
       "      <td>NaN</td>\n",
       "      <td>NaN</td>\n",
       "      <td>NaN</td>\n",
       "      <td>NaN</td>\n",
       "      <td>NaN</td>\n",
       "      <td>NaN</td>\n",
       "      <td>NaN</td>\n",
       "      <td>NaN</td>\n",
       "      <td>...</td>\n",
       "      <td>NaN</td>\n",
       "      <td>NaN</td>\n",
       "      <td>NaN</td>\n",
       "      <td>NaN</td>\n",
       "      <td>NaN</td>\n",
       "      <td>NaN</td>\n",
       "      <td>NaN</td>\n",
       "      <td>NaN</td>\n",
       "      <td>NaN</td>\n",
       "      <td>NaN</td>\n",
       "    </tr>\n",
       "    <tr>\n",
       "      <th>96</th>\n",
       "      <td>1.000000</td>\n",
       "      <td>NaN</td>\n",
       "      <td>NaN</td>\n",
       "      <td>NaN</td>\n",
       "      <td>NaN</td>\n",
       "      <td>NaN</td>\n",
       "      <td>NaN</td>\n",
       "      <td>NaN</td>\n",
       "      <td>NaN</td>\n",
       "      <td>NaN</td>\n",
       "      <td>...</td>\n",
       "      <td>NaN</td>\n",
       "      <td>NaN</td>\n",
       "      <td>NaN</td>\n",
       "      <td>NaN</td>\n",
       "      <td>NaN</td>\n",
       "      <td>NaN</td>\n",
       "      <td>NaN</td>\n",
       "      <td>NaN</td>\n",
       "      <td>NaN</td>\n",
       "      <td>NaN</td>\n",
       "    </tr>\n",
       "    <tr>\n",
       "      <th>97</th>\n",
       "      <td>1.000000</td>\n",
       "      <td>NaN</td>\n",
       "      <td>NaN</td>\n",
       "      <td>NaN</td>\n",
       "      <td>NaN</td>\n",
       "      <td>NaN</td>\n",
       "      <td>NaN</td>\n",
       "      <td>NaN</td>\n",
       "      <td>NaN</td>\n",
       "      <td>NaN</td>\n",
       "      <td>...</td>\n",
       "      <td>NaN</td>\n",
       "      <td>NaN</td>\n",
       "      <td>NaN</td>\n",
       "      <td>NaN</td>\n",
       "      <td>NaN</td>\n",
       "      <td>NaN</td>\n",
       "      <td>NaN</td>\n",
       "      <td>NaN</td>\n",
       "      <td>NaN</td>\n",
       "      <td>NaN</td>\n",
       "    </tr>\n",
       "    <tr>\n",
       "      <th>98</th>\n",
       "      <td>1.000000</td>\n",
       "      <td>NaN</td>\n",
       "      <td>NaN</td>\n",
       "      <td>NaN</td>\n",
       "      <td>NaN</td>\n",
       "      <td>NaN</td>\n",
       "      <td>NaN</td>\n",
       "      <td>NaN</td>\n",
       "      <td>NaN</td>\n",
       "      <td>NaN</td>\n",
       "      <td>...</td>\n",
       "      <td>NaN</td>\n",
       "      <td>NaN</td>\n",
       "      <td>NaN</td>\n",
       "      <td>NaN</td>\n",
       "      <td>NaN</td>\n",
       "      <td>NaN</td>\n",
       "      <td>NaN</td>\n",
       "      <td>NaN</td>\n",
       "      <td>NaN</td>\n",
       "      <td>NaN</td>\n",
       "    </tr>\n",
       "    <tr>\n",
       "      <th>99</th>\n",
       "      <td>1.000000</td>\n",
       "      <td>NaN</td>\n",
       "      <td>NaN</td>\n",
       "      <td>NaN</td>\n",
       "      <td>NaN</td>\n",
       "      <td>NaN</td>\n",
       "      <td>NaN</td>\n",
       "      <td>NaN</td>\n",
       "      <td>NaN</td>\n",
       "      <td>NaN</td>\n",
       "      <td>...</td>\n",
       "      <td>NaN</td>\n",
       "      <td>NaN</td>\n",
       "      <td>NaN</td>\n",
       "      <td>NaN</td>\n",
       "      <td>NaN</td>\n",
       "      <td>NaN</td>\n",
       "      <td>NaN</td>\n",
       "      <td>NaN</td>\n",
       "      <td>NaN</td>\n",
       "      <td>NaN</td>\n",
       "    </tr>\n",
       "  </tbody>\n",
       "</table>\n",
       "<p>200 rows × 100 columns</p>\n",
       "</div>"
      ],
      "text/plain": [
       "          0         1         2         3         4         5         6   \\\n",
       "0   0.000000  0.693147  0.693147  0.693147  0.693147  0.693147  0.693147   \n",
       "1   0.693147  0.000000  0.693147  0.693147  0.693147  0.693147  0.693147   \n",
       "2   0.693147  0.693147  0.000000  0.693147  0.693147  0.693147  0.693147   \n",
       "3   0.693147  0.693147  0.693147  0.000000  0.693147  0.693147  0.693147   \n",
       "4   0.693147  0.693147  0.693147  0.693147  0.000000  0.693147  0.693147   \n",
       "..       ...       ...       ...       ...       ...       ...       ...   \n",
       "95  1.000000       NaN       NaN       NaN       NaN       NaN       NaN   \n",
       "96  1.000000       NaN       NaN       NaN       NaN       NaN       NaN   \n",
       "97  1.000000       NaN       NaN       NaN       NaN       NaN       NaN   \n",
       "98  1.000000       NaN       NaN       NaN       NaN       NaN       NaN   \n",
       "99  1.000000       NaN       NaN       NaN       NaN       NaN       NaN   \n",
       "\n",
       "          7         8         9   ...        90        91        92        93  \\\n",
       "0   0.693147  0.693147  0.693147  ...  0.693147  0.693147  0.693147  0.693147   \n",
       "1   0.693147  0.693147  0.693147  ...  0.000000  0.693147  0.693147  0.000000   \n",
       "2   0.693147  0.693147  0.693147  ...  0.693147  0.693147  0.693147  0.693147   \n",
       "3   0.693147  0.693147  0.693147  ...  0.693147  0.000000  0.693147  0.693147   \n",
       "4   0.693147  0.693147  0.693147  ...  0.693147  0.693147  0.693147  0.693147   \n",
       "..       ...       ...       ...  ...       ...       ...       ...       ...   \n",
       "95       NaN       NaN       NaN  ...       NaN       NaN       NaN       NaN   \n",
       "96       NaN       NaN       NaN  ...       NaN       NaN       NaN       NaN   \n",
       "97       NaN       NaN       NaN  ...       NaN       NaN       NaN       NaN   \n",
       "98       NaN       NaN       NaN  ...       NaN       NaN       NaN       NaN   \n",
       "99       NaN       NaN       NaN  ...       NaN       NaN       NaN       NaN   \n",
       "\n",
       "          94        95        96        97        98        99  \n",
       "0   0.693147  0.693147  0.693147  0.693147  0.693147  0.693147  \n",
       "1   0.693147  0.693147  0.693147  0.693147  0.693147  0.000000  \n",
       "2   0.693147  0.693147  0.693147  0.693147  0.693147  0.693147  \n",
       "3   0.693147  0.693147  0.693147  0.693147  0.000000  0.693147  \n",
       "4   0.693147  0.693147  0.693147  0.000000  0.693147  0.693147  \n",
       "..       ...       ...       ...       ...       ...       ...  \n",
       "95       NaN       NaN       NaN       NaN       NaN       NaN  \n",
       "96       NaN       NaN       NaN       NaN       NaN       NaN  \n",
       "97       NaN       NaN       NaN       NaN       NaN       NaN  \n",
       "98       NaN       NaN       NaN       NaN       NaN       NaN  \n",
       "99       NaN       NaN       NaN       NaN       NaN       NaN  \n",
       "\n",
       "[200 rows x 100 columns]"
      ]
     },
     "execution_count": 328,
     "metadata": {},
     "output_type": "execute_result"
    }
   ],
   "source": [
    "pd.concat([df_tmp, pd.Series([1]*df_tmp.shape[1])], axis = 0)"
   ]
  },
  {
   "cell_type": "code",
   "execution_count": 307,
   "metadata": {},
   "outputs": [
    {
     "name": "stderr",
     "output_type": "stream",
     "text": [
      " 95%|█████████▍| 1419/1499 [11:19:38<38:18, 28.74s/it]       \n"
     ]
    },
    {
     "ename": "KeyboardInterrupt",
     "evalue": "",
     "output_type": "error",
     "traceback": [
      "\u001b[0;31m---------------------------------------------------------------------------\u001b[0m",
      "\u001b[0;31mKeyboardInterrupt\u001b[0m                         Traceback (most recent call last)",
      "\u001b[0;32m<ipython-input-307-56007eed36a7>\u001b[0m in \u001b[0;36m<module>\u001b[0;34m\u001b[0m\n\u001b[1;32m      4\u001b[0m \u001b[0;34m\u001b[0m\u001b[0m\n\u001b[1;32m      5\u001b[0m \u001b[0;32mfor\u001b[0m \u001b[0malpha\u001b[0m \u001b[0;32min\u001b[0m \u001b[0mlst_alpha\u001b[0m\u001b[0;34m:\u001b[0m\u001b[0;34m\u001b[0m\u001b[0;34m\u001b[0m\u001b[0m\n\u001b[0;32m----> 6\u001b[0;31m     \u001b[0mres_\u001b[0m \u001b[0;34m=\u001b[0m \u001b[0mfind_clusters_with_entropy\u001b[0m\u001b[0;34m(\u001b[0m\u001b[0malpha\u001b[0m\u001b[0;34m,\u001b[0m \u001b[0mlen_data\u001b[0m\u001b[0;34m)\u001b[0m\u001b[0;34m\u001b[0m\u001b[0;34m\u001b[0m\u001b[0m\n\u001b[0m\u001b[1;32m      7\u001b[0m     \u001b[0mres_alpha\u001b[0m\u001b[0;34m.\u001b[0m\u001b[0mappend\u001b[0m\u001b[0;34m(\u001b[0m\u001b[0mres_\u001b[0m\u001b[0;34m)\u001b[0m\u001b[0;34m\u001b[0m\u001b[0;34m\u001b[0m\u001b[0m\n\u001b[1;32m      8\u001b[0m \u001b[0mres_alpha\u001b[0m\u001b[0;34m\u001b[0m\u001b[0;34m\u001b[0m\u001b[0m\n",
      "\u001b[0;32m<timed exec>\u001b[0m in \u001b[0;36mfind_clusters_with_entropy\u001b[0;34m(alpha, len_data)\u001b[0m\n",
      "\u001b[0;31mKeyboardInterrupt\u001b[0m: "
     ]
    }
   ],
   "source": [
    "lst_alpha = [0]\n",
    "len_data = 1500\n",
    "res_alpha = []\n",
    "\n",
    "for alpha in lst_alpha:\n",
    "    res_ = find_clusters_with_entropy(alpha, len_data)\n",
    "    res_alpha.append(res_)\n",
    "res_alpha"
   ]
  },
  {
   "cell_type": "code",
   "execution_count": 299,
   "metadata": {},
   "outputs": [
    {
     "data": {
      "text/plain": [
       "array([[2, 3],\n",
       "       [4, 5]])"
      ]
     },
     "execution_count": 299,
     "metadata": {},
     "output_type": "execute_result"
    }
   ],
   "source": [
    "np.array([[1, 2], [3, 4]]) + np.array([[1, 1], [1, 1]])"
   ]
  },
  {
   "cell_type": "code",
   "execution_count": 300,
   "metadata": {},
   "outputs": [
    {
     "data": {
      "text/plain": [
       "array([[2, 2],\n",
       "       [2, 2]])"
      ]
     },
     "execution_count": 300,
     "metadata": {},
     "output_type": "execute_result"
    }
   ],
   "source": [
    "2 * np.array([[1, 1], [1, 1]])"
   ]
  },
  {
   "cell_type": "code",
   "execution_count": null,
   "metadata": {},
   "outputs": [],
   "source": []
  },
  {
   "cell_type": "code",
   "execution_count": null,
   "metadata": {},
   "outputs": [],
   "source": []
  },
  {
   "cell_type": "code",
   "execution_count": null,
   "metadata": {},
   "outputs": [],
   "source": []
  },
  {
   "cell_type": "code",
   "execution_count": null,
   "metadata": {},
   "outputs": [],
   "source": []
  },
  {
   "cell_type": "code",
   "execution_count": null,
   "metadata": {},
   "outputs": [],
   "source": []
  },
  {
   "cell_type": "code",
   "execution_count": null,
   "metadata": {},
   "outputs": [],
   "source": []
  },
  {
   "cell_type": "code",
   "execution_count": null,
   "metadata": {},
   "outputs": [],
   "source": []
  },
  {
   "cell_type": "code",
   "execution_count": null,
   "metadata": {},
   "outputs": [],
   "source": []
  },
  {
   "cell_type": "code",
   "execution_count": null,
   "metadata": {},
   "outputs": [],
   "source": []
  },
  {
   "cell_type": "code",
   "execution_count": null,
   "metadata": {},
   "outputs": [],
   "source": []
  },
  {
   "cell_type": "code",
   "execution_count": null,
   "metadata": {},
   "outputs": [],
   "source": []
  },
  {
   "cell_type": "code",
   "execution_count": null,
   "metadata": {},
   "outputs": [],
   "source": []
  },
  {
   "cell_type": "code",
   "execution_count": 291,
   "metadata": {},
   "outputs": [
    {
     "name": "stderr",
     "output_type": "stream",
     "text": [
      "  0%|          | 0/999 [00:00<?, ?it/s]"
     ]
    },
    {
     "name": "stdout",
     "output_type": "stream",
     "text": [
      "1\n"
     ]
    },
    {
     "name": "stderr",
     "output_type": "stream",
     "text": [
      "\n"
     ]
    },
    {
     "ename": "IndexError",
     "evalue": "list index out of range",
     "output_type": "error",
     "traceback": [
      "\u001b[0;31m---------------------------------------------------------------------------\u001b[0m",
      "\u001b[0;31mIndexError\u001b[0m                                Traceback (most recent call last)",
      "\u001b[0;32m<ipython-input-291-203a8176c7ca>\u001b[0m in \u001b[0;36m<module>\u001b[0;34m\u001b[0m\n\u001b[1;32m     76\u001b[0m         \u001b[0;32mfor\u001b[0m \u001b[0mj\u001b[0m \u001b[0;32min\u001b[0m \u001b[0mrange\u001b[0m\u001b[0;34m(\u001b[0m\u001b[0;36m0\u001b[0m\u001b[0;34m,\u001b[0m \u001b[0mdata\u001b[0m\u001b[0;34m.\u001b[0m\u001b[0mshape\u001b[0m\u001b[0;34m[\u001b[0m\u001b[0;36m1\u001b[0m\u001b[0;34m]\u001b[0m\u001b[0;34m)\u001b[0m\u001b[0;34m:\u001b[0m\u001b[0;34m\u001b[0m\u001b[0;34m\u001b[0m\u001b[0m\n\u001b[1;32m     77\u001b[0m             \u001b[0;32mif\u001b[0m \u001b[0mi\u001b[0m \u001b[0;34m!=\u001b[0m \u001b[0mj\u001b[0m\u001b[0;34m:\u001b[0m\u001b[0;34m\u001b[0m\u001b[0;34m\u001b[0m\u001b[0m\n\u001b[0;32m---> 78\u001b[0;31m                 \u001b[0mdata_with_entropy\u001b[0m\u001b[0;34m[\u001b[0m\u001b[0mi\u001b[0m\u001b[0;34m]\u001b[0m\u001b[0;34m[\u001b[0m\u001b[0mj\u001b[0m\u001b[0;34m]\u001b[0m \u001b[0;34m=\u001b[0m \u001b[0mdata_with_entropy\u001b[0m\u001b[0;34m[\u001b[0m\u001b[0mi\u001b[0m\u001b[0;34m]\u001b[0m\u001b[0;34m[\u001b[0m\u001b[0mj\u001b[0m\u001b[0;34m]\u001b[0m \u001b[0;34m+\u001b[0m \u001b[0malpha\u001b[0m \u001b[0;34m*\u001b[0m \u001b[0mcluster_array_entropy\u001b[0m\u001b[0;34m[\u001b[0m\u001b[0marray\u001b[0m\u001b[0;34m[\u001b[0m\u001b[0mi\u001b[0m\u001b[0;34m]\u001b[0m\u001b[0;34m]\u001b[0m\u001b[0;34m[\u001b[0m\u001b[0marray\u001b[0m\u001b[0;34m[\u001b[0m\u001b[0mj\u001b[0m\u001b[0;34m]\u001b[0m\u001b[0;34m]\u001b[0m\u001b[0;34m\u001b[0m\u001b[0;34m\u001b[0m\u001b[0m\n\u001b[0m\u001b[1;32m     79\u001b[0m \u001b[0;34m\u001b[0m\u001b[0m\n\u001b[1;32m     80\u001b[0m     \u001b[0mind\u001b[0m \u001b[0;34m=\u001b[0m \u001b[0mnp\u001b[0m\u001b[0;34m.\u001b[0m\u001b[0munravel_index\u001b[0m\u001b[0;34m(\u001b[0m\u001b[0mnp\u001b[0m\u001b[0;34m.\u001b[0m\u001b[0margmin\u001b[0m\u001b[0;34m(\u001b[0m\u001b[0mdata_with_entropy\u001b[0m\u001b[0;34m,\u001b[0m \u001b[0maxis\u001b[0m\u001b[0;34m=\u001b[0m\u001b[0;32mNone\u001b[0m\u001b[0;34m)\u001b[0m\u001b[0;34m,\u001b[0m \u001b[0mdata\u001b[0m\u001b[0;34m.\u001b[0m\u001b[0mshape\u001b[0m\u001b[0;34m)\u001b[0m\u001b[0;34m\u001b[0m\u001b[0;34m\u001b[0m\u001b[0m\n",
      "\u001b[0;31mIndexError\u001b[0m: list index out of range"
     ]
    }
   ],
   "source": [
    "alpha = 0\n",
    "linkage = \"single\"\n",
    "# alpha = 0\n",
    "# len_data = len(digits.data)\n",
    "len_data = 1000\n",
    "data = pairwise_distances(digits.data[:len_data], digits.data[:len_data], metric='euclidean').copy()\n",
    "targets = digits.target[:len_data].copy()\n",
    "np.fill_diagonal(data,sys.maxsize)\n",
    "\n",
    "clusters = {}\n",
    "row_index = -1\n",
    "col_index = -1\n",
    "array = []\n",
    "\n",
    "\n",
    "for n in range(data.shape[0]):\n",
    "    array.append(n)\n",
    "\n",
    "clusters[0] = array.copy()\n",
    "\n",
    "df_clusters = pd.DataFrame([])\n",
    "df_clusters[\"element\"] = range(data.shape[0])\n",
    "num_targets = len(np.unique(targets))\n",
    "lst_targets = np.unique(targets)\n",
    "\n",
    "\n",
    "\n",
    "\n",
    "cluster_counter_array = np.array(2 * len_data)\n",
    "target_counter_array = np.array(2 * len_data)\n",
    "cluster_array_entropy = np.array(2 * len_data)\n",
    "len_add_arr = 2\n",
    "\n",
    "cluster_counter_array = [\n",
    "    Counter([targets[i]])\n",
    "    for i in range(len_data)\n",
    "]\n",
    "\n",
    "target_counter_array = \\\n",
    "    [\n",
    "        [\n",
    "            Counter(targets[[i, j]])\n",
    "            for j in range(len_data)\n",
    "        ]\n",
    "        for i in range(len_data)\n",
    "    ]\n",
    "\n",
    "\n",
    "cluster_array_entropy = \\\n",
    "    [\n",
    "        [\n",
    "            entropy(\n",
    "                np.fromiter(\n",
    "                    list(target_counter_array[i][j].values())\n",
    "                    , dtype = float\n",
    "                )/len_add_arr\n",
    "            )\n",
    "            for j in range(len_data)\n",
    "        ]\n",
    "        for i in range(len_data)\n",
    "    ]\n",
    "\n",
    "\n",
    "\n",
    "\n",
    "#finding minimum value from the distance matrix\n",
    "#note that this loop will always return minimum value from bottom triangle of matrix\n",
    "#     for k in tqdm(range(1, data.shape[0])):\n",
    "for k in tqdm(range(1, data.shape[0])):\n",
    "    print(k)\n",
    "    min_val = sys.maxsize\n",
    "\n",
    "    df_clusters[\"cluster\"] = array\n",
    "    data_with_entropy = data.copy()\n",
    "    for i in range(0, data.shape[0]):\n",
    "        for j in range(0, data.shape[1]):\n",
    "            if i != j:\n",
    "                data_with_entropy[i][j] = data_with_entropy[i][j] + alpha * cluster_array_entropy[array[i]][array[j]]\n",
    "\n",
    "    ind = np.unravel_index(np.argmin(data_with_entropy, axis=None), data.shape)\n",
    "    row_index = ind[0]\n",
    "    col_index = ind[1]\n",
    "    min_val = data_with_entropy[ind]\n",
    "\n",
    "    part1 = df_clusters[df_clusters.cluster == array[row_index]].element\n",
    "    part2 = df_clusters[df_clusters.cluster == array[col_index]].element\n",
    "    for i1 in part1:\n",
    "        for i2 in part2:\n",
    "            data[i1][i2] = sys.maxsize\n",
    "            data[i2][i1] = sys.maxsize\n",
    "\n",
    "    for i1 in part1:\n",
    "        array[i1] = k - 1 + data.shape[0]\n",
    "    for i2 in part2:\n",
    "        array[i2] = k - 1 + data.shape[0]\n",
    "        \n",
    "    clusters[k] = array.copy()\n",
    "\n",
    "    add_cluster_counter = cluster_counter_array[row_index] + cluster_counter_array[col_index]\n",
    "\n",
    "    add_col_counter = [[x + add_cluster_counter] for x in cluster_counter_array]\n",
    "    add_col_entropy = [\n",
    "        [\n",
    "            entropy(\n",
    "                list(x[0].values())/np.sum(list(x[0].values()))\n",
    "            )\n",
    "        ]\n",
    "        for x in add_col_counter\n",
    "    ]\n",
    "\n",
    "    cluster_counter_array = np.append(\n",
    "        cluster_counter_array\n",
    "        , add_cluster_counter\n",
    "    )\n",
    "\n",
    "\n",
    "#     if k == 1:\n",
    "#         break\n",
    "    target_counter_array = np.hstack((target_counter_array, add_col_counter))\n",
    "    add_col_counter = add_col_counter + [[add_cluster_counter]]\n",
    "    target_counter_array = np.concatenate(\n",
    "        [target_counter_array, np.array(add_col_counter).reshape(1, -1)]\n",
    "    )\n",
    "#     target_counter_array = target_counter_array + [add_col_counter]\n",
    "\n",
    "    cluster_array_entropy = np.hstack((cluster_array_entropy, add_col_entropy))\n",
    "    add_col_entropy = add_col_entropy + [[sys.maxsize]]\n",
    "    cluster_array_entropy = np.concatenate(\n",
    "        [cluster_array_entropy, np.array(add_col_entropy).reshape(1, -1)]\n",
    "    )\n",
    "#     cluster_array_entropy = cluster_array_entropy + [add_col_entropy]\n",
    "print(\"hihi2\")\n",
    "#     print(data.shape[0])\n",
    "# acc_res = cluster_score(targets, clusters, data)"
   ]
  },
  {
   "cell_type": "code",
   "execution_count": 293,
   "metadata": {},
   "outputs": [
    {
     "data": {
      "text/plain": [
       "(1000, 1000)"
      ]
     },
     "execution_count": 293,
     "metadata": {},
     "output_type": "execute_result"
    }
   ],
   "source": [
    "data_with_entropy.shape"
   ]
  },
  {
   "cell_type": "code",
   "execution_count": 294,
   "metadata": {},
   "outputs": [
    {
     "data": {
      "text/plain": [
       "(0, 500)"
      ]
     },
     "execution_count": 294,
     "metadata": {},
     "output_type": "execute_result"
    }
   ],
   "source": [
    "i, j"
   ]
  },
  {
   "cell_type": "code",
   "execution_count": 275,
   "metadata": {},
   "outputs": [
    {
     "data": {
      "text/plain": [
       "(501, 501)"
      ]
     },
     "execution_count": 275,
     "metadata": {},
     "output_type": "execute_result"
    }
   ],
   "source": [
    "cluster_array_entropy.shape"
   ]
  },
  {
   "cell_type": "code",
   "execution_count": 295,
   "metadata": {},
   "outputs": [
    {
     "data": {
      "text/plain": [
       "([0], [500])"
      ]
     },
     "execution_count": 295,
     "metadata": {},
     "output_type": "execute_result"
    }
   ],
   "source": [
    "[array[i]], [array[j]]"
   ]
  },
  {
   "cell_type": "code",
   "execution_count": 239,
   "metadata": {},
   "outputs": [],
   "source": [
    "target_counter_array = np.hstack((target_counter_array, add_col_counter))"
   ]
  },
  {
   "cell_type": "code",
   "execution_count": 244,
   "metadata": {},
   "outputs": [],
   "source": [
    "add_col_counter = add_col_counter + [[add_cluster_counter]]"
   ]
  },
  {
   "cell_type": "code",
   "execution_count": 264,
   "metadata": {},
   "outputs": [
    {
     "data": {
      "text/plain": [
       "(1, 501)"
      ]
     },
     "execution_count": 264,
     "metadata": {},
     "output_type": "execute_result"
    }
   ],
   "source": [
    "np.array(add_col_counter).reshape(1, -1).shape"
   ]
  },
  {
   "cell_type": "code",
   "execution_count": 262,
   "metadata": {},
   "outputs": [
    {
     "data": {
      "text/plain": [
       "(500, 501)"
      ]
     },
     "execution_count": 262,
     "metadata": {},
     "output_type": "execute_result"
    }
   ],
   "source": [
    "target_counter_array.shape"
   ]
  },
  {
   "cell_type": "code",
   "execution_count": 270,
   "metadata": {},
   "outputs": [
    {
     "ename": "AttributeError",
     "evalue": "'numpy.ndarray' object has no attribute 'indeces'",
     "output_type": "error",
     "traceback": [
      "\u001b[0;31m---------------------------------------------------------------------------\u001b[0m",
      "\u001b[0;31mAttributeError\u001b[0m                            Traceback (most recent call last)",
      "\u001b[0;32m<ipython-input-270-f09451c6eee3>\u001b[0m in \u001b[0;36m<module>\u001b[0;34m\u001b[0m\n\u001b[0;32m----> 1\u001b[0;31m \u001b[0mtarget_counter_array\u001b[0m\u001b[0;34m.\u001b[0m\u001b[0mindeces\u001b[0m\u001b[0;34m\u001b[0m\u001b[0;34m\u001b[0m\u001b[0m\n\u001b[0m",
      "\u001b[0;31mAttributeError\u001b[0m: 'numpy.ndarray' object has no attribute 'indeces'"
     ]
    }
   ],
   "source": [
    "target_counter_array.indeces"
   ]
  },
  {
   "cell_type": "code",
   "execution_count": 272,
   "metadata": {},
   "outputs": [
    {
     "data": {
      "text/plain": [
       "(501, 501)"
      ]
     },
     "execution_count": 272,
     "metadata": {},
     "output_type": "execute_result"
    }
   ],
   "source": [
    "np.concatenate([target_counter_array, np.array(add_col_counter).reshape(1, -1)]).shape"
   ]
  },
  {
   "cell_type": "code",
   "execution_count": 269,
   "metadata": {},
   "outputs": [
    {
     "data": {
      "text/plain": [
       "(1, 500, 501)"
      ]
     },
     "execution_count": 269,
     "metadata": {},
     "output_type": "execute_result"
    }
   ],
   "source": [
    "(target_counter_array + [np.array(add_col_counter).reshape(1, -1)]).shape"
   ]
  },
  {
   "cell_type": "code",
   "execution_count": 238,
   "metadata": {},
   "outputs": [
    {
     "ename": "IndexError",
     "evalue": "index 500 is out of bounds for axis 0 with size 500",
     "output_type": "error",
     "traceback": [
      "\u001b[0;31m---------------------------------------------------------------------------\u001b[0m",
      "\u001b[0;31mIndexError\u001b[0m                                Traceback (most recent call last)",
      "\u001b[0;32m<ipython-input-238-bacb405950e5>\u001b[0m in \u001b[0;36m<module>\u001b[0;34m\u001b[0m\n\u001b[0;32m----> 1\u001b[0;31m \u001b[0mlen\u001b[0m\u001b[0;34m(\u001b[0m\u001b[0mnp\u001b[0m\u001b[0;34m.\u001b[0m\u001b[0mhstack\u001b[0m\u001b[0;34m(\u001b[0m\u001b[0;34m(\u001b[0m\u001b[0mtarget_counter_array\u001b[0m\u001b[0;34m,\u001b[0m \u001b[0madd_col_counter\u001b[0m\u001b[0;34m)\u001b[0m\u001b[0;34m)\u001b[0m\u001b[0;34m[\u001b[0m\u001b[0;36m500\u001b[0m\u001b[0;34m]\u001b[0m\u001b[0;34m)\u001b[0m\u001b[0;34m\u001b[0m\u001b[0;34m\u001b[0m\u001b[0m\n\u001b[0m",
      "\u001b[0;31mIndexError\u001b[0m: index 500 is out of bounds for axis 0 with size 500"
     ]
    }
   ],
   "source": [
    "target_counter_array = target_counter_array + [add_col_counter]"
   ]
  },
  {
   "cell_type": "code",
   "execution_count": 231,
   "metadata": {},
   "outputs": [
    {
     "data": {
      "text/plain": [
       "500"
      ]
     },
     "execution_count": 231,
     "metadata": {},
     "output_type": "execute_result"
    }
   ],
   "source": [
    "len(cluster_array_entropy[0])"
   ]
  },
  {
   "cell_type": "code",
   "execution_count": 215,
   "metadata": {},
   "outputs": [
    {
     "data": {
      "text/plain": [
       "251001"
      ]
     },
     "execution_count": 215,
     "metadata": {},
     "output_type": "execute_result"
    }
   ],
   "source": [
    "len(cluster_array_entropy)"
   ]
  },
  {
   "cell_type": "code",
   "execution_count": 208,
   "metadata": {},
   "outputs": [
    {
     "ename": "IndexError",
     "evalue": "invalid index to scalar variable.",
     "output_type": "error",
     "traceback": [
      "\u001b[0;31m---------------------------------------------------------------------------\u001b[0m",
      "\u001b[0;31mIndexError\u001b[0m                                Traceback (most recent call last)",
      "\u001b[0;32m<ipython-input-208-030f65f35a5b>\u001b[0m in \u001b[0;36m<module>\u001b[0;34m\u001b[0m\n\u001b[0;32m----> 1\u001b[0;31m \u001b[0mcluster_array_entropy\u001b[0m\u001b[0;34m[\u001b[0m\u001b[0marray\u001b[0m\u001b[0;34m[\u001b[0m\u001b[0mi\u001b[0m\u001b[0;34m]\u001b[0m\u001b[0;34m]\u001b[0m\u001b[0;34m[\u001b[0m\u001b[0marray\u001b[0m\u001b[0;34m[\u001b[0m\u001b[0mj\u001b[0m\u001b[0;34m]\u001b[0m\u001b[0;34m]\u001b[0m\u001b[0;34m\u001b[0m\u001b[0;34m\u001b[0m\u001b[0m\n\u001b[0m",
      "\u001b[0;31mIndexError\u001b[0m: invalid index to scalar variable."
     ]
    }
   ],
   "source": [
    "cluster_array_entropy[array[i]][array[j]]"
   ]
  },
  {
   "cell_type": "code",
   "execution_count": 212,
   "metadata": {},
   "outputs": [
    {
     "data": {
      "text/plain": [
       "array([0.00000000e+00, 6.93147181e-01, 6.93147181e-01, ...,\n",
       "       0.00000000e+00, 6.36514168e-01, 9.22337204e+18])"
      ]
     },
     "execution_count": 212,
     "metadata": {},
     "output_type": "execute_result"
    }
   ],
   "source": [
    "cluster_array_entropy"
   ]
  },
  {
   "cell_type": "code",
   "execution_count": 200,
   "metadata": {},
   "outputs": [
    {
     "data": {
      "text/plain": [
       "[[1], [2], [3]]"
      ]
     },
     "execution_count": 200,
     "metadata": {},
     "output_type": "execute_result"
    }
   ],
   "source": [
    "np.append([[1], [2]], [3])\n",
    "[[1], [2]] + [[3]]"
   ]
  },
  {
   "cell_type": "code",
   "execution_count": 190,
   "metadata": {
    "collapsed": true,
    "jupyter": {
     "outputs_hidden": true
    }
   },
   "outputs": [
    {
     "data": {
      "text/plain": [
       "array([Counter({7: 2, 0: 1}), Counter({7: 2, 1: 1}),\n",
       "       Counter({7: 2, 2: 1}), Counter({7: 2, 3: 1}),\n",
       "       Counter({7: 2, 4: 1}), Counter({7: 2, 5: 1}),\n",
       "       Counter({7: 2, 6: 1}), Counter({7: 3}), Counter({7: 2, 8: 1}),\n",
       "       Counter({7: 2, 9: 1}), Counter({7: 2, 0: 1}),\n",
       "       Counter({7: 2, 1: 1}), Counter({7: 2, 2: 1}),\n",
       "       Counter({7: 2, 3: 1}), Counter({7: 2, 4: 1}),\n",
       "       Counter({7: 2, 5: 1}), Counter({7: 2, 6: 1}), Counter({7: 3}),\n",
       "       Counter({7: 2, 8: 1}), Counter({7: 2, 9: 1}),\n",
       "       Counter({7: 2, 0: 1}), Counter({7: 2, 1: 1}),\n",
       "       Counter({7: 2, 2: 1}), Counter({7: 2, 3: 1}),\n",
       "       Counter({7: 2, 4: 1}), Counter({7: 2, 5: 1}),\n",
       "       Counter({7: 2, 6: 1}), Counter({7: 3}), Counter({7: 2, 8: 1}),\n",
       "       Counter({7: 2, 9: 1}), Counter({7: 2, 0: 1}),\n",
       "       Counter({7: 2, 9: 1}), Counter({7: 2, 5: 1}),\n",
       "       Counter({7: 2, 5: 1}), Counter({7: 2, 6: 1}),\n",
       "       Counter({7: 2, 5: 1}), Counter({7: 2, 0: 1}),\n",
       "       Counter({7: 2, 9: 1}), Counter({7: 2, 8: 1}),\n",
       "       Counter({7: 2, 9: 1}), Counter({7: 2, 8: 1}),\n",
       "       Counter({7: 2, 4: 1}), Counter({7: 2, 1: 1}), Counter({7: 3}),\n",
       "       Counter({7: 3}), Counter({7: 2, 3: 1}), Counter({7: 2, 5: 1}),\n",
       "       Counter({7: 2, 1: 1}), Counter({7: 2, 0: 1}),\n",
       "       Counter({7: 2, 0: 1}), Counter({7: 2, 2: 1}),\n",
       "       Counter({7: 2, 2: 1}), Counter({7: 3}), Counter({7: 2, 8: 1}),\n",
       "       Counter({7: 2, 2: 1}), Counter({7: 2, 0: 1}),\n",
       "       Counter({7: 2, 1: 1}), Counter({7: 2, 2: 1}),\n",
       "       Counter({7: 2, 6: 1}), Counter({7: 2, 3: 1}),\n",
       "       Counter({7: 2, 3: 1}), Counter({7: 3}), Counter({7: 2, 3: 1}),\n",
       "       Counter({7: 2, 3: 1}), Counter({7: 2, 4: 1}),\n",
       "       Counter({7: 2, 6: 1}), Counter({7: 2, 6: 1}),\n",
       "       Counter({7: 2, 6: 1}), Counter({7: 2, 4: 1}),\n",
       "       Counter({7: 2, 9: 1}), Counter({7: 2, 1: 1}),\n",
       "       Counter({7: 2, 5: 1}), Counter({7: 2, 0: 1}),\n",
       "       Counter({7: 2, 9: 1}), Counter({7: 2, 5: 1}),\n",
       "       Counter({7: 2, 2: 1}), Counter({7: 2, 8: 1}),\n",
       "       Counter({7: 2, 2: 1}), Counter({7: 2, 0: 1}),\n",
       "       Counter({7: 2, 0: 1}), Counter({7: 2, 1: 1}), Counter({7: 3}),\n",
       "       Counter({7: 2, 6: 1}), Counter({7: 2, 3: 1}),\n",
       "       Counter({7: 2, 2: 1}), Counter({7: 2, 1: 1}), Counter({7: 3}),\n",
       "       Counter({7: 2, 4: 1}), Counter({7: 2, 6: 1}),\n",
       "       Counter({7: 2, 3: 1}), Counter({7: 2, 1: 1}),\n",
       "       Counter({7: 2, 3: 1}), Counter({7: 2, 9: 1}),\n",
       "       Counter({7: 2, 1: 1}), Counter({7: 3}), Counter({7: 2, 6: 1}),\n",
       "       Counter({7: 2, 8: 1}), Counter({7: 2, 4: 1}),\n",
       "       Counter({7: 2, 3: 1}), Counter({7: 2, 1: 1}),\n",
       "       Counter({7: 2, 4: 1}), Counter({7: 2, 0: 1}),\n",
       "       Counter({7: 2, 5: 1}), Counter({7: 2, 3: 1}),\n",
       "       Counter({7: 2, 6: 1}), Counter({7: 2, 9: 1}),\n",
       "       Counter({7: 2, 6: 1}), Counter({7: 2, 1: 1}), Counter({7: 3}),\n",
       "       Counter({7: 2, 5: 1}), Counter({7: 2, 4: 1}),\n",
       "       Counter({7: 2, 4: 1}), Counter({7: 3}), Counter({7: 2, 2: 1}),\n",
       "       Counter({7: 2, 8: 1}), Counter({7: 2, 2: 1}),\n",
       "       Counter({7: 2, 2: 1}), Counter({7: 2, 5: 1}), Counter({7: 3}),\n",
       "       Counter({7: 2, 9: 1}), Counter({7: 2, 5: 1}),\n",
       "       Counter({7: 2, 4: 1}), Counter({7: 2, 8: 1}),\n",
       "       Counter({7: 2, 8: 1}), Counter({7: 2, 4: 1}),\n",
       "       Counter({7: 2, 9: 1}), Counter({7: 2, 0: 1}),\n",
       "       Counter({7: 2, 8: 1}), Counter({7: 2, 9: 1}),\n",
       "       Counter({7: 2, 8: 1}), Counter({7: 2, 0: 1}),\n",
       "       Counter({7: 2, 1: 1}), Counter({7: 2, 2: 1}),\n",
       "       Counter({7: 2, 3: 1}), Counter({7: 2, 4: 1}),\n",
       "       Counter({7: 2, 5: 1}), Counter({7: 2, 6: 1}), Counter({7: 3}),\n",
       "       Counter({7: 2, 8: 1}), Counter({7: 2, 9: 1}),\n",
       "       Counter({7: 2, 0: 1}), Counter({7: 2, 1: 1}),\n",
       "       Counter({7: 2, 2: 1}), Counter({7: 2, 3: 1}),\n",
       "       Counter({7: 2, 4: 1}), Counter({7: 2, 5: 1}),\n",
       "       Counter({7: 2, 6: 1}), Counter({7: 3}), Counter({7: 2, 8: 1}),\n",
       "       Counter({7: 2, 9: 1}), Counter({7: 2, 0: 1}),\n",
       "       Counter({7: 2, 1: 1}), Counter({7: 2, 2: 1}),\n",
       "       Counter({7: 2, 3: 1}), Counter({7: 2, 4: 1}),\n",
       "       Counter({7: 2, 5: 1}), Counter({7: 2, 6: 1}), Counter({7: 3}),\n",
       "       Counter({7: 2, 8: 1}), Counter({7: 2, 9: 1}),\n",
       "       Counter({7: 2, 0: 1}), Counter({7: 2, 9: 1}),\n",
       "       Counter({7: 2, 5: 1}), Counter({7: 2, 5: 1}),\n",
       "       Counter({7: 2, 6: 1}), Counter({7: 2, 5: 1}),\n",
       "       Counter({7: 2, 0: 1}), Counter({7: 2, 9: 1}),\n",
       "       Counter({7: 2, 8: 1}), Counter({7: 2, 9: 1}),\n",
       "       Counter({7: 2, 8: 1}), Counter({7: 2, 4: 1}),\n",
       "       Counter({7: 2, 1: 1}), Counter({7: 3}), Counter({7: 3}),\n",
       "       Counter({7: 2, 3: 1}), Counter({7: 2, 5: 1}),\n",
       "       Counter({7: 2, 1: 1}), Counter({7: 2, 0: 1}),\n",
       "       Counter({7: 2, 0: 1}), Counter({7: 2, 2: 1}),\n",
       "       Counter({7: 2, 2: 1}), Counter({7: 3}), Counter({7: 2, 8: 1}),\n",
       "       Counter({7: 2, 2: 1}), Counter({7: 2, 0: 1}),\n",
       "       Counter({7: 2, 1: 1}), Counter({7: 2, 2: 1}),\n",
       "       Counter({7: 2, 6: 1}), Counter({7: 2, 3: 1}),\n",
       "       Counter({7: 2, 3: 1}), Counter({7: 3}), Counter({7: 2, 3: 1}),\n",
       "       Counter({7: 2, 3: 1}), Counter({7: 2, 4: 1}),\n",
       "       Counter({7: 2, 6: 1}), Counter({7: 2, 6: 1}),\n",
       "       Counter({7: 2, 6: 1}), Counter({7: 2, 4: 1}),\n",
       "       Counter({7: 2, 9: 1}), Counter({7: 2, 1: 1}),\n",
       "       Counter({7: 2, 5: 1}), Counter({7: 2, 0: 1}),\n",
       "       Counter({7: 2, 9: 1}), Counter({7: 2, 5: 1}),\n",
       "       Counter({7: 2, 2: 1}), Counter({7: 2, 8: 1}),\n",
       "       Counter({7: 2, 2: 1}), Counter({7: 2, 0: 1}),\n",
       "       Counter({7: 2, 0: 1}), Counter({7: 2, 1: 1}), Counter({7: 3}),\n",
       "       Counter({7: 2, 6: 1}), Counter({7: 2, 3: 1}),\n",
       "       Counter({7: 2, 2: 1}), Counter({7: 2, 1: 1}), Counter({7: 3}),\n",
       "       Counter({7: 2, 3: 1}), Counter({7: 2, 1: 1}),\n",
       "       Counter({7: 2, 3: 1}), Counter({7: 2, 9: 1}),\n",
       "       Counter({7: 2, 1: 1}), Counter({7: 3}), Counter({7: 2, 6: 1}),\n",
       "       Counter({7: 2, 8: 1}), Counter({7: 2, 4: 1}),\n",
       "       Counter({7: 2, 3: 1}), Counter({7: 2, 1: 1}),\n",
       "       Counter({7: 2, 4: 1}), Counter({7: 2, 0: 1}),\n",
       "       Counter({7: 2, 5: 1}), Counter({7: 2, 3: 1}),\n",
       "       Counter({7: 2, 6: 1}), Counter({7: 2, 9: 1}),\n",
       "       Counter({7: 2, 6: 1}), Counter({7: 2, 1: 1}), Counter({7: 3}),\n",
       "       Counter({7: 2, 5: 1}), Counter({7: 2, 4: 1}),\n",
       "       Counter({7: 2, 4: 1}), Counter({7: 3}), Counter({7: 2, 2: 1}),\n",
       "       Counter({7: 2, 8: 1}), Counter({7: 2, 2: 1}),\n",
       "       Counter({7: 2, 2: 1}), Counter({7: 2, 5: 1}),\n",
       "       Counter({7: 2, 5: 1}), Counter({7: 2, 4: 1}),\n",
       "       Counter({7: 2, 8: 1}), Counter({7: 2, 8: 1}),\n",
       "       Counter({7: 2, 4: 1}), Counter({7: 2, 9: 1}),\n",
       "       Counter({7: 2, 0: 1}), Counter({7: 2, 8: 1}),\n",
       "       Counter({7: 2, 9: 1}), Counter({7: 2, 8: 1}),\n",
       "       Counter({7: 2, 0: 1}), Counter({7: 2, 1: 1}),\n",
       "       Counter({7: 2, 2: 1}), Counter({7: 2, 3: 1}),\n",
       "       Counter({7: 2, 4: 1}), Counter({7: 2, 5: 1}),\n",
       "       Counter({7: 2, 6: 1}), Counter({7: 3}), Counter({7: 2, 8: 1}),\n",
       "       Counter({7: 2, 9: 1}), Counter({7: 2, 0: 1}),\n",
       "       Counter({7: 2, 1: 1}), Counter({7: 2, 2: 1}),\n",
       "       Counter({7: 2, 3: 1}), Counter({7: 2, 4: 1}),\n",
       "       Counter({7: 2, 5: 1}), Counter({7: 2, 6: 1}), Counter({7: 3}),\n",
       "       Counter({7: 2, 8: 1}), Counter({7: 2, 9: 1}),\n",
       "       Counter({7: 2, 0: 1}), Counter({7: 2, 1: 1}),\n",
       "       Counter({7: 2, 2: 1}), Counter({7: 2, 3: 1}),\n",
       "       Counter({7: 2, 4: 1}), Counter({7: 2, 5: 1}),\n",
       "       Counter({7: 2, 6: 1}), Counter({7: 3}), Counter({7: 2, 8: 1}),\n",
       "       Counter({7: 2, 9: 1}), Counter({7: 2, 0: 1}),\n",
       "       Counter({7: 2, 9: 1}), Counter({7: 2, 5: 1}),\n",
       "       Counter({7: 2, 5: 1}), Counter({7: 2, 6: 1}),\n",
       "       Counter({7: 2, 5: 1}), Counter({7: 2, 0: 1}),\n",
       "       Counter({7: 2, 9: 1}), Counter({7: 2, 8: 1}),\n",
       "       Counter({7: 2, 9: 1}), Counter({7: 2, 8: 1}),\n",
       "       Counter({7: 2, 4: 1}), Counter({7: 2, 1: 1}), Counter({7: 3}),\n",
       "       Counter({7: 3}), Counter({7: 2, 3: 1}), Counter({7: 2, 5: 1}),\n",
       "       Counter({7: 2, 1: 1}), Counter({7: 2, 0: 1}),\n",
       "       Counter({7: 2, 0: 1}), Counter({7: 2, 2: 1}),\n",
       "       Counter({7: 2, 2: 1}), Counter({7: 3}), Counter({7: 2, 8: 1}),\n",
       "       Counter({7: 2, 2: 1}), Counter({7: 2, 0: 1}),\n",
       "       Counter({7: 2, 1: 1}), Counter({7: 2, 2: 1}),\n",
       "       Counter({7: 2, 6: 1}), Counter({7: 2, 3: 1}),\n",
       "       Counter({7: 2, 3: 1}), Counter({7: 3}), Counter({7: 2, 3: 1}),\n",
       "       Counter({7: 2, 3: 1}), Counter({7: 2, 4: 1}),\n",
       "       Counter({7: 2, 6: 1}), Counter({7: 2, 6: 1}),\n",
       "       Counter({7: 2, 6: 1}), Counter({7: 2, 4: 1}),\n",
       "       Counter({7: 2, 9: 1}), Counter({7: 2, 1: 1}),\n",
       "       Counter({7: 2, 5: 1}), Counter({7: 2, 0: 1}),\n",
       "       Counter({7: 2, 9: 1}), Counter({7: 2, 5: 1}),\n",
       "       Counter({7: 2, 2: 1}), Counter({7: 2, 8: 1}),\n",
       "       Counter({7: 2, 2: 1}), Counter({7: 2, 0: 1}),\n",
       "       Counter({7: 2, 0: 1}), Counter({7: 2, 1: 1}), Counter({7: 3}),\n",
       "       Counter({7: 2, 6: 1}), Counter({7: 2, 3: 1}),\n",
       "       Counter({7: 2, 2: 1}), Counter({7: 2, 1: 1}), Counter({7: 3}),\n",
       "       Counter({7: 2, 4: 1}), Counter({7: 2, 6: 1}),\n",
       "       Counter({7: 2, 3: 1}), Counter({7: 2, 1: 1}),\n",
       "       Counter({7: 2, 3: 1}), Counter({7: 2, 9: 1}),\n",
       "       Counter({7: 2, 1: 1}), Counter({7: 3}), Counter({7: 2, 6: 1}),\n",
       "       Counter({7: 2, 8: 1}), Counter({7: 2, 4: 1}),\n",
       "       Counter({7: 2, 3: 1}), Counter({7: 2, 1: 1}),\n",
       "       Counter({7: 2, 4: 1}), Counter({7: 2, 0: 1}),\n",
       "       Counter({7: 2, 5: 1}), Counter({7: 2, 3: 1}),\n",
       "       Counter({7: 2, 6: 1}), Counter({7: 2, 9: 1}),\n",
       "       Counter({7: 2, 6: 1}), Counter({7: 2, 1: 1}), Counter({7: 3}),\n",
       "       Counter({7: 2, 5: 1}), Counter({7: 2, 4: 1}),\n",
       "       Counter({7: 2, 4: 1}), Counter({7: 3}), Counter({7: 2, 2: 1}),\n",
       "       Counter({7: 2, 8: 1}), Counter({7: 2, 2: 1}),\n",
       "       Counter({7: 2, 2: 1}), Counter({7: 2, 5: 1}), Counter({7: 3}),\n",
       "       Counter({7: 2, 9: 1}), Counter({7: 2, 5: 1}),\n",
       "       Counter({7: 2, 4: 1}), Counter({7: 2, 8: 1}),\n",
       "       Counter({7: 2, 8: 1}), Counter({7: 2, 4: 1}),\n",
       "       Counter({7: 2, 9: 1}), Counter({7: 2, 0: 1}),\n",
       "       Counter({7: 2, 8: 1}), Counter({7: 2, 9: 1}),\n",
       "       Counter({7: 2, 3: 1}), Counter({7: 2, 0: 1}),\n",
       "       Counter({7: 2, 1: 1}), Counter({7: 2, 2: 1}),\n",
       "       Counter({7: 2, 3: 1}), Counter({7: 2, 4: 1}),\n",
       "       Counter({7: 2, 5: 1}), Counter({7: 2, 6: 1}), Counter({7: 3}),\n",
       "       Counter({7: 2, 8: 1}), Counter({7: 2, 9: 1}),\n",
       "       Counter({7: 2, 0: 1}), Counter({7: 2, 1: 1}),\n",
       "       Counter({7: 2, 2: 1}), Counter({7: 2, 3: 1}),\n",
       "       Counter({7: 2, 4: 1}), Counter({7: 2, 5: 1}),\n",
       "       Counter({7: 2, 6: 1}), Counter({7: 3}), Counter({7: 2, 8: 1}),\n",
       "       Counter({7: 2, 9: 1}), Counter({7: 2, 0: 1}),\n",
       "       Counter({7: 2, 1: 1}), Counter({7: 2, 2: 1}),\n",
       "       Counter({7: 2, 3: 1}), Counter({7: 2, 4: 1}),\n",
       "       Counter({7: 2, 5: 1}), Counter({7: 2, 6: 1}), Counter({7: 3}),\n",
       "       Counter({7: 2, 8: 1}), Counter({7: 2, 9: 1}),\n",
       "       Counter({7: 2, 0: 1}), Counter({7: 2, 9: 1}),\n",
       "       Counter({7: 2, 5: 1}), Counter({7: 2, 5: 1}),\n",
       "       Counter({7: 2, 6: 1}), Counter({7: 2, 5: 1}),\n",
       "       Counter({7: 2, 0: 1}), Counter({7: 2, 9: 1}),\n",
       "       Counter({7: 2, 8: 1}), Counter({7: 2, 9: 1}),\n",
       "       Counter({7: 2, 8: 1}), Counter({7: 2, 4: 1}),\n",
       "       Counter({7: 2, 1: 1}), Counter({7: 3}), Counter({7: 3}),\n",
       "       Counter({7: 2, 3: 1}), Counter({7: 2, 5: 1}),\n",
       "       Counter({7: 2, 1: 1}), Counter({7: 2, 0: 1}),\n",
       "       Counter({7: 2, 0: 1}), Counter({7: 2, 2: 1}),\n",
       "       Counter({7: 2, 2: 1}), Counter({7: 3}), Counter({7: 2, 8: 1}),\n",
       "       Counter({7: 2, 2: 1}), Counter({7: 2, 0: 1}),\n",
       "       Counter({7: 2, 1: 1}), Counter({7: 2, 2: 1}),\n",
       "       Counter({7: 2, 6: 1}), Counter({7: 2, 3: 1}),\n",
       "       Counter({7: 2, 3: 1}), Counter({7: 3}), Counter({7: 2, 3: 1}),\n",
       "       Counter({7: 2, 3: 1}), Counter({7: 2, 4: 1}),\n",
       "       Counter({7: 2, 6: 1}), Counter({7: 2, 6: 1}),\n",
       "       Counter({7: 2, 6: 1}), Counter({7: 2, 4: 1}),\n",
       "       Counter({7: 2, 9: 1}), Counter({7: 2, 1: 1}),\n",
       "       Counter({7: 2, 5: 1}), Counter({7: 2, 0: 1}),\n",
       "       Counter({7: 2, 9: 1}), Counter({7: 2, 5: 1}),\n",
       "       Counter({7: 2, 2: 1}), Counter({7: 2, 8: 1}),\n",
       "       Counter({7: 2, 2: 1}), Counter({7: 2, 0: 1}),\n",
       "       Counter({7: 2, 0: 1}), Counter({7: 2, 1: 1}), Counter({7: 3}),\n",
       "       Counter({7: 2, 6: 1}), Counter({7: 2, 3: 1}),\n",
       "       Counter({7: 2, 2: 1}), Counter({7: 2, 1: 1}), Counter({7: 3}),\n",
       "       Counter({7: 2, 4: 1}), Counter({7: 2, 6: 1}),\n",
       "       Counter({7: 2, 3: 1}), Counter({7: 2, 1: 1}),\n",
       "       Counter({7: 2, 3: 1}), Counter({7: 2, 9: 1}),\n",
       "       Counter({7: 2, 1: 1}), Counter({7: 3}), Counter({7: 2, 6: 1}),\n",
       "       Counter({7: 2, 8: 1}), Counter({7: 2, 4: 1}),\n",
       "       Counter({7: 2, 3: 1}), Counter({7: 2, 1: 1}),\n",
       "       Counter({7: 2, 4: 1}), Counter({7: 2, 0: 1}),\n",
       "       Counter({7: 2, 5: 1}), Counter({7: 2, 3: 1}),\n",
       "       Counter({7: 2, 6: 1}), Counter({7: 2, 9: 1}),\n",
       "       Counter({7: 2, 6: 1}), Counter({7: 2, 1: 1}), Counter({7: 3}),\n",
       "       Counter({7: 2, 5: 1}), Counter({7: 2, 4: 1}),\n",
       "       Counter({7: 2, 4: 1}), Counter({7: 3}), Counter({7: 2, 2: 1}),\n",
       "       Counter({7: 2}), Counter({7: 2})], dtype=object)"
      ]
     },
     "execution_count": 190,
     "metadata": {},
     "output_type": "execute_result"
    }
   ],
   "source": [
    "np.append(add_col_counter, add_cluster_counter)"
   ]
  },
  {
   "cell_type": "code",
   "execution_count": 183,
   "metadata": {},
   "outputs": [
    {
     "data": {
      "text/plain": [
       "Counter({7: 2})"
      ]
     },
     "execution_count": 183,
     "metadata": {},
     "output_type": "execute_result"
    }
   ],
   "source": [
    "add_cluster_counter"
   ]
  },
  {
   "cell_type": "code",
   "execution_count": 191,
   "metadata": {
    "collapsed": true,
    "jupyter": {
     "outputs_hidden": true
    }
   },
   "outputs": [
    {
     "data": {
      "text/plain": [
       "array([Counter({7: 2, 0: 1}), Counter({7: 2, 1: 1}),\n",
       "       Counter({7: 2, 2: 1}), Counter({7: 2, 3: 1}),\n",
       "       Counter({7: 2, 4: 1}), Counter({7: 2, 5: 1}),\n",
       "       Counter({7: 2, 6: 1}), Counter({7: 3}), Counter({7: 2, 8: 1}),\n",
       "       Counter({7: 2, 9: 1}), Counter({7: 2, 0: 1}),\n",
       "       Counter({7: 2, 1: 1}), Counter({7: 2, 2: 1}),\n",
       "       Counter({7: 2, 3: 1}), Counter({7: 2, 4: 1}),\n",
       "       Counter({7: 2, 5: 1}), Counter({7: 2, 6: 1}), Counter({7: 3}),\n",
       "       Counter({7: 2, 8: 1}), Counter({7: 2, 9: 1}),\n",
       "       Counter({7: 2, 0: 1}), Counter({7: 2, 1: 1}),\n",
       "       Counter({7: 2, 2: 1}), Counter({7: 2, 3: 1}),\n",
       "       Counter({7: 2, 4: 1}), Counter({7: 2, 5: 1}),\n",
       "       Counter({7: 2, 6: 1}), Counter({7: 3}), Counter({7: 2, 8: 1}),\n",
       "       Counter({7: 2, 9: 1}), Counter({7: 2, 0: 1}),\n",
       "       Counter({7: 2, 9: 1}), Counter({7: 2, 5: 1}),\n",
       "       Counter({7: 2, 5: 1}), Counter({7: 2, 6: 1}),\n",
       "       Counter({7: 2, 5: 1}), Counter({7: 2, 0: 1}),\n",
       "       Counter({7: 2, 9: 1}), Counter({7: 2, 8: 1}),\n",
       "       Counter({7: 2, 9: 1}), Counter({7: 2, 8: 1}),\n",
       "       Counter({7: 2, 4: 1}), Counter({7: 2, 1: 1}), Counter({7: 3}),\n",
       "       Counter({7: 3}), Counter({7: 2, 3: 1}), Counter({7: 2, 5: 1}),\n",
       "       Counter({7: 2, 1: 1}), Counter({7: 2, 0: 1}),\n",
       "       Counter({7: 2, 0: 1}), Counter({7: 2, 2: 1}),\n",
       "       Counter({7: 2, 2: 1}), Counter({7: 3}), Counter({7: 2, 8: 1}),\n",
       "       Counter({7: 2, 2: 1}), Counter({7: 2, 0: 1}),\n",
       "       Counter({7: 2, 1: 1}), Counter({7: 2, 2: 1}),\n",
       "       Counter({7: 2, 6: 1}), Counter({7: 2, 3: 1}),\n",
       "       Counter({7: 2, 3: 1}), Counter({7: 3}), Counter({7: 2, 3: 1}),\n",
       "       Counter({7: 2, 3: 1}), Counter({7: 2, 4: 1}),\n",
       "       Counter({7: 2, 6: 1}), Counter({7: 2, 6: 1}),\n",
       "       Counter({7: 2, 6: 1}), Counter({7: 2, 4: 1}),\n",
       "       Counter({7: 2, 9: 1}), Counter({7: 2, 1: 1}),\n",
       "       Counter({7: 2, 5: 1}), Counter({7: 2, 0: 1}),\n",
       "       Counter({7: 2, 9: 1}), Counter({7: 2, 5: 1}),\n",
       "       Counter({7: 2, 2: 1}), Counter({7: 2, 8: 1}),\n",
       "       Counter({7: 2, 2: 1}), Counter({7: 2, 0: 1}),\n",
       "       Counter({7: 2, 0: 1}), Counter({7: 2, 1: 1}), Counter({7: 3}),\n",
       "       Counter({7: 2, 6: 1}), Counter({7: 2, 3: 1}),\n",
       "       Counter({7: 2, 2: 1}), Counter({7: 2, 1: 1}), Counter({7: 3}),\n",
       "       Counter({7: 2, 4: 1}), Counter({7: 2, 6: 1}),\n",
       "       Counter({7: 2, 3: 1}), Counter({7: 2, 1: 1}),\n",
       "       Counter({7: 2, 3: 1}), Counter({7: 2, 9: 1}),\n",
       "       Counter({7: 2, 1: 1}), Counter({7: 3}), Counter({7: 2, 6: 1}),\n",
       "       Counter({7: 2, 8: 1}), Counter({7: 2, 4: 1}),\n",
       "       Counter({7: 2, 3: 1}), Counter({7: 2, 1: 1}),\n",
       "       Counter({7: 2, 4: 1}), Counter({7: 2, 0: 1}),\n",
       "       Counter({7: 2, 5: 1}), Counter({7: 2, 3: 1}),\n",
       "       Counter({7: 2, 6: 1}), Counter({7: 2, 9: 1}),\n",
       "       Counter({7: 2, 6: 1}), Counter({7: 2, 1: 1}), Counter({7: 3}),\n",
       "       Counter({7: 2, 5: 1}), Counter({7: 2, 4: 1}),\n",
       "       Counter({7: 2, 4: 1}), Counter({7: 3}), Counter({7: 2, 2: 1}),\n",
       "       Counter({7: 2, 8: 1}), Counter({7: 2, 2: 1}),\n",
       "       Counter({7: 2, 2: 1}), Counter({7: 2, 5: 1}), Counter({7: 3}),\n",
       "       Counter({7: 2, 9: 1}), Counter({7: 2, 5: 1}),\n",
       "       Counter({7: 2, 4: 1}), Counter({7: 2, 8: 1}),\n",
       "       Counter({7: 2, 8: 1}), Counter({7: 2, 4: 1}),\n",
       "       Counter({7: 2, 9: 1}), Counter({7: 2, 0: 1}),\n",
       "       Counter({7: 2, 8: 1}), Counter({7: 2, 9: 1}),\n",
       "       Counter({7: 2, 8: 1}), Counter({7: 2, 0: 1}),\n",
       "       Counter({7: 2, 1: 1}), Counter({7: 2, 2: 1}),\n",
       "       Counter({7: 2, 3: 1}), Counter({7: 2, 4: 1}),\n",
       "       Counter({7: 2, 5: 1}), Counter({7: 2, 6: 1}), Counter({7: 3}),\n",
       "       Counter({7: 2, 8: 1}), Counter({7: 2, 9: 1}),\n",
       "       Counter({7: 2, 0: 1}), Counter({7: 2, 1: 1}),\n",
       "       Counter({7: 2, 2: 1}), Counter({7: 2, 3: 1}),\n",
       "       Counter({7: 2, 4: 1}), Counter({7: 2, 5: 1}),\n",
       "       Counter({7: 2, 6: 1}), Counter({7: 3}), Counter({7: 2, 8: 1}),\n",
       "       Counter({7: 2, 9: 1}), Counter({7: 2, 0: 1}),\n",
       "       Counter({7: 2, 1: 1}), Counter({7: 2, 2: 1}),\n",
       "       Counter({7: 2, 3: 1}), Counter({7: 2, 4: 1}),\n",
       "       Counter({7: 2, 5: 1}), Counter({7: 2, 6: 1}), Counter({7: 3}),\n",
       "       Counter({7: 2, 8: 1}), Counter({7: 2, 9: 1}),\n",
       "       Counter({7: 2, 0: 1}), Counter({7: 2, 9: 1}),\n",
       "       Counter({7: 2, 5: 1}), Counter({7: 2, 5: 1}),\n",
       "       Counter({7: 2, 6: 1}), Counter({7: 2, 5: 1}),\n",
       "       Counter({7: 2, 0: 1}), Counter({7: 2, 9: 1}),\n",
       "       Counter({7: 2, 8: 1}), Counter({7: 2, 9: 1}),\n",
       "       Counter({7: 2, 8: 1}), Counter({7: 2, 4: 1}),\n",
       "       Counter({7: 2, 1: 1}), Counter({7: 3}), Counter({7: 3}),\n",
       "       Counter({7: 2, 3: 1}), Counter({7: 2, 5: 1}),\n",
       "       Counter({7: 2, 1: 1}), Counter({7: 2, 0: 1}),\n",
       "       Counter({7: 2, 0: 1}), Counter({7: 2, 2: 1}),\n",
       "       Counter({7: 2, 2: 1}), Counter({7: 3}), Counter({7: 2, 8: 1}),\n",
       "       Counter({7: 2, 2: 1}), Counter({7: 2, 0: 1}),\n",
       "       Counter({7: 2, 1: 1}), Counter({7: 2, 2: 1}),\n",
       "       Counter({7: 2, 6: 1}), Counter({7: 2, 3: 1}),\n",
       "       Counter({7: 2, 3: 1}), Counter({7: 3}), Counter({7: 2, 3: 1}),\n",
       "       Counter({7: 2, 3: 1}), Counter({7: 2, 4: 1}),\n",
       "       Counter({7: 2, 6: 1}), Counter({7: 2, 6: 1}),\n",
       "       Counter({7: 2, 6: 1}), Counter({7: 2, 4: 1}),\n",
       "       Counter({7: 2, 9: 1}), Counter({7: 2, 1: 1}),\n",
       "       Counter({7: 2, 5: 1}), Counter({7: 2, 0: 1}),\n",
       "       Counter({7: 2, 9: 1}), Counter({7: 2, 5: 1}),\n",
       "       Counter({7: 2, 2: 1}), Counter({7: 2, 8: 1}),\n",
       "       Counter({7: 2, 2: 1}), Counter({7: 2, 0: 1}),\n",
       "       Counter({7: 2, 0: 1}), Counter({7: 2, 1: 1}), Counter({7: 3}),\n",
       "       Counter({7: 2, 6: 1}), Counter({7: 2, 3: 1}),\n",
       "       Counter({7: 2, 2: 1}), Counter({7: 2, 1: 1}), Counter({7: 3}),\n",
       "       Counter({7: 2, 3: 1}), Counter({7: 2, 1: 1}),\n",
       "       Counter({7: 2, 3: 1}), Counter({7: 2, 9: 1}),\n",
       "       Counter({7: 2, 1: 1}), Counter({7: 3}), Counter({7: 2, 6: 1}),\n",
       "       Counter({7: 2, 8: 1}), Counter({7: 2, 4: 1}),\n",
       "       Counter({7: 2, 3: 1}), Counter({7: 2, 1: 1}),\n",
       "       Counter({7: 2, 4: 1}), Counter({7: 2, 0: 1}),\n",
       "       Counter({7: 2, 5: 1}), Counter({7: 2, 3: 1}),\n",
       "       Counter({7: 2, 6: 1}), Counter({7: 2, 9: 1}),\n",
       "       Counter({7: 2, 6: 1}), Counter({7: 2, 1: 1}), Counter({7: 3}),\n",
       "       Counter({7: 2, 5: 1}), Counter({7: 2, 4: 1}),\n",
       "       Counter({7: 2, 4: 1}), Counter({7: 3}), Counter({7: 2, 2: 1}),\n",
       "       Counter({7: 2, 8: 1}), Counter({7: 2, 2: 1}),\n",
       "       Counter({7: 2, 2: 1}), Counter({7: 2, 5: 1}),\n",
       "       Counter({7: 2, 5: 1}), Counter({7: 2, 4: 1}),\n",
       "       Counter({7: 2, 8: 1}), Counter({7: 2, 8: 1}),\n",
       "       Counter({7: 2, 4: 1}), Counter({7: 2, 9: 1}),\n",
       "       Counter({7: 2, 0: 1}), Counter({7: 2, 8: 1}),\n",
       "       Counter({7: 2, 9: 1}), Counter({7: 2, 8: 1}),\n",
       "       Counter({7: 2, 0: 1}), Counter({7: 2, 1: 1}),\n",
       "       Counter({7: 2, 2: 1}), Counter({7: 2, 3: 1}),\n",
       "       Counter({7: 2, 4: 1}), Counter({7: 2, 5: 1}),\n",
       "       Counter({7: 2, 6: 1}), Counter({7: 3}), Counter({7: 2, 8: 1}),\n",
       "       Counter({7: 2, 9: 1}), Counter({7: 2, 0: 1}),\n",
       "       Counter({7: 2, 1: 1}), Counter({7: 2, 2: 1}),\n",
       "       Counter({7: 2, 3: 1}), Counter({7: 2, 4: 1}),\n",
       "       Counter({7: 2, 5: 1}), Counter({7: 2, 6: 1}), Counter({7: 3}),\n",
       "       Counter({7: 2, 8: 1}), Counter({7: 2, 9: 1}),\n",
       "       Counter({7: 2, 0: 1}), Counter({7: 2, 1: 1}),\n",
       "       Counter({7: 2, 2: 1}), Counter({7: 2, 3: 1}),\n",
       "       Counter({7: 2, 4: 1}), Counter({7: 2, 5: 1}),\n",
       "       Counter({7: 2, 6: 1}), Counter({7: 3}), Counter({7: 2, 8: 1}),\n",
       "       Counter({7: 2, 9: 1}), Counter({7: 2, 0: 1}),\n",
       "       Counter({7: 2, 9: 1}), Counter({7: 2, 5: 1}),\n",
       "       Counter({7: 2, 5: 1}), Counter({7: 2, 6: 1}),\n",
       "       Counter({7: 2, 5: 1}), Counter({7: 2, 0: 1}),\n",
       "       Counter({7: 2, 9: 1}), Counter({7: 2, 8: 1}),\n",
       "       Counter({7: 2, 9: 1}), Counter({7: 2, 8: 1}),\n",
       "       Counter({7: 2, 4: 1}), Counter({7: 2, 1: 1}), Counter({7: 3}),\n",
       "       Counter({7: 3}), Counter({7: 2, 3: 1}), Counter({7: 2, 5: 1}),\n",
       "       Counter({7: 2, 1: 1}), Counter({7: 2, 0: 1}),\n",
       "       Counter({7: 2, 0: 1}), Counter({7: 2, 2: 1}),\n",
       "       Counter({7: 2, 2: 1}), Counter({7: 3}), Counter({7: 2, 8: 1}),\n",
       "       Counter({7: 2, 2: 1}), Counter({7: 2, 0: 1}),\n",
       "       Counter({7: 2, 1: 1}), Counter({7: 2, 2: 1}),\n",
       "       Counter({7: 2, 6: 1}), Counter({7: 2, 3: 1}),\n",
       "       Counter({7: 2, 3: 1}), Counter({7: 3}), Counter({7: 2, 3: 1}),\n",
       "       Counter({7: 2, 3: 1}), Counter({7: 2, 4: 1}),\n",
       "       Counter({7: 2, 6: 1}), Counter({7: 2, 6: 1}),\n",
       "       Counter({7: 2, 6: 1}), Counter({7: 2, 4: 1}),\n",
       "       Counter({7: 2, 9: 1}), Counter({7: 2, 1: 1}),\n",
       "       Counter({7: 2, 5: 1}), Counter({7: 2, 0: 1}),\n",
       "       Counter({7: 2, 9: 1}), Counter({7: 2, 5: 1}),\n",
       "       Counter({7: 2, 2: 1}), Counter({7: 2, 8: 1}),\n",
       "       Counter({7: 2, 2: 1}), Counter({7: 2, 0: 1}),\n",
       "       Counter({7: 2, 0: 1}), Counter({7: 2, 1: 1}), Counter({7: 3}),\n",
       "       Counter({7: 2, 6: 1}), Counter({7: 2, 3: 1}),\n",
       "       Counter({7: 2, 2: 1}), Counter({7: 2, 1: 1}), Counter({7: 3}),\n",
       "       Counter({7: 2, 4: 1}), Counter({7: 2, 6: 1}),\n",
       "       Counter({7: 2, 3: 1}), Counter({7: 2, 1: 1}),\n",
       "       Counter({7: 2, 3: 1}), Counter({7: 2, 9: 1}),\n",
       "       Counter({7: 2, 1: 1}), Counter({7: 3}), Counter({7: 2, 6: 1}),\n",
       "       Counter({7: 2, 8: 1}), Counter({7: 2, 4: 1}),\n",
       "       Counter({7: 2, 3: 1}), Counter({7: 2, 1: 1}),\n",
       "       Counter({7: 2, 4: 1}), Counter({7: 2, 0: 1}),\n",
       "       Counter({7: 2, 5: 1}), Counter({7: 2, 3: 1}),\n",
       "       Counter({7: 2, 6: 1}), Counter({7: 2, 9: 1}),\n",
       "       Counter({7: 2, 6: 1}), Counter({7: 2, 1: 1}), Counter({7: 3}),\n",
       "       Counter({7: 2, 5: 1}), Counter({7: 2, 4: 1}),\n",
       "       Counter({7: 2, 4: 1}), Counter({7: 3}), Counter({7: 2, 2: 1}),\n",
       "       Counter({7: 2, 8: 1}), Counter({7: 2, 2: 1}),\n",
       "       Counter({7: 2, 2: 1}), Counter({7: 2, 5: 1}), Counter({7: 3}),\n",
       "       Counter({7: 2, 9: 1}), Counter({7: 2, 5: 1}),\n",
       "       Counter({7: 2, 4: 1}), Counter({7: 2, 8: 1}),\n",
       "       Counter({7: 2, 8: 1}), Counter({7: 2, 4: 1}),\n",
       "       Counter({7: 2, 9: 1}), Counter({7: 2, 0: 1}),\n",
       "       Counter({7: 2, 8: 1}), Counter({7: 2, 9: 1}),\n",
       "       Counter({7: 2, 3: 1}), Counter({7: 2, 0: 1}),\n",
       "       Counter({7: 2, 1: 1}), Counter({7: 2, 2: 1}),\n",
       "       Counter({7: 2, 3: 1}), Counter({7: 2, 4: 1}),\n",
       "       Counter({7: 2, 5: 1}), Counter({7: 2, 6: 1}), Counter({7: 3}),\n",
       "       Counter({7: 2, 8: 1}), Counter({7: 2, 9: 1}),\n",
       "       Counter({7: 2, 0: 1}), Counter({7: 2, 1: 1}),\n",
       "       Counter({7: 2, 2: 1}), Counter({7: 2, 3: 1}),\n",
       "       Counter({7: 2, 4: 1}), Counter({7: 2, 5: 1}),\n",
       "       Counter({7: 2, 6: 1}), Counter({7: 3}), Counter({7: 2, 8: 1}),\n",
       "       Counter({7: 2, 9: 1}), Counter({7: 2, 0: 1}),\n",
       "       Counter({7: 2, 1: 1}), Counter({7: 2, 2: 1}),\n",
       "       Counter({7: 2, 3: 1}), Counter({7: 2, 4: 1}),\n",
       "       Counter({7: 2, 5: 1}), Counter({7: 2, 6: 1}), Counter({7: 3}),\n",
       "       Counter({7: 2, 8: 1}), Counter({7: 2, 9: 1}),\n",
       "       Counter({7: 2, 0: 1}), Counter({7: 2, 9: 1}),\n",
       "       Counter({7: 2, 5: 1}), Counter({7: 2, 5: 1}),\n",
       "       Counter({7: 2, 6: 1}), Counter({7: 2, 5: 1}),\n",
       "       Counter({7: 2, 0: 1}), Counter({7: 2, 9: 1}),\n",
       "       Counter({7: 2, 8: 1}), Counter({7: 2, 9: 1}),\n",
       "       Counter({7: 2, 8: 1}), Counter({7: 2, 4: 1}),\n",
       "       Counter({7: 2, 1: 1}), Counter({7: 3}), Counter({7: 3}),\n",
       "       Counter({7: 2, 3: 1}), Counter({7: 2, 5: 1}),\n",
       "       Counter({7: 2, 1: 1}), Counter({7: 2, 0: 1}),\n",
       "       Counter({7: 2, 0: 1}), Counter({7: 2, 2: 1}),\n",
       "       Counter({7: 2, 2: 1}), Counter({7: 3}), Counter({7: 2, 8: 1}),\n",
       "       Counter({7: 2, 2: 1}), Counter({7: 2, 0: 1}),\n",
       "       Counter({7: 2, 1: 1}), Counter({7: 2, 2: 1}),\n",
       "       Counter({7: 2, 6: 1}), Counter({7: 2, 3: 1}),\n",
       "       Counter({7: 2, 3: 1}), Counter({7: 3}), Counter({7: 2, 3: 1}),\n",
       "       Counter({7: 2, 3: 1}), Counter({7: 2, 4: 1}),\n",
       "       Counter({7: 2, 6: 1}), Counter({7: 2, 6: 1}),\n",
       "       Counter({7: 2, 6: 1}), Counter({7: 2, 4: 1}),\n",
       "       Counter({7: 2, 9: 1}), Counter({7: 2, 1: 1}),\n",
       "       Counter({7: 2, 5: 1}), Counter({7: 2, 0: 1}),\n",
       "       Counter({7: 2, 9: 1}), Counter({7: 2, 5: 1}),\n",
       "       Counter({7: 2, 2: 1}), Counter({7: 2, 8: 1}),\n",
       "       Counter({7: 2, 2: 1}), Counter({7: 2, 0: 1}),\n",
       "       Counter({7: 2, 0: 1}), Counter({7: 2, 1: 1}), Counter({7: 3}),\n",
       "       Counter({7: 2, 6: 1}), Counter({7: 2, 3: 1}),\n",
       "       Counter({7: 2, 2: 1}), Counter({7: 2, 1: 1}), Counter({7: 3}),\n",
       "       Counter({7: 2, 4: 1}), Counter({7: 2, 6: 1}),\n",
       "       Counter({7: 2, 3: 1}), Counter({7: 2, 1: 1}),\n",
       "       Counter({7: 2, 3: 1}), Counter({7: 2, 9: 1}),\n",
       "       Counter({7: 2, 1: 1}), Counter({7: 3}), Counter({7: 2, 6: 1}),\n",
       "       Counter({7: 2, 8: 1}), Counter({7: 2, 4: 1}),\n",
       "       Counter({7: 2, 3: 1}), Counter({7: 2, 1: 1}),\n",
       "       Counter({7: 2, 4: 1}), Counter({7: 2, 0: 1}),\n",
       "       Counter({7: 2, 5: 1}), Counter({7: 2, 3: 1}),\n",
       "       Counter({7: 2, 6: 1}), Counter({7: 2, 9: 1}),\n",
       "       Counter({7: 2, 6: 1}), Counter({7: 2, 1: 1}), Counter({7: 3}),\n",
       "       Counter({7: 2, 5: 1}), Counter({7: 2, 4: 1}),\n",
       "       Counter({7: 2, 4: 1}), Counter({7: 3}), Counter({7: 2, 2: 1}),\n",
       "       Counter({7: 2})], dtype=object)"
      ]
     },
     "execution_count": 191,
     "metadata": {},
     "output_type": "execute_result"
    }
   ],
   "source": [
    "add_col_counter"
   ]
  },
  {
   "cell_type": "code",
   "execution_count": 173,
   "metadata": {},
   "outputs": [
    {
     "ename": "AttributeError",
     "evalue": "'int' object has no attribute 'values'",
     "output_type": "error",
     "traceback": [
      "\u001b[0;31m---------------------------------------------------------------------------\u001b[0m",
      "\u001b[0;31mAttributeError\u001b[0m                            Traceback (most recent call last)",
      "\u001b[0;32m<ipython-input-173-1bc43aab5076>\u001b[0m in \u001b[0;36m<module>\u001b[0;34m\u001b[0m\n\u001b[1;32m      1\u001b[0m \u001b[0mcluster_array_entropy\u001b[0m \u001b[0;34m=\u001b[0m\u001b[0;31m \u001b[0m\u001b[0;31m\\\u001b[0m\u001b[0;34m\u001b[0m\u001b[0;34m\u001b[0m\u001b[0m\n\u001b[0;32m----> 2\u001b[0;31m     [\n\u001b[0m\u001b[1;32m      3\u001b[0m         [\n\u001b[1;32m      4\u001b[0m             entropy(\n\u001b[1;32m      5\u001b[0m                 np.fromiter(\n",
      "\u001b[0;32m<ipython-input-173-1bc43aab5076>\u001b[0m in \u001b[0;36m<listcomp>\u001b[0;34m(.0)\u001b[0m\n\u001b[1;32m      1\u001b[0m \u001b[0mcluster_array_entropy\u001b[0m \u001b[0;34m=\u001b[0m\u001b[0;31m \u001b[0m\u001b[0;31m\\\u001b[0m\u001b[0;34m\u001b[0m\u001b[0;34m\u001b[0m\u001b[0m\n\u001b[1;32m      2\u001b[0m     [\n\u001b[0;32m----> 3\u001b[0;31m         [\n\u001b[0m\u001b[1;32m      4\u001b[0m             entropy(\n\u001b[1;32m      5\u001b[0m                 np.fromiter(\n",
      "\u001b[0;32m<ipython-input-173-1bc43aab5076>\u001b[0m in \u001b[0;36m<listcomp>\u001b[0;34m(.0)\u001b[0m\n\u001b[1;32m      4\u001b[0m             entropy(\n\u001b[1;32m      5\u001b[0m                 np.fromiter(\n\u001b[0;32m----> 6\u001b[0;31m                     \u001b[0mlist\u001b[0m\u001b[0;34m(\u001b[0m\u001b[0mtarget_counter_array\u001b[0m\u001b[0;34m[\u001b[0m\u001b[0mi\u001b[0m\u001b[0;34m]\u001b[0m\u001b[0;34m[\u001b[0m\u001b[0mj\u001b[0m\u001b[0;34m]\u001b[0m\u001b[0;34m.\u001b[0m\u001b[0mvalues\u001b[0m\u001b[0;34m(\u001b[0m\u001b[0;34m)\u001b[0m\u001b[0;34m)\u001b[0m\u001b[0;34m\u001b[0m\u001b[0;34m\u001b[0m\u001b[0m\n\u001b[0m\u001b[1;32m      7\u001b[0m                     \u001b[0;34m,\u001b[0m \u001b[0mdtype\u001b[0m \u001b[0;34m=\u001b[0m \u001b[0mfloat\u001b[0m\u001b[0;34m\u001b[0m\u001b[0;34m\u001b[0m\u001b[0m\n\u001b[1;32m      8\u001b[0m                 )/len_add_arr\n",
      "\u001b[0;31mAttributeError\u001b[0m: 'int' object has no attribute 'values'"
     ]
    }
   ],
   "source": [
    "cluster_array_entropy = \\\n",
    "    [\n",
    "        [\n",
    "            entropy(\n",
    "                np.fromiter(\n",
    "                    list(target_counter_array[i][j].values())\n",
    "                    , dtype = float\n",
    "                )/len_add_arr\n",
    "            )\n",
    "            for j in range(len_data)\n",
    "        ]\n",
    "        for i in range(len_data)\n",
    "    ]"
   ]
  },
  {
   "cell_type": "code",
   "execution_count": 174,
   "metadata": {},
   "outputs": [
    {
     "data": {
      "text/plain": [
       "array([Counter({0: 2}), Counter({0: 1, 1: 1}), Counter({0: 1, 2: 1}), ...,\n",
       "       Counter({7: 3}), Counter({7: 2, 2: 1}), Counter({7: 2})],\n",
       "      dtype=object)"
      ]
     },
     "execution_count": 174,
     "metadata": {},
     "output_type": "execute_result"
    }
   ],
   "source": [
    "target_counter_array"
   ]
  },
  {
   "cell_type": "code",
   "execution_count": 172,
   "metadata": {},
   "outputs": [
    {
     "data": {
      "text/plain": [
       "251002"
      ]
     },
     "execution_count": 172,
     "metadata": {},
     "output_type": "execute_result"
    }
   ],
   "source": [
    "len(cluster_array_entropy)"
   ]
  },
  {
   "cell_type": "code",
   "execution_count": 166,
   "metadata": {},
   "outputs": [],
   "source": [
    "add_col_entropy = [\n",
    "    entropy(\n",
    "        list(x[0].values())/np.sum(list(x[0].values()))\n",
    "    )\n",
    "    for x in add_col_counter\n",
    "]"
   ]
  },
  {
   "cell_type": "code",
   "execution_count": 165,
   "metadata": {},
   "outputs": [
    {
     "ename": "AttributeError",
     "evalue": "'list' object has no attribute 'values'",
     "output_type": "error",
     "traceback": [
      "\u001b[0;31m---------------------------------------------------------------------------\u001b[0m",
      "\u001b[0;31mAttributeError\u001b[0m                            Traceback (most recent call last)",
      "\u001b[0;32m<ipython-input-165-fe623644ae59>\u001b[0m in \u001b[0;36m<module>\u001b[0;34m\u001b[0m\n\u001b[0;32m----> 1\u001b[0;31m \u001b[0;34m(\u001b[0m\u001b[0;34m(\u001b[0m\u001b[0madd_col_counter\u001b[0m\u001b[0;34m[\u001b[0m\u001b[0;36m0\u001b[0m\u001b[0;34m]\u001b[0m\u001b[0;34m.\u001b[0m\u001b[0mvalues\u001b[0m\u001b[0;34m(\u001b[0m\u001b[0;34m)\u001b[0m\u001b[0;34m)\u001b[0m\u001b[0;34m)\u001b[0m\u001b[0;34m\u001b[0m\u001b[0;34m\u001b[0m\u001b[0m\n\u001b[0m",
      "\u001b[0;31mAttributeError\u001b[0m: 'list' object has no attribute 'values'"
     ]
    }
   ],
   "source": [
    "((add_col_counter[0].values()))"
   ]
  },
  {
   "cell_type": "code",
   "execution_count": 153,
   "metadata": {},
   "outputs": [
    {
     "ename": "TypeError",
     "evalue": "unsupported operand type(s) for /: 'list' and 'dict_values'",
     "output_type": "error",
     "traceback": [
      "\u001b[0;31m---------------------------------------------------------------------------\u001b[0m",
      "\u001b[0;31mTypeError\u001b[0m                                 Traceback (most recent call last)",
      "\u001b[0;32m<ipython-input-153-0318cea5bfd9>\u001b[0m in \u001b[0;36m<module>\u001b[0;34m\u001b[0m\n\u001b[0;32m----> 1\u001b[0;31m \u001b[0mlist\u001b[0m\u001b[0;34m(\u001b[0m\u001b[0madd_col_counter\u001b[0m\u001b[0;34m[\u001b[0m\u001b[0;36m0\u001b[0m\u001b[0;34m]\u001b[0m\u001b[0;34m.\u001b[0m\u001b[0mvalues\u001b[0m\u001b[0;34m(\u001b[0m\u001b[0;34m)\u001b[0m\u001b[0;34m)\u001b[0m\u001b[0;34m/\u001b[0m\u001b[0mnp\u001b[0m\u001b[0;34m.\u001b[0m\u001b[0msum\u001b[0m\u001b[0;34m(\u001b[0m\u001b[0madd_col_counter\u001b[0m\u001b[0;34m[\u001b[0m\u001b[0;36m0\u001b[0m\u001b[0;34m]\u001b[0m\u001b[0;34m.\u001b[0m\u001b[0mvalues\u001b[0m\u001b[0;34m(\u001b[0m\u001b[0;34m)\u001b[0m\u001b[0;34m)\u001b[0m\u001b[0;34m\u001b[0m\u001b[0;34m\u001b[0m\u001b[0m\n\u001b[0m",
      "\u001b[0;31mTypeError\u001b[0m: unsupported operand type(s) for /: 'list' and 'dict_values'"
     ]
    }
   ],
   "source": [
    "list(add_col_counter[0].values())/np.sum(add_col_counter[0].values())"
   ]
  },
  {
   "cell_type": "code",
   "execution_count": 154,
   "metadata": {},
   "outputs": [
    {
     "data": {
      "text/plain": [
       "dict_values([1, 2])"
      ]
     },
     "execution_count": 154,
     "metadata": {},
     "output_type": "execute_result"
    }
   ],
   "source": [
    "np.sum(add_col_counter[0].values())"
   ]
  },
  {
   "cell_type": "code",
   "execution_count": 132,
   "metadata": {},
   "outputs": [
    {
     "data": {
      "text/plain": [
       "Counter({0: 2})"
      ]
     },
     "execution_count": 132,
     "metadata": {},
     "output_type": "execute_result"
    }
   ],
   "source": [
    "target_counter_array =     [\n",
    "        [\n",
    "            Counter(targets[[i, j]])\n",
    "            for j in range(len_cut)\n",
    "        ]\n",
    "        for i in range(len_cut)\n",
    "    ]\n",
    "\n",
    "target_counter_array[0][0]"
   ]
  },
  {
   "cell_type": "code",
   "execution_count": 147,
   "metadata": {},
   "outputs": [
    {
     "data": {
      "text/plain": [
       "array([1.])"
      ]
     },
     "execution_count": 147,
     "metadata": {},
     "output_type": "execute_result"
    }
   ],
   "source": [
    "list(target_counter_array[0][0].values())/np.sum(list(target_counter_array[0][0].values()))"
   ]
  },
  {
   "cell_type": "code",
   "execution_count": 16,
   "metadata": {},
   "outputs": [],
   "source": [
    "len_cut = 500\n",
    "data = digits.data[:len_cut]"
   ]
  },
  {
   "cell_type": "code",
   "execution_count": 65,
   "metadata": {},
   "outputs": [
    {
     "data": {
      "text/plain": [
       "array(1000)"
      ]
     },
     "execution_count": 65,
     "metadata": {},
     "output_type": "execute_result"
    }
   ],
   "source": [
    "target_counter_array = np.array(2 * len_cut)\n",
    "cluster_array_entropy = np.array(2 * len_cut)\n",
    "cluster_array_entropy"
   ]
  },
  {
   "cell_type": "code",
   "execution_count": 88,
   "metadata": {},
   "outputs": [
    {
     "name": "stdout",
     "output_type": "stream",
     "text": [
      "CPU times: user 11.7 s, sys: 96.1 ms, total: 11.8 s\n",
      "Wall time: 11.8 s\n"
     ]
    }
   ],
   "source": [
    "%%time\n",
    "len_cut = 500\n",
    "cluster_counter_array = np.array(2 * len_cut)\n",
    "target_counter_array = np.array(2 * len_cut)\n",
    "cluster_array_entropy = np.array(2 * len_cut)\n",
    "len_add_arr = 2\n",
    "\n",
    "cluster_counter_array = [\n",
    "    Counter([targets[i]])\n",
    "    for i in range(len_cut)\n",
    "]\n",
    "\n",
    "target_counter_array = [\n",
    "    [\n",
    "        Counter(targets[[i, j]])\n",
    "        for j in range(len_cut)\n",
    "    ]\n",
    "    for i in range(len_cut)\n",
    "]\n",
    "\n",
    "cluster_array_entropy = [\n",
    "    [\n",
    "        entropy(\n",
    "            np.fromiter(\n",
    "                list(target_counter_array[i][j].values())\n",
    "                , dtype = float\n",
    "            )/len_add_arr\n",
    "        )\n",
    "        for j in range(len_cut)\n",
    "    ]\n",
    "    for i in range(len_cut)\n",
    "]"
   ]
  },
  {
   "cell_type": "code",
   "execution_count": 110,
   "metadata": {},
   "outputs": [],
   "source": [
    "target_counter_array = [\n",
    "    [\n",
    "        i + j\n",
    "        for j in range(2 * len_cut)\n",
    "    ]\n",
    "    for i in range(2 * len_cut)\n",
    "]"
   ]
  },
  {
   "cell_type": "code",
   "execution_count": 113,
   "metadata": {},
   "outputs": [
    {
     "data": {
      "text/plain": [
       "array([[ 0,  1,  2,  3],\n",
       "       [ 4,  5,  6,  7],\n",
       "       [ 8,  9, 10, 11],\n",
       "       [12, 13, 14, 15],\n",
       "       [16, 17, 18, 19]])"
      ]
     },
     "execution_count": 113,
     "metadata": {},
     "output_type": "execute_result"
    }
   ],
   "source": [
    "x"
   ]
  },
  {
   "cell_type": "code",
   "execution_count": 114,
   "metadata": {},
   "outputs": [
    {
     "data": {
      "text/plain": [
       "array([[0, 0, 0],\n",
       "       [1, 1, 1]])"
      ]
     },
     "execution_count": 114,
     "metadata": {},
     "output_type": "execute_result"
    }
   ],
   "source": [
    "row"
   ]
  },
  {
   "cell_type": "code",
   "execution_count": 124,
   "metadata": {},
   "outputs": [
    {
     "ename": "TypeError",
     "evalue": "Field elements must be 2- or 3-tuples, got '2'",
     "output_type": "error",
     "traceback": [
      "\u001b[0;31m---------------------------------------------------------------------------\u001b[0m",
      "\u001b[0;31mTypeError\u001b[0m                                 Traceback (most recent call last)",
      "\u001b[0;32m<ipython-input-124-1f5dcffda6b1>\u001b[0m in \u001b[0;36m<module>\u001b[0;34m\u001b[0m\n\u001b[1;32m      1\u001b[0m \u001b[0mx\u001b[0m \u001b[0;34m=\u001b[0m \u001b[0mnp\u001b[0m\u001b[0;34m.\u001b[0m\u001b[0marange\u001b[0m\u001b[0;34m(\u001b[0m\u001b[0;36m20\u001b[0m\u001b[0;34m)\u001b[0m\u001b[0;34m.\u001b[0m\u001b[0mreshape\u001b[0m\u001b[0;34m(\u001b[0m\u001b[0;36m5\u001b[0m\u001b[0;34m,\u001b[0m \u001b[0;36m4\u001b[0m\u001b[0;34m)\u001b[0m\u001b[0;34m\u001b[0m\u001b[0;34m\u001b[0m\u001b[0m\n\u001b[1;32m      2\u001b[0m \u001b[0;34m\u001b[0m\u001b[0m\n\u001b[0;32m----> 3\u001b[0;31m \u001b[0mrow\u001b[0m\u001b[0;34m,\u001b[0m \u001b[0mcol\u001b[0m \u001b[0;34m=\u001b[0m \u001b[0mnp\u001b[0m\u001b[0;34m.\u001b[0m\u001b[0mindices\u001b[0m\u001b[0;34m(\u001b[0m\u001b[0;34m[\u001b[0m\u001b[0;36m2\u001b[0m\u001b[0;34m]\u001b[0m\u001b[0;34m,\u001b[0m \u001b[0;34m[\u001b[0m\u001b[0;36m2\u001b[0m\u001b[0;34m]\u001b[0m\u001b[0;34m)\u001b[0m\u001b[0;34m\u001b[0m\u001b[0;34m\u001b[0m\u001b[0m\n\u001b[0m\u001b[1;32m      4\u001b[0m \u001b[0;34m\u001b[0m\u001b[0m\n\u001b[1;32m      5\u001b[0m \u001b[0mx\u001b[0m\u001b[0;34m[\u001b[0m\u001b[0mrow\u001b[0m\u001b[0;34m,\u001b[0m \u001b[0mcol\u001b[0m\u001b[0;34m]\u001b[0m\u001b[0;34m\u001b[0m\u001b[0;34m\u001b[0m\u001b[0m\n",
      "\u001b[0;32m~/anaconda3/lib/python3.8/site-packages/numpy/core/numeric.py\u001b[0m in \u001b[0;36mindices\u001b[0;34m(dimensions, dtype, sparse)\u001b[0m\n\u001b[1;32m   1742\u001b[0m         \u001b[0mres\u001b[0m \u001b[0;34m=\u001b[0m \u001b[0mtuple\u001b[0m\u001b[0;34m(\u001b[0m\u001b[0;34m)\u001b[0m\u001b[0;34m\u001b[0m\u001b[0;34m\u001b[0m\u001b[0m\n\u001b[1;32m   1743\u001b[0m     \u001b[0;32melse\u001b[0m\u001b[0;34m:\u001b[0m\u001b[0;34m\u001b[0m\u001b[0;34m\u001b[0m\u001b[0m\n\u001b[0;32m-> 1744\u001b[0;31m         \u001b[0mres\u001b[0m \u001b[0;34m=\u001b[0m \u001b[0mempty\u001b[0m\u001b[0;34m(\u001b[0m\u001b[0;34m(\u001b[0m\u001b[0mN\u001b[0m\u001b[0;34m,\u001b[0m\u001b[0;34m)\u001b[0m\u001b[0;34m+\u001b[0m\u001b[0mdimensions\u001b[0m\u001b[0;34m,\u001b[0m \u001b[0mdtype\u001b[0m\u001b[0;34m=\u001b[0m\u001b[0mdtype\u001b[0m\u001b[0;34m)\u001b[0m\u001b[0;34m\u001b[0m\u001b[0;34m\u001b[0m\u001b[0m\n\u001b[0m\u001b[1;32m   1745\u001b[0m     \u001b[0;32mfor\u001b[0m \u001b[0mi\u001b[0m\u001b[0;34m,\u001b[0m \u001b[0mdim\u001b[0m \u001b[0;32min\u001b[0m \u001b[0menumerate\u001b[0m\u001b[0;34m(\u001b[0m\u001b[0mdimensions\u001b[0m\u001b[0;34m)\u001b[0m\u001b[0;34m:\u001b[0m\u001b[0;34m\u001b[0m\u001b[0;34m\u001b[0m\u001b[0m\n\u001b[1;32m   1746\u001b[0m         idx = arange(dim, dtype=dtype).reshape(\n",
      "\u001b[0;31mTypeError\u001b[0m: Field elements must be 2- or 3-tuples, got '2'"
     ]
    }
   ],
   "source": [
    "x = np.arange(20).reshape(5, 4)\n",
    "\n",
    "row, col = np.indices([2], [2])\n",
    "\n",
    "x[row, col]"
   ]
  },
  {
   "cell_type": "code",
   "execution_count": 104,
   "metadata": {
    "collapsed": true,
    "jupyter": {
     "outputs_hidden": true
    }
   },
   "outputs": [
    {
     "data": {
      "text/plain": [
       "matrix([[Counter({0: 2, 1: 1, 2: 1}), Counter({1: 3, 2: 1}),\n",
       "         Counter({2: 3, 1: 1}), Counter({3: 2, 1: 1, 2: 1}),\n",
       "         Counter({4: 2, 1: 1, 2: 1}), Counter({5: 2, 1: 1, 2: 1}),\n",
       "         Counter({6: 2, 1: 1, 2: 1}), Counter({7: 2, 1: 1, 2: 1}),\n",
       "         Counter({8: 2, 1: 1, 2: 1}), Counter({9: 2, 1: 1, 2: 1}),\n",
       "         Counter({0: 2, 1: 1, 2: 1}), Counter({1: 3, 2: 1}),\n",
       "         Counter({2: 3, 1: 1}), Counter({3: 2, 1: 1, 2: 1}),\n",
       "         Counter({4: 2, 1: 1, 2: 1}), Counter({5: 2, 1: 1, 2: 1}),\n",
       "         Counter({6: 2, 1: 1, 2: 1}), Counter({7: 2, 1: 1, 2: 1}),\n",
       "         Counter({8: 2, 1: 1, 2: 1}), Counter({9: 2, 1: 1, 2: 1}),\n",
       "         Counter({0: 2, 1: 1, 2: 1}), Counter({1: 3, 2: 1}),\n",
       "         Counter({2: 3, 1: 1}), Counter({3: 2, 1: 1, 2: 1}),\n",
       "         Counter({4: 2, 1: 1, 2: 1}), Counter({5: 2, 1: 1, 2: 1}),\n",
       "         Counter({6: 2, 1: 1, 2: 1}), Counter({7: 2, 1: 1, 2: 1}),\n",
       "         Counter({8: 2, 1: 1, 2: 1}), Counter({9: 2, 1: 1, 2: 1}),\n",
       "         Counter({0: 2, 1: 1, 2: 1}), Counter({9: 2, 1: 1, 2: 1}),\n",
       "         Counter({5: 2, 1: 1, 2: 1}), Counter({5: 2, 1: 1, 2: 1}),\n",
       "         Counter({6: 2, 1: 1, 2: 1}), Counter({5: 2, 1: 1, 2: 1}),\n",
       "         Counter({0: 2, 1: 1, 2: 1}), Counter({9: 2, 1: 1, 2: 1}),\n",
       "         Counter({8: 2, 1: 1, 2: 1}), Counter({9: 2, 1: 1, 2: 1}),\n",
       "         Counter({8: 2, 1: 1, 2: 1}), Counter({4: 2, 1: 1, 2: 1}),\n",
       "         Counter({1: 3, 2: 1}), Counter({7: 2, 1: 1, 2: 1}),\n",
       "         Counter({7: 2, 1: 1, 2: 1}), Counter({3: 2, 1: 1, 2: 1}),\n",
       "         Counter({5: 2, 1: 1, 2: 1}), Counter({1: 3, 2: 1}),\n",
       "         Counter({0: 2, 1: 1, 2: 1}), Counter({0: 2, 1: 1, 2: 1}),\n",
       "         Counter({2: 3, 1: 1}), Counter({2: 3, 1: 1}),\n",
       "         Counter({7: 2, 1: 1, 2: 1}), Counter({8: 2, 1: 1, 2: 1}),\n",
       "         Counter({2: 3, 1: 1}), Counter({0: 2, 1: 1, 2: 1}),\n",
       "         Counter({1: 3, 2: 1}), Counter({2: 3, 1: 1}),\n",
       "         Counter({6: 2, 1: 1, 2: 1}), Counter({3: 2, 1: 1, 2: 1}),\n",
       "         Counter({3: 2, 1: 1, 2: 1}), Counter({7: 2, 1: 1, 2: 1}),\n",
       "         Counter({3: 2, 1: 1, 2: 1}), Counter({3: 2, 1: 1, 2: 1}),\n",
       "         Counter({4: 2, 1: 1, 2: 1}), Counter({6: 2, 1: 1, 2: 1}),\n",
       "         Counter({6: 2, 1: 1, 2: 1}), Counter({6: 2, 1: 1, 2: 1}),\n",
       "         Counter({4: 2, 1: 1, 2: 1}), Counter({9: 2, 1: 1, 2: 1}),\n",
       "         Counter({1: 3, 2: 1}), Counter({5: 2, 1: 1, 2: 1}),\n",
       "         Counter({0: 2, 1: 1, 2: 1}), Counter({9: 2, 1: 1, 2: 1}),\n",
       "         Counter({5: 2, 1: 1, 2: 1}), Counter({2: 3, 1: 1}),\n",
       "         Counter({8: 2, 1: 1, 2: 1}), Counter({2: 3, 1: 1}),\n",
       "         Counter({0: 2, 1: 1, 2: 1}), Counter({0: 2, 1: 1, 2: 1}),\n",
       "         Counter({1: 3, 2: 1}), Counter({7: 2, 1: 1, 2: 1}),\n",
       "         Counter({6: 2, 1: 1, 2: 1}), Counter({3: 2, 1: 1, 2: 1}),\n",
       "         Counter({2: 3, 1: 1}), Counter({1: 3, 2: 1}),\n",
       "         Counter({7: 2, 1: 1, 2: 1}), Counter({4: 2, 1: 1, 2: 1}),\n",
       "         Counter({6: 2, 1: 1, 2: 1}), Counter({3: 2, 1: 1, 2: 1}),\n",
       "         Counter({1: 3, 2: 1}), Counter({3: 2, 1: 1, 2: 1}),\n",
       "         Counter({9: 2, 1: 1, 2: 1}), Counter({1: 3, 2: 1}),\n",
       "         Counter({7: 2, 1: 1, 2: 1}), Counter({6: 2, 1: 1, 2: 1}),\n",
       "         Counter({8: 2, 1: 1, 2: 1}), Counter({4: 2, 1: 1, 2: 1}),\n",
       "         Counter({3: 2, 1: 1, 2: 1}), Counter({1: 3, 2: 1}),\n",
       "         Counter({4: 2, 1: 1, 2: 1}), Counter({0: 2, 1: 1, 2: 1}),\n",
       "         Counter({5: 2, 1: 1, 2: 1}), Counter({3: 2, 1: 1, 2: 1}),\n",
       "         Counter({6: 2, 1: 1, 2: 1}), Counter({9: 2, 1: 1, 2: 1}),\n",
       "         Counter({6: 2, 1: 1, 2: 1}), Counter({1: 3, 2: 1}),\n",
       "         Counter({7: 2, 1: 1, 2: 1}), Counter({5: 2, 1: 1, 2: 1}),\n",
       "         Counter({4: 2, 1: 1, 2: 1}), Counter({4: 2, 1: 1, 2: 1}),\n",
       "         Counter({7: 2, 1: 1, 2: 1}), Counter({2: 3, 1: 1}),\n",
       "         Counter({8: 2, 1: 1, 2: 1}), Counter({2: 3, 1: 1}),\n",
       "         Counter({2: 3, 1: 1}), Counter({5: 2, 1: 1, 2: 1}),\n",
       "         Counter({7: 2, 1: 1, 2: 1}), Counter({9: 2, 1: 1, 2: 1}),\n",
       "         Counter({5: 2, 1: 1, 2: 1}), Counter({4: 2, 1: 1, 2: 1}),\n",
       "         Counter({8: 2, 1: 1, 2: 1}), Counter({8: 2, 1: 1, 2: 1}),\n",
       "         Counter({4: 2, 1: 1, 2: 1}), Counter({9: 2, 1: 1, 2: 1}),\n",
       "         Counter({0: 2, 1: 1, 2: 1}), Counter({8: 2, 1: 1, 2: 1}),\n",
       "         Counter({9: 2, 1: 1, 2: 1}), Counter({8: 2, 1: 1, 2: 1}),\n",
       "         Counter({0: 2, 1: 1, 2: 1}), Counter({1: 3, 2: 1}),\n",
       "         Counter({2: 3, 1: 1}), Counter({3: 2, 1: 1, 2: 1}),\n",
       "         Counter({4: 2, 1: 1, 2: 1}), Counter({5: 2, 1: 1, 2: 1}),\n",
       "         Counter({6: 2, 1: 1, 2: 1}), Counter({7: 2, 1: 1, 2: 1}),\n",
       "         Counter({8: 2, 1: 1, 2: 1}), Counter({9: 2, 1: 1, 2: 1}),\n",
       "         Counter({0: 2, 1: 1, 2: 1}), Counter({1: 3, 2: 1}),\n",
       "         Counter({2: 3, 1: 1}), Counter({3: 2, 1: 1, 2: 1}),\n",
       "         Counter({4: 2, 1: 1, 2: 1}), Counter({5: 2, 1: 1, 2: 1}),\n",
       "         Counter({6: 2, 1: 1, 2: 1}), Counter({7: 2, 1: 1, 2: 1}),\n",
       "         Counter({8: 2, 1: 1, 2: 1}), Counter({9: 2, 1: 1, 2: 1}),\n",
       "         Counter({0: 2, 1: 1, 2: 1}), Counter({1: 3, 2: 1}),\n",
       "         Counter({2: 3, 1: 1}), Counter({3: 2, 1: 1, 2: 1}),\n",
       "         Counter({4: 2, 1: 1, 2: 1}), Counter({5: 2, 1: 1, 2: 1}),\n",
       "         Counter({6: 2, 1: 1, 2: 1}), Counter({7: 2, 1: 1, 2: 1}),\n",
       "         Counter({8: 2, 1: 1, 2: 1}), Counter({9: 2, 1: 1, 2: 1}),\n",
       "         Counter({0: 2, 1: 1, 2: 1}), Counter({9: 2, 1: 1, 2: 1}),\n",
       "         Counter({5: 2, 1: 1, 2: 1}), Counter({5: 2, 1: 1, 2: 1}),\n",
       "         Counter({6: 2, 1: 1, 2: 1}), Counter({5: 2, 1: 1, 2: 1}),\n",
       "         Counter({0: 2, 1: 1, 2: 1}), Counter({9: 2, 1: 1, 2: 1}),\n",
       "         Counter({8: 2, 1: 1, 2: 1}), Counter({9: 2, 1: 1, 2: 1}),\n",
       "         Counter({8: 2, 1: 1, 2: 1}), Counter({4: 2, 1: 1, 2: 1}),\n",
       "         Counter({1: 3, 2: 1}), Counter({7: 2, 1: 1, 2: 1}),\n",
       "         Counter({7: 2, 1: 1, 2: 1}), Counter({3: 2, 1: 1, 2: 1}),\n",
       "         Counter({5: 2, 1: 1, 2: 1}), Counter({1: 3, 2: 1}),\n",
       "         Counter({0: 2, 1: 1, 2: 1}), Counter({0: 2, 1: 1, 2: 1}),\n",
       "         Counter({2: 3, 1: 1}), Counter({2: 3, 1: 1}),\n",
       "         Counter({7: 2, 1: 1, 2: 1}), Counter({8: 2, 1: 1, 2: 1}),\n",
       "         Counter({2: 3, 1: 1}), Counter({0: 2, 1: 1, 2: 1}),\n",
       "         Counter({1: 3, 2: 1}), Counter({2: 3, 1: 1}),\n",
       "         Counter({6: 2, 1: 1, 2: 1}), Counter({3: 2, 1: 1, 2: 1}),\n",
       "         Counter({3: 2, 1: 1, 2: 1}), Counter({7: 2, 1: 1, 2: 1}),\n",
       "         Counter({3: 2, 1: 1, 2: 1}), Counter({3: 2, 1: 1, 2: 1}),\n",
       "         Counter({4: 2, 1: 1, 2: 1}), Counter({6: 2, 1: 1, 2: 1}),\n",
       "         Counter({6: 2, 1: 1, 2: 1}), Counter({6: 2, 1: 1, 2: 1}),\n",
       "         Counter({4: 2, 1: 1, 2: 1}), Counter({9: 2, 1: 1, 2: 1}),\n",
       "         Counter({1: 3, 2: 1}), Counter({5: 2, 1: 1, 2: 1}),\n",
       "         Counter({0: 2, 1: 1, 2: 1}), Counter({9: 2, 1: 1, 2: 1}),\n",
       "         Counter({5: 2, 1: 1, 2: 1}), Counter({2: 3, 1: 1}),\n",
       "         Counter({8: 2, 1: 1, 2: 1}), Counter({2: 3, 1: 1}),\n",
       "         Counter({0: 2, 1: 1, 2: 1}), Counter({0: 2, 1: 1, 2: 1}),\n",
       "         Counter({1: 3, 2: 1}), Counter({7: 2, 1: 1, 2: 1}),\n",
       "         Counter({6: 2, 1: 1, 2: 1}), Counter({3: 2, 1: 1, 2: 1}),\n",
       "         Counter({2: 3, 1: 1}), Counter({1: 3, 2: 1}),\n",
       "         Counter({7: 2, 1: 1, 2: 1}), Counter({3: 2, 1: 1, 2: 1}),\n",
       "         Counter({1: 3, 2: 1}), Counter({3: 2, 1: 1, 2: 1}),\n",
       "         Counter({9: 2, 1: 1, 2: 1}), Counter({1: 3, 2: 1}),\n",
       "         Counter({7: 2, 1: 1, 2: 1}), Counter({6: 2, 1: 1, 2: 1}),\n",
       "         Counter({8: 2, 1: 1, 2: 1}), Counter({4: 2, 1: 1, 2: 1}),\n",
       "         Counter({3: 2, 1: 1, 2: 1}), Counter({1: 3, 2: 1}),\n",
       "         Counter({4: 2, 1: 1, 2: 1}), Counter({0: 2, 1: 1, 2: 1}),\n",
       "         Counter({5: 2, 1: 1, 2: 1}), Counter({3: 2, 1: 1, 2: 1}),\n",
       "         Counter({6: 2, 1: 1, 2: 1}), Counter({9: 2, 1: 1, 2: 1}),\n",
       "         Counter({6: 2, 1: 1, 2: 1}), Counter({1: 3, 2: 1}),\n",
       "         Counter({7: 2, 1: 1, 2: 1}), Counter({5: 2, 1: 1, 2: 1}),\n",
       "         Counter({4: 2, 1: 1, 2: 1}), Counter({4: 2, 1: 1, 2: 1}),\n",
       "         Counter({7: 2, 1: 1, 2: 1}), Counter({2: 3, 1: 1}),\n",
       "         Counter({8: 2, 1: 1, 2: 1}), Counter({2: 3, 1: 1}),\n",
       "         Counter({2: 3, 1: 1}), Counter({5: 2, 1: 1, 2: 1}),\n",
       "         Counter({5: 2, 1: 1, 2: 1}), Counter({4: 2, 1: 1, 2: 1}),\n",
       "         Counter({8: 2, 1: 1, 2: 1}), Counter({8: 2, 1: 1, 2: 1}),\n",
       "         Counter({4: 2, 1: 1, 2: 1}), Counter({9: 2, 1: 1, 2: 1}),\n",
       "         Counter({0: 2, 1: 1, 2: 1}), Counter({8: 2, 1: 1, 2: 1}),\n",
       "         Counter({9: 2, 1: 1, 2: 1}), Counter({8: 2, 1: 1, 2: 1}),\n",
       "         Counter({0: 2, 1: 1, 2: 1}), Counter({1: 3, 2: 1}),\n",
       "         Counter({2: 3, 1: 1}), Counter({3: 2, 1: 1, 2: 1}),\n",
       "         Counter({4: 2, 1: 1, 2: 1}), Counter({5: 2, 1: 1, 2: 1}),\n",
       "         Counter({6: 2, 1: 1, 2: 1}), Counter({7: 2, 1: 1, 2: 1}),\n",
       "         Counter({8: 2, 1: 1, 2: 1}), Counter({9: 2, 1: 1, 2: 1}),\n",
       "         Counter({0: 2, 1: 1, 2: 1}), Counter({1: 3, 2: 1}),\n",
       "         Counter({2: 3, 1: 1}), Counter({3: 2, 1: 1, 2: 1}),\n",
       "         Counter({4: 2, 1: 1, 2: 1}), Counter({5: 2, 1: 1, 2: 1}),\n",
       "         Counter({6: 2, 1: 1, 2: 1}), Counter({7: 2, 1: 1, 2: 1}),\n",
       "         Counter({8: 2, 1: 1, 2: 1}), Counter({9: 2, 1: 1, 2: 1}),\n",
       "         Counter({0: 2, 1: 1, 2: 1}), Counter({1: 3, 2: 1}),\n",
       "         Counter({2: 3, 1: 1}), Counter({3: 2, 1: 1, 2: 1}),\n",
       "         Counter({4: 2, 1: 1, 2: 1}), Counter({5: 2, 1: 1, 2: 1}),\n",
       "         Counter({6: 2, 1: 1, 2: 1}), Counter({7: 2, 1: 1, 2: 1}),\n",
       "         Counter({8: 2, 1: 1, 2: 1}), Counter({9: 2, 1: 1, 2: 1}),\n",
       "         Counter({0: 2, 1: 1, 2: 1}), Counter({9: 2, 1: 1, 2: 1}),\n",
       "         Counter({5: 2, 1: 1, 2: 1}), Counter({5: 2, 1: 1, 2: 1}),\n",
       "         Counter({6: 2, 1: 1, 2: 1}), Counter({5: 2, 1: 1, 2: 1}),\n",
       "         Counter({0: 2, 1: 1, 2: 1}), Counter({9: 2, 1: 1, 2: 1}),\n",
       "         Counter({8: 2, 1: 1, 2: 1}), Counter({9: 2, 1: 1, 2: 1}),\n",
       "         Counter({8: 2, 1: 1, 2: 1}), Counter({4: 2, 1: 1, 2: 1}),\n",
       "         Counter({1: 3, 2: 1}), Counter({7: 2, 1: 1, 2: 1}),\n",
       "         Counter({7: 2, 1: 1, 2: 1}), Counter({3: 2, 1: 1, 2: 1}),\n",
       "         Counter({5: 2, 1: 1, 2: 1}), Counter({1: 3, 2: 1}),\n",
       "         Counter({0: 2, 1: 1, 2: 1}), Counter({0: 2, 1: 1, 2: 1}),\n",
       "         Counter({2: 3, 1: 1}), Counter({2: 3, 1: 1}),\n",
       "         Counter({7: 2, 1: 1, 2: 1}), Counter({8: 2, 1: 1, 2: 1}),\n",
       "         Counter({2: 3, 1: 1}), Counter({0: 2, 1: 1, 2: 1}),\n",
       "         Counter({1: 3, 2: 1}), Counter({2: 3, 1: 1}),\n",
       "         Counter({6: 2, 1: 1, 2: 1}), Counter({3: 2, 1: 1, 2: 1}),\n",
       "         Counter({3: 2, 1: 1, 2: 1}), Counter({7: 2, 1: 1, 2: 1}),\n",
       "         Counter({3: 2, 1: 1, 2: 1}), Counter({3: 2, 1: 1, 2: 1}),\n",
       "         Counter({4: 2, 1: 1, 2: 1}), Counter({6: 2, 1: 1, 2: 1}),\n",
       "         Counter({6: 2, 1: 1, 2: 1}), Counter({6: 2, 1: 1, 2: 1}),\n",
       "         Counter({4: 2, 1: 1, 2: 1}), Counter({9: 2, 1: 1, 2: 1}),\n",
       "         Counter({1: 3, 2: 1}), Counter({5: 2, 1: 1, 2: 1}),\n",
       "         Counter({0: 2, 1: 1, 2: 1}), Counter({9: 2, 1: 1, 2: 1}),\n",
       "         Counter({5: 2, 1: 1, 2: 1}), Counter({2: 3, 1: 1}),\n",
       "         Counter({8: 2, 1: 1, 2: 1}), Counter({2: 3, 1: 1}),\n",
       "         Counter({0: 2, 1: 1, 2: 1}), Counter({0: 2, 1: 1, 2: 1}),\n",
       "         Counter({1: 3, 2: 1}), Counter({7: 2, 1: 1, 2: 1}),\n",
       "         Counter({6: 2, 1: 1, 2: 1}), Counter({3: 2, 1: 1, 2: 1}),\n",
       "         Counter({2: 3, 1: 1}), Counter({1: 3, 2: 1}),\n",
       "         Counter({7: 2, 1: 1, 2: 1}), Counter({4: 2, 1: 1, 2: 1}),\n",
       "         Counter({6: 2, 1: 1, 2: 1}), Counter({3: 2, 1: 1, 2: 1}),\n",
       "         Counter({1: 3, 2: 1}), Counter({3: 2, 1: 1, 2: 1}),\n",
       "         Counter({9: 2, 1: 1, 2: 1}), Counter({1: 3, 2: 1}),\n",
       "         Counter({7: 2, 1: 1, 2: 1}), Counter({6: 2, 1: 1, 2: 1}),\n",
       "         Counter({8: 2, 1: 1, 2: 1}), Counter({4: 2, 1: 1, 2: 1}),\n",
       "         Counter({3: 2, 1: 1, 2: 1}), Counter({1: 3, 2: 1}),\n",
       "         Counter({4: 2, 1: 1, 2: 1}), Counter({0: 2, 1: 1, 2: 1}),\n",
       "         Counter({5: 2, 1: 1, 2: 1}), Counter({3: 2, 1: 1, 2: 1}),\n",
       "         Counter({6: 2, 1: 1, 2: 1}), Counter({9: 2, 1: 1, 2: 1}),\n",
       "         Counter({6: 2, 1: 1, 2: 1}), Counter({1: 3, 2: 1}),\n",
       "         Counter({7: 2, 1: 1, 2: 1}), Counter({5: 2, 1: 1, 2: 1}),\n",
       "         Counter({4: 2, 1: 1, 2: 1}), Counter({4: 2, 1: 1, 2: 1}),\n",
       "         Counter({7: 2, 1: 1, 2: 1}), Counter({2: 3, 1: 1}),\n",
       "         Counter({8: 2, 1: 1, 2: 1}), Counter({2: 3, 1: 1}),\n",
       "         Counter({2: 3, 1: 1}), Counter({5: 2, 1: 1, 2: 1}),\n",
       "         Counter({7: 2, 1: 1, 2: 1}), Counter({9: 2, 1: 1, 2: 1}),\n",
       "         Counter({5: 2, 1: 1, 2: 1}), Counter({4: 2, 1: 1, 2: 1}),\n",
       "         Counter({8: 2, 1: 1, 2: 1}), Counter({8: 2, 1: 1, 2: 1}),\n",
       "         Counter({4: 2, 1: 1, 2: 1}), Counter({9: 2, 1: 1, 2: 1}),\n",
       "         Counter({0: 2, 1: 1, 2: 1}), Counter({8: 2, 1: 1, 2: 1}),\n",
       "         Counter({9: 2, 1: 1, 2: 1}), Counter({3: 2, 1: 1, 2: 1}),\n",
       "         Counter({0: 2, 1: 1, 2: 1}), Counter({1: 3, 2: 1}),\n",
       "         Counter({2: 3, 1: 1}), Counter({3: 2, 1: 1, 2: 1}),\n",
       "         Counter({4: 2, 1: 1, 2: 1}), Counter({5: 2, 1: 1, 2: 1}),\n",
       "         Counter({6: 2, 1: 1, 2: 1}), Counter({7: 2, 1: 1, 2: 1}),\n",
       "         Counter({8: 2, 1: 1, 2: 1}), Counter({9: 2, 1: 1, 2: 1}),\n",
       "         Counter({0: 2, 1: 1, 2: 1}), Counter({1: 3, 2: 1}),\n",
       "         Counter({2: 3, 1: 1}), Counter({3: 2, 1: 1, 2: 1}),\n",
       "         Counter({4: 2, 1: 1, 2: 1}), Counter({5: 2, 1: 1, 2: 1}),\n",
       "         Counter({6: 2, 1: 1, 2: 1}), Counter({7: 2, 1: 1, 2: 1}),\n",
       "         Counter({8: 2, 1: 1, 2: 1}), Counter({9: 2, 1: 1, 2: 1}),\n",
       "         Counter({0: 2, 1: 1, 2: 1}), Counter({1: 3, 2: 1}),\n",
       "         Counter({2: 3, 1: 1}), Counter({3: 2, 1: 1, 2: 1}),\n",
       "         Counter({4: 2, 1: 1, 2: 1}), Counter({5: 2, 1: 1, 2: 1}),\n",
       "         Counter({6: 2, 1: 1, 2: 1}), Counter({7: 2, 1: 1, 2: 1}),\n",
       "         Counter({8: 2, 1: 1, 2: 1}), Counter({9: 2, 1: 1, 2: 1}),\n",
       "         Counter({0: 2, 1: 1, 2: 1}), Counter({9: 2, 1: 1, 2: 1}),\n",
       "         Counter({5: 2, 1: 1, 2: 1}), Counter({5: 2, 1: 1, 2: 1}),\n",
       "         Counter({6: 2, 1: 1, 2: 1}), Counter({5: 2, 1: 1, 2: 1}),\n",
       "         Counter({0: 2, 1: 1, 2: 1}), Counter({9: 2, 1: 1, 2: 1}),\n",
       "         Counter({8: 2, 1: 1, 2: 1}), Counter({9: 2, 1: 1, 2: 1}),\n",
       "         Counter({8: 2, 1: 1, 2: 1}), Counter({4: 2, 1: 1, 2: 1}),\n",
       "         Counter({1: 3, 2: 1}), Counter({7: 2, 1: 1, 2: 1}),\n",
       "         Counter({7: 2, 1: 1, 2: 1}), Counter({3: 2, 1: 1, 2: 1}),\n",
       "         Counter({5: 2, 1: 1, 2: 1}), Counter({1: 3, 2: 1}),\n",
       "         Counter({0: 2, 1: 1, 2: 1}), Counter({0: 2, 1: 1, 2: 1}),\n",
       "         Counter({2: 3, 1: 1}), Counter({2: 3, 1: 1}),\n",
       "         Counter({7: 2, 1: 1, 2: 1}), Counter({8: 2, 1: 1, 2: 1}),\n",
       "         Counter({2: 3, 1: 1}), Counter({0: 2, 1: 1, 2: 1}),\n",
       "         Counter({1: 3, 2: 1}), Counter({2: 3, 1: 1}),\n",
       "         Counter({6: 2, 1: 1, 2: 1}), Counter({3: 2, 1: 1, 2: 1}),\n",
       "         Counter({3: 2, 1: 1, 2: 1}), Counter({7: 2, 1: 1, 2: 1}),\n",
       "         Counter({3: 2, 1: 1, 2: 1}), Counter({3: 2, 1: 1, 2: 1}),\n",
       "         Counter({4: 2, 1: 1, 2: 1}), Counter({6: 2, 1: 1, 2: 1}),\n",
       "         Counter({6: 2, 1: 1, 2: 1}), Counter({6: 2, 1: 1, 2: 1}),\n",
       "         Counter({4: 2, 1: 1, 2: 1}), Counter({9: 2, 1: 1, 2: 1}),\n",
       "         Counter({1: 3, 2: 1}), Counter({5: 2, 1: 1, 2: 1}),\n",
       "         Counter({0: 2, 1: 1, 2: 1}), Counter({9: 2, 1: 1, 2: 1}),\n",
       "         Counter({5: 2, 1: 1, 2: 1}), Counter({2: 3, 1: 1}),\n",
       "         Counter({8: 2, 1: 1, 2: 1}), Counter({2: 3, 1: 1}),\n",
       "         Counter({0: 2, 1: 1, 2: 1}), Counter({0: 2, 1: 1, 2: 1}),\n",
       "         Counter({1: 3, 2: 1}), Counter({7: 2, 1: 1, 2: 1}),\n",
       "         Counter({6: 2, 1: 1, 2: 1}), Counter({3: 2, 1: 1, 2: 1}),\n",
       "         Counter({2: 3, 1: 1}), Counter({1: 3, 2: 1}),\n",
       "         Counter({7: 2, 1: 1, 2: 1}), Counter({4: 2, 1: 1, 2: 1}),\n",
       "         Counter({6: 2, 1: 1, 2: 1}), Counter({3: 2, 1: 1, 2: 1}),\n",
       "         Counter({1: 3, 2: 1}), Counter({3: 2, 1: 1, 2: 1}),\n",
       "         Counter({9: 2, 1: 1, 2: 1}), Counter({1: 3, 2: 1}),\n",
       "         Counter({7: 2, 1: 1, 2: 1}), Counter({6: 2, 1: 1, 2: 1}),\n",
       "         Counter({8: 2, 1: 1, 2: 1}), Counter({4: 2, 1: 1, 2: 1}),\n",
       "         Counter({3: 2, 1: 1, 2: 1}), Counter({1: 3, 2: 1}),\n",
       "         Counter({4: 2, 1: 1, 2: 1}), Counter({0: 2, 1: 1, 2: 1}),\n",
       "         Counter({5: 2, 1: 1, 2: 1}), Counter({3: 2, 1: 1, 2: 1}),\n",
       "         Counter({6: 2, 1: 1, 2: 1}), Counter({9: 2, 1: 1, 2: 1}),\n",
       "         Counter({6: 2, 1: 1, 2: 1}), Counter({1: 3, 2: 1}),\n",
       "         Counter({7: 2, 1: 1, 2: 1}), Counter({5: 2, 1: 1, 2: 1}),\n",
       "         Counter({4: 2, 1: 1, 2: 1}), Counter({4: 2, 1: 1, 2: 1}),\n",
       "         Counter({7: 2, 1: 1, 2: 1}), Counter({2: 3, 1: 1})]],\n",
       "       dtype=object)"
      ]
     },
     "execution_count": 104,
     "metadata": {},
     "output_type": "execute_result"
    }
   ],
   "source": [
    "np.matrix(target_counter_array)[1] + np.matrix(target_counter_array)[2]"
   ]
  },
  {
   "cell_type": "code",
   "execution_count": 103,
   "metadata": {},
   "outputs": [
    {
     "data": {
      "text/plain": [
       "matrix([[Counter({0: 2}), Counter({0: 1, 1: 1}), Counter({0: 1, 2: 1}),\n",
       "         ..., Counter({0: 1, 7: 1}), Counter({0: 1, 2: 1}), 1],\n",
       "        [Counter({1: 1, 0: 1}), Counter({1: 2}), Counter({1: 1, 2: 1}),\n",
       "         ..., Counter({1: 1, 7: 1}), Counter({1: 1, 2: 1}), 1],\n",
       "        [Counter({2: 1, 0: 1}), Counter({2: 1, 1: 1}), Counter({2: 2}),\n",
       "         ..., Counter({2: 1, 7: 1}), Counter({2: 2}), 1],\n",
       "        ...,\n",
       "        [Counter({4: 1, 0: 1}), Counter({4: 1, 1: 1}),\n",
       "         Counter({4: 1, 2: 1}), ..., Counter({4: 1, 7: 1}),\n",
       "         Counter({4: 1, 2: 1}), 1],\n",
       "        [Counter({7: 1, 0: 1}), Counter({7: 1, 1: 1}),\n",
       "         Counter({7: 1, 2: 1}), ..., Counter({7: 2}),\n",
       "         Counter({7: 1, 2: 1}), 1],\n",
       "        [Counter({2: 1, 0: 1}), Counter({2: 1, 1: 1}), Counter({2: 2}),\n",
       "         ..., Counter({2: 1, 7: 1}), Counter({2: 2}), 1]], dtype=object)"
      ]
     },
     "execution_count": 103,
     "metadata": {},
     "output_type": "execute_result"
    }
   ],
   "source": [
    "np.hstack((np.matrix(target_counter_array), [[1]]*np.matrix(target_counter_array).shape[0]))"
   ]
  },
  {
   "cell_type": "code",
   "execution_count": 91,
   "metadata": {},
   "outputs": [
    {
     "data": {
      "text/plain": [
       "501"
      ]
     },
     "execution_count": 91,
     "metadata": {},
     "output_type": "execute_result"
    }
   ],
   "source": [
    "cluster_counter_array = np.append(cluster_counter_array, cluster_counter_array[1] + cluster_counter_array[2])\n",
    "len(cluster_counter_array)"
   ]
  },
  {
   "cell_type": "code",
   "execution_count": 92,
   "metadata": {},
   "outputs": [
    {
     "data": {
      "text/plain": [
       "Counter({1: 1, 2: 1})"
      ]
     },
     "execution_count": 92,
     "metadata": {},
     "output_type": "execute_result"
    }
   ],
   "source": [
    "cluster_counter_array[500]"
   ]
  },
  {
   "cell_type": "code",
   "execution_count": 71,
   "metadata": {},
   "outputs": [],
   "source": [
    "target_counter_array = np.matrix([\n",
    "    [\n",
    "        Counter(targets[[i, j]])\n",
    "        for j in range(len_cut)\n",
    "    ]\n",
    "    for i in range(len_cut)\n",
    "])"
   ]
  },
  {
   "cell_type": "code",
   "execution_count": 455,
   "metadata": {},
   "outputs": [
    {
     "name": "stderr",
     "output_type": "stream",
     "text": [
      "  0%|          | 0/7 [00:00<?, ?it/s]"
     ]
    },
    {
     "name": "stdout",
     "output_type": "stream",
     "text": [
      "hihi1\n",
      "hihi2\n",
      "500\n"
     ]
    },
    {
     "name": "stderr",
     "output_type": "stream",
     "text": [
      " 14%|█▍        | 1/7 [16:16<1:37:41, 976.91s/it]"
     ]
    },
    {
     "name": "stdout",
     "output_type": "stream",
     "text": [
      "hihi3\n",
      "hihi1\n",
      "hihi2\n",
      "500\n"
     ]
    },
    {
     "name": "stderr",
     "output_type": "stream",
     "text": [
      " 29%|██▊       | 2/7 [32:57<1:22:00, 984.02s/it]"
     ]
    },
    {
     "name": "stdout",
     "output_type": "stream",
     "text": [
      "hihi3\n",
      "hihi1\n"
     ]
    },
    {
     "name": "stderr",
     "output_type": "stream",
     "text": [
      " 43%|████▎     | 3/7 [47:14<1:03:03, 945.84s/it]"
     ]
    },
    {
     "name": "stdout",
     "output_type": "stream",
     "text": [
      "hihi2\n",
      "500\n",
      "hihi3\n",
      "hihi1\n",
      "hihi2\n",
      "500\n"
     ]
    },
    {
     "name": "stderr",
     "output_type": "stream",
     "text": [
      " 57%|█████▋    | 4/7 [1:00:04<44:39, 893.26s/it]"
     ]
    },
    {
     "name": "stdout",
     "output_type": "stream",
     "text": [
      "hihi3\n",
      "hihi1\n"
     ]
    },
    {
     "name": "stderr",
     "output_type": "stream",
     "text": [
      " 71%|███████▏  | 5/7 [1:12:41<28:24, 852.41s/it]"
     ]
    },
    {
     "name": "stdout",
     "output_type": "stream",
     "text": [
      "hihi2\n",
      "500\n",
      "hihi3\n",
      "hihi1\n",
      "hihi2\n",
      "500\n"
     ]
    },
    {
     "name": "stderr",
     "output_type": "stream",
     "text": [
      " 86%|████████▌ | 6/7 [1:25:26<13:45, 825.97s/it]"
     ]
    },
    {
     "name": "stdout",
     "output_type": "stream",
     "text": [
      "hihi3\n",
      "hihi1\n",
      "hihi2\n",
      "500\n"
     ]
    },
    {
     "name": "stderr",
     "output_type": "stream",
     "text": [
      "100%|██████████| 7/7 [1:38:12<00:00, 841.76s/it]"
     ]
    },
    {
     "name": "stdout",
     "output_type": "stream",
     "text": [
      "hihi3\n"
     ]
    },
    {
     "name": "stderr",
     "output_type": "stream",
     "text": [
      "\n"
     ]
    },
    {
     "data": {
      "text/plain": [
       "[0.382, 0.4, 0.408, 0.408, 0.588, 0.808, 1.0]"
      ]
     },
     "execution_count": 455,
     "metadata": {},
     "output_type": "execute_result"
    }
   ],
   "source": [
    "lst_alpha = [0, 1, 5, 10, 50, 100, 1000]\n",
    "\n",
    "res_alpha = []\n",
    "\n",
    "for alpha in tqdm(lst_alpha):\n",
    "    res_ = find_clusters_with_entropy(alpha)\n",
    "    res_alpha.append(res_)\n",
    "res_alpha"
   ]
  },
  {
   "cell_type": "code",
   "execution_count": 15,
   "metadata": {},
   "outputs": [],
   "source": [
    "def cluster_score(targets, clusters, data):\n",
    "    num_elements = data.shape[0]\n",
    "#     print(num_elements)\n",
    "    n_targets = len(np.unique(targets))\n",
    "    df_res = pd.DataFrame([clusters[num_elements - n_targets], targets]).T\n",
    "    df_res.columns = [\"cluster\", \"target\"]\n",
    "    clusters_unique = sorted(np.unique(clusters[num_elements - n_targets]))\n",
    "    targets_unique = sorted(np.unique(targets))\n",
    "    df_veng = pd.DataFrame([])\n",
    "    df_veng[\"index\"] = targets_unique\n",
    "    for i in clusters_unique:\n",
    "        lst_clust_i = []\n",
    "        for j in targets_unique:\n",
    "            lst_clust_i.append(-df_res[(df_res.cluster == i) & (df_res.target == j)].shape[0])\n",
    "        df_veng[i] = lst_clust_i\n",
    "    df_veng.set_index(\"index\", inplace = True)\n",
    "    \n",
    "    df_veng.to_excel(\"Vengerian_matrix_alpha0.xlsx\", index = False)\n",
    "    display(df_veng)\n",
    "\n",
    "    row_ind, col_ind = linear_sum_assignment(df_veng)\n",
    "    \n",
    "    res_sum = 0\n",
    "    for i, j in zip(row_ind, col_ind):\n",
    "#         print(i, j)\n",
    "\n",
    "        res_sum += df_veng.loc[i][df_veng.columns[j]]\n",
    "    acc_res = -res_sum/num_elements\n",
    "    \n",
    "    return acc_res"
   ]
  },
  {
   "cell_type": "code",
   "execution_count": 477,
   "metadata": {},
   "outputs": [],
   "source": [
    "def cluster_score_v2(targets, clusters, data):\n",
    "    num_elements = data.shape[0]\n",
    "#     print(num_elements)\n",
    "    n_targets = len(np.unique(targets))\n",
    "    df_res = pd.DataFrame([clusters, targets]).T\n",
    "    df_res.columns = [\"cluster\", \"target\"]\n",
    "    clusters_unique = sorted(np.unique(clusters))\n",
    "    targets_unique = sorted(np.unique(targets))\n",
    "    df_veng = pd.DataFrame([])\n",
    "    df_veng[\"index\"] = targets_unique\n",
    "    for i in clusters_unique:\n",
    "        lst_clust_i = []\n",
    "        for j in targets_unique:\n",
    "            lst_clust_i.append(-df_res[(df_res.cluster == i) & (df_res.target == j)].shape[0])\n",
    "        df_veng[i] = lst_clust_i\n",
    "    df_veng.set_index(\"index\", inplace = True)\n",
    "\n",
    "    display(df_veng)\n",
    "    row_ind, col_ind = linear_sum_assignment(df_veng)\n",
    "    \n",
    "    res_sum = 0\n",
    "    for i, j in zip(row_ind, col_ind):\n",
    "#         print(i, j)\n",
    "\n",
    "        res_sum += df_veng.loc[i][df_veng.columns[j]]\n",
    "    acc_res = -res_sum/num_elements\n",
    "    \n",
    "    return acc_res"
   ]
  },
  {
   "cell_type": "markdown",
   "metadata": {},
   "source": [
    "###### Every datapoint is different cluster initially "
   ]
  },
  {
   "cell_type": "code",
   "execution_count": null,
   "metadata": {},
   "outputs": [],
   "source": [
    "hierarchical_clustering(digits.data,\"single\",len(np.unique(targets)), targets, 0, True)"
   ]
  },
  {
   "cell_type": "code",
   "execution_count": 6,
   "metadata": {},
   "outputs": [
    {
     "name": "stdout",
     "output_type": "stream",
     "text": [
      "[0, 1, 2, 3, 4, 5]\n"
     ]
    },
    {
     "data": {
      "image/png": "[encoded data removed]",
      "text/plain": [
       "<Figure size 432x288 with 1 Axes>"
      ]
     },
     "metadata": {
      "needs_background": "light"
     },
     "output_type": "display_data"
    }
   ],
   "source": [
    "hierarchical_clustering(data,\"single\",6)"
   ]
  },
  {
   "cell_type": "markdown",
   "metadata": {},
   "source": [
    "###### First data[5] and data[2] will merge, i.e. point P3 and P6 from the blog"
   ]
  },
  {
   "cell_type": "code",
   "execution_count": 7,
   "metadata": {},
   "outputs": [
    {
     "name": "stdout",
     "output_type": "stream",
     "text": [
      "[0, 1, 2, 3, 4, 2]\n"
     ]
    },
    {
     "data": {
      "image/png": "[encoded data removed]",
      "text/plain": [
       "<Figure size 432x288 with 1 Axes>"
      ]
     },
     "metadata": {
      "needs_background": "light"
     },
     "output_type": "display_data"
    }
   ],
   "source": [
    "hierarchical_clustering(data,\"single\",5)\n",
    "#you can see that the color of data[2] and data[5] became same, thus they are in same cluster now"
   ]
  },
  {
   "cell_type": "markdown",
   "metadata": {},
   "source": [
    "###### Next merger data[1] and data[4],  i.e. P2 and P5 "
   ]
  },
  {
   "cell_type": "code",
   "execution_count": 8,
   "metadata": {},
   "outputs": [
    {
     "name": "stdout",
     "output_type": "stream",
     "text": [
      "[0, 1, 2, 3, 1, 2]\n"
     ]
    },
    {
     "data": {
      "image/png": "[encoded data removed]",
      "text/plain": [
       "<Figure size 432x288 with 1 Axes>"
      ]
     },
     "metadata": {
      "needs_background": "light"
     },
     "output_type": "display_data"
    }
   ],
   "source": [
    "hierarchical_clustering(data,\"single\",4)\n",
    "#you can see that the color of data[1] and data[4] also became same in color, thus they are in same cluster now"
   ]
  },
  {
   "cell_type": "markdown",
   "metadata": {},
   "source": [
    "###### Next merger, 2 clusters formed above will merge"
   ]
  },
  {
   "cell_type": "code",
   "execution_count": 9,
   "metadata": {},
   "outputs": [
    {
     "name": "stdout",
     "output_type": "stream",
     "text": [
      "[0, 1, 1, 3, 1, 1]\n"
     ]
    },
    {
     "data": {
      "image/png": "[encoded data removed]",
      "text/plain": [
       "<Figure size 432x288 with 1 Axes>"
      ]
     },
     "metadata": {
      "needs_background": "light"
     },
     "output_type": "display_data"
    }
   ],
   "source": [
    "hierarchical_clustering(data,\"single\",3)"
   ]
  },
  {
   "cell_type": "code",
   "execution_count": 10,
   "metadata": {},
   "outputs": [
    {
     "name": "stdout",
     "output_type": "stream",
     "text": [
      "[0, 1, 1, 1, 1, 1]\n"
     ]
    },
    {
     "data": {
      "image/png": "[encoded data removed]",
      "text/plain": [
       "<Figure size 432x288 with 1 Axes>"
      ]
     },
     "metadata": {
      "needs_background": "light"
     },
     "output_type": "display_data"
    }
   ],
   "source": [
    "hierarchical_clustering(data,\"single\",2)"
   ]
  },
  {
   "cell_type": "markdown",
   "metadata": {},
   "source": [
    "###### Finally all are in one cluster"
   ]
  },
  {
   "cell_type": "code",
   "execution_count": 11,
   "metadata": {},
   "outputs": [
    {
     "name": "stdout",
     "output_type": "stream",
     "text": [
      "[0, 0, 0, 0, 0, 0]\n"
     ]
    },
    {
     "data": {
      "image/png": "[encoded data removed]",
      "text/plain": [
       "<Figure size 432x288 with 1 Axes>"
      ]
     },
     "metadata": {
      "needs_background": "light"
     },
     "output_type": "display_data"
    }
   ],
   "source": [
    "hierarchical_clustering(data,\"single\",1)"
   ]
  },
  {
   "cell_type": "code",
   "execution_count": null,
   "metadata": {
    "collapsed": true,
    "jupyter": {
     "outputs_hidden": true
    }
   },
   "outputs": [],
   "source": []
  }
 ],
 "metadata": {
  "kernelspec": {
   "display_name": "Python 3",
   "language": "python",
   "name": "python3"
  },
  "language_info": {
   "codemirror_mode": {
    "name": "ipython",
    "version": 3
   },
   "file_extension": ".py",
   "mimetype": "text/x-python",
   "name": "python",
   "nbconvert_exporter": "python",
   "pygments_lexer": "ipython3",
   "version": "3.8.5"
  }
 },
 "nbformat": 4,
 "nbformat_minor": 4
}
