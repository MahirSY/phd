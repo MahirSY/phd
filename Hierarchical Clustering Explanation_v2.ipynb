{
 "cells": [
  {
   "cell_type": "code",
   "execution_count": 18,
   "metadata": {},
   "outputs": [],
   "source": [
    "%matplotlib inline\n",
    "import matplotlib.pyplot as plt\n",
    "import pandas as pd\n",
    "import numpy as np\n",
    "import seaborn as sns\n",
    "import scipy as sp\n",
    "from sklearn import datasets\n",
    "from numpy import linalg as LA\n",
    "from sklearn.metrics.pairwise import pairwise_distances\n",
    "import sys\n",
    "from scipy.stats import entropy\n",
    "from sklearn.datasets import load_digits\n",
    "from tqdm import tqdm\n",
    "from scipy.optimize import linear_sum_assignment\n",
    "from scipy.cluster.hierarchy import dendrogram, linkage\n",
    "from multiprocessing import Pool\n",
    "import itertools\n",
    "from scipy.cluster.hierarchy import fcluster\n",
    "from collections import Counter"
   ]
  },
  {
   "cell_type": "code",
   "execution_count": 26,
   "metadata": {},
   "outputs": [
    {
     "name": "stdout",
     "output_type": "stream",
     "text": [
      "[[0.4  0.53]\n",
      " [0.22 0.38]\n",
      " [0.35 0.32]\n",
      " [0.26 0.19]\n",
      " [0.08 0.41]\n",
      " [0.45 0.3 ]]\n"
     ]
    }
   ],
   "source": [
    "#Our Dataset\n",
    "data = np.array([0.40,0.53,0.22,0.38,0.35,0.32,0.26,0.19,0.08,0.41,0.45,0.30]).reshape(6,2)\n",
    "print(data)"
   ]
  },
  {
   "cell_type": "code",
   "execution_count": 3,
   "metadata": {},
   "outputs": [
    {
     "data": {
      "text/plain": [
       "(1797, 64)"
      ]
     },
     "execution_count": 3,
     "metadata": {},
     "output_type": "execute_result"
    }
   ],
   "source": [
    "digits = load_digits()\n",
    "targets = digits.target\n",
    "digits.data.shape"
   ]
  },
  {
   "cell_type": "markdown",
   "metadata": {},
   "source": [
    "Visualising Data"
   ]
  },
  {
   "cell_type": "code",
   "execution_count": 4,
   "metadata": {},
   "outputs": [
    {
     "data": {
      "text/plain": [
       "<matplotlib.collections.PathCollection at 0x7f30a76f7100>"
      ]
     },
     "execution_count": 4,
     "metadata": {},
     "output_type": "execute_result"
    },
    {
     "data": {
      "image/png": "[encoded data removed]",
      "text/plain": [
       "<Figure size 432x288 with 1 Axes>"
      ]
     },
     "metadata": {
      "needs_background": "light"
     },
     "output_type": "display_data"
    }
   ],
   "source": [
    "fig = plt.figure()\n",
    "fig.suptitle('Scatter Plot for clusters')\n",
    "ax = fig.add_subplot(1,1,1)\n",
    "ax.set_xlabel('X')\n",
    "ax.set_ylabel('Y')\n",
    "ax.scatter(data[:,0],data[:,1])"
   ]
  },
  {
   "cell_type": "markdown",
   "metadata": {},
   "source": [
    "  Distance Matrix: It is the matrix which contains distances between all the datapoints. If you have n datapoints, the distance matrix will be of order nXn.\n",
    "  To calculate distance matrix, we use pairwise distance function of sklearn which returns distance matrix. For hierarchical clustering we use euclidean distance to calculate distance between two datapoints."
   ]
  },
  {
   "cell_type": "code",
   "execution_count": 5,
   "metadata": {},
   "outputs": [],
   "source": [
    "def hierarchical_clustering(data,linkage,no_of_clusters, targets, alpha = 0, verbose = False):  \n",
    "    #first step is to calculate the initial distance matrix\n",
    "    #it consists distances from all the point to all the point\n",
    "    color = ['r','g','b','y','c','m','k','w']\n",
    "    initial_distances = pairwise_distances(data,metric='euclidean')\n",
    "    #making all the diagonal elements infinity \n",
    "    np.fill_diagonal(initial_distances,sys.maxsize)\n",
    "    clusters = find_clusters(initial_distances,linkage, targets, alpha, verbose) \n",
    "    \n",
    "    #plotting the clusters\n",
    "    iteration_number = initial_distances.shape[0] - no_of_clusters\n",
    "    clusters_to_plot = clusters[iteration_number]\n",
    "    arr = np.unique(clusters_to_plot)\n",
    "    \n",
    "    indices_to_plot = []\n",
    "    fig = plt.figure()\n",
    "    fig.suptitle('Scatter Plot for clusters')\n",
    "    ax = fig.add_subplot(1,1,1)\n",
    "    ax.set_xlabel('X')\n",
    "    ax.set_ylabel('Y')\n",
    "    for x in np.nditer(arr):\n",
    "        indices_to_plot.append(np.where(clusters_to_plot==x))\n",
    "    p=0\n",
    "    \n",
    "    print(clusters_to_plot)\n",
    "    for i in range(0,len(indices_to_plot)):\n",
    "        for j in np.nditer(indices_to_plot[i]):\n",
    "               ax.scatter(data[j,0],data[j,1], c= color[p])\n",
    "        p = p + 1\n",
    "        \n",
    "    plt.show()\n",
    "    "
   ]
  },
  {
   "cell_type": "code",
   "execution_count": 6,
   "metadata": {},
   "outputs": [
    {
     "data": {
      "text/plain": [
       "18446744073709551614"
      ]
     },
     "execution_count": 6,
     "metadata": {},
     "output_type": "execute_result"
    }
   ],
   "source": [
    "2*sys.maxsize"
   ]
  },
  {
   "cell_type": "code",
   "execution_count": 7,
   "metadata": {},
   "outputs": [],
   "source": [
    "def add_dist(lst_clusters, clust_labels, target_labels):\n",
    "    \n",
    "    true_list = []\n",
    "    false_list = []\n",
    "    entropy_true_res = []\n",
    "    entropy_false_res = []\n",
    "    \n",
    "    for it in lst_clusters:\n",
    "        \n",
    "        true_list = list(\n",
    "            target_labels[clust_labels == it] == it\n",
    "        ) + [True]\n",
    "        \n",
    "        false_list = list(\n",
    "            target_labels[clust_labels == it] == it\n",
    "        ) + [False]\n",
    "        \n",
    "        entropy_true_res.append(entropy(true_list))\n",
    "        entropy_false = entropy(false_list)\n",
    "        \n",
    "        if str(entropy_false) == \"nan\":\n",
    "            entropy_false_res.append(0)\n",
    "        else:\n",
    "            entropy_false_res.append(entropy_false)\n",
    "    \n",
    "    return entropy_true_res, entropy_false_res"
   ]
  },
  {
   "cell_type": "code",
   "execution_count": 8,
   "metadata": {},
   "outputs": [
    {
     "name": "stdout",
     "output_type": "stream",
     "text": [
      "1\n"
     ]
    }
   ],
   "source": [
    "array = []\n",
    "for n in range(data.shape[0]):\n",
    "    array.append(n+1)\n",
    "print(array[0])\n",
    "del array"
   ]
  },
  {
   "cell_type": "code",
   "execution_count": 9,
   "metadata": {},
   "outputs": [
    {
     "data": {
      "text/plain": [
       "1.704551445267297"
      ]
     },
     "execution_count": 9,
     "metadata": {},
     "output_type": "execute_result"
    }
   ],
   "source": [
    "entropy([1, 1, 2, 2, 3, 3])"
   ]
  },
  {
   "cell_type": "code",
   "execution_count": 10,
   "metadata": {},
   "outputs": [],
   "source": [
    "def find_clusters(input,linkage, targets, alpha = 0, verbose = False):\n",
    "    clusters = {}\n",
    "    row_index = -1\n",
    "    col_index = -1\n",
    "    array = []\n",
    "    \n",
    "\n",
    "    for n in range(input.shape[0]):\n",
    "        array.append(n)\n",
    "        \n",
    "    clusters[0] = array.copy()\n",
    "\n",
    "    df_clusters = pd.DataFrame([])\n",
    "    df_clusters[\"element\"] = range(input.shape[0])\n",
    "\n",
    "    #finding minimum value from the distance matrix\n",
    "    #note that this loop will always return minimum value from bottom triangle of matrix\n",
    "    for k in tqdm(range(1, input.shape[0])):\n",
    "        print(\"k = \", k)\n",
    "        min_val = sys.maxsize\n",
    "        \n",
    "        df_clusters[\"cluster\"] = array\n",
    "        \n",
    "#         for i in range(0, input.shape[0]):\n",
    "#             for j in range(0, input.shape[1]):\n",
    "#                 if i != j:\n",
    "\n",
    "#                     df_cluster_i = df_clusters[df_clusters.cluster == array[i]]\n",
    "#                     el_cluster_i = list(df_cluster_i.element)\n",
    "\n",
    "#                     el_cluster_i.append(j)\n",
    "\n",
    "#                     input[i][j] = input[i][j] + alpha * entropy(\n",
    "#                         [targets[x] for x in el_cluster_i]\n",
    "#                     )\n",
    "\n",
    "#     #                 lst_clusters = array,unique()\n",
    "#     #                 entropy_true_res, entropy_false_res = \\\n",
    "#     #                     add_dist(lst_clusters, array, target_labels)\n",
    "\n",
    "#     #                 entropy_df = pd.DataFrame([], columns=range(n_clusters))\n",
    "\n",
    "#     #                 for it in range(n_clusters):\n",
    "#     #                     entropy_df[it] = ((target_labels == it)*entropy_true_res[it]\\\n",
    "#     #                     + (target_labels != it)*entropy_false_res[it])\n",
    "                    \n",
    "        for i in range(0, input.shape[0]):\n",
    "            for j in range(0, input.shape[1]):\n",
    "                if(input[i][j]<=min_val):\n",
    "                    min_val = input[i][j]\n",
    "                    row_index = i\n",
    "                    col_index = j\n",
    "                    \n",
    "        #once we find the minimum value, we need to update the distance matrix\n",
    "        #updating the matrix by calculating the new distances from the cluster to all points\n",
    "        \n",
    "        #for Single Linkage\n",
    "        if(linkage == \"single\" or linkage ==\"Single\"):\n",
    "            for i in range(0,input.shape[0]):\n",
    "                if(i != col_index):\n",
    "                    #we calculate the distance of every data point from newly formed cluster and update the matrix.\n",
    "                    temp = min(input[col_index][i],input[row_index][i])\n",
    "                    #we update the matrix symmetrically as our distance matrix should always be symmetric\n",
    "                    input[col_index][i] = temp\n",
    "                    input[i][col_index] = temp\n",
    "        #for Complete Linkage\n",
    "        elif(linkage==\"Complete\" or linkage == \"complete\"):\n",
    "             for i in range(0,input.shape[0]):\n",
    "                if(i != col_index and i!=row_index):\n",
    "                    temp = min(input[col_index][i],input[row_index][i])\n",
    "                    input[col_index][i] = temp\n",
    "                    input[i][col_index] = temp\n",
    "        #for Average Linkage\n",
    "        elif(linkage==\"Average\" or linkage == \"average\"):\n",
    "             for i in range(0,input.shape[0]):\n",
    "                if(i != col_index and i!=row_index):\n",
    "                    temp = (input[col_index][i]+input[row_index][i])/2\n",
    "                    input[col_index][i] = temp\n",
    "                    input[i][col_index] = temp\n",
    "        \n",
    "        elif(linkage==\"Centroid\" or linkage ==\"centroid\"):\n",
    "            for i in range(0,input.shape[0]):\n",
    "                if(i!=col_index and i!=row_index):\n",
    "                    dist_centroid = cal_dist_from_centroid(i,row_index,col_index)\n",
    "                    input[col_index][i] = dist_centroid\n",
    "                    input[i][col_index] = dist_centroid\n",
    "                   \n",
    "        #set the rows and columns for the cluster with higher index i.e. the row index to infinity\n",
    "        #Set input[row_index][for_all_i] = infinity\n",
    "        #set input[for_all_i][row_index] = infinity\n",
    "        for i in range (0,input.shape[0]):\n",
    "            input[row_index][i] = sys.maxsize\n",
    "            input[i][row_index] = sys.maxsize\n",
    "            \n",
    "        #Manipulating the dictionary to keep track of cluster formation in each step\n",
    "        #if k=0,then all datapoints are clusters\n",
    "       \n",
    "        minimum = min(row_index,col_index)\n",
    "        maximum = max(row_index,col_index)\n",
    "        for n in range(len(array)):\n",
    "            if(array[n]==maximum):\n",
    "                array[n] = minimum\n",
    "        clusters[k] = array.copy()\n",
    "        if verbose:\n",
    "            print(k)\n",
    "        \n",
    "    return clusters"
   ]
  },
  {
   "cell_type": "code",
   "execution_count": 11,
   "metadata": {},
   "outputs": [
    {
     "name": "stderr",
     "output_type": "stream",
     "text": [
      "  0%|          | 0/1796 [00:00<?, ?it/s]"
     ]
    },
    {
     "name": "stdout",
     "output_type": "stream",
     "text": [
      "k =  1\n"
     ]
    },
    {
     "name": "stderr",
     "output_type": "stream",
     "text": [
      "  0%|          | 1/1796 [00:01<44:18,  1.48s/it]"
     ]
    },
    {
     "name": "stdout",
     "output_type": "stream",
     "text": [
      "1\n",
      "k =  2\n"
     ]
    },
    {
     "name": "stderr",
     "output_type": "stream",
     "text": [
      "  0%|          | 2/1796 [00:03<44:40,  1.49s/it]"
     ]
    },
    {
     "name": "stdout",
     "output_type": "stream",
     "text": [
      "2\n",
      "k =  3\n"
     ]
    },
    {
     "name": "stderr",
     "output_type": "stream",
     "text": [
      "  0%|          | 2/1796 [00:03<48:03,  1.61s/it]\n"
     ]
    },
    {
     "ename": "KeyboardInterrupt",
     "evalue": "",
     "output_type": "error",
     "traceback": [
      "\u001b[0;31m---------------------------------------------------------------------------\u001b[0m",
      "\u001b[0;31mKeyboardInterrupt\u001b[0m                         Traceback (most recent call last)",
      "\u001b[0;32m<ipython-input-11-8a76e9a1b8e7>\u001b[0m in \u001b[0;36m<module>\u001b[0;34m\u001b[0m\n\u001b[1;32m      1\u001b[0m \u001b[0;32mimport\u001b[0m \u001b[0mwarnings\u001b[0m\u001b[0;34m\u001b[0m\u001b[0;34m\u001b[0m\u001b[0m\n\u001b[1;32m      2\u001b[0m \u001b[0mwarnings\u001b[0m\u001b[0;34m.\u001b[0m\u001b[0mfilterwarnings\u001b[0m\u001b[0;34m(\u001b[0m\u001b[0;34m'ignore'\u001b[0m\u001b[0;34m)\u001b[0m\u001b[0;34m\u001b[0m\u001b[0;34m\u001b[0m\u001b[0m\n\u001b[0;32m----> 3\u001b[0;31m \u001b[0mhierarchical_clustering\u001b[0m\u001b[0;34m(\u001b[0m\u001b[0mdigits\u001b[0m\u001b[0;34m.\u001b[0m\u001b[0mdata\u001b[0m\u001b[0;34m,\u001b[0m\u001b[0;34m\"single\"\u001b[0m\u001b[0;34m,\u001b[0m\u001b[0mlen\u001b[0m\u001b[0;34m(\u001b[0m\u001b[0mnp\u001b[0m\u001b[0;34m.\u001b[0m\u001b[0munique\u001b[0m\u001b[0;34m(\u001b[0m\u001b[0mtargets\u001b[0m\u001b[0;34m)\u001b[0m\u001b[0;34m)\u001b[0m\u001b[0;34m,\u001b[0m \u001b[0mtargets\u001b[0m\u001b[0;34m,\u001b[0m \u001b[0;36m0\u001b[0m\u001b[0;34m,\u001b[0m \u001b[0;32mTrue\u001b[0m\u001b[0;34m)\u001b[0m\u001b[0;34m\u001b[0m\u001b[0;34m\u001b[0m\u001b[0m\n\u001b[0m",
      "\u001b[0;32m<ipython-input-5-87db8cdbcc56>\u001b[0m in \u001b[0;36mhierarchical_clustering\u001b[0;34m(data, linkage, no_of_clusters, targets, alpha, verbose)\u001b[0m\n\u001b[1;32m      6\u001b[0m     \u001b[0;31m#making all the diagonal elements infinity\u001b[0m\u001b[0;34m\u001b[0m\u001b[0;34m\u001b[0m\u001b[0;34m\u001b[0m\u001b[0m\n\u001b[1;32m      7\u001b[0m     \u001b[0mnp\u001b[0m\u001b[0;34m.\u001b[0m\u001b[0mfill_diagonal\u001b[0m\u001b[0;34m(\u001b[0m\u001b[0minitial_distances\u001b[0m\u001b[0;34m,\u001b[0m\u001b[0msys\u001b[0m\u001b[0;34m.\u001b[0m\u001b[0mmaxsize\u001b[0m\u001b[0;34m)\u001b[0m\u001b[0;34m\u001b[0m\u001b[0;34m\u001b[0m\u001b[0m\n\u001b[0;32m----> 8\u001b[0;31m     \u001b[0mclusters\u001b[0m \u001b[0;34m=\u001b[0m \u001b[0mfind_clusters\u001b[0m\u001b[0;34m(\u001b[0m\u001b[0minitial_distances\u001b[0m\u001b[0;34m,\u001b[0m\u001b[0mlinkage\u001b[0m\u001b[0;34m,\u001b[0m \u001b[0mtargets\u001b[0m\u001b[0;34m,\u001b[0m \u001b[0malpha\u001b[0m\u001b[0;34m,\u001b[0m \u001b[0mverbose\u001b[0m\u001b[0;34m)\u001b[0m\u001b[0;34m\u001b[0m\u001b[0;34m\u001b[0m\u001b[0m\n\u001b[0m\u001b[1;32m      9\u001b[0m \u001b[0;34m\u001b[0m\u001b[0m\n\u001b[1;32m     10\u001b[0m     \u001b[0;31m#plotting the clusters\u001b[0m\u001b[0;34m\u001b[0m\u001b[0;34m\u001b[0m\u001b[0;34m\u001b[0m\u001b[0m\n",
      "\u001b[0;32m<ipython-input-10-bf448416d287>\u001b[0m in \u001b[0;36mfind_clusters\u001b[0;34m(input, linkage, targets, alpha, verbose)\u001b[0m\n\u001b[1;32m     47\u001b[0m         \u001b[0;32mfor\u001b[0m \u001b[0mi\u001b[0m \u001b[0;32min\u001b[0m \u001b[0mrange\u001b[0m\u001b[0;34m(\u001b[0m\u001b[0;36m0\u001b[0m\u001b[0;34m,\u001b[0m \u001b[0minput\u001b[0m\u001b[0;34m.\u001b[0m\u001b[0mshape\u001b[0m\u001b[0;34m[\u001b[0m\u001b[0;36m0\u001b[0m\u001b[0;34m]\u001b[0m\u001b[0;34m)\u001b[0m\u001b[0;34m:\u001b[0m\u001b[0;34m\u001b[0m\u001b[0;34m\u001b[0m\u001b[0m\n\u001b[1;32m     48\u001b[0m             \u001b[0;32mfor\u001b[0m \u001b[0mj\u001b[0m \u001b[0;32min\u001b[0m \u001b[0mrange\u001b[0m\u001b[0;34m(\u001b[0m\u001b[0;36m0\u001b[0m\u001b[0;34m,\u001b[0m \u001b[0minput\u001b[0m\u001b[0;34m.\u001b[0m\u001b[0mshape\u001b[0m\u001b[0;34m[\u001b[0m\u001b[0;36m1\u001b[0m\u001b[0;34m]\u001b[0m\u001b[0;34m)\u001b[0m\u001b[0;34m:\u001b[0m\u001b[0;34m\u001b[0m\u001b[0;34m\u001b[0m\u001b[0m\n\u001b[0;32m---> 49\u001b[0;31m                 \u001b[0;32mif\u001b[0m\u001b[0;34m(\u001b[0m\u001b[0minput\u001b[0m\u001b[0;34m[\u001b[0m\u001b[0mi\u001b[0m\u001b[0;34m]\u001b[0m\u001b[0;34m[\u001b[0m\u001b[0mj\u001b[0m\u001b[0;34m]\u001b[0m\u001b[0;34m<=\u001b[0m\u001b[0mmin_val\u001b[0m\u001b[0;34m)\u001b[0m\u001b[0;34m:\u001b[0m\u001b[0;34m\u001b[0m\u001b[0;34m\u001b[0m\u001b[0m\n\u001b[0m\u001b[1;32m     50\u001b[0m                     \u001b[0mmin_val\u001b[0m \u001b[0;34m=\u001b[0m \u001b[0minput\u001b[0m\u001b[0;34m[\u001b[0m\u001b[0mi\u001b[0m\u001b[0;34m]\u001b[0m\u001b[0;34m[\u001b[0m\u001b[0mj\u001b[0m\u001b[0;34m]\u001b[0m\u001b[0;34m\u001b[0m\u001b[0;34m\u001b[0m\u001b[0m\n\u001b[1;32m     51\u001b[0m                     \u001b[0mrow_index\u001b[0m \u001b[0;34m=\u001b[0m \u001b[0mi\u001b[0m\u001b[0;34m\u001b[0m\u001b[0;34m\u001b[0m\u001b[0m\n",
      "\u001b[0;31mKeyboardInterrupt\u001b[0m: "
     ]
    }
   ],
   "source": [
    "import warnings\n",
    "warnings.filterwarnings('ignore')\n",
    "hierarchical_clustering(digits.data,\"single\",len(np.unique(targets)), targets, 0, True)"
   ]
  },
  {
   "cell_type": "code",
   "execution_count": 11,
   "metadata": {},
   "outputs": [
    {
     "data": {
      "text/plain": [
       "array([ 0.,  0.,  5., 13.,  9.,  1.,  0.,  0.,  0.,  0., 13., 15., 10.,\n",
       "       15.,  5.,  0.,  0.,  3., 15.,  2.,  0., 11.,  8.,  0.,  0.,  4.,\n",
       "       12.,  0.,  0.,  8.,  8.,  0.,  0.,  5.,  8.,  0.,  0.,  9.,  8.,\n",
       "        0.,  0.,  4., 11.,  0.,  1., 12.,  7.,  0.,  0.,  2., 14.,  5.,\n",
       "       10., 12.,  0.,  0.,  0.,  0.,  6., 13., 10.,  0.,  0.,  0.])"
      ]
     },
     "execution_count": 11,
     "metadata": {},
     "output_type": "execute_result"
    }
   ],
   "source": [
    "digits.data[0]"
   ]
  },
  {
   "cell_type": "code",
   "execution_count": 12,
   "metadata": {},
   "outputs": [
    {
     "data": {
      "text/plain": [
       "array([[ 0.        , 59.55669568, 54.12947441, ..., 50.37856687,\n",
       "        37.06750599, 47.03190407],\n",
       "       [59.55669568,  0.        , 41.62931659, ..., 38.58756276,\n",
       "        48.56953778, 50.32891813],\n",
       "       [54.12947441, 41.62931659,  0.        , ..., 38.34057903,\n",
       "        50.7740091 , 43.95452195],\n",
       "       ...,\n",
       "       [50.37856687, 38.58756276, 38.34057903, ...,  0.        ,\n",
       "        44.15880433, 28.87905816],\n",
       "       [37.06750599, 48.56953778, 50.7740091 , ..., 44.15880433,\n",
       "         0.        , 39.42080669],\n",
       "       [47.03190407, 50.32891813, 43.95452195, ..., 28.87905816,\n",
       "        39.42080669,  0.        ]])"
      ]
     },
     "execution_count": 12,
     "metadata": {},
     "output_type": "execute_result"
    }
   ],
   "source": [
    "pairwise_distances(digits.data,metric='euclidean')"
   ]
  },
  {
   "cell_type": "code",
   "execution_count": 13,
   "metadata": {},
   "outputs": [],
   "source": [
    "linkage = \"single\"\n",
    "alpha = 0\n",
    "len_data = 20\n",
    "data = pairwise_distances(digits.data[:len_data], digits.data[:len_data], metric='euclidean')\n",
    "targets = digits.target[:len_data]"
   ]
  },
  {
   "cell_type": "code",
   "execution_count": 14,
   "metadata": {},
   "outputs": [
    {
     "name": "stderr",
     "output_type": "stream",
     "text": [
      "/home/mahir/anaconda3/lib/python3.8/site-packages/scipy/stats/_distn_infrastructure.py:2751: RuntimeWarning: invalid value encountered in true_divide\n",
      "  pk = 1.0*pk / np.sum(pk, axis=axis, keepdims=True)\n",
      "/home/mahir/anaconda3/lib/python3.8/site-packages/scipy/stats/_distn_infrastructure.py:2751: RuntimeWarning: invalid value encountered in true_divide\n",
      "  pk = 1.0*pk / np.sum(pk, axis=axis, keepdims=True)\n",
      "/home/mahir/anaconda3/lib/python3.8/site-packages/scipy/stats/_distn_infrastructure.py:2751: RuntimeWarning: invalid value encountered in true_divide\n",
      "  pk = 1.0*pk / np.sum(pk, axis=axis, keepdims=True)\n",
      "/home/mahir/anaconda3/lib/python3.8/site-packages/scipy/stats/_distn_infrastructure.py:2751: RuntimeWarning: invalid value encountered in true_divide\n",
      "  pk = 1.0*pk / np.sum(pk, axis=axis, keepdims=True)\n"
     ]
    }
   ],
   "source": [
    "clusters = {}\n",
    "row_index = -1\n",
    "col_index = -1\n",
    "array = []\n",
    "\n",
    "\n",
    "for n in range(1, data.shape[0] + 1, 1):\n",
    "    array.append(n)\n",
    "\n",
    "clusters[0] = array.copy()\n",
    "\n",
    "df_clusters = pd.DataFrame([])\n",
    "df_clusters[\"element\"] = range(data.shape[0])\n",
    "\n",
    "#finding minimum value from the distance matrix\n",
    "#note that this loop will always return minimum value from bottom triangle of matrix\n",
    "for k in range(1, 2):\n",
    "    min_val = sys.maxsize\n",
    "\n",
    "    df_clusters[\"cluster\"] = array\n",
    "\n",
    "    for i in range(0, data.shape[0]):\n",
    "        for j in range(0, data.shape[1]):\n",
    "#     i = 1\n",
    "#     j = 2\n",
    "#     if i == 0:\n",
    "#         if j == 1:\n",
    "#             if i != j:\n",
    "\n",
    "                df_cluster_i = df_clusters[df_clusters.cluster == array[i]]\n",
    "                el_cluster_i = list(df_cluster_i.element)\n",
    "\n",
    "                el_cluster_i.append(j)\n",
    "\n",
    "                data[i][j] = data[i][j] + alpha * entropy(\n",
    "                    [targets[x] for x in el_cluster_i]\n",
    "                )"
   ]
  },
  {
   "cell_type": "code",
   "execution_count": 15,
   "metadata": {},
   "outputs": [
    {
     "data": {
      "text/plain": [
       "1.0986122886681096"
      ]
     },
     "execution_count": 15,
     "metadata": {},
     "output_type": "execute_result"
    }
   ],
   "source": [
    "entropy([2, 0, 2, 2])"
   ]
  },
  {
   "cell_type": "code",
   "execution_count": 16,
   "metadata": {},
   "outputs": [
    {
     "data": {
      "text/plain": [
       "1.0397207708399179"
      ]
     },
     "execution_count": 16,
     "metadata": {},
     "output_type": "execute_result"
    }
   ],
   "source": [
    "lst_tmp = [0, 0, 0, 1, 1, 2]\n",
    "entropy(lst_tmp)"
   ]
  },
  {
   "cell_type": "code",
   "execution_count": 17,
   "metadata": {},
   "outputs": [
    {
     "data": {
      "text/plain": [
       "(array([0, 1, 2]), array([0.5       , 0.33333333, 0.16666667]))"
      ]
     },
     "execution_count": 17,
     "metadata": {},
     "output_type": "execute_result"
    }
   ],
   "source": [
    "lst_tmp = [0, 0, 0, 1, 1, 2]\n",
    "(np.bincount(lst_tmp))\n",
    "\n",
    "unique_elements, counts_elements = np.unique(lst_tmp, return_counts=True)\n",
    "unique_elements, counts_elements/len(lst_tmp)"
   ]
  },
  {
   "cell_type": "code",
   "execution_count": 18,
   "metadata": {},
   "outputs": [
    {
     "data": {
      "text/plain": [
       "1.0397207708399179"
      ]
     },
     "execution_count": 18,
     "metadata": {},
     "output_type": "execute_result"
    }
   ],
   "source": [
    "lst_tmp = [1, 1, 2]\n",
    "entropy(lst_tmp)"
   ]
  },
  {
   "cell_type": "code",
   "execution_count": 19,
   "metadata": {},
   "outputs": [
    {
     "data": {
      "text/plain": [
       "array([[ 0.,  0.,  5., ...,  0.,  0.,  0.],\n",
       "       [ 0.,  0.,  0., ..., 10.,  0.,  0.],\n",
       "       [ 0.,  0.,  0., ..., 16.,  9.,  0.],\n",
       "       ...,\n",
       "       [ 0.,  0.,  1., ...,  0.,  0.,  0.],\n",
       "       [ 0.,  0., 10., ...,  0.,  0.,  0.],\n",
       "       [ 0.,  0.,  6., ..., 13., 11.,  1.]])"
      ]
     },
     "execution_count": 19,
     "metadata": {},
     "output_type": "execute_result"
    }
   ],
   "source": [
    "digits.data[:20]"
   ]
  },
  {
   "cell_type": "code",
   "execution_count": 25,
   "metadata": {},
   "outputs": [
    {
     "data": {
      "text/plain": [
       "array([0., 2., 0., 0., 0., 0., 0., 0., 0., 0.])"
      ]
     },
     "execution_count": 25,
     "metadata": {},
     "output_type": "execute_result"
    }
   ],
   "source": [
    "tmp_array = np.array(np.zeros(10))\n",
    "tmp_array[1] = 2\n",
    "tmp_array"
   ]
  },
  {
   "cell_type": "code",
   "execution_count": 28,
   "metadata": {},
   "outputs": [
    {
     "data": {
      "text/plain": [
       "array([2.])"
      ]
     },
     "execution_count": 28,
     "metadata": {},
     "output_type": "execute_result"
    }
   ],
   "source": [
    "tmp_array[tmp_array.nonzero()]"
   ]
  },
  {
   "cell_type": "code",
   "execution_count": 22,
   "metadata": {},
   "outputs": [],
   "source": [
    "from collections import Counter"
   ]
  },
  {
   "cell_type": "code",
   "execution_count": 23,
   "metadata": {},
   "outputs": [
    {
     "name": "stdout",
     "output_type": "stream",
     "text": [
      "CPU times: user 158 µs, sys: 22 µs, total: 180 µs\n",
      "Wall time: 194 µs\n"
     ]
    }
   ],
   "source": [
    "%%time\n",
    "tmp = Counter(range(10))"
   ]
  },
  {
   "cell_type": "code",
   "execution_count": 24,
   "metadata": {},
   "outputs": [
    {
     "data": {
      "text/plain": [
       "dict_keys([0, 1, 2, 3, 4, 5, 6, 7, 8, 9])"
      ]
     },
     "execution_count": 24,
     "metadata": {},
     "output_type": "execute_result"
    }
   ],
   "source": [
    "tmp.keys()"
   ]
  },
  {
   "cell_type": "code",
   "execution_count": 31,
   "metadata": {},
   "outputs": [
    {
     "name": "stdout",
     "output_type": "stream",
     "text": [
      "CPU times: user 2.35 s, sys: 1.44 s, total: 3.79 s\n",
      "Wall time: 3.75 s\n"
     ]
    }
   ],
   "source": [
    "# %%time\n",
    "# unique_elements, counts_elements = np.unique(\n",
    "#     range(10000000)\n",
    "#     , return_counts=True\n",
    "# )"
   ]
  },
  {
   "cell_type": "code",
   "execution_count": 169,
   "metadata": {},
   "outputs": [],
   "source": [
    "linkage = \"single\"\n",
    "alpha = 10\n",
    "# len_data = len(digits.data)\n",
    "len_data = 100\n",
    "data = pairwise_distances(digits.data[:len_data], digits.data[:len_data], metric='euclidean')\n",
    "targets = digits.target[:len_data]"
   ]
  },
  {
   "cell_type": "code",
   "execution_count": 277,
   "metadata": {},
   "outputs": [
    {
     "data": {
      "text/plain": [
       "array([0, 1, 2, 3, 4, 5, 6, 7, 8, 9, 0, 1, 2, 3, 4, 5, 6, 7, 8, 9])"
      ]
     },
     "execution_count": 277,
     "metadata": {},
     "output_type": "execute_result"
    }
   ],
   "source": [
    "digits.target[:20]"
   ]
  },
  {
   "cell_type": "code",
   "execution_count": 329,
   "metadata": {},
   "outputs": [
    {
     "data": {
      "text/plain": [
       "-0.69"
      ]
     },
     "execution_count": 329,
     "metadata": {},
     "output_type": "execute_result"
    }
   ],
   "source": [
    "alpha0"
   ]
  },
  {
   "cell_type": "code",
   "execution_count": 23,
   "metadata": {},
   "outputs": [
    {
     "data": {
      "text/plain": [
       "([0.0,\n",
       "  10.198039027185569,\n",
       "  10.677078252031311,\n",
       "  10.723805294763608,\n",
       "  10.862780491200215],\n",
       " [74.0,\n",
       "  74.4983221287567,\n",
       "  74.51174404078863,\n",
       "  75.91442550661897,\n",
       "  76.53103945458993])"
      ]
     },
     "execution_count": 23,
     "metadata": {},
     "output_type": "execute_result"
    }
   ],
   "source": [
    "len_data = 500\n",
    "data = pairwise_distances(digits.data[:len_data], digits.data[:len_data], metric='euclidean').copy()\n",
    "sorted(np.unique(data)[:5]), sorted(np.unique(data)[-5:]) "
   ]
  },
  {
   "cell_type": "code",
   "execution_count": 16,
   "metadata": {},
   "outputs": [
    {
     "name": "stdout",
     "output_type": "stream",
     "text": [
      "CPU times: user 15 µs, sys: 0 ns, total: 15 µs\n",
      "Wall time: 22.2 µs\n"
     ]
    }
   ],
   "source": [
    "%%time\n",
    "def find_clusters_with_entropy(alpha = 0):\n",
    "    linkage = \"single\"\n",
    "    # alpha = 0\n",
    "    # len_data = len(digits.data)\n",
    "    len_data = 500\n",
    "    data = pairwise_distances(digits.data[:len_data], digits.data[:len_data], metric='euclidean').copy()\n",
    "    targets = digits.target[:len_data].copy()\n",
    "    np.fill_diagonal(data,sys.maxsize)\n",
    "\n",
    "    clusters = {}\n",
    "    row_index = -1\n",
    "    col_index = -1\n",
    "    array = []\n",
    "\n",
    "\n",
    "    for n in range(data.shape[0]):\n",
    "        array.append(n)\n",
    "\n",
    "    clusters[0] = array.copy()\n",
    "\n",
    "    df_clusters = pd.DataFrame([])\n",
    "    df_clusters[\"element\"] = range(data.shape[0])\n",
    "    num_targets = len(np.unique(targets))\n",
    "    lst_targets = np.unique(targets)\n",
    "\n",
    "    \n",
    "    #finding minimum value from the distance matrix\n",
    "    #note that this loop will always return minimum value from bottom triangle of matrix\n",
    "#     for k in tqdm(range(1, data.shape[0])):\n",
    "    for k in tqdm(range(1, data.shape[0])):\n",
    "        min_val = sys.maxsize\n",
    "\n",
    "        df_clusters[\"cluster\"] = array\n",
    "        data_with_entropy = data.copy()\n",
    "        for i in range(0, data.shape[0]):\n",
    "            entropy_array = []\n",
    "    #         if (i == 10):\n",
    "    #             print(\"hi1\")\n",
    "            df_cluster_i = df_clusters[df_clusters.cluster == array[i]]\n",
    "            el_cluster_i = list(df_cluster_i.element)\n",
    "\n",
    "            len_el_cluster_i = len(el_cluster_i)\n",
    "            len_el_cluster_i_next = len_el_cluster_i + 1\n",
    "\n",
    "    #         if (i == 10):\n",
    "    #             print(\"hi3\")\n",
    "    #         el_cluster_i_freq = np.array(np.zeros(num_targets))\n",
    "    #         counts_elements = Counter(el_cluster_i)\n",
    "\n",
    "    #         for key in counts_elements.keys():\n",
    "    # #             print(key)\n",
    "    #             el_cluster_i_freq[targets[key]] = counts_elements[targets[key]]\n",
    "\n",
    "            for trg in lst_targets:\n",
    "                el_cluster_i_tmp = targets[el_cluster_i].copy()\n",
    "                el_cluster_i_tmp = np.append(el_cluster_i_tmp, trg)\n",
    "                counts_elements = Counter(el_cluster_i_tmp)\n",
    "                entropy_array.append(entropy(np.fromiter(list(counts_elements.values()), dtype = float)/len_el_cluster_i_next))\n",
    "\n",
    "    #         if (i == 10):\n",
    "    #             print(\"hi2\")\n",
    "            for j in range(0, data.shape[1]):\n",
    "                if i != j:\n",
    "\n",
    "    # #                 el_cluster_i_copy = el_cluster_i.copy()\n",
    "\n",
    "    # #                 el_cluster_i_copy.append(j)\n",
    "\n",
    "    # #                 unique_elements, counts_elements = np.unique(\n",
    "    # #                     [targets[x] for x in el_cluster_i_copy]\n",
    "    # #                     , return_counts=True\n",
    "    # #                 )\n",
    "    # #                 print(i, j)\n",
    "    #                 el_cluster_i_freq_copy = el_cluster_i_freq.copy()\n",
    "    #                 el_cluster_i_freq_copy[targets[j]] = el_cluster_i_freq_copy[targets[j]] + 1\n",
    "    #                 el_cluster_i_freq_copy = el_cluster_i_freq_copy[el_cluster_i_freq_copy.nonzero()]\n",
    "\n",
    "    #                 data[i][j] = data[i][j] + alpha * entropy(\n",
    "    #                     el_cluster_i_freq_copy/(len_el_cluster_i + 1)\n",
    "    #                 )\n",
    "                    data_with_entropy[i][j] = data_with_entropy[i][j] + alpha * entropy_array[targets[j]]\n",
    "\n",
    "    #                 print(alpha * entropy_array[targets[j]])\n",
    "\n",
    "\n",
    "    #             if (data[i][j] <= min_val):\n",
    "    #                 min_val = data[i][j]\n",
    "    #                 row_index = i\n",
    "    #                 col_index = j\n",
    "\n",
    "        #                 lst_clusters = array,unique()\n",
    "        #                 entropy_true_res, entropy_false_res = \\\n",
    "        #                     add_dist(lst_clusters, array, target_labels)\n",
    "\n",
    "        #                 entropy_df = pd.DataFrame([], columns=range(n_clusters))\n",
    "\n",
    "        #                 for it in range(n_clusters):\n",
    "        #                     entropy_df[it] = ((target_labels == it)*entropy_true_res[it]\\\n",
    "        #                     + (target_labels != it)*entropy_false_res[it])\n",
    "\n",
    "    #     for i in range(0, data.shape[0]):\n",
    "    #         for j in range(0, data.shape[1]):\n",
    "    #             if(data[i][j]<=min_val):\n",
    "    #                 min_val = data[i][j]\n",
    "    #                 row_index = i\n",
    "    #                 col_index = j\n",
    "        ind = np.unravel_index(np.argmin(data_with_entropy, axis=None), data.shape)\n",
    "        row_index = ind[0]\n",
    "        col_index = ind[1]\n",
    "        min_val = data_with_entropy[ind]\n",
    "    #     print(ind)\n",
    "\n",
    "    #     #once we find the minimum value, we need to update the distance matrix\n",
    "    #     #updating the matrix by calculating the new distances from the cluster to all points\n",
    "\n",
    "    #     #for Single Linkage\n",
    "    #     if(linkage == \"single\" or linkage ==\"Single\"):\n",
    "    #         for i in range(0,data.shape[0]):\n",
    "    #             if(i != col_index):\n",
    "    #                 #we calculate the distance of every data point from newly formed cluster and update the matrix.\n",
    "    #                 temp = min(data[col_index][i],data[row_index][i])\n",
    "    #                 #we update the matrix symmetrically as our distance matrix should always be symmetric\n",
    "    #                 data[col_index][i] = temp\n",
    "    #                 data[i][col_index] = temp\n",
    "    #     #for Complete Linkage\n",
    "    #     elif(linkage==\"Complete\" or linkage == \"complete\"):\n",
    "    #          for i in range(0,data.shape[0]):\n",
    "    #             if(i != col_index and i!=row_index):\n",
    "    #                 temp = min(data[col_index][i],data[row_index][i])\n",
    "    #                 data[col_index][i] = temp\n",
    "    #                 data[i][col_index] = temp\n",
    "    #     #for Average Linkage\n",
    "    #     elif(linkage==\"Average\" or linkage == \"average\"):\n",
    "    #          for i in range(0,data.shape[0]):\n",
    "    #             if(i != col_index and i!=row_index):\n",
    "    #                 temp = (data[col_index][i]+data[row_index][i])/2\n",
    "    #                 data[col_index][i] = temp\n",
    "    #                 data[i][col_index] = temp\n",
    "\n",
    "    #     elif(linkage==\"Centroid\" or linkage ==\"centroid\"):\n",
    "    #         for i in range(0,data.shape[0]):\n",
    "    #             if(i!=col_index and i!=row_index):\n",
    "    #                 dist_centroid = cal_dist_from_centroid(i,row_index,col_index)\n",
    "    #                 data[col_index][i] = dist_centroid\n",
    "    #                 data[i][col_index] = dist_centroid\n",
    "\n",
    "        part1 = df_clusters[df_clusters.cluster == array[row_index]].element\n",
    "        part2 = df_clusters[df_clusters.cluster == array[col_index]].element\n",
    "        for i1 in part1:\n",
    "            for i2 in part2:\n",
    "                data[i1][i2] = sys.maxsize\n",
    "                data[i2][i1] = sys.maxsize\n",
    "\n",
    "        for i1 in part1:\n",
    "            array[i1] = k + data.shape[0]\n",
    "        for i2 in part2:\n",
    "            array[i2] = k + data.shape[0]\n",
    "        #set the rows and columns for the cluster with higher index i.e. the row index to infinity\n",
    "        #Set data[row_index][for_all_i] = infinity\n",
    "        #set data[for_all_i][row_index] = infinity\n",
    "    #     for i in range (0,data.shape[0]):\n",
    "    #         data[row_index][i] = sys.maxsize\n",
    "    #         data[i][row_index] = sys.maxsize\n",
    "\n",
    "    #     #Manipulating the dictionary to keep track of cluster formation in each step\n",
    "    #     #if k=0,then all datapoints are clusters\n",
    "\n",
    "    #     minimum = min(row_index,col_index)\n",
    "    #     maximum = max(row_index,col_index)\n",
    "    #     for n in range(len(array)):\n",
    "    #         if(array[n]==maximum):\n",
    "    #             array[n] = minimum\n",
    "        clusters[k] = array.copy()\n",
    "    \n",
    "    print(\"hihi2\")\n",
    "#     print(data.shape[0])\n",
    "    acc_res = cluster_score(targets, clusters, data)\n",
    "    \n",
    "    print(\"hihi3\")\n",
    "    return acc_res"
   ]
  },
  {
   "cell_type": "code",
   "execution_count": 438,
   "metadata": {},
   "outputs": [
    {
     "name": "stdout",
     "output_type": "stream",
     "text": [
      "hihi1\n"
     ]
    }
   ],
   "source": [
    "linkage = \"single\"\n",
    "alpha = 0\n",
    "# len_data = len(digits.data)\n",
    "len_data = 100\n",
    "data = pairwise_distances(digits.data[:len_data], digits.data[:len_data], metric='euclidean').copy()\n",
    "targets = digits.target[:len_data].copy()\n",
    "np.fill_diagonal(data,sys.maxsize)\n",
    "\n",
    "clusters = {}\n",
    "row_index = -1\n",
    "col_index = -1\n",
    "array = []\n",
    "\n",
    "\n",
    "for n in range(data.shape[0]):\n",
    "    array.append(n)\n",
    "\n",
    "clusters[0] = array.copy()\n",
    "\n",
    "df_clusters = pd.DataFrame([])\n",
    "df_clusters[\"element\"] = range(data.shape[0])\n",
    "num_targets = len(np.unique(targets))\n",
    "lst_targets = np.unique(targets)\n",
    "\n",
    "print(\"hihi1\")\n",
    "#finding minimum value from the distance matrix\n",
    "#note that this loop will always return minimum value from bottom triangle of matrix\n",
    "#     for k in tqdm(range(1, data.shape[0])):\n",
    "# for k in range(1, data.shape[0]):\n",
    "for k in range(1, 30):\n",
    "    min_val = sys.maxsize\n",
    "\n",
    "    df_clusters[\"cluster\"] = array\n",
    "    data_with_entropy_v1 = data.copy()\n",
    "    for i in range(0, data.shape[0]):\n",
    "        entropy_array = []\n",
    "#         if (i == 10):\n",
    "#             print(\"hi1\")\n",
    "        df_cluster_i = df_clusters[df_clusters.cluster == array[i]]\n",
    "        el_cluster_i = list(df_cluster_i.element)\n",
    "\n",
    "        len_el_cluster_i = len(el_cluster_i)\n",
    "        len_el_cluster_i_next = len_el_cluster_i + 1\n",
    "\n",
    "#         if (i == 10):\n",
    "#             print(\"hi3\")\n",
    "#         el_cluster_i_freq = np.array(np.zeros(num_targets))\n",
    "#         counts_elements = Counter(el_cluster_i)\n",
    "\n",
    "#         for key in counts_elements.keys():\n",
    "# #             print(key)\n",
    "#             el_cluster_i_freq[targets[key]] = counts_elements[targets[key]]\n",
    "\n",
    "        for trg in lst_targets:\n",
    "            el_cluster_i_tmp = targets[el_cluster_i].copy()\n",
    "            el_cluster_i_tmp = np.append(el_cluster_i_tmp, trg)\n",
    "            counts_elements = Counter(el_cluster_i_tmp)\n",
    "            entropy_array.append(entropy(np.fromiter(list(counts_elements.values()), dtype = float)/len_el_cluster_i_next))\n",
    "\n",
    "#         if (i == 10):\n",
    "#             print(\"hi2\")\n",
    "        for j in range(0, data.shape[1]):\n",
    "            if i != j:\n",
    "\n",
    "# #                 el_cluster_i_copy = el_cluster_i.copy()\n",
    "\n",
    "# #                 el_cluster_i_copy.append(j)\n",
    "\n",
    "# #                 unique_elements, counts_elements = np.unique(\n",
    "# #                     [targets[x] for x in el_cluster_i_copy]\n",
    "# #                     , return_counts=True\n",
    "# #                 )\n",
    "# #                 print(i, j)\n",
    "#                 el_cluster_i_freq_copy = el_cluster_i_freq.copy()\n",
    "#                 el_cluster_i_freq_copy[targets[j]] = el_cluster_i_freq_copy[targets[j]] + 1\n",
    "#                 el_cluster_i_freq_copy = el_cluster_i_freq_copy[el_cluster_i_freq_copy.nonzero()]\n",
    "\n",
    "#                 data[i][j] = data[i][j] + alpha * entropy(\n",
    "#                     el_cluster_i_freq_copy/(len_el_cluster_i + 1)\n",
    "#                 )\n",
    "                data_with_entropy_v1[i][j] = data_with_entropy_v1[i][j] + alpha * entropy_array[targets[j]]\n",
    "\n",
    "#                 print(alpha * entropy_array[targets[j]])\n",
    "\n",
    "\n",
    "#             if (data[i][j] <= min_val):\n",
    "#                 min_val = data[i][j]\n",
    "#                 row_index = i\n",
    "#                 col_index = j\n",
    "\n",
    "    #                 lst_clusters = array,unique()\n",
    "    #                 entropy_true_res, entropy_false_res = \\\n",
    "    #                     add_dist(lst_clusters, array, target_labels)\n",
    "\n",
    "    #                 entropy_df = pd.DataFrame([], columns=range(n_clusters))\n",
    "\n",
    "    #                 for it in range(n_clusters):\n",
    "    #                     entropy_df[it] = ((target_labels == it)*entropy_true_res[it]\\\n",
    "    #                     + (target_labels != it)*entropy_false_res[it])\n",
    "\n",
    "#     for i in range(0, data.shape[0]):\n",
    "#         for j in range(0, data.shape[1]):\n",
    "#             if(data[i][j]<=min_val):\n",
    "#                 min_val = data[i][j]\n",
    "#                 row_index = i\n",
    "#                 col_index = j\n",
    "    ind = np.unravel_index(np.argmin(data_with_entropy_v1, axis=None), data.shape)\n",
    "    row_index = ind[0]\n",
    "    col_index = ind[1]\n",
    "    min_val = data_with_entropy_v1[ind]\n",
    "#     print(ind)\n",
    "\n",
    "#     #once we find the minimum value, we need to update the distance matrix\n",
    "#     #updating the matrix by calculating the new distances from the cluster to all points\n",
    "\n",
    "#     #for Single Linkage\n",
    "#     if(linkage == \"single\" or linkage ==\"Single\"):\n",
    "#         for i in range(0,data.shape[0]):\n",
    "#             if(i != col_index):\n",
    "#                 #we calculate the distance of every data point from newly formed cluster and update the matrix.\n",
    "#                 temp = min(data[col_index][i],data[row_index][i])\n",
    "#                 #we update the matrix symmetrically as our distance matrix should always be symmetric\n",
    "#                 data[col_index][i] = temp\n",
    "#                 data[i][col_index] = temp\n",
    "#     #for Complete Linkage\n",
    "#     elif(linkage==\"Complete\" or linkage == \"complete\"):\n",
    "#          for i in range(0,data.shape[0]):\n",
    "#             if(i != col_index and i!=row_index):\n",
    "#                 temp = min(data[col_index][i],data[row_index][i])\n",
    "#                 data[col_index][i] = temp\n",
    "#                 data[i][col_index] = temp\n",
    "#     #for Average Linkage\n",
    "#     elif(linkage==\"Average\" or linkage == \"average\"):\n",
    "#          for i in range(0,data.shape[0]):\n",
    "#             if(i != col_index and i!=row_index):\n",
    "#                 temp = (data[col_index][i]+data[row_index][i])/2\n",
    "#                 data[col_index][i] = temp\n",
    "#                 data[i][col_index] = temp\n",
    "\n",
    "#     elif(linkage==\"Centroid\" or linkage ==\"centroid\"):\n",
    "#         for i in range(0,data.shape[0]):\n",
    "#             if(i!=col_index and i!=row_index):\n",
    "#                 dist_centroid = cal_dist_from_centroid(i,row_index,col_index)\n",
    "#                 data[col_index][i] = dist_centroid\n",
    "#                 data[i][col_index] = dist_centroid\n",
    "\n",
    "    part1 = df_clusters[df_clusters.cluster == array[row_index]].element\n",
    "    part2 = df_clusters[df_clusters.cluster == array[col_index]].element\n",
    "    for i1 in part1:\n",
    "        for i2 in part2:\n",
    "            data[i1][i2] = sys.maxsize\n",
    "            data[i2][i1] = sys.maxsize\n",
    "\n",
    "    for i1 in part1:\n",
    "        array[i1] = k + data.shape[0]\n",
    "    for i2 in part2:\n",
    "        array[i2] = k + data.shape[0]\n",
    "    #set the rows and columns for the cluster with higher index i.e. the row index to infinity\n",
    "    #Set data[row_index][for_all_i] = infinity\n",
    "    #set data[for_all_i][row_index] = infinity\n",
    "#     for i in range (0,data.shape[0]):\n",
    "#         data[row_index][i] = sys.maxsize\n",
    "#         data[i][row_index] = sys.maxsize\n",
    "\n",
    "#     #Manipulating the dictionary to keep track of cluster formation in each step\n",
    "#     #if k=0,then all datapoints are clusters\n",
    "\n",
    "#     minimum = min(row_index,col_index)\n",
    "#     maximum = max(row_index,col_index)\n",
    "#     for n in range(len(array)):\n",
    "#         if(array[n]==maximum):\n",
    "#             array[n] = minimum\n",
    "    clusters[k] = array.copy()\n"
   ]
  },
  {
   "cell_type": "code",
   "execution_count": 419,
   "metadata": {},
   "outputs": [
    {
     "data": {
      "text/plain": [
       "[0.6931471805599453,\n",
       " 0.0,\n",
       " 0.6931471805599453,\n",
       " 0.6931471805599453,\n",
       " 0.6931471805599453,\n",
       " 0.6931471805599453,\n",
       " 0.6931471805599453,\n",
       " 0.6931471805599453,\n",
       " 0.6931471805599453,\n",
       " 0.6931471805599453]"
      ]
     },
     "execution_count": 419,
     "metadata": {},
     "output_type": "execute_result"
    }
   ],
   "source": [
    "entropy_array"
   ]
  },
  {
   "cell_type": "code",
   "execution_count": 442,
   "metadata": {},
   "outputs": [],
   "source": [
    "data = pairwise_distances(digits.data[:len_data], digits.data[:len_data], metric='euclidean').copy()"
   ]
  },
  {
   "cell_type": "code",
   "execution_count": 445,
   "metadata": {},
   "outputs": [
    {
     "data": {
      "text/plain": [
       "array([ 0.        , 12.60952021, 12.76714533, ..., 67.37952211,\n",
       "       67.52777206, 68.89847604])"
      ]
     },
     "execution_count": 445,
     "metadata": {},
     "output_type": "execute_result"
    }
   ],
   "source": [
    "np.unique(data)"
   ]
  },
  {
   "cell_type": "code",
   "execution_count": 446,
   "metadata": {},
   "outputs": [
    {
     "name": "stdout",
     "output_type": "stream",
     "text": [
      "hihi1\n"
     ]
    }
   ],
   "source": [
    "linkage = \"single\"\n",
    "alpha = 50\n",
    "# len_data = len(digits.data)\n",
    "len_data = 100\n",
    "data = pairwise_distances(digits.data[:len_data], digits.data[:len_data], metric='euclidean').copy()\n",
    "targets = digits.target[:len_data].copy()\n",
    "np.fill_diagonal(data,sys.maxsize)\n",
    "\n",
    "clusters = {}\n",
    "row_index = -1\n",
    "col_index = -1\n",
    "array = []\n",
    "\n",
    "\n",
    "for n in range(data.shape[0]):\n",
    "    array.append(n)\n",
    "\n",
    "clusters[0] = array.copy()\n",
    "\n",
    "df_clusters = pd.DataFrame([])\n",
    "df_clusters[\"element\"] = range(data.shape[0])\n",
    "num_targets = len(np.unique(targets))\n",
    "lst_targets = np.unique(targets)\n",
    "\n",
    "\n",
    "#finding minimum value from the distance matrix\n",
    "#note that this loop will always return minimum value from bottom triangle of matrix\n",
    "#     for k in tqdm(range(1, data.shape[0])):\n",
    "# for k in range(1, data.shape[0]):\n",
    "for k in range(1, 30):\n",
    "    min_val = sys.maxsize\n",
    "\n",
    "    df_clusters[\"cluster\"] = array\n",
    "    data_with_entropy_v2 = data.copy()\n",
    "    for i in range(0, data.shape[0]):\n",
    "        entropy_array = []\n",
    "#         if (i == 10):\n",
    "#             print(\"hi1\")\n",
    "        df_cluster_i = df_clusters[df_clusters.cluster == array[i]]\n",
    "        el_cluster_i = list(df_cluster_i.element)\n",
    "\n",
    "        len_el_cluster_i = len(el_cluster_i)\n",
    "        len_el_cluster_i_next = len_el_cluster_i + 1\n",
    "\n",
    "#         if (i == 10):\n",
    "#             print(\"hi3\")\n",
    "#         el_cluster_i_freq = np.array(np.zeros(num_targets))\n",
    "#         counts_elements = Counter(el_cluster_i)\n",
    "\n",
    "#         for key in counts_elements.keys():\n",
    "# #             print(key)\n",
    "#             el_cluster_i_freq[targets[key]] = counts_elements[targets[key]]\n",
    "\n",
    "        for trg in lst_targets:\n",
    "            el_cluster_i_tmp = targets[el_cluster_i].copy()\n",
    "            el_cluster_i_tmp = np.append(el_cluster_i_tmp, trg)\n",
    "            counts_elements = Counter(el_cluster_i_tmp)\n",
    "            entropy_array.append(entropy(np.fromiter(list(counts_elements.values()), dtype = float)/len_el_cluster_i_next))\n",
    "\n",
    "#         if (i == 10):\n",
    "#             print(\"hi2\")\n",
    "        for j in range(0, data.shape[1]):\n",
    "            if i != j:\n",
    "\n",
    "# #                 el_cluster_i_copy = el_cluster_i.copy()\n",
    "\n",
    "# #                 el_cluster_i_copy.append(j)\n",
    "\n",
    "# #                 unique_elements, counts_elements = np.unique(\n",
    "# #                     [targets[x] for x in el_cluster_i_copy]\n",
    "# #                     , return_counts=True\n",
    "# #                 )\n",
    "# #                 print(i, j)\n",
    "#                 el_cluster_i_freq_copy = el_cluster_i_freq.copy()\n",
    "#                 el_cluster_i_freq_copy[targets[j]] = el_cluster_i_freq_copy[targets[j]] + 1\n",
    "#                 el_cluster_i_freq_copy = el_cluster_i_freq_copy[el_cluster_i_freq_copy.nonzero()]\n",
    "\n",
    "#                 data[i][j] = data[i][j] + alpha * entropy(\n",
    "#                     el_cluster_i_freq_copy/(len_el_cluster_i + 1)\n",
    "#                 )\n",
    "                data_with_entropy_v2[i][j] = data_with_entropy_v2[i][j] + alpha * entropy_array[targets[j]]\n",
    "\n",
    "#                 print(alpha * entropy_array[targets[j]])\n",
    "\n",
    "\n",
    "#             if (data[i][j] <= min_val):\n",
    "#                 min_val = data[i][j]\n",
    "#                 row_index = i\n",
    "#                 col_index = j\n",
    "\n",
    "    #                 lst_clusters = array,unique()\n",
    "    #                 entropy_true_res, entropy_false_res = \\\n",
    "    #                     add_dist(lst_clusters, array, target_labels)\n",
    "\n",
    "    #                 entropy_df = pd.DataFrame([], columns=range(n_clusters))\n",
    "\n",
    "    #                 for it in range(n_clusters):\n",
    "    #                     entropy_df[it] = ((target_labels == it)*entropy_true_res[it]\\\n",
    "    #                     + (target_labels != it)*entropy_false_res[it])\n",
    "\n",
    "#     for i in range(0, data.shape[0]):\n",
    "#         for j in range(0, data.shape[1]):\n",
    "#             if(data[i][j]<=min_val):\n",
    "#                 min_val = data[i][j]\n",
    "#                 row_index = i\n",
    "#                 col_index = j\n",
    "    ind = np.unravel_index(np.argmin(data_with_entropy_v2, axis=None), data.shape)\n",
    "    row_index = ind[0]\n",
    "    col_index = ind[1]\n",
    "    min_val = data_with_entropy_v2[ind]\n",
    "#     print(ind)\n",
    "\n",
    "#     #once we find the minimum value, we need to update the distance matrix\n",
    "#     #updating the matrix by calculating the new distances from the cluster to all points\n",
    "\n",
    "#     #for Single Linkage\n",
    "#     if(linkage == \"single\" or linkage ==\"Single\"):\n",
    "#         for i in range(0,data.shape[0]):\n",
    "#             if(i != col_index):\n",
    "#                 #we calculate the distance of every data point from newly formed cluster and update the matrix.\n",
    "#                 temp = min(data[col_index][i],data[row_index][i])\n",
    "#                 #we update the matrix symmetrically as our distance matrix should always be symmetric\n",
    "#                 data[col_index][i] = temp\n",
    "#                 data[i][col_index] = temp\n",
    "#     #for Complete Linkage\n",
    "#     elif(linkage==\"Complete\" or linkage == \"complete\"):\n",
    "#          for i in range(0,data.shape[0]):\n",
    "#             if(i != col_index and i!=row_index):\n",
    "#                 temp = min(data[col_index][i],data[row_index][i])\n",
    "#                 data[col_index][i] = temp\n",
    "#                 data[i][col_index] = temp\n",
    "#     #for Average Linkage\n",
    "#     elif(linkage==\"Average\" or linkage == \"average\"):\n",
    "#          for i in range(0,data.shape[0]):\n",
    "#             if(i != col_index and i!=row_index):\n",
    "#                 temp = (data[col_index][i]+data[row_index][i])/2\n",
    "#                 data[col_index][i] = temp\n",
    "#                 data[i][col_index] = temp\n",
    "\n",
    "#     elif(linkage==\"Centroid\" or linkage ==\"centroid\"):\n",
    "#         for i in range(0,data.shape[0]):\n",
    "#             if(i!=col_index and i!=row_index):\n",
    "#                 dist_centroid = cal_dist_from_centroid(i,row_index,col_index)\n",
    "#                 data[col_index][i] = dist_centroid\n",
    "#                 data[i][col_index] = dist_centroid\n",
    "\n",
    "    part1 = df_clusters[df_clusters.cluster == array[row_index]].element\n",
    "    part2 = df_clusters[df_clusters.cluster == array[col_index]].element\n",
    "    for i1 in part1:\n",
    "        for i2 in part2:\n",
    "            data[i1][i2] = sys.maxsize\n",
    "            data[i2][i1] = sys.maxsize\n",
    "\n",
    "    for i1 in part1:\n",
    "        array[i1] = k + data.shape[0]\n",
    "    for i2 in part2:\n",
    "        array[i2] = k + data.shape[0]\n",
    "    #set the rows and columns for the cluster with higher index i.e. the row index to infinity\n",
    "    #Set data[row_index][for_all_i] = infinity\n",
    "    #set data[for_all_i][row_index] = infinity\n",
    "#     for i in range (0,data.shape[0]):\n",
    "#         data[row_index][i] = sys.maxsize\n",
    "#         data[i][row_index] = sys.maxsize\n",
    "\n",
    "#     #Manipulating the dictionary to keep track of cluster formation in each step\n",
    "#     #if k=0,then all datapoints are clusters\n",
    "\n",
    "#     minimum = min(row_index,col_index)\n",
    "#     maximum = max(row_index,col_index)\n",
    "#     for n in range(len(array)):\n",
    "#         if(array[n]==maximum):\n",
    "#             array[n] = minimum\n",
    "    clusters[k] = array.copy()\n"
   ]
  },
  {
   "cell_type": "code",
   "execution_count": null,
   "metadata": {},
   "outputs": [],
   "source": []
  },
  {
   "cell_type": "code",
   "execution_count": null,
   "metadata": {},
   "outputs": [],
   "source": []
  },
  {
   "cell_type": "code",
   "execution_count": 447,
   "metadata": {},
   "outputs": [
    {
     "data": {
      "text/html": [
       "<div>\n",
       "<style scoped>\n",
       "    .dataframe tbody tr th:only-of-type {\n",
       "        vertical-align: middle;\n",
       "    }\n",
       "\n",
       "    .dataframe tbody tr th {\n",
       "        vertical-align: top;\n",
       "    }\n",
       "\n",
       "    .dataframe thead th {\n",
       "        text-align: right;\n",
       "    }\n",
       "</style>\n",
       "<table border=\"1\" class=\"dataframe\">\n",
       "  <thead>\n",
       "    <tr style=\"text-align: right;\">\n",
       "      <th></th>\n",
       "      <th>0</th>\n",
       "      <th>1</th>\n",
       "      <th>2</th>\n",
       "      <th>3</th>\n",
       "      <th>4</th>\n",
       "      <th>5</th>\n",
       "      <th>6</th>\n",
       "      <th>7</th>\n",
       "      <th>8</th>\n",
       "      <th>9</th>\n",
       "      <th>...</th>\n",
       "      <th>90</th>\n",
       "      <th>91</th>\n",
       "      <th>92</th>\n",
       "      <th>93</th>\n",
       "      <th>94</th>\n",
       "      <th>95</th>\n",
       "      <th>96</th>\n",
       "      <th>97</th>\n",
       "      <th>98</th>\n",
       "      <th>99</th>\n",
       "    </tr>\n",
       "  </thead>\n",
       "  <tbody>\n",
       "    <tr>\n",
       "      <th>0</th>\n",
       "      <td>9.223372e+18</td>\n",
       "      <td>9.421405e+01</td>\n",
       "      <td>8.878683e+01</td>\n",
       "      <td>8.222836e+01</td>\n",
       "      <td>8.499621e+01</td>\n",
       "      <td>78.566356</td>\n",
       "      <td>83.216601</td>\n",
       "      <td>90.657359</td>\n",
       "      <td>79.053305</td>\n",
       "      <td>75.461771</td>\n",
       "      <td>...</td>\n",
       "      <td>9.023613e+01</td>\n",
       "      <td>8.470733e+01</td>\n",
       "      <td>72.551950</td>\n",
       "      <td>9.467402e+01</td>\n",
       "      <td>84.396679</td>\n",
       "      <td>8.801465e+01</td>\n",
       "      <td>8.145479e+01</td>\n",
       "      <td>8.485696e+01</td>\n",
       "      <td>8.320630e+01</td>\n",
       "      <td>9.282092e+01</td>\n",
       "    </tr>\n",
       "    <tr>\n",
       "      <th>1</th>\n",
       "      <td>7.699830e+01</td>\n",
       "      <td>9.223372e+18</td>\n",
       "      <td>5.907092e+01</td>\n",
       "      <td>6.291687e+01</td>\n",
       "      <td>6.534776e+01</td>\n",
       "      <td>64.569091</td>\n",
       "      <td>57.728079</td>\n",
       "      <td>68.402374</td>\n",
       "      <td>66.062588</td>\n",
       "      <td>70.262055</td>\n",
       "      <td>...</td>\n",
       "      <td>9.223372e+18</td>\n",
       "      <td>6.220766e+01</td>\n",
       "      <td>72.767910</td>\n",
       "      <td>9.223372e+18</td>\n",
       "      <td>63.059584</td>\n",
       "      <td>5.254146e+01</td>\n",
       "      <td>6.356102e+01</td>\n",
       "      <td>5.760378e+01</td>\n",
       "      <td>7.007239e+01</td>\n",
       "      <td>2.701851e+01</td>\n",
       "    </tr>\n",
       "    <tr>\n",
       "      <th>2</th>\n",
       "      <td>8.595518e+01</td>\n",
       "      <td>7.345503e+01</td>\n",
       "      <td>9.223372e+18</td>\n",
       "      <td>8.577939e+01</td>\n",
       "      <td>8.392177e+01</td>\n",
       "      <td>87.269374</td>\n",
       "      <td>77.476557</td>\n",
       "      <td>81.161294</td>\n",
       "      <td>74.428525</td>\n",
       "      <td>86.661828</td>\n",
       "      <td>...</td>\n",
       "      <td>7.700314e+01</td>\n",
       "      <td>8.313847e+01</td>\n",
       "      <td>83.245549</td>\n",
       "      <td>7.582571e+01</td>\n",
       "      <td>78.215362</td>\n",
       "      <td>7.168797e+01</td>\n",
       "      <td>7.963784e+01</td>\n",
       "      <td>8.036435e+01</td>\n",
       "      <td>8.518299e+01</td>\n",
       "      <td>7.649113e+01</td>\n",
       "    </tr>\n",
       "    <tr>\n",
       "      <th>3</th>\n",
       "      <td>8.222836e+01</td>\n",
       "      <td>8.013263e+01</td>\n",
       "      <td>8.861104e+01</td>\n",
       "      <td>9.223372e+18</td>\n",
       "      <td>8.587259e+01</td>\n",
       "      <td>68.317424</td>\n",
       "      <td>81.911988</td>\n",
       "      <td>91.481650</td>\n",
       "      <td>77.107330</td>\n",
       "      <td>79.823718</td>\n",
       "      <td>...</td>\n",
       "      <td>8.008863e+01</td>\n",
       "      <td>3.926831e+01</td>\n",
       "      <td>70.587847</td>\n",
       "      <td>8.167863e+01</td>\n",
       "      <td>85.421520</td>\n",
       "      <td>8.517468e+01</td>\n",
       "      <td>8.512517e+01</td>\n",
       "      <td>8.388134e+01</td>\n",
       "      <td>4.219005e+01</td>\n",
       "      <td>8.519447e+01</td>\n",
       "    </tr>\n",
       "    <tr>\n",
       "      <th>4</th>\n",
       "      <td>8.499621e+01</td>\n",
       "      <td>8.256352e+01</td>\n",
       "      <td>8.675342e+01</td>\n",
       "      <td>8.587259e+01</td>\n",
       "      <td>9.223372e+18</td>\n",
       "      <td>88.805305</td>\n",
       "      <td>71.616796</td>\n",
       "      <td>94.138448</td>\n",
       "      <td>87.164501</td>\n",
       "      <td>89.711877</td>\n",
       "      <td>...</td>\n",
       "      <td>7.823488e+01</td>\n",
       "      <td>9.479886e+01</td>\n",
       "      <td>91.102022</td>\n",
       "      <td>8.089587e+01</td>\n",
       "      <td>88.098916</td>\n",
       "      <td>7.489416e+01</td>\n",
       "      <td>8.774220e+01</td>\n",
       "      <td>2.441311e+01</td>\n",
       "      <td>9.821049e+01</td>\n",
       "      <td>8.025341e+01</td>\n",
       "    </tr>\n",
       "    <tr>\n",
       "      <th>...</th>\n",
       "      <td>...</td>\n",
       "      <td>...</td>\n",
       "      <td>...</td>\n",
       "      <td>...</td>\n",
       "      <td>...</td>\n",
       "      <td>...</td>\n",
       "      <td>...</td>\n",
       "      <td>...</td>\n",
       "      <td>...</td>\n",
       "      <td>...</td>\n",
       "      <td>...</td>\n",
       "      <td>...</td>\n",
       "      <td>...</td>\n",
       "      <td>...</td>\n",
       "      <td>...</td>\n",
       "      <td>...</td>\n",
       "      <td>...</td>\n",
       "      <td>...</td>\n",
       "      <td>...</td>\n",
       "      <td>...</td>\n",
       "      <td>...</td>\n",
       "    </tr>\n",
       "    <tr>\n",
       "      <th>95</th>\n",
       "      <td>8.801465e+01</td>\n",
       "      <td>6.975722e+01</td>\n",
       "      <td>7.451962e+01</td>\n",
       "      <td>8.517468e+01</td>\n",
       "      <td>7.489416e+01</td>\n",
       "      <td>88.980466</td>\n",
       "      <td>22.022716</td>\n",
       "      <td>93.129575</td>\n",
       "      <td>80.744234</td>\n",
       "      <td>91.508041</td>\n",
       "      <td>...</td>\n",
       "      <td>8.409419e+01</td>\n",
       "      <td>9.020914e+01</td>\n",
       "      <td>91.989723</td>\n",
       "      <td>7.133160e+01</td>\n",
       "      <td>87.392547</td>\n",
       "      <td>9.223372e+18</td>\n",
       "      <td>7.419215e+01</td>\n",
       "      <td>7.471981e+01</td>\n",
       "      <td>9.550142e+01</td>\n",
       "      <td>6.462401e+01</td>\n",
       "    </tr>\n",
       "    <tr>\n",
       "      <th>96</th>\n",
       "      <td>8.145479e+01</td>\n",
       "      <td>8.077677e+01</td>\n",
       "      <td>8.246949e+01</td>\n",
       "      <td>8.512517e+01</td>\n",
       "      <td>8.774220e+01</td>\n",
       "      <td>86.348751</td>\n",
       "      <td>81.262080</td>\n",
       "      <td>83.871178</td>\n",
       "      <td>45.705580</td>\n",
       "      <td>85.322929</td>\n",
       "      <td>...</td>\n",
       "      <td>8.373892e+01</td>\n",
       "      <td>8.029725e+01</td>\n",
       "      <td>85.843295</td>\n",
       "      <td>7.942342e+01</td>\n",
       "      <td>82.657359</td>\n",
       "      <td>7.419215e+01</td>\n",
       "      <td>9.223372e+18</td>\n",
       "      <td>8.761017e+01</td>\n",
       "      <td>8.803338e+01</td>\n",
       "      <td>7.340010e+01</td>\n",
       "    </tr>\n",
       "    <tr>\n",
       "      <th>97</th>\n",
       "      <td>8.485696e+01</td>\n",
       "      <td>7.481953e+01</td>\n",
       "      <td>8.319600e+01</td>\n",
       "      <td>8.388134e+01</td>\n",
       "      <td>2.441311e+01</td>\n",
       "      <td>83.278342</td>\n",
       "      <td>71.181324</td>\n",
       "      <td>90.442662</td>\n",
       "      <td>83.921951</td>\n",
       "      <td>80.428529</td>\n",
       "      <td>...</td>\n",
       "      <td>6.902304e+01</td>\n",
       "      <td>9.048746e+01</td>\n",
       "      <td>87.515660</td>\n",
       "      <td>7.079598e+01</td>\n",
       "      <td>83.544985</td>\n",
       "      <td>7.471981e+01</td>\n",
       "      <td>8.761017e+01</td>\n",
       "      <td>9.223372e+18</td>\n",
       "      <td>9.483210e+01</td>\n",
       "      <td>7.558412e+01</td>\n",
       "    </tr>\n",
       "    <tr>\n",
       "      <th>98</th>\n",
       "      <td>6.599055e+01</td>\n",
       "      <td>7.007239e+01</td>\n",
       "      <td>7.079889e+01</td>\n",
       "      <td>4.219005e+01</td>\n",
       "      <td>8.099473e+01</td>\n",
       "      <td>61.521078</td>\n",
       "      <td>78.931441</td>\n",
       "      <td>68.851721</td>\n",
       "      <td>65.420767</td>\n",
       "      <td>68.705627</td>\n",
       "      <td>...</td>\n",
       "      <td>6.637012e+01</td>\n",
       "      <td>9.223372e+18</td>\n",
       "      <td>52.441605</td>\n",
       "      <td>7.412494e+01</td>\n",
       "      <td>64.526634</td>\n",
       "      <td>7.828567e+01</td>\n",
       "      <td>7.081763e+01</td>\n",
       "      <td>7.761635e+01</td>\n",
       "      <td>9.223372e+18</td>\n",
       "      <td>7.890704e+01</td>\n",
       "    </tr>\n",
       "    <tr>\n",
       "      <th>99</th>\n",
       "      <td>9.282092e+01</td>\n",
       "      <td>2.701851e+01</td>\n",
       "      <td>7.932278e+01</td>\n",
       "      <td>8.519447e+01</td>\n",
       "      <td>8.025341e+01</td>\n",
       "      <td>88.592505</td>\n",
       "      <td>70.892701</td>\n",
       "      <td>88.869904</td>\n",
       "      <td>86.057748</td>\n",
       "      <td>89.081618</td>\n",
       "      <td>...</td>\n",
       "      <td>4.254409e+01</td>\n",
       "      <td>8.705965e+01</td>\n",
       "      <td>96.390656</td>\n",
       "      <td>2.426932e+01</td>\n",
       "      <td>82.228359</td>\n",
       "      <td>6.462401e+01</td>\n",
       "      <td>7.340010e+01</td>\n",
       "      <td>7.558412e+01</td>\n",
       "      <td>9.612280e+01</td>\n",
       "      <td>9.223372e+18</td>\n",
       "    </tr>\n",
       "  </tbody>\n",
       "</table>\n",
       "<p>100 rows × 100 columns</p>\n",
       "</div>"
      ],
      "text/plain": [
       "              0             1             2             3             4   \\\n",
       "0   9.223372e+18  9.421405e+01  8.878683e+01  8.222836e+01  8.499621e+01   \n",
       "1   7.699830e+01  9.223372e+18  5.907092e+01  6.291687e+01  6.534776e+01   \n",
       "2   8.595518e+01  7.345503e+01  9.223372e+18  8.577939e+01  8.392177e+01   \n",
       "3   8.222836e+01  8.013263e+01  8.861104e+01  9.223372e+18  8.587259e+01   \n",
       "4   8.499621e+01  8.256352e+01  8.675342e+01  8.587259e+01  9.223372e+18   \n",
       "..           ...           ...           ...           ...           ...   \n",
       "95  8.801465e+01  6.975722e+01  7.451962e+01  8.517468e+01  7.489416e+01   \n",
       "96  8.145479e+01  8.077677e+01  8.246949e+01  8.512517e+01  8.774220e+01   \n",
       "97  8.485696e+01  7.481953e+01  8.319600e+01  8.388134e+01  2.441311e+01   \n",
       "98  6.599055e+01  7.007239e+01  7.079889e+01  4.219005e+01  8.099473e+01   \n",
       "99  9.282092e+01  2.701851e+01  7.932278e+01  8.519447e+01  8.025341e+01   \n",
       "\n",
       "           5          6          7          8          9   ...            90  \\\n",
       "0   78.566356  83.216601  90.657359  79.053305  75.461771  ...  9.023613e+01   \n",
       "1   64.569091  57.728079  68.402374  66.062588  70.262055  ...  9.223372e+18   \n",
       "2   87.269374  77.476557  81.161294  74.428525  86.661828  ...  7.700314e+01   \n",
       "3   68.317424  81.911988  91.481650  77.107330  79.823718  ...  8.008863e+01   \n",
       "4   88.805305  71.616796  94.138448  87.164501  89.711877  ...  7.823488e+01   \n",
       "..        ...        ...        ...        ...        ...  ...           ...   \n",
       "95  88.980466  22.022716  93.129575  80.744234  91.508041  ...  8.409419e+01   \n",
       "96  86.348751  81.262080  83.871178  45.705580  85.322929  ...  8.373892e+01   \n",
       "97  83.278342  71.181324  90.442662  83.921951  80.428529  ...  6.902304e+01   \n",
       "98  61.521078  78.931441  68.851721  65.420767  68.705627  ...  6.637012e+01   \n",
       "99  88.592505  70.892701  88.869904  86.057748  89.081618  ...  4.254409e+01   \n",
       "\n",
       "              91         92            93         94            95  \\\n",
       "0   8.470733e+01  72.551950  9.467402e+01  84.396679  8.801465e+01   \n",
       "1   6.220766e+01  72.767910  9.223372e+18  63.059584  5.254146e+01   \n",
       "2   8.313847e+01  83.245549  7.582571e+01  78.215362  7.168797e+01   \n",
       "3   3.926831e+01  70.587847  8.167863e+01  85.421520  8.517468e+01   \n",
       "4   9.479886e+01  91.102022  8.089587e+01  88.098916  7.489416e+01   \n",
       "..           ...        ...           ...        ...           ...   \n",
       "95  9.020914e+01  91.989723  7.133160e+01  87.392547  9.223372e+18   \n",
       "96  8.029725e+01  85.843295  7.942342e+01  82.657359  7.419215e+01   \n",
       "97  9.048746e+01  87.515660  7.079598e+01  83.544985  7.471981e+01   \n",
       "98  9.223372e+18  52.441605  7.412494e+01  64.526634  7.828567e+01   \n",
       "99  8.705965e+01  96.390656  2.426932e+01  82.228359  6.462401e+01   \n",
       "\n",
       "              96            97            98            99  \n",
       "0   8.145479e+01  8.485696e+01  8.320630e+01  9.282092e+01  \n",
       "1   6.356102e+01  5.760378e+01  7.007239e+01  2.701851e+01  \n",
       "2   7.963784e+01  8.036435e+01  8.518299e+01  7.649113e+01  \n",
       "3   8.512517e+01  8.388134e+01  4.219005e+01  8.519447e+01  \n",
       "4   8.774220e+01  2.441311e+01  9.821049e+01  8.025341e+01  \n",
       "..           ...           ...           ...           ...  \n",
       "95  7.419215e+01  7.471981e+01  9.550142e+01  6.462401e+01  \n",
       "96  9.223372e+18  8.761017e+01  8.803338e+01  7.340010e+01  \n",
       "97  8.761017e+01  9.223372e+18  9.483210e+01  7.558412e+01  \n",
       "98  7.081763e+01  7.761635e+01  9.223372e+18  7.890704e+01  \n",
       "99  7.340010e+01  7.558412e+01  9.612280e+01  9.223372e+18  \n",
       "\n",
       "[100 rows x 100 columns]"
      ]
     },
     "execution_count": 447,
     "metadata": {},
     "output_type": "execute_result"
    }
   ],
   "source": [
    "pd.DataFrame(data_with_entropy_v2)"
   ]
  },
  {
   "cell_type": "code",
   "execution_count": 448,
   "metadata": {},
   "outputs": [
    {
     "data": {
      "text/html": [
       "<div>\n",
       "<style scoped>\n",
       "    .dataframe tbody tr th:only-of-type {\n",
       "        vertical-align: middle;\n",
       "    }\n",
       "\n",
       "    .dataframe tbody tr th {\n",
       "        vertical-align: top;\n",
       "    }\n",
       "\n",
       "    .dataframe thead th {\n",
       "        text-align: right;\n",
       "    }\n",
       "</style>\n",
       "<table border=\"1\" class=\"dataframe\">\n",
       "  <thead>\n",
       "    <tr style=\"text-align: right;\">\n",
       "      <th></th>\n",
       "      <th>0</th>\n",
       "      <th>1</th>\n",
       "      <th>2</th>\n",
       "      <th>3</th>\n",
       "      <th>4</th>\n",
       "      <th>5</th>\n",
       "      <th>6</th>\n",
       "      <th>7</th>\n",
       "      <th>8</th>\n",
       "      <th>9</th>\n",
       "      <th>...</th>\n",
       "      <th>90</th>\n",
       "      <th>91</th>\n",
       "      <th>92</th>\n",
       "      <th>93</th>\n",
       "      <th>94</th>\n",
       "      <th>95</th>\n",
       "      <th>96</th>\n",
       "      <th>97</th>\n",
       "      <th>98</th>\n",
       "      <th>99</th>\n",
       "    </tr>\n",
       "  </thead>\n",
       "  <tbody>\n",
       "    <tr>\n",
       "      <th>0</th>\n",
       "      <td>9.223372e+18</td>\n",
       "      <td>5.955670e+01</td>\n",
       "      <td>5.412947e+01</td>\n",
       "      <td>4.757100e+01</td>\n",
       "      <td>5.033885e+01</td>\n",
       "      <td>43.908997</td>\n",
       "      <td>48.559242</td>\n",
       "      <td>56.000000</td>\n",
       "      <td>44.395946</td>\n",
       "      <td>40.804412</td>\n",
       "      <td>...</td>\n",
       "      <td>5.557877e+01</td>\n",
       "      <td>5.004998e+01</td>\n",
       "      <td>37.894591</td>\n",
       "      <td>6.001666e+01</td>\n",
       "      <td>49.739320</td>\n",
       "      <td>5.335729e+01</td>\n",
       "      <td>4.679744e+01</td>\n",
       "      <td>5.019960e+01</td>\n",
       "      <td>4.854894e+01</td>\n",
       "      <td>5.816356e+01</td>\n",
       "    </tr>\n",
       "    <tr>\n",
       "      <th>1</th>\n",
       "      <td>5.955670e+01</td>\n",
       "      <td>9.223372e+18</td>\n",
       "      <td>4.162932e+01</td>\n",
       "      <td>4.547527e+01</td>\n",
       "      <td>4.790616e+01</td>\n",
       "      <td>47.127487</td>\n",
       "      <td>40.286474</td>\n",
       "      <td>50.960769</td>\n",
       "      <td>48.620983</td>\n",
       "      <td>52.820451</td>\n",
       "      <td>...</td>\n",
       "      <td>9.223372e+18</td>\n",
       "      <td>4.476606e+01</td>\n",
       "      <td>55.326305</td>\n",
       "      <td>9.223372e+18</td>\n",
       "      <td>45.617979</td>\n",
       "      <td>3.509986e+01</td>\n",
       "      <td>4.611941e+01</td>\n",
       "      <td>4.016217e+01</td>\n",
       "      <td>5.263079e+01</td>\n",
       "      <td>2.701851e+01</td>\n",
       "    </tr>\n",
       "    <tr>\n",
       "      <th>2</th>\n",
       "      <td>5.412947e+01</td>\n",
       "      <td>4.162932e+01</td>\n",
       "      <td>9.223372e+18</td>\n",
       "      <td>5.395368e+01</td>\n",
       "      <td>5.209607e+01</td>\n",
       "      <td>55.443665</td>\n",
       "      <td>45.650849</td>\n",
       "      <td>49.335586</td>\n",
       "      <td>42.602817</td>\n",
       "      <td>54.836119</td>\n",
       "      <td>...</td>\n",
       "      <td>4.517743e+01</td>\n",
       "      <td>5.131277e+01</td>\n",
       "      <td>51.419841</td>\n",
       "      <td>4.400000e+01</td>\n",
       "      <td>46.389654</td>\n",
       "      <td>3.986226e+01</td>\n",
       "      <td>4.781213e+01</td>\n",
       "      <td>4.853864e+01</td>\n",
       "      <td>5.335729e+01</td>\n",
       "      <td>4.466542e+01</td>\n",
       "    </tr>\n",
       "    <tr>\n",
       "      <th>3</th>\n",
       "      <td>4.757100e+01</td>\n",
       "      <td>4.547527e+01</td>\n",
       "      <td>5.395368e+01</td>\n",
       "      <td>9.223372e+18</td>\n",
       "      <td>5.121523e+01</td>\n",
       "      <td>33.660065</td>\n",
       "      <td>47.254629</td>\n",
       "      <td>56.824291</td>\n",
       "      <td>42.449971</td>\n",
       "      <td>45.166359</td>\n",
       "      <td>...</td>\n",
       "      <td>4.543127e+01</td>\n",
       "      <td>3.926831e+01</td>\n",
       "      <td>35.930488</td>\n",
       "      <td>4.702127e+01</td>\n",
       "      <td>50.764161</td>\n",
       "      <td>5.051732e+01</td>\n",
       "      <td>5.046781e+01</td>\n",
       "      <td>4.922398e+01</td>\n",
       "      <td>4.219005e+01</td>\n",
       "      <td>5.053712e+01</td>\n",
       "    </tr>\n",
       "    <tr>\n",
       "      <th>4</th>\n",
       "      <td>5.033885e+01</td>\n",
       "      <td>4.790616e+01</td>\n",
       "      <td>5.209607e+01</td>\n",
       "      <td>5.121523e+01</td>\n",
       "      <td>9.223372e+18</td>\n",
       "      <td>54.147945</td>\n",
       "      <td>36.959437</td>\n",
       "      <td>59.481089</td>\n",
       "      <td>52.507142</td>\n",
       "      <td>55.054518</td>\n",
       "      <td>...</td>\n",
       "      <td>4.357752e+01</td>\n",
       "      <td>6.014150e+01</td>\n",
       "      <td>56.444663</td>\n",
       "      <td>4.623851e+01</td>\n",
       "      <td>53.441557</td>\n",
       "      <td>4.023680e+01</td>\n",
       "      <td>5.308484e+01</td>\n",
       "      <td>2.441311e+01</td>\n",
       "      <td>6.355313e+01</td>\n",
       "      <td>4.559605e+01</td>\n",
       "    </tr>\n",
       "    <tr>\n",
       "      <th>...</th>\n",
       "      <td>...</td>\n",
       "      <td>...</td>\n",
       "      <td>...</td>\n",
       "      <td>...</td>\n",
       "      <td>...</td>\n",
       "      <td>...</td>\n",
       "      <td>...</td>\n",
       "      <td>...</td>\n",
       "      <td>...</td>\n",
       "      <td>...</td>\n",
       "      <td>...</td>\n",
       "      <td>...</td>\n",
       "      <td>...</td>\n",
       "      <td>...</td>\n",
       "      <td>...</td>\n",
       "      <td>...</td>\n",
       "      <td>...</td>\n",
       "      <td>...</td>\n",
       "      <td>...</td>\n",
       "      <td>...</td>\n",
       "      <td>...</td>\n",
       "    </tr>\n",
       "    <tr>\n",
       "      <th>95</th>\n",
       "      <td>5.335729e+01</td>\n",
       "      <td>3.509986e+01</td>\n",
       "      <td>3.986226e+01</td>\n",
       "      <td>5.051732e+01</td>\n",
       "      <td>4.023680e+01</td>\n",
       "      <td>54.323107</td>\n",
       "      <td>22.022716</td>\n",
       "      <td>58.472216</td>\n",
       "      <td>46.086874</td>\n",
       "      <td>56.850682</td>\n",
       "      <td>...</td>\n",
       "      <td>4.943683e+01</td>\n",
       "      <td>5.555178e+01</td>\n",
       "      <td>57.332364</td>\n",
       "      <td>3.667424e+01</td>\n",
       "      <td>52.735187</td>\n",
       "      <td>9.223372e+18</td>\n",
       "      <td>3.953479e+01</td>\n",
       "      <td>4.006245e+01</td>\n",
       "      <td>6.084406e+01</td>\n",
       "      <td>2.996665e+01</td>\n",
       "    </tr>\n",
       "    <tr>\n",
       "      <th>96</th>\n",
       "      <td>4.679744e+01</td>\n",
       "      <td>4.611941e+01</td>\n",
       "      <td>4.781213e+01</td>\n",
       "      <td>5.046781e+01</td>\n",
       "      <td>5.308484e+01</td>\n",
       "      <td>51.691392</td>\n",
       "      <td>46.604721</td>\n",
       "      <td>49.213819</td>\n",
       "      <td>45.705580</td>\n",
       "      <td>50.665570</td>\n",
       "      <td>...</td>\n",
       "      <td>4.908156e+01</td>\n",
       "      <td>4.563989e+01</td>\n",
       "      <td>51.185936</td>\n",
       "      <td>4.476606e+01</td>\n",
       "      <td>48.000000</td>\n",
       "      <td>3.953479e+01</td>\n",
       "      <td>9.223372e+18</td>\n",
       "      <td>5.295281e+01</td>\n",
       "      <td>5.337602e+01</td>\n",
       "      <td>3.874274e+01</td>\n",
       "    </tr>\n",
       "    <tr>\n",
       "      <th>97</th>\n",
       "      <td>5.019960e+01</td>\n",
       "      <td>4.016217e+01</td>\n",
       "      <td>4.853864e+01</td>\n",
       "      <td>4.922398e+01</td>\n",
       "      <td>2.441311e+01</td>\n",
       "      <td>48.620983</td>\n",
       "      <td>36.523965</td>\n",
       "      <td>55.785303</td>\n",
       "      <td>49.264592</td>\n",
       "      <td>45.771170</td>\n",
       "      <td>...</td>\n",
       "      <td>3.436568e+01</td>\n",
       "      <td>5.583010e+01</td>\n",
       "      <td>52.858301</td>\n",
       "      <td>3.613862e+01</td>\n",
       "      <td>48.887626</td>\n",
       "      <td>4.006245e+01</td>\n",
       "      <td>5.295281e+01</td>\n",
       "      <td>9.223372e+18</td>\n",
       "      <td>6.017475e+01</td>\n",
       "      <td>4.092676e+01</td>\n",
       "    </tr>\n",
       "    <tr>\n",
       "      <th>98</th>\n",
       "      <td>4.854894e+01</td>\n",
       "      <td>5.263079e+01</td>\n",
       "      <td>5.335729e+01</td>\n",
       "      <td>4.219005e+01</td>\n",
       "      <td>6.355313e+01</td>\n",
       "      <td>44.079474</td>\n",
       "      <td>61.489837</td>\n",
       "      <td>51.410116</td>\n",
       "      <td>47.979162</td>\n",
       "      <td>51.264022</td>\n",
       "      <td>...</td>\n",
       "      <td>4.892852e+01</td>\n",
       "      <td>9.223372e+18</td>\n",
       "      <td>35.000000</td>\n",
       "      <td>5.668333e+01</td>\n",
       "      <td>47.085029</td>\n",
       "      <td>6.084406e+01</td>\n",
       "      <td>5.337602e+01</td>\n",
       "      <td>6.017475e+01</td>\n",
       "      <td>9.223372e+18</td>\n",
       "      <td>6.146544e+01</td>\n",
       "    </tr>\n",
       "    <tr>\n",
       "      <th>99</th>\n",
       "      <td>5.816356e+01</td>\n",
       "      <td>2.701851e+01</td>\n",
       "      <td>4.466542e+01</td>\n",
       "      <td>5.053712e+01</td>\n",
       "      <td>4.559605e+01</td>\n",
       "      <td>53.935146</td>\n",
       "      <td>36.235342</td>\n",
       "      <td>54.212545</td>\n",
       "      <td>51.400389</td>\n",
       "      <td>54.424259</td>\n",
       "      <td>...</td>\n",
       "      <td>4.254409e+01</td>\n",
       "      <td>5.240229e+01</td>\n",
       "      <td>61.733297</td>\n",
       "      <td>2.426932e+01</td>\n",
       "      <td>47.571000</td>\n",
       "      <td>2.996665e+01</td>\n",
       "      <td>3.874274e+01</td>\n",
       "      <td>4.092676e+01</td>\n",
       "      <td>6.146544e+01</td>\n",
       "      <td>9.223372e+18</td>\n",
       "    </tr>\n",
       "  </tbody>\n",
       "</table>\n",
       "<p>100 rows × 100 columns</p>\n",
       "</div>"
      ],
      "text/plain": [
       "              0             1             2             3             4   \\\n",
       "0   9.223372e+18  5.955670e+01  5.412947e+01  4.757100e+01  5.033885e+01   \n",
       "1   5.955670e+01  9.223372e+18  4.162932e+01  4.547527e+01  4.790616e+01   \n",
       "2   5.412947e+01  4.162932e+01  9.223372e+18  5.395368e+01  5.209607e+01   \n",
       "3   4.757100e+01  4.547527e+01  5.395368e+01  9.223372e+18  5.121523e+01   \n",
       "4   5.033885e+01  4.790616e+01  5.209607e+01  5.121523e+01  9.223372e+18   \n",
       "..           ...           ...           ...           ...           ...   \n",
       "95  5.335729e+01  3.509986e+01  3.986226e+01  5.051732e+01  4.023680e+01   \n",
       "96  4.679744e+01  4.611941e+01  4.781213e+01  5.046781e+01  5.308484e+01   \n",
       "97  5.019960e+01  4.016217e+01  4.853864e+01  4.922398e+01  2.441311e+01   \n",
       "98  4.854894e+01  5.263079e+01  5.335729e+01  4.219005e+01  6.355313e+01   \n",
       "99  5.816356e+01  2.701851e+01  4.466542e+01  5.053712e+01  4.559605e+01   \n",
       "\n",
       "           5          6          7          8          9   ...            90  \\\n",
       "0   43.908997  48.559242  56.000000  44.395946  40.804412  ...  5.557877e+01   \n",
       "1   47.127487  40.286474  50.960769  48.620983  52.820451  ...  9.223372e+18   \n",
       "2   55.443665  45.650849  49.335586  42.602817  54.836119  ...  4.517743e+01   \n",
       "3   33.660065  47.254629  56.824291  42.449971  45.166359  ...  4.543127e+01   \n",
       "4   54.147945  36.959437  59.481089  52.507142  55.054518  ...  4.357752e+01   \n",
       "..        ...        ...        ...        ...        ...  ...           ...   \n",
       "95  54.323107  22.022716  58.472216  46.086874  56.850682  ...  4.943683e+01   \n",
       "96  51.691392  46.604721  49.213819  45.705580  50.665570  ...  4.908156e+01   \n",
       "97  48.620983  36.523965  55.785303  49.264592  45.771170  ...  3.436568e+01   \n",
       "98  44.079474  61.489837  51.410116  47.979162  51.264022  ...  4.892852e+01   \n",
       "99  53.935146  36.235342  54.212545  51.400389  54.424259  ...  4.254409e+01   \n",
       "\n",
       "              91         92            93         94            95  \\\n",
       "0   5.004998e+01  37.894591  6.001666e+01  49.739320  5.335729e+01   \n",
       "1   4.476606e+01  55.326305  9.223372e+18  45.617979  3.509986e+01   \n",
       "2   5.131277e+01  51.419841  4.400000e+01  46.389654  3.986226e+01   \n",
       "3   3.926831e+01  35.930488  4.702127e+01  50.764161  5.051732e+01   \n",
       "4   6.014150e+01  56.444663  4.623851e+01  53.441557  4.023680e+01   \n",
       "..           ...        ...           ...        ...           ...   \n",
       "95  5.555178e+01  57.332364  3.667424e+01  52.735187  9.223372e+18   \n",
       "96  4.563989e+01  51.185936  4.476606e+01  48.000000  3.953479e+01   \n",
       "97  5.583010e+01  52.858301  3.613862e+01  48.887626  4.006245e+01   \n",
       "98  9.223372e+18  35.000000  5.668333e+01  47.085029  6.084406e+01   \n",
       "99  5.240229e+01  61.733297  2.426932e+01  47.571000  2.996665e+01   \n",
       "\n",
       "              96            97            98            99  \n",
       "0   4.679744e+01  5.019960e+01  4.854894e+01  5.816356e+01  \n",
       "1   4.611941e+01  4.016217e+01  5.263079e+01  2.701851e+01  \n",
       "2   4.781213e+01  4.853864e+01  5.335729e+01  4.466542e+01  \n",
       "3   5.046781e+01  4.922398e+01  4.219005e+01  5.053712e+01  \n",
       "4   5.308484e+01  2.441311e+01  6.355313e+01  4.559605e+01  \n",
       "..           ...           ...           ...           ...  \n",
       "95  3.953479e+01  4.006245e+01  6.084406e+01  2.996665e+01  \n",
       "96  9.223372e+18  5.295281e+01  5.337602e+01  3.874274e+01  \n",
       "97  5.295281e+01  9.223372e+18  6.017475e+01  4.092676e+01  \n",
       "98  5.337602e+01  6.017475e+01  9.223372e+18  6.146544e+01  \n",
       "99  3.874274e+01  4.092676e+01  6.146544e+01  9.223372e+18  \n",
       "\n",
       "[100 rows x 100 columns]"
      ]
     },
     "execution_count": 448,
     "metadata": {},
     "output_type": "execute_result"
    }
   ],
   "source": [
    "pd.DataFrame(data_with_entropy_v1)"
   ]
  },
  {
   "cell_type": "code",
   "execution_count": 449,
   "metadata": {},
   "outputs": [
    {
     "data": {
      "text/html": [
       "<div>\n",
       "<style scoped>\n",
       "    .dataframe tbody tr th:only-of-type {\n",
       "        vertical-align: middle;\n",
       "    }\n",
       "\n",
       "    .dataframe tbody tr th {\n",
       "        vertical-align: top;\n",
       "    }\n",
       "\n",
       "    .dataframe thead th {\n",
       "        text-align: right;\n",
       "    }\n",
       "</style>\n",
       "<table border=\"1\" class=\"dataframe\">\n",
       "  <thead>\n",
       "    <tr style=\"text-align: right;\">\n",
       "      <th></th>\n",
       "      <th>0</th>\n",
       "      <th>1</th>\n",
       "      <th>2</th>\n",
       "      <th>3</th>\n",
       "      <th>4</th>\n",
       "      <th>5</th>\n",
       "      <th>6</th>\n",
       "      <th>7</th>\n",
       "      <th>8</th>\n",
       "      <th>9</th>\n",
       "      <th>...</th>\n",
       "      <th>90</th>\n",
       "      <th>91</th>\n",
       "      <th>92</th>\n",
       "      <th>93</th>\n",
       "      <th>94</th>\n",
       "      <th>95</th>\n",
       "      <th>96</th>\n",
       "      <th>97</th>\n",
       "      <th>98</th>\n",
       "      <th>99</th>\n",
       "    </tr>\n",
       "  </thead>\n",
       "  <tbody>\n",
       "    <tr>\n",
       "      <th>0</th>\n",
       "      <td>0.000000</td>\n",
       "      <td>-34.657359</td>\n",
       "      <td>-34.657359</td>\n",
       "      <td>-34.657359</td>\n",
       "      <td>-34.657359</td>\n",
       "      <td>-34.657359</td>\n",
       "      <td>-34.657359</td>\n",
       "      <td>-34.657359</td>\n",
       "      <td>-34.657359</td>\n",
       "      <td>-34.657359</td>\n",
       "      <td>...</td>\n",
       "      <td>-34.657359</td>\n",
       "      <td>-34.657359</td>\n",
       "      <td>-34.657359</td>\n",
       "      <td>-34.657359</td>\n",
       "      <td>-34.657359</td>\n",
       "      <td>-34.657359</td>\n",
       "      <td>-34.657359</td>\n",
       "      <td>-34.657359</td>\n",
       "      <td>-34.657359</td>\n",
       "      <td>-34.657359</td>\n",
       "    </tr>\n",
       "    <tr>\n",
       "      <th>1</th>\n",
       "      <td>-17.441605</td>\n",
       "      <td>0.000000</td>\n",
       "      <td>-17.441605</td>\n",
       "      <td>-17.441605</td>\n",
       "      <td>-17.441605</td>\n",
       "      <td>-17.441605</td>\n",
       "      <td>-17.441605</td>\n",
       "      <td>-17.441605</td>\n",
       "      <td>-17.441605</td>\n",
       "      <td>-17.441605</td>\n",
       "      <td>...</td>\n",
       "      <td>0.000000</td>\n",
       "      <td>-17.441605</td>\n",
       "      <td>-17.441605</td>\n",
       "      <td>0.000000</td>\n",
       "      <td>-17.441605</td>\n",
       "      <td>-17.441605</td>\n",
       "      <td>-17.441605</td>\n",
       "      <td>-17.441605</td>\n",
       "      <td>-17.441605</td>\n",
       "      <td>0.000000</td>\n",
       "    </tr>\n",
       "    <tr>\n",
       "      <th>2</th>\n",
       "      <td>-31.825708</td>\n",
       "      <td>-31.825708</td>\n",
       "      <td>0.000000</td>\n",
       "      <td>-31.825708</td>\n",
       "      <td>-31.825708</td>\n",
       "      <td>-31.825708</td>\n",
       "      <td>-31.825708</td>\n",
       "      <td>-31.825708</td>\n",
       "      <td>-31.825708</td>\n",
       "      <td>-31.825708</td>\n",
       "      <td>...</td>\n",
       "      <td>-31.825708</td>\n",
       "      <td>-31.825708</td>\n",
       "      <td>-31.825708</td>\n",
       "      <td>-31.825708</td>\n",
       "      <td>-31.825708</td>\n",
       "      <td>-31.825708</td>\n",
       "      <td>-31.825708</td>\n",
       "      <td>-31.825708</td>\n",
       "      <td>-31.825708</td>\n",
       "      <td>-31.825708</td>\n",
       "    </tr>\n",
       "    <tr>\n",
       "      <th>3</th>\n",
       "      <td>-34.657359</td>\n",
       "      <td>-34.657359</td>\n",
       "      <td>-34.657359</td>\n",
       "      <td>0.000000</td>\n",
       "      <td>-34.657359</td>\n",
       "      <td>-34.657359</td>\n",
       "      <td>-34.657359</td>\n",
       "      <td>-34.657359</td>\n",
       "      <td>-34.657359</td>\n",
       "      <td>-34.657359</td>\n",
       "      <td>...</td>\n",
       "      <td>-34.657359</td>\n",
       "      <td>0.000000</td>\n",
       "      <td>-34.657359</td>\n",
       "      <td>-34.657359</td>\n",
       "      <td>-34.657359</td>\n",
       "      <td>-34.657359</td>\n",
       "      <td>-34.657359</td>\n",
       "      <td>-34.657359</td>\n",
       "      <td>0.000000</td>\n",
       "      <td>-34.657359</td>\n",
       "    </tr>\n",
       "    <tr>\n",
       "      <th>4</th>\n",
       "      <td>-34.657359</td>\n",
       "      <td>-34.657359</td>\n",
       "      <td>-34.657359</td>\n",
       "      <td>-34.657359</td>\n",
       "      <td>0.000000</td>\n",
       "      <td>-34.657359</td>\n",
       "      <td>-34.657359</td>\n",
       "      <td>-34.657359</td>\n",
       "      <td>-34.657359</td>\n",
       "      <td>-34.657359</td>\n",
       "      <td>...</td>\n",
       "      <td>-34.657359</td>\n",
       "      <td>-34.657359</td>\n",
       "      <td>-34.657359</td>\n",
       "      <td>-34.657359</td>\n",
       "      <td>-34.657359</td>\n",
       "      <td>-34.657359</td>\n",
       "      <td>-34.657359</td>\n",
       "      <td>0.000000</td>\n",
       "      <td>-34.657359</td>\n",
       "      <td>-34.657359</td>\n",
       "    </tr>\n",
       "    <tr>\n",
       "      <th>...</th>\n",
       "      <td>...</td>\n",
       "      <td>...</td>\n",
       "      <td>...</td>\n",
       "      <td>...</td>\n",
       "      <td>...</td>\n",
       "      <td>...</td>\n",
       "      <td>...</td>\n",
       "      <td>...</td>\n",
       "      <td>...</td>\n",
       "      <td>...</td>\n",
       "      <td>...</td>\n",
       "      <td>...</td>\n",
       "      <td>...</td>\n",
       "      <td>...</td>\n",
       "      <td>...</td>\n",
       "      <td>...</td>\n",
       "      <td>...</td>\n",
       "      <td>...</td>\n",
       "      <td>...</td>\n",
       "      <td>...</td>\n",
       "      <td>...</td>\n",
       "    </tr>\n",
       "    <tr>\n",
       "      <th>95</th>\n",
       "      <td>-34.657359</td>\n",
       "      <td>-34.657359</td>\n",
       "      <td>-34.657359</td>\n",
       "      <td>-34.657359</td>\n",
       "      <td>-34.657359</td>\n",
       "      <td>-34.657359</td>\n",
       "      <td>0.000000</td>\n",
       "      <td>-34.657359</td>\n",
       "      <td>-34.657359</td>\n",
       "      <td>-34.657359</td>\n",
       "      <td>...</td>\n",
       "      <td>-34.657359</td>\n",
       "      <td>-34.657359</td>\n",
       "      <td>-34.657359</td>\n",
       "      <td>-34.657359</td>\n",
       "      <td>-34.657359</td>\n",
       "      <td>0.000000</td>\n",
       "      <td>-34.657359</td>\n",
       "      <td>-34.657359</td>\n",
       "      <td>-34.657359</td>\n",
       "      <td>-34.657359</td>\n",
       "    </tr>\n",
       "    <tr>\n",
       "      <th>96</th>\n",
       "      <td>-34.657359</td>\n",
       "      <td>-34.657359</td>\n",
       "      <td>-34.657359</td>\n",
       "      <td>-34.657359</td>\n",
       "      <td>-34.657359</td>\n",
       "      <td>-34.657359</td>\n",
       "      <td>-34.657359</td>\n",
       "      <td>-34.657359</td>\n",
       "      <td>0.000000</td>\n",
       "      <td>-34.657359</td>\n",
       "      <td>...</td>\n",
       "      <td>-34.657359</td>\n",
       "      <td>-34.657359</td>\n",
       "      <td>-34.657359</td>\n",
       "      <td>-34.657359</td>\n",
       "      <td>-34.657359</td>\n",
       "      <td>-34.657359</td>\n",
       "      <td>0.000000</td>\n",
       "      <td>-34.657359</td>\n",
       "      <td>-34.657359</td>\n",
       "      <td>-34.657359</td>\n",
       "    </tr>\n",
       "    <tr>\n",
       "      <th>97</th>\n",
       "      <td>-34.657359</td>\n",
       "      <td>-34.657359</td>\n",
       "      <td>-34.657359</td>\n",
       "      <td>-34.657359</td>\n",
       "      <td>0.000000</td>\n",
       "      <td>-34.657359</td>\n",
       "      <td>-34.657359</td>\n",
       "      <td>-34.657359</td>\n",
       "      <td>-34.657359</td>\n",
       "      <td>-34.657359</td>\n",
       "      <td>...</td>\n",
       "      <td>-34.657359</td>\n",
       "      <td>-34.657359</td>\n",
       "      <td>-34.657359</td>\n",
       "      <td>-34.657359</td>\n",
       "      <td>-34.657359</td>\n",
       "      <td>-34.657359</td>\n",
       "      <td>-34.657359</td>\n",
       "      <td>0.000000</td>\n",
       "      <td>-34.657359</td>\n",
       "      <td>-34.657359</td>\n",
       "    </tr>\n",
       "    <tr>\n",
       "      <th>98</th>\n",
       "      <td>-17.441605</td>\n",
       "      <td>-17.441605</td>\n",
       "      <td>-17.441605</td>\n",
       "      <td>0.000000</td>\n",
       "      <td>-17.441605</td>\n",
       "      <td>-17.441605</td>\n",
       "      <td>-17.441605</td>\n",
       "      <td>-17.441605</td>\n",
       "      <td>-17.441605</td>\n",
       "      <td>-17.441605</td>\n",
       "      <td>...</td>\n",
       "      <td>-17.441605</td>\n",
       "      <td>0.000000</td>\n",
       "      <td>-17.441605</td>\n",
       "      <td>-17.441605</td>\n",
       "      <td>-17.441605</td>\n",
       "      <td>-17.441605</td>\n",
       "      <td>-17.441605</td>\n",
       "      <td>-17.441605</td>\n",
       "      <td>0.000000</td>\n",
       "      <td>-17.441605</td>\n",
       "    </tr>\n",
       "    <tr>\n",
       "      <th>99</th>\n",
       "      <td>-34.657359</td>\n",
       "      <td>0.000000</td>\n",
       "      <td>-34.657359</td>\n",
       "      <td>-34.657359</td>\n",
       "      <td>-34.657359</td>\n",
       "      <td>-34.657359</td>\n",
       "      <td>-34.657359</td>\n",
       "      <td>-34.657359</td>\n",
       "      <td>-34.657359</td>\n",
       "      <td>-34.657359</td>\n",
       "      <td>...</td>\n",
       "      <td>0.000000</td>\n",
       "      <td>-34.657359</td>\n",
       "      <td>-34.657359</td>\n",
       "      <td>0.000000</td>\n",
       "      <td>-34.657359</td>\n",
       "      <td>-34.657359</td>\n",
       "      <td>-34.657359</td>\n",
       "      <td>-34.657359</td>\n",
       "      <td>-34.657359</td>\n",
       "      <td>0.000000</td>\n",
       "    </tr>\n",
       "  </tbody>\n",
       "</table>\n",
       "<p>100 rows × 100 columns</p>\n",
       "</div>"
      ],
      "text/plain": [
       "           0          1          2          3          4          5   \\\n",
       "0    0.000000 -34.657359 -34.657359 -34.657359 -34.657359 -34.657359   \n",
       "1  -17.441605   0.000000 -17.441605 -17.441605 -17.441605 -17.441605   \n",
       "2  -31.825708 -31.825708   0.000000 -31.825708 -31.825708 -31.825708   \n",
       "3  -34.657359 -34.657359 -34.657359   0.000000 -34.657359 -34.657359   \n",
       "4  -34.657359 -34.657359 -34.657359 -34.657359   0.000000 -34.657359   \n",
       "..        ...        ...        ...        ...        ...        ...   \n",
       "95 -34.657359 -34.657359 -34.657359 -34.657359 -34.657359 -34.657359   \n",
       "96 -34.657359 -34.657359 -34.657359 -34.657359 -34.657359 -34.657359   \n",
       "97 -34.657359 -34.657359 -34.657359 -34.657359   0.000000 -34.657359   \n",
       "98 -17.441605 -17.441605 -17.441605   0.000000 -17.441605 -17.441605   \n",
       "99 -34.657359   0.000000 -34.657359 -34.657359 -34.657359 -34.657359   \n",
       "\n",
       "           6          7          8          9   ...         90         91  \\\n",
       "0  -34.657359 -34.657359 -34.657359 -34.657359  ... -34.657359 -34.657359   \n",
       "1  -17.441605 -17.441605 -17.441605 -17.441605  ...   0.000000 -17.441605   \n",
       "2  -31.825708 -31.825708 -31.825708 -31.825708  ... -31.825708 -31.825708   \n",
       "3  -34.657359 -34.657359 -34.657359 -34.657359  ... -34.657359   0.000000   \n",
       "4  -34.657359 -34.657359 -34.657359 -34.657359  ... -34.657359 -34.657359   \n",
       "..        ...        ...        ...        ...  ...        ...        ...   \n",
       "95   0.000000 -34.657359 -34.657359 -34.657359  ... -34.657359 -34.657359   \n",
       "96 -34.657359 -34.657359   0.000000 -34.657359  ... -34.657359 -34.657359   \n",
       "97 -34.657359 -34.657359 -34.657359 -34.657359  ... -34.657359 -34.657359   \n",
       "98 -17.441605 -17.441605 -17.441605 -17.441605  ... -17.441605   0.000000   \n",
       "99 -34.657359 -34.657359 -34.657359 -34.657359  ...   0.000000 -34.657359   \n",
       "\n",
       "           92         93         94         95         96         97  \\\n",
       "0  -34.657359 -34.657359 -34.657359 -34.657359 -34.657359 -34.657359   \n",
       "1  -17.441605   0.000000 -17.441605 -17.441605 -17.441605 -17.441605   \n",
       "2  -31.825708 -31.825708 -31.825708 -31.825708 -31.825708 -31.825708   \n",
       "3  -34.657359 -34.657359 -34.657359 -34.657359 -34.657359 -34.657359   \n",
       "4  -34.657359 -34.657359 -34.657359 -34.657359 -34.657359   0.000000   \n",
       "..        ...        ...        ...        ...        ...        ...   \n",
       "95 -34.657359 -34.657359 -34.657359   0.000000 -34.657359 -34.657359   \n",
       "96 -34.657359 -34.657359 -34.657359 -34.657359   0.000000 -34.657359   \n",
       "97 -34.657359 -34.657359 -34.657359 -34.657359 -34.657359   0.000000   \n",
       "98 -17.441605 -17.441605 -17.441605 -17.441605 -17.441605 -17.441605   \n",
       "99 -34.657359   0.000000 -34.657359 -34.657359 -34.657359 -34.657359   \n",
       "\n",
       "           98         99  \n",
       "0  -34.657359 -34.657359  \n",
       "1  -17.441605   0.000000  \n",
       "2  -31.825708 -31.825708  \n",
       "3    0.000000 -34.657359  \n",
       "4  -34.657359 -34.657359  \n",
       "..        ...        ...  \n",
       "95 -34.657359 -34.657359  \n",
       "96 -34.657359 -34.657359  \n",
       "97 -34.657359 -34.657359  \n",
       "98   0.000000 -17.441605  \n",
       "99 -34.657359   0.000000  \n",
       "\n",
       "[100 rows x 100 columns]"
      ]
     },
     "execution_count": 449,
     "metadata": {},
     "output_type": "execute_result"
    }
   ],
   "source": [
    "pd.DataFrame(data_with_entropy_v1 - data_with_entropy_v2)"
   ]
  },
  {
   "cell_type": "code",
   "execution_count": 421,
   "metadata": {},
   "outputs": [
    {
     "data": {
      "text/plain": [
       "[0.6931471805599453,\n",
       " 0.0,\n",
       " 0.6931471805599453,\n",
       " 0.6931471805599453,\n",
       " 0.6931471805599453,\n",
       " 0.6931471805599453,\n",
       " 0.6931471805599453,\n",
       " 0.6931471805599453,\n",
       " 0.6931471805599453,\n",
       " 0.6931471805599453]"
      ]
     },
     "execution_count": 421,
     "metadata": {},
     "output_type": "execute_result"
    }
   ],
   "source": [
    "entropy_array"
   ]
  },
  {
   "cell_type": "code",
   "execution_count": 422,
   "metadata": {},
   "outputs": [],
   "source": [
    "# data_with_entropy_v1 = data_with_entropy.copy()"
   ]
  },
  {
   "cell_type": "code",
   "execution_count": 423,
   "metadata": {},
   "outputs": [],
   "source": [
    "\n",
    "# data_with_entropy_v2 = data_with_entropy.copy()"
   ]
  },
  {
   "cell_type": "code",
   "execution_count": 430,
   "metadata": {},
   "outputs": [
    {
     "data": {
      "text/plain": [
       "array([[  0.        , -69.31471806, -69.31471806, ..., -69.31471806,\n",
       "        -69.31471806, -69.31471806],\n",
       "       [-69.31471806,   0.        , -69.31471806, ..., -69.31471806,\n",
       "        -69.31471806,   0.        ],\n",
       "       [-69.31471806, -69.31471806,   0.        , ..., -69.31471806,\n",
       "        -69.31471806, -69.31471806],\n",
       "       ...,\n",
       "       [-69.31471806, -69.31471806, -69.31471806, ...,   0.        ,\n",
       "        -69.31471806, -69.31471806],\n",
       "       [-69.31471806, -69.31471806, -69.31471806, ..., -69.31471806,\n",
       "          0.        , -69.31471806],\n",
       "       [-69.31471806,   0.        , -69.31471806, ..., -69.31471806,\n",
       "        -69.31471806,   0.        ]])"
      ]
     },
     "execution_count": 430,
     "metadata": {},
     "output_type": "execute_result"
    }
   ],
   "source": [
    "(data_with_entropy_v1 - data_with_entropy_v2)"
   ]
  },
  {
   "cell_type": "code",
   "execution_count": 334,
   "metadata": {},
   "outputs": [
    {
     "ename": "TypeError",
     "evalue": "'str' object is not callable",
     "output_type": "error",
     "traceback": [
      "\u001b[0;31m---------------------------------------------------------------------------\u001b[0m",
      "\u001b[0;31mTypeError\u001b[0m                                 Traceback (most recent call last)",
      "\u001b[0;32m<ipython-input-334-88d74c8ad515>\u001b[0m in \u001b[0;36m<module>\u001b[0;34m\u001b[0m\n\u001b[1;32m      1\u001b[0m \u001b[0;32mimport\u001b[0m \u001b[0mmultiprocessing\u001b[0m\u001b[0;34m\u001b[0m\u001b[0;34m\u001b[0m\u001b[0m\n\u001b[0;32m----> 2\u001b[0;31m \u001b[0msys\u001b[0m\u001b[0;34m.\u001b[0m\u001b[0mversion\u001b[0m\u001b[0;34m(\u001b[0m\u001b[0mmultiprocessing\u001b[0m\u001b[0;34m)\u001b[0m\u001b[0;34m\u001b[0m\u001b[0;34m\u001b[0m\u001b[0m\n\u001b[0m",
      "\u001b[0;31mTypeError\u001b[0m: 'str' object is not callable"
     ]
    }
   ],
   "source": [
    "import multiprocessing\n",
    "sys.version(multiprocessing)"
   ]
  },
  {
   "cell_type": "code",
   "execution_count": 380,
   "metadata": {},
   "outputs": [
    {
     "name": "stdout",
     "output_type": "stream",
     "text": [
      "34512\n",
      "\n",
      "\n",
      "\n",
      "\n",
      "\n",
      "6\n",
      "\n",
      "\n",
      "\n",
      "\n",
      "\n"
     ]
    }
   ],
   "source": [
    "from multiprocessing.pool import Pool\n",
    "import itertools\n",
    "from itertools import product\n",
    "p = Pool(5)\n",
    "def f(x):\n",
    "    print(x)\n",
    "    print()\n",
    "    return x*x\n",
    "a_args = [1,2,3, 4, 5, 6]\n",
    "res_tmp = []\n",
    "# with p:\n",
    "#     p.map(f, [1,2,3])\n",
    "#     p.map(f, itertools.izip(a_args))\n",
    "#     p.map(f, product(a_args))\n",
    "#     res_tmp.append(x)\n",
    "\n",
    "with p:\n",
    "    res_tmp.append(p.map(f, a_args))"
   ]
  },
  {
   "cell_type": "code",
   "execution_count": 366,
   "metadata": {},
   "outputs": [
    {
     "data": {
      "text/plain": [
       "[[1, 4, 9, 16, 25, 36]]"
      ]
     },
     "execution_count": 366,
     "metadata": {},
     "output_type": "execute_result"
    }
   ],
   "source": [
    "res_tmp"
   ]
  },
  {
   "cell_type": "code",
   "execution_count": 19,
   "metadata": {},
   "outputs": [
    {
     "name": "stderr",
     "output_type": "stream",
     "text": [
      "  0%|          | 0/499 [00:00<?, ?it/s]"
     ]
    },
    {
     "name": "stdout",
     "output_type": "stream",
     "text": [
      "hihi1\n"
     ]
    },
    {
     "name": "stderr",
     "output_type": "stream",
     "text": [
      "100%|██████████| 499/499 [16:50<00:00,  2.03s/it]\n"
     ]
    },
    {
     "name": "stdout",
     "output_type": "stream",
     "text": [
      "hihi2\n"
     ]
    },
    {
     "data": {
      "text/html": [
       "<div>\n",
       "<style scoped>\n",
       "    .dataframe tbody tr th:only-of-type {\n",
       "        vertical-align: middle;\n",
       "    }\n",
       "\n",
       "    .dataframe tbody tr th {\n",
       "        vertical-align: top;\n",
       "    }\n",
       "\n",
       "    .dataframe thead th {\n",
       "        text-align: right;\n",
       "    }\n",
       "</style>\n",
       "<table border=\"1\" class=\"dataframe\">\n",
       "  <thead>\n",
       "    <tr style=\"text-align: right;\">\n",
       "      <th></th>\n",
       "      <th>69</th>\n",
       "      <th>103</th>\n",
       "      <th>211</th>\n",
       "      <th>327</th>\n",
       "      <th>414</th>\n",
       "      <th>442</th>\n",
       "      <th>961</th>\n",
       "      <th>963</th>\n",
       "      <th>986</th>\n",
       "      <th>990</th>\n",
       "    </tr>\n",
       "    <tr>\n",
       "      <th>index</th>\n",
       "      <th></th>\n",
       "      <th></th>\n",
       "      <th></th>\n",
       "      <th></th>\n",
       "      <th></th>\n",
       "      <th></th>\n",
       "      <th></th>\n",
       "      <th></th>\n",
       "      <th></th>\n",
       "      <th></th>\n",
       "    </tr>\n",
       "  </thead>\n",
       "  <tbody>\n",
       "    <tr>\n",
       "      <th>0</th>\n",
       "      <td>0</td>\n",
       "      <td>0</td>\n",
       "      <td>0</td>\n",
       "      <td>0</td>\n",
       "      <td>0</td>\n",
       "      <td>0</td>\n",
       "      <td>0</td>\n",
       "      <td>0</td>\n",
       "      <td>0</td>\n",
       "      <td>-51</td>\n",
       "    </tr>\n",
       "    <tr>\n",
       "      <th>1</th>\n",
       "      <td>0</td>\n",
       "      <td>0</td>\n",
       "      <td>0</td>\n",
       "      <td>0</td>\n",
       "      <td>0</td>\n",
       "      <td>-1</td>\n",
       "      <td>0</td>\n",
       "      <td>0</td>\n",
       "      <td>0</td>\n",
       "      <td>-51</td>\n",
       "    </tr>\n",
       "    <tr>\n",
       "      <th>2</th>\n",
       "      <td>0</td>\n",
       "      <td>0</td>\n",
       "      <td>0</td>\n",
       "      <td>0</td>\n",
       "      <td>0</td>\n",
       "      <td>0</td>\n",
       "      <td>0</td>\n",
       "      <td>0</td>\n",
       "      <td>0</td>\n",
       "      <td>-50</td>\n",
       "    </tr>\n",
       "    <tr>\n",
       "      <th>3</th>\n",
       "      <td>0</td>\n",
       "      <td>-1</td>\n",
       "      <td>0</td>\n",
       "      <td>0</td>\n",
       "      <td>0</td>\n",
       "      <td>0</td>\n",
       "      <td>0</td>\n",
       "      <td>0</td>\n",
       "      <td>0</td>\n",
       "      <td>-52</td>\n",
       "    </tr>\n",
       "    <tr>\n",
       "      <th>4</th>\n",
       "      <td>0</td>\n",
       "      <td>0</td>\n",
       "      <td>0</td>\n",
       "      <td>0</td>\n",
       "      <td>0</td>\n",
       "      <td>0</td>\n",
       "      <td>0</td>\n",
       "      <td>0</td>\n",
       "      <td>0</td>\n",
       "      <td>-49</td>\n",
       "    </tr>\n",
       "    <tr>\n",
       "      <th>5</th>\n",
       "      <td>0</td>\n",
       "      <td>0</td>\n",
       "      <td>0</td>\n",
       "      <td>-1</td>\n",
       "      <td>0</td>\n",
       "      <td>0</td>\n",
       "      <td>0</td>\n",
       "      <td>0</td>\n",
       "      <td>-48</td>\n",
       "      <td>-1</td>\n",
       "    </tr>\n",
       "    <tr>\n",
       "      <th>6</th>\n",
       "      <td>0</td>\n",
       "      <td>0</td>\n",
       "      <td>0</td>\n",
       "      <td>0</td>\n",
       "      <td>0</td>\n",
       "      <td>0</td>\n",
       "      <td>0</td>\n",
       "      <td>-51</td>\n",
       "      <td>0</td>\n",
       "      <td>0</td>\n",
       "    </tr>\n",
       "    <tr>\n",
       "      <th>7</th>\n",
       "      <td>0</td>\n",
       "      <td>0</td>\n",
       "      <td>-1</td>\n",
       "      <td>0</td>\n",
       "      <td>0</td>\n",
       "      <td>0</td>\n",
       "      <td>-37</td>\n",
       "      <td>0</td>\n",
       "      <td>0</td>\n",
       "      <td>-12</td>\n",
       "    </tr>\n",
       "    <tr>\n",
       "      <th>8</th>\n",
       "      <td>0</td>\n",
       "      <td>0</td>\n",
       "      <td>0</td>\n",
       "      <td>0</td>\n",
       "      <td>-1</td>\n",
       "      <td>0</td>\n",
       "      <td>0</td>\n",
       "      <td>0</td>\n",
       "      <td>0</td>\n",
       "      <td>-45</td>\n",
       "    </tr>\n",
       "    <tr>\n",
       "      <th>9</th>\n",
       "      <td>-1</td>\n",
       "      <td>0</td>\n",
       "      <td>0</td>\n",
       "      <td>0</td>\n",
       "      <td>0</td>\n",
       "      <td>0</td>\n",
       "      <td>0</td>\n",
       "      <td>0</td>\n",
       "      <td>0</td>\n",
       "      <td>-47</td>\n",
       "    </tr>\n",
       "  </tbody>\n",
       "</table>\n",
       "</div>"
      ],
      "text/plain": [
       "       69   103  211  327  414  442  961  963  986  990\n",
       "index                                                  \n",
       "0        0    0    0    0    0    0    0    0    0  -51\n",
       "1        0    0    0    0    0   -1    0    0    0  -51\n",
       "2        0    0    0    0    0    0    0    0    0  -50\n",
       "3        0   -1    0    0    0    0    0    0    0  -52\n",
       "4        0    0    0    0    0    0    0    0    0  -49\n",
       "5        0    0    0   -1    0    0    0    0  -48   -1\n",
       "6        0    0    0    0    0    0    0  -51    0    0\n",
       "7        0    0   -1    0    0    0  -37    0    0  -12\n",
       "8        0    0    0    0   -1    0    0    0    0  -45\n",
       "9       -1    0    0    0    0    0    0    0    0  -47"
      ]
     },
     "metadata": {},
     "output_type": "display_data"
    },
    {
     "name": "stdout",
     "output_type": "stream",
     "text": [
      "hihi3\n"
     ]
    }
   ],
   "source": [
    "alpha0_res_ = find_clusters_with_entropy(alpha)"
   ]
  },
  {
   "cell_type": "code",
   "execution_count": 455,
   "metadata": {},
   "outputs": [
    {
     "name": "stderr",
     "output_type": "stream",
     "text": [
      "  0%|          | 0/7 [00:00<?, ?it/s]"
     ]
    },
    {
     "name": "stdout",
     "output_type": "stream",
     "text": [
      "hihi1\n",
      "hihi2\n",
      "500\n"
     ]
    },
    {
     "name": "stderr",
     "output_type": "stream",
     "text": [
      " 14%|█▍        | 1/7 [16:16<1:37:41, 976.91s/it]"
     ]
    },
    {
     "name": "stdout",
     "output_type": "stream",
     "text": [
      "hihi3\n",
      "hihi1\n",
      "hihi2\n",
      "500\n"
     ]
    },
    {
     "name": "stderr",
     "output_type": "stream",
     "text": [
      " 29%|██▊       | 2/7 [32:57<1:22:00, 984.02s/it]"
     ]
    },
    {
     "name": "stdout",
     "output_type": "stream",
     "text": [
      "hihi3\n",
      "hihi1\n"
     ]
    },
    {
     "name": "stderr",
     "output_type": "stream",
     "text": [
      " 43%|████▎     | 3/7 [47:14<1:03:03, 945.84s/it]"
     ]
    },
    {
     "name": "stdout",
     "output_type": "stream",
     "text": [
      "hihi2\n",
      "500\n",
      "hihi3\n",
      "hihi1\n",
      "hihi2\n",
      "500\n"
     ]
    },
    {
     "name": "stderr",
     "output_type": "stream",
     "text": [
      " 57%|█████▋    | 4/7 [1:00:04<44:39, 893.26s/it]"
     ]
    },
    {
     "name": "stdout",
     "output_type": "stream",
     "text": [
      "hihi3\n",
      "hihi1\n"
     ]
    },
    {
     "name": "stderr",
     "output_type": "stream",
     "text": [
      " 71%|███████▏  | 5/7 [1:12:41<28:24, 852.41s/it]"
     ]
    },
    {
     "name": "stdout",
     "output_type": "stream",
     "text": [
      "hihi2\n",
      "500\n",
      "hihi3\n",
      "hihi1\n",
      "hihi2\n",
      "500\n"
     ]
    },
    {
     "name": "stderr",
     "output_type": "stream",
     "text": [
      " 86%|████████▌ | 6/7 [1:25:26<13:45, 825.97s/it]"
     ]
    },
    {
     "name": "stdout",
     "output_type": "stream",
     "text": [
      "hihi3\n",
      "hihi1\n",
      "hihi2\n",
      "500\n"
     ]
    },
    {
     "name": "stderr",
     "output_type": "stream",
     "text": [
      "100%|██████████| 7/7 [1:38:12<00:00, 841.76s/it]"
     ]
    },
    {
     "name": "stdout",
     "output_type": "stream",
     "text": [
      "hihi3\n"
     ]
    },
    {
     "name": "stderr",
     "output_type": "stream",
     "text": [
      "\n"
     ]
    },
    {
     "data": {
      "text/plain": [
       "[0.382, 0.4, 0.408, 0.408, 0.588, 0.808, 1.0]"
      ]
     },
     "execution_count": 455,
     "metadata": {},
     "output_type": "execute_result"
    }
   ],
   "source": [
    "lst_alpha = [0, 1, 5, 10, 50, 100, 1000]\n",
    "\n",
    "res_alpha = []\n",
    "\n",
    "for alpha in tqdm(lst_alpha):\n",
    "    res_ = find_clusters_with_entropy(alpha)\n",
    "    res_alpha.append(res_)\n",
    "res_alpha"
   ]
  },
  {
   "cell_type": "code",
   "execution_count": 481,
   "metadata": {},
   "outputs": [
    {
     "data": {
      "text/plain": [
       "[0, 1, 5, 10, 50, 100, 1000]"
      ]
     },
     "execution_count": 481,
     "metadata": {},
     "output_type": "execute_result"
    }
   ],
   "source": [
    "lst_alpha"
   ]
  },
  {
   "cell_type": "code",
   "execution_count": 484,
   "metadata": {},
   "outputs": [
    {
     "data": {
      "text/html": [
       "<div>\n",
       "<style scoped>\n",
       "    .dataframe tbody tr th:only-of-type {\n",
       "        vertical-align: middle;\n",
       "    }\n",
       "\n",
       "    .dataframe tbody tr th {\n",
       "        vertical-align: top;\n",
       "    }\n",
       "\n",
       "    .dataframe thead th {\n",
       "        text-align: right;\n",
       "    }\n",
       "</style>\n",
       "<table border=\"1\" class=\"dataframe\">\n",
       "  <thead>\n",
       "    <tr style=\"text-align: right;\">\n",
       "      <th></th>\n",
       "      <th>alpha</th>\n",
       "      <th>score</th>\n",
       "    </tr>\n",
       "  </thead>\n",
       "  <tbody>\n",
       "    <tr>\n",
       "      <th>0</th>\n",
       "      <td>0.0</td>\n",
       "      <td>0.382</td>\n",
       "    </tr>\n",
       "    <tr>\n",
       "      <th>1</th>\n",
       "      <td>1.0</td>\n",
       "      <td>0.400</td>\n",
       "    </tr>\n",
       "    <tr>\n",
       "      <th>2</th>\n",
       "      <td>5.0</td>\n",
       "      <td>0.408</td>\n",
       "    </tr>\n",
       "    <tr>\n",
       "      <th>3</th>\n",
       "      <td>10.0</td>\n",
       "      <td>0.408</td>\n",
       "    </tr>\n",
       "    <tr>\n",
       "      <th>4</th>\n",
       "      <td>50.0</td>\n",
       "      <td>0.588</td>\n",
       "    </tr>\n",
       "    <tr>\n",
       "      <th>5</th>\n",
       "      <td>100.0</td>\n",
       "      <td>0.808</td>\n",
       "    </tr>\n",
       "    <tr>\n",
       "      <th>6</th>\n",
       "      <td>1000.0</td>\n",
       "      <td>1.000</td>\n",
       "    </tr>\n",
       "  </tbody>\n",
       "</table>\n",
       "</div>"
      ],
      "text/plain": [
       "    alpha  score\n",
       "0     0.0  0.382\n",
       "1     1.0  0.400\n",
       "2     5.0  0.408\n",
       "3    10.0  0.408\n",
       "4    50.0  0.588\n",
       "5   100.0  0.808\n",
       "6  1000.0  1.000"
      ]
     },
     "metadata": {},
     "output_type": "display_data"
    }
   ],
   "source": [
    "df_res_alpha = pd.DataFrame([lst_alpha, res_alpha]).T\n",
    "df_res_alpha.columns = [\"alpha\", \"score\"]\n",
    "display(df_res_alpha)\n",
    "df_res_alpha.to_excel(\"Hierarchical_clustering_25042020.xlsx\", index = False)"
   ]
  },
  {
   "cell_type": "code",
   "execution_count": 393,
   "metadata": {},
   "outputs": [
    {
     "name": "stderr",
     "output_type": "stream",
     "text": [
      "100%|██████████| 6/6 [00:00<00:00, 948.40it/s]\n"
     ]
    },
    {
     "ename": "KeyboardInterrupt",
     "evalue": "",
     "output_type": "error",
     "traceback": [
      "\u001b[0;31m---------------------------------------------------------------------------\u001b[0m",
      "\u001b[0;31mKeyboardInterrupt\u001b[0m                         Traceback (most recent call last)",
      "\u001b[0;32m<ipython-input-393-bd6d52226a9d>\u001b[0m in \u001b[0;36m<module>\u001b[0;34m\u001b[0m\n\u001b[1;32m     10\u001b[0m         \u001b[0mdigits\u001b[0m \u001b[0;34m=\u001b[0m \u001b[0mload_digits\u001b[0m\u001b[0;34m(\u001b[0m\u001b[0;34m)\u001b[0m\u001b[0;34m\u001b[0m\u001b[0;34m\u001b[0m\u001b[0m\n\u001b[1;32m     11\u001b[0m         \u001b[0mtargets\u001b[0m \u001b[0;34m=\u001b[0m \u001b[0mdigits\u001b[0m\u001b[0;34m.\u001b[0m\u001b[0mtarget\u001b[0m\u001b[0;34m\u001b[0m\u001b[0;34m\u001b[0m\u001b[0m\n\u001b[0;32m---> 12\u001b[0;31m         \u001b[0mres_\u001b[0m \u001b[0;34m=\u001b[0m \u001b[0mpool\u001b[0m\u001b[0;34m.\u001b[0m\u001b[0mmap\u001b[0m\u001b[0;34m(\u001b[0m\u001b[0mfind_clusters_with_entropy\u001b[0m\u001b[0;34m,\u001b[0m \u001b[0mtqdm\u001b[0m\u001b[0;34m(\u001b[0m\u001b[0mlst_alpha\u001b[0m\u001b[0;34m)\u001b[0m\u001b[0;34m)\u001b[0m\u001b[0;34m\u001b[0m\u001b[0;34m\u001b[0m\u001b[0m\n\u001b[0m\u001b[1;32m     13\u001b[0m     \u001b[0;31m#     res_ = pool.map(f, tqdm(lst_alpha))\u001b[0m\u001b[0;34m\u001b[0m\u001b[0;34m\u001b[0m\u001b[0;34m\u001b[0m\u001b[0m\n\u001b[1;32m     14\u001b[0m         \u001b[0mprint\u001b[0m\u001b[0;34m(\u001b[0m\u001b[0;34m\"hi1\"\u001b[0m\u001b[0;34m)\u001b[0m\u001b[0;34m\u001b[0m\u001b[0;34m\u001b[0m\u001b[0m\n",
      "\u001b[0;32m~/anaconda3/lib/python3.8/multiprocessing/pool.py\u001b[0m in \u001b[0;36mmap\u001b[0;34m(self, func, iterable, chunksize)\u001b[0m\n\u001b[1;32m    362\u001b[0m         \u001b[0;32min\u001b[0m \u001b[0ma\u001b[0m \u001b[0mlist\u001b[0m \u001b[0mthat\u001b[0m \u001b[0;32mis\u001b[0m \u001b[0mreturned\u001b[0m\u001b[0;34m.\u001b[0m\u001b[0;34m\u001b[0m\u001b[0;34m\u001b[0m\u001b[0m\n\u001b[1;32m    363\u001b[0m         '''\n\u001b[0;32m--> 364\u001b[0;31m         \u001b[0;32mreturn\u001b[0m \u001b[0mself\u001b[0m\u001b[0;34m.\u001b[0m\u001b[0m_map_async\u001b[0m\u001b[0;34m(\u001b[0m\u001b[0mfunc\u001b[0m\u001b[0;34m,\u001b[0m \u001b[0miterable\u001b[0m\u001b[0;34m,\u001b[0m \u001b[0mmapstar\u001b[0m\u001b[0;34m,\u001b[0m \u001b[0mchunksize\u001b[0m\u001b[0;34m)\u001b[0m\u001b[0;34m.\u001b[0m\u001b[0mget\u001b[0m\u001b[0;34m(\u001b[0m\u001b[0;34m)\u001b[0m\u001b[0;34m\u001b[0m\u001b[0;34m\u001b[0m\u001b[0m\n\u001b[0m\u001b[1;32m    365\u001b[0m \u001b[0;34m\u001b[0m\u001b[0m\n\u001b[1;32m    366\u001b[0m     \u001b[0;32mdef\u001b[0m \u001b[0mstarmap\u001b[0m\u001b[0;34m(\u001b[0m\u001b[0mself\u001b[0m\u001b[0;34m,\u001b[0m \u001b[0mfunc\u001b[0m\u001b[0;34m,\u001b[0m \u001b[0miterable\u001b[0m\u001b[0;34m,\u001b[0m \u001b[0mchunksize\u001b[0m\u001b[0;34m=\u001b[0m\u001b[0;32mNone\u001b[0m\u001b[0;34m)\u001b[0m\u001b[0;34m:\u001b[0m\u001b[0;34m\u001b[0m\u001b[0;34m\u001b[0m\u001b[0m\n",
      "\u001b[0;32m~/anaconda3/lib/python3.8/multiprocessing/pool.py\u001b[0m in \u001b[0;36mget\u001b[0;34m(self, timeout)\u001b[0m\n\u001b[1;32m    763\u001b[0m \u001b[0;34m\u001b[0m\u001b[0m\n\u001b[1;32m    764\u001b[0m     \u001b[0;32mdef\u001b[0m \u001b[0mget\u001b[0m\u001b[0;34m(\u001b[0m\u001b[0mself\u001b[0m\u001b[0;34m,\u001b[0m \u001b[0mtimeout\u001b[0m\u001b[0;34m=\u001b[0m\u001b[0;32mNone\u001b[0m\u001b[0;34m)\u001b[0m\u001b[0;34m:\u001b[0m\u001b[0;34m\u001b[0m\u001b[0;34m\u001b[0m\u001b[0m\n\u001b[0;32m--> 765\u001b[0;31m         \u001b[0mself\u001b[0m\u001b[0;34m.\u001b[0m\u001b[0mwait\u001b[0m\u001b[0;34m(\u001b[0m\u001b[0mtimeout\u001b[0m\u001b[0;34m)\u001b[0m\u001b[0;34m\u001b[0m\u001b[0;34m\u001b[0m\u001b[0m\n\u001b[0m\u001b[1;32m    766\u001b[0m         \u001b[0;32mif\u001b[0m \u001b[0;32mnot\u001b[0m \u001b[0mself\u001b[0m\u001b[0;34m.\u001b[0m\u001b[0mready\u001b[0m\u001b[0;34m(\u001b[0m\u001b[0;34m)\u001b[0m\u001b[0;34m:\u001b[0m\u001b[0;34m\u001b[0m\u001b[0;34m\u001b[0m\u001b[0m\n\u001b[1;32m    767\u001b[0m             \u001b[0;32mraise\u001b[0m \u001b[0mTimeoutError\u001b[0m\u001b[0;34m\u001b[0m\u001b[0;34m\u001b[0m\u001b[0m\n",
      "\u001b[0;32m~/anaconda3/lib/python3.8/multiprocessing/pool.py\u001b[0m in \u001b[0;36mwait\u001b[0;34m(self, timeout)\u001b[0m\n\u001b[1;32m    760\u001b[0m \u001b[0;34m\u001b[0m\u001b[0m\n\u001b[1;32m    761\u001b[0m     \u001b[0;32mdef\u001b[0m \u001b[0mwait\u001b[0m\u001b[0;34m(\u001b[0m\u001b[0mself\u001b[0m\u001b[0;34m,\u001b[0m \u001b[0mtimeout\u001b[0m\u001b[0;34m=\u001b[0m\u001b[0;32mNone\u001b[0m\u001b[0;34m)\u001b[0m\u001b[0;34m:\u001b[0m\u001b[0;34m\u001b[0m\u001b[0;34m\u001b[0m\u001b[0m\n\u001b[0;32m--> 762\u001b[0;31m         \u001b[0mself\u001b[0m\u001b[0;34m.\u001b[0m\u001b[0m_event\u001b[0m\u001b[0;34m.\u001b[0m\u001b[0mwait\u001b[0m\u001b[0;34m(\u001b[0m\u001b[0mtimeout\u001b[0m\u001b[0;34m)\u001b[0m\u001b[0;34m\u001b[0m\u001b[0;34m\u001b[0m\u001b[0m\n\u001b[0m\u001b[1;32m    763\u001b[0m \u001b[0;34m\u001b[0m\u001b[0m\n\u001b[1;32m    764\u001b[0m     \u001b[0;32mdef\u001b[0m \u001b[0mget\u001b[0m\u001b[0;34m(\u001b[0m\u001b[0mself\u001b[0m\u001b[0;34m,\u001b[0m \u001b[0mtimeout\u001b[0m\u001b[0;34m=\u001b[0m\u001b[0;32mNone\u001b[0m\u001b[0;34m)\u001b[0m\u001b[0;34m:\u001b[0m\u001b[0;34m\u001b[0m\u001b[0;34m\u001b[0m\u001b[0m\n",
      "\u001b[0;32m~/anaconda3/lib/python3.8/threading.py\u001b[0m in \u001b[0;36mwait\u001b[0;34m(self, timeout)\u001b[0m\n\u001b[1;32m    556\u001b[0m             \u001b[0msignaled\u001b[0m \u001b[0;34m=\u001b[0m \u001b[0mself\u001b[0m\u001b[0;34m.\u001b[0m\u001b[0m_flag\u001b[0m\u001b[0;34m\u001b[0m\u001b[0;34m\u001b[0m\u001b[0m\n\u001b[1;32m    557\u001b[0m             \u001b[0;32mif\u001b[0m \u001b[0;32mnot\u001b[0m \u001b[0msignaled\u001b[0m\u001b[0;34m:\u001b[0m\u001b[0;34m\u001b[0m\u001b[0;34m\u001b[0m\u001b[0m\n\u001b[0;32m--> 558\u001b[0;31m                 \u001b[0msignaled\u001b[0m \u001b[0;34m=\u001b[0m \u001b[0mself\u001b[0m\u001b[0;34m.\u001b[0m\u001b[0m_cond\u001b[0m\u001b[0;34m.\u001b[0m\u001b[0mwait\u001b[0m\u001b[0;34m(\u001b[0m\u001b[0mtimeout\u001b[0m\u001b[0;34m)\u001b[0m\u001b[0;34m\u001b[0m\u001b[0;34m\u001b[0m\u001b[0m\n\u001b[0m\u001b[1;32m    559\u001b[0m             \u001b[0;32mreturn\u001b[0m \u001b[0msignaled\u001b[0m\u001b[0;34m\u001b[0m\u001b[0;34m\u001b[0m\u001b[0m\n\u001b[1;32m    560\u001b[0m \u001b[0;34m\u001b[0m\u001b[0m\n",
      "\u001b[0;32m~/anaconda3/lib/python3.8/threading.py\u001b[0m in \u001b[0;36mwait\u001b[0;34m(self, timeout)\u001b[0m\n\u001b[1;32m    300\u001b[0m         \u001b[0;32mtry\u001b[0m\u001b[0;34m:\u001b[0m    \u001b[0;31m# restore state no matter what (e.g., KeyboardInterrupt)\u001b[0m\u001b[0;34m\u001b[0m\u001b[0;34m\u001b[0m\u001b[0m\n\u001b[1;32m    301\u001b[0m             \u001b[0;32mif\u001b[0m \u001b[0mtimeout\u001b[0m \u001b[0;32mis\u001b[0m \u001b[0;32mNone\u001b[0m\u001b[0;34m:\u001b[0m\u001b[0;34m\u001b[0m\u001b[0;34m\u001b[0m\u001b[0m\n\u001b[0;32m--> 302\u001b[0;31m                 \u001b[0mwaiter\u001b[0m\u001b[0;34m.\u001b[0m\u001b[0macquire\u001b[0m\u001b[0;34m(\u001b[0m\u001b[0;34m)\u001b[0m\u001b[0;34m\u001b[0m\u001b[0;34m\u001b[0m\u001b[0m\n\u001b[0m\u001b[1;32m    303\u001b[0m                 \u001b[0mgotit\u001b[0m \u001b[0;34m=\u001b[0m \u001b[0;32mTrue\u001b[0m\u001b[0;34m\u001b[0m\u001b[0;34m\u001b[0m\u001b[0m\n\u001b[1;32m    304\u001b[0m             \u001b[0;32melse\u001b[0m\u001b[0;34m:\u001b[0m\u001b[0;34m\u001b[0m\u001b[0;34m\u001b[0m\u001b[0m\n",
      "\u001b[0;31mKeyboardInterrupt\u001b[0m: "
     ]
    },
    {
     "name": "stderr",
     "output_type": "stream",
     "text": [
      "Process ForkPoolWorker-226:\n",
      "Process ForkPoolWorker-225:\n",
      "Process ForkPoolWorker-223:\n",
      "Process ForkPoolWorker-224:\n",
      "Traceback (most recent call last):\n",
      "Traceback (most recent call last):\n",
      "Traceback (most recent call last):\n",
      "Traceback (most recent call last):\n",
      "  File \"/home/mahir/anaconda3/lib/python3.8/multiprocessing/process.py\", line 315, in _bootstrap\n",
      "    self.run()\n",
      "  File \"/home/mahir/anaconda3/lib/python3.8/multiprocessing/process.py\", line 315, in _bootstrap\n",
      "    self.run()\n",
      "  File \"/home/mahir/anaconda3/lib/python3.8/multiprocessing/process.py\", line 108, in run\n",
      "    self._target(*self._args, **self._kwargs)\n",
      "  File \"/home/mahir/anaconda3/lib/python3.8/multiprocessing/process.py\", line 108, in run\n",
      "    self._target(*self._args, **self._kwargs)\n",
      "  File \"/home/mahir/anaconda3/lib/python3.8/multiprocessing/pool.py\", line 114, in worker\n",
      "    task = get()\n",
      "  File \"/home/mahir/anaconda3/lib/python3.8/multiprocessing/process.py\", line 315, in _bootstrap\n",
      "    self.run()\n",
      "  File \"/home/mahir/anaconda3/lib/python3.8/multiprocessing/queues.py\", line 355, in get\n",
      "    with self._rlock:\n",
      "  File \"/home/mahir/anaconda3/lib/python3.8/multiprocessing/process.py\", line 315, in _bootstrap\n",
      "    self.run()\n",
      "  File \"/home/mahir/anaconda3/lib/python3.8/multiprocessing/pool.py\", line 114, in worker\n",
      "    task = get()\n",
      "  File \"/home/mahir/anaconda3/lib/python3.8/multiprocessing/synchronize.py\", line 95, in __enter__\n",
      "    return self._semlock.__enter__()\n",
      "  File \"/home/mahir/anaconda3/lib/python3.8/multiprocessing/queues.py\", line 355, in get\n",
      "    with self._rlock:\n",
      "  File \"/home/mahir/anaconda3/lib/python3.8/multiprocessing/process.py\", line 108, in run\n",
      "    self._target(*self._args, **self._kwargs)\n",
      "  File \"/home/mahir/anaconda3/lib/python3.8/multiprocessing/synchronize.py\", line 95, in __enter__\n",
      "    return self._semlock.__enter__()\n",
      "  File \"/home/mahir/anaconda3/lib/python3.8/multiprocessing/process.py\", line 108, in run\n",
      "    self._target(*self._args, **self._kwargs)\n",
      "  File \"/home/mahir/anaconda3/lib/python3.8/multiprocessing/pool.py\", line 114, in worker\n",
      "    task = get()\n",
      "KeyboardInterrupt\n",
      "  File \"/home/mahir/anaconda3/lib/python3.8/multiprocessing/pool.py\", line 114, in worker\n",
      "    task = get()\n",
      "  File \"/home/mahir/anaconda3/lib/python3.8/multiprocessing/queues.py\", line 355, in get\n",
      "    with self._rlock:\n",
      "  File \"/home/mahir/anaconda3/lib/python3.8/multiprocessing/queues.py\", line 355, in get\n",
      "    with self._rlock:\n",
      "  File \"/home/mahir/anaconda3/lib/python3.8/multiprocessing/synchronize.py\", line 95, in __enter__\n",
      "    return self._semlock.__enter__()\n",
      "KeyboardInterrupt\n",
      "KeyboardInterrupt\n",
      "  File \"/home/mahir/anaconda3/lib/python3.8/multiprocessing/synchronize.py\", line 95, in __enter__\n",
      "    return self._semlock.__enter__()\n",
      "KeyboardInterrupt\n"
     ]
    }
   ],
   "source": [
    "# lst_alpha = [0, 0.1, 1, 10, 100, 1000]\n",
    "# lst_alpha = [0]\n",
    "lst_alpha = [1, 2, 3, 4, 5, 6]\n",
    "num_pool = 2\n",
    "\n",
    "res_alpha = []\n",
    "\n",
    "if __name__ == '__main__':\n",
    "    with Pool(num_pool) as pool:\n",
    "        digits = load_digits()\n",
    "        targets = digits.target\n",
    "        res_ = pool.map(find_clusters_with_entropy, tqdm(lst_alpha))\n",
    "    #     res_ = pool.map(f, tqdm(lst_alpha))\n",
    "        print(\"hi1\")\n",
    "        res_alpha.append(res_)\n",
    "        print(\"hi2\")"
   ]
  },
  {
   "cell_type": "code",
   "execution_count": 392,
   "metadata": {},
   "outputs": [],
   "source": [
    "pool = Pool(4)\n",
    "\n",
    "def square(x):\n",
    "\n",
    "    return x**2\n",
    "\n",
    "if __name__ == '__main__':\n",
    "    with Pool(num_pool) as pool:\n",
    "        results=pool.map(square,range(1,20))"
   ]
  },
  {
   "cell_type": "code",
   "execution_count": 306,
   "metadata": {},
   "outputs": [
    {
     "data": {
      "text/html": [
       "<div>\n",
       "<style scoped>\n",
       "    .dataframe tbody tr th:only-of-type {\n",
       "        vertical-align: middle;\n",
       "    }\n",
       "\n",
       "    .dataframe tbody tr th {\n",
       "        vertical-align: top;\n",
       "    }\n",
       "\n",
       "    .dataframe thead th {\n",
       "        text-align: right;\n",
       "    }\n",
       "</style>\n",
       "<table border=\"1\" class=\"dataframe\">\n",
       "  <thead>\n",
       "    <tr style=\"text-align: right;\">\n",
       "      <th></th>\n",
       "      <th>0</th>\n",
       "      <th>1</th>\n",
       "      <th>2</th>\n",
       "      <th>3</th>\n",
       "      <th>4</th>\n",
       "      <th>5</th>\n",
       "      <th>6</th>\n",
       "      <th>7</th>\n",
       "      <th>8</th>\n",
       "      <th>9</th>\n",
       "      <th>...</th>\n",
       "      <th>490</th>\n",
       "      <th>491</th>\n",
       "      <th>492</th>\n",
       "      <th>493</th>\n",
       "      <th>494</th>\n",
       "      <th>495</th>\n",
       "      <th>496</th>\n",
       "      <th>497</th>\n",
       "      <th>498</th>\n",
       "      <th>499</th>\n",
       "    </tr>\n",
       "  </thead>\n",
       "  <tbody>\n",
       "    <tr>\n",
       "      <th>0</th>\n",
       "      <td>9.223372e+18</td>\n",
       "      <td>9.223372e+18</td>\n",
       "      <td>9.223372e+18</td>\n",
       "      <td>9.223372e+18</td>\n",
       "      <td>9.223372e+18</td>\n",
       "      <td>9.223372e+18</td>\n",
       "      <td>9.223372e+18</td>\n",
       "      <td>9.223372e+18</td>\n",
       "      <td>9.223372e+18</td>\n",
       "      <td>9.223372e+18</td>\n",
       "      <td>...</td>\n",
       "      <td>9.223372e+18</td>\n",
       "      <td>9.223372e+18</td>\n",
       "      <td>9.223372e+18</td>\n",
       "      <td>9.223372e+18</td>\n",
       "      <td>9.223372e+18</td>\n",
       "      <td>9.223372e+18</td>\n",
       "      <td>9.223372e+18</td>\n",
       "      <td>9.223372e+18</td>\n",
       "      <td>9.223372e+18</td>\n",
       "      <td>9.223372e+18</td>\n",
       "    </tr>\n",
       "    <tr>\n",
       "      <th>1</th>\n",
       "      <td>9.223372e+18</td>\n",
       "      <td>9.223372e+18</td>\n",
       "      <td>9.223372e+18</td>\n",
       "      <td>9.223372e+18</td>\n",
       "      <td>9.223372e+18</td>\n",
       "      <td>9.223372e+18</td>\n",
       "      <td>9.223372e+18</td>\n",
       "      <td>9.223372e+18</td>\n",
       "      <td>9.223372e+18</td>\n",
       "      <td>9.223372e+18</td>\n",
       "      <td>...</td>\n",
       "      <td>9.223372e+18</td>\n",
       "      <td>9.223372e+18</td>\n",
       "      <td>9.223372e+18</td>\n",
       "      <td>9.223372e+18</td>\n",
       "      <td>9.223372e+18</td>\n",
       "      <td>9.223372e+18</td>\n",
       "      <td>9.223372e+18</td>\n",
       "      <td>9.223372e+18</td>\n",
       "      <td>9.223372e+18</td>\n",
       "      <td>9.223372e+18</td>\n",
       "    </tr>\n",
       "    <tr>\n",
       "      <th>2</th>\n",
       "      <td>9.223372e+18</td>\n",
       "      <td>9.223372e+18</td>\n",
       "      <td>9.223372e+18</td>\n",
       "      <td>9.223372e+18</td>\n",
       "      <td>9.223372e+18</td>\n",
       "      <td>9.223372e+18</td>\n",
       "      <td>9.223372e+18</td>\n",
       "      <td>9.223372e+18</td>\n",
       "      <td>9.223372e+18</td>\n",
       "      <td>9.223372e+18</td>\n",
       "      <td>...</td>\n",
       "      <td>9.223372e+18</td>\n",
       "      <td>9.223372e+18</td>\n",
       "      <td>9.223372e+18</td>\n",
       "      <td>9.223372e+18</td>\n",
       "      <td>9.223372e+18</td>\n",
       "      <td>9.223372e+18</td>\n",
       "      <td>9.223372e+18</td>\n",
       "      <td>9.223372e+18</td>\n",
       "      <td>9.223372e+18</td>\n",
       "      <td>9.223372e+18</td>\n",
       "    </tr>\n",
       "    <tr>\n",
       "      <th>3</th>\n",
       "      <td>9.223372e+18</td>\n",
       "      <td>9.223372e+18</td>\n",
       "      <td>9.223372e+18</td>\n",
       "      <td>9.223372e+18</td>\n",
       "      <td>9.223372e+18</td>\n",
       "      <td>9.223372e+18</td>\n",
       "      <td>9.223372e+18</td>\n",
       "      <td>9.223372e+18</td>\n",
       "      <td>9.223372e+18</td>\n",
       "      <td>9.223372e+18</td>\n",
       "      <td>...</td>\n",
       "      <td>9.223372e+18</td>\n",
       "      <td>9.223372e+18</td>\n",
       "      <td>9.223372e+18</td>\n",
       "      <td>9.223372e+18</td>\n",
       "      <td>9.223372e+18</td>\n",
       "      <td>9.223372e+18</td>\n",
       "      <td>9.223372e+18</td>\n",
       "      <td>9.223372e+18</td>\n",
       "      <td>9.223372e+18</td>\n",
       "      <td>9.223372e+18</td>\n",
       "    </tr>\n",
       "    <tr>\n",
       "      <th>4</th>\n",
       "      <td>9.223372e+18</td>\n",
       "      <td>9.223372e+18</td>\n",
       "      <td>9.223372e+18</td>\n",
       "      <td>9.223372e+18</td>\n",
       "      <td>9.223372e+18</td>\n",
       "      <td>9.223372e+18</td>\n",
       "      <td>9.223372e+18</td>\n",
       "      <td>9.223372e+18</td>\n",
       "      <td>9.223372e+18</td>\n",
       "      <td>9.223372e+18</td>\n",
       "      <td>...</td>\n",
       "      <td>9.223372e+18</td>\n",
       "      <td>9.223372e+18</td>\n",
       "      <td>9.223372e+18</td>\n",
       "      <td>9.223372e+18</td>\n",
       "      <td>9.223372e+18</td>\n",
       "      <td>9.223372e+18</td>\n",
       "      <td>9.223372e+18</td>\n",
       "      <td>9.223372e+18</td>\n",
       "      <td>9.223372e+18</td>\n",
       "      <td>9.223372e+18</td>\n",
       "    </tr>\n",
       "    <tr>\n",
       "      <th>...</th>\n",
       "      <td>...</td>\n",
       "      <td>...</td>\n",
       "      <td>...</td>\n",
       "      <td>...</td>\n",
       "      <td>...</td>\n",
       "      <td>...</td>\n",
       "      <td>...</td>\n",
       "      <td>...</td>\n",
       "      <td>...</td>\n",
       "      <td>...</td>\n",
       "      <td>...</td>\n",
       "      <td>...</td>\n",
       "      <td>...</td>\n",
       "      <td>...</td>\n",
       "      <td>...</td>\n",
       "      <td>...</td>\n",
       "      <td>...</td>\n",
       "      <td>...</td>\n",
       "      <td>...</td>\n",
       "      <td>...</td>\n",
       "      <td>...</td>\n",
       "    </tr>\n",
       "    <tr>\n",
       "      <th>495</th>\n",
       "      <td>9.223372e+18</td>\n",
       "      <td>9.223372e+18</td>\n",
       "      <td>9.223372e+18</td>\n",
       "      <td>9.223372e+18</td>\n",
       "      <td>9.223372e+18</td>\n",
       "      <td>9.223372e+18</td>\n",
       "      <td>9.223372e+18</td>\n",
       "      <td>9.223372e+18</td>\n",
       "      <td>9.223372e+18</td>\n",
       "      <td>9.223372e+18</td>\n",
       "      <td>...</td>\n",
       "      <td>9.223372e+18</td>\n",
       "      <td>9.223372e+18</td>\n",
       "      <td>9.223372e+18</td>\n",
       "      <td>9.223372e+18</td>\n",
       "      <td>9.223372e+18</td>\n",
       "      <td>9.223372e+18</td>\n",
       "      <td>9.223372e+18</td>\n",
       "      <td>9.223372e+18</td>\n",
       "      <td>9.223372e+18</td>\n",
       "      <td>9.223372e+18</td>\n",
       "    </tr>\n",
       "    <tr>\n",
       "      <th>496</th>\n",
       "      <td>9.223372e+18</td>\n",
       "      <td>9.223372e+18</td>\n",
       "      <td>9.223372e+18</td>\n",
       "      <td>9.223372e+18</td>\n",
       "      <td>9.223372e+18</td>\n",
       "      <td>9.223372e+18</td>\n",
       "      <td>9.223372e+18</td>\n",
       "      <td>9.223372e+18</td>\n",
       "      <td>9.223372e+18</td>\n",
       "      <td>9.223372e+18</td>\n",
       "      <td>...</td>\n",
       "      <td>9.223372e+18</td>\n",
       "      <td>9.223372e+18</td>\n",
       "      <td>9.223372e+18</td>\n",
       "      <td>9.223372e+18</td>\n",
       "      <td>9.223372e+18</td>\n",
       "      <td>9.223372e+18</td>\n",
       "      <td>9.223372e+18</td>\n",
       "      <td>9.223372e+18</td>\n",
       "      <td>9.223372e+18</td>\n",
       "      <td>9.223372e+18</td>\n",
       "    </tr>\n",
       "    <tr>\n",
       "      <th>497</th>\n",
       "      <td>9.223372e+18</td>\n",
       "      <td>9.223372e+18</td>\n",
       "      <td>9.223372e+18</td>\n",
       "      <td>9.223372e+18</td>\n",
       "      <td>9.223372e+18</td>\n",
       "      <td>9.223372e+18</td>\n",
       "      <td>9.223372e+18</td>\n",
       "      <td>9.223372e+18</td>\n",
       "      <td>9.223372e+18</td>\n",
       "      <td>9.223372e+18</td>\n",
       "      <td>...</td>\n",
       "      <td>9.223372e+18</td>\n",
       "      <td>9.223372e+18</td>\n",
       "      <td>9.223372e+18</td>\n",
       "      <td>9.223372e+18</td>\n",
       "      <td>9.223372e+18</td>\n",
       "      <td>9.223372e+18</td>\n",
       "      <td>9.223372e+18</td>\n",
       "      <td>9.223372e+18</td>\n",
       "      <td>9.223372e+18</td>\n",
       "      <td>9.223372e+18</td>\n",
       "    </tr>\n",
       "    <tr>\n",
       "      <th>498</th>\n",
       "      <td>9.223372e+18</td>\n",
       "      <td>9.223372e+18</td>\n",
       "      <td>9.223372e+18</td>\n",
       "      <td>9.223372e+18</td>\n",
       "      <td>9.223372e+18</td>\n",
       "      <td>9.223372e+18</td>\n",
       "      <td>9.223372e+18</td>\n",
       "      <td>9.223372e+18</td>\n",
       "      <td>9.223372e+18</td>\n",
       "      <td>9.223372e+18</td>\n",
       "      <td>...</td>\n",
       "      <td>9.223372e+18</td>\n",
       "      <td>9.223372e+18</td>\n",
       "      <td>9.223372e+18</td>\n",
       "      <td>9.223372e+18</td>\n",
       "      <td>9.223372e+18</td>\n",
       "      <td>9.223372e+18</td>\n",
       "      <td>9.223372e+18</td>\n",
       "      <td>9.223372e+18</td>\n",
       "      <td>9.223372e+18</td>\n",
       "      <td>9.223372e+18</td>\n",
       "    </tr>\n",
       "    <tr>\n",
       "      <th>499</th>\n",
       "      <td>9.223372e+18</td>\n",
       "      <td>9.223372e+18</td>\n",
       "      <td>9.223372e+18</td>\n",
       "      <td>9.223372e+18</td>\n",
       "      <td>9.223372e+18</td>\n",
       "      <td>9.223372e+18</td>\n",
       "      <td>9.223372e+18</td>\n",
       "      <td>9.223372e+18</td>\n",
       "      <td>9.223372e+18</td>\n",
       "      <td>9.223372e+18</td>\n",
       "      <td>...</td>\n",
       "      <td>9.223372e+18</td>\n",
       "      <td>9.223372e+18</td>\n",
       "      <td>9.223372e+18</td>\n",
       "      <td>9.223372e+18</td>\n",
       "      <td>9.223372e+18</td>\n",
       "      <td>9.223372e+18</td>\n",
       "      <td>9.223372e+18</td>\n",
       "      <td>9.223372e+18</td>\n",
       "      <td>9.223372e+18</td>\n",
       "      <td>9.223372e+18</td>\n",
       "    </tr>\n",
       "  </tbody>\n",
       "</table>\n",
       "<p>500 rows × 500 columns</p>\n",
       "</div>"
      ],
      "text/plain": [
       "              0             1             2             3             4    \\\n",
       "0    9.223372e+18  9.223372e+18  9.223372e+18  9.223372e+18  9.223372e+18   \n",
       "1    9.223372e+18  9.223372e+18  9.223372e+18  9.223372e+18  9.223372e+18   \n",
       "2    9.223372e+18  9.223372e+18  9.223372e+18  9.223372e+18  9.223372e+18   \n",
       "3    9.223372e+18  9.223372e+18  9.223372e+18  9.223372e+18  9.223372e+18   \n",
       "4    9.223372e+18  9.223372e+18  9.223372e+18  9.223372e+18  9.223372e+18   \n",
       "..            ...           ...           ...           ...           ...   \n",
       "495  9.223372e+18  9.223372e+18  9.223372e+18  9.223372e+18  9.223372e+18   \n",
       "496  9.223372e+18  9.223372e+18  9.223372e+18  9.223372e+18  9.223372e+18   \n",
       "497  9.223372e+18  9.223372e+18  9.223372e+18  9.223372e+18  9.223372e+18   \n",
       "498  9.223372e+18  9.223372e+18  9.223372e+18  9.223372e+18  9.223372e+18   \n",
       "499  9.223372e+18  9.223372e+18  9.223372e+18  9.223372e+18  9.223372e+18   \n",
       "\n",
       "              5             6             7             8             9    \\\n",
       "0    9.223372e+18  9.223372e+18  9.223372e+18  9.223372e+18  9.223372e+18   \n",
       "1    9.223372e+18  9.223372e+18  9.223372e+18  9.223372e+18  9.223372e+18   \n",
       "2    9.223372e+18  9.223372e+18  9.223372e+18  9.223372e+18  9.223372e+18   \n",
       "3    9.223372e+18  9.223372e+18  9.223372e+18  9.223372e+18  9.223372e+18   \n",
       "4    9.223372e+18  9.223372e+18  9.223372e+18  9.223372e+18  9.223372e+18   \n",
       "..            ...           ...           ...           ...           ...   \n",
       "495  9.223372e+18  9.223372e+18  9.223372e+18  9.223372e+18  9.223372e+18   \n",
       "496  9.223372e+18  9.223372e+18  9.223372e+18  9.223372e+18  9.223372e+18   \n",
       "497  9.223372e+18  9.223372e+18  9.223372e+18  9.223372e+18  9.223372e+18   \n",
       "498  9.223372e+18  9.223372e+18  9.223372e+18  9.223372e+18  9.223372e+18   \n",
       "499  9.223372e+18  9.223372e+18  9.223372e+18  9.223372e+18  9.223372e+18   \n",
       "\n",
       "     ...           490           491           492           493  \\\n",
       "0    ...  9.223372e+18  9.223372e+18  9.223372e+18  9.223372e+18   \n",
       "1    ...  9.223372e+18  9.223372e+18  9.223372e+18  9.223372e+18   \n",
       "2    ...  9.223372e+18  9.223372e+18  9.223372e+18  9.223372e+18   \n",
       "3    ...  9.223372e+18  9.223372e+18  9.223372e+18  9.223372e+18   \n",
       "4    ...  9.223372e+18  9.223372e+18  9.223372e+18  9.223372e+18   \n",
       "..   ...           ...           ...           ...           ...   \n",
       "495  ...  9.223372e+18  9.223372e+18  9.223372e+18  9.223372e+18   \n",
       "496  ...  9.223372e+18  9.223372e+18  9.223372e+18  9.223372e+18   \n",
       "497  ...  9.223372e+18  9.223372e+18  9.223372e+18  9.223372e+18   \n",
       "498  ...  9.223372e+18  9.223372e+18  9.223372e+18  9.223372e+18   \n",
       "499  ...  9.223372e+18  9.223372e+18  9.223372e+18  9.223372e+18   \n",
       "\n",
       "              494           495           496           497           498  \\\n",
       "0    9.223372e+18  9.223372e+18  9.223372e+18  9.223372e+18  9.223372e+18   \n",
       "1    9.223372e+18  9.223372e+18  9.223372e+18  9.223372e+18  9.223372e+18   \n",
       "2    9.223372e+18  9.223372e+18  9.223372e+18  9.223372e+18  9.223372e+18   \n",
       "3    9.223372e+18  9.223372e+18  9.223372e+18  9.223372e+18  9.223372e+18   \n",
       "4    9.223372e+18  9.223372e+18  9.223372e+18  9.223372e+18  9.223372e+18   \n",
       "..            ...           ...           ...           ...           ...   \n",
       "495  9.223372e+18  9.223372e+18  9.223372e+18  9.223372e+18  9.223372e+18   \n",
       "496  9.223372e+18  9.223372e+18  9.223372e+18  9.223372e+18  9.223372e+18   \n",
       "497  9.223372e+18  9.223372e+18  9.223372e+18  9.223372e+18  9.223372e+18   \n",
       "498  9.223372e+18  9.223372e+18  9.223372e+18  9.223372e+18  9.223372e+18   \n",
       "499  9.223372e+18  9.223372e+18  9.223372e+18  9.223372e+18  9.223372e+18   \n",
       "\n",
       "              499  \n",
       "0    9.223372e+18  \n",
       "1    9.223372e+18  \n",
       "2    9.223372e+18  \n",
       "3    9.223372e+18  \n",
       "4    9.223372e+18  \n",
       "..            ...  \n",
       "495  9.223372e+18  \n",
       "496  9.223372e+18  \n",
       "497  9.223372e+18  \n",
       "498  9.223372e+18  \n",
       "499  9.223372e+18  \n",
       "\n",
       "[500 rows x 500 columns]"
      ]
     },
     "execution_count": 306,
     "metadata": {},
     "output_type": "execute_result"
    }
   ],
   "source": [
    "pd.DataFrame(data)"
   ]
  },
  {
   "cell_type": "code",
   "execution_count": 307,
   "metadata": {},
   "outputs": [
    {
     "data": {
      "text/plain": [
       "10"
      ]
     },
     "execution_count": 307,
     "metadata": {},
     "output_type": "execute_result"
    }
   ],
   "source": [
    "len(np.unique(clusters[data.shape[0] - n_targets]))"
   ]
  },
  {
   "cell_type": "code",
   "execution_count": 308,
   "metadata": {},
   "outputs": [
    {
     "data": {
      "text/plain": [
       "3    53\n",
       "1    52\n",
       "6    51\n",
       "0    51\n",
       "7    50\n",
       "5    50\n",
       "2    50\n",
       "4    49\n",
       "9    48\n",
       "8    46\n",
       "dtype: int64"
      ]
     },
     "execution_count": 308,
     "metadata": {},
     "output_type": "execute_result"
    }
   ],
   "source": [
    "pd.DataFrame(targets).value_counts()"
   ]
  },
  {
   "cell_type": "code",
   "execution_count": 309,
   "metadata": {},
   "outputs": [
    {
     "data": {
      "text/html": [
       "<div>\n",
       "<style scoped>\n",
       "    .dataframe tbody tr th:only-of-type {\n",
       "        vertical-align: middle;\n",
       "    }\n",
       "\n",
       "    .dataframe tbody tr th {\n",
       "        vertical-align: top;\n",
       "    }\n",
       "\n",
       "    .dataframe thead th {\n",
       "        text-align: right;\n",
       "    }\n",
       "</style>\n",
       "<table border=\"1\" class=\"dataframe\">\n",
       "  <thead>\n",
       "    <tr style=\"text-align: right;\">\n",
       "      <th></th>\n",
       "      <th>69</th>\n",
       "      <th>103</th>\n",
       "      <th>211</th>\n",
       "      <th>327</th>\n",
       "      <th>414</th>\n",
       "      <th>442</th>\n",
       "      <th>961</th>\n",
       "      <th>963</th>\n",
       "      <th>986</th>\n",
       "      <th>990</th>\n",
       "    </tr>\n",
       "    <tr>\n",
       "      <th>index</th>\n",
       "      <th></th>\n",
       "      <th></th>\n",
       "      <th></th>\n",
       "      <th></th>\n",
       "      <th></th>\n",
       "      <th></th>\n",
       "      <th></th>\n",
       "      <th></th>\n",
       "      <th></th>\n",
       "      <th></th>\n",
       "    </tr>\n",
       "  </thead>\n",
       "  <tbody>\n",
       "    <tr>\n",
       "      <th>0</th>\n",
       "      <td>0</td>\n",
       "      <td>0</td>\n",
       "      <td>0</td>\n",
       "      <td>0</td>\n",
       "      <td>0</td>\n",
       "      <td>0</td>\n",
       "      <td>0</td>\n",
       "      <td>0</td>\n",
       "      <td>0</td>\n",
       "      <td>-51</td>\n",
       "    </tr>\n",
       "    <tr>\n",
       "      <th>1</th>\n",
       "      <td>0</td>\n",
       "      <td>0</td>\n",
       "      <td>0</td>\n",
       "      <td>0</td>\n",
       "      <td>0</td>\n",
       "      <td>-1</td>\n",
       "      <td>0</td>\n",
       "      <td>0</td>\n",
       "      <td>0</td>\n",
       "      <td>-51</td>\n",
       "    </tr>\n",
       "    <tr>\n",
       "      <th>2</th>\n",
       "      <td>0</td>\n",
       "      <td>0</td>\n",
       "      <td>0</td>\n",
       "      <td>0</td>\n",
       "      <td>0</td>\n",
       "      <td>0</td>\n",
       "      <td>0</td>\n",
       "      <td>0</td>\n",
       "      <td>0</td>\n",
       "      <td>-50</td>\n",
       "    </tr>\n",
       "    <tr>\n",
       "      <th>3</th>\n",
       "      <td>0</td>\n",
       "      <td>-1</td>\n",
       "      <td>0</td>\n",
       "      <td>0</td>\n",
       "      <td>0</td>\n",
       "      <td>0</td>\n",
       "      <td>0</td>\n",
       "      <td>0</td>\n",
       "      <td>0</td>\n",
       "      <td>-52</td>\n",
       "    </tr>\n",
       "    <tr>\n",
       "      <th>4</th>\n",
       "      <td>0</td>\n",
       "      <td>0</td>\n",
       "      <td>0</td>\n",
       "      <td>0</td>\n",
       "      <td>0</td>\n",
       "      <td>0</td>\n",
       "      <td>0</td>\n",
       "      <td>0</td>\n",
       "      <td>0</td>\n",
       "      <td>-49</td>\n",
       "    </tr>\n",
       "    <tr>\n",
       "      <th>5</th>\n",
       "      <td>0</td>\n",
       "      <td>0</td>\n",
       "      <td>0</td>\n",
       "      <td>-1</td>\n",
       "      <td>0</td>\n",
       "      <td>0</td>\n",
       "      <td>0</td>\n",
       "      <td>0</td>\n",
       "      <td>-48</td>\n",
       "      <td>-1</td>\n",
       "    </tr>\n",
       "    <tr>\n",
       "      <th>6</th>\n",
       "      <td>0</td>\n",
       "      <td>0</td>\n",
       "      <td>0</td>\n",
       "      <td>0</td>\n",
       "      <td>0</td>\n",
       "      <td>0</td>\n",
       "      <td>0</td>\n",
       "      <td>-51</td>\n",
       "      <td>0</td>\n",
       "      <td>0</td>\n",
       "    </tr>\n",
       "    <tr>\n",
       "      <th>7</th>\n",
       "      <td>0</td>\n",
       "      <td>0</td>\n",
       "      <td>-1</td>\n",
       "      <td>0</td>\n",
       "      <td>0</td>\n",
       "      <td>0</td>\n",
       "      <td>-37</td>\n",
       "      <td>0</td>\n",
       "      <td>0</td>\n",
       "      <td>-12</td>\n",
       "    </tr>\n",
       "    <tr>\n",
       "      <th>8</th>\n",
       "      <td>0</td>\n",
       "      <td>0</td>\n",
       "      <td>0</td>\n",
       "      <td>0</td>\n",
       "      <td>-1</td>\n",
       "      <td>0</td>\n",
       "      <td>0</td>\n",
       "      <td>0</td>\n",
       "      <td>0</td>\n",
       "      <td>-45</td>\n",
       "    </tr>\n",
       "    <tr>\n",
       "      <th>9</th>\n",
       "      <td>-1</td>\n",
       "      <td>0</td>\n",
       "      <td>0</td>\n",
       "      <td>0</td>\n",
       "      <td>0</td>\n",
       "      <td>0</td>\n",
       "      <td>0</td>\n",
       "      <td>0</td>\n",
       "      <td>0</td>\n",
       "      <td>-47</td>\n",
       "    </tr>\n",
       "  </tbody>\n",
       "</table>\n",
       "</div>"
      ],
      "text/plain": [
       "       69   103  211  327  414  442  961  963  986  990\n",
       "index                                                  \n",
       "0        0    0    0    0    0    0    0    0    0  -51\n",
       "1        0    0    0    0    0   -1    0    0    0  -51\n",
       "2        0    0    0    0    0    0    0    0    0  -50\n",
       "3        0   -1    0    0    0    0    0    0    0  -52\n",
       "4        0    0    0    0    0    0    0    0    0  -49\n",
       "5        0    0    0   -1    0    0    0    0  -48   -1\n",
       "6        0    0    0    0    0    0    0  -51    0    0\n",
       "7        0    0   -1    0    0    0  -37    0    0  -12\n",
       "8        0    0    0    0   -1    0    0    0    0  -45\n",
       "9       -1    0    0    0    0    0    0    0    0  -47"
      ]
     },
     "execution_count": 309,
     "metadata": {},
     "output_type": "execute_result"
    }
   ],
   "source": [
    "n_targets = len(np.unique(targets))\n",
    "df_res = pd.DataFrame([clusters[data.shape[0] - n_targets], targets]).T\n",
    "df_res.columns = [\"cluster\", \"target\"]\n",
    "clusters_unique = sorted(np.unique(clusters[data.shape[0] - n_targets]))\n",
    "targets_unique = sorted(np.unique(targets))\n",
    "df_veng = pd.DataFrame([])\n",
    "df_veng[\"index\"] = targets_unique\n",
    "for i in clusters_unique:\n",
    "    lst_clust_i = []\n",
    "    for j in targets_unique:\n",
    "        lst_clust_i.append(-df_res[(df_res.cluster == i) & (df_res.target == j)].shape[0])\n",
    "    df_veng[i] = lst_clust_i\n",
    "df_veng.set_index(\"index\", inplace = True)\n",
    "df_veng"
   ]
  },
  {
   "cell_type": "code",
   "execution_count": 316,
   "metadata": {},
   "outputs": [
    {
     "data": {
      "text/plain": [
       "-0.382"
      ]
     },
     "execution_count": 316,
     "metadata": {},
     "output_type": "execute_result"
    }
   ],
   "source": [
    "data.shape[0]"
   ]
  },
  {
   "cell_type": "code",
   "execution_count": 15,
   "metadata": {},
   "outputs": [],
   "source": [
    "def cluster_score(targets, clusters, data):\n",
    "    num_elements = data.shape[0]\n",
    "#     print(num_elements)\n",
    "    n_targets = len(np.unique(targets))\n",
    "    df_res = pd.DataFrame([clusters[num_elements - n_targets], targets]).T\n",
    "    df_res.columns = [\"cluster\", \"target\"]\n",
    "    clusters_unique = sorted(np.unique(clusters[num_elements - n_targets]))\n",
    "    targets_unique = sorted(np.unique(targets))\n",
    "    df_veng = pd.DataFrame([])\n",
    "    df_veng[\"index\"] = targets_unique\n",
    "    for i in clusters_unique:\n",
    "        lst_clust_i = []\n",
    "        for j in targets_unique:\n",
    "            lst_clust_i.append(-df_res[(df_res.cluster == i) & (df_res.target == j)].shape[0])\n",
    "        df_veng[i] = lst_clust_i\n",
    "    df_veng.set_index(\"index\", inplace = True)\n",
    "    \n",
    "    df_veng.to_excel(\"Vengerian_matrix_alpha0.xlsx\", index = False)\n",
    "    display(df_veng)\n",
    "\n",
    "    row_ind, col_ind = linear_sum_assignment(df_veng)\n",
    "    \n",
    "    res_sum = 0\n",
    "    for i, j in zip(row_ind, col_ind):\n",
    "#         print(i, j)\n",
    "\n",
    "        res_sum += df_veng.loc[i][df_veng.columns[j]]\n",
    "    acc_res = -res_sum/num_elements\n",
    "    \n",
    "    return acc_res"
   ]
  },
  {
   "cell_type": "code",
   "execution_count": 477,
   "metadata": {},
   "outputs": [],
   "source": [
    "def cluster_score_v2(targets, clusters, data):\n",
    "    num_elements = data.shape[0]\n",
    "#     print(num_elements)\n",
    "    n_targets = len(np.unique(targets))\n",
    "    df_res = pd.DataFrame([clusters, targets]).T\n",
    "    df_res.columns = [\"cluster\", \"target\"]\n",
    "    clusters_unique = sorted(np.unique(clusters))\n",
    "    targets_unique = sorted(np.unique(targets))\n",
    "    df_veng = pd.DataFrame([])\n",
    "    df_veng[\"index\"] = targets_unique\n",
    "    for i in clusters_unique:\n",
    "        lst_clust_i = []\n",
    "        for j in targets_unique:\n",
    "            lst_clust_i.append(-df_res[(df_res.cluster == i) & (df_res.target == j)].shape[0])\n",
    "        df_veng[i] = lst_clust_i\n",
    "    df_veng.set_index(\"index\", inplace = True)\n",
    "\n",
    "    display(df_veng)\n",
    "    row_ind, col_ind = linear_sum_assignment(df_veng)\n",
    "    \n",
    "    res_sum = 0\n",
    "    for i, j in zip(row_ind, col_ind):\n",
    "#         print(i, j)\n",
    "\n",
    "        res_sum += df_veng.loc[i][df_veng.columns[j]]\n",
    "    acc_res = -res_sum/num_elements\n",
    "    \n",
    "    return acc_res"
   ]
  },
  {
   "cell_type": "code",
   "execution_count": 310,
   "metadata": {},
   "outputs": [
    {
     "data": {
      "text/plain": [
       "(array([0, 1, 2, 3, 4, 5, 6, 7, 8, 9]), array([9, 5, 3, 1, 2, 8, 7, 6, 4, 0]))"
      ]
     },
     "execution_count": 310,
     "metadata": {},
     "output_type": "execute_result"
    }
   ],
   "source": [
    "row_ind, col_ind = linear_sum_assignment(df_veng)\n",
    "row_ind, col_ind"
   ]
  },
  {
   "cell_type": "code",
   "execution_count": 311,
   "metadata": {},
   "outputs": [
    {
     "name": "stdout",
     "output_type": "stream",
     "text": [
      "0 9\n",
      "1 5\n",
      "2 3\n",
      "3 1\n",
      "4 2\n",
      "5 8\n",
      "6 7\n",
      "7 6\n",
      "8 4\n",
      "9 0\n"
     ]
    },
    {
     "data": {
      "text/plain": [
       "-0.382"
      ]
     },
     "execution_count": 311,
     "metadata": {},
     "output_type": "execute_result"
    }
   ],
   "source": [
    "res_sum = 0\n",
    "for i, j in zip(row_ind, col_ind):\n",
    "    print(i, j)\n",
    "    \n",
    "    res_sum += df_veng.loc[i][df_veng.columns[j]]\n",
    "acc_res = res_sum/data.shape[0]\n",
    "acc_res"
   ]
  },
  {
   "cell_type": "code",
   "execution_count": 459,
   "metadata": {},
   "outputs": [],
   "source": [
    "len_data = 500"
   ]
  },
  {
   "cell_type": "code",
   "execution_count": 460,
   "metadata": {},
   "outputs": [],
   "source": [
    "Z = linkage(digits.data[:len_data], 'single')"
   ]
  },
  {
   "cell_type": "code",
   "execution_count": 465,
   "metadata": {},
   "outputs": [
    {
     "data": {
      "text/plain": [
       "array([[482.        , 988.        ,  27.78488798, 358.        ],\n",
       "       [103.        , 989.        ,  27.82085549, 359.        ],\n",
       "       [985.        , 990.        ,  27.87471973, 407.        ],\n",
       "       [960.        , 991.        ,  28.08914381, 444.        ],\n",
       "       [ 69.        , 992.        ,  28.58321186, 445.        ],\n",
       "       [327.        , 993.        ,  28.96549672, 446.        ],\n",
       "       [962.        , 994.        ,  29.24038303, 497.        ],\n",
       "       [211.        , 995.        ,  29.49576241, 498.        ],\n",
       "       [414.        , 996.        ,  30.31501278, 499.        ],\n",
       "       [442.        , 997.        ,  33.91164992, 500.        ]])"
      ]
     },
     "execution_count": 465,
     "metadata": {},
     "output_type": "execute_result"
    }
   ],
   "source": [
    "Z[-10:]"
   ]
  },
  {
   "cell_type": "code",
   "execution_count": 472,
   "metadata": {},
   "outputs": [
    {
     "data": {
      "text/plain": [
       "(100, 100)"
      ]
     },
     "execution_count": 472,
     "metadata": {},
     "output_type": "execute_result"
    }
   ],
   "source": [
    "data.shape"
   ]
  },
  {
   "cell_type": "code",
   "execution_count": 473,
   "metadata": {},
   "outputs": [],
   "source": [
    "np.unique(fcluster(Z, 27.8, criterion='distance'))\n",
    "clsuters_library = fcluster(Z, 27.8, criterion='distance')\n",
    "data = pairwise_distances(digits.data[:len_data], digits.data[:len_data], metric='euclidean').copy()"
   ]
  },
  {
   "cell_type": "code",
   "execution_count": 478,
   "metadata": {},
   "outputs": [
    {
     "data": {
      "text/html": [
       "<div>\n",
       "<style scoped>\n",
       "    .dataframe tbody tr th:only-of-type {\n",
       "        vertical-align: middle;\n",
       "    }\n",
       "\n",
       "    .dataframe tbody tr th {\n",
       "        vertical-align: top;\n",
       "    }\n",
       "\n",
       "    .dataframe thead th {\n",
       "        text-align: right;\n",
       "    }\n",
       "</style>\n",
       "<table border=\"1\" class=\"dataframe\">\n",
       "  <thead>\n",
       "    <tr style=\"text-align: right;\">\n",
       "      <th></th>\n",
       "      <th>1</th>\n",
       "      <th>2</th>\n",
       "      <th>3</th>\n",
       "      <th>4</th>\n",
       "      <th>5</th>\n",
       "      <th>6</th>\n",
       "      <th>7</th>\n",
       "      <th>8</th>\n",
       "      <th>9</th>\n",
       "      <th>10</th>\n",
       "    </tr>\n",
       "    <tr>\n",
       "      <th>index</th>\n",
       "      <th></th>\n",
       "      <th></th>\n",
       "      <th></th>\n",
       "      <th></th>\n",
       "      <th></th>\n",
       "      <th></th>\n",
       "      <th></th>\n",
       "      <th></th>\n",
       "      <th></th>\n",
       "      <th></th>\n",
       "    </tr>\n",
       "  </thead>\n",
       "  <tbody>\n",
       "    <tr>\n",
       "      <th>0</th>\n",
       "      <td>0</td>\n",
       "      <td>0</td>\n",
       "      <td>0</td>\n",
       "      <td>-11</td>\n",
       "      <td>0</td>\n",
       "      <td>0</td>\n",
       "      <td>0</td>\n",
       "      <td>0</td>\n",
       "      <td>0</td>\n",
       "      <td>0</td>\n",
       "    </tr>\n",
       "    <tr>\n",
       "      <th>1</th>\n",
       "      <td>0</td>\n",
       "      <td>0</td>\n",
       "      <td>0</td>\n",
       "      <td>-12</td>\n",
       "      <td>0</td>\n",
       "      <td>0</td>\n",
       "      <td>0</td>\n",
       "      <td>0</td>\n",
       "      <td>0</td>\n",
       "      <td>0</td>\n",
       "    </tr>\n",
       "    <tr>\n",
       "      <th>2</th>\n",
       "      <td>0</td>\n",
       "      <td>0</td>\n",
       "      <td>0</td>\n",
       "      <td>-10</td>\n",
       "      <td>0</td>\n",
       "      <td>0</td>\n",
       "      <td>0</td>\n",
       "      <td>0</td>\n",
       "      <td>0</td>\n",
       "      <td>0</td>\n",
       "    </tr>\n",
       "    <tr>\n",
       "      <th>3</th>\n",
       "      <td>0</td>\n",
       "      <td>0</td>\n",
       "      <td>0</td>\n",
       "      <td>-12</td>\n",
       "      <td>0</td>\n",
       "      <td>0</td>\n",
       "      <td>0</td>\n",
       "      <td>0</td>\n",
       "      <td>0</td>\n",
       "      <td>0</td>\n",
       "    </tr>\n",
       "    <tr>\n",
       "      <th>4</th>\n",
       "      <td>0</td>\n",
       "      <td>0</td>\n",
       "      <td>0</td>\n",
       "      <td>-8</td>\n",
       "      <td>0</td>\n",
       "      <td>0</td>\n",
       "      <td>0</td>\n",
       "      <td>0</td>\n",
       "      <td>0</td>\n",
       "      <td>0</td>\n",
       "    </tr>\n",
       "    <tr>\n",
       "      <th>5</th>\n",
       "      <td>0</td>\n",
       "      <td>0</td>\n",
       "      <td>-8</td>\n",
       "      <td>-1</td>\n",
       "      <td>0</td>\n",
       "      <td>0</td>\n",
       "      <td>0</td>\n",
       "      <td>0</td>\n",
       "      <td>0</td>\n",
       "      <td>0</td>\n",
       "    </tr>\n",
       "    <tr>\n",
       "      <th>6</th>\n",
       "      <td>-11</td>\n",
       "      <td>0</td>\n",
       "      <td>0</td>\n",
       "      <td>0</td>\n",
       "      <td>0</td>\n",
       "      <td>0</td>\n",
       "      <td>0</td>\n",
       "      <td>0</td>\n",
       "      <td>0</td>\n",
       "      <td>0</td>\n",
       "    </tr>\n",
       "    <tr>\n",
       "      <th>7</th>\n",
       "      <td>0</td>\n",
       "      <td>-10</td>\n",
       "      <td>0</td>\n",
       "      <td>0</td>\n",
       "      <td>0</td>\n",
       "      <td>0</td>\n",
       "      <td>0</td>\n",
       "      <td>0</td>\n",
       "      <td>0</td>\n",
       "      <td>0</td>\n",
       "    </tr>\n",
       "    <tr>\n",
       "      <th>8</th>\n",
       "      <td>0</td>\n",
       "      <td>0</td>\n",
       "      <td>0</td>\n",
       "      <td>-8</td>\n",
       "      <td>0</td>\n",
       "      <td>0</td>\n",
       "      <td>0</td>\n",
       "      <td>0</td>\n",
       "      <td>0</td>\n",
       "      <td>0</td>\n",
       "    </tr>\n",
       "    <tr>\n",
       "      <th>9</th>\n",
       "      <td>0</td>\n",
       "      <td>0</td>\n",
       "      <td>0</td>\n",
       "      <td>-8</td>\n",
       "      <td>0</td>\n",
       "      <td>-1</td>\n",
       "      <td>0</td>\n",
       "      <td>0</td>\n",
       "      <td>0</td>\n",
       "      <td>0</td>\n",
       "    </tr>\n",
       "  </tbody>\n",
       "</table>\n",
       "</div>"
      ],
      "text/plain": [
       "       1   2   3   4   5   6   7   8   9   10\n",
       "index                                        \n",
       "0       0   0   0 -11   0   0   0   0   0   0\n",
       "1       0   0   0 -12   0   0   0   0   0   0\n",
       "2       0   0   0 -10   0   0   0   0   0   0\n",
       "3       0   0   0 -12   0   0   0   0   0   0\n",
       "4       0   0   0  -8   0   0   0   0   0   0\n",
       "5       0   0  -8  -1   0   0   0   0   0   0\n",
       "6     -11   0   0   0   0   0   0   0   0   0\n",
       "7       0 -10   0   0   0   0   0   0   0   0\n",
       "8       0   0   0  -8   0   0   0   0   0   0\n",
       "9       0   0   0  -8   0  -1   0   0   0   0"
      ]
     },
     "metadata": {},
     "output_type": "display_data"
    },
    {
     "data": {
      "text/plain": [
       "0.084"
      ]
     },
     "execution_count": 478,
     "metadata": {},
     "output_type": "execute_result"
    }
   ],
   "source": [
    "cluster_score_v2(targets, clsuters_library, data)"
   ]
  },
  {
   "cell_type": "code",
   "execution_count": 178,
   "metadata": {},
   "outputs": [
    {
     "name": "stdout",
     "output_type": "stream",
     "text": [
      "[0 2 1]\n"
     ]
    },
    {
     "data": {
      "text/plain": [
       "array([[-4, -1, -3],\n",
       "       [-2,  0, -5],\n",
       "       [-3, -2, -2]])"
      ]
     },
     "metadata": {},
     "output_type": "display_data"
    },
    {
     "data": {
      "text/plain": [
       "-11"
      ]
     },
     "execution_count": 178,
     "metadata": {},
     "output_type": "execute_result"
    }
   ],
   "source": [
    "cost = np.array([[-4, -1, -3], [-2, 0, -5], [-3, -2, -2]])\n",
    "from scipy.optimize import linear_sum_assignment\n",
    "row_ind, col_ind = linear_sum_assignment(cost)\n",
    "print(col_ind)\n",
    "display(cost)\n",
    "\n",
    "cost[row_ind, col_ind].sum()"
   ]
  },
  {
   "cell_type": "code",
   "execution_count": 157,
   "metadata": {},
   "outputs": [
    {
     "name": "stdout",
     "output_type": "stream",
     "text": [
      "100 100\n",
      "99 99\n",
      "98 98\n",
      "97 97\n",
      "96 96\n",
      "95 95\n",
      "94 94\n",
      "93 93\n",
      "92 92\n",
      "91 91\n",
      "90 90\n",
      "89 89\n",
      "88 88\n",
      "87 87\n",
      "86 86\n",
      "85 85\n",
      "84 84\n",
      "83 83\n",
      "82 82\n",
      "81 81\n",
      "80 80\n",
      "79 79\n",
      "78 78\n",
      "77 77\n",
      "76 76\n",
      "75 75\n",
      "74 74\n",
      "73 73\n",
      "72 72\n",
      "71 71\n",
      "70 70\n",
      "69 69\n",
      "68 68\n",
      "67 67\n",
      "66 66\n",
      "65 65\n",
      "64 64\n",
      "63 63\n",
      "62 62\n",
      "61 61\n",
      "60 60\n",
      "59 59\n",
      "58 58\n",
      "57 57\n",
      "56 56\n",
      "55 55\n",
      "54 54\n",
      "53 53\n",
      "52 52\n",
      "51 51\n",
      "50 50\n",
      "49 49\n",
      "48 48\n",
      "47 47\n",
      "46 46\n",
      "45 45\n",
      "44 44\n",
      "43 43\n",
      "42 42\n",
      "41 41\n",
      "40 40\n",
      "39 39\n",
      "38 38\n",
      "37 37\n",
      "36 36\n",
      "35 35\n",
      "34 34\n",
      "33 33\n",
      "32 32\n",
      "31 31\n",
      "30 30\n",
      "29 29\n",
      "28 28\n",
      "27 27\n",
      "26 26\n",
      "25 25\n",
      "24 24\n",
      "23 23\n",
      "22 22\n",
      "21 21\n",
      "20 20\n",
      "19 19\n",
      "18 18\n",
      "17 17\n",
      "16 16\n",
      "15 15\n",
      "14 14\n",
      "13 13\n",
      "12 12\n",
      "11 11\n",
      "10 10\n",
      "9 9\n",
      "8 8\n",
      "7 7\n",
      "6 6\n",
      "5 5\n",
      "4 4\n",
      "3 3\n",
      "2 2\n",
      "1 1\n"
     ]
    }
   ],
   "source": [
    "n_targets = 10\n",
    "\n",
    "for n_targets in range(0, data.shape[0], 1):\n",
    "    print(data.shape[0] - n_targets, len(np.unique(clusters[n_targets])))"
   ]
  },
  {
   "cell_type": "code",
   "execution_count": 159,
   "metadata": {},
   "outputs": [
    {
     "data": {
      "text/html": [
       "<div>\n",
       "<style scoped>\n",
       "    .dataframe tbody tr th:only-of-type {\n",
       "        vertical-align: middle;\n",
       "    }\n",
       "\n",
       "    .dataframe tbody tr th {\n",
       "        vertical-align: top;\n",
       "    }\n",
       "\n",
       "    .dataframe thead th {\n",
       "        text-align: right;\n",
       "    }\n",
       "</style>\n",
       "<table border=\"1\" class=\"dataframe\">\n",
       "  <thead>\n",
       "    <tr style=\"text-align: right;\">\n",
       "      <th></th>\n",
       "      <th>0</th>\n",
       "      <th>1</th>\n",
       "    </tr>\n",
       "  </thead>\n",
       "  <tbody>\n",
       "    <tr>\n",
       "      <th>1</th>\n",
       "      <td>1</td>\n",
       "      <td>106</td>\n",
       "    </tr>\n",
       "    <tr>\n",
       "      <th>93</th>\n",
       "      <td>93</td>\n",
       "      <td>106</td>\n",
       "    </tr>\n",
       "  </tbody>\n",
       "</table>\n",
       "</div>"
      ],
      "text/plain": [
       "     0    1\n",
       "1    1  106\n",
       "93  93  106"
      ]
     },
     "execution_count": 159,
     "metadata": {},
     "output_type": "execute_result"
    }
   ],
   "source": [
    "df_tmp = pd.DataFrame([clusters[5], clusters[6]]).T\n",
    "df_tmp[df_tmp[0] != df_tmp[1]]\n",
    "# df_tmp[df_tmp[0] == 105]"
   ]
  },
  {
   "cell_type": "code",
   "execution_count": 98,
   "metadata": {},
   "outputs": [],
   "source": [
    "\n",
    "el_cluster_i_tmp = targets[el_cluster_i].copy()\n",
    "np.append(el_cluster_i_tmp, trg)\n",
    "counts_elements = Counter(el_cluster_i_tmp)\n",
    "entropy_array[trg] = entropy(np.fromiter(list(counts_elements.values()), dtype = float)/len_el_cluster_i_next)\n",
    "\n"
   ]
  },
  {
   "cell_type": "code",
   "execution_count": 101,
   "metadata": {},
   "outputs": [
    {
     "ename": "IndexError",
     "evalue": "list index out of range",
     "output_type": "error",
     "traceback": [
      "\u001b[0;31m---------------------------------------------------------------------------\u001b[0m",
      "\u001b[0;31mIndexError\u001b[0m                                Traceback (most recent call last)",
      "\u001b[0;32m<ipython-input-101-9553b5fa3e21>\u001b[0m in \u001b[0;36m<module>\u001b[0;34m\u001b[0m\n\u001b[0;32m----> 1\u001b[0;31m \u001b[0mentropy_array\u001b[0m\u001b[0;34m[\u001b[0m\u001b[0mtrg\u001b[0m\u001b[0;34m]\u001b[0m\u001b[0;34m\u001b[0m\u001b[0;34m\u001b[0m\u001b[0m\n\u001b[0m",
      "\u001b[0;31mIndexError\u001b[0m: list index out of range"
     ]
    }
   ],
   "source": [
    "entropy_array[trg]"
   ]
  },
  {
   "cell_type": "code",
   "execution_count": 89,
   "metadata": {},
   "outputs": [
    {
     "data": {
      "text/plain": [
       "array([0.1])"
      ]
     },
     "execution_count": 89,
     "metadata": {},
     "output_type": "execute_result"
    }
   ],
   "source": [
    "np.fromiter(list(counts_elements.values()), dtype = float)/10"
   ]
  },
  {
   "cell_type": "code",
   "execution_count": 42,
   "metadata": {},
   "outputs": [
    {
     "data": {
      "text/html": [
       "<div>\n",
       "<style scoped>\n",
       "    .dataframe tbody tr th:only-of-type {\n",
       "        vertical-align: middle;\n",
       "    }\n",
       "\n",
       "    .dataframe tbody tr th {\n",
       "        vertical-align: top;\n",
       "    }\n",
       "\n",
       "    .dataframe thead th {\n",
       "        text-align: right;\n",
       "    }\n",
       "</style>\n",
       "<table border=\"1\" class=\"dataframe\">\n",
       "  <thead>\n",
       "    <tr style=\"text-align: right;\">\n",
       "      <th></th>\n",
       "      <th>element</th>\n",
       "      <th>cluster</th>\n",
       "    </tr>\n",
       "  </thead>\n",
       "  <tbody>\n",
       "    <tr>\n",
       "      <th>10</th>\n",
       "      <td>10</td>\n",
       "      <td>10</td>\n",
       "    </tr>\n",
       "  </tbody>\n",
       "</table>\n",
       "</div>"
      ],
      "text/plain": [
       "    element  cluster\n",
       "10       10       10"
      ]
     },
     "execution_count": 42,
     "metadata": {},
     "output_type": "execute_result"
    }
   ],
   "source": [
    "df_clusters[df_clusters.cluster == array[i]]"
   ]
  },
  {
   "cell_type": "code",
   "execution_count": 190,
   "metadata": {},
   "outputs": [
    {
     "data": {
      "text/plain": [
       "(array([4, 9]), array([1, 1]))"
      ]
     },
     "execution_count": 190,
     "metadata": {},
     "output_type": "execute_result"
    }
   ],
   "source": [
    "np.unique(\n",
    "                    [targets[x] for x in el_cluster_i_copy]\n",
    "                    , return_counts=True\n",
    "                )"
   ]
  },
  {
   "cell_type": "code",
   "execution_count": 167,
   "metadata": {},
   "outputs": [
    {
     "data": {
      "text/plain": [
       "{0: [0, 1, 2, 3, 4, 5, 6, 7, 8, 9, 10, 11, 12, 13, 14, 15, 16, 17, 18, 19],\n",
       " 1: [0, 1, 2, 3, 4, 5, 6, 7, 8, 9, 10, 11, 12, 13, 14, 15, 16, 17, 18, 19],\n",
       " 2: [0, 1, 2, 3, 4, 5, 6, 7, 8, 9, 10, 11, 12, 13, 14, 15, 16, 17, 18, 19],\n",
       " 3: [0, 1, 2, 3, 4, 5, 6, 7, 8, 9, 10, 11, 12, 13, 14, 15, 16, 17, 18, 19],\n",
       " 4: [0, 1, 2, 3, 4, 5, 6, 7, 8, 9, 10, 11, 12, 13, 14, 15, 16, 17, 18, 19],\n",
       " 5: [0, 1, 2, 3, 4, 5, 6, 7, 8, 9, 10, 11, 12, 13, 14, 15, 16, 17, 18, 19],\n",
       " 6: [0, 1, 2, 3, 4, 5, 6, 7, 8, 9, 10, 11, 12, 13, 14, 15, 16, 17, 18, 19],\n",
       " 7: [0, 1, 2, 3, 4, 5, 6, 7, 8, 9, 10, 11, 12, 13, 14, 15, 16, 17, 18, 19],\n",
       " 8: [0, 1, 2, 3, 4, 5, 6, 7, 8, 9, 10, 11, 12, 13, 14, 15, 16, 17, 18, 19],\n",
       " 9: [0, 1, 2, 3, 4, 5, 6, 7, 8, 9, 10, 11, 12, 13, 14, 15, 16, 17, 18, 19],\n",
       " 10: [0, 1, 2, 3, 4, 5, 6, 7, 8, 9, 10, 11, 12, 13, 14, 15, 16, 17, 18, 19],\n",
       " 11: [0, 1, 2, 3, 4, 5, 6, 7, 8, 9, 10, 11, 12, 13, 14, 15, 16, 17, 18, 19],\n",
       " 12: [0, 1, 2, 3, 4, 5, 6, 7, 8, 9, 10, 11, 12, 13, 14, 15, 16, 17, 18, 19],\n",
       " 13: [0, 1, 2, 3, 4, 5, 6, 7, 8, 9, 10, 11, 12, 13, 14, 15, 16, 17, 18, 19],\n",
       " 14: [0, 1, 2, 3, 4, 5, 6, 7, 8, 9, 10, 11, 12, 13, 14, 15, 16, 17, 18, 19],\n",
       " 15: [0, 1, 2, 3, 4, 5, 6, 7, 8, 9, 10, 11, 12, 13, 14, 15, 16, 17, 18, 19],\n",
       " 16: [0, 1, 2, 3, 4, 5, 6, 7, 8, 9, 10, 11, 12, 13, 14, 15, 16, 17, 18, 19],\n",
       " 17: [0, 1, 2, 3, 4, 5, 6, 7, 8, 9, 10, 11, 12, 13, 14, 15, 16, 17, 18, 19],\n",
       " 18: [0, 1, 2, 3, 4, 5, 6, 7, 8, 9, 10, 11, 12, 13, 14, 15, 16, 17, 18, 19],\n",
       " 19: [0, 1, 2, 3, 4, 5, 6, 7, 8, 9, 10, 11, 12, 13, 14, 15, 16, 17, 18, 19]}"
      ]
     },
     "execution_count": 167,
     "metadata": {},
     "output_type": "execute_result"
    }
   ],
   "source": [
    "clusters"
   ]
  },
  {
   "cell_type": "code",
   "execution_count": 84,
   "metadata": {},
   "outputs": [
    {
     "ename": "IndexError",
     "evalue": "index 64 is out of bounds for axis 0 with size 64",
     "output_type": "error",
     "traceback": [
      "\u001b[0;31m---------------------------------------------------------------------------\u001b[0m",
      "\u001b[0;31mIndexError\u001b[0m                                Traceback (most recent call last)",
      "\u001b[0;32m<ipython-input-84-85f3d74f6c03>\u001b[0m in \u001b[0;36m<module>\u001b[0;34m\u001b[0m\n\u001b[0;32m----> 1\u001b[0;31m \u001b[0mtemp\u001b[0m \u001b[0;34m=\u001b[0m \u001b[0mmin\u001b[0m\u001b[0;34m(\u001b[0m\u001b[0mdigits\u001b[0m\u001b[0;34m.\u001b[0m\u001b[0mdata\u001b[0m\u001b[0;34m[\u001b[0m\u001b[0mcol_index\u001b[0m\u001b[0;34m]\u001b[0m\u001b[0;34m[\u001b[0m\u001b[0mi\u001b[0m\u001b[0;34m]\u001b[0m\u001b[0;34m,\u001b[0m\u001b[0mdigits\u001b[0m\u001b[0;34m.\u001b[0m\u001b[0mdata\u001b[0m\u001b[0;34m[\u001b[0m\u001b[0mrow_index\u001b[0m\u001b[0;34m]\u001b[0m\u001b[0;34m[\u001b[0m\u001b[0mi\u001b[0m\u001b[0;34m]\u001b[0m\u001b[0;34m)\u001b[0m\u001b[0;34m\u001b[0m\u001b[0;34m\u001b[0m\u001b[0m\n\u001b[0m",
      "\u001b[0;31mIndexError\u001b[0m: index 64 is out of bounds for axis 0 with size 64"
     ]
    }
   ],
   "source": [
    "temp = min(data[col_index][i],digits.data[row_index][i])"
   ]
  },
  {
   "cell_type": "code",
   "execution_count": 86,
   "metadata": {},
   "outputs": [
    {
     "data": {
      "text/plain": [
       "array([ 0.,  0., 10., 14.,  8.,  1.,  0.,  0.,  0.,  1.,  9.,  9.,  6.,\n",
       "        1.,  0.,  0.,  0.,  0.,  0.,  7.,  8., 12.,  0.,  0.,  0.,  0.,\n",
       "        0.,  9., 16.,  2.,  0.,  0.,  0.,  0.,  0.,  3., 15.,  7.,  0.,\n",
       "        0.,  0.,  0.,  0.,  0.,  4., 15.,  0.,  0.,  0.,  1., 10., 10.,\n",
       "        8., 16.,  3.,  0.,  0.,  1.,  8., 12., 12.,  5.,  0.,  0.])"
      ]
     },
     "execution_count": 86,
     "metadata": {},
     "output_type": "execute_result"
    }
   ],
   "source": [
    "digits.data[col_index]"
   ]
  },
  {
   "cell_type": "code",
   "execution_count": 58,
   "metadata": {},
   "outputs": [
    {
     "ename": "TypeError",
     "evalue": "'int' object is not iterable",
     "output_type": "error",
     "traceback": [
      "\u001b[0;31m---------------------------------------------------------------------------\u001b[0m",
      "\u001b[0;31mTypeError\u001b[0m                                 Traceback (most recent call last)",
      "\u001b[0;32m<ipython-input-58-199f95147c7c>\u001b[0m in \u001b[0;36m<module>\u001b[0;34m\u001b[0m\n\u001b[1;32m     11\u001b[0m \u001b[0;34m\u001b[0m\u001b[0m\n\u001b[1;32m     12\u001b[0m entropy(\n\u001b[0;32m---> 13\u001b[0;31m     \u001b[0;34m[\u001b[0m\u001b[0mtargets\u001b[0m\u001b[0;34m[\u001b[0m\u001b[0mx\u001b[0m\u001b[0;34m]\u001b[0m \u001b[0;32mfor\u001b[0m \u001b[0mx\u001b[0m \u001b[0;32min\u001b[0m \u001b[0mlist\u001b[0m\u001b[0;34m(\u001b[0m\u001b[0marray\u001b[0m\u001b[0;34m.\u001b[0m\u001b[0mindex\u001b[0m\u001b[0;34m(\u001b[0m\u001b[0marray\u001b[0m\u001b[0;34m[\u001b[0m\u001b[0mi\u001b[0m\u001b[0;34m]\u001b[0m\u001b[0;34m)\u001b[0m\u001b[0;34m)\u001b[0m\u001b[0;34m.\u001b[0m\u001b[0mappend\u001b[0m\u001b[0;34m(\u001b[0m\u001b[0mtargets\u001b[0m\u001b[0;34m[\u001b[0m\u001b[0mj\u001b[0m\u001b[0;34m]\u001b[0m\u001b[0;34m)\u001b[0m\u001b[0;34m]\u001b[0m\u001b[0;34m\u001b[0m\u001b[0;34m\u001b[0m\u001b[0m\n\u001b[0m\u001b[1;32m     14\u001b[0m )\n",
      "\u001b[0;31mTypeError\u001b[0m: 'int' object is not iterable"
     ]
    }
   ],
   "source": [
    "array = []\n",
    "\n",
    "\n",
    "for n in range(digits.data.shape[0]):\n",
    "    array.append(n)\n",
    "array = [0, 0, 1, 1, 2, 2]\n",
    "clusters = array.copy()\n",
    "\n",
    "i = 0\n",
    "j = 1\n",
    "\n",
    "entropy(\n",
    "    [targets[x] for x in list(array.index(array[i])).append(targets[j])]\n",
    ")"
   ]
  },
  {
   "cell_type": "code",
   "execution_count": 59,
   "metadata": {},
   "outputs": [
    {
     "data": {
      "text/plain": [
       "0"
      ]
     },
     "execution_count": 59,
     "metadata": {},
     "output_type": "execute_result"
    }
   ],
   "source": [
    "array.index(array[i])"
   ]
  },
  {
   "cell_type": "code",
   "execution_count": 53,
   "metadata": {},
   "outputs": [
    {
     "ename": "TypeError",
     "evalue": "'int' object is not iterable",
     "output_type": "error",
     "traceback": [
      "\u001b[0;31m---------------------------------------------------------------------------\u001b[0m",
      "\u001b[0;31mTypeError\u001b[0m                                 Traceback (most recent call last)",
      "\u001b[0;32m<ipython-input-53-b38f1ae5af51>\u001b[0m in \u001b[0;36m<module>\u001b[0;34m\u001b[0m\n\u001b[0;32m----> 1\u001b[0;31m \u001b[0mlist\u001b[0m\u001b[0;34m(\u001b[0m\u001b[0marray\u001b[0m\u001b[0;34m.\u001b[0m\u001b[0mindex\u001b[0m\u001b[0;34m(\u001b[0m\u001b[0marray\u001b[0m\u001b[0;34m[\u001b[0m\u001b[0mi\u001b[0m\u001b[0;34m]\u001b[0m\u001b[0;34m)\u001b[0m\u001b[0;34m)\u001b[0m\u001b[0;34m.\u001b[0m\u001b[0mappend\u001b[0m\u001b[0;34m(\u001b[0m\u001b[0mtargets\u001b[0m\u001b[0;34m[\u001b[0m\u001b[0mj\u001b[0m\u001b[0;34m]\u001b[0m\u001b[0;34m)\u001b[0m\u001b[0;34m\u001b[0m\u001b[0;34m\u001b[0m\u001b[0m\n\u001b[0m",
      "\u001b[0;31mTypeError\u001b[0m: 'int' object is not iterable"
     ]
    }
   ],
   "source": [
    "list(array.index(array[i])).append(targets[j])"
   ]
  },
  {
   "cell_type": "markdown",
   "metadata": {},
   "source": [
    "###### Every datapoint is different cluster initially "
   ]
  },
  {
   "cell_type": "code",
   "execution_count": 118,
   "metadata": {},
   "outputs": [
    {
     "data": {
      "text/plain": [
       "'1.19.2'"
      ]
     },
     "execution_count": 118,
     "metadata": {},
     "output_type": "execute_result"
    }
   ],
   "source": [
    "\n",
    "import scipy\n",
    "np.__version__"
   ]
  },
  {
   "cell_type": "code",
   "execution_count": null,
   "metadata": {},
   "outputs": [],
   "source": [
    "hierarchical_clustering(digits.data,\"single\",len(np.unique(targets)), targets, 0, True)"
   ]
  },
  {
   "cell_type": "code",
   "execution_count": 6,
   "metadata": {},
   "outputs": [
    {
     "name": "stdout",
     "output_type": "stream",
     "text": [
      "[0, 1, 2, 3, 4, 5]\n"
     ]
    },
    {
     "data": {
      "image/png": "[encoded data removed]",
      "text/plain": [
       "<Figure size 432x288 with 1 Axes>"
      ]
     },
     "metadata": {
      "needs_background": "light"
     },
     "output_type": "display_data"
    }
   ],
   "source": [
    "hierarchical_clustering(data,\"single\",6)"
   ]
  },
  {
   "cell_type": "code",
   "execution_count": 24,
   "metadata": {},
   "outputs": [
    {
     "ename": "TypeError",
     "evalue": "'int' object is not iterable",
     "output_type": "error",
     "traceback": [
      "\u001b[0;31m---------------------------------------------------------------------------\u001b[0m",
      "\u001b[0;31mTypeError\u001b[0m                                 Traceback (most recent call last)",
      "\u001b[0;32m<ipython-input-24-ccf16f6e9ff3>\u001b[0m in \u001b[0;36m<module>\u001b[0;34m\u001b[0m\n\u001b[0;32m----> 1\u001b[0;31m \u001b[0mhierarchical_clustering\u001b[0m\u001b[0;34m(\u001b[0m\u001b[0mdata\u001b[0m\u001b[0;34m,\u001b[0m\u001b[0;34m\"single\"\u001b[0m\u001b[0;34m,\u001b[0m\u001b[0;36m6\u001b[0m\u001b[0;34m)\u001b[0m\u001b[0;34m\u001b[0m\u001b[0;34m\u001b[0m\u001b[0m\n\u001b[0m",
      "\u001b[0;32m<ipython-input-4-1c1aefd8cbe7>\u001b[0m in \u001b[0;36mhierarchical_clustering\u001b[0;34m(data, linkage, no_of_clusters)\u001b[0m\n\u001b[1;32m      6\u001b[0m     \u001b[0;31m#making all the diagonal elements infinity\u001b[0m\u001b[0;34m\u001b[0m\u001b[0;34m\u001b[0m\u001b[0;34m\u001b[0m\u001b[0m\n\u001b[1;32m      7\u001b[0m     \u001b[0mnp\u001b[0m\u001b[0;34m.\u001b[0m\u001b[0mfill_diagonal\u001b[0m\u001b[0;34m(\u001b[0m\u001b[0minitial_distances\u001b[0m\u001b[0;34m,\u001b[0m\u001b[0msys\u001b[0m\u001b[0;34m.\u001b[0m\u001b[0mmaxsize\u001b[0m\u001b[0;34m)\u001b[0m\u001b[0;34m\u001b[0m\u001b[0;34m\u001b[0m\u001b[0m\n\u001b[0;32m----> 8\u001b[0;31m     \u001b[0mclusters\u001b[0m \u001b[0;34m=\u001b[0m \u001b[0mfind_clusters\u001b[0m\u001b[0;34m(\u001b[0m\u001b[0minitial_distances\u001b[0m\u001b[0;34m,\u001b[0m\u001b[0mlinkage\u001b[0m\u001b[0;34m)\u001b[0m\u001b[0;34m\u001b[0m\u001b[0;34m\u001b[0m\u001b[0m\n\u001b[0m\u001b[1;32m      9\u001b[0m \u001b[0;34m\u001b[0m\u001b[0m\n\u001b[1;32m     10\u001b[0m     \u001b[0;31m#plotting the clusters\u001b[0m\u001b[0;34m\u001b[0m\u001b[0;34m\u001b[0m\u001b[0;34m\u001b[0m\u001b[0m\n",
      "\u001b[0;32m<ipython-input-23-8121561c6440>\u001b[0m in \u001b[0;36mfind_clusters\u001b[0;34m(input, linkage, alpha)\u001b[0m\n\u001b[1;32m     20\u001b[0m             \u001b[0;32mfor\u001b[0m \u001b[0mj\u001b[0m \u001b[0;32min\u001b[0m \u001b[0mrange\u001b[0m\u001b[0;34m(\u001b[0m\u001b[0;36m0\u001b[0m\u001b[0;34m,\u001b[0m \u001b[0minput\u001b[0m\u001b[0;34m.\u001b[0m\u001b[0mshape\u001b[0m\u001b[0;34m[\u001b[0m\u001b[0;36m1\u001b[0m\u001b[0;34m]\u001b[0m\u001b[0;34m)\u001b[0m\u001b[0;34m:\u001b[0m\u001b[0;34m\u001b[0m\u001b[0;34m\u001b[0m\u001b[0m\n\u001b[1;32m     21\u001b[0m                 input[i][j] = input[i][j] + alpha * entropy(\n\u001b[0;32m---> 22\u001b[0;31m                     \u001b[0;34m[\u001b[0m\u001b[0mtaargets\u001b[0m\u001b[0;34m[\u001b[0m\u001b[0mx\u001b[0m\u001b[0;34m]\u001b[0m \u001b[0;32mfor\u001b[0m \u001b[0mx\u001b[0m \u001b[0;32min\u001b[0m \u001b[0mlist\u001b[0m\u001b[0;34m(\u001b[0m\u001b[0marray\u001b[0m\u001b[0;34m.\u001b[0m\u001b[0mindex\u001b[0m\u001b[0;34m(\u001b[0m\u001b[0marray\u001b[0m\u001b[0;34m[\u001b[0m\u001b[0mi\u001b[0m\u001b[0;34m]\u001b[0m\u001b[0;34m)\u001b[0m\u001b[0;34m)\u001b[0m\u001b[0;34m.\u001b[0m\u001b[0mappend\u001b[0m\u001b[0;34m(\u001b[0m\u001b[0mtaargets\u001b[0m\u001b[0;34m[\u001b[0m\u001b[0mj\u001b[0m\u001b[0;34m]\u001b[0m\u001b[0;34m)\u001b[0m\u001b[0;34m]\u001b[0m\u001b[0;34m\u001b[0m\u001b[0;34m\u001b[0m\u001b[0m\n\u001b[0m\u001b[1;32m     23\u001b[0m                 )\n\u001b[1;32m     24\u001b[0m \u001b[0;34m\u001b[0m\u001b[0m\n",
      "\u001b[0;31mTypeError\u001b[0m: 'int' object is not iterable"
     ]
    }
   ],
   "source": [
    "hierarchical_clustering(data,\"single\",6)"
   ]
  },
  {
   "cell_type": "markdown",
   "metadata": {},
   "source": [
    "###### First data[5] and data[2] will merge, i.e. point P3 and P6 from the blog"
   ]
  },
  {
   "cell_type": "code",
   "execution_count": 7,
   "metadata": {},
   "outputs": [
    {
     "name": "stdout",
     "output_type": "stream",
     "text": [
      "[0, 1, 2, 3, 4, 2]\n"
     ]
    },
    {
     "data": {
      "image/png": "[encoded data removed]",
      "text/plain": [
       "<Figure size 432x288 with 1 Axes>"
      ]
     },
     "metadata": {
      "needs_background": "light"
     },
     "output_type": "display_data"
    }
   ],
   "source": [
    "hierarchical_clustering(data,\"single\",5)\n",
    "#you can see that the color of data[2] and data[5] became same, thus they are in same cluster now"
   ]
  },
  {
   "cell_type": "markdown",
   "metadata": {},
   "source": [
    "###### Next merger data[1] and data[4],  i.e. P2 and P5 "
   ]
  },
  {
   "cell_type": "code",
   "execution_count": 8,
   "metadata": {},
   "outputs": [
    {
     "name": "stdout",
     "output_type": "stream",
     "text": [
      "[0, 1, 2, 3, 1, 2]\n"
     ]
    },
    {
     "data": {
      "image/png": "[encoded data removed]",
      "text/plain": [
       "<Figure size 432x288 with 1 Axes>"
      ]
     },
     "metadata": {
      "needs_background": "light"
     },
     "output_type": "display_data"
    }
   ],
   "source": [
    "hierarchical_clustering(data,\"single\",4)\n",
    "#you can see that the color of data[1] and data[4] also became same in color, thus they are in same cluster now"
   ]
  },
  {
   "cell_type": "markdown",
   "metadata": {},
   "source": [
    "###### Next merger, 2 clusters formed above will merge"
   ]
  },
  {
   "cell_type": "code",
   "execution_count": 9,
   "metadata": {},
   "outputs": [
    {
     "name": "stdout",
     "output_type": "stream",
     "text": [
      "[0, 1, 1, 3, 1, 1]\n"
     ]
    },
    {
     "data": {
      "image/png": "[encoded data removed]",
      "text/plain": [
       "<Figure size 432x288 with 1 Axes>"
      ]
     },
     "metadata": {
      "needs_background": "light"
     },
     "output_type": "display_data"
    }
   ],
   "source": [
    "hierarchical_clustering(data,\"single\",3)"
   ]
  },
  {
   "cell_type": "code",
   "execution_count": 10,
   "metadata": {},
   "outputs": [
    {
     "name": "stdout",
     "output_type": "stream",
     "text": [
      "[0, 1, 1, 1, 1, 1]\n"
     ]
    },
    {
     "data": {
      "image/png": "[encoded data removed]",
      "text/plain": [
       "<Figure size 432x288 with 1 Axes>"
      ]
     },
     "metadata": {
      "needs_background": "light"
     },
     "output_type": "display_data"
    }
   ],
   "source": [
    "hierarchical_clustering(data,\"single\",2)"
   ]
  },
  {
   "cell_type": "markdown",
   "metadata": {},
   "source": [
    "###### Finally all are in one cluster"
   ]
  },
  {
   "cell_type": "code",
   "execution_count": 11,
   "metadata": {},
   "outputs": [
    {
     "name": "stdout",
     "output_type": "stream",
     "text": [
      "[0, 0, 0, 0, 0, 0]\n"
     ]
    },
    {
     "data": {
      "image/png": "[encoded data removed]",
      "text/plain": [
       "<Figure size 432x288 with 1 Axes>"
      ]
     },
     "metadata": {
      "needs_background": "light"
     },
     "output_type": "display_data"
    }
   ],
   "source": [
    "hierarchical_clustering(data,\"single\",1)"
   ]
  },
  {
   "cell_type": "code",
   "execution_count": null,
   "metadata": {
    "collapsed": true,
    "jupyter": {
     "outputs_hidden": true
    }
   },
   "outputs": [],
   "source": []
  }
 ],
 "metadata": {
  "kernelspec": {
   "display_name": "Python 3",
   "language": "python",
   "name": "python3"
  },
  "language_info": {
   "codemirror_mode": {
    "name": "ipython",
    "version": 3
   },
   "file_extension": ".py",
   "mimetype": "text/x-python",
   "name": "python",
   "nbconvert_exporter": "python",
   "pygments_lexer": "ipython3",
   "version": "3.8.5"
  }
 },
 "nbformat": 4,
 "nbformat_minor": 4
}
